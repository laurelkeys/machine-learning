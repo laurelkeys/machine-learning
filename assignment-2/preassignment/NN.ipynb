{
 "cells": [
  {
   "cell_type": "markdown",
   "metadata": {},
   "source": [
    "## Importing libs"
   ]
  },
  {
   "cell_type": "code",
   "execution_count": 1,
   "metadata": {},
   "outputs": [],
   "source": [
    "import os\n",
    "import numpy as np\n",
    "import seaborn as sns\n",
    "import matplotlib.pyplot as plt"
   ]
  },
  {
   "cell_type": "code",
   "execution_count": 2,
   "metadata": {},
   "outputs": [],
   "source": [
    "%matplotlib inline\n",
    "plt.rcParams['figure.figsize'] = [2, 2]\n",
    "sns.set() # apply the seaborn defaults to plotted figures (e.g. theme, scaling, color palette), instead of matplotlib's"
   ]
  },
  {
   "cell_type": "markdown",
   "metadata": {},
   "source": [
    "## Functions and derivatives"
   ]
  },
  {
   "cell_type": "code",
   "execution_count": 3,
   "metadata": {},
   "outputs": [],
   "source": [
    "def linear(z):\n",
    "    return z\n",
    "\n",
    "def relu(z):\n",
    "    return np.maximum(0, z)\n",
    "\n",
    "def sigmoid(z, limit=500):\n",
    "    if limit != None:\n",
    "        z = np.clip(z, -limit, limit) # avoid overflow\n",
    "    return 1 / (1 + np.exp(-z))\n",
    "\n",
    "def softmax(y_pred, axis=-1):\n",
    "    exp = np.exp(y_pred)\n",
    "    return exp / np.sum(exp, axis=axis, keepdims=True)\n",
    "\n",
    "''' y.shape == y_pred.shape == (m, C), where:\n",
    "    - m is the number of examples\n",
    "    - C is the number of classes \n",
    "    Thus, each row of y and y_pred is a one-hot encoded vector of shape (1, C)\n",
    "'''    \n",
    "\n",
    "def cross_entropy(y, y_pred, axis=-1, eps=1e-12):\n",
    "    if eps != None:\n",
    "        y_pred = np.clip(y_pred, eps, 1 - eps) # avoid overflow\n",
    "    m = y_pred.shape[0]\n",
    "    return -np.sum(y * log(y_pred), axis=axis) / m\n",
    "\n",
    "def xent(y, y_pred):\n",
    "    return -np.sum(y * log(y_pred))"
   ]
  },
  {
   "cell_type": "code",
   "execution_count": 4,
   "metadata": {},
   "outputs": [],
   "source": [
    "def grad_linear(z):\n",
    "    return np.ones(shape=z.shape)\n",
    "\n",
    "def grad_relu(z):\n",
    "    return np.where(z > 0, 1, 0)\n",
    "\n",
    "def grad_sigmoid(z):\n",
    "    sigmoid_z = sigmoid(z)\n",
    "    return sigmoid_z * (1 - sigmoid_z)\n",
    "\n",
    "def grad_softmax(y_pred):\n",
    "    # y_pred[i]*(1-y_pred[j]) if i != j --> y_pred[i] - y_pred[i] * y_pred[j]\n",
    "    # -y_pred[i]*y_pred[j]    if i == j -->     0     - y_pred[i] * y_pred[j]\n",
    "    y_pred = y_pred.reshape(-1, 1)\n",
    "    return np.diagflat(y_pred) - np.dot(y_pred, y_pred.T)\n",
    "\n",
    "def grad_cross_entropy(y, y_pred, axis=-1):\n",
    "    return y_pred - y # FIXME"
   ]
  },
  {
   "cell_type": "markdown",
   "metadata": {},
   "source": [
    "## Neural Network\n",
    "\n",
    "From a layer $k-1$ to a layer $k$ we have:\n",
    "- Weights $W \\in \\mathbb{R}^{n_k \\times n_{k-1}}$\n",
    "- Biases $b \\in \\mathbb{R}^{n_k}$\n",
    "- Activations $a^{(k)} = g_k(z^{(k)}) \\in \\mathbb{R}^{n_k}$, where $g_k(z^{(k)})$ is the activation function of the $k^{\\text{th}}$ layer and $z^{(k)} = W^{(k)} a^{(k-1)} + b^{(k)}$\n",
    "\n",
    "(Xavier initialization: [[1]](https://prateekvjoshi.com/2016/03/29/understanding-xavier-initialization-in-deep-neural-networks/))\n",
    "\n",
    "For the first layer, the activation is the input itself: $a^{(1)} = x$  \n",
    "For the middle layers ($2 \\leq k < L$), the activation function is the sigmoid: $a^{(k)} = g_k(z^{(k)}) = sigmoid(z^{(k)})$  \n",
    "For the last layer, we have the predicted value with softmax activation: $a^{(L)} = g_k(z^{(L)}) = softmax(z^{(L)})$  \n",
    "(i.e. the hypothesis function $a^{(L)} = h_{W, b}(x) = y_{\\text{pred}} \\approx y$)\n",
    "\n",
    "obs.: the number of layers $L$ comes from: $1$ input layer + $1$ output layer + $L-2$ hidden layers"
   ]
  },
  {
   "cell_type": "code",
   "execution_count": 6,
   "metadata": {},
   "outputs": [],
   "source": [
    "import warnings\n",
    "\n",
    "# RANDOM_SEED = 886"
   ]
  },
  {
   "cell_type": "code",
   "execution_count": null,
   "metadata": {},
   "outputs": [],
   "source": [
    "class Layer:    \n",
    "    def __init__(self, input_size, output_size, \n",
    "                 activation_function, activation_function_derivative, \n",
    "                 weight_initialization='xavier'):\n",
    "        \n",
    "        self.input_size  = input_size\n",
    "        self.output_size = output_size\n",
    "        \n",
    "        self.g = activation_function\n",
    "        self.g_prime = activation_function_derivative\n",
    "        \n",
    "        # activation values\n",
    "        self.a = None # np.array(shape=(output_size, 1))\n",
    "        self.z = None # np.array(shape=(output_size, 1))\n",
    "        \n",
    "        if weight_initialization == 'xavier':\n",
    "            stddev = np.sqrt(1 / input_size)\n",
    "            self.W = stddev * np.random.randn(output_size, input_size)\n",
    "            self.b = np.random.randn(output_size, 1)\n",
    "        elif weight_initialization == 'xavier_avg':\n",
    "            stddev = np.sqrt(2 / (input_size + output_size))\n",
    "            self.W = stddev * np.random.randn(output_size, input_size)\n",
    "            self.b = np.random.randn(output_size, 1)\n",
    "        else:\n",
    "            raise ValueError(f\"Invalid weight_initialization value: '{weight_initialization}'\")\n",
    "\n",
    "class NN:\n",
    "    def __init__(self, cost_function, optimizer=None):\n",
    "        self.layers = []\n",
    "    \n",
    "    def add_layer(self, layer):\n",
    "        self.layers.append(layer)\n",
    "        \n",
    "    def predict(self, X):\n",
    "        activation = X\n",
    "        for l in range(1, L):\n",
    "            z = self.layers[l].W @ activation + self.layers[l].b\n",
    "            activation = self.layers[l].g(z)\n",
    "        return activation\n",
    "    \n",
    "    def feed_forward(self, X):\n",
    "        L = len(self.layers)\n",
    "        # note that we use zero-based indexing here, so\n",
    "        # the 1st layer is self.layers[0] and the last is self.layers[L - 1]\n",
    "        self.layers[0].a = X # input\n",
    "        for l in range(1, L):\n",
    "            self.layers[l].z = self.layers[l].W @ self.layers[l-1].a + self.layers[l].b\n",
    "            self.layers[l].a = self.layers[l].g(self.layers[l].z) # apply the activation function g to the weighted sum z\n",
    "        y_pred = self.layers[L-1] # output\n",
    "        return y_pred\n",
    "    \n",
    "    def backprop(self, X, y, learning_rate):\n",
    "        L = len(self.layers) # number of layers\n",
    "        m = X.shape[0]       # number of examples\n",
    "        \n",
    "        y_pred = self.feed_forward(x) # == self.layers[L-1].a\n",
    "        cost = self.J(y, y_pred)\n",
    "        \n",
    "        self.layers[L-1].error = y_pred - y\n",
    "        self.layers[L-1].delta = self.layers[L-1].error * self.layers[L-1].g_prime(y_pred)\n",
    "        for l in reversed(range(L-1)):\n",
    "            self.layers[l].error = (self.layers[l+1].W).T @ self.layers[l+1].delta\n",
    "            self.layers[l].delta = self.layers[l].error * self.layers[l].g_prime(self.layers[l].a)\n",
    "        \n",
    "        # TODO gradient descent\n",
    "        \n",
    "        pass\n",
    "    \n",
    "    def train(self, x, y):\n",
    "        #TODO\n",
    "        pass\n",
    "            \n",
    "    # TODO fit(trainning data), evaluate(validation data)\n",
    "        "
   ]
  }
 ],
 "metadata": {
  "kernelspec": {
   "display_name": "Python 3",
   "language": "python",
   "name": "python3"
  },
  "language_info": {
   "codemirror_mode": {
    "name": "ipython",
    "version": 3
   },
   "file_extension": ".py",
   "mimetype": "text/x-python",
   "name": "python",
   "nbconvert_exporter": "python",
   "pygments_lexer": "ipython3",
   "version": "3.7.4"
  }
 },
 "nbformat": 4,
 "nbformat_minor": 2
}
