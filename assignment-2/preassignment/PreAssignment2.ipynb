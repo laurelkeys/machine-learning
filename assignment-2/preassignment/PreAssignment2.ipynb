{
 "cells": [
  {
   "cell_type": "code",
   "execution_count": 1,
   "metadata": {},
   "outputs": [],
   "source": [
    "import os\n",
    "import numpy as np\n",
    "import seaborn as sns\n",
    "import matplotlib.pyplot as plt"
   ]
  },
  {
   "cell_type": "code",
   "execution_count": 2,
   "metadata": {},
   "outputs": [],
   "source": [
    "%matplotlib inline\n",
    "plt.rcParams['figure.figsize'] = [3, 3]\n",
    "sns.set() # apply the seaborn defaults to plotted figures (e.g. theme, scaling, color palette), instead of matplotlib's"
   ]
  },
  {
   "cell_type": "code",
   "execution_count": 3,
   "metadata": {},
   "outputs": [],
   "source": [
    "RANDOM_SEED = 886\n",
    "np.random.seed(RANDOM_SEED) # use for reproducibility"
   ]
  },
  {
   "cell_type": "code",
   "execution_count": 4,
   "metadata": {},
   "outputs": [
    {
     "name": "stdout",
     "output_type": "stream",
     "text": [
      "classes_and_names.csv\n",
      "images\n",
      "README.txt\n",
      "test.npz\n",
      "train.npz\n",
      "val.npz\n"
     ]
    }
   ],
   "source": [
    "!ls ../mini_cinic10/"
   ]
  },
  {
   "cell_type": "code",
   "execution_count": 5,
   "metadata": {},
   "outputs": [],
   "source": [
    "PATH_TO_DATA = os.path.join(\"..\", \"mini_cinic10\")\n",
    "\n",
    "train_data = np.load(os.path.join(PATH_TO_DATA, \"train.npz\"))\n",
    "val_data   = np.load(os.path.join(PATH_TO_DATA, \"val.npz\"))\n",
    "# test_data  = np.load(os.path.join(PATH_TO_DATA, \"test.npz\")) # assume this doesn't exist"
   ]
  },
  {
   "cell_type": "code",
   "execution_count": 6,
   "metadata": {},
   "outputs": [],
   "source": [
    "X, y = train_data['xs'], train_data['ys']\n",
    "X_val, y_val = val_data['xs'], val_data['ys']"
   ]
  },
  {
   "cell_type": "code",
   "execution_count": 7,
   "metadata": {},
   "outputs": [
    {
     "name": "stdout",
     "output_type": "stream",
     "text": [
      "Train: \n",
      "X: (80000, 3072) uint8\n",
      "y: (80000,) uint8\n",
      "\n",
      "Validation: \n",
      "X_val: (10000, 3072) uint8\n",
      "y_val: (10000,) uint8\n"
     ]
    }
   ],
   "source": [
    "print(\"Train: \")\n",
    "print(\"X:\", X.shape, X.dtype) # 3072 = 3 * 1024 = 3 * (32 * 32)\n",
    "print(\"y:\", y.shape, y.dtype)\n",
    "\n",
    "print(\"\\nValidation: \")\n",
    "print(\"X_val:\", X_val.shape, X_val.dtype) # 3072 = 3 * 1024 = 3 * (32 * 32)\n",
    "print(\"y_val:\", y_val.shape, y_val.dtype)"
   ]
  },
  {
   "cell_type": "code",
   "execution_count": 8,
   "metadata": {},
   "outputs": [],
   "source": [
    "IMG_WIDTH = IMG_HEIGHT = 32\n",
    "IMG_SHAPE = (IMG_HEIGHT, IMG_WIDTH, 3) # RGB images\n",
    "IMG_FLAT_SHAPE = (IMG_HEIGHT*IMG_WIDTH*3, )\n",
    "\n",
    "# classes_and_names.csv\n",
    "CLASS_NAMES = {\n",
    "    0: \"airplane\",\n",
    "    1: \"automobile\",\n",
    "    2: \"bird\",\n",
    "    3: \"cat\",\n",
    "    4: \"deer\",\n",
    "    5: \"dog\",\n",
    "    6: \"frog\",\n",
    "    7: \"horse\",\n",
    "    8: \"ship\",\n",
    "    9: \"truck\",\n",
    "}\n",
    "CLASS_COUNT = len(CLASS_NAMES)"
   ]
  },
  {
   "cell_type": "code",
   "execution_count": 9,
   "metadata": {},
   "outputs": [],
   "source": [
    "def unflatten(flat_img):\n",
    "    ''' Reverts a flattened image back into a 3-layer RGB matrix representation '''\n",
    "    return flat_img.reshape(IMG_SHAPE)"
   ]
  },
  {
   "cell_type": "code",
   "execution_count": 10,
   "metadata": {},
   "outputs": [],
   "source": [
    "def show_image(img_index, X, y, figsize=None):\n",
    "    ''' Shows the image represented by img_index-th row of X '''\n",
    "    if figsize != None:\n",
    "        fig = plt.figure(figsize=figsize)\n",
    "    plt.imshow(unflatten(X[img_index]))\n",
    "    plt.title(f'idx #{img_index} ({CLASS_NAMES[y[img_index]]})')\n",
    "    plt.axis(False)\n",
    "    plt.show()"
   ]
  },
  {
   "cell_type": "code",
   "execution_count": 11,
   "metadata": {
    "scrolled": true
   },
   "outputs": [
    {
     "data": {
      "image/png": "[encoded data removed]",
      "text/plain": [
       "<Figure size 216x216 with 1 Axes>"
      ]
     },
     "metadata": {},
     "output_type": "display_data"
    }
   ],
   "source": [
    "show_image(0, X, y)"
   ]
  },
  {
   "cell_type": "code",
   "execution_count": 12,
   "metadata": {},
   "outputs": [
    {
     "data": {
      "text/plain": [
       "(80000,)"
      ]
     },
     "execution_count": 12,
     "metadata": {},
     "output_type": "execute_result"
    }
   ],
   "source": [
    "y.shape"
   ]
  },
  {
   "cell_type": "code",
   "execution_count": 13,
   "metadata": {},
   "outputs": [],
   "source": [
    "def onehot_encode(y):\n",
    "    n_examples, *_ = y.shape\n",
    "    onehot = np.zeros(shape=(n_examples, CLASS_COUNT))\n",
    "    onehot[:, y] = 1\n",
    "    return onehot"
   ]
  },
  {
   "cell_type": "code",
   "execution_count": 14,
   "metadata": {},
   "outputs": [],
   "source": [
    "onehot_y = onehot_encode(y) # makes y a onehot encoded vector\n",
    "onehot_y_val = onehot_encode(y_val)"
   ]
  },
  {
   "cell_type": "code",
   "execution_count": 15,
   "metadata": {},
   "outputs": [
    {
     "name": "stdout",
     "output_type": "stream",
     "text": [
      "Train: \n",
      "onehot_y: (80000, 10) float64\n",
      "\n",
      "Validation: \n",
      "onehot_y_val: (10000, 10) float64\n"
     ]
    }
   ],
   "source": [
    "print(\"Train: \")\n",
    "print(\"onehot_y:\", onehot_y.shape, onehot_y.dtype)\n",
    "\n",
    "print(\"\\nValidation: \")\n",
    "print(\"onehot_y_val:\", onehot_y_val.shape, onehot_y_val.dtype)"
   ]
  },
  {
   "cell_type": "code",
   "execution_count": 16,
   "metadata": {},
   "outputs": [],
   "source": [
    "def z_score_normalized(X, eps=1e-12):\n",
    "    mu = np.mean(X)\n",
    "    sigma = np.std(X)\n",
    "    return (X - mu) / (sigma if sigma != 0 else eps)"
   ]
  },
  {
   "cell_type": "code",
   "execution_count": 17,
   "metadata": {},
   "outputs": [
    {
     "name": "stdout",
     "output_type": "stream",
     "text": [
      "mean: 3.145816940275381e-17 std: 0.9999999999999993\n",
      "mean: 5.884922179196413e-17 std: 0.9999999999999993\n"
     ]
    }
   ],
   "source": [
    "normalized_X = z_score_normalized(X)\n",
    "normalized_X_val = z_score_normalized(X_val)\n",
    "\n",
    "print(\"mean:\", np.mean(normalized_X), \"std:\", np.std(normalized_X))\n",
    "print(\"mean:\", np.mean(normalized_X_val), \"std:\", np.std(normalized_X_val))"
   ]
  },
  {
   "cell_type": "code",
   "execution_count": 18,
   "metadata": {},
   "outputs": [],
   "source": [
    "def sigmoid(z):\n",
    "    return 1 / (1 + np.exp(-z))"
   ]
  },
  {
   "cell_type": "code",
   "execution_count": 19,
   "metadata": {},
   "outputs": [],
   "source": [
    "def h_theta(theta, X):\n",
    "    z = X.dot(theta)\n",
    "    return sigmoid(z)"
   ]
  },
  {
   "cell_type": "code",
   "execution_count": 20,
   "metadata": {},
   "outputs": [],
   "source": [
    "def softmax(z):\n",
    "    return np.exp(z) / np.sum(np.exp(z))"
   ]
  },
  {
   "cell_type": "code",
   "execution_count": 21,
   "metadata": {},
   "outputs": [],
   "source": [
    "def log(z, eps=1e-32):\n",
    "    return np.log(np.maximum(z, eps))\n",
    "\n",
    "def binary_cross_entropy(theta, X, y):\n",
    "    y_pred = h_theta(theta, X)\n",
    "    return -y*log(y_pred) - (1 - y)*log(1 - y_pred)"
   ]
  },
  {
   "cell_type": "code",
   "execution_count": 22,
   "metadata": {},
   "outputs": [],
   "source": [
    "def loss_function(theta, X, y):\n",
    "    return binary_cross_entropy(theta, X, y).mean()"
   ]
  },
  {
   "cell_type": "code",
   "execution_count": 23,
   "metadata": {},
   "outputs": [],
   "source": [
    "def shuffled_X_y(X, y, seed):\n",
    "    assert(X.shape[0] == y.shape[0]), f\"X.shape[0] != y.shape[0] for shapes: {X.shape} of X, and {y.shape} of y\"\n",
    "    m = y.shape[0]\n",
    "    p = np.random.permutation(m)\n",
    "    return X[p], y[p]"
   ]
  },
  {
   "cell_type": "code",
   "execution_count": 24,
   "metadata": {},
   "outputs": [],
   "source": [
    "''' Returns a (n+1) x 1 array with the gradient values for each theta_j. '''\n",
    "def eval_gradient(theta, X, y):\n",
    "    assert(X.shape[0] == y.shape[0]), f\"X.shape[0] != y.shape[0] for shapes: {X.shape} of X, and {y.shape} of y\"\n",
    "    assert(X.shape[1] == theta.shape[0]), f\"X.shape[1] != theta.shape[0] for shapes: {X.shape} of X, and {theta.shape} of theta\"\n",
    "    \n",
    "    m = X.shape[0]\n",
    "    y_pred = h_theta(theta, X)\n",
    "    \n",
    "    # gradient for every theta (an array with each j-th element being the partial derivative of J with respect to theta_j)\n",
    "    return (1 / m) * X.T.dot(y_pred - y)"
   ]
  },
  {
   "cell_type": "code",
   "execution_count": 25,
   "metadata": {},
   "outputs": [],
   "source": [
    "''' Returns a (n+1) x 1 array with the updated values for each parameter theta_j. \n",
    "\n",
    "    If batch_size is specified, acts as a Mini Batch GD, otherwise, it works like Vanilla GD.\n",
    "\n",
    "    Assumes that 'X' is a matrix with shape=(n_examples, n_features), with a first column of 1's, and that\n",
    "    'y' is an array of shape=(n_examples, 1) with the corresponding target values for each row of 'X'.\n",
    "    \n",
    "    n_examples = m\n",
    "    n_features = n+1 (x_0 = 1 for every row i in [1, m], i.e. X[i, 0] = 1)\n",
    "'''\n",
    "def batch_GD_step(theta, X, y, learning_rate, batch_size=None):\n",
    "    if not batch_size:\n",
    "        # vanilla\n",
    "        theta_grad = eval_gradient(theta, X, y)\n",
    "        theta -= learning_rate * theta_grad\n",
    "    else:\n",
    "        # mini batch\n",
    "        X, y = shuffled_X_y(X, y, seed=RANDOM_SEED)\n",
    "        for batch_X, batch_y in get_batches(X, y, batch_size):\n",
    "            theta_grad = eval_gradient(theta, batch_X, batch_y)\n",
    "            theta -= learning_rate * theta_grad\n",
    "    return theta"
   ]
  },
  {
   "cell_type": "markdown",
   "metadata": {},
   "source": [
    "## Gradient Descent Loop"
   ]
  },
  {
   "cell_type": "code",
   "execution_count": 41,
   "metadata": {},
   "outputs": [],
   "source": [
    "def get_randomly_initialized_theta(n_features, rand_seed=RANDOM_SEED):\n",
    "    rand = np.random.RandomState(seed=rand_seed)\n",
    "    sigma = np.sqrt(2 / (n_features + 1))\n",
    "    return sigma * rand.randn(n_features, CLASS_COUNT)\n",
    "\n",
    "def get_zero_initialized_theta(n_features):\n",
    "    return np.zeros(shape=(n_features, CLASS_COUNT))"
   ]
  },
  {
   "cell_type": "code",
   "execution_count": 42,
   "metadata": {},
   "outputs": [],
   "source": [
    "rand_theta = get_randomly_initialized_theta(n_features=IMG_FLAT_SHAPE[0])"
   ]
  },
  {
   "cell_type": "code",
   "execution_count": 46,
   "metadata": {},
   "outputs": [
    {
     "name": "stdout",
     "output_type": "stream",
     "text": [
      "elapsed time for vectorized gradient descent step: 1.0107s\n"
     ]
    }
   ],
   "source": [
    "import time\n",
    "\n",
    "start = time.time()\n",
    "batch_GD_step(rand_theta, normalized_X, onehot_y, learning_rate=0.001, batch_size=None)\n",
    "vec_elapsed = time.time() - start\n",
    "\n",
    "print(f'elapsed time for vectorized gradient descent step: {vec_elapsed:.4f}s')"
   ]
  },
  {
   "cell_type": "code",
   "execution_count": null,
   "metadata": {},
   "outputs": [],
   "source": []
  }
 ],
 "metadata": {
  "kernelspec": {
   "display_name": "Python 3",
   "language": "python",
   "name": "python3"
  },
  "language_info": {
   "codemirror_mode": {
    "name": "ipython",
    "version": 3
   },
   "file_extension": ".py",
   "mimetype": "text/x-python",
   "name": "python",
   "nbconvert_exporter": "python",
   "pygments_lexer": "ipython3",
   "version": "3.7.4"
  }
 },
 "nbformat": 4,
 "nbformat_minor": 2
}
