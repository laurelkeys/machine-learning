{
 "cells": [
  {
   "cell_type": "code",
   "execution_count": 1,
   "metadata": {},
   "outputs": [],
   "source": [
    "import os\n",
    "import numpy as np\n",
    "import seaborn as sns\n",
    "import matplotlib.pyplot as plt"
   ]
  },
  {
   "cell_type": "code",
   "execution_count": 2,
   "metadata": {},
   "outputs": [],
   "source": [
    "%matplotlib inline\n",
    "plt.rcParams['figure.figsize'] = [3, 3]\n",
    "sns.set() # apply the seaborn defaults to plotted figures (e.g. theme, scaling, color palette), instead of matplotlib's"
   ]
  },
  {
   "cell_type": "code",
   "execution_count": 3,
   "metadata": {},
   "outputs": [],
   "source": [
    "RANDOM_SEED = 886\n",
    "np.random.seed(RANDOM_SEED) # use for reproducibility"
   ]
  },
  {
   "cell_type": "code",
   "execution_count": 4,
   "metadata": {},
   "outputs": [
    {
     "name": "stdout",
     "output_type": "stream",
     "text": [
      "classes_and_names.csv\n",
      "images\n",
      "README.txt\n",
      "test.npz\n",
      "train.npz\n",
      "val.npz\n"
     ]
    }
   ],
   "source": [
    "!ls ../mini_cinic10/"
   ]
  },
  {
   "cell_type": "code",
   "execution_count": 5,
   "metadata": {},
   "outputs": [],
   "source": [
    "PATH_TO_DATA = os.path.join(\"..\", \"mini_cinic10\")\n",
    "\n",
    "train_data = np.load(os.path.join(PATH_TO_DATA, \"train.npz\"))\n",
    "val_data   = np.load(os.path.join(PATH_TO_DATA, \"val.npz\"))\n",
    "# test_data  = np.load(os.path.join(PATH_TO_DATA, \"test.npz\")) # assume this doesn't exist"
   ]
  },
  {
   "cell_type": "code",
   "execution_count": 6,
   "metadata": {},
   "outputs": [],
   "source": [
    "X, y = train_data['xs'], train_data['ys']\n",
    "X_val, y_val = val_data['xs'], val_data['ys']"
   ]
  },
  {
   "cell_type": "code",
   "execution_count": 7,
   "metadata": {},
   "outputs": [
    {
     "name": "stdout",
     "output_type": "stream",
     "text": [
      "Train: \n",
      "X: (80000, 3072) uint8\n",
      "y: (80000,) uint8\n",
      "\n",
      "Validation: \n",
      "X_val: (10000, 3072) uint8\n",
      "y_val: (10000,) uint8\n"
     ]
    }
   ],
   "source": [
    "print(\"Train: \")\n",
    "print(\"X:\", X.shape, X.dtype) # 3072 = 3 * 1024 = 3 * (32 * 32)\n",
    "print(\"y:\", y.shape, y.dtype)\n",
    "\n",
    "print(\"\\nValidation: \")\n",
    "print(\"X_val:\", X_val.shape, X_val.dtype) # 3072 = 3 * 1024 = 3 * (32 * 32)\n",
    "print(\"y_val:\", y_val.shape, y_val.dtype)"
   ]
  },
  {
   "cell_type": "code",
   "execution_count": 8,
   "metadata": {},
   "outputs": [],
   "source": [
    "IMG_WIDTH = IMG_HEIGHT = 32\n",
    "IMG_SHAPE = (IMG_HEIGHT, IMG_WIDTH, 3) # RGB images\n",
    "IMG_FLAT_SHAPE = (IMG_HEIGHT*IMG_WIDTH*3, )\n",
    "\n",
    "# classes_and_names.csv\n",
    "CLASS_NAMES = {\n",
    "    0: \"airplane\",\n",
    "    1: \"automobile\",\n",
    "    2: \"bird\",\n",
    "    3: \"cat\",\n",
    "    4: \"deer\",\n",
    "    5: \"dog\",\n",
    "    6: \"frog\",\n",
    "    7: \"horse\",\n",
    "    8: \"ship\",\n",
    "    9: \"truck\",\n",
    "}\n",
    "CLASS_COUNT = len(CLASS_NAMES)"
   ]
  },
  {
   "cell_type": "code",
   "execution_count": 9,
   "metadata": {},
   "outputs": [],
   "source": [
    "def unflatten(flat_img):\n",
    "    ''' Reverts a flattened image back into a 3-layer RGB matrix representation '''\n",
    "    return flat_img.reshape(IMG_SHAPE)"
   ]
  },
  {
   "cell_type": "code",
   "execution_count": 10,
   "metadata": {},
   "outputs": [],
   "source": [
    "def show_image(img_index, X, y, figsize=None):\n",
    "    ''' Shows the image represented by img_index-th row of X '''\n",
    "    if figsize != None:\n",
    "        fig = plt.figure(figsize=figsize)\n",
    "    plt.imshow(unflatten(X[img_index]))\n",
    "    plt.title(f'idx #{img_index} ({CLASS_NAMES[y[img_index]]})')\n",
    "    plt.axis(False)\n",
    "    plt.show()"
   ]
  },
  {
   "cell_type": "code",
   "execution_count": 11,
   "metadata": {
    "scrolled": true
   },
   "outputs": [
    {
     "data": {
      "image/png": "[encoded data removed]",
      "text/plain": [
       "<Figure size 216x216 with 1 Axes>"
      ]
     },
     "metadata": {},
     "output_type": "display_data"
    }
   ],
   "source": [
    "show_image(0, X, y)"
   ]
  },
  {
   "cell_type": "code",
   "execution_count": 12,
   "metadata": {},
   "outputs": [
    {
     "data": {
      "text/plain": [
       "(80000,)"
      ]
     },
     "execution_count": 12,
     "metadata": {},
     "output_type": "execute_result"
    }
   ],
   "source": [
    "y.shape"
   ]
  },
  {
   "cell_type": "code",
   "execution_count": 13,
   "metadata": {},
   "outputs": [],
   "source": [
    "def onehot_encode(y):\n",
    "    n_examples, *_ = y.shape\n",
    "    onehot = np.zeros(shape=(n_examples, CLASS_COUNT))\n",
    "    onehot[np.arange(n_examples), y] = 1\n",
    "    return onehot"
   ]
  },
  {
   "cell_type": "code",
   "execution_count": 14,
   "metadata": {},
   "outputs": [],
   "source": [
    "onehot_y = onehot_encode(y) # makes y a onehot encoded vector\n",
    "onehot_y_val = onehot_encode(y_val)"
   ]
  },
  {
   "cell_type": "code",
   "execution_count": 15,
   "metadata": {},
   "outputs": [
    {
     "name": "stdout",
     "output_type": "stream",
     "text": [
      "Train: \n",
      "onehot_y: (80000, 10) float64\n",
      "\n",
      "Validation: \n",
      "onehot_y_val: (10000, 10) float64\n"
     ]
    }
   ],
   "source": [
    "print(\"Train: \")\n",
    "print(\"onehot_y:\", onehot_y.shape, onehot_y.dtype)\n",
    "\n",
    "print(\"\\nValidation: \")\n",
    "print(\"onehot_y_val:\", onehot_y_val.shape, onehot_y_val.dtype)"
   ]
  },
  {
   "cell_type": "code",
   "execution_count": 16,
   "metadata": {},
   "outputs": [],
   "source": [
    "def z_score_normalized(X, eps=1e-12):\n",
    "    mu = np.mean(X)\n",
    "    sigma = np.std(X)\n",
    "    return (X - mu) / (sigma if sigma != 0 else eps)"
   ]
  },
  {
   "cell_type": "code",
   "execution_count": 17,
   "metadata": {},
   "outputs": [
    {
     "name": "stdout",
     "output_type": "stream",
     "text": [
      "mean: 3.145816940275381e-17 std: 0.9999999999999993\n",
      "mean: 5.884922179196413e-17 std: 0.9999999999999993\n"
     ]
    }
   ],
   "source": [
    "normalized_X = z_score_normalized(X)\n",
    "normalized_X_val = z_score_normalized(X_val)\n",
    "\n",
    "print(\"mean:\", np.mean(normalized_X), \"std:\", np.std(normalized_X))\n",
    "print(\"mean:\", np.mean(normalized_X_val), \"std:\", np.std(normalized_X_val))"
   ]
  },
  {
   "cell_type": "code",
   "execution_count": 18,
   "metadata": {},
   "outputs": [],
   "source": [
    "def sigmoid(z):\n",
    "    return 1 / (1 + np.exp(-z))"
   ]
  },
  {
   "cell_type": "code",
   "execution_count": 19,
   "metadata": {},
   "outputs": [],
   "source": [
    "def softmax(z, eps=1e-12):\n",
    "    exp_z_sum = np.sum(np.exp(z))\n",
    "    return np.exp(z) / (exp_z_sum if exp_z_sum != 0 else eps)"
   ]
  },
  {
   "cell_type": "code",
   "execution_count": 20,
   "metadata": {},
   "outputs": [],
   "source": [
    "def h_theta(theta, b, X, y):\n",
    "    z = X.dot(theta) + b\n",
    "    return softmax(z)"
   ]
  },
  {
   "cell_type": "code",
   "execution_count": 21,
   "metadata": {},
   "outputs": [],
   "source": [
    "def log(z, eps=1e-32):\n",
    "    return np.log(np.maximum(z, eps))\n",
    "\n",
    "def categorical_cross_entropy(theta, b, X, y):\n",
    "    y_pred = h_theta(theta, b, X, y)\n",
    "    return -np.sum(y*log(y_pred))"
   ]
  },
  {
   "cell_type": "code",
   "execution_count": 22,
   "metadata": {},
   "outputs": [],
   "source": [
    "def loss_function(theta, b, X, y):\n",
    "    return categorical_cross_entropy(theta, b, X, y)"
   ]
  },
  {
   "cell_type": "code",
   "execution_count": 23,
   "metadata": {},
   "outputs": [],
   "source": [
    "def shuffled_X_y(X, y, seed):\n",
    "    assert(X.shape[0] == y.shape[0]), f\"X.shape[0] != y.shape[0] for shapes: {X.shape} of X, and {y.shape} of y\"\n",
    "    m = y.shape[0]\n",
    "    p = np.random.permutation(m)\n",
    "    return X[p], y[p]"
   ]
  },
  {
   "cell_type": "code",
   "execution_count": 24,
   "metadata": {},
   "outputs": [],
   "source": [
    "def eval_gradient(theta, b, X, y):\n",
    "    assert(X.shape[0] == y.shape[0]), f\"X.shape[0] != y.shape[0] for shapes: {X.shape} of X, and {y.shape} of y\"\n",
    "    assert(X.shape[1] == theta.shape[0]), f\"X.shape[1] != theta.shape[0] for shapes: {X.shape} of X, and {theta.shape} of theta\"\n",
    "    \n",
    "    m = X.shape[0]\n",
    "    y_pred = h_theta(theta, b, X, y)\n",
    "    \n",
    "    return (1 / m) * X.T.dot(y_pred - y), (1 / m) * (y_pred - y).T.dot(np.ones(m)) # FIXME"
   ]
  },
  {
   "cell_type": "code",
   "execution_count": 25,
   "metadata": {},
   "outputs": [],
   "source": [
    "def get_batches(X, y, batch_size):\n",
    "    assert(X.shape[0] == y.shape[0]), f\"X.shape[0] != y.shape[0] for shapes: {X.shape} of X, and {y.shape} of y\"\n",
    "    m = y.shape[0]\n",
    "    n_of_batches = m // batch_size\n",
    "    try:\n",
    "        return zip(np.split(X, n_of_batches), np.split(y, n_of_batches))\n",
    "    except:\n",
    "        warnings.warn(f\"batch_size={batch_size} does not result in an equal division for shapes: \" +\n",
    "                      f\"{X.shape} of X, and {y.shape} of y. The last batch will have size {m % batch_size}\")\n",
    "        return zip(np.array_split(X, n_of_batches), np.array_split(y, n_of_batches))"
   ]
  },
  {
   "cell_type": "code",
   "execution_count": 26,
   "metadata": {},
   "outputs": [],
   "source": [
    "def batch_GD_step(theta, b, X, y, learning_rate, batch_size=None):\n",
    "    if not batch_size:\n",
    "        # vanilla\n",
    "        theta_grad, b_grad = eval_gradient(theta, b, X, y)\n",
    "        theta -= learning_rate * theta_grad\n",
    "        b -= b * b_grad\n",
    "    else:\n",
    "        # mini batch\n",
    "        X, y = shuffled_X_y(X, y, seed=RANDOM_SEED)\n",
    "        for batch_X, batch_y in get_batches(X, y, batch_size):\n",
    "            theta_grad, b_grad = eval_gradient(theta, b, batch_X, batch_y)\n",
    "            theta -= learning_rate * theta_grad\n",
    "            b -= b * b_grad\n",
    "    return theta, b"
   ]
  },
  {
   "cell_type": "markdown",
   "metadata": {},
   "source": [
    "## Gradient Descent Loop"
   ]
  },
  {
   "cell_type": "code",
   "execution_count": 27,
   "metadata": {},
   "outputs": [],
   "source": [
    "def get_randomly_initialized_theta(n_features, rand_seed=RANDOM_SEED):\n",
    "    rand = np.random.RandomState(seed=rand_seed)\n",
    "    sigma = np.sqrt(2 / (n_features + 1))\n",
    "    return sigma * rand.randn(n_features, CLASS_COUNT)\n",
    "\n",
    "def get_zero_initialized_theta(n_features):\n",
    "    return np.zeros(shape=(n_features, CLASS_COUNT))"
   ]
  },
  {
   "cell_type": "code",
   "execution_count": 28,
   "metadata": {},
   "outputs": [
    {
     "name": "stdout",
     "output_type": "stream",
     "text": [
      "(3072, 10) (10,)\n"
     ]
    }
   ],
   "source": [
    "rand_theta = get_randomly_initialized_theta(n_features=IMG_FLAT_SHAPE[0])\n",
    "bias = np.zeros(CLASS_COUNT)\n",
    "\n",
    "print(rand_theta.shape, bias.shape)"
   ]
  },
  {
   "cell_type": "code",
   "execution_count": 29,
   "metadata": {},
   "outputs": [
    {
     "name": "stdout",
     "output_type": "stream",
     "text": [
      "elapsed time for vectorized gradient descent step: 1.9344s\n"
     ]
    }
   ],
   "source": [
    "import time\n",
    "\n",
    "start = time.time()\n",
    "batch_GD_step(rand_theta, bias, normalized_X, onehot_y, learning_rate=0.001, batch_size=64)\n",
    "vec_elapsed = time.time() - start\n",
    "\n",
    "print(f'elapsed time for vectorized gradient descent step: {vec_elapsed:.4f}s')"
   ]
  },
  {
   "cell_type": "code",
   "execution_count": 30,
   "metadata": {},
   "outputs": [],
   "source": [
    "def __gradient_descent(theta, b, X, y, X_val, y_val, learning_rate, n_epochs, batch_size=None):\n",
    "    \n",
    "    loss = loss_function(theta, b, X, y)\n",
    "    val_loss = loss_function(theta, b, X_val, y_val)\n",
    "    \n",
    "    # stores the best values for minimizing J(theta) on the validation set\n",
    "    best_params = theta.copy(), b.copy()\n",
    "    best_val_loss = val_loss\n",
    "    \n",
    "    # save the loss values for plotting\n",
    "    history = { \n",
    "        \"best_val_loss\": best_val_loss, \n",
    "        \"best_val_loss_epoch\": 0, \n",
    "        \"loss\": [loss], # training set\n",
    "        \"val_loss\": [val_loss] # validation set\n",
    "    }\n",
    "    \n",
    "    for epoch in range(n_epochs):\n",
    "        theta, b = batch_GD_step(theta, b, X, y, learning_rate, batch_size)\n",
    "    \n",
    "        loss = loss_function(theta, b, X, y)\n",
    "        history[\"loss\"].append(loss) # training set\n",
    "        \n",
    "        val_loss = loss_function(theta, b, X_val, y_val)\n",
    "        history[\"val_loss\"].append(val_loss) # validation set\n",
    "        \n",
    "        # update the best loss and store the current parameters if val_loss < best_val_loss\n",
    "        if val_loss < best_val_loss:\n",
    "            best_val_loss = val_loss\n",
    "            best_params = theta.copy(), b.copy()\n",
    "            history[\"best_val_loss_epoch\"] = epoch + 1\n",
    "        \n",
    "        print(f\"({epoch + 1} / {n_epochs}) training: {loss:.4f} | validation: {val_loss:.4f}\", end='\\r')\n",
    "        \n",
    "    history[\"best_val_loss\"] = best_val_loss\n",
    "    return best_params, history"
   ]
  },
  {
   "cell_type": "markdown",
   "metadata": {},
   "source": [
    "## Trainning"
   ]
  },
  {
   "cell_type": "code",
   "execution_count": 31,
   "metadata": {},
   "outputs": [],
   "source": [
    "import warnings"
   ]
  },
  {
   "cell_type": "code",
   "execution_count": 35,
   "metadata": {},
   "outputs": [],
   "source": [
    "def train(theta, b, X, y, X_val, y_val, learning_rate, n_epochs, batch_size=None):\n",
    "    if batch_size == None:\n",
    "        warnings.warn(\"Did you forget to specify batch_size? You're running a vannila gradient descent\")\n",
    "    \n",
    "    best_params, history = __gradient_descent(theta, b, X, y, X_val, y_val, learning_rate, n_epochs, batch_size)\n",
    "    \n",
    "    history[\"batch_size\"]    = batch_size\n",
    "    history[\"learning_rate\"] = learning_rate\n",
    "    history[\"n_epochs\"]      = n_epochs\n",
    "    \n",
    "    return best_params, history # (theta, b), history"
   ]
  },
  {
   "cell_type": "code",
   "execution_count": 33,
   "metadata": {},
   "outputs": [],
   "source": [
    "from matplotlib import style\n",
    "from matplotlib import colors as mpl_colors\n",
    "\n",
    "def get_colors():\n",
    "    colors = [\n",
    "        '#348ABD',\n",
    "        '#E24A33',\n",
    "        '#A60628',\n",
    "        '#467821',\n",
    "        '#CF4457',\n",
    "        '#7A68A6',\n",
    "        '#188487',\n",
    "    ]\n",
    "    init_colors = set(colors)\n",
    "    other_colors = sorted(mpl_colors.cnames.keys())\n",
    "    colors.extend(c for c in other_colors if c not in init_colors)\n",
    "    return colors\n",
    "\n",
    "def plot_train_history(hist):\n",
    "    keys = sorted(hist.keys())\n",
    "    for k, c in zip(keys, get_colors()):\n",
    "        plt.plot(hist[k], color=c)\n",
    "    plt.legend(keys, loc='upper left')\n",
    "    plt.xlabel('epoch')\n",
    "    plt.ylabel('metric')\n",
    "    plt.title('train metrics')\n",
    "    plt.show()"
   ]
  },
  {
   "cell_type": "code",
   "execution_count": 36,
   "metadata": {},
   "outputs": [
    {
     "name": "stdout",
     "output_type": "stream",
     "text": [
      "(8 / 20) training: 5893479.1482 | validation: 736759.6375\r"
     ]
    },
    {
     "name": "stderr",
     "output_type": "stream",
     "text": [
      "d:\\documents\\github\\unicamp\\lib\\site-packages\\ipykernel_launcher.py:2: RuntimeWarning: overflow encountered in exp\n",
      "  \n",
      "d:\\documents\\github\\unicamp\\lib\\site-packages\\numpy\\core\\fromnumeric.py:90: RuntimeWarning: overflow encountered in reduce\n",
      "  return ufunc.reduce(obj, axis, dtype, out, **passkwargs)\n",
      "d:\\documents\\github\\unicamp\\lib\\site-packages\\ipykernel_launcher.py:3: RuntimeWarning: overflow encountered in exp\n",
      "  This is separate from the ipykernel package so we can avoid doing imports until\n",
      "d:\\documents\\github\\unicamp\\lib\\site-packages\\ipykernel_launcher.py:3: RuntimeWarning: invalid value encountered in true_divide\n",
      "  This is separate from the ipykernel package so we can avoid doing imports until\n"
     ]
    },
    {
     "name": "stdout",
     "output_type": "stream",
     "text": [
      "(20 / 20) training: nan | validation: nan67.8609\r"
     ]
    }
   ],
   "source": [
    "theta, history = train(\n",
    "    rand_theta, bias,\n",
    "    normalized_X, onehot_y, normalized_X_val, onehot_y_val,\n",
    "    learning_rate=0.0001,\n",
    "    n_epochs=20, batch_size=64\n",
    ")"
   ]
  },
  {
   "cell_type": "code",
   "execution_count": 41,
   "metadata": {},
   "outputs": [
    {
     "data": {
      "image/png": "[encoded data removed]",
      "text/plain": [
       "<Figure size 216x216 with 1 Axes>"
      ]
     },
     "metadata": {},
     "output_type": "display_data"
    }
   ],
   "source": [
    "plot_train_history({ 'loss': history['loss'], 'val_loss': history['val_loss'] })"
   ]
  },
  {
   "cell_type": "code",
   "execution_count": null,
   "metadata": {},
   "outputs": [],
   "source": []
  }
 ],
 "metadata": {
  "kernelspec": {
   "display_name": "Python 3",
   "language": "python",
   "name": "python3"
  },
  "language_info": {
   "codemirror_mode": {
    "name": "ipython",
    "version": 3
   },
   "file_extension": ".py",
   "mimetype": "text/x-python",
   "name": "python",
   "nbconvert_exporter": "python",
   "pygments_lexer": "ipython3",
   "version": "3.7.4"
  }
 },
 "nbformat": 4,
 "nbformat_minor": 2
}
