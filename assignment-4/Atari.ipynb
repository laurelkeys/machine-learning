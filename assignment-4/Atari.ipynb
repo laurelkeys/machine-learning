{
  "nbformat": 4,
  "nbformat_minor": 0,
  "metadata": {
    "colab": {
      "name": "Atari.ipynb",
      "provenance": [],
      "collapsed_sections": [],
      "include_colab_link": true
    },
    "kernelspec": {
      "name": "python3",
      "display_name": "Python 3"
    },
    "accelerator": "GPU"
  },
  "cells": [
    {
      "cell_type": "markdown",
      "metadata": {
        "id": "view-in-github",
        "colab_type": "text"
      },
      "source": [
        "<a href=\"https://colab.research.google.com/github/laurelkeys/machine-learning/blob/master/assignment-4/Atari.ipynb\" target=\"_parent\"><img src=\"https://colab.research.google.com/assets/colab-badge.svg\" alt=\"Open In Colab\"/></a>"
      ]
    },
    {
      "cell_type": "markdown",
      "metadata": {
        "id": "prXRYYviFKJk",
        "colab_type": "text"
      },
      "source": [
        "# Variables to set"
      ]
    },
    {
      "cell_type": "code",
      "metadata": {
        "id": "dFDQhtBZFIOs",
        "colab_type": "code",
        "colab": {}
      },
      "source": [
        "# https://stable-baselines.readthedocs.io/en/master/guide/algos.html\n",
        "ALGORITHM = \"PPO2\"\n",
        "POLICY = 'CnnLnLstmPolicy'\n",
        "\n",
        "# https://gym.openai.com/envs/#atari\n",
        "ENVIROMENT = 'Breakout-v0'"
      ],
      "execution_count": 0,
      "outputs": []
    },
    {
      "cell_type": "code",
      "metadata": {
        "id": "bJ7Qa6BsFgBu",
        "colab_type": "code",
        "colab": {}
      },
      "source": [
        "CONTINUE_TRAINING = False # Set this if want to continue training from a saved model, and don't forget to set INITIAL_EPOCH\n",
        "TRAIN_FOREVER = True      # Set this if you want to train until the notobook disconnects\n",
        "\n",
        "INITIAL_EPOCH = 0         # If CONTINUE_TRAINING set this to use the model trained for this many epochs with the other set parameters\n",
        "EPOCHS = 250000             # Number of epochs between model saving (checkpoint)"
      ],
      "execution_count": 0,
      "outputs": []
    },
    {
      "cell_type": "markdown",
      "metadata": {
        "id": "QiUQSHnCaqzT",
        "colab_type": "text"
      },
      "source": [
        "Please don't forget to mount your drive, otherwise it will wait forever"
      ]
    },
    {
      "cell_type": "markdown",
      "metadata": {
        "id": "mNfIP1VBFTaU",
        "colab_type": "text"
      },
      "source": [
        "# Imports"
      ]
    },
    {
      "cell_type": "code",
      "metadata": {
        "id": "hCPb9PsLZbEh",
        "colab_type": "code",
        "colab": {}
      },
      "source": [
        "#### Stable baselines only support TF 1.x for now ####\n",
        "# try:\n",
        "#     # Colab only\n",
        "#     %tensorflow_version 2.x\n",
        "# except Exception:\n",
        "#     pass"
      ],
      "execution_count": 0,
      "outputs": []
    },
    {
      "cell_type": "code",
      "metadata": {
        "id": "4BqcMJtaZqXH",
        "colab_type": "code",
        "outputId": "42c4bf19-4b4e-4206-fc22-6784dd20ab0b",
        "colab": {
          "base_uri": "https://localhost:8080/",
          "height": 80
        }
      },
      "source": [
        "import tensorflow as tf\n",
        "from tensorflow import keras\n",
        "print(tf.__version__)"
      ],
      "execution_count": 0,
      "outputs": [
        {
          "output_type": "display_data",
          "data": {
            "text/html": [
              "<p style=\"color: red;\">\n",
              "The default version of TensorFlow in Colab will soon switch to TensorFlow 2.x.<br>\n",
              "We recommend you <a href=\"https://www.tensorflow.org/guide/migrate\" target=\"_blank\">upgrade</a> now \n",
              "or ensure your notebook will continue to use TensorFlow 1.x via the <code>%tensorflow_version 1.x</code> magic:\n",
              "<a href=\"https://colab.research.google.com/notebooks/tensorflow_version.ipynb\" target=\"_blank\">more info</a>.</p>\n"
            ],
            "text/plain": [
              "<IPython.core.display.HTML object>"
            ]
          },
          "metadata": {
            "tags": []
          }
        },
        {
          "output_type": "stream",
          "text": [
            "1.15.0\n"
          ],
          "name": "stdout"
        }
      ]
    },
    {
      "cell_type": "code",
      "metadata": {
        "id": "uL8eYtmNZxld",
        "colab_type": "code",
        "outputId": "b537a69a-cc01-4082-e753-2b2c774b5a17",
        "colab": {
          "base_uri": "https://localhost:8080/",
          "height": 153
        }
      },
      "source": [
        "import stable_baselines\n",
        "\n",
        "from stable_baselines.common.policies import MlpPolicy, CnnPolicy\n",
        "from stable_baselines.common.vec_env import DummyVecEnv, SubprocVecEnv\n",
        "from stable_baselines import PPO2"
      ],
      "execution_count": 0,
      "outputs": [
        {
          "output_type": "stream",
          "text": [
            "WARNING:tensorflow:\n",
            "The TensorFlow contrib module will not be included in TensorFlow 2.0.\n",
            "For more information, please see:\n",
            "  * https://github.com/tensorflow/community/blob/master/rfcs/20180907-contrib-sunset.md\n",
            "  * https://github.com/tensorflow/addons\n",
            "  * https://github.com/tensorflow/io (for I/O related ops)\n",
            "If you depend on functionality not listed there, please file an issue.\n",
            "\n"
          ],
          "name": "stdout"
        }
      ]
    },
    {
      "cell_type": "code",
      "metadata": {
        "id": "u0i0LUUNZ05V",
        "colab_type": "code",
        "colab": {}
      },
      "source": [
        "import warnings\n",
        "from time import time, strftime, sleep"
      ],
      "execution_count": 0,
      "outputs": []
    },
    {
      "cell_type": "code",
      "metadata": {
        "id": "LGv0nTbMaDhR",
        "colab_type": "code",
        "outputId": "5be712b0-65be-4c28-f5c5-168075eacf5b",
        "colab": {
          "base_uri": "https://localhost:8080/",
          "height": 34
        }
      },
      "source": [
        "strftime('%X')"
      ],
      "execution_count": 0,
      "outputs": [
        {
          "output_type": "execute_result",
          "data": {
            "text/plain": [
              "'16:09:21'"
            ]
          },
          "metadata": {
            "tags": []
          },
          "execution_count": 7
        }
      ]
    },
    {
      "cell_type": "code",
      "metadata": {
        "id": "dRIt1QEXaEx6",
        "colab_type": "code",
        "outputId": "b47b1c82-c4c7-41ef-afca-54335f64c86c",
        "colab": {
          "base_uri": "https://localhost:8080/",
          "height": 34
        }
      },
      "source": [
        "from google.colab import drive\n",
        "drive.mount('/content/drive', force_remount=True)"
      ],
      "execution_count": 0,
      "outputs": [
        {
          "output_type": "stream",
          "text": [
            "Mounted at /content/drive\n"
          ],
          "name": "stdout"
        }
      ]
    },
    {
      "cell_type": "code",
      "metadata": {
        "id": "dinyDs4ud-Bv",
        "colab_type": "code",
        "outputId": "5df4c7a8-570b-43f7-fe2b-adba10cda1af",
        "colab": {
          "base_uri": "https://localhost:8080/",
          "height": 34
        }
      },
      "source": [
        "import os\n",
        "\n",
        "PATH_TO_DATA = os.path.join(\"drive\", \"My Drive\", \"unicamp\", \"MC886\", \"atari\")\n",
        "\n",
        "if not os.path.exists(PATH_TO_DATA):\n",
        "    os.makedirs(PATH_TO_DATA)\n",
        "\n",
        "!ls drive/My\\ Drive/unicamp/MC886/atari/"
      ],
      "execution_count": 0,
      "outputs": [
        {
          "output_type": "stream",
          "text": [
            "Breakout-ram-v0  Breakout-v0  CartPole-v1\n"
          ],
          "name": "stdout"
        }
      ]
    },
    {
      "cell_type": "code",
      "metadata": {
        "id": "cRDKKNj6Ie2J",
        "colab_type": "code",
        "colab": {}
      },
      "source": [
        "PATH_PREFIX = os.path.join(PATH_TO_DATA, ENVIROMENT)\n",
        "\n",
        "if not os.path.exists(PATH_PREFIX):\n",
        "    os.makedirs(PATH_PREFIX)\n",
        "\n",
        "FILE_NAME = ALGORITHM + \"_\" + POLICY + \"_ep\" + str(INITIAL_EPOCH + EPOCHS)\n",
        "\n",
        "SAVE_PATH = os.path.join(PATH_PREFIX, FILE_NAME)"
      ],
      "execution_count": 0,
      "outputs": []
    },
    {
      "cell_type": "markdown",
      "metadata": {
        "id": "G4aiKF3WELp8",
        "colab_type": "text"
      },
      "source": [
        "# Setup for video displaying"
      ]
    },
    {
      "cell_type": "markdown",
      "metadata": {
        "id": "CLmFeHGTFs9e",
        "colab_type": "text"
      },
      "source": [
        "https://star-ai.github.io/Rendering-OpenAi-Gym-in-Colaboratory/"
      ]
    },
    {
      "cell_type": "code",
      "metadata": {
        "id": "x8Dd9fH6ERME",
        "colab_type": "code",
        "colab": {}
      },
      "source": [
        "!pip install gym pyvirtualdisplay > /dev/null 2>&1\n",
        "!apt-get install -y xvfb python-opengl ffmpeg > /dev/null 2>&1"
      ],
      "execution_count": 0,
      "outputs": []
    },
    {
      "cell_type": "code",
      "metadata": {
        "id": "4xl6FVvJERPn",
        "colab_type": "code",
        "outputId": "dc1af1d6-e19a-4258-9cdd-aa58f267b34b",
        "colab": {
          "base_uri": "https://localhost:8080/",
          "height": 34
        }
      },
      "source": [
        "!apt-get update > /dev/null 2>&1\n",
        "!apt-get install cmake > /dev/null 2>&1\n",
        "!pip install --upgrade setuptools 2>&1\n",
        "!pip install ez_setup > /dev/null 2>&1\n",
        "!pip install gym[atari] > /dev/null 2>&1"
      ],
      "execution_count": 0,
      "outputs": [
        {
          "output_type": "stream",
          "text": [
            "Requirement already up-to-date: setuptools in /usr/local/lib/python3.6/dist-packages (41.6.0)\n"
          ],
          "name": "stdout"
        }
      ]
    },
    {
      "cell_type": "code",
      "metadata": {
        "id": "fs5CDXLJEUot",
        "colab_type": "code",
        "colab": {}
      },
      "source": [
        "import gym\n",
        "from gym import logger as gymlogger\n",
        "from gym.wrappers import Monitor\n",
        "gymlogger.set_level(40) #error only\n",
        "import tensorflow as tf\n",
        "import numpy as np\n",
        "import random\n",
        "import matplotlib\n",
        "import matplotlib.pyplot as plt\n",
        "%matplotlib inline\n",
        "import math\n",
        "import glob\n",
        "import io\n",
        "import base64\n",
        "from IPython.display import HTML\n",
        "\n",
        "from IPython import display as ipythondisplay"
      ],
      "execution_count": 0,
      "outputs": []
    },
    {
      "cell_type": "code",
      "metadata": {
        "id": "zJXTkx_uEU1G",
        "colab_type": "code",
        "outputId": "6a0e353e-3de0-4ca0-c078-8f7cbc5656d2",
        "colab": {
          "base_uri": "https://localhost:8080/",
          "height": 71
        }
      },
      "source": [
        "from pyvirtualdisplay import Display\n",
        "display = Display(visible=0, size=(640, 480))\n",
        "display.start()"
      ],
      "execution_count": 0,
      "outputs": [
        {
          "output_type": "stream",
          "text": [
            "xdpyinfo was not found, X start can not be checked! Please install xdpyinfo!\n"
          ],
          "name": "stderr"
        },
        {
          "output_type": "execute_result",
          "data": {
            "text/plain": [
              "<Display cmd_param=['Xvfb', '-br', '-nolisten', 'tcp', '-screen', '0', '640x480x24', ':1001'] cmd=['Xvfb', '-br', '-nolisten', 'tcp', '-screen', '0', '640x480x24', ':1001'] oserror=None return_code=None stdout=\"None\" stderr=\"None\" timeout_happened=False>"
            ]
          },
          "metadata": {
            "tags": []
          },
          "execution_count": 14
        }
      ]
    },
    {
      "cell_type": "markdown",
      "metadata": {
        "id": "_Bm8SO4MEccv",
        "colab_type": "text"
      },
      "source": [
        "# Functions for video"
      ]
    },
    {
      "cell_type": "code",
      "metadata": {
        "id": "7Q2kRFavEU6Z",
        "colab_type": "code",
        "colab": {}
      },
      "source": [
        "# PATH_VIDEO = './yo'\n",
        "PATH_VIDEO = PATH_PREFIX + \"/video/\"\n",
        "\n",
        "if not os.path.exists(PATH_VIDEO):\n",
        "    os.makedirs(PATH_VIDEO)"
      ],
      "execution_count": 0,
      "outputs": []
    },
    {
      "cell_type": "code",
      "metadata": {
        "id": "3g1Z5irLEU4a",
        "colab_type": "code",
        "colab": {}
      },
      "source": [
        "def show_video():\n",
        "    mp4list = glob.glob(PATH_VIDEO + '/*.mp4')\n",
        "    if len(mp4list) > 0:\n",
        "        mp4 = mp4list[0]\n",
        "        video = io.open(mp4, 'rb').read()\n",
        "        encoded = base64.b64encode(video)\n",
        "        ipythondisplay.display(HTML(data='''<video alt=\"test\" \n",
        "                    controls style=\"height: 400px;\">\n",
        "                    <source src=\"data:video/mp4;base64,{0}\" type=\"video/mp4\" />\n",
        "                  </video>'''.format(encoded.decode())))\n",
        "    else: \n",
        "        print(\"Could not find video\")"
      ],
      "execution_count": 0,
      "outputs": []
    },
    {
      "cell_type": "code",
      "metadata": {
        "id": "AisZAxsFElJL",
        "colab_type": "code",
        "colab": {}
      },
      "source": [
        "from stable_baselines.common.vec_env import VecVideoRecorder\n",
        "video_length = 1000\n",
        "\n",
        "def wrap_env(env):\n",
        "    env = VecVideoRecorder(env, PATH_VIDEO, record_video_trigger=lambda x: x == 0, video_length=video_length,\n",
        "                           name_prefix=\"random-agent-{}\".format(ENVIROMENT))\n",
        "    return env"
      ],
      "execution_count": 0,
      "outputs": []
    },
    {
      "cell_type": "code",
      "metadata": {
        "id": "MQBvHmjrGZqV",
        "colab_type": "code",
        "colab": {}
      },
      "source": [
        "def play_and_show(model, env):\n",
        "    obs = env.reset()\n",
        "\n",
        "    steps = 0\n",
        "    while True:\n",
        "        env.render()\n",
        "        action = model.predict(obs)\n",
        "        # action = env.action_space.sample() \n",
        "        # print(action)\n",
        "        observation, reward, done, info = env.step(action)\n",
        "        steps += 1\n",
        "        if done:\n",
        "            print(f\"Done after {steps} steps\")\n",
        "            break\n",
        "\n",
        "    env.close()\n",
        "\n",
        "    sleep(1)\n",
        "    show_video()"
      ],
      "execution_count": 0,
      "outputs": []
    },
    {
      "cell_type": "markdown",
      "metadata": {
        "id": "kqhGDS2Sy8Fp",
        "colab_type": "text"
      },
      "source": [
        "## Functions"
      ]
    },
    {
      "cell_type": "code",
      "metadata": {
        "id": "bi8bQmuXy-Q0",
        "colab_type": "code",
        "colab": {}
      },
      "source": [
        "from stable_baselines.results_plotter import load_results, ts2xy\n",
        "from stable_baselines import results_plotter\n",
        "\n",
        "BEST_MEAN_REWARD_, N_STEPS_ = -np.inf, 0 # Copied code, pls don't judge\n",
        "\n",
        "def callback(_locals, _globals):\n",
        "    \"\"\"\n",
        "    Callback called at each step (for DQN an others) or after n steps (see ACER or PPO2)\n",
        "    :param _locals: (dict)\n",
        "    :param _globals: (dict)\n",
        "    \"\"\"\n",
        "    global N_STEPS_, BEST_MEAN_REWARD_\n",
        "    # Print stats every 1000 calls\n",
        "    if (N_STEPS_ + 1) % 1000 == 0:\n",
        "        # Evaluate policy training performance\n",
        "        x, y = ts2xy(load_results(log_dir), 'timesteps')\n",
        "        if len(x) > 0:\n",
        "            mean_reward = np.mean(y[-100:])\n",
        "            print(x[-1], 'timesteps')\n",
        "            print(\"Best mean reward: {:.2f} - Last mean reward per episode: {:.2f}\".format(best_mean_reward, mean_reward))\n",
        "\n",
        "            # New best model, you could save the agent here\n",
        "            if mean_reward > BEST_MEAN_REWARD_:\n",
        "                BEST_MEAN_REWARD_ = mean_reward\n",
        "                # Example for saving best model\n",
        "                print(\"Saving new best model\")\n",
        "                _locals['self'].save(log_dir + 'best_model.pkl')\n",
        "    N_STEPS_ += 1\n",
        "    return True"
      ],
      "execution_count": 0,
      "outputs": []
    },
    {
      "cell_type": "markdown",
      "metadata": {
        "id": "LOE-rQCAaGEv",
        "colab_type": "text"
      },
      "source": [
        "# Trem"
      ]
    },
    {
      "cell_type": "code",
      "metadata": {
        "id": "rAZNOhIifzkX",
        "colab_type": "code",
        "outputId": "154623e2-6d09-4d34-e9b1-81f51a6fe6d0",
        "colab": {
          "base_uri": "https://localhost:8080/",
          "height": 34
        }
      },
      "source": [
        "env = gym.make(ENVIROMENT)\n",
        "env = DummyVecEnv([lambda: env])\n",
        "\n",
        "# Wrapped env for\n",
        "env_record = wrap_env( DummyVecEnv([lambda: gym.make(ENVIROMENT)]) )\n",
        "\n",
        "# check out the action space, if both aren't identical something will probably go wrong\n",
        "print(env.action_space, env_record.action_space)"
      ],
      "execution_count": 0,
      "outputs": [
        {
          "output_type": "stream",
          "text": [
            "Discrete(4) Discrete(4)\n"
          ],
          "name": "stdout"
        }
      ]
    },
    {
      "cell_type": "code",
      "metadata": {
        "id": "vytZYM62sgJO",
        "colab_type": "code",
        "outputId": "2e4f81ae-0843-4270-a9c1-70ffae0b55e2",
        "colab": {
          "base_uri": "https://localhost:8080/",
          "height": 615
        }
      },
      "source": [
        "PATH_SAVED = PATH_TO_DATA + \"/\" + ENVIROMENT + \"/\" + ALGORITHM + \"_\" + POLICY + \"_ep\" + str(INITIAL_EPOCH)\n",
        "if CONTINUE_TRAINING and os.path.exists(PATH_SAVED):\n",
        "    model = PPO2.load(PATH_SAVED, env=env) # Load the trained agent\n",
        "else:\n",
        "    if os.path.exists(PATH_SAVED):\n",
        "        print(\"Model not found, training from scratch\")\n",
        "        INITIAL_EPOCH = 0\n",
        "    model = PPO2(POLICY, env, nminibatches=1)"
      ],
      "execution_count": 0,
      "outputs": [
        {
          "output_type": "stream",
          "text": [
            "WARNING:tensorflow:From /usr/local/lib/python3.6/dist-packages/stable_baselines/common/tf_util.py:85: The name tf.ConfigProto is deprecated. Please use tf.compat.v1.ConfigProto instead.\n",
            "\n",
            "WARNING:tensorflow:From /usr/local/lib/python3.6/dist-packages/stable_baselines/common/tf_util.py:94: The name tf.Session is deprecated. Please use tf.compat.v1.Session instead.\n",
            "\n",
            "WARNING:tensorflow:From /usr/local/lib/python3.6/dist-packages/stable_baselines/common/policies.py:50: The name tf.variable_scope is deprecated. Please use tf.compat.v1.variable_scope instead.\n",
            "\n",
            "WARNING:tensorflow:From /usr/local/lib/python3.6/dist-packages/stable_baselines/common/input.py:25: The name tf.placeholder is deprecated. Please use tf.compat.v1.placeholder instead.\n",
            "\n",
            "WARNING:tensorflow:From /usr/local/lib/python3.6/dist-packages/stable_baselines/common/input.py:26: to_float (from tensorflow.python.ops.math_ops) is deprecated and will be removed in a future version.\n",
            "Instructions for updating:\n",
            "Use `tf.cast` instead.\n",
            "WARNING:tensorflow:From /usr/local/lib/python3.6/dist-packages/stable_baselines/a2c/utils.py:125: The name tf.get_variable is deprecated. Please use tf.compat.v1.get_variable instead.\n",
            "\n",
            "WARNING:tensorflow:From /usr/local/lib/python3.6/dist-packages/stable_baselines/common/distributions.py:319: The name tf.random_uniform is deprecated. Please use tf.random.uniform instead.\n",
            "\n",
            "WARNING:tensorflow:From /usr/local/lib/python3.6/dist-packages/stable_baselines/common/distributions.py:320: The name tf.log is deprecated. Please use tf.math.log instead.\n",
            "\n",
            "WARNING:tensorflow:From /usr/local/lib/python3.6/dist-packages/stable_baselines/ppo2/ppo2.py:158: The name tf.summary.scalar is deprecated. Please use tf.compat.v1.summary.scalar instead.\n",
            "\n",
            "WARNING:tensorflow:From /usr/local/lib/python3.6/dist-packages/stable_baselines/ppo2/ppo2.py:166: The name tf.trainable_variables is deprecated. Please use tf.compat.v1.trainable_variables instead.\n",
            "\n",
            "WARNING:tensorflow:From /usr/local/lib/python3.6/dist-packages/tensorflow_core/python/ops/math_grad.py:1424: where (from tensorflow.python.ops.array_ops) is deprecated and will be removed in a future version.\n",
            "Instructions for updating:\n",
            "Use tf.where in 2.0, which has the same broadcast rule as np.where\n",
            "WARNING:tensorflow:From /usr/local/lib/python3.6/dist-packages/stable_baselines/ppo2/ppo2.py:171: The name tf.train.AdamOptimizer is deprecated. Please use tf.compat.v1.train.AdamOptimizer instead.\n",
            "\n",
            "WARNING:tensorflow:From /usr/local/lib/python3.6/dist-packages/stable_baselines/ppo2/ppo2.py:178: The name tf.summary.histogram is deprecated. Please use tf.compat.v1.summary.histogram instead.\n",
            "\n",
            "WARNING:tensorflow:From /usr/local/lib/python3.6/dist-packages/stable_baselines/ppo2/ppo2.py:190: The name tf.summary.image is deprecated. Please use tf.compat.v1.summary.image instead.\n",
            "\n",
            "WARNING:tensorflow:From /usr/local/lib/python3.6/dist-packages/stable_baselines/ppo2/ppo2.py:200: The name tf.global_variables_initializer is deprecated. Please use tf.compat.v1.global_variables_initializer instead.\n",
            "\n",
            "WARNING:tensorflow:From /usr/local/lib/python3.6/dist-packages/stable_baselines/ppo2/ppo2.py:202: The name tf.summary.merge_all is deprecated. Please use tf.compat.v1.summary.merge_all instead.\n",
            "\n"
          ],
          "name": "stdout"
        }
      ]
    },
    {
      "cell_type": "code",
      "metadata": {
        "id": "TkD3oJnTg2VG",
        "colab_type": "code",
        "colab": {}
      },
      "source": [
        "while True:\n",
        "    start = time()\n",
        "    model = model.learn(EPOCHS, callback=callback)\n",
        "    print(f\"Training took {time() - start}s\")\n",
        "\n",
        "    # Save model\n",
        "    FILE_NAME = ALGORITHM + \"_\" + POLICY + \"_ep\" + str(INITIAL_EPOCH + EPOCHS)\n",
        "    SAVE_PATH = os.path.join(PATH_PREFIX, FILE_NAME)\n",
        "    print(\"Saving to\", SAVE_PATH)\n",
        "    model.save(SAVE_PATH)\n",
        "    INITIAL_EPOCH += EPOCHS\n",
        "\n",
        "    # Show video of model\n",
        "    play_and_show(model, env_record)\n",
        "\n",
        "    print(f\"The iteration took {time() - start}s\")\n",
        "\n",
        "    if not TRAIN_FOREVER:\n",
        "        print(\"Stop training\")\n",
        "        break"
      ],
      "execution_count": 0,
      "outputs": []
    },
    {
      "cell_type": "code",
      "metadata": {
        "id": "9vgi8k2qI-z_",
        "colab_type": "code",
        "colab": {}
      },
      "source": [
        ""
      ],
      "execution_count": 0,
      "outputs": []
    }
  ]
}