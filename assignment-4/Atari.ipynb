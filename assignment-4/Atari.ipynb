{
  "nbformat": 4,
  "nbformat_minor": 0,
  "metadata": {
    "colab": {
      "name": "[main] Copy of Atari.ipynb",
      "provenance": [],
      "collapsed_sections": [],
      "toc_visible": true,
      "include_colab_link": true
    },
    "kernelspec": {
      "name": "python3",
      "display_name": "Python 3"
    },
    "accelerator": "GPU"
  },
  "cells": [
    {
      "cell_type": "markdown",
      "metadata": {
        "id": "view-in-github",
        "colab_type": "text"
      },
      "source": [
        "<a href=\"https://colab.research.google.com/github/laurelkeys/machine-learning/blob/master/assignment-4/Atari.ipynb\" target=\"_parent\"><img src=\"https://colab.research.google.com/assets/colab-badge.svg\" alt=\"Open In Colab\"/></a>"
      ]
    },
    {
      "cell_type": "markdown",
      "metadata": {
        "id": "qDaUij2izgqE",
        "colab_type": "text"
      },
      "source": [
        "# Install dependencies for video displaying\n",
        "_obs.:_ This may require a runtime restart"
      ]
    },
    {
      "cell_type": "code",
      "metadata": {
        "id": "J8q0eR61vc91",
        "colab_type": "code",
        "colab": {}
      },
      "source": [
        "!pip install gym pyvirtualdisplay             > /dev/null 2>&1\n",
        "!apt-get install -y xvfb python-opengl ffmpeg > /dev/null 2>&1\n",
        "!apt-get install x11-utils                    > /dev/null 2>&1 # fixes 'xdpyinfo was not found' when importing Display from pyvirtualdisplay"
      ],
      "execution_count": 0,
      "outputs": []
    },
    {
      "cell_type": "code",
      "metadata": {
        "id": "IgUbDYchyErM",
        "colab_type": "code",
        "outputId": "0e5ffa88-e8c4-43dc-c44a-c072e4be187f",
        "colab": {
          "base_uri": "https://localhost:8080/",
          "height": 34
        }
      },
      "source": [
        "!apt-get update         > /dev/null 2>&1\n",
        "!apt-get install cmake  > /dev/null 2>&1\n",
        "!pip install --upgrade setuptools   2>&1\n",
        "!pip install ez_setup   > /dev/null 2>&1\n",
        "!pip install gym[atari] > /dev/null 2>&1"
      ],
      "execution_count": 0,
      "outputs": [
        {
          "output_type": "stream",
          "text": [
            "Requirement already up-to-date: setuptools in /usr/local/lib/python3.6/dist-packages (41.6.0)\n"
          ],
          "name": "stdout"
        }
      ]
    },
    {
      "cell_type": "markdown",
      "metadata": {
        "id": "zezUy8XyyzH2",
        "colab_type": "text"
      },
      "source": [
        "# Mount Drive\n",
        "Remeber to mount your drive on your academic account for more storage ;)"
      ]
    },
    {
      "cell_type": "code",
      "metadata": {
        "id": "dRIt1QEXaEx6",
        "colab_type": "code",
        "outputId": "f6204eb0-550a-4157-b192-8df8d0d1da83",
        "colab": {
          "base_uri": "https://localhost:8080/",
          "height": 180
        }
      },
      "source": [
        "from IPython.display import Audio, display\n",
        "display(Audio(url='https://sound.peal.io/ps/audios/000/000/537/original/woo_vu_luvub_dub_dub.wav', autoplay=True))\n",
        "\n",
        "from google.colab import drive\n",
        "drive.mount('/content/drive', force_remount=True)"
      ],
      "execution_count": 0,
      "outputs": [
        {
          "output_type": "display_data",
          "data": {
            "text/html": [
              "\n",
              "                <audio controls=\"controls\" autoplay=\"autoplay\">\n",
              "                    <source src=\"https://sound.peal.io/ps/audios/000/000/537/original/woo_vu_luvub_dub_dub.wav\" type=\"audio/x-wav\" />\n",
              "                    Your browser does not support the audio element.\n",
              "                </audio>\n",
              "              "
            ],
            "text/plain": [
              "<IPython.lib.display.Audio object>"
            ]
          },
          "metadata": {
            "tags": []
          }
        },
        {
          "output_type": "stream",
          "text": [
            "Go to this URL in a browser: https://accounts.google.com/o/oauth2/auth?client_id=947318989803-6bn6qk8qdgf4n4g3pfee6491hc0brc4i.apps.googleusercontent.com&redirect_uri=urn%3aietf%3awg%3aoauth%3a2.0%3aoob&response_type=code&scope=email%20https%3a%2f%2fwww.googleapis.com%2fauth%2fdocs.test%20https%3a%2f%2fwww.googleapis.com%2fauth%2fdrive%20https%3a%2f%2fwww.googleapis.com%2fauth%2fdrive.photos.readonly%20https%3a%2f%2fwww.googleapis.com%2fauth%2fpeopleapi.readonly\n",
            "\n",
            "Enter your authorization code:\n",
            "··········\n",
            "Mounted at /content/drive\n"
          ],
          "name": "stdout"
        }
      ]
    },
    {
      "cell_type": "markdown",
      "metadata": {
        "id": "prXRYYviFKJk",
        "colab_type": "text"
      },
      "source": [
        "# Variables to set\n",
        "> `ALGORITHM` : [RL Algorithms](https://stable-baselines.readthedocs.io/en/master/guide/algos.html) | `POLICY` : [Policy Networks](https://stable-baselines.readthedocs.io/en/master/modules/policies.html) | `ENVIRONMENT`: [Atari Environments](https://gym.openai.com/envs/#atari)"
      ]
    },
    {
      "cell_type": "code",
      "metadata": {
        "id": "dFDQhtBZFIOs",
        "colab_type": "code",
        "colab": {}
      },
      "source": [
        "# https://stable-baselines.readthedocs.io/en/master/guide/algos.html\n",
        "ALGORITHM = \"PPO2\"\n",
        "POLICY = \"CnnLnLstmPolicy\"\n",
        "\n",
        "# https://gym.openai.com/envs/#atari\n",
        "ENVIRONMENT = \"Pong-v0\""
      ],
      "execution_count": 0,
      "outputs": []
    },
    {
      "cell_type": "markdown",
      "metadata": {
        "id": "QqmylEeg0BgF",
        "colab_type": "text"
      },
      "source": [
        "**Remeber** to:\n",
        "* change the `ENVIRONMENT`\n",
        "* set `INITIAL_EPOCH` if `CONTINUE_TRAINING = True`"
      ]
    },
    {
      "cell_type": "code",
      "metadata": {
        "id": "bJ7Qa6BsFgBu",
        "colab_type": "code",
        "colab": {}
      },
      "source": [
        "CONTINUE_TRAINING = False # Set this if want to continue training from a saved model, and don't forget to set INITIAL_EPOCH\n",
        "TRAIN_FOREVER = False      # Set this if you want to train until the notebook disconnects\n",
        "\n",
        "INITIAL_EPOCH = 0         # If CONTINUE_TRAINING set this to use the model trained for this many epochs with the other set parameters\n",
        "EPOCHS = 1000           # Number of epochs between model saving (checkpoint)"
      ],
      "execution_count": 0,
      "outputs": []
    },
    {
      "cell_type": "markdown",
      "metadata": {
        "id": "QiUQSHnCaqzT",
        "colab_type": "text"
      },
      "source": [
        "Please don't forget to **mount your drive**, otherwise it will wait forever"
      ]
    },
    {
      "cell_type": "markdown",
      "metadata": {
        "id": "mNfIP1VBFTaU",
        "colab_type": "text"
      },
      "source": [
        "# Import libs"
      ]
    },
    {
      "cell_type": "markdown",
      "metadata": {
        "id": "FpRgWCRqBDKK",
        "colab_type": "text"
      },
      "source": [
        "## TensorFlow 1.15, Stable Baselines and Drive"
      ]
    },
    {
      "cell_type": "code",
      "metadata": {
        "id": "hCPb9PsLZbEh",
        "colab_type": "code",
        "outputId": "eddfa755-cf09-4e96-a00b-d38e344652f0",
        "colab": {
          "base_uri": "https://localhost:8080/",
          "height": 34
        }
      },
      "source": [
        "#### Stable baselines only support TF 1.x for now ####\n",
        "try:\n",
        "    # Colab only\n",
        "    # %tensorflow_version 2.x\n",
        "    %tensorflow_version 1.x\n",
        "except Exception:\n",
        "    pass\n",
        "\n",
        "import tensorflow as tf\n",
        "from tensorflow import keras\n",
        "print(tf.__version__)"
      ],
      "execution_count": 0,
      "outputs": [
        {
          "output_type": "stream",
          "text": [
            "1.15.0\n"
          ],
          "name": "stdout"
        }
      ]
    },
    {
      "cell_type": "code",
      "metadata": {
        "id": "uL8eYtmNZxld",
        "colab_type": "code",
        "outputId": "3c832a9f-a0d4-43df-93a8-1f48bf91c587",
        "colab": {
          "base_uri": "https://localhost:8080/",
          "height": 153
        }
      },
      "source": [
        "import stable_baselines\n",
        "\n",
        "from stable_baselines.common.policies import MlpPolicy, CnnPolicy\n",
        "from stable_baselines.common.vec_env import DummyVecEnv, SubprocVecEnv\n",
        "from stable_baselines.bench import Monitor as SBMonitor"
      ],
      "execution_count": 0,
      "outputs": [
        {
          "output_type": "stream",
          "text": [
            "WARNING:tensorflow:\n",
            "The TensorFlow contrib module will not be included in TensorFlow 2.0.\n",
            "For more information, please see:\n",
            "  * https://github.com/tensorflow/community/blob/master/rfcs/20180907-contrib-sunset.md\n",
            "  * https://github.com/tensorflow/addons\n",
            "  * https://github.com/tensorflow/io (for I/O related ops)\n",
            "If you depend on functionality not listed there, please file an issue.\n",
            "\n"
          ],
          "name": "stdout"
        }
      ]
    },
    {
      "cell_type": "code",
      "metadata": {
        "id": "u0i0LUUNZ05V",
        "colab_type": "code",
        "colab": {}
      },
      "source": [
        "import warnings\n",
        "from time import time, strftime, sleep"
      ],
      "execution_count": 0,
      "outputs": []
    },
    {
      "cell_type": "code",
      "metadata": {
        "id": "LGv0nTbMaDhR",
        "colab_type": "code",
        "outputId": "d68c46d8-abc7-4047-837d-2cd0c2613be0",
        "colab": {
          "base_uri": "https://localhost:8080/",
          "height": 34
        }
      },
      "source": [
        "strftime(\"%X\")"
      ],
      "execution_count": 0,
      "outputs": [
        {
          "output_type": "execute_result",
          "data": {
            "text/plain": [
              "'21:41:12'"
            ]
          },
          "metadata": {
            "tags": []
          },
          "execution_count": 9
        }
      ]
    },
    {
      "cell_type": "code",
      "metadata": {
        "id": "dinyDs4ud-Bv",
        "colab_type": "code",
        "outputId": "6eae805d-c556-4d44-941d-aef62f97c7c7",
        "colab": {
          "base_uri": "https://localhost:8080/",
          "height": 34
        }
      },
      "source": [
        "import os\n",
        "\n",
        "PATH_TO_DATA = os.path.join(\"drive\", \"My Drive\", \"unicamp\", \"MC886\", \"atari\")\n",
        "os.makedirs(PATH_TO_DATA, exist_ok=True)\n",
        "\n",
        "!ls drive/My\\ Drive/unicamp/MC886/atari/"
      ],
      "execution_count": 0,
      "outputs": [
        {
          "output_type": "stream",
          "text": [
            "Breakout-v0  Freeway-v0  Pong-v0\n"
          ],
          "name": "stdout"
        }
      ]
    },
    {
      "cell_type": "code",
      "metadata": {
        "id": "cRDKKNj6Ie2J",
        "colab_type": "code",
        "colab": {}
      },
      "source": [
        "PATH_PREFIX = os.path.join(PATH_TO_DATA, ENVIRONMENT)\n",
        "os.makedirs(PATH_PREFIX, exist_ok=True)\n",
        "\n",
        "FILE_NAME = f\"{ALGORITHM}_{POLICY}_ep{INITIAL_EPOCH + EPOCHS}\"\n",
        "\n",
        "SAVE_PATH = os.path.join(PATH_PREFIX, FILE_NAME)"
      ],
      "execution_count": 0,
      "outputs": []
    },
    {
      "cell_type": "markdown",
      "metadata": {
        "id": "G4aiKF3WELp8",
        "colab_type": "text"
      },
      "source": [
        "## Setup for video displaying\n",
        "[Rendering OpenAi Gym in Google Colaboratory](https://star-ai.github.io/Rendering-OpenAi-Gym-in-Colaboratory/)"
      ]
    },
    {
      "cell_type": "code",
      "metadata": {
        "id": "fs5CDXLJEUot",
        "colab_type": "code",
        "outputId": "bc932379-8128-40d4-b6e3-419f00bd3a4d",
        "colab": {
          "base_uri": "https://localhost:8080/",
          "height": 54
        }
      },
      "source": [
        "import gym\n",
        "from gym.wrappers import Monitor as GymMonitor\n",
        "from gym import logger as gymlogger\n",
        "gymlogger.set_level(40) # error only\n",
        "\n",
        "import random\n",
        "import numpy as np\n",
        "import matplotlib.pyplot as plt\n",
        "%matplotlib inline\n",
        "\n",
        "import math, glob, io, base64\n",
        "from IPython.display import HTML\n",
        "from IPython import display as ipythondisplay\n",
        "\n",
        "from pyvirtualdisplay import Display\n",
        "display = Display(visible=0, size=(210, 160)) # images from Atari are 210x160 RGB\n",
        "#display = Display(visible=0, size=(640, 480))\n",
        "display.start()"
      ],
      "execution_count": 0,
      "outputs": [
        {
          "output_type": "execute_result",
          "data": {
            "text/plain": [
              "<Display cmd_param=['Xvfb', '-br', '-nolisten', 'tcp', '-screen', '0', '210x160x24', ':1001'] cmd=['Xvfb', '-br', '-nolisten', 'tcp', '-screen', '0', '210x160x24', ':1001'] oserror=None return_code=None stdout=\"None\" stderr=\"None\" timeout_happened=False>"
            ]
          },
          "metadata": {
            "tags": []
          },
          "execution_count": 12
        }
      ]
    },
    {
      "cell_type": "markdown",
      "metadata": {
        "id": "_Bm8SO4MEccv",
        "colab_type": "text"
      },
      "source": [
        "# Functions to replay videos"
      ]
    },
    {
      "cell_type": "code",
      "metadata": {
        "id": "7Q2kRFavEU6Z",
        "colab_type": "code",
        "colab": {}
      },
      "source": [
        "PATH_VIDEO = os.path.join(PATH_PREFIX, \"video\")\n",
        "os.makedirs(PATH_VIDEO, exist_ok=True)\n",
        "\n",
        "# Create log dir\n",
        "LOG_PATH = \"tmp/\"\n",
        "os.makedirs(LOG_PATH, exist_ok=True)"
      ],
      "execution_count": 0,
      "outputs": []
    },
    {
      "cell_type": "code",
      "metadata": {
        "id": "3g1Z5irLEU4a",
        "colab_type": "code",
        "colab": {}
      },
      "source": [
        "def show_video():\n",
        "    mp4list = glob.glob(PATH_VIDEO + '/*.mp4')\n",
        "    if len(mp4list) > 0:\n",
        "        mp4 = max(mp4list, key=os.path.getctime) # get the latest file\n",
        "        video = io.open(mp4, 'rb').read()\n",
        "        #video = io.open(mp4, 'r+b').read()\n",
        "        encoded = base64.b64encode(video)\n",
        "        ipythondisplay.display(HTML(data='''<video alt=\"test\" \n",
        "                    controls style=\"height: 400px;\">\n",
        "                    <source src=\"data:video/mp4;base64,{0}\" type=\"video/mp4\" />\n",
        "                  </video>'''.format(encoded.decode())))\n",
        "    else: \n",
        "        print(f\"Could not find any videos on folder '{PATH_VIDEO}/*.mp4'\")"
      ],
      "execution_count": 0,
      "outputs": []
    },
    {
      "cell_type": "code",
      "metadata": {
        "id": "AisZAxsFElJL",
        "colab_type": "code",
        "colab": {}
      },
      "source": [
        "from stable_baselines.common.vec_env import VecVideoRecorder\n",
        "\n",
        "VIDEO_LENGTH = 1000\n",
        "\n",
        "def wrap_env(env, video_name_prefix=None):\n",
        "    env = VecVideoRecorder(env, \n",
        "                           video_folder=PATH_VIDEO, \n",
        "                           record_video_trigger=lambda curr_step: curr_step == 0, # defines when to start recording\n",
        "                           video_length=VIDEO_LENGTH,\n",
        "                           name_prefix=f\"random-agent-{ENVIRONMENT}\" if video_name_prefix is None else video_name_prefix)\n",
        "    return env"
      ],
      "execution_count": 0,
      "outputs": []
    },
    {
      "cell_type": "code",
      "metadata": {
        "id": "MQBvHmjrGZqV",
        "colab_type": "code",
        "colab": {}
      },
      "source": [
        "def play_and_show(model, env, show_info=False):\n",
        "    observation = env.reset()\n",
        "\n",
        "    steps = 0\n",
        "    while True:\n",
        "        env.render()\n",
        "        action = model.predict(observation)\n",
        "        observation, reward, done, info = env.step(action)\n",
        "        # TODO print info and reward\n",
        "        steps += 1\n",
        "        if show_info:\n",
        "            print(f\"[step {steps}] info: {info}\")\n",
        "        if done:\n",
        "            print(f\"Done after {steps} steps\")\n",
        "            break\n",
        "\n",
        "    env.close()\n",
        "\n",
        "    sleep(1)\n",
        "    show_video()"
      ],
      "execution_count": 0,
      "outputs": []
    },
    {
      "cell_type": "markdown",
      "metadata": {
        "id": "kqhGDS2Sy8Fp",
        "colab_type": "text"
      },
      "source": [
        "## Callback for model.learn()"
      ]
    },
    {
      "cell_type": "code",
      "metadata": {
        "id": "bi8bQmuXy-Q0",
        "colab_type": "code",
        "colab": {}
      },
      "source": [
        "from stable_baselines.results_plotter import load_results, ts2xy\n",
        "from stable_baselines import results_plotter\n",
        "\n",
        "BEST_MEAN_REWARD_, N_STEPS_ = -np.inf, 0 # Copied code, pls don't judge\n",
        "\n",
        "def callback(_locals, _globals):\n",
        "    \"\"\"\n",
        "    Callback called at each step (for DQN and others) or after n steps (see ACER or PPO2)\n",
        "    :param _locals: (dict)\n",
        "    :param _globals: (dict)\n",
        "    \"\"\"\n",
        "    global N_STEPS_, BEST_MEAN_REWARD_\n",
        "    # Print stats every 1000 calls\n",
        "    if (N_STEPS_ + 1) % 1000 == 0:\n",
        "        # Evaluate policy training performance\n",
        "        try:\n",
        "            x, y = ts2xy(load_results(LOG_PATH), 'timesteps')\n",
        "            if len(x) > 0:\n",
        "                mean_reward = np.mean(y[-100:])\n",
        "                print(x[-1], 'timesteps')\n",
        "                print(\"Best mean reward: {:.2f} - Last mean reward per episode: {:.2f}\".format(best_mean_reward, mean_reward))\n",
        "\n",
        "                # New best model, you could save the agent here\n",
        "                if mean_reward > BEST_MEAN_REWARD_:\n",
        "                    BEST_MEAN_REWARD_ = mean_reward\n",
        "                    # Example for saving best model\n",
        "                    print(\"Saving new best model\")\n",
        "                    _locals['self'].save(os.path.join(LOG_PATH, 'best_model.pkl'))\n",
        "        except Exception as e:\n",
        "            print(f\"Exception raised:\\n{e}\")\n",
        "    N_STEPS_ += 1\n",
        "    return True"
      ],
      "execution_count": 0,
      "outputs": []
    },
    {
      "cell_type": "markdown",
      "metadata": {
        "id": "LOE-rQCAaGEv",
        "colab_type": "text"
      },
      "source": [
        "# Trem"
      ]
    },
    {
      "cell_type": "code",
      "metadata": {
        "id": "f_iH6Y82Tn9i",
        "colab_type": "code",
        "colab": {}
      },
      "source": [
        "# FIXME\n",
        "def make_env():\n",
        "    env = gym.make(ENVIRONMENT)\n",
        "    # env = GymMonitor(env, os.path.join(LOG_PATH, \"gym-results\"), force=True)\n",
        "    env = SBMonitor(env, os.path.join(LOG_PATH, \"sb-results\"), allow_early_resets=True)\n",
        "    env = DummyVecEnv([lambda: env])\n",
        "    return env"
      ],
      "execution_count": 0,
      "outputs": []
    },
    {
      "cell_type": "code",
      "metadata": {
        "id": "rAZNOhIifzkX",
        "colab_type": "code",
        "outputId": "fb6d36ba-3cb0-4a4c-8be4-1aa4b031023e",
        "colab": {
          "base_uri": "https://localhost:8080/",
          "height": 34
        }
      },
      "source": [
        "env = make_env()\n",
        "\n",
        "# Wrapped env for recording\n",
        "env_record = wrap_env(DummyVecEnv([lambda: gym.make(ENVIRONMENT)]), video_name_prefix=FILE_NAME)\n",
        "\n",
        "# check out the action space, if both aren't identical something will probably go wrong\n",
        "print(env.action_space, env_record.action_space, env.action_space == env_record.action_space)"
      ],
      "execution_count": 0,
      "outputs": [
        {
          "output_type": "stream",
          "text": [
            "Discrete(6) Discrete(6) True\n"
          ],
          "name": "stdout"
        }
      ]
    },
    {
      "cell_type": "code",
      "metadata": {
        "id": "_42USk7lJaV0",
        "colab_type": "code",
        "colab": {}
      },
      "source": [
        "from stable_baselines import PPO2, ACER, ACKTR\n",
        "IMPL = {\n",
        "    'PPO2': PPO2,\n",
        "    'ACER': ACER,\n",
        "    'ACKTR': ACKTR,\n",
        "}\n",
        "VERBOSITY = 0 # 0 none, 1 training information, 2 tensorflow debug"
      ],
      "execution_count": 0,
      "outputs": []
    },
    {
      "cell_type": "code",
      "metadata": {
        "id": "vytZYM62sgJO",
        "colab_type": "code",
        "outputId": "c9010f3c-1e44-4720-9d0d-b83af9881dce",
        "colab": {
          "base_uri": "https://localhost:8080/",
          "height": 615
        }
      },
      "source": [
        "PATH_SAVED = os.path.join(PATH_TO_DATA, ENVIRONMENT, f\"{ALGORITHM}_{POLICY}_ep{INITIAL_EPOCH}\")\n",
        "\n",
        "if CONTINUE_TRAINING and os.path.exists(PATH_SAVED):\n",
        "    model = IMPL[ALGORITHM].load(PATH_SAVED, env=env, verbose=VERBOSITY) # Load the trained agent\n",
        "else:\n",
        "    if os.path.exists(PATH_SAVED):\n",
        "        print(\"Model not found, training from scratch\\nINITIAL_EPOCH set to 0\")\n",
        "        INITIAL_EPOCH = 0\n",
        "    if ALGORITHM == 'PPO2':\n",
        "        model = IMPL[ALGORITHM](POLICY, env, nminibatches=1, verbose=VERBOSITY)\n",
        "    else:\n",
        "        model = IMPL[ALGORITHM](POLICY, env, verbose=VERBOSITY)"
      ],
      "execution_count": 0,
      "outputs": [
        {
          "output_type": "stream",
          "text": [
            "WARNING:tensorflow:From /usr/local/lib/python3.6/dist-packages/stable_baselines/common/tf_util.py:85: The name tf.ConfigProto is deprecated. Please use tf.compat.v1.ConfigProto instead.\n",
            "\n",
            "WARNING:tensorflow:From /usr/local/lib/python3.6/dist-packages/stable_baselines/common/tf_util.py:94: The name tf.Session is deprecated. Please use tf.compat.v1.Session instead.\n",
            "\n",
            "WARNING:tensorflow:From /usr/local/lib/python3.6/dist-packages/stable_baselines/common/policies.py:50: The name tf.variable_scope is deprecated. Please use tf.compat.v1.variable_scope instead.\n",
            "\n",
            "WARNING:tensorflow:From /usr/local/lib/python3.6/dist-packages/stable_baselines/common/input.py:25: The name tf.placeholder is deprecated. Please use tf.compat.v1.placeholder instead.\n",
            "\n",
            "WARNING:tensorflow:From /usr/local/lib/python3.6/dist-packages/stable_baselines/common/input.py:26: to_float (from tensorflow.python.ops.math_ops) is deprecated and will be removed in a future version.\n",
            "Instructions for updating:\n",
            "Use `tf.cast` instead.\n",
            "WARNING:tensorflow:From /usr/local/lib/python3.6/dist-packages/stable_baselines/a2c/utils.py:125: The name tf.get_variable is deprecated. Please use tf.compat.v1.get_variable instead.\n",
            "\n",
            "WARNING:tensorflow:From /usr/local/lib/python3.6/dist-packages/stable_baselines/common/distributions.py:319: The name tf.random_uniform is deprecated. Please use tf.random.uniform instead.\n",
            "\n",
            "WARNING:tensorflow:From /usr/local/lib/python3.6/dist-packages/stable_baselines/common/distributions.py:320: The name tf.log is deprecated. Please use tf.math.log instead.\n",
            "\n",
            "WARNING:tensorflow:From /usr/local/lib/python3.6/dist-packages/stable_baselines/ppo2/ppo2.py:158: The name tf.summary.scalar is deprecated. Please use tf.compat.v1.summary.scalar instead.\n",
            "\n",
            "WARNING:tensorflow:From /usr/local/lib/python3.6/dist-packages/stable_baselines/ppo2/ppo2.py:166: The name tf.trainable_variables is deprecated. Please use tf.compat.v1.trainable_variables instead.\n",
            "\n",
            "WARNING:tensorflow:From /usr/local/lib/python3.6/dist-packages/tensorflow_core/python/ops/math_grad.py:1424: where (from tensorflow.python.ops.array_ops) is deprecated and will be removed in a future version.\n",
            "Instructions for updating:\n",
            "Use tf.where in 2.0, which has the same broadcast rule as np.where\n",
            "WARNING:tensorflow:From /usr/local/lib/python3.6/dist-packages/stable_baselines/ppo2/ppo2.py:171: The name tf.train.AdamOptimizer is deprecated. Please use tf.compat.v1.train.AdamOptimizer instead.\n",
            "\n",
            "WARNING:tensorflow:From /usr/local/lib/python3.6/dist-packages/stable_baselines/ppo2/ppo2.py:178: The name tf.summary.histogram is deprecated. Please use tf.compat.v1.summary.histogram instead.\n",
            "\n",
            "WARNING:tensorflow:From /usr/local/lib/python3.6/dist-packages/stable_baselines/ppo2/ppo2.py:190: The name tf.summary.image is deprecated. Please use tf.compat.v1.summary.image instead.\n",
            "\n",
            "WARNING:tensorflow:From /usr/local/lib/python3.6/dist-packages/stable_baselines/ppo2/ppo2.py:200: The name tf.global_variables_initializer is deprecated. Please use tf.compat.v1.global_variables_initializer instead.\n",
            "\n",
            "WARNING:tensorflow:From /usr/local/lib/python3.6/dist-packages/stable_baselines/ppo2/ppo2.py:202: The name tf.summary.merge_all is deprecated. Please use tf.compat.v1.summary.merge_all instead.\n",
            "\n"
          ],
          "name": "stdout"
        }
      ]
    },
    {
      "cell_type": "code",
      "metadata": {
        "id": "WFGJpEwKpFZo",
        "colab_type": "code",
        "colab": {}
      },
      "source": [
        "if CONTINUE_TRAINING:\n",
        "    play_and_show(model, env_record) # Show video of model"
      ],
      "execution_count": 0,
      "outputs": []
    },
    {
      "cell_type": "code",
      "metadata": {
        "id": "7plie2HUzWv5",
        "colab_type": "code",
        "outputId": "b0b3387b-1343-42b7-f3bd-57c2bb6f89aa",
        "colab": {
          "base_uri": "https://localhost:8080/",
          "height": 34
        }
      },
      "source": [
        "strftime(\"%X\")"
      ],
      "execution_count": 0,
      "outputs": [
        {
          "output_type": "execute_result",
          "data": {
            "text/plain": [
              "'21:41:39'"
            ]
          },
          "metadata": {
            "tags": []
          },
          "execution_count": 23
        }
      ]
    },
    {
      "cell_type": "code",
      "metadata": {
        "id": "TkD3oJnTg2VG",
        "colab_type": "code",
        "outputId": "b34da6c0-e325-4d64-e160-4a9e76e2376d",
        "colab": {
          "base_uri": "https://localhost:8080/",
          "height": 523
        }
      },
      "source": [
        "while True:\n",
        "    start = time()\n",
        "    model = model.learn(EPOCHS, callback=callback)\n",
        "    print(f\"Training took {(time() - start):.2f}s ({(time() - start) // 60} minutes)\")\n",
        "\n",
        "    # Save model\n",
        "    FILE_NAME = f\"{ALGORITHM}_{POLICY}_ep{INITIAL_EPOCH + EPOCHS}\"\n",
        "    SAVE_PATH = os.path.join(PATH_PREFIX, FILE_NAME)\n",
        "    print(\"Saving to\", SAVE_PATH)\n",
        "    model.save(SAVE_PATH)\n",
        "    INITIAL_EPOCH += EPOCHS\n",
        "\n",
        "    # Wrapped env for recording\n",
        "    env_record = wrap_env(DummyVecEnv([lambda: gym.make(ENVIRONMENT)]), video_name_prefix=FILE_NAME)\n",
        "\n",
        "    # Show video of model\n",
        "    play_and_show(model, env_record) # set show_info=True to print each step's info\n",
        "\n",
        "    print(f\"The iteration took {(time() - start):.2f}s\")\n",
        "\n",
        "    if not TRAIN_FOREVER:\n",
        "        print(\"Stop training\")\n",
        "        break"
      ],
      "execution_count": 0,
      "outputs": [
        {
          "output_type": "stream",
          "text": [
            "Training took 27.60s (0.0 minutes)\n",
            "Saving to drive/My Drive/unicamp/MC886/atari/Pong-v0/PPO2_CnnLnLstmPolicy_ep1000\n",
            "Saving video to  /content/drive/My Drive/unicamp/MC886/atari/Pong-v0/video/PPO2_CnnLnLstmPolicy_ep1000-step-0-to-step-1000.mp4\n",
            "Done after 1044 steps\n"
          ],
          "name": "stdout"
        },
        {
          "output_type": "display_data",
          "data": {
            "text/html": [
              "<video alt=\"test\" \n",
              "                    controls style=\"height: 400px;\">\n",
              "                    <source src=\"data:video/mp4;base64,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\" type=\"video/mp4\" />\n",
              "                  </video>"
            ],
            "text/plain": [
              "<IPython.core.display.HTML object>"
            ]
          },
          "metadata": {
            "tags": []
          }
        },
        {
          "output_type": "stream",
          "text": [
            "The iteration took 37.81s\n",
            "Stop training\n"
          ],
          "name": "stdout"
        }
      ]
    },
    {
      "cell_type": "code",
      "metadata": {
        "id": "9vgi8k2qI-z_",
        "colab_type": "code",
        "outputId": "86bbb60f-9229-4cb8-b5c2-19efdb8782ac",
        "colab": {
          "base_uri": "https://localhost:8080/",
          "height": 34
        }
      },
      "source": [
        "strftime(\"%X\")"
      ],
      "execution_count": 0,
      "outputs": [
        {
          "output_type": "execute_result",
          "data": {
            "text/plain": [
              "'21:42:17'"
            ]
          },
          "metadata": {
            "tags": []
          },
          "execution_count": 25
        }
      ]
    }
  ]
}