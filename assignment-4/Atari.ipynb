{
  "nbformat": 4,
  "nbformat_minor": 0,
  "metadata": {
    "colab": {
      "name": "Atari.ipynb",
      "provenance": [],
      "collapsed_sections": [],
      "toc_visible": true,
      "include_colab_link": true
    },
    "kernelspec": {
      "name": "python3",
      "display_name": "Python 3"
    }
  },
  "cells": [
    {
      "cell_type": "markdown",
      "metadata": {
        "id": "view-in-github",
        "colab_type": "text"
      },
      "source": [
        "<a href=\"https://colab.research.google.com/github/laurelkeys/machine-learning/blob/master/assignment-4/Atari.ipynb\" target=\"_parent\"><img src=\"https://colab.research.google.com/assets/colab-badge.svg\" alt=\"Open In Colab\"/></a>"
      ]
    },
    {
      "cell_type": "code",
      "metadata": {
        "id": "hCPb9PsLZbEh",
        "colab_type": "code",
        "colab": {}
      },
      "source": [
        "#### Stable baselines only support TF 1.x for now ####\n",
        "# try:\n",
        "#     # Colab only\n",
        "#     %tensorflow_version 2.x\n",
        "# except Exception:\n",
        "#     pass"
      ],
      "execution_count": 0,
      "outputs": []
    },
    {
      "cell_type": "code",
      "metadata": {
        "id": "4BqcMJtaZqXH",
        "colab_type": "code",
        "outputId": "dca9a13a-2178-411d-d6a5-e59e57fa1759",
        "colab": {
          "base_uri": "https://localhost:8080/",
          "height": 80
        }
      },
      "source": [
        "import tensorflow as tf\n",
        "from tensorflow import keras\n",
        "print(tf.__version__)"
      ],
      "execution_count": 0,
      "outputs": [
        {
          "output_type": "display_data",
          "data": {
            "text/html": [
              "<p style=\"color: red;\">\n",
              "The default version of TensorFlow in Colab will soon switch to TensorFlow 2.x.<br>\n",
              "We recommend you <a href=\"https://www.tensorflow.org/guide/migrate\" target=\"_blank\">upgrade</a> now \n",
              "or ensure your notebook will continue to use TensorFlow 1.x via the <code>%tensorflow_version 1.x</code> magic:\n",
              "<a href=\"https://colab.research.google.com/notebooks/tensorflow_version.ipynb\" target=\"_blank\">more info</a>.</p>\n"
            ],
            "text/plain": [
              "<IPython.core.display.HTML object>"
            ]
          },
          "metadata": {
            "tags": []
          }
        },
        {
          "output_type": "stream",
          "text": [
            "1.15.0\n"
          ],
          "name": "stdout"
        }
      ]
    },
    {
      "cell_type": "code",
      "metadata": {
        "id": "uL8eYtmNZxld",
        "colab_type": "code",
        "outputId": "09139bad-f5ae-4ada-9f1e-3cefd0bcb920",
        "colab": {
          "base_uri": "https://localhost:8080/",
          "height": 153
        }
      },
      "source": [
        "import stable_baselines"
      ],
      "execution_count": 0,
      "outputs": [
        {
          "output_type": "stream",
          "text": [
            "WARNING:tensorflow:\n",
            "The TensorFlow contrib module will not be included in TensorFlow 2.0.\n",
            "For more information, please see:\n",
            "  * https://github.com/tensorflow/community/blob/master/rfcs/20180907-contrib-sunset.md\n",
            "  * https://github.com/tensorflow/addons\n",
            "  * https://github.com/tensorflow/io (for I/O related ops)\n",
            "If you depend on functionality not listed there, please file an issue.\n",
            "\n"
          ],
          "name": "stdout"
        }
      ]
    },
    {
      "cell_type": "code",
      "metadata": {
        "id": "u0i0LUUNZ05V",
        "colab_type": "code",
        "colab": {}
      },
      "source": [
        "import warnings\n",
        "from time import time, strftime"
      ],
      "execution_count": 0,
      "outputs": []
    },
    {
      "cell_type": "code",
      "metadata": {
        "id": "LGv0nTbMaDhR",
        "colab_type": "code",
        "outputId": "f477a511-adba-473f-8106-27eae4e347c7",
        "colab": {
          "base_uri": "https://localhost:8080/",
          "height": 34
        }
      },
      "source": [
        "strftime('%X')"
      ],
      "execution_count": 0,
      "outputs": [
        {
          "output_type": "execute_result",
          "data": {
            "text/plain": [
              "'15:35:08'"
            ]
          },
          "metadata": {
            "tags": []
          },
          "execution_count": 5
        }
      ]
    },
    {
      "cell_type": "code",
      "metadata": {
        "id": "dRIt1QEXaEx6",
        "colab_type": "code",
        "outputId": "7fc75451-b853-4724-f7a9-75c33fd26617",
        "colab": {
          "base_uri": "https://localhost:8080/",
          "height": 34
        }
      },
      "source": [
        "from google.colab import drive\n",
        "drive.mount('/gdrive')"
      ],
      "execution_count": 0,
      "outputs": [
        {
          "output_type": "stream",
          "text": [
            "Mounted at /gdrive\n"
          ],
          "name": "stdout"
        }
      ]
    },
    {
      "cell_type": "code",
      "metadata": {
        "id": "dinyDs4ud-Bv",
        "colab_type": "code",
        "colab": {}
      },
      "source": [
        "import os\n",
        "\n",
        "PATH_TO_DATA = os.path.join(\"gdrive\", \"My Drive\", \"unicamp\", \"MC886\", \"atari\")\n",
        "\n",
        "if not os.path.exists(PATH_TO_DATA):\n",
        "    os.makedirs(PATH_TO_DATA)\n",
        "\n",
        "!ls gdrive/My\\ Drive/unicamp/MC886/atari/"
      ],
      "execution_count": 0,
      "outputs": []
    },
    {
      "cell_type": "markdown",
      "metadata": {
        "id": "LOE-rQCAaGEv",
        "colab_type": "text"
      },
      "source": [
        "# Trem"
      ]
    },
    {
      "cell_type": "code",
      "metadata": {
        "id": "BM5DybXXa5mO",
        "colab_type": "code",
        "colab": {}
      },
      "source": [
        "import gym"
      ],
      "execution_count": 0,
      "outputs": []
    },
    {
      "cell_type": "code",
      "metadata": {
        "id": "dlvZ_GXVdjKn",
        "colab_type": "code",
        "colab": {}
      },
      "source": [
        "from stable_baselines.common.policies import MlpPolicy\n",
        "from stable_baselines.common.vec_env import DummyVecEnv\n",
        "from stable_baselines import PPO2"
      ],
      "execution_count": 0,
      "outputs": []
    },
    {
      "cell_type": "code",
      "metadata": {
        "id": "QuFLh2PWfn1Y",
        "colab_type": "code",
        "colab": {}
      },
      "source": [
        "# https://stable-baselines.readthedocs.io/en/master/guide/algos.html\n",
        "POLICY = 'MlpPolicy'"
      ],
      "execution_count": 0,
      "outputs": []
    },
    {
      "cell_type": "code",
      "metadata": {
        "id": "rAZNOhIifzkX",
        "colab_type": "code",
        "colab": {}
      },
      "source": [
        "# https://gym.openai.com/envs/#atari\n",
        "ENVIROMENT = 'CartPole-v1'\n",
        "\n",
        "env = gym.make(ENVIROMENT)\n",
        "env = DummyVecEnv([lambda: env])"
      ],
      "execution_count": 0,
      "outputs": []
    },
    {
      "cell_type": "code",
      "metadata": {
        "id": "Jt5M7mbueTPa",
        "colab_type": "code",
        "colab": {}
      },
      "source": [
        "CONTINUE_TRAINING = False\n",
        "INITIAL_EPOCH = 0\n",
        "EPOCHS = 10000"
      ],
      "execution_count": 0,
      "outputs": []
    },
    {
      "cell_type": "code",
      "metadata": {
        "id": "TkD3oJnTg2VG",
        "colab_type": "code",
        "outputId": "a7ef9bed-cbb6-4241-d457-5a90ffa32731",
        "colab": {
          "base_uri": "https://localhost:8080/",
          "height": 663
        }
      },
      "source": [
        "if CONTINUE_TRAINING:\n",
        "    # Load the trained agent\n",
        "    model = PPO2.load(PATH_TO_DATA + ENVIROMENT + \"/PPO2_\" + POLICY + \"_ep\" + str(INITIAL_EPOCH))\n",
        "else:\n",
        "    model = PPO2(POLICY, env)\n",
        "\n",
        "model = model.learn(EPOCHS)"
      ],
      "execution_count": 0,
      "outputs": [
        {
          "output_type": "stream",
          "text": [
            "WARNING:tensorflow:From /usr/local/lib/python3.6/dist-packages/stable_baselines/common/tf_util.py:85: The name tf.ConfigProto is deprecated. Please use tf.compat.v1.ConfigProto instead.\n",
            "\n",
            "WARNING:tensorflow:From /usr/local/lib/python3.6/dist-packages/stable_baselines/common/tf_util.py:94: The name tf.Session is deprecated. Please use tf.compat.v1.Session instead.\n",
            "\n",
            "WARNING:tensorflow:From /usr/local/lib/python3.6/dist-packages/stable_baselines/common/policies.py:50: The name tf.variable_scope is deprecated. Please use tf.compat.v1.variable_scope instead.\n",
            "\n",
            "WARNING:tensorflow:From /usr/local/lib/python3.6/dist-packages/stable_baselines/common/input.py:25: The name tf.placeholder is deprecated. Please use tf.compat.v1.placeholder instead.\n",
            "\n",
            "WARNING:tensorflow:From /usr/local/lib/python3.6/dist-packages/stable_baselines/common/input.py:26: to_float (from tensorflow.python.ops.math_ops) is deprecated and will be removed in a future version.\n",
            "Instructions for updating:\n",
            "Use `tf.cast` instead.\n",
            "WARNING:tensorflow:From /usr/local/lib/python3.6/dist-packages/stable_baselines/common/policies.py:260: flatten (from tensorflow.python.layers.core) is deprecated and will be removed in a future version.\n",
            "Instructions for updating:\n",
            "Use keras.layers.flatten instead.\n",
            "WARNING:tensorflow:From /usr/local/lib/python3.6/dist-packages/tensorflow_core/python/layers/core.py:332: Layer.apply (from tensorflow.python.keras.engine.base_layer) is deprecated and will be removed in a future version.\n",
            "Instructions for updating:\n",
            "Please use `layer.__call__` method instead.\n",
            "WARNING:tensorflow:From /usr/local/lib/python3.6/dist-packages/stable_baselines/a2c/utils.py:145: The name tf.get_variable is deprecated. Please use tf.compat.v1.get_variable instead.\n",
            "\n",
            "WARNING:tensorflow:From /usr/local/lib/python3.6/dist-packages/stable_baselines/common/distributions.py:319: The name tf.random_uniform is deprecated. Please use tf.random.uniform instead.\n",
            "\n",
            "WARNING:tensorflow:From /usr/local/lib/python3.6/dist-packages/stable_baselines/common/distributions.py:320: The name tf.log is deprecated. Please use tf.math.log instead.\n",
            "\n",
            "WARNING:tensorflow:From /usr/local/lib/python3.6/dist-packages/stable_baselines/ppo2/ppo2.py:158: The name tf.summary.scalar is deprecated. Please use tf.compat.v1.summary.scalar instead.\n",
            "\n",
            "WARNING:tensorflow:From /usr/local/lib/python3.6/dist-packages/stable_baselines/ppo2/ppo2.py:166: The name tf.trainable_variables is deprecated. Please use tf.compat.v1.trainable_variables instead.\n",
            "\n",
            "WARNING:tensorflow:From /usr/local/lib/python3.6/dist-packages/tensorflow_core/python/ops/math_grad.py:1424: where (from tensorflow.python.ops.array_ops) is deprecated and will be removed in a future version.\n",
            "Instructions for updating:\n",
            "Use tf.where in 2.0, which has the same broadcast rule as np.where\n",
            "WARNING:tensorflow:From /usr/local/lib/python3.6/dist-packages/stable_baselines/ppo2/ppo2.py:171: The name tf.train.AdamOptimizer is deprecated. Please use tf.compat.v1.train.AdamOptimizer instead.\n",
            "\n",
            "WARNING:tensorflow:From /usr/local/lib/python3.6/dist-packages/stable_baselines/ppo2/ppo2.py:178: The name tf.summary.histogram is deprecated. Please use tf.compat.v1.summary.histogram instead.\n",
            "\n",
            "WARNING:tensorflow:From /usr/local/lib/python3.6/dist-packages/stable_baselines/ppo2/ppo2.py:200: The name tf.global_variables_initializer is deprecated. Please use tf.compat.v1.global_variables_initializer instead.\n",
            "\n",
            "WARNING:tensorflow:From /usr/local/lib/python3.6/dist-packages/stable_baselines/ppo2/ppo2.py:202: The name tf.summary.merge_all is deprecated. Please use tf.compat.v1.summary.merge_all instead.\n",
            "\n"
          ],
          "name": "stdout"
        }
      ]
    },
    {
      "cell_type": "code",
      "metadata": {
        "id": "95xGJDo1fQzw",
        "colab_type": "code",
        "outputId": "6de239ed-8293-434a-86ef-e8164ff78d27",
        "colab": {
          "base_uri": "https://localhost:8080/",
          "height": 34
        }
      },
      "source": [
        "### Try to remember to change the string to match whatever you are training ###\n",
        "PATH_PREFIX = os.path.join(PATH_TO_DATA, ENVIROMENT)\n",
        "\n",
        "if not os.path.exists(PATH_PREFIX):\n",
        "    os.makedirs(PATH_PREFIX)\n",
        "\n",
        "FILE_NAME = \"PPO2_\" + POLICY + \"_ep\" + str(INITIAL_EPOCH + EPOCHS)\n",
        "\n",
        "SAVE_PATH = os.path.join(PATH_PREFIX, FILE_NAME)\n",
        "print(\"Saving to\", SAVE_PATH)\n",
        "\n",
        "model.save(SAVE_PATH)"
      ],
      "execution_count": 0,
      "outputs": [
        {
          "output_type": "stream",
          "text": [
            "Saving to gdrive/My Drive/unicamp/MC886/atari/CartPole-v1/PPO2_MlpPolicy_ep10000\n"
          ],
          "name": "stdout"
        }
      ]
    },
    {
      "cell_type": "markdown",
      "metadata": {
        "id": "0xUzhGsqrvwe",
        "colab_type": "text"
      },
      "source": [
        "# Save video of trained model"
      ]
    },
    {
      "cell_type": "markdown",
      "metadata": {
        "id": "X9_xbmXavdfC",
        "colab_type": "text"
      },
      "source": [
        "### Setup - https://star-ai.github.io/Rendering-OpenAi-Gym-in-Colaboratory/"
      ]
    },
    {
      "cell_type": "code",
      "metadata": {
        "id": "yXlihENUvbRl",
        "colab_type": "code",
        "colab": {}
      },
      "source": [
        "!pip install gym pyvirtualdisplay > /dev/null 2>&1\n",
        "!apt-get install -y xvfb python-opengl ffmpeg > /dev/null 2>&1"
      ],
      "execution_count": 0,
      "outputs": []
    },
    {
      "cell_type": "code",
      "metadata": {
        "id": "2f4_46FIyz2f",
        "colab_type": "code",
        "outputId": "e2736485-11ac-4222-d403-14461546018c",
        "colab": {
          "base_uri": "https://localhost:8080/",
          "height": 34
        }
      },
      "source": [
        "!apt-get update > /dev/null 2>&1\n",
        "!apt-get install cmake > /dev/null 2>&1\n",
        "!pip install --upgrade setuptools 2>&1\n",
        "!pip install ez_setup > /dev/null 2>&1\n",
        "!pip install gym[atari] > /dev/null 2>&1"
      ],
      "execution_count": 0,
      "outputs": [
        {
          "output_type": "stream",
          "text": [
            "Requirement already up-to-date: setuptools in /usr/local/lib/python3.6/dist-packages (41.6.0)\n"
          ],
          "name": "stdout"
        }
      ]
    },
    {
      "cell_type": "code",
      "metadata": {
        "id": "HWCM4sauvhct",
        "colab_type": "code",
        "colab": {}
      },
      "source": [
        "import gym\n",
        "from gym import logger as gymlogger\n",
        "from gym.wrappers import Monitor\n",
        "gymlogger.set_level(40) #error only\n",
        "import tensorflow as tf\n",
        "import numpy as np\n",
        "import random\n",
        "import matplotlib\n",
        "import matplotlib.pyplot as plt\n",
        "%matplotlib inline\n",
        "import math\n",
        "import glob\n",
        "import io\n",
        "import base64\n",
        "from IPython.display import HTML\n",
        "\n",
        "from IPython import display as ipythondisplay"
      ],
      "execution_count": 0,
      "outputs": []
    },
    {
      "cell_type": "code",
      "metadata": {
        "id": "O2AmOp3YvqYZ",
        "colab_type": "code",
        "outputId": "d60715e0-4ffc-4cdf-d699-4fbc72778e0d",
        "colab": {
          "base_uri": "https://localhost:8080/",
          "height": 71
        }
      },
      "source": [
        "from pyvirtualdisplay import Display\n",
        "display = Display(visible=0, size=(640, 480))\n",
        "display.start()"
      ],
      "execution_count": 0,
      "outputs": [
        {
          "output_type": "stream",
          "text": [
            "xdpyinfo was not found, X start can not be checked! Please install xdpyinfo!\n"
          ],
          "name": "stderr"
        },
        {
          "output_type": "execute_result",
          "data": {
            "text/plain": [
              "<Display cmd_param=['Xvfb', '-br', '-nolisten', 'tcp', '-screen', '0', '640x480x24', ':1025'] cmd=['Xvfb', '-br', '-nolisten', 'tcp', '-screen', '0', '640x480x24', ':1025'] oserror=None return_code=None stdout=\"None\" stderr=\"None\" timeout_happened=False>"
            ]
          },
          "metadata": {
            "tags": []
          },
          "execution_count": 18
        }
      ]
    },
    {
      "cell_type": "code",
      "metadata": {
        "id": "d3CjNa9yxJMT",
        "colab_type": "code",
        "colab": {}
      },
      "source": [
        "def show_video():\n",
        "    mp4list = glob.glob('video/*.mp4')\n",
        "    if len(mp4list) > 0:\n",
        "        mp4 = mp4list[0]\n",
        "        video = io.open(mp4, 'r+b').read()\n",
        "        encoded = base64.b64encode(video)\n",
        "        ipythondisplay.display(HTML(data='''<video alt=\"test\" autoplay \n",
        "                    loop controls style=\"height: 400px;\">\n",
        "                    <source src=\"data:video/mp4;base64,{0}\" type=\"video/mp4\" />\n",
        "                  </video>'''.format(encoded.decode('ascii'))))\n",
        "    else: \n",
        "        print(\"Could not find video\")"
      ],
      "execution_count": 0,
      "outputs": []
    },
    {
      "cell_type": "code",
      "metadata": {
        "id": "n0daKSoRxJPF",
        "colab_type": "code",
        "colab": {}
      },
      "source": [
        "def wrap_env(env):\n",
        "    env = Monitor(env, './video', force=True)\n",
        "    return env"
      ],
      "execution_count": 0,
      "outputs": []
    },
    {
      "cell_type": "markdown",
      "metadata": {
        "id": "ABpp_aArvh8s",
        "colab_type": "text"
      },
      "source": [
        "### Actual thing"
      ]
    },
    {
      "cell_type": "code",
      "metadata": {
        "id": "KqQCjOnyttJN",
        "colab_type": "code",
        "colab": {}
      },
      "source": [
        "VIDEO_FOLDER = os.path.join(PATH_PREFIX, \"videos\")\n",
        "if not os.path.exists(VIDEO_FOLDER):\n",
        "    os.makedirs(VIDEO_FOLDER)"
      ],
      "execution_count": 0,
      "outputs": []
    },
    {
      "cell_type": "code",
      "metadata": {
        "id": "knhAEJ3kszSi",
        "colab_type": "code",
        "outputId": "05960c8d-c958-4260-b151-db407007b6e9",
        "colab": {
          "base_uri": "https://localhost:8080/",
          "height": 34
        }
      },
      "source": [
        "env_record = wrap_env(gym.make(ENVIROMENT))\n",
        "\n",
        "#check out the action space!\n",
        "print(env_record.action_space)"
      ],
      "execution_count": 0,
      "outputs": [
        {
          "output_type": "stream",
          "text": [
            "Discrete(2)\n"
          ],
          "name": "stdout"
        }
      ]
    },
    {
      "cell_type": "code",
      "metadata": {
        "id": "egqjVVFXugoL",
        "colab_type": "code",
        "outputId": "8f20e8ab-78d1-4fec-970c-1704957dc1f6",
        "colab": {
          "base_uri": "https://localhost:8080/",
          "height": 591
        }
      },
      "source": [
        "obs = env_record.reset()\n",
        "\n",
        "while True:\n",
        "    env.render()\n",
        "    action = model.predict(obs)\n",
        "    # action = env_record.action_space.sample() \n",
        "    print(action)\n",
        "    observation, reward, done, info = env_record.step(action[0]) \n",
        "    if done: \n",
        "        break\n",
        "\n",
        "env_record.close()\n",
        "show_video()"
      ],
      "execution_count": 0,
      "outputs": [
        {
          "output_type": "stream",
          "text": [
            "(1, None)\n",
            "(1, None)\n",
            "(1, None)\n",
            "(1, None)\n",
            "(1, None)\n",
            "(1, None)\n",
            "(1, None)\n",
            "(1, None)\n",
            "(1, None)\n",
            "(1, None)\n"
          ],
          "name": "stdout"
        },
        {
          "output_type": "display_data",
          "data": {
            "text/html": [
              "<video alt=\"test\" autoplay \n",
              "                    loop controls style=\"height: 400px;\">\n",
              "                    <source src=\"data:video/mp4;base64,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\" type=\"video/mp4\" />\n",
              "                  </video>"
            ],
            "text/plain": [
              "<IPython.core.display.HTML object>"
            ]
          },
          "metadata": {
            "tags": []
          }
        }
      ]
    },
    {
      "cell_type": "code",
      "metadata": {
        "id": "hjyaVwpO0kRP",
        "colab_type": "code",
        "colab": {}
      },
      "source": [
        ""
      ],
      "execution_count": 0,
      "outputs": []
    }
  ]
}