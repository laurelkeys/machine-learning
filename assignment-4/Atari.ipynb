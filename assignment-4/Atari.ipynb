{
  "nbformat": 4,
  "nbformat_minor": 0,
  "metadata": {
    "colab": {
      "name": "Atari.ipynb",
      "provenance": [],
      "collapsed_sections": [],
      "include_colab_link": true
    },
    "kernelspec": {
      "name": "python3",
      "display_name": "Python 3"
    },
    "accelerator": "GPU"
  },
  "cells": [
    {
      "cell_type": "markdown",
      "metadata": {
        "id": "view-in-github",
        "colab_type": "text"
      },
      "source": [
        "<a href=\"https://colab.research.google.com/github/laurelkeys/machine-learning/blob/master/assignment-4/Atari.ipynb\" target=\"_parent\"><img src=\"https://colab.research.google.com/assets/colab-badge.svg\" alt=\"Open In Colab\"/></a>"
      ]
    },
    {
      "cell_type": "markdown",
      "metadata": {
        "id": "prXRYYviFKJk",
        "colab_type": "text"
      },
      "source": [
        "# Variables to set"
      ]
    },
    {
      "cell_type": "code",
      "metadata": {
        "id": "dFDQhtBZFIOs",
        "colab_type": "code",
        "colab": {}
      },
      "source": [
        "# https://stable-baselines.readthedocs.io/en/master/guide/algos.html\n",
        "ALGORITHM = \"PPO2\"\n",
        "POLICY = \"CnnLnLstmPolicy\"\n",
        "\n",
        "# https://gym.openai.com/envs/#atari\n",
        "ENVIRONMENT = \"Breakout-v0\""
      ],
      "execution_count": 0,
      "outputs": []
    },
    {
      "cell_type": "code",
      "metadata": {
        "id": "bJ7Qa6BsFgBu",
        "colab_type": "code",
        "colab": {}
      },
      "source": [
        "CONTINUE_TRAINING = True  # Set this if want to continue training from a saved model, and don't forget to set INITIAL_EPOCH\n",
        "TRAIN_FOREVER = True      # Set this if you want to train until the notebook disconnects\n",
        "\n",
        "INITIAL_EPOCH = 1700000    # If CONTINUE_TRAINING set this to use the model trained for this many epochs with the other set parameters\n",
        "EPOCHS = 2000           # Number of epochs between model saving (checkpoint)"
      ],
      "execution_count": 0,
      "outputs": []
    },
    {
      "cell_type": "markdown",
      "metadata": {
        "id": "QiUQSHnCaqzT",
        "colab_type": "text"
      },
      "source": [
        "Please don't forget to **mount your drive**, otherwise it will wait forever"
      ]
    },
    {
      "cell_type": "markdown",
      "metadata": {
        "id": "mNfIP1VBFTaU",
        "colab_type": "text"
      },
      "source": [
        "# Imports"
      ]
    },
    {
      "cell_type": "code",
      "metadata": {
        "id": "hCPb9PsLZbEh",
        "colab_type": "code",
        "colab": {}
      },
      "source": [
        "#### Stable baselines only support TF 1.x for now ####\n",
        "try:\n",
        "    # Colab only\n",
        "    # %tensorflow_version 2.x\n",
        "    %tensorflow_version 1.x\n",
        "except Exception:\n",
        "    pass"
      ],
      "execution_count": 0,
      "outputs": []
    },
    {
      "cell_type": "code",
      "metadata": {
        "id": "4BqcMJtaZqXH",
        "colab_type": "code",
        "outputId": "ab9978b9-7331-4c09-9d87-d10d10cf4851",
        "colab": {
          "base_uri": "https://localhost:8080/",
          "height": 34
        }
      },
      "source": [
        "import tensorflow as tf\n",
        "from tensorflow import keras\n",
        "print(tf.__version__)"
      ],
      "execution_count": 0,
      "outputs": [
        {
          "output_type": "stream",
          "text": [
            "1.15.0\n"
          ],
          "name": "stdout"
        }
      ]
    },
    {
      "cell_type": "code",
      "metadata": {
        "id": "uL8eYtmNZxld",
        "colab_type": "code",
        "outputId": "e19cfea8-9fc6-4fe6-ee2b-2d940814ad4f",
        "colab": {
          "base_uri": "https://localhost:8080/",
          "height": 153
        }
      },
      "source": [
        "import stable_baselines\n",
        "\n",
        "from stable_baselines.common.policies import MlpPolicy, CnnPolicy\n",
        "from stable_baselines.common.vec_env import DummyVecEnv, SubprocVecEnv\n",
        "from stable_baselines import PPO2\n",
        "from stable_baselines.bench import Monitor"
      ],
      "execution_count": 0,
      "outputs": [
        {
          "output_type": "stream",
          "text": [
            "WARNING:tensorflow:\n",
            "The TensorFlow contrib module will not be included in TensorFlow 2.0.\n",
            "For more information, please see:\n",
            "  * https://github.com/tensorflow/community/blob/master/rfcs/20180907-contrib-sunset.md\n",
            "  * https://github.com/tensorflow/addons\n",
            "  * https://github.com/tensorflow/io (for I/O related ops)\n",
            "If you depend on functionality not listed there, please file an issue.\n",
            "\n"
          ],
          "name": "stdout"
        }
      ]
    },
    {
      "cell_type": "code",
      "metadata": {
        "id": "u0i0LUUNZ05V",
        "colab_type": "code",
        "colab": {}
      },
      "source": [
        "import warnings\n",
        "from time import time, strftime, sleep"
      ],
      "execution_count": 0,
      "outputs": []
    },
    {
      "cell_type": "code",
      "metadata": {
        "id": "LGv0nTbMaDhR",
        "colab_type": "code",
        "outputId": "3fed6f36-8b8d-44f0-f90b-88477f702f42",
        "colab": {
          "base_uri": "https://localhost:8080/",
          "height": 34
        }
      },
      "source": [
        "strftime(\"%X\")"
      ],
      "execution_count": 0,
      "outputs": [
        {
          "output_type": "execute_result",
          "data": {
            "text/plain": [
              "'13:48:33'"
            ]
          },
          "metadata": {
            "tags": []
          },
          "execution_count": 7
        }
      ]
    },
    {
      "cell_type": "code",
      "metadata": {
        "id": "dRIt1QEXaEx6",
        "colab_type": "code",
        "outputId": "251b56e0-8343-439d-8892-5b4716f150da",
        "colab": {
          "base_uri": "https://localhost:8080/",
          "height": 92
        }
      },
      "source": [
        "from IPython.display import Audio, display\n",
        "display(Audio(url='https://sound.peal.io/ps/audios/000/000/537/original/woo_vu_luvub_dub_dub.wav', autoplay=True))\n",
        "\n",
        "# remeber to mount your drive on your academic account for more storage ;)\n",
        "\n",
        "from google.colab import drive\n",
        "drive.mount('/content/drive', force_remount=True)"
      ],
      "execution_count": 0,
      "outputs": [
        {
          "output_type": "display_data",
          "data": {
            "text/html": [
              "\n",
              "                <audio controls=\"controls\" autoplay=\"autoplay\">\n",
              "                    <source src=\"https://sound.peal.io/ps/audios/000/000/537/original/woo_vu_luvub_dub_dub.wav\" type=\"audio/x-wav\" />\n",
              "                    Your browser does not support the audio element.\n",
              "                </audio>\n",
              "              "
            ],
            "text/plain": [
              "<IPython.lib.display.Audio object>"
            ]
          },
          "metadata": {
            "tags": []
          }
        },
        {
          "output_type": "stream",
          "text": [
            "Mounted at /content/drive\n"
          ],
          "name": "stdout"
        }
      ]
    },
    {
      "cell_type": "code",
      "metadata": {
        "id": "dinyDs4ud-Bv",
        "colab_type": "code",
        "outputId": "0e06f0bc-32d9-4003-fa7b-cd946fd22175",
        "colab": {
          "base_uri": "https://localhost:8080/",
          "height": 34
        }
      },
      "source": [
        "import os\n",
        "\n",
        "PATH_TO_DATA = os.path.join(\"drive\", \"My Drive\", \"unicamp\", \"MC886\", \"atari\")\n",
        "\n",
        "if not os.path.exists(PATH_TO_DATA):\n",
        "    os.makedirs(PATH_TO_DATA)\n",
        "\n",
        "!ls drive/My\\ Drive/unicamp/MC886/atari/"
      ],
      "execution_count": 0,
      "outputs": [
        {
          "output_type": "stream",
          "text": [
            "Breakout-ram-v0  Breakout-v0  CartPole-v1\n"
          ],
          "name": "stdout"
        }
      ]
    },
    {
      "cell_type": "code",
      "metadata": {
        "id": "cRDKKNj6Ie2J",
        "colab_type": "code",
        "colab": {}
      },
      "source": [
        "PATH_PREFIX = os.path.join(PATH_TO_DATA, ENVIRONMENT)\n",
        "\n",
        "if not os.path.exists(PATH_PREFIX):\n",
        "    os.makedirs(PATH_PREFIX)\n",
        "\n",
        "FILE_NAME = f\"{ALGORITHM}_{POLICY}_ep{INITIAL_EPOCH + EPOCHS}\"\n",
        "\n",
        "SAVE_PATH = os.path.join(PATH_PREFIX, FILE_NAME)"
      ],
      "execution_count": 0,
      "outputs": []
    },
    {
      "cell_type": "markdown",
      "metadata": {
        "id": "G4aiKF3WELp8",
        "colab_type": "text"
      },
      "source": [
        "# Setup for video displaying"
      ]
    },
    {
      "cell_type": "markdown",
      "metadata": {
        "id": "CLmFeHGTFs9e",
        "colab_type": "text"
      },
      "source": [
        "[Rendering OpenAi Gym in Google Colaboratory](https://star-ai.github.io/Rendering-OpenAi-Gym-in-Colaboratory/)"
      ]
    },
    {
      "cell_type": "code",
      "metadata": {
        "id": "x8Dd9fH6ERME",
        "colab_type": "code",
        "colab": {}
      },
      "source": [
        "!pip install gym pyvirtualdisplay > /dev/null 2>&1\n",
        "!apt-get install -y xvfb python-opengl ffmpeg > /dev/null 2>&1"
      ],
      "execution_count": 0,
      "outputs": []
    },
    {
      "cell_type": "code",
      "metadata": {
        "id": "4xl6FVvJERPn",
        "colab_type": "code",
        "outputId": "3fb936d9-02f6-4e60-e0fa-0e1685637dbb",
        "colab": {
          "base_uri": "https://localhost:8080/",
          "height": 34
        }
      },
      "source": [
        "!apt-get update > /dev/null 2>&1\n",
        "!apt-get install cmake > /dev/null 2>&1\n",
        "!pip install --upgrade setuptools 2>&1\n",
        "!pip install ez_setup > /dev/null 2>&1\n",
        "!pip install gym[atari] > /dev/null 2>&1"
      ],
      "execution_count": 0,
      "outputs": [
        {
          "output_type": "stream",
          "text": [
            "Requirement already up-to-date: setuptools in /usr/local/lib/python3.6/dist-packages (41.6.0)\n"
          ],
          "name": "stdout"
        }
      ]
    },
    {
      "cell_type": "code",
      "metadata": {
        "id": "fs5CDXLJEUot",
        "colab_type": "code",
        "colab": {}
      },
      "source": [
        "import gym\n",
        "from gym import logger as gymlogger\n",
        "# from gym.wrappers import Monitor\n",
        "gymlogger.set_level(40) # error only\n",
        "import tensorflow as tf\n",
        "import numpy as np\n",
        "import random\n",
        "import matplotlib\n",
        "import matplotlib.pyplot as plt\n",
        "%matplotlib inline\n",
        "import math\n",
        "import glob\n",
        "import io\n",
        "import base64\n",
        "from IPython.display import HTML\n",
        "\n",
        "from IPython import display as ipythondisplay"
      ],
      "execution_count": 0,
      "outputs": []
    },
    {
      "cell_type": "code",
      "metadata": {
        "id": "zJXTkx_uEU1G",
        "colab_type": "code",
        "outputId": "4087928c-158e-4c8d-e71f-6eedd8ee6dcf",
        "colab": {
          "base_uri": "https://localhost:8080/",
          "height": 71
        }
      },
      "source": [
        "from pyvirtualdisplay import Display\n",
        "display = Display(visible=0, size=(640, 480))\n",
        "display.start()"
      ],
      "execution_count": 0,
      "outputs": [
        {
          "output_type": "stream",
          "text": [
            "xdpyinfo was not found, X start can not be checked! Please install xdpyinfo!\n"
          ],
          "name": "stderr"
        },
        {
          "output_type": "execute_result",
          "data": {
            "text/plain": [
              "<Display cmd_param=['Xvfb', '-br', '-nolisten', 'tcp', '-screen', '0', '640x480x24', ':1001'] cmd=['Xvfb', '-br', '-nolisten', 'tcp', '-screen', '0', '640x480x24', ':1001'] oserror=None return_code=None stdout=\"None\" stderr=\"None\" timeout_happened=False>"
            ]
          },
          "metadata": {
            "tags": []
          },
          "execution_count": 14
        }
      ]
    },
    {
      "cell_type": "markdown",
      "metadata": {
        "id": "_Bm8SO4MEccv",
        "colab_type": "text"
      },
      "source": [
        "# Functions for video"
      ]
    },
    {
      "cell_type": "code",
      "metadata": {
        "id": "7Q2kRFavEU6Z",
        "colab_type": "code",
        "colab": {}
      },
      "source": [
        "PATH_VIDEO = os.path.join(PATH_PREFIX, \"video\")\n",
        "\n",
        "if not os.path.exists(PATH_VIDEO):\n",
        "    os.makedirs(PATH_VIDEO)"
      ],
      "execution_count": 0,
      "outputs": []
    },
    {
      "cell_type": "code",
      "metadata": {
        "id": "3g1Z5irLEU4a",
        "colab_type": "code",
        "colab": {}
      },
      "source": [
        "def show_video():\n",
        "    mp4list = glob.glob(PATH_VIDEO + '/*.mp4')\n",
        "    if len(mp4list) > 0:\n",
        "        # mp4 = mp4list[0]\n",
        "        mp4 = max(mp4list, key=os.path.getctime) # get latest file\n",
        "        video = io.open(mp4, 'rb').read()\n",
        "        encoded = base64.b64encode(video)\n",
        "        ipythondisplay.display(HTML(data='''<video alt=\"test\" \n",
        "                    controls style=\"height: 400px;\">\n",
        "                    <source src=\"data:video/mp4;base64,{0}\" type=\"video/mp4\" />\n",
        "                  </video>'''.format(encoded.decode())))\n",
        "    else: \n",
        "        print(\"Could not find video\")"
      ],
      "execution_count": 0,
      "outputs": []
    },
    {
      "cell_type": "code",
      "metadata": {
        "id": "AisZAxsFElJL",
        "colab_type": "code",
        "colab": {}
      },
      "source": [
        "from stable_baselines.common.vec_env import VecVideoRecorder\n",
        "video_length = 1000\n",
        "\n",
        "def wrap_env(env, path=\"\"):\n",
        "    if path == \"\":\n",
        "        path = f\"random-agent-{ENVIRONMENT}\"\n",
        "    env = VecVideoRecorder(env, \n",
        "                           video_folder=PATH_VIDEO, \n",
        "                           record_video_trigger=lambda curr_step: curr_step == 0, # defines when to start recording\n",
        "                           video_length=video_length,\n",
        "                           name_prefix=path)\n",
        "    return env"
      ],
      "execution_count": 0,
      "outputs": []
    },
    {
      "cell_type": "code",
      "metadata": {
        "id": "MQBvHmjrGZqV",
        "colab_type": "code",
        "colab": {}
      },
      "source": [
        "def play_and_show(model, env):\n",
        "    obs = env.reset()\n",
        "\n",
        "    steps = 0\n",
        "    while True:\n",
        "        env.render()\n",
        "        action = model.predict(obs)\n",
        "        # action = env.action_space.sample() \n",
        "        # print(action)\n",
        "        observation, reward, done, info = env.step(action)\n",
        "        steps += 1\n",
        "        if done:\n",
        "            print(f\"Done after {steps} steps\")\n",
        "            break\n",
        "\n",
        "    env.close()\n",
        "\n",
        "    sleep(1)\n",
        "    show_video()"
      ],
      "execution_count": 0,
      "outputs": []
    },
    {
      "cell_type": "markdown",
      "metadata": {
        "id": "kqhGDS2Sy8Fp",
        "colab_type": "text"
      },
      "source": [
        "## Functions"
      ]
    },
    {
      "cell_type": "code",
      "metadata": {
        "id": "bi8bQmuXy-Q0",
        "colab_type": "code",
        "colab": {}
      },
      "source": [
        "from stable_baselines.results_plotter import load_results, ts2xy\n",
        "from stable_baselines import results_plotter\n",
        "\n",
        "BEST_MEAN_REWARD_, N_STEPS_ = -np.inf, 0 # Copied code, pls don't judge\n",
        "# Create log dir\n",
        "LOG_PATH = \"tmp/\"\n",
        "os.makedirs(LOG_PATH, exist_ok=True)\n",
        "\n",
        "def callback(_locals, _globals):\n",
        "    \"\"\"\n",
        "    Callback called at each step (for DQN and others) or after n steps (see ACER or PPO2)\n",
        "    :param _locals: (dict)\n",
        "    :param _globals: (dict)\n",
        "    \"\"\"\n",
        "    global N_STEPS_, BEST_MEAN_REWARD_\n",
        "    # Print stats every 1000 calls\n",
        "    if (N_STEPS_ + 1) % 1000 == 0:\n",
        "        # Evaluate policy training performance\n",
        "        try:\n",
        "            x, y = ts2xy(load_results(LOG_PATH), 'timesteps')\n",
        "            if len(x) > 0:\n",
        "                mean_reward = np.mean(y[-100:])\n",
        "                print(x[-1], 'timesteps')\n",
        "                print(\"Best mean reward: {:.2f} - Last mean reward per episode: {:.2f}\".format(best_mean_reward, mean_reward))\n",
        "\n",
        "                # New best model, you could save the agent here\n",
        "                if mean_reward > BEST_MEAN_REWARD_:\n",
        "                    BEST_MEAN_REWARD_ = mean_reward\n",
        "                    # Example for saving best model\n",
        "                    print(\"Saving new best model\")\n",
        "                    _locals['self'].save(LOG_PATH + 'best_model.pkl')\n",
        "            else:\n",
        "              print(\"Empty monitor.csv\")\n",
        "        except:\n",
        "          print(\"No monitor.csv found\")\n",
        "    N_STEPS_ += 1\n",
        "    return True"
      ],
      "execution_count": 0,
      "outputs": []
    },
    {
      "cell_type": "markdown",
      "metadata": {
        "id": "LOE-rQCAaGEv",
        "colab_type": "text"
      },
      "source": [
        "# Trem"
      ]
    },
    {
      "cell_type": "code",
      "metadata": {
        "id": "rAZNOhIifzkX",
        "colab_type": "code",
        "outputId": "9b8a15c4-b27a-4f6d-f67b-9964c2156b62",
        "colab": {
          "base_uri": "https://localhost:8080/",
          "height": 34
        }
      },
      "source": [
        "env = Monitor(gym.make(ENVIRONMENT), LOG_PATH, allow_early_resets=True)\n",
        "env = DummyVecEnv([lambda: env])\n",
        "# env = Monitor(env, LOG_PATH, allow_early_resets=True)\n",
        "\n",
        "# Wrapped env for recording\n",
        "env_record = wrap_env(DummyVecEnv([lambda: gym.make(ENVIRONMENT)]), path=FILE_NAME)\n",
        "\n",
        "# check out the action space, if both aren't identical something will probably go wrong\n",
        "print(env.action_space, env_record.action_space, env.action_space == env_record.action_space)"
      ],
      "execution_count": 0,
      "outputs": [
        {
          "output_type": "stream",
          "text": [
            "Discrete(4) Discrete(4) True\n"
          ],
          "name": "stdout"
        }
      ]
    },
    {
      "cell_type": "code",
      "metadata": {
        "id": "vytZYM62sgJO",
        "colab_type": "code",
        "outputId": "77cc2ad0-0016-4a40-cd7a-97f1babcbb32",
        "colab": {
          "base_uri": "https://localhost:8080/",
          "height": 595
        }
      },
      "source": [
        "PATH_SAVED = os.path.join(PATH_TO_DATA, ENVIRONMENT, f\"{ALGORITHM}_{POLICY}_ep{INITIAL_EPOCH}\")\n",
        "if CONTINUE_TRAINING and os.path.exists(PATH_SAVED):\n",
        "    model = PPO2.load(PATH_SAVED, env=env) # Load the trained agent\n",
        "else:\n",
        "    if os.path.exists(PATH_SAVED):\n",
        "        print(\"Model not found, training from scratch\")\n",
        "        INITIAL_EPOCH = 0\n",
        "    model = PPO2(POLICY, env, nminibatches=1)"
      ],
      "execution_count": 0,
      "outputs": [
        {
          "output_type": "stream",
          "text": [
            "WARNING:tensorflow:From /usr/local/lib/python3.6/dist-packages/stable_baselines/common/tf_util.py:85: The name tf.ConfigProto is deprecated. Please use tf.compat.v1.ConfigProto instead.\n",
            "\n",
            "WARNING:tensorflow:From /usr/local/lib/python3.6/dist-packages/stable_baselines/common/tf_util.py:94: The name tf.Session is deprecated. Please use tf.compat.v1.Session instead.\n",
            "\n",
            "WARNING:tensorflow:From /usr/local/lib/python3.6/dist-packages/stable_baselines/common/policies.py:50: The name tf.variable_scope is deprecated. Please use tf.compat.v1.variable_scope instead.\n",
            "\n",
            "WARNING:tensorflow:From /usr/local/lib/python3.6/dist-packages/stable_baselines/common/input.py:25: The name tf.placeholder is deprecated. Please use tf.compat.v1.placeholder instead.\n",
            "\n",
            "WARNING:tensorflow:From /usr/local/lib/python3.6/dist-packages/stable_baselines/common/input.py:26: to_float (from tensorflow.python.ops.math_ops) is deprecated and will be removed in a future version.\n",
            "Instructions for updating:\n",
            "Use `tf.cast` instead.\n",
            "WARNING:tensorflow:From /usr/local/lib/python3.6/dist-packages/stable_baselines/a2c/utils.py:125: The name tf.get_variable is deprecated. Please use tf.compat.v1.get_variable instead.\n",
            "\n",
            "WARNING:tensorflow:From /usr/local/lib/python3.6/dist-packages/stable_baselines/common/distributions.py:319: The name tf.random_uniform is deprecated. Please use tf.random.uniform instead.\n",
            "\n",
            "WARNING:tensorflow:From /usr/local/lib/python3.6/dist-packages/stable_baselines/common/distributions.py:320: The name tf.log is deprecated. Please use tf.math.log instead.\n",
            "\n",
            "WARNING:tensorflow:From /usr/local/lib/python3.6/dist-packages/stable_baselines/ppo2/ppo2.py:158: The name tf.summary.scalar is deprecated. Please use tf.compat.v1.summary.scalar instead.\n",
            "\n",
            "WARNING:tensorflow:From /usr/local/lib/python3.6/dist-packages/stable_baselines/ppo2/ppo2.py:166: The name tf.trainable_variables is deprecated. Please use tf.compat.v1.trainable_variables instead.\n",
            "\n",
            "WARNING:tensorflow:From /usr/local/lib/python3.6/dist-packages/tensorflow_core/python/ops/math_grad.py:1424: where (from tensorflow.python.ops.array_ops) is deprecated and will be removed in a future version.\n",
            "Instructions for updating:\n",
            "Use tf.where in 2.0, which has the same broadcast rule as np.where\n",
            "WARNING:tensorflow:From /usr/local/lib/python3.6/dist-packages/stable_baselines/ppo2/ppo2.py:171: The name tf.train.AdamOptimizer is deprecated. Please use tf.compat.v1.train.AdamOptimizer instead.\n",
            "\n",
            "WARNING:tensorflow:From /usr/local/lib/python3.6/dist-packages/stable_baselines/ppo2/ppo2.py:178: The name tf.summary.histogram is deprecated. Please use tf.compat.v1.summary.histogram instead.\n",
            "\n",
            "WARNING:tensorflow:From /usr/local/lib/python3.6/dist-packages/stable_baselines/ppo2/ppo2.py:190: The name tf.summary.image is deprecated. Please use tf.compat.v1.summary.image instead.\n",
            "\n",
            "WARNING:tensorflow:From /usr/local/lib/python3.6/dist-packages/stable_baselines/ppo2/ppo2.py:200: The name tf.global_variables_initializer is deprecated. Please use tf.compat.v1.global_variables_initializer instead.\n",
            "\n",
            "WARNING:tensorflow:From /usr/local/lib/python3.6/dist-packages/stable_baselines/ppo2/ppo2.py:202: The name tf.summary.merge_all is deprecated. Please use tf.compat.v1.summary.merge_all instead.\n",
            "\n"
          ],
          "name": "stdout"
        }
      ]
    },
    {
      "cell_type": "code",
      "metadata": {
        "id": "c80GPPrQ49Rs",
        "colab_type": "code",
        "outputId": "fa148acd-9797-4ff8-c899-33ce161a9288",
        "colab": {
          "base_uri": "https://localhost:8080/",
          "height": 438
        }
      },
      "source": [
        "if CONTINUE_TRAINING:\n",
        "    play_and_show(model, env_record) # Show video of model"
      ],
      "execution_count": 0,
      "outputs": [
        {
          "output_type": "stream",
          "text": [
            "Done after 221 steps\n"
          ],
          "name": "stdout"
        },
        {
          "output_type": "display_data",
          "data": {
            "text/html": [
              "<video alt=\"test\" \n",
              "                    controls style=\"height: 400px;\">\n",
              "                    <source src=\"data:video/mp4;base64,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\" type=\"video/mp4\" />\n",
              "                  </video>"
            ],
            "text/plain": [
              "<IPython.core.display.HTML object>"
            ]
          },
          "metadata": {
            "tags": []
          }
        }
      ]
    },
    {
      "cell_type": "code",
      "metadata": {
        "id": "TkD3oJnTg2VG",
        "colab_type": "code",
        "outputId": "0ba43ede-69d5-4981-9651-bc73c65a0892",
        "colab": {
          "base_uri": "https://localhost:8080/",
          "height": 1000
        }
      },
      "source": [
        "while True:\n",
        "    start = time()\n",
        "    model = model.learn(EPOCHS, callback=callback)\n",
        "    print(f\"Training took {time() - start}s\")\n",
        "\n",
        "    # Save model\n",
        "    FILE_NAME = f\"{ALGORITHM}_{POLICY}_ep{INITIAL_EPOCH + EPOCHS}\"\n",
        "    SAVE_PATH = os.path.join(PATH_PREFIX, FILE_NAME)\n",
        "    print(\"Saving to\", SAVE_PATH)\n",
        "    model.save(SAVE_PATH)\n",
        "    INITIAL_EPOCH += EPOCHS\n",
        "\n",
        "    # Wrapped env for recording\n",
        "    env_record = wrap_env(DummyVecEnv([lambda: gym.make(ENVIRONMENT)]), path=FILE_NAME)\n",
        "\n",
        "    # Show video of model\n",
        "    play_and_show(model, env_record)\n",
        "\n",
        "    print(f\"The iteration took {time() - start}s\")\n",
        "\n",
        "    if not TRAIN_FOREVER:\n",
        "        print(\"Stop training\")\n",
        "        break"
      ],
      "execution_count": 0,
      "outputs": [
        {
          "output_type": "stream",
          "text": [
            "Training took 38.37638211250305s\n",
            "Saving to drive/My Drive/unicamp/MC886/atari/Breakout-v0/PPO2_CnnLnLstmPolicy_ep1702000\n",
            "Done after 327 steps\n"
          ],
          "name": "stdout"
        },
        {
          "output_type": "display_data",
          "data": {
            "text/html": [
              "<video alt=\"test\" \n",
              "                    controls style=\"height: 400px;\">\n",
              "                    <source src=\"data:video/mp4;base64,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\" type=\"video/mp4\" />\n",
              "                  </video>"
            ],
            "text/plain": [
              "<IPython.core.display.HTML object>"
            ]
          },
          "metadata": {
            "tags": []
          }
        },
        {
          "output_type": "stream",
          "text": [
            "The iteration took 42.810248374938965s\n",
            "Training took 16.055640697479248s\n",
            "Saving to drive/My Drive/unicamp/MC886/atari/Breakout-v0/PPO2_CnnLnLstmPolicy_ep1704000\n",
            "Done after 809 steps\n"
          ],
          "name": "stdout"
        },
        {
          "output_type": "display_data",
          "data": {
            "text/html": [
              "<video alt=\"test\" \n",
              "                    controls style=\"height: 400px;\">\n",
              "                    <source src=\"data:video/mp4;base64,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\" type=\"video/mp4\" />\n",
              "                  </video>"
            ],
            "text/plain": [
              "<IPython.core.display.HTML object>"
            ]
          },
          "metadata": {
            "tags": []
          }
        },
        {
          "output_type": "stream",
          "text": [
            "The iteration took 22.578294277191162s\n",
            "Training took 16.11047649383545s\n",
            "Saving to drive/My Drive/unicamp/MC886/atari/Breakout-v0/PPO2_CnnLnLstmPolicy_ep1706000\n",
            "Saving video to  /content/drive/My Drive/unicamp/MC886/atari/Breakout-v0/video/PPO2_CnnLnLstmPolicy_ep1706000-step-0-to-step-1000.mp4\n",
            "Done after 1692 steps\n"
          ],
          "name": "stdout"
        },
        {
          "output_type": "display_data",
          "data": {
            "text/html": [
              "<video alt=\"test\" \n",
              "                    controls style=\"height: 400px;\">\n",
              "                    <source src=\"data:video/mp4;base64,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\" type=\"video/mp4\" />\n",
              "                  </video>"
            ],
            "text/plain": [
              "<IPython.core.display.HTML object>"
            ]
          },
          "metadata": {
            "tags": []
          }
        },
        {
          "output_type": "stream",
          "text": [
            "The iteration took 26.83969497680664s\n"
          ],
          "name": "stdout"
        },
        {
          "output_type": "error",
          "ename": "KeyboardInterrupt",
          "evalue": "ignored",
          "traceback": [
            "\u001b[0;31m---------------------------------------------------------------------------\u001b[0m",
            "\u001b[0;31mKeyboardInterrupt\u001b[0m                         Traceback (most recent call last)",
            "\u001b[0;32m<ipython-input-23-b0dd2fee08f2>\u001b[0m in \u001b[0;36m<module>\u001b[0;34m()\u001b[0m\n\u001b[1;32m      1\u001b[0m \u001b[0;32mwhile\u001b[0m \u001b[0;32mTrue\u001b[0m\u001b[0;34m:\u001b[0m\u001b[0;34m\u001b[0m\u001b[0;34m\u001b[0m\u001b[0m\n\u001b[1;32m      2\u001b[0m     \u001b[0mstart\u001b[0m \u001b[0;34m=\u001b[0m \u001b[0mtime\u001b[0m\u001b[0;34m(\u001b[0m\u001b[0;34m)\u001b[0m\u001b[0;34m\u001b[0m\u001b[0;34m\u001b[0m\u001b[0m\n\u001b[0;32m----> 3\u001b[0;31m     \u001b[0mmodel\u001b[0m \u001b[0;34m=\u001b[0m \u001b[0mmodel\u001b[0m\u001b[0;34m.\u001b[0m\u001b[0mlearn\u001b[0m\u001b[0;34m(\u001b[0m\u001b[0mEPOCHS\u001b[0m\u001b[0;34m,\u001b[0m \u001b[0mcallback\u001b[0m\u001b[0;34m=\u001b[0m\u001b[0mcallback\u001b[0m\u001b[0;34m)\u001b[0m\u001b[0;34m\u001b[0m\u001b[0;34m\u001b[0m\u001b[0m\n\u001b[0m\u001b[1;32m      4\u001b[0m     \u001b[0mprint\u001b[0m\u001b[0;34m(\u001b[0m\u001b[0;34mf\"Training took {time() - start}s\"\u001b[0m\u001b[0;34m)\u001b[0m\u001b[0;34m\u001b[0m\u001b[0;34m\u001b[0m\u001b[0m\n\u001b[1;32m      5\u001b[0m \u001b[0;34m\u001b[0m\u001b[0m\n",
            "\u001b[0;32m/usr/local/lib/python3.6/dist-packages/stable_baselines/ppo2/ppo2.py\u001b[0m in \u001b[0;36mlearn\u001b[0;34m(self, total_timesteps, callback, seed, log_interval, tb_log_name)\u001b[0m\n\u001b[1;32m    274\u001b[0m                 \u001b[0mcliprangenow\u001b[0m \u001b[0;34m=\u001b[0m \u001b[0mself\u001b[0m\u001b[0;34m.\u001b[0m\u001b[0mcliprange\u001b[0m\u001b[0;34m(\u001b[0m\u001b[0mfrac\u001b[0m\u001b[0;34m)\u001b[0m\u001b[0;34m\u001b[0m\u001b[0;34m\u001b[0m\u001b[0m\n\u001b[1;32m    275\u001b[0m                 \u001b[0;31m# true_reward is the reward without discount\u001b[0m\u001b[0;34m\u001b[0m\u001b[0;34m\u001b[0m\u001b[0;34m\u001b[0m\u001b[0m\n\u001b[0;32m--> 276\u001b[0;31m                 \u001b[0mobs\u001b[0m\u001b[0;34m,\u001b[0m \u001b[0mreturns\u001b[0m\u001b[0;34m,\u001b[0m \u001b[0mmasks\u001b[0m\u001b[0;34m,\u001b[0m \u001b[0mactions\u001b[0m\u001b[0;34m,\u001b[0m \u001b[0mvalues\u001b[0m\u001b[0;34m,\u001b[0m \u001b[0mneglogpacs\u001b[0m\u001b[0;34m,\u001b[0m \u001b[0mstates\u001b[0m\u001b[0;34m,\u001b[0m \u001b[0mep_infos\u001b[0m\u001b[0;34m,\u001b[0m \u001b[0mtrue_reward\u001b[0m \u001b[0;34m=\u001b[0m \u001b[0mrunner\u001b[0m\u001b[0;34m.\u001b[0m\u001b[0mrun\u001b[0m\u001b[0;34m(\u001b[0m\u001b[0;34m)\u001b[0m\u001b[0;34m\u001b[0m\u001b[0;34m\u001b[0m\u001b[0m\n\u001b[0m\u001b[1;32m    277\u001b[0m                 \u001b[0mep_info_buf\u001b[0m\u001b[0;34m.\u001b[0m\u001b[0mextend\u001b[0m\u001b[0;34m(\u001b[0m\u001b[0mep_infos\u001b[0m\u001b[0;34m)\u001b[0m\u001b[0;34m\u001b[0m\u001b[0;34m\u001b[0m\u001b[0m\n\u001b[1;32m    278\u001b[0m                 \u001b[0mmb_loss_vals\u001b[0m \u001b[0;34m=\u001b[0m \u001b[0;34m[\u001b[0m\u001b[0;34m]\u001b[0m\u001b[0;34m\u001b[0m\u001b[0;34m\u001b[0m\u001b[0m\n",
            "\u001b[0;32m/usr/local/lib/python3.6/dist-packages/stable_baselines/ppo2/ppo2.py\u001b[0m in \u001b[0;36mrun\u001b[0;34m(self)\u001b[0m\n\u001b[1;32m    395\u001b[0m         \u001b[0mep_infos\u001b[0m \u001b[0;34m=\u001b[0m \u001b[0;34m[\u001b[0m\u001b[0;34m]\u001b[0m\u001b[0;34m\u001b[0m\u001b[0;34m\u001b[0m\u001b[0m\n\u001b[1;32m    396\u001b[0m         \u001b[0;32mfor\u001b[0m \u001b[0m_\u001b[0m \u001b[0;32min\u001b[0m \u001b[0mrange\u001b[0m\u001b[0;34m(\u001b[0m\u001b[0mself\u001b[0m\u001b[0;34m.\u001b[0m\u001b[0mn_steps\u001b[0m\u001b[0;34m)\u001b[0m\u001b[0;34m:\u001b[0m\u001b[0;34m\u001b[0m\u001b[0;34m\u001b[0m\u001b[0m\n\u001b[0;32m--> 397\u001b[0;31m             \u001b[0mactions\u001b[0m\u001b[0;34m,\u001b[0m \u001b[0mvalues\u001b[0m\u001b[0;34m,\u001b[0m \u001b[0mself\u001b[0m\u001b[0;34m.\u001b[0m\u001b[0mstates\u001b[0m\u001b[0;34m,\u001b[0m \u001b[0mneglogpacs\u001b[0m \u001b[0;34m=\u001b[0m \u001b[0mself\u001b[0m\u001b[0;34m.\u001b[0m\u001b[0mmodel\u001b[0m\u001b[0;34m.\u001b[0m\u001b[0mstep\u001b[0m\u001b[0;34m(\u001b[0m\u001b[0mself\u001b[0m\u001b[0;34m.\u001b[0m\u001b[0mobs\u001b[0m\u001b[0;34m,\u001b[0m \u001b[0mself\u001b[0m\u001b[0;34m.\u001b[0m\u001b[0mstates\u001b[0m\u001b[0;34m,\u001b[0m \u001b[0mself\u001b[0m\u001b[0;34m.\u001b[0m\u001b[0mdones\u001b[0m\u001b[0;34m)\u001b[0m\u001b[0;34m\u001b[0m\u001b[0;34m\u001b[0m\u001b[0m\n\u001b[0m\u001b[1;32m    398\u001b[0m             \u001b[0mmb_obs\u001b[0m\u001b[0;34m.\u001b[0m\u001b[0mappend\u001b[0m\u001b[0;34m(\u001b[0m\u001b[0mself\u001b[0m\u001b[0;34m.\u001b[0m\u001b[0mobs\u001b[0m\u001b[0;34m.\u001b[0m\u001b[0mcopy\u001b[0m\u001b[0;34m(\u001b[0m\u001b[0;34m)\u001b[0m\u001b[0;34m)\u001b[0m\u001b[0;34m\u001b[0m\u001b[0;34m\u001b[0m\u001b[0m\n\u001b[1;32m    399\u001b[0m             \u001b[0mmb_actions\u001b[0m\u001b[0;34m.\u001b[0m\u001b[0mappend\u001b[0m\u001b[0;34m(\u001b[0m\u001b[0mactions\u001b[0m\u001b[0;34m)\u001b[0m\u001b[0;34m\u001b[0m\u001b[0;34m\u001b[0m\u001b[0m\n",
            "\u001b[0;32m/usr/local/lib/python3.6/dist-packages/stable_baselines/common/policies.py\u001b[0m in \u001b[0;36mstep\u001b[0;34m(self, obs, state, mask, deterministic)\u001b[0m\n\u001b[1;32m    217\u001b[0m         \u001b[0;32melse\u001b[0m\u001b[0;34m:\u001b[0m\u001b[0;34m\u001b[0m\u001b[0;34m\u001b[0m\u001b[0m\n\u001b[1;32m    218\u001b[0m             return self.sess.run([self.action, self._value, self.snew, self.neglogp],\n\u001b[0;32m--> 219\u001b[0;31m                                  {self.obs_ph: obs, self.states_ph: state, self.masks_ph: mask})\n\u001b[0m\u001b[1;32m    220\u001b[0m \u001b[0;34m\u001b[0m\u001b[0m\n\u001b[1;32m    221\u001b[0m     \u001b[0;32mdef\u001b[0m \u001b[0mproba_step\u001b[0m\u001b[0;34m(\u001b[0m\u001b[0mself\u001b[0m\u001b[0;34m,\u001b[0m \u001b[0mobs\u001b[0m\u001b[0;34m,\u001b[0m \u001b[0mstate\u001b[0m\u001b[0;34m=\u001b[0m\u001b[0;32mNone\u001b[0m\u001b[0;34m,\u001b[0m \u001b[0mmask\u001b[0m\u001b[0;34m=\u001b[0m\u001b[0;32mNone\u001b[0m\u001b[0;34m)\u001b[0m\u001b[0;34m:\u001b[0m\u001b[0;34m\u001b[0m\u001b[0;34m\u001b[0m\u001b[0m\n",
            "\u001b[0;32m/usr/local/lib/python3.6/dist-packages/tensorflow_core/python/client/session.py\u001b[0m in \u001b[0;36mrun\u001b[0;34m(self, fetches, feed_dict, options, run_metadata)\u001b[0m\n\u001b[1;32m    954\u001b[0m     \u001b[0;32mtry\u001b[0m\u001b[0;34m:\u001b[0m\u001b[0;34m\u001b[0m\u001b[0;34m\u001b[0m\u001b[0m\n\u001b[1;32m    955\u001b[0m       result = self._run(None, fetches, feed_dict, options_ptr,\n\u001b[0;32m--> 956\u001b[0;31m                          run_metadata_ptr)\n\u001b[0m\u001b[1;32m    957\u001b[0m       \u001b[0;32mif\u001b[0m \u001b[0mrun_metadata\u001b[0m\u001b[0;34m:\u001b[0m\u001b[0;34m\u001b[0m\u001b[0;34m\u001b[0m\u001b[0m\n\u001b[1;32m    958\u001b[0m         \u001b[0mproto_data\u001b[0m \u001b[0;34m=\u001b[0m \u001b[0mtf_session\u001b[0m\u001b[0;34m.\u001b[0m\u001b[0mTF_GetBuffer\u001b[0m\u001b[0;34m(\u001b[0m\u001b[0mrun_metadata_ptr\u001b[0m\u001b[0;34m)\u001b[0m\u001b[0;34m\u001b[0m\u001b[0;34m\u001b[0m\u001b[0m\n",
            "\u001b[0;32m/usr/local/lib/python3.6/dist-packages/tensorflow_core/python/client/session.py\u001b[0m in \u001b[0;36m_run\u001b[0;34m(self, handle, fetches, feed_dict, options, run_metadata)\u001b[0m\n\u001b[1;32m   1178\u001b[0m     \u001b[0;32mif\u001b[0m \u001b[0mfinal_fetches\u001b[0m \u001b[0;32mor\u001b[0m \u001b[0mfinal_targets\u001b[0m \u001b[0;32mor\u001b[0m \u001b[0;34m(\u001b[0m\u001b[0mhandle\u001b[0m \u001b[0;32mand\u001b[0m \u001b[0mfeed_dict_tensor\u001b[0m\u001b[0;34m)\u001b[0m\u001b[0;34m:\u001b[0m\u001b[0;34m\u001b[0m\u001b[0;34m\u001b[0m\u001b[0m\n\u001b[1;32m   1179\u001b[0m       results = self._do_run(handle, final_targets, final_fetches,\n\u001b[0;32m-> 1180\u001b[0;31m                              feed_dict_tensor, options, run_metadata)\n\u001b[0m\u001b[1;32m   1181\u001b[0m     \u001b[0;32melse\u001b[0m\u001b[0;34m:\u001b[0m\u001b[0;34m\u001b[0m\u001b[0;34m\u001b[0m\u001b[0m\n\u001b[1;32m   1182\u001b[0m       \u001b[0mresults\u001b[0m \u001b[0;34m=\u001b[0m \u001b[0;34m[\u001b[0m\u001b[0;34m]\u001b[0m\u001b[0;34m\u001b[0m\u001b[0;34m\u001b[0m\u001b[0m\n",
            "\u001b[0;32m/usr/local/lib/python3.6/dist-packages/tensorflow_core/python/client/session.py\u001b[0m in \u001b[0;36m_do_run\u001b[0;34m(self, handle, target_list, fetch_list, feed_dict, options, run_metadata)\u001b[0m\n\u001b[1;32m   1357\u001b[0m     \u001b[0;32mif\u001b[0m \u001b[0mhandle\u001b[0m \u001b[0;32mis\u001b[0m \u001b[0;32mNone\u001b[0m\u001b[0;34m:\u001b[0m\u001b[0;34m\u001b[0m\u001b[0;34m\u001b[0m\u001b[0m\n\u001b[1;32m   1358\u001b[0m       return self._do_call(_run_fn, feeds, fetches, targets, options,\n\u001b[0;32m-> 1359\u001b[0;31m                            run_metadata)\n\u001b[0m\u001b[1;32m   1360\u001b[0m     \u001b[0;32melse\u001b[0m\u001b[0;34m:\u001b[0m\u001b[0;34m\u001b[0m\u001b[0;34m\u001b[0m\u001b[0m\n\u001b[1;32m   1361\u001b[0m       \u001b[0;32mreturn\u001b[0m \u001b[0mself\u001b[0m\u001b[0;34m.\u001b[0m\u001b[0m_do_call\u001b[0m\u001b[0;34m(\u001b[0m\u001b[0m_prun_fn\u001b[0m\u001b[0;34m,\u001b[0m \u001b[0mhandle\u001b[0m\u001b[0;34m,\u001b[0m \u001b[0mfeeds\u001b[0m\u001b[0;34m,\u001b[0m \u001b[0mfetches\u001b[0m\u001b[0;34m)\u001b[0m\u001b[0;34m\u001b[0m\u001b[0;34m\u001b[0m\u001b[0m\n",
            "\u001b[0;32m/usr/local/lib/python3.6/dist-packages/tensorflow_core/python/client/session.py\u001b[0m in \u001b[0;36m_do_call\u001b[0;34m(self, fn, *args)\u001b[0m\n\u001b[1;32m   1363\u001b[0m   \u001b[0;32mdef\u001b[0m \u001b[0m_do_call\u001b[0m\u001b[0;34m(\u001b[0m\u001b[0mself\u001b[0m\u001b[0;34m,\u001b[0m \u001b[0mfn\u001b[0m\u001b[0;34m,\u001b[0m \u001b[0;34m*\u001b[0m\u001b[0margs\u001b[0m\u001b[0;34m)\u001b[0m\u001b[0;34m:\u001b[0m\u001b[0;34m\u001b[0m\u001b[0;34m\u001b[0m\u001b[0m\n\u001b[1;32m   1364\u001b[0m     \u001b[0;32mtry\u001b[0m\u001b[0;34m:\u001b[0m\u001b[0;34m\u001b[0m\u001b[0;34m\u001b[0m\u001b[0m\n\u001b[0;32m-> 1365\u001b[0;31m       \u001b[0;32mreturn\u001b[0m \u001b[0mfn\u001b[0m\u001b[0;34m(\u001b[0m\u001b[0;34m*\u001b[0m\u001b[0margs\u001b[0m\u001b[0;34m)\u001b[0m\u001b[0;34m\u001b[0m\u001b[0;34m\u001b[0m\u001b[0m\n\u001b[0m\u001b[1;32m   1366\u001b[0m     \u001b[0;32mexcept\u001b[0m \u001b[0merrors\u001b[0m\u001b[0;34m.\u001b[0m\u001b[0mOpError\u001b[0m \u001b[0;32mas\u001b[0m \u001b[0me\u001b[0m\u001b[0;34m:\u001b[0m\u001b[0;34m\u001b[0m\u001b[0;34m\u001b[0m\u001b[0m\n\u001b[1;32m   1367\u001b[0m       \u001b[0mmessage\u001b[0m \u001b[0;34m=\u001b[0m \u001b[0mcompat\u001b[0m\u001b[0;34m.\u001b[0m\u001b[0mas_text\u001b[0m\u001b[0;34m(\u001b[0m\u001b[0me\u001b[0m\u001b[0;34m.\u001b[0m\u001b[0mmessage\u001b[0m\u001b[0;34m)\u001b[0m\u001b[0;34m\u001b[0m\u001b[0;34m\u001b[0m\u001b[0m\n",
            "\u001b[0;32m/usr/local/lib/python3.6/dist-packages/tensorflow_core/python/client/session.py\u001b[0m in \u001b[0;36m_run_fn\u001b[0;34m(feed_dict, fetch_list, target_list, options, run_metadata)\u001b[0m\n\u001b[1;32m   1348\u001b[0m       \u001b[0mself\u001b[0m\u001b[0;34m.\u001b[0m\u001b[0m_extend_graph\u001b[0m\u001b[0;34m(\u001b[0m\u001b[0;34m)\u001b[0m\u001b[0;34m\u001b[0m\u001b[0;34m\u001b[0m\u001b[0m\n\u001b[1;32m   1349\u001b[0m       return self._call_tf_sessionrun(options, feed_dict, fetch_list,\n\u001b[0;32m-> 1350\u001b[0;31m                                       target_list, run_metadata)\n\u001b[0m\u001b[1;32m   1351\u001b[0m \u001b[0;34m\u001b[0m\u001b[0m\n\u001b[1;32m   1352\u001b[0m     \u001b[0;32mdef\u001b[0m \u001b[0m_prun_fn\u001b[0m\u001b[0;34m(\u001b[0m\u001b[0mhandle\u001b[0m\u001b[0;34m,\u001b[0m \u001b[0mfeed_dict\u001b[0m\u001b[0;34m,\u001b[0m \u001b[0mfetch_list\u001b[0m\u001b[0;34m)\u001b[0m\u001b[0;34m:\u001b[0m\u001b[0;34m\u001b[0m\u001b[0;34m\u001b[0m\u001b[0m\n",
            "\u001b[0;32m/usr/local/lib/python3.6/dist-packages/tensorflow_core/python/client/session.py\u001b[0m in \u001b[0;36m_call_tf_sessionrun\u001b[0;34m(self, options, feed_dict, fetch_list, target_list, run_metadata)\u001b[0m\n\u001b[1;32m   1441\u001b[0m     return tf_session.TF_SessionRun_wrapper(self._session, options, feed_dict,\n\u001b[1;32m   1442\u001b[0m                                             \u001b[0mfetch_list\u001b[0m\u001b[0;34m,\u001b[0m \u001b[0mtarget_list\u001b[0m\u001b[0;34m,\u001b[0m\u001b[0;34m\u001b[0m\u001b[0;34m\u001b[0m\u001b[0m\n\u001b[0;32m-> 1443\u001b[0;31m                                             run_metadata)\n\u001b[0m\u001b[1;32m   1444\u001b[0m \u001b[0;34m\u001b[0m\u001b[0m\n\u001b[1;32m   1445\u001b[0m   \u001b[0;32mdef\u001b[0m \u001b[0m_call_tf_sessionprun\u001b[0m\u001b[0;34m(\u001b[0m\u001b[0mself\u001b[0m\u001b[0;34m,\u001b[0m \u001b[0mhandle\u001b[0m\u001b[0;34m,\u001b[0m \u001b[0mfeed_dict\u001b[0m\u001b[0;34m,\u001b[0m \u001b[0mfetch_list\u001b[0m\u001b[0;34m)\u001b[0m\u001b[0;34m:\u001b[0m\u001b[0;34m\u001b[0m\u001b[0;34m\u001b[0m\u001b[0m\n",
            "\u001b[0;31mKeyboardInterrupt\u001b[0m: "
          ]
        }
      ]
    },
    {
      "cell_type": "code",
      "metadata": {
        "id": "9vgi8k2qI-z_",
        "colab_type": "code",
        "colab": {}
      },
      "source": [
        ""
      ],
      "execution_count": 0,
      "outputs": []
    }
  ]
}