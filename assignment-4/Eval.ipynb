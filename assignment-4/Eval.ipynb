{
  "nbformat": 4,
  "nbformat_minor": 0,
  "metadata": {
    "colab": {
      "name": "Eval.ipynb",
      "provenance": [],
      "collapsed_sections": [],
      "machine_shape": "hm",
      "include_colab_link": true
    },
    "kernelspec": {
      "name": "python3",
      "display_name": "Python 3"
    }
  },
  "cells": [
    {
      "cell_type": "markdown",
      "metadata": {
        "id": "view-in-github",
        "colab_type": "text"
      },
      "source": [
        "<a href=\"https://colab.research.google.com/github/laurelkeys/machine-learning/blob/master/assignment-4/Eval.ipynb\" target=\"_parent\"><img src=\"https://colab.research.google.com/assets/colab-badge.svg\" alt=\"Open In Colab\"/></a>"
      ]
    },
    {
      "cell_type": "code",
      "metadata": {
        "id": "CGkeZiUcvpSb",
        "colab_type": "code",
        "colab": {}
      },
      "source": [
        "# # you might want to run this before hand\n",
        "# # to get prompted a High-RAM notebook option\n",
        "# d = []\n",
        "# while True:\n",
        "#     d.append('1')"
      ],
      "execution_count": 0,
      "outputs": []
    },
    {
      "cell_type": "markdown",
      "metadata": {
        "id": "vc9woU03rfVr",
        "colab_type": "text"
      },
      "source": [
        "## Install dependencies and setup Drive"
      ]
    },
    {
      "cell_type": "code",
      "metadata": {
        "id": "Q1zoDfnZJvRp",
        "colab_type": "code",
        "colab": {}
      },
      "source": [
        "!pip install PyDrive > /dev/null 2>&1"
      ],
      "execution_count": 0,
      "outputs": []
    },
    {
      "cell_type": "code",
      "metadata": {
        "id": "5gRxxgsMN_wm",
        "colab_type": "code",
        "colab": {}
      },
      "source": [
        "import os\n",
        "import zipfile\n",
        "\n",
        "import cv2\n",
        "import numpy as np\n",
        "import matplotlib.pyplot as plt\n",
        "%matplotlib inline\n",
        "\n",
        "from random import randrange\n",
        "\n",
        "from gym.envs.atari.atari_env import ACTION_MEANING\n",
        "\n",
        "from google.colab import auth\n",
        "from pydrive.auth import GoogleAuth\n",
        "from pydrive.drive import GoogleDrive\n",
        "from oauth2client.client import GoogleCredentials"
      ],
      "execution_count": 0,
      "outputs": []
    },
    {
      "cell_type": "code",
      "metadata": {
        "id": "evE4IT3HOJe3",
        "colab_type": "code",
        "colab": {}
      },
      "source": [
        "auth.authenticate_user()\n",
        "gauth = GoogleAuth()\n",
        "gauth.credentials = GoogleCredentials.get_application_default()\n",
        "gdrive = GoogleDrive(gauth)"
      ],
      "execution_count": 0,
      "outputs": []
    },
    {
      "cell_type": "markdown",
      "metadata": {
        "id": "rsFSd-FhriRe",
        "colab_type": "text"
      },
      "source": [
        "## Download and unzip data"
      ]
    },
    {
      "cell_type": "code",
      "metadata": {
        "id": "A6h5YaCZOmz1",
        "colab_type": "code",
        "colab": {}
      },
      "source": [
        "# Enable link sharing for the dataset .zip file in your Drive and copy the link:\n",
        "# https://drive.google.com/open?id=YOUR_FILE_ID\n",
        "\n",
        "YOUR_FILE_ID = '1OtrZycTx-VItUxzCEVo9lKaBdGk4CyIC'"
      ],
      "execution_count": 0,
      "outputs": []
    },
    {
      "cell_type": "code",
      "metadata": {
        "id": "RMgayl2HPare",
        "colab_type": "code",
        "colab": {}
      },
      "source": [
        "download = gdrive.CreateFile({'id': YOUR_FILE_ID})\n",
        "\n",
        "save_folder = \"data\" # /content/data\n",
        "os.makedirs(save_folder, exist_ok=True)\n",
        "download.GetContentFile(os.path.join(save_folder, \"atari8.zip\"))"
      ],
      "execution_count": 0,
      "outputs": []
    },
    {
      "cell_type": "code",
      "metadata": {
        "id": "jxZCbihIPlxK",
        "colab_type": "code",
        "outputId": "c57bfd84-54ce-4e16-d1b4-5bbb57e673cb",
        "colab": {
          "base_uri": "https://localhost:8080/",
          "height": 35
        }
      },
      "source": [
        "!du -sh data/atari8.zip"
      ],
      "execution_count": 6,
      "outputs": [
        {
          "output_type": "stream",
          "text": [
            "1.6G\tdata/atari8.zip\n"
          ],
          "name": "stdout"
        }
      ]
    },
    {
      "cell_type": "code",
      "metadata": {
        "id": "DnsfHnwhSGPo",
        "colab_type": "code",
        "colab": {}
      },
      "source": [
        "zip_ref = zipfile.ZipFile(\"/content/data/atari8.zip\", 'r')\n",
        "zip_ref.extractall(\"/content/data/\")\n",
        "zip_ref.close()"
      ],
      "execution_count": 0,
      "outputs": []
    },
    {
      "cell_type": "code",
      "metadata": {
        "id": "1yMc7rkVo-QB",
        "colab_type": "code",
        "colab": {}
      },
      "source": [
        "!rm data/atari8.zip"
      ],
      "execution_count": 0,
      "outputs": []
    },
    {
      "cell_type": "code",
      "metadata": {
        "id": "KVxWkmc6o548",
        "colab_type": "code",
        "colab": {
          "base_uri": "https://localhost:8080/",
          "height": 181
        },
        "outputId": "35b53fce-d1aa-419b-c8b6-72f82bfb8038"
      },
      "source": [
        "!du -sh data/\n",
        "!du -sh data/*"
      ],
      "execution_count": 11,
      "outputs": [
        {
          "output_type": "stream",
          "text": [
            "3.1G\tdata/\n",
            "395M\tdata/BeamRiderNoFrameskip-v4_PPO2_1000steps\n",
            "395M\tdata/BreakoutNoFrameskip-v4_PPO2_1000steps\n",
            "395M\tdata/EnduroNoFrameskip-v4_PPO2_1000steps\n",
            "395M\tdata/MsPacmanNoFrameskip-v4_PPO2_1000steps\n",
            "395M\tdata/PongNoFrameskip-v4_PPO2_1000steps\n",
            "399M\tdata/QbertNoFrameskip-v4_PPO2_1000steps\n",
            "395M\tdata/SeaquestNoFrameskip-v4_PPO2_1000steps\n",
            "395M\tdata/SpaceInvadersNoFrameskip-v4_PPO2_1000steps\n"
          ],
          "name": "stdout"
        }
      ]
    },
    {
      "cell_type": "code",
      "metadata": {
        "id": "glwMJ828erVD",
        "colab_type": "code",
        "outputId": "6a7d47c7-099f-4c09-cd6b-372df85f7885",
        "colab": {
          "base_uri": "https://localhost:8080/",
          "height": 617
        }
      },
      "source": [
        "print(\"================\")\n",
        "for game_folder in os.listdir(\"data\"):\n",
        "    print(game_folder + '/')\n",
        "    data_folders = sorted([d for d in os.listdir(f\"data/{game_folder}\")])\n",
        "    # print(\"├──\", data_folders[0] + '/')  # 0\n",
        "    # print(\"├── ...\")\n",
        "    # print(\"├──\", data_folders[-2] + '/') # N_OF_TRAJECTORIES\n",
        "    # print(\"└──\", data_folders[-1] + '/') # 'images'\n",
        "    \n",
        "    images_folders = sorted([d for d in os.listdir(f\"data/{game_folder}/images\")])\n",
        "    # print(\"    ├──\", images_folders[0] + '/')\n",
        "    # print(\"    ├── ...\")\n",
        "    # print(\"    └──\", images_folders[-1] + '/')\n",
        "    \n",
        "    last_images_folder = sorted([d for d in os.listdir(f\"data/{game_folder}/images/{images_folders[-1]}\")])\n",
        "    # print(\"        ├──\", last_images_folder[0] + '/')\n",
        "    # print(\"        ├── ...\")\n",
        "    # print(\"        └──\", last_images_folder[-1] + '/')\n",
        "\n",
        "    print(f\"Trajectories: {int(images_folders[-1]) - int(images_folders[0]) + 1}\")\n",
        "    print(f\"Steps per trajectory: {int(last_images_folder[-1][:-4]) - int(last_images_folder[0][:-4]) + 1}\")\n",
        "    print(\"================\")"
      ],
      "execution_count": 12,
      "outputs": [
        {
          "output_type": "stream",
          "text": [
            "================\n",
            "BreakoutNoFrameskip-v4_PPO2_1000steps/\n",
            "Trajectories: 100\n",
            "Steps per trajectory: 1000\n",
            "================\n",
            "SpaceInvadersNoFrameskip-v4_PPO2_1000steps/\n",
            "Trajectories: 100\n",
            "Steps per trajectory: 1000\n",
            "================\n",
            "BeamRiderNoFrameskip-v4_PPO2_1000steps/\n",
            "Trajectories: 100\n",
            "Steps per trajectory: 1000\n",
            "================\n",
            "QbertNoFrameskip-v4_PPO2_1000steps/\n",
            "Trajectories: 100\n",
            "Steps per trajectory: 1000\n",
            "================\n",
            "EnduroNoFrameskip-v4_PPO2_1000steps/\n",
            "Trajectories: 100\n",
            "Steps per trajectory: 1000\n",
            "================\n",
            "SeaquestNoFrameskip-v4_PPO2_1000steps/\n",
            "Trajectories: 100\n",
            "Steps per trajectory: 1000\n",
            "================\n",
            "PongNoFrameskip-v4_PPO2_1000steps/\n",
            "Trajectories: 100\n",
            "Steps per trajectory: 1000\n",
            "================\n",
            "MsPacmanNoFrameskip-v4_PPO2_1000steps/\n",
            "Trajectories: 100\n",
            "Steps per trajectory: 1000\n",
            "================\n"
          ],
          "name": "stdout"
        }
      ]
    },
    {
      "cell_type": "markdown",
      "metadata": {
        "id": "0t2YPrbbr7zB",
        "colab_type": "text"
      },
      "source": [
        "## Set up the dataset"
      ]
    },
    {
      "cell_type": "code",
      "metadata": {
        "id": "zUZQjQJsmXOU",
        "colab_type": "code",
        "colab": {}
      },
      "source": [
        "GAMES = sorted(os.listdir(\"data\")) # len(GAMES) == 8\n",
        "\n",
        "# NOTE set these values according to the downloaded dataset\n",
        "N_OF_TRAJECTORIES = 100\n",
        "N_OF_STEPS = 1000\n",
        "\n",
        "FILE_NAME = \"trajectory.npz\""
      ],
      "execution_count": 0,
      "outputs": []
    },
    {
      "cell_type": "code",
      "metadata": {
        "id": "yBjTth_CtQWC",
        "colab_type": "code",
        "colab": {
          "base_uri": "https://localhost:8080/",
          "height": 126
        },
        "outputId": "df8f57c1-1d89-4521-d479-b9091fe3935d"
      },
      "source": [
        "# unicode strings\n",
        "obs_dtypes = set()\n",
        "for game_folder in os.listdir(\"data\"):\n",
        "    for data_folder in os.listdir(f\"data/{game_folder}\"):\n",
        "        if data_folder != 'images':\n",
        "            # 'actions', 'observations', 'rewards', 'episode_starts'\n",
        "            data = np.load(f\"data/{game_folder}/{data_folder}/{FILE_NAME}\")\n",
        "            obs_dtypes.add(data['observations'].dtype)\n",
        "del data\n",
        "obs_dtypes"
      ],
      "execution_count": 14,
      "outputs": [
        {
          "output_type": "execute_result",
          "data": {
            "text/plain": [
              "{dtype('<U56'),\n",
              " dtype('<U57'),\n",
              " dtype('<U58'),\n",
              " dtype('<U60'),\n",
              " dtype('<U61'),\n",
              " dtype('<U65')}"
            ]
          },
          "metadata": {
            "tags": []
          },
          "execution_count": 14
        }
      ]
    },
    {
      "cell_type": "code",
      "metadata": {
        "colab_type": "code",
        "id": "6DkHdjwiqm_E",
        "colab": {}
      },
      "source": [
        "# actions go from 0 to 17 (see the ACTION_MEANING dict)\n",
        "all_actions = np.empty((len(GAMES), N_OF_TRAJECTORIES, N_OF_STEPS), dtype='int8')\n",
        "\n",
        "# 'observations' stores the path to the PNG image of the state\n",
        "all_obs_paths = np.empty((len(GAMES), N_OF_TRAJECTORIES, N_OF_STEPS), dtype=max(obs_dtypes))\n",
        "all_obs = np.empty((len(GAMES), N_OF_TRAJECTORIES, N_OF_STEPS, 84, 84, 4), dtype='uint8')"
      ],
      "execution_count": 0,
      "outputs": []
    },
    {
      "cell_type": "code",
      "metadata": {
        "id": "pUZQMFyLrMwq",
        "colab_type": "code",
        "colab": {
          "base_uri": "https://localhost:8080/",
          "height": 163
        },
        "outputId": "c9c5816e-55fe-4c51-d52e-fb3ec6c77300"
      },
      "source": [
        "for game_folder in os.listdir(\"data\"):\n",
        "    print(game_folder + '/', end=' ')\n",
        "    game = GAMES.index(game_folder)\n",
        "    for data_folder in os.listdir(f\"data/{game_folder}\"):\n",
        "        if data_folder != 'images':\n",
        "            # 'actions', 'observations', 'rewards', 'episode_starts'\n",
        "            data = np.load(f\"data/{game_folder}/{data_folder}/{FILE_NAME}\")\n",
        "            \n",
        "            trajectory = int(data_folder)\n",
        "            all_actions[game, trajectory] = data['actions']\n",
        "            all_obs_paths[game, trajectory] = data['observations']\n",
        "    print(\"done.\")\n",
        "del data"
      ],
      "execution_count": 16,
      "outputs": [
        {
          "output_type": "stream",
          "text": [
            "BreakoutNoFrameskip-v4_PPO2_1000steps/ done.\n",
            "SpaceInvadersNoFrameskip-v4_PPO2_1000steps/ done.\n",
            "BeamRiderNoFrameskip-v4_PPO2_1000steps/ done.\n",
            "QbertNoFrameskip-v4_PPO2_1000steps/ done.\n",
            "EnduroNoFrameskip-v4_PPO2_1000steps/ done.\n",
            "SeaquestNoFrameskip-v4_PPO2_1000steps/ done.\n",
            "PongNoFrameskip-v4_PPO2_1000steps/ done.\n",
            "MsPacmanNoFrameskip-v4_PPO2_1000steps/ done.\n"
          ],
          "name": "stdout"
        }
      ]
    },
    {
      "cell_type": "code",
      "metadata": {
        "id": "XdcmAYCiqjZ7",
        "colab_type": "code",
        "colab": {
          "base_uri": "https://localhost:8080/",
          "height": 181
        },
        "outputId": "2052d294-d45f-4b9d-9c9d-fce97054d5cd"
      },
      "source": [
        "from tqdm import tqdm\n",
        "\n",
        "# this may take some time\n",
        "for g in tqdm(range(len(GAMES))):\n",
        "    for t in range(N_OF_TRAJECTORIES):\n",
        "        for s in range(N_OF_STEPS):\n",
        "            obs_path = all_obs_paths[g, t, s]\n",
        "            all_obs[g, t, s] = cv2.imread(obs_path, \n",
        "                                          cv2.IMREAD_UNCHANGED) # keep the 4 channels\n",
        "    tqdm.write(\" done.\")"
      ],
      "execution_count": 17,
      "outputs": [
        {
          "output_type": "stream",
          "text": [
            " 12%|█▎        | 1/8 [00:13<01:36, 13.76s/it]"
          ],
          "name": "stderr"
        },
        {
          "output_type": "stream",
          "text": [
            " done.\n"
          ],
          "name": "stdout"
        },
        {
          "output_type": "stream",
          "text": [
            " 25%|██▌       | 2/8 [00:26<01:20, 13.43s/it]"
          ],
          "name": "stderr"
        },
        {
          "output_type": "stream",
          "text": [
            " done.\n"
          ],
          "name": "stdout"
        },
        {
          "output_type": "stream",
          "text": [
            " 38%|███▊      | 3/8 [00:41<01:10, 14.04s/it]"
          ],
          "name": "stderr"
        },
        {
          "output_type": "stream",
          "text": [
            " done.\n"
          ],
          "name": "stdout"
        },
        {
          "output_type": "stream",
          "text": [
            " 50%|█████     | 4/8 [01:01<01:02, 15.69s/it]"
          ],
          "name": "stderr"
        },
        {
          "output_type": "stream",
          "text": [
            " done.\n"
          ],
          "name": "stdout"
        },
        {
          "output_type": "stream",
          "text": [
            " 62%|██████▎   | 5/8 [01:15<00:45, 15.26s/it]"
          ],
          "name": "stderr"
        },
        {
          "output_type": "stream",
          "text": [
            " done.\n"
          ],
          "name": "stdout"
        },
        {
          "output_type": "stream",
          "text": [
            " 75%|███████▌  | 6/8 [01:38<00:35, 17.52s/it]"
          ],
          "name": "stderr"
        },
        {
          "output_type": "stream",
          "text": [
            " done.\n"
          ],
          "name": "stdout"
        },
        {
          "output_type": "stream",
          "text": [
            " 88%|████████▊ | 7/8 [02:39<00:30, 30.64s/it]"
          ],
          "name": "stderr"
        },
        {
          "output_type": "stream",
          "text": [
            " done.\n"
          ],
          "name": "stdout"
        },
        {
          "output_type": "stream",
          "text": [
            "100%|██████████| 8/8 [04:03<00:00, 46.60s/it]"
          ],
          "name": "stderr"
        },
        {
          "output_type": "stream",
          "text": [
            " done.\n"
          ],
          "name": "stdout"
        },
        {
          "output_type": "stream",
          "text": [
            "\n"
          ],
          "name": "stderr"
        }
      ]
    },
    {
      "cell_type": "code",
      "metadata": {
        "id": "9BR5PoaXr_Be",
        "colab_type": "code",
        "colab": {
          "base_uri": "https://localhost:8080/",
          "height": 90
        },
        "outputId": "e6fbed81-cbf7-4a60-b66e-37255870b533"
      },
      "source": [
        "all_obs.shape, all_actions.shape, np.unique(all_actions)"
      ],
      "execution_count": 20,
      "outputs": [
        {
          "output_type": "execute_result",
          "data": {
            "text/plain": [
              "((8, 100, 1000, 84, 84, 4),\n",
              " (8, 100, 1000),\n",
              " array([ 0,  1,  2,  3,  4,  5,  6,  7,  8,  9, 10, 11, 12, 13, 14, 15, 16,\n",
              "        17], dtype=int8))"
            ]
          },
          "metadata": {
            "tags": []
          },
          "execution_count": 20
        }
      ]
    },
    {
      "cell_type": "code",
      "metadata": {
        "id": "O1uurs09yVNO",
        "colab_type": "code",
        "colab": {}
      },
      "source": [
        "dataset = (all_obs, all_actions)"
      ],
      "execution_count": 0,
      "outputs": []
    },
    {
      "cell_type": "markdown",
      "metadata": {
        "id": "0HIQjk30ybxI",
        "colab_type": "text"
      },
      "source": [
        ""
      ]
    },
    {
      "cell_type": "code",
      "metadata": {
        "id": "fUzj5SoamlG6",
        "colab_type": "code",
        "colab": {}
      },
      "source": [
        "def print_trajectory_info(x):\n",
        "    # actions taken\n",
        "    print(\"- actions:\", x['actions'].shape)\n",
        "    print(\"  actions taken:\", ', '.join([ACTION_MEANING[action] for action in set(x['actions'].reshape(-1))]))\n",
        "    # path to the observed images\n",
        "    print(\"- observations:\", x['observations'].shape)\n",
        "    print(\"  path:\", os.path.dirname(x['observations'][0]) + '/')\n",
        "    # reward for each step\n",
        "    print(\"- rewards:\", x['rewards'].shape)\n",
        "    print(\"  reward values:\", ', '.join([str(r) for r in set(x['rewards'].reshape(-1))]))\n",
        "    # `done` value returned by env.step(action)\n",
        "    print(\"- episode_starts:\", x['episode_starts'].shape)\n",
        "    print(\"  episode starts:\", [i for i, ep_start in enumerate(x['episode_starts']) if ep_start])"
      ],
      "execution_count": 0,
      "outputs": []
    },
    {
      "cell_type": "code",
      "metadata": {
        "id": "J4Lb_T8Cpr2V",
        "colab_type": "code",
        "outputId": "4c793e1e-6e1c-40b0-a4c0-aa54e8524cc3",
        "colab": {
          "base_uri": "https://localhost:8080/",
          "height": 163
        }
      },
      "source": [
        "print_trajectory_info(x)"
      ],
      "execution_count": 0,
      "outputs": [
        {
          "output_type": "stream",
          "text": [
            "- actions: (1000,)\n",
            "  actions taken: NOOP, FIRE, UP, RIGHT\n",
            "- observations: (1000,)\n",
            "  path: data/BreakoutNoFrameskip-v4_PPO2_1000steps/images/00/\n",
            "- rewards: (1000,)\n",
            "  reward values: 0.0, 1.0\n",
            "- episode_starts: (1000,)\n",
            "  episode starts: [0, 245]\n"
          ],
          "name": "stdout"
        }
      ]
    }
  ]
}