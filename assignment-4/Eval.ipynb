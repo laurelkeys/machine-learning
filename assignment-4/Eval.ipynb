{
  "nbformat": 4,
  "nbformat_minor": 0,
  "metadata": {
    "colab": {
      "name": "Eval.ipynb",
      "provenance": [],
      "collapsed_sections": [],
      "include_colab_link": true
    },
    "kernelspec": {
      "name": "python3",
      "display_name": "Python 3"
    }
  },
  "cells": [
    {
      "cell_type": "markdown",
      "metadata": {
        "id": "view-in-github",
        "colab_type": "text"
      },
      "source": [
        "<a href=\"https://colab.research.google.com/github/laurelkeys/machine-learning/blob/master/assignment-4/Eval.ipynb\" target=\"_parent\"><img src=\"https://colab.research.google.com/assets/colab-badge.svg\" alt=\"Open In Colab\"/></a>"
      ]
    },
    {
      "cell_type": "code",
      "metadata": {
        "id": "nqIUUX2ECoUH",
        "colab_type": "code",
        "colab": {}
      },
      "source": [
        "# from google.colab import drive\n",
        "# drive.mount('/content/drive')"
      ],
      "execution_count": 0,
      "outputs": []
    },
    {
      "cell_type": "code",
      "metadata": {
        "id": "Q1zoDfnZJvRp",
        "colab_type": "code",
        "colab": {}
      },
      "source": [
        "!pip install PyDrive > /dev/null 2>&1"
      ],
      "execution_count": 0,
      "outputs": []
    },
    {
      "cell_type": "code",
      "metadata": {
        "id": "5gRxxgsMN_wm",
        "colab_type": "code",
        "colab": {}
      },
      "source": [
        "import os\n",
        "\n",
        "from google.colab import auth\n",
        "from pydrive.auth import GoogleAuth\n",
        "from pydrive.drive import GoogleDrive\n",
        "from oauth2client.client import GoogleCredentials"
      ],
      "execution_count": 0,
      "outputs": []
    },
    {
      "cell_type": "code",
      "metadata": {
        "id": "evE4IT3HOJe3",
        "colab_type": "code",
        "colab": {}
      },
      "source": [
        "auth.authenticate_user()\n",
        "gauth = GoogleAuth()\n",
        "gauth.credentials = GoogleCredentials.get_application_default()\n",
        "gdrive = GoogleDrive(gauth)"
      ],
      "execution_count": 0,
      "outputs": []
    },
    {
      "cell_type": "code",
      "metadata": {
        "id": "A6h5YaCZOmz1",
        "colab_type": "code",
        "colab": {}
      },
      "source": [
        "# Enable link sharing for data.zip in your Drive and copy the link:\n",
        "# https://drive.google.com/open?id=YOUR_FILE_ID\n",
        "\n",
        "YOUR_FILE_ID = ''"
      ],
      "execution_count": 0,
      "outputs": []
    },
    {
      "cell_type": "code",
      "metadata": {
        "id": "RMgayl2HPare",
        "colab_type": "code",
        "colab": {}
      },
      "source": [
        "download = gdrive.CreateFile({'id': YOUR_FILE_ID})\n",
        "\n",
        "save_folder = \"data\" # /content/data\n",
        "os.makedirs(save_folder, exist_ok=True)\n",
        "download.GetContentFile(os.path.join(save_folder, \"data.zip\"))"
      ],
      "execution_count": 0,
      "outputs": []
    },
    {
      "cell_type": "code",
      "metadata": {
        "id": "jxZCbihIPlxK",
        "colab_type": "code",
        "colab": {}
      },
      "source": [
        "!ls -lh data"
      ],
      "execution_count": 0,
      "outputs": []
    },
    {
      "cell_type": "code",
      "metadata": {
        "id": "DnsfHnwhSGPo",
        "colab_type": "code",
        "colab": {}
      },
      "source": [
        "import zipfile\n",
        "zip_ref = zipfile.ZipFile(\"/content/data/data.zip\", 'r')\n",
        "zip_ref.extractall(\"/content/data/\")\n",
        "zip_ref.close()"
      ],
      "execution_count": 0,
      "outputs": []
    },
    {
      "cell_type": "code",
      "metadata": {
        "id": "aHaDdrpkSNkW",
        "colab_type": "code",
        "colab": {}
      },
      "source": [
        "!ls -lh data"
      ],
      "execution_count": 0,
      "outputs": []
    },
    {
      "cell_type": "code",
      "metadata": {
        "id": "OIx5WqCpSczA",
        "colab_type": "code",
        "colab": {}
      },
      "source": [
        "!du -sh data/content"
      ],
      "execution_count": 0,
      "outputs": []
    }
  ]
}