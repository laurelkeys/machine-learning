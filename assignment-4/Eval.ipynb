{
  "nbformat": 4,
  "nbformat_minor": 0,
  "metadata": {
    "colab": {
      "name": "Eval.ipynb",
      "provenance": [],
      "collapsed_sections": [],
      "include_colab_link": true
    },
    "kernelspec": {
      "name": "python3",
      "display_name": "Python 3"
    }
  },
  "cells": [
    {
      "cell_type": "markdown",
      "metadata": {
        "id": "view-in-github",
        "colab_type": "text"
      },
      "source": [
        "<a href=\"https://colab.research.google.com/github/laurelkeys/machine-learning/blob/master/assignment-4/Eval.ipynb\" target=\"_parent\"><img src=\"https://colab.research.google.com/assets/colab-badge.svg\" alt=\"Open In Colab\"/></a>"
      ]
    },
    {
      "cell_type": "markdown",
      "metadata": {
        "id": "vc9woU03rfVr",
        "colab_type": "text"
      },
      "source": [
        "## Install dependencies and setup Drive"
      ]
    },
    {
      "cell_type": "code",
      "metadata": {
        "id": "nqIUUX2ECoUH",
        "colab_type": "code",
        "colab": {}
      },
      "source": [
        "# from google.colab import drive\n",
        "# drive.mount('/content/drive')"
      ],
      "execution_count": 0,
      "outputs": []
    },
    {
      "cell_type": "code",
      "metadata": {
        "id": "Q1zoDfnZJvRp",
        "colab_type": "code",
        "colab": {}
      },
      "source": [
        "!pip install PyDrive > /dev/null 2>&1"
      ],
      "execution_count": 0,
      "outputs": []
    },
    {
      "cell_type": "code",
      "metadata": {
        "id": "5gRxxgsMN_wm",
        "colab_type": "code",
        "colab": {}
      },
      "source": [
        "import os\n",
        "import zipfile\n",
        "\n",
        "import numpy as np\n",
        "\n",
        "from google.colab import auth\n",
        "from pydrive.auth import GoogleAuth\n",
        "from pydrive.drive import GoogleDrive\n",
        "from oauth2client.client import GoogleCredentials"
      ],
      "execution_count": 0,
      "outputs": []
    },
    {
      "cell_type": "code",
      "metadata": {
        "id": "evE4IT3HOJe3",
        "colab_type": "code",
        "colab": {}
      },
      "source": [
        "auth.authenticate_user()\n",
        "gauth = GoogleAuth()\n",
        "gauth.credentials = GoogleCredentials.get_application_default()\n",
        "gdrive = GoogleDrive(gauth)"
      ],
      "execution_count": 0,
      "outputs": []
    },
    {
      "cell_type": "markdown",
      "metadata": {
        "id": "rsFSd-FhriRe",
        "colab_type": "text"
      },
      "source": [
        "## Download and unzip data"
      ]
    },
    {
      "cell_type": "code",
      "metadata": {
        "id": "A6h5YaCZOmz1",
        "colab_type": "code",
        "colab": {}
      },
      "source": [
        "# Enable link sharing for data.zip in your Drive and copy the link:\n",
        "# https://drive.google.com/open?id=YOUR_FILE_ID\n",
        "\n",
        "YOUR_FILE_ID = '1fd1iyyeOpwAleUGv7QH23ocucxCzK4xt'"
      ],
      "execution_count": 0,
      "outputs": []
    },
    {
      "cell_type": "code",
      "metadata": {
        "id": "RMgayl2HPare",
        "colab_type": "code",
        "colab": {}
      },
      "source": [
        "download = gdrive.CreateFile({'id': YOUR_FILE_ID})\n",
        "\n",
        "save_folder = \"data\" # /content/data\n",
        "os.makedirs(save_folder, exist_ok=True)\n",
        "download.GetContentFile(os.path.join(save_folder, \"data.zip\"))"
      ],
      "execution_count": 0,
      "outputs": []
    },
    {
      "cell_type": "code",
      "metadata": {
        "id": "jxZCbihIPlxK",
        "colab_type": "code",
        "colab": {
          "base_uri": "https://localhost:8080/",
          "height": 72
        },
        "outputId": "73b9f0b8-6240-4ddd-9674-cae4e4a82125"
      },
      "source": [
        "!ls -lh data"
      ],
      "execution_count": 117,
      "outputs": [
        {
          "output_type": "stream",
          "text": [
            "total 92M\n",
            "drwxr-xr-x 3 root root 4.0K Dec  3 15:03 content\n",
            "-rw-r--r-- 1 root root  92M Dec  3 15:53 data.zip\n"
          ],
          "name": "stdout"
        }
      ]
    },
    {
      "cell_type": "code",
      "metadata": {
        "id": "DnsfHnwhSGPo",
        "colab_type": "code",
        "colab": {}
      },
      "source": [
        "zip_ref = zipfile.ZipFile(\"/content/data/data.zip\", 'r')\n",
        "zip_ref.extractall(\"/content/data/\")\n",
        "zip_ref.close()"
      ],
      "execution_count": 0,
      "outputs": []
    },
    {
      "cell_type": "code",
      "metadata": {
        "id": "nKAw_2q_mJKe",
        "colab_type": "code",
        "colab": {}
      },
      "source": [
        "PATH_TO_DATASET = os.path.join(\"data\", \"content\", \"data\") # data/data.zip -> data/content/data/*"
      ],
      "execution_count": 0,
      "outputs": []
    },
    {
      "cell_type": "code",
      "metadata": {
        "id": "OIx5WqCpSczA",
        "colab_type": "code",
        "colab": {
          "base_uri": "https://localhost:8080/",
          "height": 54
        },
        "outputId": "ab2c9e6e-a998-47f0-fda8-00b9c5cd5586"
      },
      "source": [
        "!du -sh data/data.zip\n",
        "!du -sh data/content"
      ],
      "execution_count": 44,
      "outputs": [
        {
          "output_type": "stream",
          "text": [
            "92M\tdata/data.zip\n",
            "356M\tdata/content\n"
          ],
          "name": "stdout"
        }
      ]
    },
    {
      "cell_type": "code",
      "metadata": {
        "id": "glwMJ828erVD",
        "colab_type": "code",
        "colab": {
          "base_uri": "https://localhost:8080/",
          "height": 326
        },
        "outputId": "e3b6ec1e-0917-4901-d6ec-6c02a9ac9cdb"
      },
      "source": [
        "print(\"================\")\n",
        "for trajectory_folder in os.listdir(\"data/content/data\"):\n",
        "    if trajectory_folder != \"results\":        \n",
        "        print(trajectory_folder + '/')\n",
        "        data_folders = sorted([d for d in os.listdir(f\"data/content/data/{trajectory_folder}\")])\n",
        "        print(\"├──\", data_folders[0] + '/')  # 0\n",
        "        print(\"├── ...\")\n",
        "        print(\"├──\", data_folders[-2] + '/') # N_OF_TRAJECTORIES\n",
        "        print(\"└──\", data_folders[-1] + '/') # 'images'\n",
        "        \n",
        "        images_folders = sorted([d for d in os.listdir(f\"data/content/data/{trajectory_folder}/images\")])\n",
        "        # print(\"    ├──\", images_folders[0] + '/')\n",
        "        # print(\"    ├── ...\")\n",
        "        # print(\"    └──\", images_folders[-1] + '/')\n",
        "        \n",
        "        last_images_folder = sorted([d for d in os.listdir(f\"data/content/data/{trajectory_folder}/images/{images_folders[-1]}\")])\n",
        "        # print(\"        ├──\", last_images_folder[0] + '/')\n",
        "        # print(\"        ├── ...\")\n",
        "        # print(\"        └──\", last_images_folder[-1] + '/')\n",
        "\n",
        "        print(f\"Trajectories: {int(images_folders[-1]) - int(images_folders[0]) + 1}\")\n",
        "        print(f\"Steps per trajectory: {int(last_images_folder[-1][:-4]) - int(last_images_folder[0][:-4]) + 1}\")\n",
        "        print(\"================\")"
      ],
      "execution_count": 76,
      "outputs": [
        {
          "output_type": "stream",
          "text": [
            "================\n",
            "BreakoutNoFrameskip-v4_PPO2_1000steps/\n",
            "├── 00/\n",
            "├── ...\n",
            "├── 44/\n",
            "└── images/\n",
            "Trajectories: 45\n",
            "Steps per trajectory: 1000\n",
            "================\n",
            "PongNoFrameskip-v4_PPO2_1000steps/\n",
            "├── 00/\n",
            "├── ...\n",
            "├── 44/\n",
            "└── images/\n",
            "Trajectories: 45\n",
            "Steps per trajectory: 1000\n",
            "================\n"
          ],
          "name": "stdout"
        }
      ]
    },
    {
      "cell_type": "markdown",
      "metadata": {
        "id": "0t2YPrbbr7zB",
        "colab_type": "text"
      },
      "source": [
        "## Inspect values"
      ]
    },
    {
      "cell_type": "code",
      "metadata": {
        "id": "zUZQjQJsmXOU",
        "colab_type": "code",
        "colab": {}
      },
      "source": [
        "# NOTE to change\n",
        "\n",
        "TRAJECTORY_FOLDER = \"BreakoutNoFrameskip-v4_PPO2_1000steps\"\n",
        "STEP_FOLDER = \"00\""
      ],
      "execution_count": 0,
      "outputs": []
    },
    {
      "cell_type": "code",
      "metadata": {
        "id": "s07sOVK8fvXU",
        "colab_type": "code",
        "colab": {
          "base_uri": "https://localhost:8080/",
          "height": 35
        },
        "outputId": "b8186db8-da89-4daf-8f2e-b1c1bdf9d5bf"
      },
      "source": [
        "x = np.load(os.path.join(PATH_TO_DATASET, TRAJECTORY_FOLDER, STEP_FOLDER, \"trajectory.npz\"), mmap_mode='r')\n",
        "x.files"
      ],
      "execution_count": 118,
      "outputs": [
        {
          "output_type": "execute_result",
          "data": {
            "text/plain": [
              "['actions', 'observations', 'rewards', 'episode_starts']"
            ]
          },
          "metadata": {
            "tags": []
          },
          "execution_count": 118
        }
      ]
    },
    {
      "cell_type": "code",
      "metadata": {
        "id": "fUzj5SoamlG6",
        "colab_type": "code",
        "colab": {}
      },
      "source": [
        "from gym.envs.atari.atari_env import ACTION_MEANING\n",
        "\n",
        "def print_trajectory_info(x):\n",
        "    # actions taken\n",
        "    print(\"- actions:\", x['actions'].shape)\n",
        "    print(\"  actions taken:\", ', '.join([ACTION_MEANING[action] for action in set(x['actions'].reshape(-1))]))\n",
        "    # path to the observed images\n",
        "    print(\"- observations:\", x['observations'].shape)\n",
        "    print(\"  path:\", os.path.dirname(x['observations'][0]) + '/')\n",
        "    # reward for each step\n",
        "    print(\"- rewards:\", x['rewards'].shape)\n",
        "    print(\"  reward values:\", ', '.join([str(r) for r in set(x['rewards'].reshape(-1))]))\n",
        "    # `done` value returned by env.step(action)\n",
        "    print(\"- episode_starts:\", x['episode_starts'].shape)\n",
        "    print(\"  episode starts:\", [i for i, ep_start in enumerate(x['episode_starts']) if ep_start])"
      ],
      "execution_count": 0,
      "outputs": []
    },
    {
      "cell_type": "code",
      "metadata": {
        "id": "J4Lb_T8Cpr2V",
        "colab_type": "code",
        "colab": {
          "base_uri": "https://localhost:8080/",
          "height": 163
        },
        "outputId": "4c793e1e-6e1c-40b0-a4c0-aa54e8524cc3"
      },
      "source": [
        "print_trajectory_info(x)"
      ],
      "execution_count": 116,
      "outputs": [
        {
          "output_type": "stream",
          "text": [
            "- actions: (1000,)\n",
            "  actions taken: NOOP, FIRE, UP, RIGHT\n",
            "- observations: (1000,)\n",
            "  path: data/BreakoutNoFrameskip-v4_PPO2_1000steps/images/00/\n",
            "- rewards: (1000,)\n",
            "  reward values: 0.0, 1.0\n",
            "- episode_starts: (1000,)\n",
            "  episode starts: [0, 245]\n"
          ],
          "name": "stdout"
        }
      ]
    }
  ]
}