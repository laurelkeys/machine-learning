{
  "nbformat": 4,
  "nbformat_minor": 0,
  "metadata": {
    "colab": {
      "name": "Gen.ipynb",
      "provenance": [],
      "collapsed_sections": [],
      "toc_visible": true,
      "machine_shape": "hm",
      "include_colab_link": true
    },
    "kernelspec": {
      "name": "python3",
      "display_name": "Python 3"
    }
  },
  "cells": [
    {
      "cell_type": "markdown",
      "metadata": {
        "id": "view-in-github",
        "colab_type": "text"
      },
      "source": [
        "<a href=\"https://colab.research.google.com/github/laurelkeys/machine-learning/blob/master/assignment-4/Gen.ipynb\" target=\"_parent\"><img src=\"https://colab.research.google.com/assets/colab-badge.svg\" alt=\"Open In Colab\"/></a>"
      ]
    },
    {
      "cell_type": "markdown",
      "metadata": {
        "id": "vc9woU03rfVr",
        "colab_type": "text"
      },
      "source": [
        "## Install dependencies and setup Drive"
      ]
    },
    {
      "cell_type": "code",
      "metadata": {
        "id": "Q1zoDfnZJvRp",
        "colab_type": "code",
        "colab": {}
      },
      "source": [
        "!pip install PyDrive > /dev/null 2>&1"
      ],
      "execution_count": 0,
      "outputs": []
    },
    {
      "cell_type": "code",
      "metadata": {
        "id": "5gRxxgsMN_wm",
        "colab_type": "code",
        "colab": {}
      },
      "source": [
        "import os\n",
        "import zipfile\n",
        "\n",
        "import cv2\n",
        "import numpy as np\n",
        "import matplotlib.pyplot as plt\n",
        "%matplotlib inline\n",
        "\n",
        "from random import randrange\n",
        "\n",
        "from google.colab import auth\n",
        "from pydrive.auth import GoogleAuth\n",
        "from pydrive.drive import GoogleDrive\n",
        "from oauth2client.client import GoogleCredentials"
      ],
      "execution_count": 0,
      "outputs": []
    },
    {
      "cell_type": "code",
      "metadata": {
        "id": "evE4IT3HOJe3",
        "colab_type": "code",
        "colab": {}
      },
      "source": [
        "auth.authenticate_user()\n",
        "gauth = GoogleAuth()\n",
        "gauth.credentials = GoogleCredentials.get_application_default()\n",
        "gdrive = GoogleDrive(gauth)"
      ],
      "execution_count": 0,
      "outputs": []
    },
    {
      "cell_type": "markdown",
      "metadata": {
        "id": "rsFSd-FhriRe",
        "colab_type": "text"
      },
      "source": [
        "## Download and unzip data"
      ]
    },
    {
      "cell_type": "code",
      "metadata": {
        "id": "A6h5YaCZOmz1",
        "colab_type": "code",
        "colab": {}
      },
      "source": [
        "# Enable link sharing for data.zip in your Drive and copy the link:\n",
        "# https://drive.google.com/open?id=YOUR_FILE_ID\n",
        "\n",
        "YOUR_FILE_ID = '1fd1iyyeOpwAleUGv7QH23ocucxCzK4xt'"
      ],
      "execution_count": 0,
      "outputs": []
    },
    {
      "cell_type": "code",
      "metadata": {
        "id": "RMgayl2HPare",
        "colab_type": "code",
        "colab": {}
      },
      "source": [
        "download = gdrive.CreateFile({'id': YOUR_FILE_ID})\n",
        "\n",
        "save_folder = \"data\" # /content/data\n",
        "os.makedirs(save_folder, exist_ok=True)\n",
        "download.GetContentFile(os.path.join(save_folder, \"data.zip\"))"
      ],
      "execution_count": 0,
      "outputs": []
    },
    {
      "cell_type": "code",
      "metadata": {
        "id": "jxZCbihIPlxK",
        "colab_type": "code",
        "outputId": "9ca5b636-16e2-4e8c-ad19-e0258e22bd05",
        "colab": {
          "base_uri": "https://localhost:8080/",
          "height": 54
        }
      },
      "source": [
        "!ls -lh data"
      ],
      "execution_count": 0,
      "outputs": [
        {
          "output_type": "stream",
          "text": [
            "total 92M\n",
            "-rw-r--r-- 1 root root 92M Dec  4 22:11 data.zip\n"
          ],
          "name": "stdout"
        }
      ]
    },
    {
      "cell_type": "code",
      "metadata": {
        "id": "DnsfHnwhSGPo",
        "colab_type": "code",
        "colab": {}
      },
      "source": [
        "zip_ref = zipfile.ZipFile(\"/content/data/data.zip\", 'r')\n",
        "zip_ref.extractall(\"/content/data/\")\n",
        "zip_ref.close()"
      ],
      "execution_count": 0,
      "outputs": []
    },
    {
      "cell_type": "code",
      "metadata": {
        "id": "nKAw_2q_mJKe",
        "colab_type": "code",
        "colab": {}
      },
      "source": [
        "PATH_TO_DATASET = os.path.join(\"data\", \"content\", \"data\") # data/data.zip -> data/content/data/*"
      ],
      "execution_count": 0,
      "outputs": []
    },
    {
      "cell_type": "code",
      "metadata": {
        "id": "OIx5WqCpSczA",
        "colab_type": "code",
        "outputId": "55390f02-d49b-423f-cefa-98e6ed90160a",
        "colab": {
          "base_uri": "https://localhost:8080/",
          "height": 54
        }
      },
      "source": [
        "!du -sh data/data.zip\n",
        "!du -sh data/content"
      ],
      "execution_count": 0,
      "outputs": [
        {
          "output_type": "stream",
          "text": [
            "92M\tdata/data.zip\n",
            "356M\tdata/content\n"
          ],
          "name": "stdout"
        }
      ]
    },
    {
      "cell_type": "code",
      "metadata": {
        "id": "glwMJ828erVD",
        "colab_type": "code",
        "outputId": "e3fadabd-b1da-4fd0-aea4-67d213ee024b",
        "colab": {
          "base_uri": "https://localhost:8080/",
          "height": 326
        }
      },
      "source": [
        "print(\"================\")\n",
        "for game_folder in os.listdir(\"data/content/data\"):\n",
        "    if game_folder != \"results\":\n",
        "        print(game_folder + '/')\n",
        "        trajectory_folders = sorted([d for d in os.listdir(f\"data/content/data/{game_folder}\")])\n",
        "        print(\"├──\", trajectory_folders[0] + '/')  # 0\n",
        "        print(\"├── ...\")\n",
        "        print(\"├──\", trajectory_folders[-2] + '/') # N_OF_TRAJECTORIES\n",
        "        print(\"└──\", trajectory_folders[-1] + '/') # 'images'\n",
        "        \n",
        "        images_folders = sorted([d for d in os.listdir(f\"data/content/data/{game_folder}/images\")])\n",
        "        # print(\"    ├──\", images_folders[0] + '/')\n",
        "        # print(\"    ├── ...\")\n",
        "        # print(\"    └──\", images_folders[-1] + '/')\n",
        "        \n",
        "        last_images_folder = sorted([d for d in os.listdir(f\"data/content/data/{game_folder}/images/{images_folders[-1]}\")])\n",
        "        # print(\"        ├──\", last_images_folder[0] + '/')\n",
        "        # print(\"        ├── ...\")\n",
        "        # print(\"        └──\", last_images_folder[-1] + '/')\n",
        "\n",
        "        print(f\"Trajectories: {int(images_folders[-1]) - int(images_folders[0]) + 1}\")\n",
        "        print(f\"Steps per trajectory: {int(last_images_folder[-1][:-4]) - int(last_images_folder[0][:-4]) + 1}\")\n",
        "        print(\"================\")"
      ],
      "execution_count": 0,
      "outputs": [
        {
          "output_type": "stream",
          "text": [
            "================\n",
            "BreakoutNoFrameskip-v4_PPO2_1000steps/\n",
            "├── 00/\n",
            "├── ...\n",
            "├── 44/\n",
            "└── images/\n",
            "Trajectories: 45\n",
            "Steps per trajectory: 1000\n",
            "================\n",
            "PongNoFrameskip-v4_PPO2_1000steps/\n",
            "├── 00/\n",
            "├── ...\n",
            "├── 44/\n",
            "└── images/\n",
            "Trajectories: 45\n",
            "Steps per trajectory: 1000\n",
            "================\n"
          ],
          "name": "stdout"
        }
      ]
    },
    {
      "cell_type": "markdown",
      "metadata": {
        "id": "lEcGjfjT2Zxf",
        "colab_type": "text"
      },
      "source": [
        "## Setup the dataset"
      ]
    },
    {
      "cell_type": "code",
      "metadata": {
        "id": "tMVTD9bX3Tfb",
        "colab_type": "code",
        "colab": {}
      },
      "source": [
        "# NOTE set these values according to the downloaded dataset\n",
        "N_OF_TRAJECTORIES = 45\n",
        "N_OF_STEPS = 1000"
      ],
      "execution_count": 0,
      "outputs": []
    },
    {
      "cell_type": "code",
      "metadata": {
        "id": "UmVHfclS2hSD",
        "colab_type": "code",
        "colab": {}
      },
      "source": [
        "# actions go from 0 to 17\n",
        "all_actions = np.empty((N_OF_TRAJECTORIES, N_OF_STEPS, 1), dtype='int8')\n",
        "\n",
        "# 'observations' stores the path to the PNG image of the state\n",
        "all_obs_paths = np.empty((N_OF_TRAJECTORIES, N_OF_STEPS, 1), dtype='<U60')"
      ],
      "execution_count": 0,
      "outputs": []
    },
    {
      "cell_type": "code",
      "metadata": {
        "id": "z2qEBARa-nSH",
        "colab_type": "code",
        "colab": {}
      },
      "source": [
        "all_obs = np.empty((N_OF_TRAJECTORIES, N_OF_STEPS, 84, 84, 4), dtype='uint8')"
      ],
      "execution_count": 0,
      "outputs": []
    },
    {
      "cell_type": "code",
      "metadata": {
        "id": "ZGjbxbCb5CmA",
        "colab_type": "code",
        "outputId": "a46627ff-b1ad-4d01-e99a-8858150417f7",
        "colab": {
          "base_uri": "https://localhost:8080/",
          "height": 54
        }
      },
      "source": [
        "# FIXME get values from `all_obs_paths`, instead of hard-coding the path\n",
        "for game_folder in os.listdir(\"data/content/data\"):\n",
        "    if game_folder != \"results\":\n",
        "        print(game_folder + '/', end=' ')\n",
        "        for images_folder in os.listdir(f\"data/content/data/{game_folder}/images\"):\n",
        "            trajectory = int(images_folder)\n",
        "            for obs_image in os.listdir(f\"data/content/data/{game_folder}/images/{images_folder}\"):\n",
        "                step = int(obs_image[:-4]) # '<step>.png'\n",
        "                all_obs[trajectory, step] = cv2.imread(\n",
        "                                                f\"data/content/data/{game_folder}/images/{images_folder}/{obs_image}\",\n",
        "                                                cv2.IMREAD_UNCHANGED # keep the 4 channels\n",
        "                                            )\n",
        "        print(\"done.\")"
      ],
      "execution_count": 44,
      "outputs": [
        {
          "output_type": "stream",
          "text": [
            "BreakoutNoFrameskip-v4_PPO2_1000steps/ done.\n",
            "PongNoFrameskip-v4_PPO2_1000steps/ done.\n"
          ],
          "name": "stdout"
        }
      ]
    },
    {
      "cell_type": "code",
      "metadata": {
        "id": "2LGecu9eNgky",
        "colab_type": "code",
        "colab": {}
      },
      "source": [
        "def plot_channels(image, figsize=None):\n",
        "    chs = image.shape[-1] # number of channels\n",
        "    fig = plt.figure(figsize=(3 * chs, 3 * chs) if figsize is None else figsize)\n",
        "    for i in range(chs):\n",
        "        img = np.stack((obs[:, :, i],) * 4, axis=-1)\n",
        "        fig.add_subplot(1, chs + 1, i + 1)\n",
        "        plt.axis('off'); plt.title(f\"obs[:, :, {i}]\"); plt.imshow(img)\n",
        "    fig.add_subplot(1, chs + 1, chs + 1)\n",
        "    plt.axis('off'); plt.title(\"obs[:, :, :]\"); plt.imshow(obs)\n",
        "    plt.show()"
      ],
      "execution_count": 0,
      "outputs": []
    },
    {
      "cell_type": "code",
      "metadata": {
        "id": "j4OCBq5y5CT4",
        "colab_type": "code",
        "colab": {
          "base_uri": "https://localhost:8080/",
          "height": 216
        },
        "outputId": "90241d9a-3cc0-427f-ea55-24d61155ba42"
      },
      "source": [
        "_trajectory, _step = randrange(N_OF_TRAJECTORIES), randrange(N_OF_STEPS)\n",
        "print(f\"trajectory: {_trajectory} (of {N_OF_TRAJECTORIES})\")\n",
        "print(f\"step: {_step} (of {N_OF_STEPS})\\n\")\n",
        "\n",
        "obs = all_obs[_trajectory, _step] # (84, 84, 4)\n",
        "# from google.colab.patches import cv2_imshow\n",
        "# cv2_imshow(obs)\n",
        "plot_channels(obs)"
      ],
      "execution_count": 113,
      "outputs": [
        {
          "output_type": "stream",
          "text": [
            "trajectory: 31 (of 45)\n",
            "step: 89 (of 1000)\n",
            "\n"
          ],
          "name": "stdout"
        },
        {
          "output_type": "display_data",
          "data": {
            "image/png": "[encoded data removed]",
            "text/plain": [
              "<Figure size 864x864 with 5 Axes>"
            ]
          },
          "metadata": {
            "tags": []
          }
        }
      ]
    },
    {
      "cell_type": "code",
      "metadata": {
        "id": "ndj1X8SmL7dZ",
        "colab_type": "code",
        "colab": {}
      },
      "source": [
        "def mix_channels(obs_image):\n",
        "    assert obs_image.shape[-1] == 4, \"expected an image with 4 channels\"\n",
        "    return np.stack([\n",
        "        obs_image[:, :, 0:2].mean(axis=-1), \n",
        "        obs_image[:, :, 1:3].mean(axis=-1), \n",
        "        obs_image[:, :, 2:4].mean(axis=-1), \n",
        "    ], axis=-1) # (84, 84, 4) -> (84, 84, 3)"
      ],
      "execution_count": 0,
      "outputs": []
    },
    {
      "cell_type": "code",
      "metadata": {
        "id": "O8quUHCRNVhH",
        "colab_type": "code",
        "colab": {
          "base_uri": "https://localhost:8080/",
          "height": 156
        },
        "outputId": "30ecbf13-0606-45c6-a196-025cae028706"
      },
      "source": [
        "plot_channels(mix_channels(obs))"
      ],
      "execution_count": 114,
      "outputs": [
        {
          "output_type": "display_data",
          "data": {
            "image/png": "[encoded data removed]",
            "text/plain": [
              "<Figure size 648x648 with 4 Axes>"
            ]
          },
          "metadata": {
            "tags": []
          }
        }
      ]
    },
    {
      "cell_type": "code",
      "metadata": {
        "id": "CCboESkDNVp_",
        "colab_type": "code",
        "colab": {}
      },
      "source": [
        ""
      ],
      "execution_count": 0,
      "outputs": []
    },
    {
      "cell_type": "code",
      "metadata": {
        "id": "4HBA3Gig3fu8",
        "colab_type": "code",
        "outputId": "8930d03b-6af5-4110-deda-185a75dd8236",
        "colab": {
          "base_uri": "https://localhost:8080/",
          "height": 35
        }
      },
      "source": [
        "x = np.load(os.path.join(PATH_TO_DATASET, \"BreakoutNoFrameskip-v4_PPO2_1000steps\", \n",
        "                         \"00\", \"trajectory.npz\"), mmap_mode='r')\n",
        "x.files"
      ],
      "execution_count": 0,
      "outputs": [
        {
          "output_type": "execute_result",
          "data": {
            "text/plain": [
              "['actions', 'observations', 'rewards', 'episode_starts']"
            ]
          },
          "metadata": {
            "tags": []
          },
          "execution_count": 14
        }
      ]
    },
    {
      "cell_type": "code",
      "metadata": {
        "id": "_w3SWt1j3jdU",
        "colab_type": "code",
        "outputId": "c04570f6-ce8e-4dd5-a8bd-8cd3bcfcb986",
        "colab": {
          "base_uri": "https://localhost:8080/",
          "height": 35
        }
      },
      "source": [
        "x['actions'].dtype, x['observations'].dtype"
      ],
      "execution_count": 84,
      "outputs": [
        {
          "output_type": "execute_result",
          "data": {
            "text/plain": [
              "(dtype('int64'), dtype('<U60'))"
            ]
          },
          "metadata": {
            "tags": []
          },
          "execution_count": 84
        }
      ]
    },
    {
      "cell_type": "code",
      "metadata": {
        "id": "hhP98WT3LrbW",
        "colab_type": "code",
        "colab": {}
      },
      "source": [
        ""
      ],
      "execution_count": 0,
      "outputs": []
    }
  ]
}