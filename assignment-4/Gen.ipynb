{
  "nbformat": 4,
  "nbformat_minor": 0,
  "metadata": {
    "colab": {
      "name": "Gen.ipynb",
      "provenance": [],
      "collapsed_sections": [],
      "toc_visible": true,
      "machine_shape": "hm",
      "include_colab_link": true
    },
    "kernelspec": {
      "name": "python3",
      "display_name": "Python 3"
    }
  },
  "cells": [
    {
      "cell_type": "markdown",
      "metadata": {
        "id": "view-in-github",
        "colab_type": "text"
      },
      "source": [
        "<a href=\"https://colab.research.google.com/github/laurelkeys/machine-learning/blob/master/assignment-4/Gen.ipynb\" target=\"_parent\"><img src=\"https://colab.research.google.com/assets/colab-badge.svg\" alt=\"Open In Colab\"/></a>"
      ]
    },
    {
      "cell_type": "markdown",
      "metadata": {
        "id": "vc9woU03rfVr",
        "colab_type": "text"
      },
      "source": [
        "## Install dependencies and setup Drive"
      ]
    },
    {
      "cell_type": "code",
      "metadata": {
        "id": "Q1zoDfnZJvRp",
        "colab_type": "code",
        "colab": {}
      },
      "source": [
        "!pip install PyDrive > /dev/null 2>&1"
      ],
      "execution_count": 0,
      "outputs": []
    },
    {
      "cell_type": "code",
      "metadata": {
        "id": "5gRxxgsMN_wm",
        "colab_type": "code",
        "colab": {}
      },
      "source": [
        "import os\n",
        "import zipfile\n",
        "\n",
        "import cv2\n",
        "import numpy as np\n",
        "import matplotlib.pyplot as plt\n",
        "%matplotlib inline\n",
        "\n",
        "from random import randrange\n",
        "\n",
        "from google.colab import auth\n",
        "from pydrive.auth import GoogleAuth\n",
        "from pydrive.drive import GoogleDrive\n",
        "from oauth2client.client import GoogleCredentials"
      ],
      "execution_count": 0,
      "outputs": []
    },
    {
      "cell_type": "code",
      "metadata": {
        "id": "evE4IT3HOJe3",
        "colab_type": "code",
        "colab": {}
      },
      "source": [
        "auth.authenticate_user()\n",
        "gauth = GoogleAuth()\n",
        "gauth.credentials = GoogleCredentials.get_application_default()\n",
        "gdrive = GoogleDrive(gauth)"
      ],
      "execution_count": 0,
      "outputs": []
    },
    {
      "cell_type": "markdown",
      "metadata": {
        "id": "rsFSd-FhriRe",
        "colab_type": "text"
      },
      "source": [
        "## Download and unzip data"
      ]
    },
    {
      "cell_type": "code",
      "metadata": {
        "id": "A6h5YaCZOmz1",
        "colab_type": "code",
        "colab": {}
      },
      "source": [
        "# Enable link sharing for data.zip in your Drive and copy the link:\n",
        "# https://drive.google.com/open?id=YOUR_FILE_ID\n",
        "\n",
        "YOUR_FILE_ID = '1fd1iyyeOpwAleUGv7QH23ocucxCzK4xt'"
      ],
      "execution_count": 0,
      "outputs": []
    },
    {
      "cell_type": "code",
      "metadata": {
        "id": "RMgayl2HPare",
        "colab_type": "code",
        "colab": {}
      },
      "source": [
        "download = gdrive.CreateFile({'id': YOUR_FILE_ID})\n",
        "\n",
        "save_folder = \"data\" # /content/data\n",
        "os.makedirs(save_folder, exist_ok=True)\n",
        "download.GetContentFile(os.path.join(save_folder, \"data.zip\"))"
      ],
      "execution_count": 0,
      "outputs": []
    },
    {
      "cell_type": "code",
      "metadata": {
        "id": "jxZCbihIPlxK",
        "colab_type": "code",
        "outputId": "d6158b0f-fbc3-402c-c402-6a2c503ff10a",
        "colab": {
          "base_uri": "https://localhost:8080/",
          "height": 72
        }
      },
      "source": [
        "!ls -lh data"
      ],
      "execution_count": 6,
      "outputs": [
        {
          "output_type": "stream",
          "text": [
            "total 92M\n",
            "drwxr-xr-x 3 root root 4.0K Dec  4 22:11 content\n",
            "-rw-r--r-- 1 root root  92M Dec  4 23:53 data.zip\n"
          ],
          "name": "stdout"
        }
      ]
    },
    {
      "cell_type": "code",
      "metadata": {
        "id": "DnsfHnwhSGPo",
        "colab_type": "code",
        "colab": {}
      },
      "source": [
        "zip_ref = zipfile.ZipFile(\"/content/data/data.zip\", 'r')\n",
        "zip_ref.extractall(\"/content/data/\")\n",
        "zip_ref.close()"
      ],
      "execution_count": 0,
      "outputs": []
    },
    {
      "cell_type": "code",
      "metadata": {
        "id": "nKAw_2q_mJKe",
        "colab_type": "code",
        "colab": {}
      },
      "source": [
        "PATH_TO_DATASET = os.path.join(\"data\", \"content\", \"data\") # data/data.zip -> data/content/data/*"
      ],
      "execution_count": 0,
      "outputs": []
    },
    {
      "cell_type": "code",
      "metadata": {
        "id": "OIx5WqCpSczA",
        "colab_type": "code",
        "outputId": "05699b5e-5450-4350-ee1f-7a8ef2d9cc33",
        "colab": {
          "base_uri": "https://localhost:8080/",
          "height": 54
        }
      },
      "source": [
        "!du -sh data/data.zip\n",
        "!du -sh data/content"
      ],
      "execution_count": 9,
      "outputs": [
        {
          "output_type": "stream",
          "text": [
            "92M\tdata/data.zip\n",
            "356M\tdata/content\n"
          ],
          "name": "stdout"
        }
      ]
    },
    {
      "cell_type": "code",
      "metadata": {
        "id": "glwMJ828erVD",
        "colab_type": "code",
        "outputId": "e2eb0886-bdf8-4c66-a29f-a6d6d120c186",
        "colab": {
          "base_uri": "https://localhost:8080/",
          "height": 326
        }
      },
      "source": [
        "print(\"================\")\n",
        "for game_folder in os.listdir(\"data/content/data\"):\n",
        "    if game_folder != \"results\":\n",
        "        print(game_folder + '/')\n",
        "        trajectory_folders = sorted([d for d in os.listdir(f\"data/content/data/{game_folder}\")])\n",
        "        print(\"├──\", trajectory_folders[0] + '/')  # 0\n",
        "        print(\"├── ...\")\n",
        "        print(\"├──\", trajectory_folders[-2] + '/') # N_OF_TRAJECTORIES\n",
        "        print(\"└──\", trajectory_folders[-1] + '/') # 'images'\n",
        "        \n",
        "        images_folders = sorted([d for d in os.listdir(f\"data/content/data/{game_folder}/images\")])\n",
        "        # print(\"    ├──\", images_folders[0] + '/')\n",
        "        # print(\"    ├── ...\")\n",
        "        # print(\"    └──\", images_folders[-1] + '/')\n",
        "        \n",
        "        last_images_folder = sorted([d for d in os.listdir(f\"data/content/data/{game_folder}/images/{images_folders[-1]}\")])\n",
        "        # print(\"        ├──\", last_images_folder[0] + '/')\n",
        "        # print(\"        ├── ...\")\n",
        "        # print(\"        └──\", last_images_folder[-1] + '/')\n",
        "\n",
        "        print(f\"Trajectories: {int(images_folders[-1]) - int(images_folders[0]) + 1}\")\n",
        "        print(f\"Steps per trajectory: {int(last_images_folder[-1][:-4]) - int(last_images_folder[0][:-4]) + 1}\")\n",
        "        print(\"================\")"
      ],
      "execution_count": 10,
      "outputs": [
        {
          "output_type": "stream",
          "text": [
            "================\n",
            "BreakoutNoFrameskip-v4_PPO2_1000steps/\n",
            "├── 00/\n",
            "├── ...\n",
            "├── 44/\n",
            "└── images/\n",
            "Trajectories: 45\n",
            "Steps per trajectory: 1000\n",
            "================\n",
            "PongNoFrameskip-v4_PPO2_1000steps/\n",
            "├── 00/\n",
            "├── ...\n",
            "├── 44/\n",
            "└── images/\n",
            "Trajectories: 45\n",
            "Steps per trajectory: 1000\n",
            "================\n"
          ],
          "name": "stdout"
        }
      ]
    },
    {
      "cell_type": "markdown",
      "metadata": {
        "id": "lEcGjfjT2Zxf",
        "colab_type": "text"
      },
      "source": [
        "## Setup the dataset"
      ]
    },
    {
      "cell_type": "code",
      "metadata": {
        "id": "tMVTD9bX3Tfb",
        "colab_type": "code",
        "colab": {}
      },
      "source": [
        "# NOTE set these values according to the downloaded dataset\n",
        "N_OF_TRAJECTORIES = 45\n",
        "N_OF_STEPS = 1000\n",
        "\n",
        "FILE_NAME = \"trajectory.npz\""
      ],
      "execution_count": 0,
      "outputs": []
    },
    {
      "cell_type": "code",
      "metadata": {
        "id": "UmVHfclS2hSD",
        "colab_type": "code",
        "colab": {}
      },
      "source": [
        "# actions go from 0 to 17\n",
        "all_actions = np.empty((N_OF_TRAJECTORIES, N_OF_STEPS), dtype='int8')\n",
        "\n",
        "# 'observations' stores the path to the PNG image of the state\n",
        "all_obs_paths = np.empty((N_OF_TRAJECTORIES, N_OF_STEPS), dtype='<U60')"
      ],
      "execution_count": 0,
      "outputs": []
    },
    {
      "cell_type": "code",
      "metadata": {
        "id": "LLxRtV_CSMw_",
        "colab_type": "code",
        "colab": {
          "base_uri": "https://localhost:8080/",
          "height": 54
        },
        "outputId": "d5f0031e-5b71-4b67-84c4-546f8dc5db5d"
      },
      "source": [
        "for game_folder in os.listdir(\"data/content/data\"):\n",
        "    if game_folder != \"results\":\n",
        "        print(game_folder + '/', end=' ')\n",
        "        for data_folder in os.listdir(f\"data/content/data/{game_folder}\"):\n",
        "            if data_folder != 'images':\n",
        "                # 'actions', 'observations', 'rewards', 'episode_starts'\n",
        "                data = np.load(f\"data/content/data/{game_folder}/{data_folder}/{FILE_NAME}\", mmap_mode='r')\n",
        "                \n",
        "                trajectory = int(data_folder)\n",
        "                all_actions[trajectory] = data['actions']\n",
        "                all_obs_paths[trajectory] = data['observations']\n",
        "        print(\"done.\")"
      ],
      "execution_count": 13,
      "outputs": [
        {
          "output_type": "stream",
          "text": [
            "BreakoutNoFrameskip-v4_PPO2_1000steps/ done.\n",
            "PongNoFrameskip-v4_PPO2_1000steps/ done.\n"
          ],
          "name": "stdout"
        }
      ]
    },
    {
      "cell_type": "code",
      "metadata": {
        "id": "z2qEBARa-nSH",
        "colab_type": "code",
        "colab": {}
      },
      "source": [
        "all_obs = np.empty((N_OF_TRAJECTORIES, N_OF_STEPS, 84, 84, 4), dtype='uint8')"
      ],
      "execution_count": 0,
      "outputs": []
    },
    {
      "cell_type": "code",
      "metadata": {
        "id": "ZGjbxbCb5CmA",
        "colab_type": "code",
        "outputId": "3d357c3a-7a84-4798-bbc2-62984d570126",
        "colab": {
          "base_uri": "https://localhost:8080/",
          "height": 54
        }
      },
      "source": [
        "# FIXME get values from `all_obs_paths`, instead of hard-coding the path\n",
        "for game_folder in os.listdir(\"data/content/data\"):\n",
        "    if game_folder != \"results\":\n",
        "        print(game_folder + '/', end=' ')\n",
        "        for images_folder in os.listdir(f\"data/content/data/{game_folder}/images\"):\n",
        "            trajectory = int(images_folder)\n",
        "            for obs_image in os.listdir(f\"data/content/data/{game_folder}/images/{images_folder}\"):\n",
        "                step = int(obs_image[:-4]) # '<step>.png'\n",
        "                all_obs[trajectory, step] = cv2.imread(\n",
        "                                                f\"data/content/data/{game_folder}/images/{images_folder}/{obs_image}\",\n",
        "                                                cv2.IMREAD_UNCHANGED # keep the 4 channels\n",
        "                                            )\n",
        "        print(\"done.\")"
      ],
      "execution_count": 15,
      "outputs": [
        {
          "output_type": "stream",
          "text": [
            "BreakoutNoFrameskip-v4_PPO2_1000steps/ done.\n",
            "PongNoFrameskip-v4_PPO2_1000steps/ done.\n"
          ],
          "name": "stdout"
        }
      ]
    },
    {
      "cell_type": "code",
      "metadata": {
        "id": "2LGecu9eNgky",
        "colab_type": "code",
        "colab": {}
      },
      "source": [
        "def plot_channels(image, figsize=None):\n",
        "    chs = image.shape[-1] # number of channels\n",
        "    fig = plt.figure(figsize=(3 * chs, 3 * chs) if figsize is None else figsize)\n",
        "    for i in range(chs):\n",
        "        img = np.stack((obs[:, :, i],) * 4, axis=-1)\n",
        "        fig.add_subplot(1, chs + 1, i + 1)\n",
        "        plt.axis('off'); plt.title(f\"obs[:, :, {i}]\"); plt.imshow(img)\n",
        "    fig.add_subplot(1, chs + 1, chs + 1)\n",
        "    plt.axis('off'); plt.title(\"obs[:, :, :]\"); plt.imshow(obs)\n",
        "    plt.show()"
      ],
      "execution_count": 0,
      "outputs": []
    },
    {
      "cell_type": "code",
      "metadata": {
        "id": "j4OCBq5y5CT4",
        "colab_type": "code",
        "colab": {
          "base_uri": "https://localhost:8080/",
          "height": 216
        },
        "outputId": "ef6da7f1-38e4-4045-b0f2-9082e6c58f4e"
      },
      "source": [
        "_trajectory, _step = randrange(N_OF_TRAJECTORIES), randrange(N_OF_STEPS)\n",
        "print(f\"trajectory: {_trajectory} (of {N_OF_TRAJECTORIES})\")\n",
        "print(f\"step: {_step} (of {N_OF_STEPS})\\n\")\n",
        "\n",
        "obs = all_obs[_trajectory, _step] # (84, 84, 4)\n",
        "# from google.colab.patches import cv2_imshow\n",
        "# cv2_imshow(obs)\n",
        "plot_channels(obs)"
      ],
      "execution_count": 17,
      "outputs": [
        {
          "output_type": "stream",
          "text": [
            "trajectory: 33 (of 45)\n",
            "step: 287 (of 1000)\n",
            "\n"
          ],
          "name": "stdout"
        },
        {
          "output_type": "display_data",
          "data": {
            "image/png": "[encoded data removed]",
            "text/plain": [
              "<Figure size 864x864 with 5 Axes>"
            ]
          },
          "metadata": {
            "tags": []
          }
        }
      ]
    },
    {
      "cell_type": "code",
      "metadata": {
        "id": "ndj1X8SmL7dZ",
        "colab_type": "code",
        "colab": {}
      },
      "source": [
        "def mix_channels(obs_image):\n",
        "    assert obs_image.shape[-1] == 4, \"expected an image with 4 channels\"\n",
        "    return np.stack([\n",
        "        obs_image[:, :, 0:2].mean(axis=-1), \n",
        "        obs_image[:, :, 1:3].mean(axis=-1), \n",
        "        obs_image[:, :, 2:4].mean(axis=-1), \n",
        "    ], axis=-1) # (84, 84, 4) -> (84, 84, 3)"
      ],
      "execution_count": 0,
      "outputs": []
    },
    {
      "cell_type": "code",
      "metadata": {
        "id": "O8quUHCRNVhH",
        "colab_type": "code",
        "colab": {
          "base_uri": "https://localhost:8080/",
          "height": 156
        },
        "outputId": "3fd2ace1-0730-4a29-8b38-e21ab108c3a3"
      },
      "source": [
        "plot_channels(mix_channels(obs))"
      ],
      "execution_count": 19,
      "outputs": [
        {
          "output_type": "display_data",
          "data": {
            "image/png": "[encoded data removed]",
            "text/plain": [
              "<Figure size 648x648 with 4 Axes>"
            ]
          },
          "metadata": {
            "tags": []
          }
        }
      ]
    },
    {
      "cell_type": "code",
      "metadata": {
        "id": "hhP98WT3LrbW",
        "colab_type": "code",
        "colab": {}
      },
      "source": [
        ""
      ],
      "execution_count": 0,
      "outputs": []
    }
  ]
}