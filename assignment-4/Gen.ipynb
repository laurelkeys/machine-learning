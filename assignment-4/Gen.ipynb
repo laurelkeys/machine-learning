{
  "nbformat": 4,
  "nbformat_minor": 0,
  "metadata": {
    "colab": {
      "name": "Gen.ipynb",
      "provenance": [],
      "collapsed_sections": [],
      "toc_visible": true,
      "machine_shape": "hm",
      "include_colab_link": true
    },
    "kernelspec": {
      "name": "python3",
      "display_name": "Python 3"
    },
    "accelerator": "GPU"
  },
  "cells": [
    {
      "cell_type": "markdown",
      "metadata": {
        "id": "view-in-github",
        "colab_type": "text"
      },
      "source": [
        "<a href=\"https://colab.research.google.com/github/laurelkeys/machine-learning/blob/master/assignment-4/Gen.ipynb\" target=\"_parent\"><img src=\"https://colab.research.google.com/assets/colab-badge.svg\" alt=\"Open In Colab\"/></a>"
      ]
    },
    {
      "cell_type": "markdown",
      "metadata": {
        "id": "vc9woU03rfVr",
        "colab_type": "text"
      },
      "source": [
        "## Install dependencies and setup Drive"
      ]
    },
    {
      "cell_type": "code",
      "metadata": {
        "id": "Q1zoDfnZJvRp",
        "colab_type": "code",
        "colab": {}
      },
      "source": [
        "!pip install PyDrive > /dev/null 2>&1"
      ],
      "execution_count": 0,
      "outputs": []
    },
    {
      "cell_type": "code",
      "metadata": {
        "id": "5gRxxgsMN_wm",
        "colab_type": "code",
        "colab": {}
      },
      "source": [
        "import os\n",
        "import zipfile\n",
        "\n",
        "import cv2\n",
        "import numpy as np\n",
        "import matplotlib.pyplot as plt\n",
        "%matplotlib inline\n",
        "\n",
        "from random import randrange\n",
        "\n",
        "from google.colab import auth\n",
        "from pydrive.auth import GoogleAuth\n",
        "from pydrive.drive import GoogleDrive\n",
        "from oauth2client.client import GoogleCredentials"
      ],
      "execution_count": 0,
      "outputs": []
    },
    {
      "cell_type": "code",
      "metadata": {
        "id": "evE4IT3HOJe3",
        "colab_type": "code",
        "colab": {}
      },
      "source": [
        "auth.authenticate_user()\n",
        "gauth = GoogleAuth()\n",
        "gauth.credentials = GoogleCredentials.get_application_default()\n",
        "gdrive = GoogleDrive(gauth)"
      ],
      "execution_count": 0,
      "outputs": []
    },
    {
      "cell_type": "markdown",
      "metadata": {
        "id": "rsFSd-FhriRe",
        "colab_type": "text"
      },
      "source": [
        "## Download and unzip data"
      ]
    },
    {
      "cell_type": "code",
      "metadata": {
        "id": "A6h5YaCZOmz1",
        "colab_type": "code",
        "colab": {}
      },
      "source": [
        "# Enable link sharing for data.zip in your Drive and copy the link:\n",
        "# https://drive.google.com/open?id=YOUR_FILE_ID\n",
        "\n",
        "YOUR_FILE_ID = '1fd1iyyeOpwAleUGv7QH23ocucxCzK4xt'"
      ],
      "execution_count": 0,
      "outputs": []
    },
    {
      "cell_type": "code",
      "metadata": {
        "id": "RMgayl2HPare",
        "colab_type": "code",
        "colab": {}
      },
      "source": [
        "download = gdrive.CreateFile({'id': YOUR_FILE_ID})\n",
        "\n",
        "save_folder = \"data\" # /content/data\n",
        "os.makedirs(save_folder, exist_ok=True)\n",
        "download.GetContentFile(os.path.join(save_folder, \"data.zip\"))"
      ],
      "execution_count": 0,
      "outputs": []
    },
    {
      "cell_type": "code",
      "metadata": {
        "id": "jxZCbihIPlxK",
        "colab_type": "code",
        "outputId": "f9d1b9c8-9e3c-4a59-d366-69d12a7c830c",
        "colab": {
          "base_uri": "https://localhost:8080/",
          "height": 54
        }
      },
      "source": [
        "!ls -lh data"
      ],
      "execution_count": 6,
      "outputs": [
        {
          "output_type": "stream",
          "text": [
            "total 92M\n",
            "-rw-r--r-- 1 root root 92M Dec  5 00:52 data.zip\n"
          ],
          "name": "stdout"
        }
      ]
    },
    {
      "cell_type": "code",
      "metadata": {
        "id": "DnsfHnwhSGPo",
        "colab_type": "code",
        "colab": {}
      },
      "source": [
        "zip_ref = zipfile.ZipFile(\"/content/data/data.zip\", 'r')\n",
        "zip_ref.extractall(\"/content/data/\")\n",
        "zip_ref.close()"
      ],
      "execution_count": 0,
      "outputs": []
    },
    {
      "cell_type": "code",
      "metadata": {
        "id": "nKAw_2q_mJKe",
        "colab_type": "code",
        "colab": {}
      },
      "source": [
        "PATH_TO_DATASET = os.path.join(\"data\", \"content\", \"data\") # data/data.zip -> data/content/data/*"
      ],
      "execution_count": 0,
      "outputs": []
    },
    {
      "cell_type": "code",
      "metadata": {
        "id": "OIx5WqCpSczA",
        "colab_type": "code",
        "outputId": "8696bd3f-4222-412e-a753-a4b735532c69",
        "colab": {
          "base_uri": "https://localhost:8080/",
          "height": 54
        }
      },
      "source": [
        "!du -sh data/data.zip\n",
        "!du -sh data/content"
      ],
      "execution_count": 9,
      "outputs": [
        {
          "output_type": "stream",
          "text": [
            "92M\tdata/data.zip\n",
            "356M\tdata/content\n"
          ],
          "name": "stdout"
        }
      ]
    },
    {
      "cell_type": "code",
      "metadata": {
        "id": "glwMJ828erVD",
        "colab_type": "code",
        "outputId": "1ceae28d-9ca9-44e1-946b-0f4b773316eb",
        "colab": {
          "base_uri": "https://localhost:8080/",
          "height": 326
        }
      },
      "source": [
        "print(\"================\")\n",
        "for game_folder in os.listdir(\"data/content/data\"):\n",
        "    if game_folder != \"results\":\n",
        "        print(game_folder + '/')\n",
        "        trajectory_folders = sorted([d for d in os.listdir(f\"data/content/data/{game_folder}\")])\n",
        "        print(\"├──\", trajectory_folders[0] + '/')  # 0\n",
        "        print(\"├── ...\")\n",
        "        print(\"├──\", trajectory_folders[-2] + '/') # N_OF_TRAJECTORIES\n",
        "        print(\"└──\", trajectory_folders[-1] + '/') # 'images'\n",
        "        \n",
        "        images_folders = sorted([d for d in os.listdir(f\"data/content/data/{game_folder}/images\")])\n",
        "        # print(\"    ├──\", images_folders[0] + '/')\n",
        "        # print(\"    ├── ...\")\n",
        "        # print(\"    └──\", images_folders[-1] + '/')\n",
        "        \n",
        "        last_images_folder = sorted([d for d in os.listdir(f\"data/content/data/{game_folder}/images/{images_folders[-1]}\")])\n",
        "        # print(\"        ├──\", last_images_folder[0] + '/')\n",
        "        # print(\"        ├── ...\")\n",
        "        # print(\"        └──\", last_images_folder[-1] + '/')\n",
        "\n",
        "        print(f\"Trajectories: {int(images_folders[-1]) - int(images_folders[0]) + 1}\")\n",
        "        print(f\"Steps per trajectory: {int(last_images_folder[-1][:-4]) - int(last_images_folder[0][:-4]) + 1}\")\n",
        "        print(\"================\")"
      ],
      "execution_count": 10,
      "outputs": [
        {
          "output_type": "stream",
          "text": [
            "================\n",
            "BreakoutNoFrameskip-v4_PPO2_1000steps/\n",
            "├── 00/\n",
            "├── ...\n",
            "├── 44/\n",
            "└── images/\n",
            "Trajectories: 45\n",
            "Steps per trajectory: 1000\n",
            "================\n",
            "PongNoFrameskip-v4_PPO2_1000steps/\n",
            "├── 00/\n",
            "├── ...\n",
            "├── 44/\n",
            "└── images/\n",
            "Trajectories: 45\n",
            "Steps per trajectory: 1000\n",
            "================\n"
          ],
          "name": "stdout"
        }
      ]
    },
    {
      "cell_type": "markdown",
      "metadata": {
        "id": "lEcGjfjT2Zxf",
        "colab_type": "text"
      },
      "source": [
        "## Setup the dataset"
      ]
    },
    {
      "cell_type": "code",
      "metadata": {
        "id": "tMVTD9bX3Tfb",
        "colab_type": "code",
        "colab": {}
      },
      "source": [
        "# NOTE set these values according to the downloaded dataset\n",
        "N_OF_TRAJECTORIES = 45\n",
        "N_OF_STEPS = 1000\n",
        "\n",
        "FILE_NAME = \"trajectory.npz\""
      ],
      "execution_count": 0,
      "outputs": []
    },
    {
      "cell_type": "code",
      "metadata": {
        "id": "UmVHfclS2hSD",
        "colab_type": "code",
        "colab": {}
      },
      "source": [
        "# actions go from 0 to 17\n",
        "all_actions = np.empty((N_OF_TRAJECTORIES, N_OF_STEPS), dtype='int8')\n",
        "\n",
        "# 'observations' stores the path to the PNG image of the state\n",
        "all_obs_paths = np.empty((N_OF_TRAJECTORIES, N_OF_STEPS), dtype='<U60')\n",
        "all_obs = np.empty((N_OF_TRAJECTORIES, N_OF_STEPS, 84, 84, 4), dtype='uint8')"
      ],
      "execution_count": 0,
      "outputs": []
    },
    {
      "cell_type": "code",
      "metadata": {
        "id": "LLxRtV_CSMw_",
        "colab_type": "code",
        "colab": {
          "base_uri": "https://localhost:8080/",
          "height": 72
        },
        "outputId": "1bd46881-0a89-4389-b01c-1eaab00c0cea"
      },
      "source": [
        "for game_folder in os.listdir(\"data/content/data\"):\n",
        "    if game_folder != \"results\":\n",
        "        print(game_folder + '/', end=' ')\n",
        "        for data_folder in os.listdir(f\"data/content/data/{game_folder}\"):\n",
        "            if data_folder != 'images':\n",
        "                # 'actions', 'observations', 'rewards', 'episode_starts'\n",
        "                data = np.load(f\"data/content/data/{game_folder}/{data_folder}/{FILE_NAME}\")\n",
        "                \n",
        "                trajectory = int(data_folder)\n",
        "                all_actions[trajectory] = data['actions']\n",
        "                all_obs_paths[trajectory] = data['observations']\n",
        "        print(\"done.\")\n",
        "\n",
        "for trajectory in range(N_OF_TRAJECTORIES):\n",
        "    for step in range(N_OF_STEPS):\n",
        "        obs_path = all_obs_paths[trajectory, step]\n",
        "        all_obs[trajectory, step] = cv2.imread(f\"data/content/{obs_path}\", \n",
        "                                               cv2.IMREAD_UNCHANGED) # keep the 4 channels\n",
        "print(\"done.\")"
      ],
      "execution_count": 13,
      "outputs": [
        {
          "output_type": "stream",
          "text": [
            "BreakoutNoFrameskip-v4_PPO2_1000steps/ done.\n",
            "PongNoFrameskip-v4_PPO2_1000steps/ done.\n",
            "done.\n"
          ],
          "name": "stdout"
        }
      ]
    },
    {
      "cell_type": "code",
      "metadata": {
        "id": "Mcdbd1QmZB7F",
        "colab_type": "code",
        "colab": {}
      },
      "source": [
        "# dataset = zip(all_obs, all_actions) # each value is a tuple with shapes ((N_OF_STEPS, 84, 84, 4), (N_OF_STEPS,))\n",
        "dataset = (all_obs, all_actions)"
      ],
      "execution_count": 0,
      "outputs": []
    },
    {
      "cell_type": "markdown",
      "metadata": {
        "id": "AJSUn0krY1Cc",
        "colab_type": "text"
      },
      "source": [
        "## Convert images to 3 channels"
      ]
    },
    {
      "cell_type": "code",
      "metadata": {
        "id": "2LGecu9eNgky",
        "colab_type": "code",
        "colab": {}
      },
      "source": [
        "def plot_channels(image, figsize=None):\n",
        "    chs = image.shape[-1] # number of channels\n",
        "    fig = plt.figure(figsize=(3 * chs, 3 * chs) if figsize is None else figsize)\n",
        "    for i in range(chs):\n",
        "        img = np.stack((obs[:, :, i],) * 4, axis=-1)\n",
        "        fig.add_subplot(1, chs + 1, i + 1)\n",
        "        plt.axis('off'); plt.title(f\"obs[:, :, {i}]\"); plt.imshow(img)\n",
        "    fig.add_subplot(1, chs + 1, chs + 1)\n",
        "    plt.axis('off'); plt.title(\"obs[:, :, :]\"); plt.imshow(obs)\n",
        "    plt.show()"
      ],
      "execution_count": 0,
      "outputs": []
    },
    {
      "cell_type": "code",
      "metadata": {
        "id": "j4OCBq5y5CT4",
        "colab_type": "code",
        "colab": {
          "base_uri": "https://localhost:8080/",
          "height": 216
        },
        "outputId": "35e49548-0f5b-4cb4-abc6-79155b54a1ca"
      },
      "source": [
        "t, s = randrange(N_OF_TRAJECTORIES), randrange(N_OF_STEPS)\n",
        "print(f\"trajectory: {t} (of {N_OF_TRAJECTORIES})\")\n",
        "print(f\"step: {s} (of {N_OF_STEPS})\\n\")\n",
        "obs = all_obs[t, s] # (84, 84, 4)\n",
        "plot_channels(obs)"
      ],
      "execution_count": 16,
      "outputs": [
        {
          "output_type": "stream",
          "text": [
            "trajectory: 40 (of 45)\n",
            "step: 665 (of 1000)\n",
            "\n"
          ],
          "name": "stdout"
        },
        {
          "output_type": "display_data",
          "data": {
            "image/png": "[encoded data removed]",
            "text/plain": [
              "<Figure size 864x864 with 5 Axes>"
            ]
          },
          "metadata": {
            "tags": []
          }
        }
      ]
    },
    {
      "cell_type": "code",
      "metadata": {
        "id": "ndj1X8SmL7dZ",
        "colab_type": "code",
        "colab": {}
      },
      "source": [
        "def mix_channels(obs_image):\n",
        "    assert obs_image.shape[-1] == 4, \"expected an image with 4 channels\"\n",
        "    return np.stack([\n",
        "        obs_image[:, :, 0:2].mean(axis=-1), \n",
        "        obs_image[:, :, 1:3].mean(axis=-1), \n",
        "        obs_image[:, :, 2:4].mean(axis=-1), \n",
        "    ], axis=-1) # (84, 84, 4) -> (84, 84, 3)"
      ],
      "execution_count": 0,
      "outputs": []
    },
    {
      "cell_type": "code",
      "metadata": {
        "id": "O8quUHCRNVhH",
        "colab_type": "code",
        "colab": {
          "base_uri": "https://localhost:8080/",
          "height": 156
        },
        "outputId": "7377b970-7b1b-4a95-9085-fec0ee0aade7"
      },
      "source": [
        "plot_channels(mix_channels(obs))"
      ],
      "execution_count": 18,
      "outputs": [
        {
          "output_type": "display_data",
          "data": {
            "image/png": "[encoded data removed]",
            "text/plain": [
              "<Figure size 648x648 with 4 Axes>"
            ]
          },
          "metadata": {
            "tags": []
          }
        }
      ]
    },
    {
      "cell_type": "markdown",
      "metadata": {
        "id": "hhP98WT3LrbW",
        "colab_type": "text"
      },
      "source": [
        "## Define the network architecture"
      ]
    },
    {
      "cell_type": "code",
      "metadata": {
        "id": "AhodryZubGvt",
        "colab_type": "code",
        "colab": {
          "base_uri": "https://localhost:8080/",
          "height": 54
        },
        "outputId": "170e6dcc-c0e6-46bb-af67-8722c62f4675"
      },
      "source": [
        "try:\n",
        "    # Colab only\n",
        "    %tensorflow_version 2.x\n",
        "except Exception:\n",
        "    pass\n",
        "\n",
        "import tensorflow as tf\n",
        "from tensorflow import keras\n",
        "print(tf.__version__)"
      ],
      "execution_count": 19,
      "outputs": [
        {
          "output_type": "stream",
          "text": [
            "TensorFlow 2.x selected.\n",
            "2.0.0\n"
          ],
          "name": "stdout"
        }
      ]
    },
    {
      "cell_type": "code",
      "metadata": {
        "id": "WcKy2vvjdByQ",
        "colab_type": "code",
        "colab": {}
      },
      "source": [
        "from tensorflow.keras.layers import InputLayer, Flatten, Dense, Conv2D, MaxPooling2D"
      ],
      "execution_count": 0,
      "outputs": []
    },
    {
      "cell_type": "code",
      "metadata": {
        "id": "XeUJ1iNBcc2F",
        "colab_type": "code",
        "colab": {}
      },
      "source": [
        "N_OF_ACTIONS = 18\n",
        "MODEL_INP_SHAPE = (84, 84, 4)"
      ],
      "execution_count": 0,
      "outputs": []
    },
    {
      "cell_type": "code",
      "metadata": {
        "id": "zfsnCkjMbeoZ",
        "colab_type": "code",
        "colab": {}
      },
      "source": [
        "# obs.: padding='valid' by default (i.e. no padding)\n",
        "model = keras.Sequential([\n",
        "    InputLayer(input_shape=MODEL_INP_SHAPE),\n",
        "    Conv2D(filters=32, kernel_size=3, strides=(2, 2), padding='same', activation='relu'),\n",
        "    MaxPooling2D((2, 2)),\n",
        "    Conv2D(filters=64, kernel_size=3, strides=(2, 2), padding='same', activation='relu'),\n",
        "    MaxPooling2D((2, 2)),\n",
        "    Flatten(),\n",
        "    Dense(256, activation='relu'),\n",
        "    Dense(N_OF_ACTIONS, activation='softmax'),\n",
        "])"
      ],
      "execution_count": 0,
      "outputs": []
    },
    {
      "cell_type": "code",
      "metadata": {
        "id": "_LxBDtvUdlU7",
        "colab_type": "code",
        "colab": {
          "base_uri": "https://localhost:8080/",
          "height": 417
        },
        "outputId": "b6cac3b8-c5ef-448f-d6bb-ff78f2087dfb"
      },
      "source": [
        "model.summary()"
      ],
      "execution_count": 23,
      "outputs": [
        {
          "output_type": "stream",
          "text": [
            "Model: \"sequential\"\n",
            "_________________________________________________________________\n",
            "Layer (type)                 Output Shape              Param #   \n",
            "=================================================================\n",
            "conv2d (Conv2D)              (None, 42, 42, 32)        1184      \n",
            "_________________________________________________________________\n",
            "max_pooling2d (MaxPooling2D) (None, 21, 21, 32)        0         \n",
            "_________________________________________________________________\n",
            "conv2d_1 (Conv2D)            (None, 11, 11, 64)        18496     \n",
            "_________________________________________________________________\n",
            "max_pooling2d_1 (MaxPooling2 (None, 5, 5, 64)          0         \n",
            "_________________________________________________________________\n",
            "flatten (Flatten)            (None, 1600)              0         \n",
            "_________________________________________________________________\n",
            "dense (Dense)                (None, 256)               409856    \n",
            "_________________________________________________________________\n",
            "dense_1 (Dense)              (None, 18)                4626      \n",
            "=================================================================\n",
            "Total params: 434,162\n",
            "Trainable params: 434,162\n",
            "Non-trainable params: 0\n",
            "_________________________________________________________________\n"
          ],
          "name": "stdout"
        }
      ]
    },
    {
      "cell_type": "code",
      "metadata": {
        "id": "T4Ii2Prec_l9",
        "colab_type": "code",
        "colab": {}
      },
      "source": [
        "model.compile(optimizer='adam',\n",
        "              loss='categorical_crossentropy',\n",
        "              metrics=['accuracy'])"
      ],
      "execution_count": 0,
      "outputs": []
    },
    {
      "cell_type": "code",
      "metadata": {
        "id": "YE1iEKLLfz7V",
        "colab_type": "code",
        "colab": {}
      },
      "source": [
        "MAX_EPOCHS = 64\n",
        "BATCH_SIZE = 512\n",
        "TF_VERBOSE = 1 # 0 = silent, 1 = progress bar, 2 = one line per epoch"
      ],
      "execution_count": 0,
      "outputs": []
    },
    {
      "cell_type": "code",
      "metadata": {
        "id": "q515wsa9gDUk",
        "colab_type": "code",
        "colab": {}
      },
      "source": [
        "X, Y = dataset"
      ],
      "execution_count": 0,
      "outputs": []
    },
    {
      "cell_type": "code",
      "metadata": {
        "id": "ClJdpOr4gJ5X",
        "colab_type": "code",
        "colab": {
          "base_uri": "https://localhost:8080/",
          "height": 54
        },
        "outputId": "a5014afd-89bf-4b78-a0e4-8891ec6af3aa"
      },
      "source": [
        "print(X.shape, Y.shape)\n",
        "X = X.reshape(-1, 84, 84, 4)\n",
        "Y = Y.reshape(-1)\n",
        "print(X.shape, Y.shape)"
      ],
      "execution_count": 27,
      "outputs": [
        {
          "output_type": "stream",
          "text": [
            "(45, 1000, 84, 84, 4) (45, 1000)\n",
            "(45000, 84, 84, 4) (45000,)\n"
          ],
          "name": "stdout"
        }
      ]
    },
    {
      "cell_type": "code",
      "metadata": {
        "id": "_j4llRkyg6Br",
        "colab_type": "code",
        "colab": {
          "base_uri": "https://localhost:8080/",
          "height": 35
        },
        "outputId": "ca9257ea-8ad8-4c1a-b52d-e05974adf5ed"
      },
      "source": [
        "Y_onehot = np.zeros((Y.size, N_OF_ACTIONS))\n",
        "Y_onehot[np.arange(Y.size), Y] = 1\n",
        "print(Y_onehot.shape)"
      ],
      "execution_count": 28,
      "outputs": [
        {
          "output_type": "stream",
          "text": [
            "(45000, 18)\n"
          ],
          "name": "stdout"
        }
      ]
    },
    {
      "cell_type": "code",
      "metadata": {
        "id": "QxpMyIZTeUwP",
        "colab_type": "code",
        "colab": {
          "base_uri": "https://localhost:8080/",
          "height": 1000
        },
        "outputId": "d17deeca-d3cb-4088-c2e9-70349bf8f133"
      },
      "source": [
        "model.fit(x=X, y=Y_onehot,\n",
        "          validation_split=0.2,\n",
        "          epochs=MAX_EPOCHS,\n",
        "          batch_size=BATCH_SIZE,\n",
        "          verbose=TF_VERBOSE)"
      ],
      "execution_count": 29,
      "outputs": [
        {
          "output_type": "stream",
          "text": [
            "Train on 36000 samples, validate on 9000 samples\n",
            "Epoch 1/64\n",
            "36000/36000 [==============================] - 7s 187us/sample - loss: 11.5933 - accuracy: 0.2002 - val_loss: 1.7482 - val_accuracy: 0.2316\n",
            "Epoch 2/64\n",
            "36000/36000 [==============================] - 1s 41us/sample - loss: 1.6865 - accuracy: 0.2875 - val_loss: 1.6444 - val_accuracy: 0.3022\n",
            "Epoch 3/64\n",
            "36000/36000 [==============================] - 1s 41us/sample - loss: 1.5970 - accuracy: 0.3386 - val_loss: 1.5768 - val_accuracy: 0.3464\n",
            "Epoch 4/64\n",
            "36000/36000 [==============================] - 1s 41us/sample - loss: 1.5470 - accuracy: 0.3614 - val_loss: 1.5832 - val_accuracy: 0.3420\n",
            "Epoch 5/64\n",
            "36000/36000 [==============================] - 1s 41us/sample - loss: 1.5097 - accuracy: 0.3777 - val_loss: 1.5332 - val_accuracy: 0.3649\n",
            "Epoch 6/64\n",
            "36000/36000 [==============================] - 1s 41us/sample - loss: 1.4830 - accuracy: 0.3949 - val_loss: 1.5245 - val_accuracy: 0.3649\n",
            "Epoch 7/64\n",
            "36000/36000 [==============================] - 1s 41us/sample - loss: 1.4597 - accuracy: 0.4043 - val_loss: 1.4912 - val_accuracy: 0.3891\n",
            "Epoch 8/64\n",
            "36000/36000 [==============================] - 1s 41us/sample - loss: 1.4382 - accuracy: 0.4101 - val_loss: 1.4928 - val_accuracy: 0.3786\n",
            "Epoch 9/64\n",
            "36000/36000 [==============================] - 1s 42us/sample - loss: 1.4240 - accuracy: 0.4161 - val_loss: 1.4935 - val_accuracy: 0.3820\n",
            "Epoch 10/64\n",
            "36000/36000 [==============================] - 2s 42us/sample - loss: 1.4149 - accuracy: 0.4223 - val_loss: 1.4637 - val_accuracy: 0.4026\n",
            "Epoch 11/64\n",
            "36000/36000 [==============================] - 2s 42us/sample - loss: 1.4010 - accuracy: 0.4268 - val_loss: 1.4506 - val_accuracy: 0.4030\n",
            "Epoch 12/64\n",
            "36000/36000 [==============================] - 1s 41us/sample - loss: 1.3887 - accuracy: 0.4327 - val_loss: 1.4362 - val_accuracy: 0.4090\n",
            "Epoch 13/64\n",
            "36000/36000 [==============================] - 1s 41us/sample - loss: 1.3805 - accuracy: 0.4332 - val_loss: 1.4377 - val_accuracy: 0.4082\n",
            "Epoch 14/64\n",
            "36000/36000 [==============================] - 1s 41us/sample - loss: 1.3749 - accuracy: 0.4358 - val_loss: 1.4433 - val_accuracy: 0.4048\n",
            "Epoch 15/64\n",
            "36000/36000 [==============================] - 2s 42us/sample - loss: 1.3710 - accuracy: 0.4358 - val_loss: 1.4422 - val_accuracy: 0.4069\n",
            "Epoch 16/64\n",
            "36000/36000 [==============================] - 1s 41us/sample - loss: 1.3591 - accuracy: 0.4430 - val_loss: 1.4343 - val_accuracy: 0.4141\n",
            "Epoch 17/64\n",
            "36000/36000 [==============================] - 1s 41us/sample - loss: 1.3557 - accuracy: 0.4448 - val_loss: 1.4211 - val_accuracy: 0.4198\n",
            "Epoch 18/64\n",
            "36000/36000 [==============================] - 1s 41us/sample - loss: 1.3459 - accuracy: 0.4469 - val_loss: 1.4275 - val_accuracy: 0.4169\n",
            "Epoch 19/64\n",
            "36000/36000 [==============================] - 1s 41us/sample - loss: 1.3400 - accuracy: 0.4483 - val_loss: 1.4255 - val_accuracy: 0.4139\n",
            "Epoch 20/64\n",
            "36000/36000 [==============================] - 1s 41us/sample - loss: 1.3294 - accuracy: 0.4564 - val_loss: 1.4242 - val_accuracy: 0.4207\n",
            "Epoch 21/64\n",
            "36000/36000 [==============================] - 1s 41us/sample - loss: 1.3279 - accuracy: 0.4556 - val_loss: 1.4274 - val_accuracy: 0.4134\n",
            "Epoch 22/64\n",
            "36000/36000 [==============================] - 1s 42us/sample - loss: 1.3249 - accuracy: 0.4554 - val_loss: 1.4186 - val_accuracy: 0.4201\n",
            "Epoch 23/64\n",
            "36000/36000 [==============================] - 1s 41us/sample - loss: 1.3176 - accuracy: 0.4578 - val_loss: 1.4328 - val_accuracy: 0.4109\n",
            "Epoch 24/64\n",
            "36000/36000 [==============================] - 1s 41us/sample - loss: 1.3152 - accuracy: 0.4598 - val_loss: 1.4216 - val_accuracy: 0.4178\n",
            "Epoch 25/64\n",
            "36000/36000 [==============================] - 2s 42us/sample - loss: 1.3078 - accuracy: 0.4616 - val_loss: 1.4199 - val_accuracy: 0.4177\n",
            "Epoch 26/64\n",
            "36000/36000 [==============================] - 1s 42us/sample - loss: 1.3074 - accuracy: 0.4611 - val_loss: 1.4273 - val_accuracy: 0.4182\n",
            "Epoch 27/64\n",
            "36000/36000 [==============================] - 1s 41us/sample - loss: 1.2996 - accuracy: 0.4657 - val_loss: 1.4330 - val_accuracy: 0.4126\n",
            "Epoch 28/64\n",
            "36000/36000 [==============================] - 2s 42us/sample - loss: 1.2976 - accuracy: 0.4674 - val_loss: 1.4210 - val_accuracy: 0.4186\n",
            "Epoch 29/64\n",
            "36000/36000 [==============================] - 2s 42us/sample - loss: 1.2968 - accuracy: 0.4686 - val_loss: 1.4299 - val_accuracy: 0.4177\n",
            "Epoch 30/64\n",
            "36000/36000 [==============================] - 1s 41us/sample - loss: 1.2871 - accuracy: 0.4711 - val_loss: 1.4264 - val_accuracy: 0.4207\n",
            "Epoch 31/64\n",
            "36000/36000 [==============================] - 1s 42us/sample - loss: 1.2859 - accuracy: 0.4715 - val_loss: 1.4370 - val_accuracy: 0.4170\n",
            "Epoch 32/64\n",
            "36000/36000 [==============================] - 1s 41us/sample - loss: 1.2768 - accuracy: 0.4755 - val_loss: 1.4337 - val_accuracy: 0.4120\n",
            "Epoch 33/64\n",
            "36000/36000 [==============================] - 1s 41us/sample - loss: 1.2721 - accuracy: 0.4784 - val_loss: 1.4366 - val_accuracy: 0.4216\n",
            "Epoch 34/64\n",
            "36000/36000 [==============================] - 1s 41us/sample - loss: 1.2678 - accuracy: 0.4799 - val_loss: 1.4453 - val_accuracy: 0.4106\n",
            "Epoch 35/64\n",
            "36000/36000 [==============================] - 1s 42us/sample - loss: 1.2658 - accuracy: 0.4796 - val_loss: 1.4319 - val_accuracy: 0.4201\n",
            "Epoch 36/64\n",
            "36000/36000 [==============================] - 1s 41us/sample - loss: 1.2542 - accuracy: 0.4855 - val_loss: 1.4401 - val_accuracy: 0.4174\n",
            "Epoch 37/64\n",
            "36000/36000 [==============================] - 2s 42us/sample - loss: 1.2570 - accuracy: 0.4832 - val_loss: 1.4490 - val_accuracy: 0.4147\n",
            "Epoch 38/64\n",
            "36000/36000 [==============================] - 1s 41us/sample - loss: 1.2474 - accuracy: 0.4875 - val_loss: 1.4446 - val_accuracy: 0.4240\n",
            "Epoch 39/64\n",
            "36000/36000 [==============================] - 2s 42us/sample - loss: 1.2440 - accuracy: 0.4913 - val_loss: 1.4476 - val_accuracy: 0.4198\n",
            "Epoch 40/64\n",
            "36000/36000 [==============================] - 1s 42us/sample - loss: 1.2376 - accuracy: 0.4943 - val_loss: 1.4538 - val_accuracy: 0.4179\n",
            "Epoch 41/64\n",
            "36000/36000 [==============================] - 1s 41us/sample - loss: 1.2333 - accuracy: 0.4958 - val_loss: 1.4552 - val_accuracy: 0.4228\n",
            "Epoch 42/64\n",
            "36000/36000 [==============================] - 1s 41us/sample - loss: 1.2264 - accuracy: 0.4989 - val_loss: 1.4568 - val_accuracy: 0.4173\n",
            "Epoch 43/64\n",
            "36000/36000 [==============================] - 1s 42us/sample - loss: 1.2192 - accuracy: 0.5021 - val_loss: 1.4642 - val_accuracy: 0.4188\n",
            "Epoch 44/64\n",
            "36000/36000 [==============================] - 2s 42us/sample - loss: 1.2158 - accuracy: 0.5035 - val_loss: 1.4526 - val_accuracy: 0.4231\n",
            "Epoch 45/64\n",
            "36000/36000 [==============================] - 1s 41us/sample - loss: 1.2079 - accuracy: 0.5069 - val_loss: 1.4691 - val_accuracy: 0.4087\n",
            "Epoch 46/64\n",
            "36000/36000 [==============================] - 1s 41us/sample - loss: 1.2059 - accuracy: 0.5054 - val_loss: 1.4769 - val_accuracy: 0.4158\n",
            "Epoch 47/64\n",
            "36000/36000 [==============================] - 1s 41us/sample - loss: 1.1949 - accuracy: 0.5151 - val_loss: 1.4952 - val_accuracy: 0.4114\n",
            "Epoch 48/64\n",
            "36000/36000 [==============================] - 1s 41us/sample - loss: 1.1900 - accuracy: 0.5159 - val_loss: 1.5047 - val_accuracy: 0.4083\n",
            "Epoch 49/64\n",
            "36000/36000 [==============================] - 1s 41us/sample - loss: 1.1834 - accuracy: 0.5165 - val_loss: 1.4828 - val_accuracy: 0.4182\n",
            "Epoch 50/64\n",
            "36000/36000 [==============================] - 2s 42us/sample - loss: 1.1778 - accuracy: 0.5188 - val_loss: 1.5042 - val_accuracy: 0.4040\n",
            "Epoch 51/64\n",
            "36000/36000 [==============================] - 2s 42us/sample - loss: 1.1697 - accuracy: 0.5228 - val_loss: 1.5189 - val_accuracy: 0.4063\n",
            "Epoch 52/64\n",
            "36000/36000 [==============================] - 2s 42us/sample - loss: 1.1659 - accuracy: 0.5241 - val_loss: 1.5053 - val_accuracy: 0.4051\n",
            "Epoch 53/64\n",
            "36000/36000 [==============================] - 1s 41us/sample - loss: 1.1583 - accuracy: 0.5272 - val_loss: 1.5242 - val_accuracy: 0.4008\n",
            "Epoch 54/64\n",
            "36000/36000 [==============================] - 1s 41us/sample - loss: 1.1505 - accuracy: 0.5328 - val_loss: 1.5308 - val_accuracy: 0.4089\n",
            "Epoch 55/64\n",
            "36000/36000 [==============================] - 1s 42us/sample - loss: 1.1382 - accuracy: 0.5381 - val_loss: 1.5275 - val_accuracy: 0.3989\n",
            "Epoch 56/64\n",
            "36000/36000 [==============================] - 1s 41us/sample - loss: 1.1367 - accuracy: 0.5365 - val_loss: 1.5513 - val_accuracy: 0.4000\n",
            "Epoch 57/64\n",
            "36000/36000 [==============================] - 1s 41us/sample - loss: 1.1251 - accuracy: 0.5447 - val_loss: 1.5464 - val_accuracy: 0.4021\n",
            "Epoch 58/64\n",
            "36000/36000 [==============================] - 1s 41us/sample - loss: 1.1120 - accuracy: 0.5496 - val_loss: 1.5704 - val_accuracy: 0.3968\n",
            "Epoch 59/64\n",
            "36000/36000 [==============================] - 2s 42us/sample - loss: 1.1095 - accuracy: 0.5500 - val_loss: 1.5886 - val_accuracy: 0.3987\n",
            "Epoch 60/64\n",
            "36000/36000 [==============================] - 1s 41us/sample - loss: 1.0998 - accuracy: 0.5532 - val_loss: 1.5935 - val_accuracy: 0.3958\n",
            "Epoch 61/64\n",
            "36000/36000 [==============================] - 1s 41us/sample - loss: 1.0892 - accuracy: 0.5586 - val_loss: 1.5924 - val_accuracy: 0.3949\n",
            "Epoch 62/64\n",
            "36000/36000 [==============================] - 1s 41us/sample - loss: 1.0851 - accuracy: 0.5627 - val_loss: 1.5954 - val_accuracy: 0.3998\n",
            "Epoch 63/64\n",
            "36000/36000 [==============================] - 1s 41us/sample - loss: 1.0764 - accuracy: 0.5623 - val_loss: 1.6201 - val_accuracy: 0.3964\n",
            "Epoch 64/64\n",
            "36000/36000 [==============================] - 1s 41us/sample - loss: 1.0632 - accuracy: 0.5717 - val_loss: 1.6224 - val_accuracy: 0.3906\n"
          ],
          "name": "stdout"
        },
        {
          "output_type": "execute_result",
          "data": {
            "text/plain": [
              "<tensorflow.python.keras.callbacks.History at 0x7f5bb0314cc0>"
            ]
          },
          "metadata": {
            "tags": []
          },
          "execution_count": 29
        }
      ]
    },
    {
      "cell_type": "code",
      "metadata": {
        "id": "JDdkEdwWgtxY",
        "colab_type": "code",
        "colab": {}
      },
      "source": [
        ""
      ],
      "execution_count": 0,
      "outputs": []
    }
  ]
}