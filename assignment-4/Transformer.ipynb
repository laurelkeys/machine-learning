{
  "nbformat": 4,
  "nbformat_minor": 0,
  "metadata": {
    "colab": {
      "name": "Transformer.ipynb",
      "provenance": [],
      "collapsed_sections": [],
      "toc_visible": true,
      "include_colab_link": true
    },
    "kernelspec": {
      "name": "python3",
      "display_name": "Python 3"
    },
    "accelerator": "GPU"
  },
  "cells": [
    {
      "cell_type": "markdown",
      "metadata": {
        "id": "view-in-github",
        "colab_type": "text"
      },
      "source": [
        "<a href=\"https://colab.research.google.com/github/laurelkeys/machine-learning/blob/master/assignment-4/Transformer.ipynb\" target=\"_parent\"><img src=\"https://colab.research.google.com/assets/colab-badge.svg\" alt=\"Open In Colab\"/></a>"
      ]
    },
    {
      "cell_type": "markdown",
      "metadata": {
        "colab_type": "text",
        "id": "oYe8NdCrd1Go"
      },
      "source": [
        "# Transformer implementation\n",
        "Replicating the code (and explanations) from [Transformer model for language understanding](https://www.tensorflow.org/tutorials/text/transformer) TensorFlow tutorial, to build upon it."
      ]
    },
    {
      "cell_type": "code",
      "metadata": {
        "colab_type": "code",
        "outputId": "f1a8138d-70b5-4112-d2e5-746d8c3eee06",
        "id": "JDgwFv10d1Gp",
        "colab": {
          "base_uri": "https://localhost:8080/",
          "height": 35
        }
      },
      "source": [
        "from __future__ import absolute_import, division, print_function, unicode_literals\n",
        "\n",
        "try:\n",
        "    %tensorflow_version 2.x\n",
        "except Exception:\n",
        "    pass\n",
        "import tensorflow as tf\n",
        "\n",
        "import time\n",
        "import numpy as np\n",
        "import matplotlib.pyplot as plt"
      ],
      "execution_count": 1,
      "outputs": [
        {
          "output_type": "stream",
          "text": [
            "TensorFlow 2.x selected.\n"
          ],
          "name": "stdout"
        }
      ]
    },
    {
      "cell_type": "code",
      "metadata": {
        "colab_type": "code",
        "id": "E2hTeIwNd1Gr",
        "colab": {}
      },
      "source": [
        "import warnings"
      ],
      "execution_count": 0,
      "outputs": []
    },
    {
      "cell_type": "markdown",
      "metadata": {
        "colab_type": "text",
        "id": "nHfZoVUBd1Gs"
      },
      "source": [
        "## Positional encoding\n",
        "\n",
        "Since this model doesn't contain any recurrence or convolution, positional encoding is added to give the model some information about the relative position of the words in the sentence. \n",
        "\n",
        "The positional encoding vector is added to the embedding vector. Embeddings represent a token in a d-dimensional space where tokens with similar meaning will be closer to each other. But the embeddings do not encode the relative position of words in a sentence. So after adding the positional encoding, words will be closer to each other based on the *similarity of their meaning and their position in the sentence*, in the d-dimensional space.\n",
        "\n",
        "See the notebook on [positional encoding](https://github.com/tensorflow/examples/blob/master/community/en/position_encoding.ipynb) to learn more about it. The formula for calculating the positional encoding is as follows:\n",
        "\n",
        "${PE_{(pos,\\,2i)} = sin(pos / 10000^{2i / d_{model}})}\\,,\\;\\;\\;{PE_{(pos,\\,2i+1)} = cos(pos / 10000^{2i / d_{model}})} $"
      ]
    },
    {
      "cell_type": "code",
      "metadata": {
        "colab_type": "code",
        "id": "uknPVZ5fd1Gt",
        "colab": {}
      },
      "source": [
        "def get_angles(pos, i, d_model):\n",
        "    print(\"get_angles - pos\", pos.shape)\n",
        "    print(\"get_angles - i\", i.shape)\n",
        "    angle_rates = 1 / np.power(10000, (2 * (i//2)) / np.float32(d_model))\n",
        "    return pos * angle_rates"
      ],
      "execution_count": 0,
      "outputs": []
    },
    {
      "cell_type": "code",
      "metadata": {
        "colab_type": "code",
        "id": "RfpHkrmfd1Gu",
        "colab": {}
      },
      "source": [
        "def positional_encoding(position, d_model):\n",
        "    angle_rads = get_angles(np.arange(position)[:, np.newaxis],\n",
        "                            np.arange(d_model)[np.newaxis, :],\n",
        "                            d_model)\n",
        "    print(\"angle_rads\", angle_rads.shape)\n",
        "    angle_rads[:, 0::2] = np.sin(angle_rads[:, 0::2])\n",
        "    angle_rads[:, 1::2] = np.cos(angle_rads[:, 1::2])\n",
        "\n",
        "    pos_encoding = angle_rads[np.newaxis, ...]\n",
        "    return tf.cast(pos_encoding, dtype=tf.float32)"
      ],
      "execution_count": 0,
      "outputs": []
    },
    {
      "cell_type": "markdown",
      "metadata": {
        "colab_type": "text",
        "id": "6_kBBffqd1Gw"
      },
      "source": [
        "## Masking\n"
      ]
    },
    {
      "cell_type": "code",
      "metadata": {
        "colab_type": "code",
        "id": "MVpIOWgnd1Gx",
        "colab": {}
      },
      "source": [
        "#    atari image    ==>   resized image   ==MobileNetV2==>  feature vector  ==GlobalAveragePooling2D==>   token\n",
        "# (bs, 210, 160, 3) ==> (bs, 160, 160, 3) ==MobileNetV2==> (bs, 5, 5, 1280) ==GlobalAveragePooling2D==> (bs, 1280)\n",
        "\n",
        "# (bs, input_seq_len, d_model) ==Transformer==> ...\n",
        "# bs            : batch_size\n",
        "# input_seq_len : 1000 for training (could be less if we want to use it as a policy network, predicting actions on-the-fly)\n",
        "# d_model       : 1280 (MobileNetV2 output with GlobalAveragePooling2D)"
      ],
      "execution_count": 0,
      "outputs": []
    },
    {
      "cell_type": "markdown",
      "metadata": {
        "colab_type": "text",
        "id": "M04IJeold1Gz"
      },
      "source": [
        "Mask all the pad tokens in the batch of sequence. It ensures that the model does not treat padding as the input. The mask indicates where pad value `PAD_VALUE` is present: it outputs a `1` at those locations, and a `0` otherwise."
      ]
    },
    {
      "cell_type": "code",
      "metadata": {
        "colab_type": "code",
        "id": "tUVotvatd1Gz",
        "colab": {}
      },
      "source": [
        "PAD_VALUE = 0 # FIXME\n",
        "\n",
        "def create_padding_mask(seq):\n",
        "    seq = tf.cast(tf.math.equal(seq, PAD_VALUE), tf.float32)\n",
        "\n",
        "    # add extra dimensions to add the padding to the attention logits\n",
        "    return seq[:, tf.newaxis, tf.newaxis, :] # (batch_size, 1, 1, seq_len)"
      ],
      "execution_count": 0,
      "outputs": []
    },
    {
      "cell_type": "markdown",
      "metadata": {
        "colab_type": "text",
        "id": "KSDkJ8Ytd1G2"
      },
      "source": [
        "The look-ahead mask is used to mask the future tokens in a sequence. In other words, the mask indicates which entries should not be used.\n",
        "\n",
        "This means that to predict the third token, only the first and second tokens will be used. Similarly to predict the fourth token, only the first, second and the third tokens will be used and so on."
      ]
    },
    {
      "cell_type": "code",
      "metadata": {
        "colab_type": "code",
        "id": "V16PfxiNd1G3",
        "colab": {}
      },
      "source": [
        "def create_look_ahead_mask(size):\n",
        "    mask = 1 - tf.linalg.band_part(tf.ones((size, size)), -1, 0)\n",
        "    return mask # (seq_len, seq_len)"
      ],
      "execution_count": 0,
      "outputs": []
    },
    {
      "cell_type": "code",
      "metadata": {
        "colab_type": "code",
        "outputId": "13808329-0518-4c74-d8e6-cf198f3abe87",
        "id": "oQuL9bu3d1G5",
        "colab": {
          "base_uri": "https://localhost:8080/",
          "height": 108
        }
      },
      "source": [
        "create_look_ahead_mask(size=4)"
      ],
      "execution_count": 8,
      "outputs": [
        {
          "output_type": "execute_result",
          "data": {
            "text/plain": [
              "<tf.Tensor: id=7, shape=(4, 4), dtype=float32, numpy=\n",
              "array([[0., 1., 1., 1.],\n",
              "       [0., 0., 1., 1.],\n",
              "       [0., 0., 0., 1.],\n",
              "       [0., 0., 0., 0.]], dtype=float32)>"
            ]
          },
          "metadata": {
            "tags": []
          },
          "execution_count": 8
        }
      ]
    },
    {
      "cell_type": "markdown",
      "metadata": {
        "colab_type": "text",
        "id": "AJoN2BYkd1G8"
      },
      "source": [
        "## Scaled dot product attention\n",
        "The attention function used by the transformer takes three inputs: Q (query), K (key), V (value). The equation used to calculate the attention weights is: ${Attention(Q, K, V) = softmax_k(\\frac{QK^T}{\\sqrt{d_k}}) V} $\n",
        "\n",
        "The mask is multiplied by $-10^9$ and summed with the scaled matrix multiplication of Q and K, and is applied immediately before a softmax. The goal is to zero out these cells, as large negative inputs to softmax are near zero in the output.\n",
        "\n",
        "<img src=\"https://www.tensorflow.org/images/tutorials/transformer/scaled_attention.png\" width=\"300\" alt=\"scaled_dot_product_attention\">"
      ]
    },
    {
      "cell_type": "code",
      "metadata": {
        "colab_type": "code",
        "id": "-V7GDux5d1G8",
        "colab": {}
      },
      "source": [
        "def scaled_dot_product_attention(q, k, v, mask=None):\n",
        "    ''' Calculate Attention(q, k, v) and the attention weights.\n",
        "        Args:\n",
        "          q: query shape == (..., seq_len_q, depth)\n",
        "          k: key shape   == (..., seq_len_k, depth)\n",
        "          v: value shape == (..., seq_len_v, depth_v)\n",
        "          mask: float tensor with shape broadcastable to (..., seq_len_q, seq_len_k)\n",
        "        Returns:\n",
        "          output, attention_weights '''\n",
        "    print(\"q:\", q.shape, q.shape[:-2])\n",
        "    print(\"k:\", k.shape, k.shape[:-2])\n",
        "    print(\"v:\", v.shape, v.shape[:-2])\n",
        "    \n",
        "    # assert q.shape[:-2] == k.shape[:-2] == v.shape[:-2], \"q, k, v must have matching leading dimensions\"\n",
        "    # assert k.shape[-2] == v.shape[-2], \"k, v must have matching penultimate dimension, i.e.: seq_len_k = seq_len_v\"\n",
        "\n",
        "    matmul_qk = tf.matmul(q, k, transpose_b=True) # (..., seq_len_q, seq_len_k)\n",
        "\n",
        "    # scale matmul_qk\n",
        "    d_k = tf.cast(tf.shape(k)[-1], tf.float32)\n",
        "    scaled_attention_logits = matmul_qk / tf.math.sqrt(d_k)\n",
        "\n",
        "    # add the (padding or look ahead) mask to the scaled tensor\n",
        "    if mask is not None:\n",
        "        scaled_attention_logits += (mask * -1e9)\n",
        "\n",
        "    # softmax is normalized on the last axis (seq_len_k) so that the scores add up to 1\n",
        "    attention_weights = tf.nn.softmax(scaled_attention_logits, axis=-1) # (..., seq_len_q, seq_len_k)\n",
        "    \n",
        "    output = tf.matmul(attention_weights, v) # (..., seq_len_q, depth_v)\n",
        "    \n",
        "    return output, attention_weights"
      ],
      "execution_count": 0,
      "outputs": []
    },
    {
      "cell_type": "markdown",
      "metadata": {
        "colab_type": "text",
        "id": "4kurS93xd1G-"
      },
      "source": [
        "As the softmax normalization is done on K, its values decide the amount of importance given to Q.\n",
        "\n",
        "The output represents the multiplication of the attention weights and the V (value) vector. This ensures that the tokens you want to focus on are kept as-is and the irrelevant tokens are flushed out."
      ]
    },
    {
      "cell_type": "markdown",
      "metadata": {
        "colab_type": "text",
        "id": "ls2-na9Ad1G_"
      },
      "source": [
        "### Example"
      ]
    },
    {
      "cell_type": "code",
      "metadata": {
        "colab_type": "code",
        "id": "F9OaPjnod1HA",
        "colab": {}
      },
      "source": [
        "def print_out(q, k, v):\n",
        "    temp_out, temp_attn = scaled_dot_product_attention(q, k, v, None)\n",
        "    print('Attention weights are:', temp_attn)\n",
        "    print('Output is:            ', temp_out)\n",
        "np.set_printoptions(suppress=True)"
      ],
      "execution_count": 0,
      "outputs": []
    },
    {
      "cell_type": "code",
      "metadata": {
        "colab_type": "code",
        "id": "6_AOyQVhd1HC",
        "colab": {}
      },
      "source": [
        "# def print_out_shape(q, k, v):\n",
        "#     temp_out, temp_attn = scaled_dot_product_attention(q, k, v, None)\n",
        "#     print('Attention weights are:', temp_attn.shape)\n",
        "#     print('Output is:            ', temp_out.shape)\n",
        "\n",
        "# print_out_shape(\n",
        "#     q=tf.random.uniform((64, 10, 24 // 8)), # (batch_size, seq_len, d_model_q)\n",
        "#     k=tf.random.uniform((64, 10, 1280 // 8)), # (batch_size, seq_len, d_model)\n",
        "#     v=tf.random.uniform((64, 10, 1280 // 8))) # (batch_size, seq_len, d_model)"
      ],
      "execution_count": 0,
      "outputs": []
    },
    {
      "cell_type": "code",
      "metadata": {
        "colab_type": "code",
        "id": "-Fz7goOld1HE",
        "colab": {}
      },
      "source": [
        "temp_k = tf.constant([[10,0,0], [0,10,0], [0,0,10], [0,0,10]], dtype=tf.float32) # (4, 3)\n",
        "\n",
        "temp_v = tf.constant([[   1,0], [  10,0], [ 100,5], [1000,6]], dtype=tf.float32) # (4, 2)"
      ],
      "execution_count": 0,
      "outputs": []
    },
    {
      "cell_type": "code",
      "metadata": {
        "colab_type": "code",
        "outputId": "cc6fbbc3-e6da-4b1f-e600-a179a5080177",
        "id": "TBFwYzG6d1HF",
        "colab": {
          "base_uri": "https://localhost:8080/",
          "height": 108
        }
      },
      "source": [
        "# This query aligns with the second key, so the second value is returned\n",
        "temp_q = tf.constant([[0, 10, 0]], dtype=tf.float32) # (1, 3)\n",
        "print_out(temp_q, temp_k, temp_v)"
      ],
      "execution_count": 13,
      "outputs": [
        {
          "output_type": "stream",
          "text": [
            "q: (1, 3) ()\n",
            "k: (4, 3) ()\n",
            "v: (4, 2) ()\n",
            "Attention weights are: tf.Tensor([[0. 1. 0. 0.]], shape=(1, 4), dtype=float32)\n",
            "Output is:             tf.Tensor([[10.  0.]], shape=(1, 2), dtype=float32)\n"
          ],
          "name": "stdout"
        }
      ]
    },
    {
      "cell_type": "code",
      "metadata": {
        "colab_type": "code",
        "outputId": "87b7ce08-a214-4176-8ac6-faa4866d820a",
        "id": "Y5AhsftWd1HH",
        "colab": {
          "base_uri": "https://localhost:8080/",
          "height": 108
        }
      },
      "source": [
        "# This query aligns with a repeated key (third and fourth), so all associated values get averaged\n",
        "temp_q = tf.constant([[0, 0, 10]], dtype=tf.float32) # (1, 3)\n",
        "print_out(temp_q, temp_k, temp_v)"
      ],
      "execution_count": 14,
      "outputs": [
        {
          "output_type": "stream",
          "text": [
            "q: (1, 3) ()\n",
            "k: (4, 3) ()\n",
            "v: (4, 2) ()\n",
            "Attention weights are: tf.Tensor([[0.  0.  0.5 0.5]], shape=(1, 4), dtype=float32)\n",
            "Output is:             tf.Tensor([[550.    5.5]], shape=(1, 2), dtype=float32)\n"
          ],
          "name": "stdout"
        }
      ]
    },
    {
      "cell_type": "code",
      "metadata": {
        "colab_type": "code",
        "outputId": "f8e13ed7-64d3-4d57-e7ca-4d6f4de7ade2",
        "id": "9O99UDXjd1HI",
        "colab": {
          "base_uri": "https://localhost:8080/",
          "height": 108
        }
      },
      "source": [
        "# This query aligns equally with the first and second key, so their values get averaged\n",
        "temp_q = tf.constant([[10, 10, 0]], dtype=tf.float32) # (1, 3)\n",
        "print_out(temp_q, temp_k, temp_v)"
      ],
      "execution_count": 15,
      "outputs": [
        {
          "output_type": "stream",
          "text": [
            "q: (1, 3) ()\n",
            "k: (4, 3) ()\n",
            "v: (4, 2) ()\n",
            "Attention weights are: tf.Tensor([[0.5 0.5 0.  0. ]], shape=(1, 4), dtype=float32)\n",
            "Output is:             tf.Tensor([[5.5 0. ]], shape=(1, 2), dtype=float32)\n"
          ],
          "name": "stdout"
        }
      ]
    },
    {
      "cell_type": "code",
      "metadata": {
        "colab_type": "code",
        "outputId": "0a24682d-05f0-4866-b528-2c778d39836d",
        "id": "__k-CaBtd1HK",
        "colab": {
          "base_uri": "https://localhost:8080/",
          "height": 217
        }
      },
      "source": [
        "# Pass all the queries together\n",
        "temp_q = tf.constant([[0, 0, 10], [0, 10, 0], [10, 10, 0]], dtype=tf.float32) # (3, 3)\n",
        "print_out(temp_q, temp_k, temp_v)"
      ],
      "execution_count": 16,
      "outputs": [
        {
          "output_type": "stream",
          "text": [
            "q: (3, 3) ()\n",
            "k: (4, 3) ()\n",
            "v: (4, 2) ()\n",
            "Attention weights are: tf.Tensor(\n",
            "[[0.  0.  0.5 0.5]\n",
            " [0.  1.  0.  0. ]\n",
            " [0.5 0.5 0.  0. ]], shape=(3, 4), dtype=float32)\n",
            "Output is:             tf.Tensor(\n",
            "[[550.    5.5]\n",
            " [ 10.    0. ]\n",
            " [  5.5   0. ]], shape=(3, 2), dtype=float32)\n"
          ],
          "name": "stdout"
        }
      ]
    },
    {
      "cell_type": "markdown",
      "metadata": {
        "colab_type": "text",
        "id": "UkEVCebUd1HM"
      },
      "source": [
        "## Multi-head attention\n",
        "Multi-head attention consists of four parts:\n",
        "* Linear layers and split into heads\n",
        "* Scaled dot-product attention\n",
        "* Concatenation of heads\n",
        "* Final linear layer\n",
        "\n",
        "<img src=\"https://www.tensorflow.org/images/tutorials/transformer/multi_head_attention.png\" width=\"300\" alt=\"multi-head attention\">"
      ]
    },
    {
      "cell_type": "markdown",
      "metadata": {
        "colab_type": "text",
        "id": "KFiZ8_X8d1HN"
      },
      "source": [
        "Each multi-head attention block gets three inputs; Q (query), K (key), and V (value). These are put through linear (Dense) layers and split up into multiple heads. \n",
        "\n",
        "The `scaled_dot_product_attention` defined above is applied to each head (broadcasted for efficiency). An appropriate mask must be used in the attention step.  The attention output for each head is then concatenated (using `tf.transpose`, and `tf.reshape`) and put through a final `Dense` layer.\n",
        "\n",
        "Instead of one single attention head, Q, K, and V are split into multiple heads because it allows the model to jointly attend to information at different positions from different representational spaces. After the split each head has a reduced dimensionality, so the total computation cost is the same as a single head attention with full dimensionality."
      ]
    },
    {
      "cell_type": "code",
      "metadata": {
        "colab_type": "code",
        "id": "zQk5pe5kd1HN",
        "colab": {}
      },
      "source": [
        "class MultiHeadAttention(tf.keras.layers.Layer):\n",
        "    def __init__(self, d_model, num_heads):\n",
        "        assert d_model % num_heads == 0, \"d_model must be divisible by num_heads\"\n",
        "\n",
        "        super(MultiHeadAttention, self).__init__()\n",
        "        self.num_heads = num_heads\n",
        "        self.d_model = d_model\n",
        "        self.depth = d_model // num_heads\n",
        "\n",
        "        self.wq = tf.keras.layers.Dense(d_model)\n",
        "        self.wk = tf.keras.layers.Dense(d_model)\n",
        "        self.wv = tf.keras.layers.Dense(d_model)\n",
        "\n",
        "        # NOTE I think this is d_model_q (and not d_model)\n",
        "        self.dense = tf.keras.layers.Dense(d_model)\n",
        "        \n",
        "    def split_heads(self, x, batch_size):\n",
        "        ''' Split the last dimension into (num_heads, depth).\n",
        "            Transpose the result such that the shape is (batch_size, num_heads, seq_len, depth) '''\n",
        "        x = tf.reshape(x, (batch_size, -1, self.num_heads, self.depth))\n",
        "        return tf.transpose(x, perm=[0, 2, 1, 3])\n",
        "    \n",
        "    def call(self, v, k, q, mask=None):\n",
        "        print(\"v\", v.shape)\n",
        "        print(\"k\", k.shape)\n",
        "        print(\"q\", q.shape)\n",
        "        batch_size = tf.shape(q)[0]\n",
        "        \n",
        "        q = self.wq(q) # (batch_size, seq_len, d_model)\n",
        "        k = self.wk(k) # (batch_size, seq_len, d_model)\n",
        "        v = self.wv(v) # (batch_size, seq_len, d_model)\n",
        "\n",
        "        # obs.: seq_len_k == seq_len_v\n",
        "        q = self.split_heads(q, batch_size)   # (batch_size, num_heads, seq_len_q, depth)\n",
        "        k = self.split_heads(k, batch_size)   # (batch_size, num_heads, seq_len_k, depth)\n",
        "        v = self.split_heads(v, batch_size)   # (batch_size, num_heads, seq_len_v, depth)\n",
        "\n",
        "        # attention.shape         == (batch_size, num_heads, seq_len_q, depth)\n",
        "        # attention_weights.shape == (batch_size, num_heads, seq_len_q, seq_len_k)\n",
        "        attention, attention_weights = scaled_dot_product_attention(q, k, v, mask)\n",
        "\n",
        "        print(\"scale dot attention\", attention.shape)\n",
        "\n",
        "        attention = tf.transpose(attention, perm=[0, 2, 1, 3]) # (batch_size, seq_len_q, num_heads, depth)\n",
        "        # NOTE I think this is d_model (and not d_model)\n",
        "        concat_attention = tf.reshape(attention, (batch_size, -1, self.d_model)) # (batch_size, seq_len_q, d_model)\n",
        "        output = self.dense(concat_attention) # (batch_size, seq_len_q, d_model)\n",
        "\n",
        "        return output, attention_weights"
      ],
      "execution_count": 0,
      "outputs": []
    },
    {
      "cell_type": "code",
      "metadata": {
        "colab_type": "code",
        "outputId": "52185c8f-6532-4774-d7dc-61f1da2d8b6a",
        "id": "G17zkLqQd1HP",
        "colab": {
          "base_uri": "https://localhost:8080/",
          "height": 163
        }
      },
      "source": [
        "sample_multiheadattention_layer = MultiHeadAttention(24, 8)\n",
        "\n",
        "x_sample = tf.random.uniform((64, 100, 24))\n",
        "sample_multiheadattention_layer_output, _ = sample_multiheadattention_layer(\n",
        "    x_sample, x_sample, x_sample, None)\n",
        "\n",
        "sample_multiheadattention_layer_output.shape # (batch_size, input_seq_len, d_model)"
      ],
      "execution_count": 18,
      "outputs": [
        {
          "output_type": "stream",
          "text": [
            "v (64, 100, 24)\n",
            "k (64, 100, 24)\n",
            "q (64, 100, 24)\n",
            "q: (64, 8, 100, 3) (64, 8)\n",
            "k: (64, 8, 100, 3) (64, 8)\n",
            "v: (64, 8, 100, 3) (64, 8)\n",
            "scale dot attention (64, 8, 100, 3)\n"
          ],
          "name": "stdout"
        },
        {
          "output_type": "execute_result",
          "data": {
            "text/plain": [
              "TensorShape([64, 100, 24])"
            ]
          },
          "metadata": {
            "tags": []
          },
          "execution_count": 18
        }
      ]
    },
    {
      "cell_type": "code",
      "metadata": {
        "colab_type": "code",
        "outputId": "2829cbbf-b134-448a-cd96-602d56f926db",
        "id": "a_wrm5Kgd1HR",
        "colab": {
          "base_uri": "https://localhost:8080/",
          "height": 163
        }
      },
      "source": [
        "sample_multiheadattention_layer = MultiHeadAttention(24, 8)\n",
        "\n",
        "x_sample = tf.random.uniform((64, 100, 24))\n",
        "y_sample = tf.random.uniform((64, 100, 1280))\n",
        "sample_multiheadattention_layer_output, _ = sample_multiheadattention_layer(\n",
        "    y_sample, y_sample, x_sample, None)\n",
        "\n",
        "sample_multiheadattention_layer_output.shape # (batch_size, input_seq_len, d_model)"
      ],
      "execution_count": 19,
      "outputs": [
        {
          "output_type": "stream",
          "text": [
            "v (64, 100, 1280)\n",
            "k (64, 100, 1280)\n",
            "q (64, 100, 24)\n",
            "q: (64, 8, 100, 3) (64, 8)\n",
            "k: (64, 8, 100, 3) (64, 8)\n",
            "v: (64, 8, 100, 3) (64, 8)\n",
            "scale dot attention (64, 8, 100, 3)\n"
          ],
          "name": "stdout"
        },
        {
          "output_type": "execute_result",
          "data": {
            "text/plain": [
              "TensorShape([64, 100, 24])"
            ]
          },
          "metadata": {
            "tags": []
          },
          "execution_count": 19
        }
      ]
    },
    {
      "cell_type": "markdown",
      "metadata": {
        "colab_type": "text",
        "id": "7m8KJMowd1HU"
      },
      "source": [
        "## Point wise feed forward network\n",
        "Point wise feed forward network consists of two fully-connected layers with a ReLU activation in between."
      ]
    },
    {
      "cell_type": "code",
      "metadata": {
        "colab_type": "code",
        "id": "zz6xfVDqd1HU",
        "colab": {}
      },
      "source": [
        "def point_wise_feed_forward_network(d_model, dff):\n",
        "    return tf.keras.Sequential([\n",
        "        tf.keras.layers.Dense(dff, activation='relu'), # (batch_size, seq_len, dff)\n",
        "        tf.keras.layers.Dense(d_model) # (batch_size, seq_len, d_model)\n",
        "    ])"
      ],
      "execution_count": 0,
      "outputs": []
    },
    {
      "cell_type": "markdown",
      "metadata": {
        "colab_type": "text",
        "id": "vPGiNbGRd1HV"
      },
      "source": [
        "## Encoder and decoder\n",
        "* The input sentence is passed through N encoder layers that generates an output for each token in the sequence.\n",
        "* The decoder attends on the encoder's output and its own input (self-attention) to predict the next token.\n",
        "\n",
        "<img src=\"https://www.tensorflow.org/images/tutorials/transformer/transformer.png\" width=\"450\" alt=\"transformer\">"
      ]
    },
    {
      "cell_type": "markdown",
      "metadata": {
        "colab_type": "text",
        "id": "T6B91Jcrd1HW"
      },
      "source": [
        "### Encoder layer\n",
        "Each encoder layer consists of sublayers:\n",
        "1. Multi-head attention \n",
        "2. Point wise feed forward networks. \n",
        "\n",
        "Each of these sublayers has a residual connection around it followed by a layer normalization. Residual connections help in avoiding the vanishing gradient problem in deep networks.\n",
        "\n",
        "The output of each sublayer is `LayerNorm(x + Sublayer(x))`. The normalization is done on the `d_model` (last) axis. There are N encoder layers in the transformer."
      ]
    },
    {
      "cell_type": "code",
      "metadata": {
        "colab_type": "code",
        "id": "GaNXB5Dkd1HW",
        "colab": {}
      },
      "source": [
        "class EncoderLayer(tf.keras.layers.Layer):\n",
        "    def __init__(self, d_model, num_heads, dff, rate=0.1):\n",
        "        super(EncoderLayer, self).__init__()\n",
        "\n",
        "        self.mha = MultiHeadAttention(d_model, num_heads)\n",
        "        self.ffn = point_wise_feed_forward_network(d_model, dff)\n",
        "\n",
        "        self.layernorm1 = tf.keras.layers.LayerNormalization(epsilon=1e-6)\n",
        "        self.layernorm2 = tf.keras.layers.LayerNormalization(epsilon=1e-6)\n",
        "\n",
        "        self.dropout1 = tf.keras.layers.Dropout(rate)\n",
        "        self.dropout2 = tf.keras.layers.Dropout(rate)\n",
        "\n",
        "    def call(self, x, training, mask):\n",
        "        # x.shape == (batch_size, input_seq_len, d_model)\n",
        "        attn_output, _ = self.mha(x, x, x, mask) # (batch_size, input_seq_len, d_model)\n",
        "        attn_output = self.dropout1(attn_output, training=training)\n",
        "        out1 = self.layernorm1(x + attn_output) # (batch_size, input_seq_len, d_model)\n",
        "\n",
        "        ffn_output = self.ffn(out1) # (batch_size, input_seq_len, d_model)\n",
        "        ffn_output = self.dropout2(ffn_output, training=training)\n",
        "        out2 = self.layernorm2(out1 + ffn_output) # (batch_size, input_seq_len, d_model)\n",
        "        \n",
        "        return out2 # shape same as x"
      ],
      "execution_count": 0,
      "outputs": []
    },
    {
      "cell_type": "code",
      "metadata": {
        "colab_type": "code",
        "outputId": "d6321a31-0074-4540-efb9-44a011920db4",
        "id": "-QKXsuSJd1HX",
        "colab": {
          "base_uri": "https://localhost:8080/",
          "height": 163
        }
      },
      "source": [
        "sample_encoder_layer = EncoderLayer(1280, 8, 256)\n",
        "\n",
        "sample_encoder_layer_output = sample_encoder_layer(\n",
        "    tf.random.uniform((32, 100, 1280)), False, None)\n",
        "\n",
        "sample_encoder_layer_output.shape # (batch_size, input_seq_len, d_model)"
      ],
      "execution_count": 22,
      "outputs": [
        {
          "output_type": "stream",
          "text": [
            "v (32, 100, 1280)\n",
            "k (32, 100, 1280)\n",
            "q (32, 100, 1280)\n",
            "q: (32, 8, 100, 160) (32, 8)\n",
            "k: (32, 8, 100, 160) (32, 8)\n",
            "v: (32, 8, 100, 160) (32, 8)\n",
            "scale dot attention (32, 8, 100, 160)\n"
          ],
          "name": "stdout"
        },
        {
          "output_type": "execute_result",
          "data": {
            "text/plain": [
              "TensorShape([32, 100, 1280])"
            ]
          },
          "metadata": {
            "tags": []
          },
          "execution_count": 22
        }
      ]
    },
    {
      "cell_type": "markdown",
      "metadata": {
        "colab_type": "text",
        "id": "8SXlziaSd1HY"
      },
      "source": [
        "### Decoder layer\n",
        "Each decoder layer consists of sublayers:\n",
        "1. Masked multi-head attention (with look ahead mask and padding mask)\n",
        "2. Multi-head attention (with padding mask)  \n",
        "   V (value) and K (key) receive the *encoder output* as inputs  \n",
        "   Q (query) receives the *output from the masked multi-head attention sublayer*\n",
        "3. Point wise feed forward networks\n",
        "\n",
        "Each of these sublayers has a residual connection around it followed by a layer normalization. The output of each sublayer is `LayerNorm(x + Sublayer(x))`. The normalization is done on the `d_model` (last) axis.\n",
        "\n",
        "There are N decoder layers in the transformer.\n",
        "\n",
        "As Q receives the output from decoder's first attention block, and K receives the encoder output, the attention weights represent the importance given to the decoder's input based on the encoder's output. In other words, the decoder predicts the next word by looking at the encoder output and self-attending to its own output."
      ]
    },
    {
      "cell_type": "code",
      "metadata": {
        "colab_type": "code",
        "id": "4kaBO2lPd1Ha",
        "colab": {}
      },
      "source": [
        "# d_model == 1280 (comes from the encoder, i.e. images' feature vectors)\n",
        "# d_model_q == 18 (comes from the previous decoder output, i.e. actions)\n",
        "class DecoderLayer(tf.keras.layers.Layer):\n",
        "    def __init__(self, d_model, num_heads, dff, rate=0.1, d_model_q=None):\n",
        "        super(DecoderLayer, self).__init__()\n",
        "\n",
        "        warnings.warn(f\"d_model_q must be 18 as we have actions from 0 to 17 (not {d_model_q})\")\n",
        "\n",
        "        self.mha1 = MultiHeadAttention(d_model_q, num_heads)\n",
        "        self.mha2 = MultiHeadAttention(d_model_q, num_heads)\n",
        "\n",
        "        self.ffn = point_wise_feed_forward_network(d_model_q, dff)\n",
        "\n",
        "        self.layernorm1 = tf.keras.layers.LayerNormalization(epsilon=1e-6)\n",
        "        self.layernorm2 = tf.keras.layers.LayerNormalization(epsilon=1e-6)\n",
        "        self.layernorm3 = tf.keras.layers.LayerNormalization(epsilon=1e-6)\n",
        "\n",
        "        self.dropout1 = tf.keras.layers.Dropout(rate)\n",
        "        self.dropout2 = tf.keras.layers.Dropout(rate)\n",
        "        self.dropout3 = tf.keras.layers.Dropout(rate)    \n",
        "    \n",
        "    def call(self, x, enc_output, training, look_ahead_mask, padding_mask):\n",
        "        # x == (batch_size, target_seq_len, d_model_q)\n",
        "        # enc_output.shape == (batch_size, input_seq_len, d_model)\n",
        "        print(\"x shape\", x.shape)\n",
        "\n",
        "        attn1, attn_weights_block1 = self.mha1(x, x, x, look_ahead_mask) # (batch_size, target_seq_len, d_model_q)\n",
        "        print(\"attn1 shape\", attn1.shape)\n",
        "        attn1 = self.dropout1(attn1, training=training)\n",
        "        out1 = self.layernorm1(attn1 + x)\n",
        "\n",
        "\n",
        "        attn2, attn_weights_block2 = self.mha2(enc_output, enc_output, out1, padding_mask) # (batch_size, target_seq_len, d_model_q)\n",
        "        print(\"attn2 shape\", attn2.shape)\n",
        "        attn2 = self.dropout2(attn2, training=training)\n",
        "        out2 = self.layernorm2(attn2 + out1) # (batch_size, target_seq_len, d_model_q)\n",
        "\n",
        "        ffn_output = self.ffn(out2) # (batch_size, target_seq_len, d_model_q)\n",
        "        ffn_output = self.dropout3(ffn_output, training=training)\n",
        "        out3 = self.layernorm3(ffn_output + out2) # (batch_size, target_seq_len, d_model_q)\n",
        "\n",
        "        return out3, attn_weights_block1, attn_weights_block2"
      ],
      "execution_count": 0,
      "outputs": []
    },
    {
      "cell_type": "code",
      "metadata": {
        "colab_type": "code",
        "outputId": "6a948fa8-22df-42b3-db8f-a597c2d70438",
        "id": "w1YDi_nVd1Hd",
        "colab": {
          "base_uri": "https://localhost:8080/",
          "height": 381
        }
      },
      "source": [
        "sample_decoder_layer = DecoderLayer(1280, 8, 256, d_model_q=24) # 24 since 18 isn't divisible by 8\n",
        "\n",
        "sample_decoder_layer_output, _, _ = sample_decoder_layer(tf.random.uniform((32, 100, 24)), \n",
        "                                                         sample_encoder_layer_output, False, None, None)\n",
        "\n",
        "sample_decoder_layer_output.shape # (batch_size, target_seq_len, d_model)"
      ],
      "execution_count": 24,
      "outputs": [
        {
          "output_type": "stream",
          "text": [
            "x shape (32, 100, 24)\n",
            "v (32, 100, 24)\n",
            "k (32, 100, 24)\n",
            "q (32, 100, 24)\n",
            "q: (32, 8, 100, 3) (32, 8)\n",
            "k: (32, 8, 100, 3) (32, 8)\n",
            "v: (32, 8, 100, 3) (32, 8)\n",
            "scale dot attention (32, 8, 100, 3)\n",
            "attn1 shape (32, 100, 24)\n",
            "v (32, 100, 1280)\n",
            "k (32, 100, 1280)\n",
            "q (32, 100, 24)\n",
            "q: (32, 8, 100, 3) (32, 8)\n",
            "k: (32, 8, 100, 3) (32, 8)\n",
            "v: (32, 8, 100, 3) (32, 8)\n",
            "scale dot attention (32, 8, 100, 3)\n",
            "attn2 shape (32, 100, 24)\n"
          ],
          "name": "stdout"
        },
        {
          "output_type": "stream",
          "text": [
            "/usr/local/lib/python3.6/dist-packages/ipykernel_launcher.py:5: UserWarning: d_model_q must be 18 as we have actions from 0 to 17 (not 24)\n",
            "  \"\"\"\n"
          ],
          "name": "stderr"
        },
        {
          "output_type": "execute_result",
          "data": {
            "text/plain": [
              "TensorShape([32, 100, 24])"
            ]
          },
          "metadata": {
            "tags": []
          },
          "execution_count": 24
        }
      ]
    },
    {
      "cell_type": "markdown",
      "metadata": {
        "colab_type": "text",
        "id": "i-Ofc4dId1He"
      },
      "source": [
        "### Encoder\n",
        "The `Encoder` consists of:\n",
        "1. Input Embedding\n",
        "2. Positional Encoding\n",
        "3. N encoder layers\n",
        "\n",
        "The input is put through an embedding which is summed with the positional encoding. The output of this summation is the input to the encoder layers. The output of the encoder is the input to the decoder."
      ]
    },
    {
      "cell_type": "code",
      "metadata": {
        "colab_type": "code",
        "id": "L9IwuNmwd1He",
        "colab": {}
      },
      "source": [
        "# NOTE replacing Embedding inside the Encoder with MobileNetV2 + GlobalAveragePooling2D\n",
        "# The output should have shape == (batch_size, input_seq_len, d_model), where d_model will be 1280 as we're using MobileNetV2\n",
        "class FeatureExtractor(tf.keras.layers.Layer):\n",
        "    def __init__(self):\n",
        "        super(FeatureExtractor, self).__init__()\n",
        "\n",
        "        self.mobile_net_v2 = tf.keras.applications.MobileNetV2(input_shape=(160, 160, 3), \n",
        "                                                               include_top=False, \n",
        "                                                               weights='imagenet')\n",
        "        self.mobile_net_v2.trainable = False\n",
        "        \n",
        "        self.global_average_layer = tf.keras.layers.GlobalAveragePooling2D()\n",
        "        \n",
        "    def call(self, x):\n",
        "        # reshaping (batch_size, input_seq_len, 160, 160, 3) to (batch_size * input_seq_len, 160, 160, 3)\n",
        "        x_shape = tf.shape(x)\n",
        "        x = tf.reshape(x, (-1, x_shape[2], x_shape[3], x_shape[4]))\n",
        "        x = self.mobile_net_v2(x) # (batch_size * input_seq_len, 5, 5, 1280)\n",
        "\n",
        "        x = self.global_average_layer(x) # (batch_size * input_seq_len, 1280)\n",
        "        x = tf.reshape(x, (x_shape[0], x_shape[1], -1))\n",
        "        return x # (batch_size, input_seq_len, d_model), with d_model == 1280"
      ],
      "execution_count": 0,
      "outputs": []
    },
    {
      "cell_type": "code",
      "metadata": {
        "id": "yZA8qsoeaKd9",
        "colab_type": "code",
        "outputId": "00bbce7c-9299-44af-83a5-a990ffb928d7",
        "colab": {
          "base_uri": "https://localhost:8080/",
          "height": 72
        }
      },
      "source": [
        "sample_feature_extractor = FeatureExtractor()\n",
        "\n",
        "temp_input = tf.random.uniform((2, 10, 160, 160, 3), dtype=tf.float32, minval=-1, maxval=1)\n",
        "\n",
        "sample_feature_extractor_output = sample_feature_extractor(temp_input)\n",
        "\n",
        "print (sample_feature_extractor_output.shape) # (batch_size, input_seq_len, d_model)"
      ],
      "execution_count": 26,
      "outputs": [
        {
          "output_type": "stream",
          "text": [
            "Downloading data from https://github.com/JonathanCMitchell/mobilenet_v2_keras/releases/download/v1.1/mobilenet_v2_weights_tf_dim_ordering_tf_kernels_1.0_160_no_top.h5\n",
            "9412608/9406464 [==============================] - 2s 0us/step\n",
            "(2, 10, 1280)\n"
          ],
          "name": "stdout"
        }
      ]
    },
    {
      "cell_type": "code",
      "metadata": {
        "colab_type": "code",
        "id": "x-eKQZwud1Hj",
        "colab": {}
      },
      "source": [
        "class Encoder(tf.keras.layers.Layer):\n",
        "    def __init__(self, num_layers, d_model, num_heads, dff, input_vocab_size, \n",
        "                 maximum_position_encoding, rate=0.1):\n",
        "        super(Encoder, self).__init__()\n",
        "\n",
        "        assert d_model == 1280, \"d_model must be 1280 as we're using MobileNetV2\"\n",
        "        warnings.warn(f\"input_vocab_size is no longer used (its value of {input_vocab_size} will be ignored)\")\n",
        "\n",
        "        self.d_model = d_model\n",
        "        self.num_layers = num_layers\n",
        "\n",
        "        # NOTE replacing Embedding with MobileNetV2 + GlobalAveragePooling2D\n",
        "        # > self.embedding = tf.keras.layers.Embedding(input_vocab_size, d_model)\n",
        "        self.feature_extractor = FeatureExtractor()\n",
        "        self.pos_encoding = positional_encoding(maximum_position_encoding, self.d_model)\n",
        "\n",
        "        self.enc_layers = [EncoderLayer(d_model, num_heads, dff, rate) for _ in range(num_layers)]\n",
        "\n",
        "        self.dropout = tf.keras.layers.Dropout(rate)\n",
        "        \n",
        "    def call(self, x, training, mask=None):\n",
        "        seq_len = tf.shape(x)[1]\n",
        "\n",
        "        # adding embedding and position encoding        \n",
        "        # NOTE replacing Embedding with MobileNetV2 + GlobalAveragePooling2D\n",
        "        # > x = self.embedding(x) # (batch_size, input_seq_len, d_model)\n",
        "        x = self.feature_extractor(x)\n",
        "        x *= tf.math.sqrt(tf.cast(self.d_model, tf.float32))\n",
        "        x += self.pos_encoding[:, :seq_len, :]\n",
        "\n",
        "        x = self.dropout(x, training=training)\n",
        "\n",
        "        for i in range(self.num_layers):\n",
        "            x = self.enc_layers[i](x, training, mask)\n",
        "\n",
        "        return x # (batch_size, input_seq_len, d_model)"
      ],
      "execution_count": 0,
      "outputs": []
    },
    {
      "cell_type": "code",
      "metadata": {
        "colab_type": "code",
        "outputId": "07b497a8-0b41-4f90-c784-9cec30ed5f12",
        "id": "f8kzWhead1Hl",
        "colab": {
          "base_uri": "https://localhost:8080/",
          "height": 381
        }
      },
      "source": [
        "sample_encoder = Encoder(num_layers=2, d_model=1280, num_heads=8, \n",
        "                         dff=256, input_vocab_size=None,\n",
        "                         maximum_position_encoding=10000)\n",
        "\n",
        "temp_input = tf.random.uniform((8, 10, 160, 160, 3), dtype=tf.float32, minval=-1, maxval=1)\n",
        "\n",
        "sample_encoder_output = sample_encoder(temp_input, training=False, mask=None)\n",
        "\n",
        "print (sample_encoder_output.shape) # (batch_size, input_seq_len, d_model)"
      ],
      "execution_count": 28,
      "outputs": [
        {
          "output_type": "stream",
          "text": [
            "/usr/local/lib/python3.6/dist-packages/ipykernel_launcher.py:7: UserWarning: input_vocab_size is no longer used (its value of None will be ignored)\n",
            "  import sys\n"
          ],
          "name": "stderr"
        },
        {
          "output_type": "stream",
          "text": [
            "get_angles - pos (10000, 1)\n",
            "get_angles - i (1, 1280)\n",
            "angle_rads (10000, 1280)\n",
            "v (8, 10, 1280)\n",
            "k (8, 10, 1280)\n",
            "q (8, 10, 1280)\n",
            "q: (8, 8, 10, 160) (8, 8)\n",
            "k: (8, 8, 10, 160) (8, 8)\n",
            "v: (8, 8, 10, 160) (8, 8)\n",
            "scale dot attention (8, 8, 10, 160)\n",
            "v (8, 10, 1280)\n",
            "k (8, 10, 1280)\n",
            "q (8, 10, 1280)\n",
            "q: (8, 8, 10, 160) (8, 8)\n",
            "k: (8, 8, 10, 160) (8, 8)\n",
            "v: (8, 8, 10, 160) (8, 8)\n",
            "scale dot attention (8, 8, 10, 160)\n",
            "(8, 10, 1280)\n"
          ],
          "name": "stdout"
        }
      ]
    },
    {
      "cell_type": "markdown",
      "metadata": {
        "colab_type": "text",
        "id": "PocXG-9Fd1Hn"
      },
      "source": [
        "### Decoder\n",
        "The `Decoder` consists of:\n",
        "1. Output Embedding\n",
        "2. Positional Encoding\n",
        "3. N decoder layers\n",
        "\n",
        "The target is put through an embedding which is summed with the positional encoding. The output of this summation is the input to the decoder layers. The output of the decoder is the input to the final linear layer."
      ]
    },
    {
      "cell_type": "code",
      "metadata": {
        "colab_type": "code",
        "id": "SQ352nDod1Ho",
        "colab": {}
      },
      "source": [
        "# d_model == 1280 (comes from the encoder, i.e. images' feature vectors)\n",
        "# d_model_q == 18 (comes from the previous decoder output, i.e. actions)\n",
        "class Decoder(tf.keras.layers.Layer):\n",
        "    def __init__(self, num_layers, d_model, num_heads, dff, target_vocab_size,\n",
        "                 maximum_position_encoding, rate=0.1, d_model_q=None):\n",
        "        super(Decoder, self).__init__()\n",
        "\n",
        "        warnings.warn(f\"d_model_q must be 18 as we have actions from 0 to 17 (not {d_model_q})\")\n",
        "        self.d_model_q = d_model_q\n",
        "\n",
        "        self.d_model = d_model\n",
        "        self.num_layers = num_layers\n",
        "\n",
        "        self.embedding = tf.keras.layers.Embedding(target_vocab_size, d_model_q)\n",
        "        self.pos_encoding = positional_encoding(maximum_position_encoding, d_model_q)\n",
        "\n",
        "        self.dec_layers = [DecoderLayer(d_model, num_heads, dff, rate, d_model_q) for _ in range(num_layers)]\n",
        "\n",
        "        self.dropout = tf.keras.layers.Dropout(rate)\n",
        "    \n",
        "    def call(self, x, enc_output, training, look_ahead_mask, padding_mask):\n",
        "        seq_len = tf.shape(x)[1]\n",
        "        attention_weights = {}\n",
        "\n",
        "        x = self.embedding(x) # (batch_size, target_seq_len, d_model_q)\n",
        "        print(\"embedding\", x.shape)\n",
        "        x *= tf.math.sqrt(tf.cast(self.d_model, tf.float32))\n",
        "        x += self.pos_encoding[:, :seq_len, :]\n",
        "\n",
        "        x = self.dropout(x, training=training)\n",
        "\n",
        "        for i in range(self.num_layers):\n",
        "            x, block1, block2 = self.dec_layers[i](x, enc_output, training, look_ahead_mask, padding_mask)\n",
        "            attention_weights['decoder_layer{}_block1'.format(i+1)] = block1\n",
        "            attention_weights['decoder_layer{}_block2'.format(i+1)] = block2\n",
        "\n",
        "        # x.shape == (batch_size, target_seq_len, d_model)\n",
        "        return x, attention_weights"
      ],
      "execution_count": 0,
      "outputs": []
    },
    {
      "cell_type": "code",
      "metadata": {
        "colab_type": "code",
        "outputId": "475a62bb-5f56-4d40-cf78-4313a5ab8cf8",
        "id": "hBa1OdjLd1Hq",
        "colab": {
          "base_uri": "https://localhost:8080/",
          "height": 799
        }
      },
      "source": [
        "sample_decoder = Decoder(num_layers=2, d_model=1280, num_heads=8, \n",
        "                         dff=256, target_vocab_size=24, \n",
        "                         maximum_position_encoding=1000, \n",
        "                         d_model_q=24)\n",
        "temp_input = tf.random.uniform((8, 10), dtype=tf.int64, minval=0, maxval=18)\n",
        "\n",
        "output, attn = sample_decoder(temp_input, \n",
        "                              enc_output=sample_encoder_output, \n",
        "                              training=False,\n",
        "                              look_ahead_mask=None, \n",
        "                              padding_mask=None)\n",
        "\n",
        "output.shape, attn['decoder_layer2_block2'].shape"
      ],
      "execution_count": 30,
      "outputs": [
        {
          "output_type": "stream",
          "text": [
            "get_angles - pos (1000, 1)\n",
            "get_angles - i (1, 24)\n",
            "angle_rads (1000, 24)\n"
          ],
          "name": "stdout"
        },
        {
          "output_type": "stream",
          "text": [
            "/usr/local/lib/python3.6/dist-packages/ipykernel_launcher.py:6: UserWarning: d_model_q must be 18 as we have actions from 0 to 17 (not 24)\n",
            "  \n",
            "/usr/local/lib/python3.6/dist-packages/ipykernel_launcher.py:5: UserWarning: d_model_q must be 18 as we have actions from 0 to 17 (not 24)\n",
            "  \"\"\"\n"
          ],
          "name": "stderr"
        },
        {
          "output_type": "stream",
          "text": [
            "embedding (8, 10, 24)\n",
            "x shape (8, 10, 24)\n",
            "v (8, 10, 24)\n",
            "k (8, 10, 24)\n",
            "q (8, 10, 24)\n",
            "q: (8, 8, 10, 3) (8, 8)\n",
            "k: (8, 8, 10, 3) (8, 8)\n",
            "v: (8, 8, 10, 3) (8, 8)\n",
            "scale dot attention (8, 8, 10, 3)\n",
            "attn1 shape (8, 10, 24)\n",
            "v (8, 10, 1280)\n",
            "k (8, 10, 1280)\n",
            "q (8, 10, 24)\n",
            "q: (8, 8, 10, 3) (8, 8)\n",
            "k: (8, 8, 10, 3) (8, 8)\n",
            "v: (8, 8, 10, 3) (8, 8)\n",
            "scale dot attention (8, 8, 10, 3)\n",
            "attn2 shape (8, 10, 24)\n",
            "x shape (8, 10, 24)\n",
            "v (8, 10, 24)\n",
            "k (8, 10, 24)\n",
            "q (8, 10, 24)\n",
            "q: (8, 8, 10, 3) (8, 8)\n",
            "k: (8, 8, 10, 3) (8, 8)\n",
            "v: (8, 8, 10, 3) (8, 8)\n",
            "scale dot attention (8, 8, 10, 3)\n",
            "attn1 shape (8, 10, 24)\n",
            "v (8, 10, 1280)\n",
            "k (8, 10, 1280)\n",
            "q (8, 10, 24)\n",
            "q: (8, 8, 10, 3) (8, 8)\n",
            "k: (8, 8, 10, 3) (8, 8)\n",
            "v: (8, 8, 10, 3) (8, 8)\n",
            "scale dot attention (8, 8, 10, 3)\n",
            "attn2 shape (8, 10, 24)\n"
          ],
          "name": "stdout"
        },
        {
          "output_type": "execute_result",
          "data": {
            "text/plain": [
              "(TensorShape([8, 10, 24]), TensorShape([8, 8, 10, 10]))"
            ]
          },
          "metadata": {
            "tags": []
          },
          "execution_count": 30
        }
      ]
    },
    {
      "cell_type": "markdown",
      "metadata": {
        "colab_type": "text",
        "id": "yhcJ3SI6d1Hr"
      },
      "source": [
        "## Create the Transformer\n",
        "Transformer consists of the encoder, decoder and a final linear layer. The output of the decoder is the input to the linear layer and its output is returned."
      ]
    },
    {
      "cell_type": "code",
      "metadata": {
        "colab_type": "code",
        "id": "Fx5nQ0-td1Hs",
        "colab": {}
      },
      "source": [
        "class Transformer(tf.keras.Model):\n",
        "    def __init__(self, num_layers, d_model, num_heads, dff, \n",
        "                 input_vocab_size, target_vocab_size, pe_input, pe_target, rate=0.1, \n",
        "                 d_model_q=None):\n",
        "        super(Transformer, self).__init__()\n",
        "\n",
        "        self.encoder = Encoder(num_layers, d_model, num_heads, dff, input_vocab_size, pe_input, rate)\n",
        "        self.decoder = Decoder(num_layers, d_model, num_heads, dff, target_vocab_size, pe_target, rate, d_model_q)\n",
        "        self.final_layer = tf.keras.layers.Dense(target_vocab_size)\n",
        "    \n",
        "    def call(self, inp, tar, training, enc_padding_mask, look_ahead_mask, dec_padding_mask):\n",
        "        enc_output = self.encoder(inp, training, enc_padding_mask) # (batch_size, inp_seq_len, d_model)\n",
        "\n",
        "        # dec_output.shape == (batch_size, tar_seq_len, d_model_q)\n",
        "        dec_output, attention_weights = self.decoder(tar, enc_output, training, look_ahead_mask, dec_padding_mask)\n",
        "\n",
        "        final_output = self.final_layer(dec_output) # (batch_size, tar_seq_len, target_vocab_size)\n",
        "\n",
        "        return final_output, attention_weights"
      ],
      "execution_count": 0,
      "outputs": []
    },
    {
      "cell_type": "code",
      "metadata": {
        "colab_type": "code",
        "outputId": "cd431eac-8f00-43d5-ce7f-cc57413864c0",
        "id": "EpIrkEQxd1Ht",
        "colab": {
          "base_uri": "https://localhost:8080/",
          "height": 1000
        }
      },
      "source": [
        "sample_transformer = Transformer(\n",
        "    num_layers=2, d_model=1280, num_heads=8, dff=256, \n",
        "    input_vocab_size=None, target_vocab_size=24, \n",
        "    pe_input=100, pe_target=100, # https://www.youtube.com/watch?v=HNtz05bhI1k\n",
        "    d_model_q=24)\n",
        "\n",
        "#temp_input = tf.random.uniform((64, 10, 160, 160, 3), dtype=tf.int64, minval=-1, maxval=1)\n",
        "temp_input = tf.random.uniform((1, 10, 160, 160, 3), dtype=tf.float32, minval=-1, maxval=1)\n",
        "temp_target = tf.random.uniform((1, 10), dtype=tf.int64, minval=0, maxval=17)\n",
        "\n",
        "fn_out, _ = sample_transformer(temp_input, temp_target, training=False, \n",
        "                               enc_padding_mask=None, \n",
        "                               look_ahead_mask=None,\n",
        "                               dec_padding_mask=None)\n",
        "\n",
        "fn_out.shape # (batch_size, tar_seq_len, target_vocab_size)"
      ],
      "execution_count": 32,
      "outputs": [
        {
          "output_type": "stream",
          "text": [
            "/usr/local/lib/python3.6/dist-packages/ipykernel_launcher.py:7: UserWarning: input_vocab_size is no longer used (its value of None will be ignored)\n",
            "  import sys\n"
          ],
          "name": "stderr"
        },
        {
          "output_type": "stream",
          "text": [
            "get_angles - pos (100, 1)\n",
            "get_angles - i (1, 1280)\n",
            "angle_rads (100, 1280)\n",
            "get_angles - pos (100, 1)\n",
            "get_angles - i (1, 24)\n",
            "angle_rads (100, 24)\n",
            "v (1, 10, 1280)\n",
            "k (1, 10, 1280)\n",
            "q (1, 10, 1280)\n",
            "q: (1, 8, 10, 160) (1, 8)\n",
            "k: (1, 8, 10, 160) (1, 8)\n",
            "v: (1, 8, 10, 160) (1, 8)\n",
            "scale dot attention (1, 8, 10, 160)\n",
            "v (1, 10, 1280)\n",
            "k (1, 10, 1280)\n",
            "q (1, 10, 1280)\n"
          ],
          "name": "stdout"
        },
        {
          "output_type": "stream",
          "text": [
            "/usr/local/lib/python3.6/dist-packages/ipykernel_launcher.py:6: UserWarning: d_model_q must be 18 as we have actions from 0 to 17 (not 24)\n",
            "  \n",
            "/usr/local/lib/python3.6/dist-packages/ipykernel_launcher.py:5: UserWarning: d_model_q must be 18 as we have actions from 0 to 17 (not 24)\n",
            "  \"\"\"\n"
          ],
          "name": "stderr"
        },
        {
          "output_type": "stream",
          "text": [
            "q: (1, 8, 10, 160) (1, 8)\n",
            "k: (1, 8, 10, 160) (1, 8)\n",
            "v: (1, 8, 10, 160) (1, 8)\n",
            "scale dot attention (1, 8, 10, 160)\n",
            "embedding (1, 10, 24)\n",
            "x shape (1, 10, 24)\n",
            "v (1, 10, 24)\n",
            "k (1, 10, 24)\n",
            "q (1, 10, 24)\n",
            "q: (1, 8, 10, 3) (1, 8)\n",
            "k: (1, 8, 10, 3) (1, 8)\n",
            "v: (1, 8, 10, 3) (1, 8)\n",
            "scale dot attention (1, 8, 10, 3)\n",
            "attn1 shape (1, 10, 24)\n",
            "v (1, 10, 1280)\n",
            "k (1, 10, 1280)\n",
            "q (1, 10, 24)\n",
            "q: (1, 8, 10, 3) (1, 8)\n",
            "k: (1, 8, 10, 3) (1, 8)\n",
            "v: (1, 8, 10, 3) (1, 8)\n",
            "scale dot attention (1, 8, 10, 3)\n",
            "attn2 shape (1, 10, 24)\n",
            "x shape (1, 10, 24)\n",
            "v (1, 10, 24)\n",
            "k (1, 10, 24)\n",
            "q (1, 10, 24)\n",
            "q: (1, 8, 10, 3) (1, 8)\n",
            "k: (1, 8, 10, 3) (1, 8)\n",
            "v: (1, 8, 10, 3) (1, 8)\n",
            "scale dot attention (1, 8, 10, 3)\n",
            "attn1 shape (1, 10, 24)\n",
            "v (1, 10, 1280)\n",
            "k (1, 10, 1280)\n",
            "q (1, 10, 24)\n",
            "q: (1, 8, 10, 3) (1, 8)\n",
            "k: (1, 8, 10, 3) (1, 8)\n",
            "v: (1, 8, 10, 3) (1, 8)\n",
            "scale dot attention (1, 8, 10, 3)\n",
            "attn2 shape (1, 10, 24)\n"
          ],
          "name": "stdout"
        },
        {
          "output_type": "execute_result",
          "data": {
            "text/plain": [
              "TensorShape([1, 10, 24])"
            ]
          },
          "metadata": {
            "tags": []
          },
          "execution_count": 32
        }
      ]
    },
    {
      "cell_type": "markdown",
      "metadata": {
        "colab_type": "text",
        "id": "Fo7tOx8xd1Hv"
      },
      "source": [
        "## Set hyperparameters"
      ]
    },
    {
      "cell_type": "code",
      "metadata": {
        "colab_type": "code",
        "id": "RntlqCQZd1Hv",
        "colab": {}
      },
      "source": [
        "num_layers = 4\n",
        "d_model = 1280\n",
        "d_model_q = 24\n",
        "dff = 512\n",
        "#num_heads = 8\n",
        "num_heads = 2 # FIXME fix asserts above to use 8 instead of 2"
      ],
      "execution_count": 0,
      "outputs": []
    },
    {
      "cell_type": "code",
      "metadata": {
        "colab_type": "code",
        "id": "5yKiQ0J2d1Hx",
        "colab": {}
      },
      "source": [
        "N_OF_INP_IMAGES = 1000\n",
        "INP_IMAGE_SHAPE = (160, 160, 3) # Atari images are 210x160 RGB.. so you should resize this somewhere mate ;)\n",
        "INP_IMAGE_SIZE  = np.prod(INP_IMAGE_SHAPE)"
      ],
      "execution_count": 0,
      "outputs": []
    },
    {
      "cell_type": "markdown",
      "metadata": {
        "colab_type": "text",
        "id": "PnwpqGV2d1Hy"
      },
      "source": [
        "A total of 18 actions can be performed with the joystick: doing nothing, pressing the action button, going in one of 8 directions (up, down, left and right as well as the 4 diagonals) and going in any of these directions while pressing the button."
      ]
    },
    {
      "cell_type": "code",
      "metadata": {
        "colab_type": "code",
        "id": "L2bamPQld1Hy",
        "colab": {}
      },
      "source": [
        "input_vocab_size = None # NOTE this is no longer used\n",
        "target_vocab_size = 24 # actions to take\n",
        "dropout_rate = 0.1\n",
        "\n",
        "pe_size = 100"
      ],
      "execution_count": 0,
      "outputs": []
    },
    {
      "cell_type": "markdown",
      "metadata": {
        "colab_type": "text",
        "id": "2EcdAnFDd1H0"
      },
      "source": [
        "## Optimizer\n",
        "Use the Adam optimizer with a custom learning rate scheduler according to the formula in the [paper](https://arxiv.org/abs/1706.03762): ${lrate = d_{model}^{-0.5} \\cdot min(step{\\_}num^{-0.5},\\, step{\\_}num \\cdot warmup{\\_}steps^{-1.5})}$\n"
      ]
    },
    {
      "cell_type": "code",
      "metadata": {
        "colab_type": "code",
        "id": "thxqmJGzd1H0",
        "colab": {}
      },
      "source": [
        "class CustomSchedule(tf.keras.optimizers.schedules.LearningRateSchedule):\n",
        "    def __init__(self, d_model, warmup_steps=4000):\n",
        "        super(CustomSchedule, self).__init__()\n",
        "        self.d_model = d_model\n",
        "        self.d_model = tf.cast(self.d_model, tf.float32)\n",
        "        self.warmup_steps = warmup_steps\n",
        "\n",
        "    def __call__(self, step):\n",
        "        arg1 = tf.math.rsqrt(step)\n",
        "        arg2 = step * (self.warmup_steps ** -1.5)\n",
        "        return tf.math.rsqrt(self.d_model) * tf.math.minimum(arg1, arg2)"
      ],
      "execution_count": 0,
      "outputs": []
    },
    {
      "cell_type": "code",
      "metadata": {
        "colab_type": "code",
        "id": "aV7xETdtd1H1",
        "colab": {}
      },
      "source": [
        "learning_rate = CustomSchedule(d_model)\n",
        "\n",
        "optimizer = tf.keras.optimizers.Adam(learning_rate, beta_1=0.9, beta_2=0.98, epsilon=1e-9)"
      ],
      "execution_count": 0,
      "outputs": []
    },
    {
      "cell_type": "markdown",
      "metadata": {
        "colab_type": "text",
        "id": "Md-hhNzkd1H3"
      },
      "source": [
        "## Loss and metrics\n",
        "Since the target sequences are padded, it is important to apply a padding mask when calculating the loss."
      ]
    },
    {
      "cell_type": "code",
      "metadata": {
        "colab_type": "code",
        "id": "8IQaSbF9d1H5",
        "colab": {}
      },
      "source": [
        "loss_object = tf.keras.losses.SparseCategoricalCrossentropy(from_logits=True, reduction='none')"
      ],
      "execution_count": 0,
      "outputs": []
    },
    {
      "cell_type": "code",
      "metadata": {
        "colab_type": "code",
        "id": "z5GSjURfd1H7",
        "colab": {}
      },
      "source": [
        "def loss_function(real, pred):\n",
        "    mask = tf.math.logical_not(tf.math.equal(real, 0))\n",
        "    loss_ = loss_object(real, pred)\n",
        "\n",
        "    mask = tf.cast(mask, dtype=loss_.dtype)\n",
        "    loss_ *= mask\n",
        "\n",
        "    return tf.reduce_mean(loss_)"
      ],
      "execution_count": 0,
      "outputs": []
    },
    {
      "cell_type": "code",
      "metadata": {
        "colab_type": "code",
        "id": "Qv8bZ7Esd1H8",
        "colab": {}
      },
      "source": [
        "train_loss = tf.keras.metrics.Mean(name='train_loss')\n",
        "train_accuracy = tf.keras.metrics.SparseCategoricalAccuracy(name='train_accuracy')"
      ],
      "execution_count": 0,
      "outputs": []
    },
    {
      "cell_type": "markdown",
      "metadata": {
        "colab_type": "text",
        "id": "zojoc277d1H_"
      },
      "source": [
        "## Training and checkpointing\n"
      ]
    },
    {
      "cell_type": "code",
      "metadata": {
        "colab_type": "code",
        "outputId": "7250df6a-b3b3-46fb-e708-1c191135c6a0",
        "id": "-BTYdKetd1H_",
        "colab": {
          "base_uri": "https://localhost:8080/",
          "height": 235
        }
      },
      "source": [
        "transformer = Transformer(num_layers, d_model, num_heads, dff,\n",
        "                          input_vocab_size, target_vocab_size, \n",
        "                          pe_input=pe_size, \n",
        "                          pe_target=pe_size,\n",
        "                          rate=dropout_rate,\n",
        "                          d_model_q=d_model_q)"
      ],
      "execution_count": 41,
      "outputs": [
        {
          "output_type": "stream",
          "text": [
            "/usr/local/lib/python3.6/dist-packages/ipykernel_launcher.py:7: UserWarning: input_vocab_size is no longer used (its value of None will be ignored)\n",
            "  import sys\n"
          ],
          "name": "stderr"
        },
        {
          "output_type": "stream",
          "text": [
            "get_angles - pos (100, 1)\n",
            "get_angles - i (1, 1280)\n",
            "angle_rads (100, 1280)\n",
            "get_angles - pos (100, 1)\n",
            "get_angles - i (1, 24)\n",
            "angle_rads (100, 24)\n"
          ],
          "name": "stdout"
        },
        {
          "output_type": "stream",
          "text": [
            "/usr/local/lib/python3.6/dist-packages/ipykernel_launcher.py:6: UserWarning: d_model_q must be 18 as we have actions from 0 to 17 (not 24)\n",
            "  \n",
            "/usr/local/lib/python3.6/dist-packages/ipykernel_launcher.py:5: UserWarning: d_model_q must be 18 as we have actions from 0 to 17 (not 24)\n",
            "  \"\"\"\n"
          ],
          "name": "stderr"
        }
      ]
    },
    {
      "cell_type": "code",
      "metadata": {
        "colab_type": "code",
        "id": "PoJ99uzqd1IA",
        "colab": {}
      },
      "source": [
        "def create_masks(inp, tar):\n",
        "    # Encoder padding mask\n",
        "    enc_padding_mask = create_padding_mask(inp)\n",
        "\n",
        "    # Used in the 2nd attention block in the decoder.\n",
        "    # This padding mask is used to mask the encoder outputs.\n",
        "    dec_padding_mask = create_padding_mask(inp)\n",
        "\n",
        "    # Used in the 1st attention block in the decoder.\n",
        "    # It is used to pad and mask future tokens in the input received by \n",
        "    # the decoder.\n",
        "    look_ahead_mask = create_look_ahead_mask(tf.shape(tar)[1])\n",
        "    dec_target_padding_mask = create_padding_mask(tar)\n",
        "    combined_mask = tf.maximum(dec_target_padding_mask, look_ahead_mask)\n",
        "\n",
        "    return enc_padding_mask, combined_mask, dec_padding_mask"
      ],
      "execution_count": 0,
      "outputs": []
    },
    {
      "cell_type": "markdown",
      "metadata": {
        "colab_type": "text",
        "id": "BvR9DwWGd1IB"
      },
      "source": [
        "Create the checkpoint path and the checkpoint manager. This will be used to save checkpoints every `n` epochs."
      ]
    },
    {
      "cell_type": "code",
      "metadata": {
        "colab_type": "code",
        "id": "24rb8-Ivd1IC",
        "colab": {}
      },
      "source": [
        "checkpoint_path = \"./checkpoints/train\"\n",
        "\n",
        "ckpt = tf.train.Checkpoint(transformer=transformer,\n",
        "                           optimizer=optimizer)\n",
        "\n",
        "ckpt_manager = tf.train.CheckpointManager(ckpt, checkpoint_path, max_to_keep=5)\n",
        "\n",
        "# if a checkpoint exists, restore the latest checkpoint\n",
        "if ckpt_manager.latest_checkpoint:\n",
        "    ckpt.restore(ckpt_manager.latest_checkpoint)\n",
        "    print ('Latest checkpoint restored!!')"
      ],
      "execution_count": 0,
      "outputs": []
    },
    {
      "cell_type": "markdown",
      "metadata": {
        "id": "ecAo9dv3z84K",
        "colab_type": "text"
      },
      "source": [
        "### Setup input pipeline\n",
        "Load data"
      ]
    },
    {
      "cell_type": "code",
      "metadata": {
        "id": "F5T8rLQL1_H9",
        "colab_type": "code",
        "colab": {}
      },
      "source": [
        "import os"
      ],
      "execution_count": 0,
      "outputs": []
    },
    {
      "cell_type": "code",
      "metadata": {
        "id": "WUK4N4oY0Xgi",
        "colab_type": "code",
        "outputId": "a4ae8d83-802f-40c6-d2b8-0b2efe7a7e8e",
        "colab": {
          "base_uri": "https://localhost:8080/",
          "height": 35
        }
      },
      "source": [
        "from google.colab import drive\n",
        "drive.mount('/content/drive', force_remount=True)"
      ],
      "execution_count": 50,
      "outputs": [
        {
          "output_type": "stream",
          "text": [
            "Mounted at /content/drive\n"
          ],
          "name": "stdout"
        }
      ]
    },
    {
      "cell_type": "code",
      "metadata": {
        "id": "voBDzb_4ih9Y",
        "colab_type": "code",
        "colab": {
          "base_uri": "https://localhost:8080/",
          "height": 72
        },
        "outputId": "90600359-cc76-4b3f-b081-3b42862ab7b9"
      },
      "source": [
        "!ls drive/My\\ Drive/unicamp/MC886/atari/data/"
      ],
      "execution_count": 54,
      "outputs": [
        {
          "output_type": "stream",
          "text": [
            "Breakout-v0_1000\t      Breakout-v4_1000_actions.npy\n",
            "Breakout-v0_1000_actions.npy  Pong-v0_1000\n",
            "Breakout-v4_1000\t      Pong-v0_1000_actions.npy\n"
          ],
          "name": "stdout"
        }
      ]
    },
    {
      "cell_type": "code",
      "metadata": {
        "id": "cpz3d24x0Vto",
        "colab_type": "code",
        "colab": {}
      },
      "source": [
        "actions_taken = np.load('drive/My Drive/unicamp/MC886/atari/data/Breakout-v4_1000_actions.npy')\n",
        "actions_taken = np.array(actions_taken, dtype='int8')\n",
        "\n",
        "actions_data = np.array([actions_taken[:100] for _ in range(10)], dtype='int8')"
      ],
      "execution_count": 0,
      "outputs": []
    },
    {
      "cell_type": "code",
      "metadata": {
        "id": "nfhw25QY0aco",
        "colab_type": "code",
        "colab": {}
      },
      "source": [
        "def get_all_png(path):\n",
        "    files = []\n",
        "    files_full = []\n",
        "    for root, dirs, file_names in os.walk(path):\n",
        "        files.extend([name for name in file_names if '.png' in name.lower()])\n",
        "        files_full.extend([os.path.join(root, name) for name in file_names if '.png' in name.lower()])\n",
        "    return files, files_full"
      ],
      "execution_count": 0,
      "outputs": []
    },
    {
      "cell_type": "code",
      "metadata": {
        "id": "L84-lOOq1meK",
        "colab_type": "code",
        "colab": {}
      },
      "source": [
        "IMG_SIZE = 160 # All images will be resized to 160x160\n",
        "\n",
        "def load_image(image_path):#, action):\n",
        "    image = tf.io.read_file(image_path)\n",
        "    image = tf.image.decode_png(image, channels=3)\n",
        "    image = tf.cast(image, tf.float32)\n",
        "    image = (image/127.5) - 1\n",
        "    image = tf.image.resize(image, (IMG_SIZE, IMG_SIZE))\n",
        "    return image#, action\n",
        "  \n",
        "def load_all_imgs(paths, actions):\n",
        "    print(paths[0])\n",
        "    imgs = tf.map_fn(load_image, paths)\n",
        "    return imgs, actions"
      ],
      "execution_count": 0,
      "outputs": []
    },
    {
      "cell_type": "code",
      "metadata": {
        "id": "p7U6GyQz1vzM",
        "colab_type": "code",
        "outputId": "aaf34dd9-9a42-45dc-d5ed-3e0105073b17",
        "colab": {
          "base_uri": "https://localhost:8080/",
          "height": 35
        }
      },
      "source": [
        "_, img_name_vector = get_all_png('drive/My Drive/unicamp/MC886/atari/data/Breakout-v4_1000/')\n",
        "print(len(img_name_vector))\n",
        "\n",
        "loaded_imgs = [load_image(path) for path in img_name_vector[:100]]\n",
        "\n",
        "img_name_all = [loaded_imgs for _ in range(10)]"
      ],
      "execution_count": 63,
      "outputs": [
        {
          "output_type": "stream",
          "text": [
            "1000\n"
          ],
          "name": "stdout"
        }
      ]
    },
    {
      "cell_type": "code",
      "metadata": {
        "id": "OoWCCPvF1wex",
        "colab_type": "code",
        "outputId": "89f9ef48-beda-4514-eee7-e6d79bf0c003",
        "colab": {
          "base_uri": "https://localhost:8080/",
          "height": 35
        }
      },
      "source": [
        "# Feel free to change batch_size according to your system configuration\n",
        "image_dataset = tf.data.Dataset.from_tensor_slices((img_name_all, actions_data))\n",
        "\n",
        "print(image_dataset.element_spec)\n",
        "\n",
        "image_dataset = image_dataset.batch(2)\n",
        "# .map(load_all_imgs, num_parallel_calls=tf.data.experimental.AUTOTUNE).batch(2)"
      ],
      "execution_count": 64,
      "outputs": [
        {
          "output_type": "stream",
          "text": [
            "(TensorSpec(shape=(100, 160, 160, 3), dtype=tf.float32, name=None), TensorSpec(shape=(100,), dtype=tf.int8, name=None))\n"
          ],
          "name": "stdout"
        }
      ]
    },
    {
      "cell_type": "code",
      "metadata": {
        "id": "JEqPZr3q2o4B",
        "colab_type": "code",
        "outputId": "84f59494-df6e-4c56-d402-c6080e8a4147",
        "colab": {
          "base_uri": "https://localhost:8080/",
          "height": 54
        }
      },
      "source": [
        "print(actions_taken.shape)\n",
        "print(len(img_name_vector))"
      ],
      "execution_count": 65,
      "outputs": [
        {
          "output_type": "stream",
          "text": [
            "(1000,)\n",
            "1000\n"
          ],
          "name": "stdout"
        }
      ]
    },
    {
      "cell_type": "code",
      "metadata": {
        "id": "G1UrE5Pi45bi",
        "colab_type": "code",
        "outputId": "421170ab-30fb-49a0-a1db-382625768ab6",
        "colab": {
          "base_uri": "https://localhost:8080/",
          "height": 54
        }
      },
      "source": [
        "train_dataset = image_dataset\n",
        "\n",
        "train_dataset.element_spec"
      ],
      "execution_count": 66,
      "outputs": [
        {
          "output_type": "execute_result",
          "data": {
            "text/plain": [
              "(TensorSpec(shape=(None, 100, 160, 160, 3), dtype=tf.float32, name=None),\n",
              " TensorSpec(shape=(None, 100), dtype=tf.int8, name=None))"
            ]
          },
          "metadata": {
            "tags": []
          },
          "execution_count": 66
        }
      ]
    },
    {
      "cell_type": "markdown",
      "metadata": {
        "id": "vww_N64DYoHA",
        "colab_type": "text"
      },
      "source": [
        "### Training"
      ]
    },
    {
      "cell_type": "markdown",
      "metadata": {
        "colab_type": "text",
        "id": "1oY9B5Tyd1IS"
      },
      "source": [
        "The target is divided into `tar_inp` and `tar_real`. `tar_inp` is passed as an input to the decoder. `tar_real` is that same input shifted by 1: At each location in `tar_input`, `tar_real` contains the  next token that should be predicted.\n",
        "\n",
        "The transformer is an auto-regressive model: it makes predictions one part at a time, and uses its output so far to decide what to do next. \n",
        "\n",
        "During training this example uses teacher-forcing. Teacher forcing is passing the true output to the next time step regardless of what the model predicts at the current time step.\n",
        "\n",
        "As the transformer predicts each token, *self-attention* allows it to look at the previous tokens in the input sequence to better predict the next one.\n",
        "\n",
        "To prevent the model from peaking at the expected output the model uses a look-ahead mask."
      ]
    },
    {
      "cell_type": "code",
      "metadata": {
        "colab_type": "code",
        "id": "5a4Zmo54d1IS",
        "colab": {}
      },
      "source": [
        "EPOCHS = 2"
      ],
      "execution_count": 0,
      "outputs": []
    },
    {
      "cell_type": "code",
      "metadata": {
        "colab_type": "code",
        "id": "R2mKmc9Rd1IU",
        "colab": {}
      },
      "source": [
        "# The @tf.function trace-compiles train_step into a TF graph for faster\n",
        "# execution. The function specializes to the precise shape of the argument\n",
        "# tensors. To avoid re-tracing due to the variable sequence lengths or variable\n",
        "# batch sizes (the last batch is smaller), use input_signature to specify\n",
        "# more generic shapes.\n",
        "\n",
        "train_step_signature = [\n",
        "    tf.TensorSpec(shape=(None, None, 160, 160, 3), dtype=tf.float32),\n",
        "    tf.TensorSpec(shape=(None, None), dtype=tf.int8),\n",
        "]\n",
        "\n",
        "@tf.function(input_signature=train_step_signature)\n",
        "def train_step(inp, tar):\n",
        "    tar_inp = tar[:, :-1]\n",
        "    tar_real = tar[:, 1:]\n",
        "\n",
        "    enc_padding_mask, combined_mask, dec_padding_mask = create_masks(inp, tar_inp)\n",
        "\n",
        "    with tf.GradientTape() as tape:\n",
        "        predictions, _ = transformer(inp, tar_inp, \n",
        "                                     True, \n",
        "                                     enc_padding_mask, \n",
        "                                     combined_mask, \n",
        "                                     dec_padding_mask)\n",
        "        loss = loss_function(tar_real, predictions)\n",
        "\n",
        "    gradients = tape.gradient(loss, transformer.trainable_variables)    \n",
        "    optimizer.apply_gradients(zip(gradients, transformer.trainable_variables))\n",
        "\n",
        "    train_loss(loss)\n",
        "    train_accuracy(tar_real, predictions)"
      ],
      "execution_count": 0,
      "outputs": []
    },
    {
      "cell_type": "markdown",
      "metadata": {
        "colab_type": "text",
        "id": "3jAmwZf0d1IV"
      },
      "source": [
        "Atari frame images are used as the input language and Atari actions are the target language."
      ]
    },
    {
      "cell_type": "code",
      "metadata": {
        "colab_type": "code",
        "outputId": "bee06cf4-736b-484c-9830-7b49e168e78a",
        "id": "lobPqcU3d1IW",
        "colab": {
          "base_uri": "https://localhost:8080/",
          "height": 1000
        }
      },
      "source": [
        "for epoch in range(EPOCHS):\n",
        "    start = time.time()\n",
        "\n",
        "    train_loss.reset_states()\n",
        "    train_accuracy.reset_states()\n",
        "\n",
        "    # inp -> observations, tar -> actions\n",
        "    for (batch, (inp, tar)) in enumerate(train_dataset):\n",
        "        print(inp.shape, tar)\n",
        "        train_step(inp, tar)\n",
        "\n",
        "        if batch % 50 == 0:\n",
        "            print('Epoch {} Batch {} Loss {:.4f} Accuracy {:.4f}'.format(\n",
        "                  epoch + 1, batch, train_loss.result(), train_accuracy.result()))\n",
        "        \n",
        "    if (epoch + 1) % 5 == 0:\n",
        "        ckpt_save_path = ckpt_manager.save()\n",
        "        print ('Saving checkpoint for epoch {} at {}'.format(epoch+1,\n",
        "                                                             ckpt_save_path))\n",
        "\n",
        "    print ('Epoch {} Loss {:.4f} Accuracy {:.4f}'.format(epoch + 1, \n",
        "                                                         train_loss.result(), \n",
        "                                                         train_accuracy.result()))\n",
        "\n",
        "    print ('Time taken for 1 epoch: {} secs\\n'.format(time.time() - start))"
      ],
      "execution_count": 69,
      "outputs": [
        {
          "output_type": "stream",
          "text": [
            "(2, 100, 160, 160, 3) tf.Tensor(\n",
            "[[3 2 3 1 2 2 2 1 1 0 3 1 1 0 1 1 2 3 3 3 3 1 0 2 1 1 2 2 1 2 0 1 0 0 3 2\n",
            "  0 0 1 1 2 3 1 1 0 2 2 1 3 2 2 2 1 2 1 2 3 0 1 2 0 3 3 2 2 3 1 1 3 0 2 1\n",
            "  3 3 1 0 0 1 2 0 0 2 0 3 2 1 1 3 1 1 0 1 2 1 1 3 3 0 3 0]\n",
            " [3 2 3 1 2 2 2 1 1 0 3 1 1 0 1 1 2 3 3 3 3 1 0 2 1 1 2 2 1 2 0 1 0 0 3 2\n",
            "  0 0 1 1 2 3 1 1 0 2 2 1 3 2 2 2 1 2 1 2 3 0 1 2 0 3 3 2 2 3 1 1 3 0 2 1\n",
            "  3 3 1 0 0 1 2 0 0 2 0 3 2 1 1 3 1 1 0 1 2 1 1 3 3 0 3 0]], shape=(2, 100), dtype=int8)\n",
            "v (None, None, 1280)\n",
            "k (None, None, 1280)\n",
            "q (None, None, 1280)\n",
            "q: (None, 2, None, 640) (None, 2)\n",
            "k: (None, 2, None, 640) (None, 2)\n",
            "v: (None, 2, None, 640) (None, 2)\n"
          ],
          "name": "stdout"
        },
        {
          "output_type": "error",
          "ename": "ValueError",
          "evalue": "ignored",
          "traceback": [
            "\u001b[0;31m---------------------------------------------------------------------------\u001b[0m",
            "\u001b[0;31mValueError\u001b[0m                                Traceback (most recent call last)",
            "\u001b[0;32m<ipython-input-69-f02739cfff4e>\u001b[0m in \u001b[0;36m<module>\u001b[0;34m()\u001b[0m\n\u001b[1;32m      8\u001b[0m     \u001b[0;32mfor\u001b[0m \u001b[0;34m(\u001b[0m\u001b[0mbatch\u001b[0m\u001b[0;34m,\u001b[0m \u001b[0;34m(\u001b[0m\u001b[0minp\u001b[0m\u001b[0;34m,\u001b[0m \u001b[0mtar\u001b[0m\u001b[0;34m)\u001b[0m\u001b[0;34m)\u001b[0m \u001b[0;32min\u001b[0m \u001b[0menumerate\u001b[0m\u001b[0;34m(\u001b[0m\u001b[0mtrain_dataset\u001b[0m\u001b[0;34m)\u001b[0m\u001b[0;34m:\u001b[0m\u001b[0;34m\u001b[0m\u001b[0;34m\u001b[0m\u001b[0m\n\u001b[1;32m      9\u001b[0m         \u001b[0mprint\u001b[0m\u001b[0;34m(\u001b[0m\u001b[0minp\u001b[0m\u001b[0;34m.\u001b[0m\u001b[0mshape\u001b[0m\u001b[0;34m,\u001b[0m \u001b[0mtar\u001b[0m\u001b[0;34m)\u001b[0m\u001b[0;34m\u001b[0m\u001b[0;34m\u001b[0m\u001b[0m\n\u001b[0;32m---> 10\u001b[0;31m         \u001b[0mtrain_step\u001b[0m\u001b[0;34m(\u001b[0m\u001b[0minp\u001b[0m\u001b[0;34m,\u001b[0m \u001b[0mtar\u001b[0m\u001b[0;34m)\u001b[0m\u001b[0;34m\u001b[0m\u001b[0;34m\u001b[0m\u001b[0m\n\u001b[0m\u001b[1;32m     11\u001b[0m \u001b[0;34m\u001b[0m\u001b[0m\n\u001b[1;32m     12\u001b[0m         \u001b[0;32mif\u001b[0m \u001b[0mbatch\u001b[0m \u001b[0;34m%\u001b[0m \u001b[0;36m50\u001b[0m \u001b[0;34m==\u001b[0m \u001b[0;36m0\u001b[0m\u001b[0;34m:\u001b[0m\u001b[0;34m\u001b[0m\u001b[0;34m\u001b[0m\u001b[0m\n",
            "\u001b[0;32m/tensorflow-2.0.0/python3.6/tensorflow_core/python/eager/def_function.py\u001b[0m in \u001b[0;36m__call__\u001b[0;34m(self, *args, **kwds)\u001b[0m\n\u001b[1;32m    455\u001b[0m \u001b[0;34m\u001b[0m\u001b[0m\n\u001b[1;32m    456\u001b[0m     \u001b[0mtracing_count\u001b[0m \u001b[0;34m=\u001b[0m \u001b[0mself\u001b[0m\u001b[0;34m.\u001b[0m\u001b[0m_get_tracing_count\u001b[0m\u001b[0;34m(\u001b[0m\u001b[0;34m)\u001b[0m\u001b[0;34m\u001b[0m\u001b[0;34m\u001b[0m\u001b[0m\n\u001b[0;32m--> 457\u001b[0;31m     \u001b[0mresult\u001b[0m \u001b[0;34m=\u001b[0m \u001b[0mself\u001b[0m\u001b[0;34m.\u001b[0m\u001b[0m_call\u001b[0m\u001b[0;34m(\u001b[0m\u001b[0;34m*\u001b[0m\u001b[0margs\u001b[0m\u001b[0;34m,\u001b[0m \u001b[0;34m**\u001b[0m\u001b[0mkwds\u001b[0m\u001b[0;34m)\u001b[0m\u001b[0;34m\u001b[0m\u001b[0;34m\u001b[0m\u001b[0m\n\u001b[0m\u001b[1;32m    458\u001b[0m     \u001b[0;32mif\u001b[0m \u001b[0mtracing_count\u001b[0m \u001b[0;34m==\u001b[0m \u001b[0mself\u001b[0m\u001b[0;34m.\u001b[0m\u001b[0m_get_tracing_count\u001b[0m\u001b[0;34m(\u001b[0m\u001b[0;34m)\u001b[0m\u001b[0;34m:\u001b[0m\u001b[0;34m\u001b[0m\u001b[0;34m\u001b[0m\u001b[0m\n\u001b[1;32m    459\u001b[0m       \u001b[0mself\u001b[0m\u001b[0;34m.\u001b[0m\u001b[0m_call_counter\u001b[0m\u001b[0;34m.\u001b[0m\u001b[0mcalled_without_tracing\u001b[0m\u001b[0;34m(\u001b[0m\u001b[0;34m)\u001b[0m\u001b[0;34m\u001b[0m\u001b[0;34m\u001b[0m\u001b[0m\n",
            "\u001b[0;32m/tensorflow-2.0.0/python3.6/tensorflow_core/python/eager/def_function.py\u001b[0m in \u001b[0;36m_call\u001b[0;34m(self, *args, **kwds)\u001b[0m\n\u001b[1;32m    501\u001b[0m       \u001b[0;31m# This is the first call of __call__, so we have to initialize.\u001b[0m\u001b[0;34m\u001b[0m\u001b[0;34m\u001b[0m\u001b[0;34m\u001b[0m\u001b[0m\n\u001b[1;32m    502\u001b[0m       \u001b[0minitializer_map\u001b[0m \u001b[0;34m=\u001b[0m \u001b[0mobject_identity\u001b[0m\u001b[0;34m.\u001b[0m\u001b[0mObjectIdentityDictionary\u001b[0m\u001b[0;34m(\u001b[0m\u001b[0;34m)\u001b[0m\u001b[0;34m\u001b[0m\u001b[0;34m\u001b[0m\u001b[0m\n\u001b[0;32m--> 503\u001b[0;31m       \u001b[0mself\u001b[0m\u001b[0;34m.\u001b[0m\u001b[0m_initialize\u001b[0m\u001b[0;34m(\u001b[0m\u001b[0margs\u001b[0m\u001b[0;34m,\u001b[0m \u001b[0mkwds\u001b[0m\u001b[0;34m,\u001b[0m \u001b[0madd_initializers_to\u001b[0m\u001b[0;34m=\u001b[0m\u001b[0minitializer_map\u001b[0m\u001b[0;34m)\u001b[0m\u001b[0;34m\u001b[0m\u001b[0;34m\u001b[0m\u001b[0m\n\u001b[0m\u001b[1;32m    504\u001b[0m     \u001b[0;32mfinally\u001b[0m\u001b[0;34m:\u001b[0m\u001b[0;34m\u001b[0m\u001b[0;34m\u001b[0m\u001b[0m\n\u001b[1;32m    505\u001b[0m       \u001b[0;31m# At this point we know that the initialization is complete (or less\u001b[0m\u001b[0;34m\u001b[0m\u001b[0;34m\u001b[0m\u001b[0;34m\u001b[0m\u001b[0m\n",
            "\u001b[0;32m/tensorflow-2.0.0/python3.6/tensorflow_core/python/eager/def_function.py\u001b[0m in \u001b[0;36m_initialize\u001b[0;34m(self, args, kwds, add_initializers_to)\u001b[0m\n\u001b[1;32m    406\u001b[0m     self._concrete_stateful_fn = (\n\u001b[1;32m    407\u001b[0m         self._stateful_fn._get_concrete_function_internal_garbage_collected(  # pylint: disable=protected-access\n\u001b[0;32m--> 408\u001b[0;31m             *args, **kwds))\n\u001b[0m\u001b[1;32m    409\u001b[0m \u001b[0;34m\u001b[0m\u001b[0m\n\u001b[1;32m    410\u001b[0m     \u001b[0;32mdef\u001b[0m \u001b[0minvalid_creator_scope\u001b[0m\u001b[0;34m(\u001b[0m\u001b[0;34m*\u001b[0m\u001b[0munused_args\u001b[0m\u001b[0;34m,\u001b[0m \u001b[0;34m**\u001b[0m\u001b[0munused_kwds\u001b[0m\u001b[0;34m)\u001b[0m\u001b[0;34m:\u001b[0m\u001b[0;34m\u001b[0m\u001b[0;34m\u001b[0m\u001b[0m\n",
            "\u001b[0;32m/tensorflow-2.0.0/python3.6/tensorflow_core/python/eager/function.py\u001b[0m in \u001b[0;36m_get_concrete_function_internal_garbage_collected\u001b[0;34m(self, *args, **kwargs)\u001b[0m\n\u001b[1;32m   1846\u001b[0m     \u001b[0;32mif\u001b[0m \u001b[0mself\u001b[0m\u001b[0;34m.\u001b[0m\u001b[0minput_signature\u001b[0m\u001b[0;34m:\u001b[0m\u001b[0;34m\u001b[0m\u001b[0;34m\u001b[0m\u001b[0m\n\u001b[1;32m   1847\u001b[0m       \u001b[0margs\u001b[0m\u001b[0;34m,\u001b[0m \u001b[0mkwargs\u001b[0m \u001b[0;34m=\u001b[0m \u001b[0;32mNone\u001b[0m\u001b[0;34m,\u001b[0m \u001b[0;32mNone\u001b[0m\u001b[0;34m\u001b[0m\u001b[0;34m\u001b[0m\u001b[0m\n\u001b[0;32m-> 1848\u001b[0;31m     \u001b[0mgraph_function\u001b[0m\u001b[0;34m,\u001b[0m \u001b[0m_\u001b[0m\u001b[0;34m,\u001b[0m \u001b[0m_\u001b[0m \u001b[0;34m=\u001b[0m \u001b[0mself\u001b[0m\u001b[0;34m.\u001b[0m\u001b[0m_maybe_define_function\u001b[0m\u001b[0;34m(\u001b[0m\u001b[0margs\u001b[0m\u001b[0;34m,\u001b[0m \u001b[0mkwargs\u001b[0m\u001b[0;34m)\u001b[0m\u001b[0;34m\u001b[0m\u001b[0;34m\u001b[0m\u001b[0m\n\u001b[0m\u001b[1;32m   1849\u001b[0m     \u001b[0;32mreturn\u001b[0m \u001b[0mgraph_function\u001b[0m\u001b[0;34m\u001b[0m\u001b[0;34m\u001b[0m\u001b[0m\n\u001b[1;32m   1850\u001b[0m \u001b[0;34m\u001b[0m\u001b[0m\n",
            "\u001b[0;32m/tensorflow-2.0.0/python3.6/tensorflow_core/python/eager/function.py\u001b[0m in \u001b[0;36m_maybe_define_function\u001b[0;34m(self, args, kwargs)\u001b[0m\n\u001b[1;32m   2148\u001b[0m         \u001b[0mgraph_function\u001b[0m \u001b[0;34m=\u001b[0m \u001b[0mself\u001b[0m\u001b[0;34m.\u001b[0m\u001b[0m_function_cache\u001b[0m\u001b[0;34m.\u001b[0m\u001b[0mprimary\u001b[0m\u001b[0;34m.\u001b[0m\u001b[0mget\u001b[0m\u001b[0;34m(\u001b[0m\u001b[0mcache_key\u001b[0m\u001b[0;34m,\u001b[0m \u001b[0;32mNone\u001b[0m\u001b[0;34m)\u001b[0m\u001b[0;34m\u001b[0m\u001b[0;34m\u001b[0m\u001b[0m\n\u001b[1;32m   2149\u001b[0m         \u001b[0;32mif\u001b[0m \u001b[0mgraph_function\u001b[0m \u001b[0;32mis\u001b[0m \u001b[0;32mNone\u001b[0m\u001b[0;34m:\u001b[0m\u001b[0;34m\u001b[0m\u001b[0;34m\u001b[0m\u001b[0m\n\u001b[0;32m-> 2150\u001b[0;31m           \u001b[0mgraph_function\u001b[0m \u001b[0;34m=\u001b[0m \u001b[0mself\u001b[0m\u001b[0;34m.\u001b[0m\u001b[0m_create_graph_function\u001b[0m\u001b[0;34m(\u001b[0m\u001b[0margs\u001b[0m\u001b[0;34m,\u001b[0m \u001b[0mkwargs\u001b[0m\u001b[0;34m)\u001b[0m\u001b[0;34m\u001b[0m\u001b[0;34m\u001b[0m\u001b[0m\n\u001b[0m\u001b[1;32m   2151\u001b[0m           \u001b[0mself\u001b[0m\u001b[0;34m.\u001b[0m\u001b[0m_function_cache\u001b[0m\u001b[0;34m.\u001b[0m\u001b[0mprimary\u001b[0m\u001b[0;34m[\u001b[0m\u001b[0mcache_key\u001b[0m\u001b[0;34m]\u001b[0m \u001b[0;34m=\u001b[0m \u001b[0mgraph_function\u001b[0m\u001b[0;34m\u001b[0m\u001b[0;34m\u001b[0m\u001b[0m\n\u001b[1;32m   2152\u001b[0m         \u001b[0;32mreturn\u001b[0m \u001b[0mgraph_function\u001b[0m\u001b[0;34m,\u001b[0m \u001b[0margs\u001b[0m\u001b[0;34m,\u001b[0m \u001b[0mkwargs\u001b[0m\u001b[0;34m\u001b[0m\u001b[0;34m\u001b[0m\u001b[0m\n",
            "\u001b[0;32m/tensorflow-2.0.0/python3.6/tensorflow_core/python/eager/function.py\u001b[0m in \u001b[0;36m_create_graph_function\u001b[0;34m(self, args, kwargs, override_flat_arg_shapes)\u001b[0m\n\u001b[1;32m   2039\u001b[0m             \u001b[0marg_names\u001b[0m\u001b[0;34m=\u001b[0m\u001b[0marg_names\u001b[0m\u001b[0;34m,\u001b[0m\u001b[0;34m\u001b[0m\u001b[0;34m\u001b[0m\u001b[0m\n\u001b[1;32m   2040\u001b[0m             \u001b[0moverride_flat_arg_shapes\u001b[0m\u001b[0;34m=\u001b[0m\u001b[0moverride_flat_arg_shapes\u001b[0m\u001b[0;34m,\u001b[0m\u001b[0;34m\u001b[0m\u001b[0;34m\u001b[0m\u001b[0m\n\u001b[0;32m-> 2041\u001b[0;31m             capture_by_value=self._capture_by_value),\n\u001b[0m\u001b[1;32m   2042\u001b[0m         \u001b[0mself\u001b[0m\u001b[0;34m.\u001b[0m\u001b[0m_function_attributes\u001b[0m\u001b[0;34m,\u001b[0m\u001b[0;34m\u001b[0m\u001b[0;34m\u001b[0m\u001b[0m\n\u001b[1;32m   2043\u001b[0m         \u001b[0;31m# Tell the ConcreteFunction to clean up its graph once it goes out of\u001b[0m\u001b[0;34m\u001b[0m\u001b[0;34m\u001b[0m\u001b[0;34m\u001b[0m\u001b[0m\n",
            "\u001b[0;32m/tensorflow-2.0.0/python3.6/tensorflow_core/python/framework/func_graph.py\u001b[0m in \u001b[0;36mfunc_graph_from_py_func\u001b[0;34m(name, python_func, args, kwargs, signature, func_graph, autograph, autograph_options, add_control_dependencies, arg_names, op_return_value, collections, capture_by_value, override_flat_arg_shapes)\u001b[0m\n\u001b[1;32m    913\u001b[0m                                           converted_func)\n\u001b[1;32m    914\u001b[0m \u001b[0;34m\u001b[0m\u001b[0m\n\u001b[0;32m--> 915\u001b[0;31m       \u001b[0mfunc_outputs\u001b[0m \u001b[0;34m=\u001b[0m \u001b[0mpython_func\u001b[0m\u001b[0;34m(\u001b[0m\u001b[0;34m*\u001b[0m\u001b[0mfunc_args\u001b[0m\u001b[0;34m,\u001b[0m \u001b[0;34m**\u001b[0m\u001b[0mfunc_kwargs\u001b[0m\u001b[0;34m)\u001b[0m\u001b[0;34m\u001b[0m\u001b[0;34m\u001b[0m\u001b[0m\n\u001b[0m\u001b[1;32m    916\u001b[0m \u001b[0;34m\u001b[0m\u001b[0m\n\u001b[1;32m    917\u001b[0m       \u001b[0;31m# invariant: `func_outputs` contains only Tensors, CompositeTensors,\u001b[0m\u001b[0;34m\u001b[0m\u001b[0;34m\u001b[0m\u001b[0;34m\u001b[0m\u001b[0m\n",
            "\u001b[0;32m/tensorflow-2.0.0/python3.6/tensorflow_core/python/eager/def_function.py\u001b[0m in \u001b[0;36mwrapped_fn\u001b[0;34m(*args, **kwds)\u001b[0m\n\u001b[1;32m    356\u001b[0m         \u001b[0;31m# __wrapped__ allows AutoGraph to swap in a converted function. We give\u001b[0m\u001b[0;34m\u001b[0m\u001b[0;34m\u001b[0m\u001b[0;34m\u001b[0m\u001b[0m\n\u001b[1;32m    357\u001b[0m         \u001b[0;31m# the function a weak reference to itself to avoid a reference cycle.\u001b[0m\u001b[0;34m\u001b[0m\u001b[0;34m\u001b[0m\u001b[0;34m\u001b[0m\u001b[0m\n\u001b[0;32m--> 358\u001b[0;31m         \u001b[0;32mreturn\u001b[0m \u001b[0mweak_wrapped_fn\u001b[0m\u001b[0;34m(\u001b[0m\u001b[0;34m)\u001b[0m\u001b[0;34m.\u001b[0m\u001b[0m__wrapped__\u001b[0m\u001b[0;34m(\u001b[0m\u001b[0;34m*\u001b[0m\u001b[0margs\u001b[0m\u001b[0;34m,\u001b[0m \u001b[0;34m**\u001b[0m\u001b[0mkwds\u001b[0m\u001b[0;34m)\u001b[0m\u001b[0;34m\u001b[0m\u001b[0;34m\u001b[0m\u001b[0m\n\u001b[0m\u001b[1;32m    359\u001b[0m     \u001b[0mweak_wrapped_fn\u001b[0m \u001b[0;34m=\u001b[0m \u001b[0mweakref\u001b[0m\u001b[0;34m.\u001b[0m\u001b[0mref\u001b[0m\u001b[0;34m(\u001b[0m\u001b[0mwrapped_fn\u001b[0m\u001b[0;34m)\u001b[0m\u001b[0;34m\u001b[0m\u001b[0;34m\u001b[0m\u001b[0m\n\u001b[1;32m    360\u001b[0m \u001b[0;34m\u001b[0m\u001b[0m\n",
            "\u001b[0;32m/tensorflow-2.0.0/python3.6/tensorflow_core/python/framework/func_graph.py\u001b[0m in \u001b[0;36mwrapper\u001b[0;34m(*args, **kwargs)\u001b[0m\n\u001b[1;32m    903\u001b[0m           \u001b[0;32mexcept\u001b[0m \u001b[0mException\u001b[0m \u001b[0;32mas\u001b[0m \u001b[0me\u001b[0m\u001b[0;34m:\u001b[0m  \u001b[0;31m# pylint:disable=broad-except\u001b[0m\u001b[0;34m\u001b[0m\u001b[0;34m\u001b[0m\u001b[0m\n\u001b[1;32m    904\u001b[0m             \u001b[0;32mif\u001b[0m \u001b[0mhasattr\u001b[0m\u001b[0;34m(\u001b[0m\u001b[0me\u001b[0m\u001b[0;34m,\u001b[0m \u001b[0;34m\"ag_error_metadata\"\u001b[0m\u001b[0;34m)\u001b[0m\u001b[0;34m:\u001b[0m\u001b[0;34m\u001b[0m\u001b[0;34m\u001b[0m\u001b[0m\n\u001b[0;32m--> 905\u001b[0;31m               \u001b[0;32mraise\u001b[0m \u001b[0me\u001b[0m\u001b[0;34m.\u001b[0m\u001b[0mag_error_metadata\u001b[0m\u001b[0;34m.\u001b[0m\u001b[0mto_exception\u001b[0m\u001b[0;34m(\u001b[0m\u001b[0me\u001b[0m\u001b[0;34m)\u001b[0m\u001b[0;34m\u001b[0m\u001b[0;34m\u001b[0m\u001b[0m\n\u001b[0m\u001b[1;32m    906\u001b[0m             \u001b[0;32melse\u001b[0m\u001b[0;34m:\u001b[0m\u001b[0;34m\u001b[0m\u001b[0;34m\u001b[0m\u001b[0m\n\u001b[1;32m    907\u001b[0m               \u001b[0;32mraise\u001b[0m\u001b[0;34m\u001b[0m\u001b[0;34m\u001b[0m\u001b[0m\n",
            "\u001b[0;31mValueError\u001b[0m: in converted code:\n\n    <ipython-input-68-3a64dc522159>:15 train_step  *\n        predictions, _ = transformer(inp, tar_inp,\n    /tensorflow-2.0.0/python3.6/tensorflow_core/python/keras/engine/base_layer.py:847 __call__\n        outputs = call_fn(cast_inputs, *args, **kwargs)\n    <ipython-input-31-2b74cb2fa9b7>:12 call  *\n        enc_output = self.encoder(inp, training, enc_padding_mask) # (batch_size, inp_seq_len, d_model)\n    /tensorflow-2.0.0/python3.6/tensorflow_core/python/keras/engine/base_layer.py:847 __call__\n        outputs = call_fn(cast_inputs, *args, **kwargs)\n    <ipython-input-27-44b47a2fa838>:34 call  *\n        x = self.enc_layers[i](x, training, mask)\n    /tensorflow-2.0.0/python3.6/tensorflow_core/python/keras/engine/base_layer.py:847 __call__\n        outputs = call_fn(cast_inputs, *args, **kwargs)\n    <ipython-input-21-2775348f821c>:16 call  *\n        attn_output, _ = self.mha(x, x, x, mask) # (batch_size, input_seq_len, d_model)\n    /tensorflow-2.0.0/python3.6/tensorflow_core/python/keras/engine/base_layer.py:847 __call__\n        outputs = call_fn(cast_inputs, *args, **kwargs)\n    <ipython-input-17-61c70ac3d849>:40 call  *\n        attention, attention_weights = scaled_dot_product_attention(q, k, v, mask)\n    <ipython-input-9-93f9d124061f>:25 scaled_dot_product_attention  *\n        scaled_attention_logits += (mask * -1e9)\n    /tensorflow-2.0.0/python3.6/tensorflow_core/python/ops/math_ops.py:899 binary_op_wrapper\n        return func(x, y, name=name)\n    /tensorflow-2.0.0/python3.6/tensorflow_core/python/ops/math_ops.py:1197 _add_dispatch\n        return gen_math_ops.add_v2(x, y, name=name)\n    /tensorflow-2.0.0/python3.6/tensorflow_core/python/ops/gen_math_ops.py:549 add_v2\n        \"AddV2\", x=x, y=y, name=name)\n    /tensorflow-2.0.0/python3.6/tensorflow_core/python/framework/op_def_library.py:793 _apply_op_helper\n        op_def=op_def)\n    /tensorflow-2.0.0/python3.6/tensorflow_core/python/framework/func_graph.py:548 create_op\n        compute_device)\n    /tensorflow-2.0.0/python3.6/tensorflow_core/python/framework/ops.py:3429 _create_op_internal\n        op_def=op_def)\n    /tensorflow-2.0.0/python3.6/tensorflow_core/python/framework/ops.py:1773 __init__\n        control_input_ops)\n    /tensorflow-2.0.0/python3.6/tensorflow_core/python/framework/ops.py:1613 _create_c_op\n        raise ValueError(str(e))\n\n    ValueError: Dimensions must be equal, but are 2 and 160 for 'transformer_1/encoder_2/encoder_layer_5/multi_head_attention_17/add' (op: 'AddV2') with input shapes: [?,2,?,?], [?,1,1,?,160,160,3].\n"
          ]
        }
      ]
    },
    {
      "cell_type": "markdown",
      "metadata": {
        "colab_type": "text",
        "id": "j5KfDkLzd1IX"
      },
      "source": [
        "## Evaluate\n",
        "TODO continue from [this section](https://www.tensorflow.org/tutorials/text/transformer#evaluate) onwards."
      ]
    },
    {
      "cell_type": "code",
      "metadata": {
        "id": "7nhijZjpFf_i",
        "colab_type": "code",
        "colab": {}
      },
      "source": [
        ""
      ],
      "execution_count": 0,
      "outputs": []
    }
  ]
}