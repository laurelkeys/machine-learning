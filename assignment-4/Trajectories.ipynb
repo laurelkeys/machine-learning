{
  "nbformat": 4,
  "nbformat_minor": 0,
  "metadata": {
    "colab": {
      "name": "Trajectories.ipynb",
      "provenance": [],
      "collapsed_sections": [],
      "include_colab_link": true
    },
    "kernelspec": {
      "name": "python3",
      "display_name": "Python 3"
    },
    "accelerator": "GPU"
  },
  "cells": [
    {
      "cell_type": "markdown",
      "metadata": {
        "id": "view-in-github",
        "colab_type": "text"
      },
      "source": [
        "<a href=\"https://colab.research.google.com/github/laurelkeys/machine-learning/blob/master/assignment-4/Trajectories.ipynb\" target=\"_parent\"><img src=\"https://colab.research.google.com/assets/colab-badge.svg\" alt=\"Open In Colab\"/></a>"
      ]
    },
    {
      "cell_type": "code",
      "metadata": {
        "id": "ZdbVbyXqsjUs",
        "colab_type": "code",
        "colab": {}
      },
      "source": [
        "import os\n",
        "import cv2\n",
        "import gym\n",
        "import random\n",
        "import numpy as np\n",
        "import PIL"
      ],
      "execution_count": 0,
      "outputs": []
    },
    {
      "cell_type": "code",
      "metadata": {
        "id": "LHaZHabeImnP",
        "colab_type": "code",
        "colab": {
          "base_uri": "https://localhost:8080/",
          "height": 35
        },
        "outputId": "66b9c191-3c0e-45ae-b398-7ee7520526d4"
      },
      "source": [
        "from google.colab import drive\n",
        "drive.mount('/content/drive')"
      ],
      "execution_count": 2,
      "outputs": [
        {
          "output_type": "stream",
          "text": [
            "Drive already mounted at /content/drive; to attempt to forcibly remount, call drive.mount(\"/content/drive\", force_remount=True).\n"
          ],
          "name": "stdout"
        }
      ]
    },
    {
      "cell_type": "code",
      "metadata": {
        "id": "xR_6KaB_yBEf",
        "colab_type": "code",
        "colab": {}
      },
      "source": [
        "# The 210x160 RGB Atari images are converted to grayscale and downsampled to 84x84\n",
        "# ref.: https://github.com/hill-a/stable-baselines/blob/master/stable_baselines/common/atari_wrappers.py#L172\n",
        "\n",
        "# INP_IMAGE_SHAPE = (84, 84)\n",
        "INP_IMAGE_SHAPE = (210, 160, 3)\n",
        "INP_IMAGE_SIZE  = np.prod(INP_IMAGE_SHAPE)"
      ],
      "execution_count": 0,
      "outputs": []
    },
    {
      "cell_type": "code",
      "metadata": {
        "id": "QsTkqJmFybEE",
        "colab_type": "code",
        "colab": {}
      },
      "source": [
        "# environments used to generate images\n",
        "ENV_IDS = [\"Breakout-v0\", \"Pong-v0\"]"
      ],
      "execution_count": 0,
      "outputs": []
    },
    {
      "cell_type": "code",
      "metadata": {
        "id": "Bim5UMq9y6ss",
        "colab_type": "code",
        "colab": {}
      },
      "source": [
        "PATH_TO_DATA = os.path.join(\"drive\", \"My Drive\", \"unicamp\", \"MC886\", \"atari\")\n",
        "SAVE_DIR = os.path.join(PATH_TO_DATA, \"data\")\n",
        "\n",
        "IMAGES_TO_GENERATE = 1000"
      ],
      "execution_count": 0,
      "outputs": []
    },
    {
      "cell_type": "code",
      "metadata": {
        "id": "5Ump8v2czCIR",
        "colab_type": "code",
        "colab": {}
      },
      "source": [
        "def save_as_image(observation, save_dir, img_name, prefix=\"img_\", downscale=False):\n",
        "    # downscaling the image\n",
        "    if downscale:\n",
        "        im_array = cv2.resize(observation, INP_IMAGE_SHAPE) # TODO test tf.image.resize\n",
        "        im = PIL.Image.fromarray(im_array, 'RGB')\n",
        "    else:\n",
        "        try:\n",
        "            im = PIL.Image.fromarray(observation, 'RGB')\n",
        "        except:\n",
        "            print(type(observation))\n",
        "    imname = \"{}{}.png\".format(prefix, img_name)\n",
        "    im.save(os.path.join(save_dir, imname))"
      ],
      "execution_count": 0,
      "outputs": []
    },
    {
      "cell_type": "code",
      "metadata": {
        "id": "n74gjFzbzkJf",
        "colab_type": "code",
        "colab": {}
      },
      "source": [
        "# you can change the default values here\n",
        "save_dir = SAVE_DIR\n",
        "num_images = IMAGES_TO_GENERATE"
      ],
      "execution_count": 0,
      "outputs": []
    },
    {
      "cell_type": "code",
      "metadata": {
        "id": "_wd6qHz4zyp7",
        "colab_type": "code",
        "colab": {}
      },
      "source": [
        "os.makedirs(save_dir, exist_ok=True)"
      ],
      "execution_count": 0,
      "outputs": []
    },
    {
      "cell_type": "code",
      "metadata": {
        "id": "RHKIU3Vn0AcL",
        "colab_type": "code",
        "colab": {}
      },
      "source": [
        "envs = [gym.make(env_id) for env_id in ENV_IDS]"
      ],
      "execution_count": 0,
      "outputs": []
    },
    {
      "cell_type": "code",
      "metadata": {
        "id": "0Z4YJ4XV0HF0",
        "colab_type": "code",
        "outputId": "a4d97edb-12e9-4581-f11c-765d00735f4e",
        "colab": {
          "base_uri": "https://localhost:8080/",
          "height": 145
        }
      },
      "source": [
        "for env_id, env in zip(ENV_IDS, envs):\n",
        "    print(env_id)\n",
        "    env_dir = os.path.join(save_dir, f\"{env_id}_{IMAGES_TO_GENERATE}\")\n",
        "    os.makedirs(env_dir, exist_ok=True)\n",
        "    \n",
        "    env.reset()\n",
        "    i, current_env_images = 0, 0\n",
        "    \n",
        "    actions_taken = []\n",
        "    while i < num_images:\n",
        "        # take a random action (sampled from the action space)\n",
        "        action = env.action_space.sample()\n",
        "        actions_taken.append(action)\n",
        "        assert 0 <= action < 18, f\"action = {action}\"\n",
        "        obs, _, done, _ = env.step(action)\n",
        "        if np.mean(obs) > 0.01:\n",
        "            save_as_image(obs, env_dir, str(i))\n",
        "            i += 1\n",
        "        else:\n",
        "            print(\"should I have been reached?\")\n",
        "            continue\n",
        "        if done:\n",
        "            print(f\"reseting {env_id} at i={i}\")\n",
        "            env.reset()\n",
        "    \n",
        "    actions_taken = np.asarray(actions_taken, dtype='int8')\n",
        "    print(actions_taken.shape, actions_taken.size, actions_taken.dtype)\n",
        "    np.save(os.path.join(save_dir, f\"{env_id}_{IMAGES_TO_GENERATE}_actions\"), actions_taken)"
      ],
      "execution_count": 30,
      "outputs": [
        {
          "output_type": "stream",
          "text": [
            "Breakout-v0\n",
            "reseting Breakout-v0 at i=359\n",
            "reseting Breakout-v0 at i=569\n",
            "reseting Breakout-v0 at i=809\n",
            "(1000,) 1000 int8\n",
            "Pong-v0\n",
            "(1000,) 1000 int8\n"
          ],
          "name": "stdout"
        }
      ]
    },
    {
      "cell_type": "code",
      "metadata": {
        "id": "DRHr6vha0HzI",
        "colab_type": "code",
        "colab": {}
      },
      "source": [
        "# ref.: https://github.com/satwikkansal/atari_gan/blob/master/generate_data.py"
      ],
      "execution_count": 0,
      "outputs": []
    },
    {
      "cell_type": "code",
      "metadata": {
        "id": "x9fFvWgaL1tU",
        "colab_type": "code",
        "colab": {}
      },
      "source": [
        "# !rm -rf drive/My\\ Drive/unicamp/MC886/atari/data/*.png"
      ],
      "execution_count": 0,
      "outputs": []
    },
    {
      "cell_type": "code",
      "metadata": {
        "id": "R09AEnEl1S5b",
        "colab_type": "code",
        "outputId": "2d6ec873-a759-499c-ee14-2146974fbb46",
        "colab": {
          "base_uri": "https://localhost:8080/",
          "height": 54
        }
      },
      "source": [
        "!ls -U drive/My\\ Drive/unicamp/MC886/atari/data/"
      ],
      "execution_count": 31,
      "outputs": [
        {
          "output_type": "stream",
          "text": [
            "Breakout-v0_1000\t      Pong-v0_1000\n",
            "Breakout-v0_1000_actions.npy  Pong-v0_1000_actions.npy\n"
          ],
          "name": "stdout"
        }
      ]
    },
    {
      "cell_type": "code",
      "metadata": {
        "id": "-Othpk_kNRhB",
        "colab_type": "code",
        "colab": {
          "base_uri": "https://localhost:8080/",
          "height": 90
        },
        "outputId": "8aa68eed-ff8f-4398-ff5a-bb8ab5593a2c"
      },
      "source": [
        "!ls -U drive/My\\ Drive/unicamp/MC886/atari/data/Breakout-v0_1000/ | head -4"
      ],
      "execution_count": 32,
      "outputs": [
        {
          "output_type": "stream",
          "text": [
            "img_0.png\n",
            "img_2.png\n",
            "img_3.png\n",
            "img_4.png\n"
          ],
          "name": "stdout"
        }
      ]
    },
    {
      "cell_type": "code",
      "metadata": {
        "id": "phkzZnxg1TeF",
        "colab_type": "code",
        "outputId": "f5479c4b-5cb3-4ec7-adc5-ca77bd54634a",
        "colab": {
          "base_uri": "https://localhost:8080/",
          "height": 227
        }
      },
      "source": [
        "from IPython.display import Image\n",
        "Image('drive/My Drive/unicamp/MC886/atari/data/Breakout-v0_1000/img_0.png')"
      ],
      "execution_count": 38,
      "outputs": [
        {
          "output_type": "execute_result",
          "data": {
            "image/png": "[encoded data removed]",
            "text/plain": [
              "<IPython.core.display.Image object>"
            ]
          },
          "metadata": {
            "tags": []
          },
          "execution_count": 38
        }
      ]
    },
    {
      "cell_type": "code",
      "metadata": {
        "id": "frqJ2GFv22md",
        "colab_type": "code",
        "colab": {}
      },
      "source": [
        "# TODO download data/"
      ],
      "execution_count": 0,
      "outputs": []
    },
    {
      "cell_type": "code",
      "metadata": {
        "id": "RPMZvUU4NiiG",
        "colab_type": "code",
        "colab": {}
      },
      "source": [
        "actions_taken = np.load('drive/My Drive/unicamp/MC886/atari/data/Breakout-v0_1000_actions.npy')"
      ],
      "execution_count": 0,
      "outputs": []
    },
    {
      "cell_type": "code",
      "metadata": {
        "id": "kPUdQpCIN9qe",
        "colab_type": "code",
        "colab": {
          "base_uri": "https://localhost:8080/",
          "height": 35
        },
        "outputId": "0dea35b4-82cd-410a-84a1-d23848be318b"
      },
      "source": [
        "print(actions_taken.shape, actions_taken.size, actions_taken.dtype)"
      ],
      "execution_count": 40,
      "outputs": [
        {
          "output_type": "stream",
          "text": [
            "(1000,) 1000 int8\n"
          ],
          "name": "stdout"
        }
      ]
    },
    {
      "cell_type": "code",
      "metadata": {
        "id": "OtZsOvNJOAJS",
        "colab_type": "code",
        "colab": {
          "base_uri": "https://localhost:8080/",
          "height": 35
        },
        "outputId": "45a4727d-7d69-48d5-aa8f-8d835a9da664"
      },
      "source": [
        "actions_taken[:10]"
      ],
      "execution_count": 41,
      "outputs": [
        {
          "output_type": "execute_result",
          "data": {
            "text/plain": [
              "array([0, 1, 1, 2, 2, 3, 3, 0, 2, 3], dtype=int8)"
            ]
          },
          "metadata": {
            "tags": []
          },
          "execution_count": 41
        }
      ]
    },
    {
      "cell_type": "markdown",
      "metadata": {
        "id": "Jd7paEcDOBVE",
        "colab_type": "text"
      },
      "source": [
        "## Extract image features with [MobileNetV2](https://keras.io/applications/#mobilenetv2)"
      ]
    },
    {
      "cell_type": "code",
      "metadata": {
        "id": "binP4eZkPaRr",
        "colab_type": "code",
        "colab": {}
      },
      "source": [
        ""
      ],
      "execution_count": 0,
      "outputs": []
    }
  ]
}