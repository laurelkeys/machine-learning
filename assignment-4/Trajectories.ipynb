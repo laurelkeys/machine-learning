{
  "nbformat": 4,
  "nbformat_minor": 0,
  "metadata": {
    "colab": {
      "name": "Trajectories.ipynb",
      "provenance": [],
      "collapsed_sections": [],
      "toc_visible": true,
      "include_colab_link": true
    },
    "kernelspec": {
      "name": "python3",
      "display_name": "Python 3"
    },
    "accelerator": "GPU"
  },
  "cells": [
    {
      "cell_type": "markdown",
      "metadata": {
        "id": "view-in-github",
        "colab_type": "text"
      },
      "source": [
        "<a href=\"https://colab.research.google.com/github/laurelkeys/machine-learning/blob/master/assignment-4/Trajectories.ipynb\" target=\"_parent\"><img src=\"https://colab.research.google.com/assets/colab-badge.svg\" alt=\"Open In Colab\"/></a>"
      ]
    },
    {
      "cell_type": "code",
      "metadata": {
        "id": "H8D0TEl9vLJa",
        "colab_type": "code",
        "colab": {}
      },
      "source": [
        "# from google.colab import drive\n",
        "# drive.mount('/content/drive', force_remount=True)\n",
        "# PATH_TO_DATA = os.path.join(\"drive\", \"My Drive\", \"unicamp\", \"MC886\", \"atari\")\n",
        "\n",
        "import os\n",
        "PATH_TO_DATA = \"\""
      ],
      "execution_count": 0,
      "outputs": []
    },
    {
      "cell_type": "code",
      "metadata": {
        "id": "mSrCsl0Av6RV",
        "colab_type": "code",
        "colab": {
          "base_uri": "https://localhost:8080/",
          "height": 35
        },
        "outputId": "e526fbf1-d9f5-44ce-a7c4-65a34a7d8b7c"
      },
      "source": [
        "SAVE_DIR = os.path.join(PATH_TO_DATA, \"data\")\n",
        "os.makedirs(SAVE_DIR, exist_ok=True)\n",
        "\n",
        "SAVE_DIR"
      ],
      "execution_count": 2,
      "outputs": [
        {
          "output_type": "execute_result",
          "data": {
            "text/plain": [
              "'data'"
            ]
          },
          "metadata": {
            "tags": []
          },
          "execution_count": 2
        }
      ]
    },
    {
      "cell_type": "markdown",
      "metadata": {
        "id": "w6rL58MEZRQh",
        "colab_type": "text"
      },
      "source": [
        "## Generate a dataset of trajectories from pre-trained RL agents on [Atari](https://gym.openai.com/envs/#atari) [environments](https://github.com/openai/gym/wiki/Table-of-environments).\n",
        "That is, by the end of this notebook we will have $observation \\rightarrow action$ mappings, where $observation$s are images of shape `IMG_SHAPE` and $action$s are integer values in the range $[0, 18)$, meaning:\n",
        "\n",
        "| 0 | 1 | 2 | 3 | 4 | 5 |\n",
        "| --- | --- | --- | --- | --- | --- |\n",
        "| NOOP | FIRE | UP | RIGHT | LEFT | DOWN |\n",
        "\n",
        "\n",
        "| 6 | 7 | 8 | 9 |\n",
        "| --- | --- | --- | --- |\n",
        "| UPRIGHT | UPLEFT | DOWNRIGHT | DOWNLEFT |\n",
        "\n",
        "\n",
        "| 10 | 11 | 12 | 13 |\n",
        "| --- | --- | --- | --- |\n",
        "| UPFIRE | RIGHTFIRE | LEFTFIRE | DOWNFIRE |\n",
        "\n",
        "\n",
        "| 14 | 15 | 16 | 17 |\n",
        "| --- | --- | --- | --- |\n",
        "| UPRIGHTFIRE | UPLEFTFIRE | DOWNRIGHTFIRE | DOWNLEFTFIRE |"
      ]
    },
    {
      "cell_type": "code",
      "metadata": {
        "id": "XxiF53dtcx5H",
        "colab_type": "code",
        "colab": {}
      },
      "source": [
        "# number of trajectories to generate\n",
        "N_OF_TRAJECTORIES = 100\n",
        "\n",
        "# number of steps per trajectory\n",
        "N_OF_STEPS = 1000\n",
        "\n",
        "# # list of string tuples in the format (RL Algorithm, Game Environment)\n",
        "GAMES = [\n",
        "    (\"PPO2\", \"BreakoutNoFrameskip-v4\"),\n",
        "    (\"PPO2\", \"PongNoFrameskip-v4\"),\n",
        "]"
      ],
      "execution_count": 0,
      "outputs": []
    },
    {
      "cell_type": "code",
      "metadata": {
        "id": "xniuUnC1sohU",
        "colab_type": "code",
        "colab": {
          "base_uri": "https://localhost:8080/",
          "height": 35
        },
        "outputId": "9f1fda63-0c57-4578-a6a6-a53fadb7aaac"
      },
      "source": [
        "[env_id for algo, env_id in GAMES]"
      ],
      "execution_count": 4,
      "outputs": [
        {
          "output_type": "execute_result",
          "data": {
            "text/plain": [
              "['BreakoutNoFrameskip-v4', 'PongNoFrameskip-v4']"
            ]
          },
          "metadata": {
            "tags": []
          },
          "execution_count": 4
        }
      ]
    },
    {
      "cell_type": "markdown",
      "metadata": {
        "id": "ANURED63lzYB",
        "colab_type": "text"
      },
      "source": [
        "## Install dependencies"
      ]
    },
    {
      "cell_type": "markdown",
      "metadata": {
        "id": "tOvHHxnVn5rp",
        "colab_type": "text"
      },
      "source": [
        "Note that we're not installing MPI, so the following algorithms will probably not work: `DDPG`, `GAIL`, `PPO1`, `TRPO`."
      ]
    },
    {
      "cell_type": "code",
      "metadata": {
        "id": "rmjBQE8sl8CP",
        "colab_type": "code",
        "colab": {}
      },
      "source": [
        "!apt-get update                                                  > /dev/null 2>&1\n",
        "!apt-get install swig cmake zlib1g-dev ffmpeg freeglut3-dev xvfb > /dev/null 2>&1\n",
        "!pip install pyyaml pytablewriter optuna scikit-optimize         > /dev/null 2>&1"
      ],
      "execution_count": 0,
      "outputs": []
    },
    {
      "cell_type": "code",
      "metadata": {
        "id": "R_p5-8pYmEsa",
        "colab_type": "code",
        "colab": {
          "base_uri": "https://localhost:8080/",
          "height": 35
        },
        "outputId": "7d4cf2c4-6765-45b5-a2c5-102646ae5a4f"
      },
      "source": [
        "#### Stable Baselines only supports TF 1.x for now ####\n",
        "try:\n",
        "    # Colab only\n",
        "    # %tensorflow_version 2.x\n",
        "    %tensorflow_version 1.x\n",
        "except Exception:\n",
        "    pass\n",
        "\n",
        "import tensorflow as tf\n",
        "from tensorflow import keras\n",
        "print(tf.__version__)"
      ],
      "execution_count": 6,
      "outputs": [
        {
          "output_type": "stream",
          "text": [
            "1.15.0\n"
          ],
          "name": "stdout"
        }
      ]
    },
    {
      "cell_type": "code",
      "metadata": {
        "id": "CYDsdxKLulZj",
        "colab_type": "code",
        "colab": {}
      },
      "source": [
        "import os\n",
        "from time import time\n",
        "\n",
        "import cv2\n",
        "import numpy as np\n",
        "import matplotlib.pyplot as plt\n",
        "%matplotlib inline\n",
        "\n",
        "import gym\n",
        "from gym.envs.atari.atari_env import ACTION_MEANING"
      ],
      "execution_count": 0,
      "outputs": []
    },
    {
      "cell_type": "markdown",
      "metadata": {
        "id": "f6d58ZxSm7BR",
        "colab_type": "text"
      },
      "source": [
        "### Clone [Stable Baselines](https://github.com/hill-a/stable-baselines) and [RL Zoo Baselines](https://github.com/araffin/rl-baselines-zoo)"
      ]
    },
    {
      "cell_type": "code",
      "metadata": {
        "id": "-Mx9fivzl8KW",
        "colab_type": "code",
        "colab": {
          "base_uri": "https://localhost:8080/",
          "height": 35
        },
        "outputId": "a1dde8a4-1216-4463-cd81-4607251d69ce"
      },
      "source": [
        "!pip list | grep baselines"
      ],
      "execution_count": 8,
      "outputs": [
        {
          "output_type": "stream",
          "text": [
            "stable-baselines         2.2.1      \n"
          ],
          "name": "stdout"
        }
      ]
    },
    {
      "cell_type": "code",
      "metadata": {
        "id": "KPOfKIrIm3Ef",
        "colab_type": "code",
        "colab": {}
      },
      "source": [
        "!yes | pip uninstall stable-baselines                           > /dev/null 2>&1\n",
        "!pip install git+https://github.com/hill-a/stable-baselines.git > /dev/null 2>&1"
      ],
      "execution_count": 0,
      "outputs": []
    },
    {
      "cell_type": "code",
      "metadata": {
        "id": "WZG914mxnHN_",
        "colab_type": "code",
        "colab": {
          "base_uri": "https://localhost:8080/",
          "height": 35
        },
        "outputId": "280a6fff-1506-420f-c505-2199e0612cc4"
      },
      "source": [
        "!pip list | grep baselines"
      ],
      "execution_count": 10,
      "outputs": [
        {
          "output_type": "stream",
          "text": [
            "stable-baselines         2.9.0a0    \n"
          ],
          "name": "stdout"
        }
      ]
    },
    {
      "cell_type": "code",
      "metadata": {
        "id": "ZBZSNLAGnpkQ",
        "colab_type": "code",
        "colab": {
          "base_uri": "https://localhost:8080/",
          "height": 163
        },
        "outputId": "58e8e851-7d1e-4572-d8c0-c14475dc583c"
      },
      "source": [
        "!git clone https://github.com/araffin/rl-baselines-zoo.git"
      ],
      "execution_count": 11,
      "outputs": [
        {
          "output_type": "stream",
          "text": [
            "Cloning into 'rl-baselines-zoo'...\n",
            "remote: Enumerating objects: 25, done.\u001b[K\n",
            "remote: Counting objects:   4% (1/25)\u001b[K\rremote: Counting objects:   8% (2/25)\u001b[K\rremote: Counting objects:  12% (3/25)\u001b[K\rremote: Counting objects:  16% (4/25)\u001b[K\rremote: Counting objects:  20% (5/25)\u001b[K\rremote: Counting objects:  24% (6/25)\u001b[K\rremote: Counting objects:  28% (7/25)\u001b[K\rremote: Counting objects:  32% (8/25)\u001b[K\rremote: Counting objects:  36% (9/25)\u001b[K\rremote: Counting objects:  40% (10/25)\u001b[K\rremote: Counting objects:  44% (11/25)\u001b[K\rremote: Counting objects:  48% (12/25)\u001b[K\rremote: Counting objects:  52% (13/25)\u001b[K\rremote: Counting objects:  56% (14/25)\u001b[K\rremote: Counting objects:  60% (15/25)\u001b[K\rremote: Counting objects:  64% (16/25)\u001b[K\rremote: Counting objects:  68% (17/25)\u001b[K\rremote: Counting objects:  72% (18/25)\u001b[K\rremote: Counting objects:  76% (19/25)\u001b[K\rremote: Counting objects:  80% (20/25)\u001b[K\rremote: Counting objects:  84% (21/25)\u001b[K\rremote: Counting objects:  88% (22/25)\u001b[K\rremote: Counting objects:  92% (23/25)\u001b[K\rremote: Counting objects:  96% (24/25)\u001b[K\rremote: Counting objects: 100% (25/25)\u001b[K\rremote: Counting objects: 100% (25/25), done.\u001b[K\n",
            "remote: Compressing objects: 100% (20/20), done.\u001b[K\n",
            "remote: Total 1539 (delta 8), reused 15 (delta 3), pack-reused 1514\u001b[K\n",
            "Receiving objects: 100% (1539/1539), 375.51 MiB | 38.52 MiB/s, done.\n",
            "Resolving deltas: 100% (891/891), done.\n",
            "Checking out files: 100% (305/305), done.\n"
          ],
          "name": "stdout"
        }
      ]
    },
    {
      "cell_type": "code",
      "metadata": {
        "id": "ULku9CT6ovu2",
        "colab_type": "code",
        "colab": {
          "base_uri": "https://localhost:8080/",
          "height": 163
        },
        "outputId": "4b9f5f0b-84f5-460b-ccc8-d1eea1bf8a16"
      },
      "source": [
        "from stable_baselines.common.cmd_util import make_atari_env\n",
        "\n",
        "from stable_baselines.common.vec_env import VecFrameStack, DummyVecEnv\n",
        "\n",
        "# NOTE add more algorithms here\n",
        "from stable_baselines import PPO2, ACER, ACKTR\n",
        "ALGO_IMPL = {\n",
        "    'PPO2': PPO2,\n",
        "    'ACER': ACER,\n",
        "    'ACKTR': ACKTR,\n",
        "}"
      ],
      "execution_count": 12,
      "outputs": [
        {
          "output_type": "stream",
          "text": [
            "WARNING:tensorflow:\n",
            "The TensorFlow contrib module will not be included in TensorFlow 2.0.\n",
            "For more information, please see:\n",
            "  * https://github.com/tensorflow/community/blob/master/rfcs/20180907-contrib-sunset.md\n",
            "  * https://github.com/tensorflow/addons\n",
            "  * https://github.com/tensorflow/io (for I/O related ops)\n",
            "If you depend on functionality not listed there, please file an issue.\n",
            "\n"
          ],
          "name": "stdout"
        }
      ]
    },
    {
      "cell_type": "markdown",
      "metadata": {
        "id": "5ZQhTCzfwAZT",
        "colab_type": "text"
      },
      "source": [
        "## Load the pre-trained agents"
      ]
    },
    {
      "cell_type": "code",
      "metadata": {
        "id": "BukuKWcxxaed",
        "colab_type": "code",
        "colab": {
          "base_uri": "https://localhost:8080/",
          "height": 35
        },
        "outputId": "e4142572-e1e7-4ec8-b79c-5b509da3ec4c"
      },
      "source": [
        "!ls rl-baselines-zoo/trained_agents/"
      ],
      "execution_count": 13,
      "outputs": [
        {
          "output_type": "stream",
          "text": [
            "a2c  acer  acktr  ddpg\tdqn  her  ppo2\tsac  td3  trpo\n"
          ],
          "name": "stdout"
        }
      ]
    },
    {
      "cell_type": "code",
      "metadata": {
        "id": "JhFU5ULCxYEX",
        "colab_type": "code",
        "colab": {}
      },
      "source": [
        "PATH_TO_AGENTS = os.path.join(\"rl-baselines-zoo\", \"trained_agents\")"
      ],
      "execution_count": 0,
      "outputs": []
    },
    {
      "cell_type": "code",
      "metadata": {
        "id": "uGcL8fuWUdHT",
        "colab_type": "code",
        "colab": {
          "base_uri": "https://localhost:8080/",
          "height": 526
        },
        "outputId": "1c40ce30-c287-4558-c18a-7fd1ec90f489"
      },
      "source": [
        "# check the available pre-trained models\n",
        "algorithms = [\"PPO2\"]\n",
        "for algo in algorithms:\n",
        "    algo_path = os.path.join(PATH_TO_AGENTS, algo.lower())\n",
        "    print(algo_path + '/')\n",
        "    for f in sorted(os.listdir(algo_path), key=lambda x: x[::-1]):\n",
        "        # sort by the reverse filename, so env types get grouped together\n",
        "        if f.endswith(\".pkl\"):\n",
        "            print(\"|___\", f)\n",
        "            # try:\n",
        "            #     model = ALGO_IMPL[algo].load(os.path.join(algo_path, f), verbose=0)\n",
        "            #     print(\"     observation_space:\", model.observation_space)\n",
        "            #     print(\"     action_space:\", model.action_space)\n",
        "            # except:\n",
        "            #     print(\"     ERROR: couldn't load model\")"
      ],
      "execution_count": 15,
      "outputs": [
        {
          "output_type": "stream",
          "text": [
            "rl-baselines-zoo/trained_agents/ppo2/\n",
            "|___ Pendulum-v0.pkl\n",
            "|___ MountainCar-v0.pkl\n",
            "|___ MountainCarContinuous-v0.pkl\n",
            "|___ MinitaurBulletDuckEnv-v0.pkl\n",
            "|___ Walker2DBulletEnv-v0.pkl\n",
            "|___ HumanoidBulletEnv-v0.pkl\n",
            "|___ HalfCheetahBulletEnv-v0.pkl\n",
            "|___ InvertedDoublePendulumBulletEnv-v0.pkl\n",
            "|___ InvertedPendulumSwingupBulletEnv-v0.pkl\n",
            "|___ ReacherBulletEnv-v0.pkl\n",
            "|___ HopperBulletEnv-v0.pkl\n",
            "|___ MinitaurBulletEnv-v0.pkl\n",
            "|___ AntBulletEnv-v0.pkl\n",
            "|___ CartPole-v1.pkl\n",
            "|___ Acrobot-v1.pkl\n",
            "|___ BipedalWalkerHardcore-v2.pkl\n",
            "|___ LunarLander-v2.pkl\n",
            "|___ BipedalWalker-v2.pkl\n",
            "|___ LunarLanderContinuous-v2.pkl\n",
            "|___ PongNoFrameskip-v4.pkl\n",
            "|___ MsPacmanNoFrameskip-v4.pkl\n",
            "|___ EnduroNoFrameskip-v4.pkl\n",
            "|___ BeamRiderNoFrameskip-v4.pkl\n",
            "|___ SpaceInvadersNoFrameskip-v4.pkl\n",
            "|___ QbertNoFrameskip-v4.pkl\n",
            "|___ SeaquestNoFrameskip-v4.pkl\n",
            "|___ BreakoutNoFrameskip-v4.pkl\n"
          ],
          "name": "stdout"
        }
      ]
    },
    {
      "cell_type": "code",
      "metadata": {
        "id": "P5ye3CG3NzJo",
        "colab_type": "code",
        "colab": {
          "base_uri": "https://localhost:8080/",
          "height": 674
        },
        "outputId": "78b4dee2-a54d-4850-c5d2-b23d4db87a23"
      },
      "source": [
        "for algo, env_id in GAMES:\n",
        "    print(f\"('{algo}', '{env_id}')\")\n",
        "    agent_path = os.path.join(PATH_TO_AGENTS, algo.lower(), env_id + '.pkl')\n",
        "    model = ALGO_IMPL[algo].load(agent_path, verbose=0)\n",
        "    print(\"observation_space:\", model.observation_space)\n",
        "    print(\"action_space:\", model.action_space)\n",
        "    print()"
      ],
      "execution_count": 16,
      "outputs": [
        {
          "output_type": "stream",
          "text": [
            "('PPO2', 'BreakoutNoFrameskip-v4')\n",
            "WARNING:tensorflow:From /usr/local/lib/python3.6/dist-packages/stable_baselines/common/tf_util.py:58: The name tf.ConfigProto is deprecated. Please use tf.compat.v1.ConfigProto instead.\n",
            "\n",
            "WARNING:tensorflow:From /usr/local/lib/python3.6/dist-packages/stable_baselines/common/tf_util.py:67: The name tf.Session is deprecated. Please use tf.compat.v1.Session instead.\n",
            "\n",
            "WARNING:tensorflow:From /usr/local/lib/python3.6/dist-packages/stable_baselines/common/policies.py:115: The name tf.variable_scope is deprecated. Please use tf.compat.v1.variable_scope instead.\n",
            "\n",
            "WARNING:tensorflow:From /usr/local/lib/python3.6/dist-packages/stable_baselines/common/input.py:25: The name tf.placeholder is deprecated. Please use tf.compat.v1.placeholder instead.\n",
            "\n",
            "WARNING:tensorflow:From /usr/local/lib/python3.6/dist-packages/stable_baselines/a2c/utils.py:136: The name tf.get_variable is deprecated. Please use tf.compat.v1.get_variable instead.\n",
            "\n",
            "WARNING:tensorflow:From /usr/local/lib/python3.6/dist-packages/stable_baselines/common/distributions.py:326: The name tf.random_uniform is deprecated. Please use tf.random.uniform instead.\n",
            "\n",
            "WARNING:tensorflow:From /usr/local/lib/python3.6/dist-packages/stable_baselines/common/distributions.py:327: The name tf.log is deprecated. Please use tf.math.log instead.\n",
            "\n",
            "WARNING:tensorflow:From /usr/local/lib/python3.6/dist-packages/stable_baselines/ppo2/ppo2.py:194: The name tf.summary.scalar is deprecated. Please use tf.compat.v1.summary.scalar instead.\n",
            "\n",
            "WARNING:tensorflow:From /usr/local/lib/python3.6/dist-packages/stable_baselines/ppo2/ppo2.py:202: The name tf.trainable_variables is deprecated. Please use tf.compat.v1.trainable_variables instead.\n",
            "\n",
            "WARNING:tensorflow:From /usr/local/lib/python3.6/dist-packages/tensorflow_core/python/ops/math_grad.py:1424: where (from tensorflow.python.ops.array_ops) is deprecated and will be removed in a future version.\n",
            "Instructions for updating:\n",
            "Use tf.where in 2.0, which has the same broadcast rule as np.where\n",
            "WARNING:tensorflow:From /usr/local/lib/python3.6/dist-packages/stable_baselines/ppo2/ppo2.py:210: The name tf.train.AdamOptimizer is deprecated. Please use tf.compat.v1.train.AdamOptimizer instead.\n",
            "\n",
            "WARNING:tensorflow:From /usr/local/lib/python3.6/dist-packages/stable_baselines/ppo2/ppo2.py:244: The name tf.global_variables_initializer is deprecated. Please use tf.compat.v1.global_variables_initializer instead.\n",
            "\n",
            "WARNING:tensorflow:From /usr/local/lib/python3.6/dist-packages/stable_baselines/ppo2/ppo2.py:246: The name tf.summary.merge_all is deprecated. Please use tf.compat.v1.summary.merge_all instead.\n",
            "\n",
            "observation_space: Box(84, 84, 4)\n",
            "action_space: Discrete(4)\n",
            "\n",
            "('PPO2', 'PongNoFrameskip-v4')\n",
            "observation_space: Box(84, 84, 4)\n",
            "action_space: Discrete(6)\n",
            "\n"
          ],
          "name": "stdout"
        }
      ]
    },
    {
      "cell_type": "markdown",
      "metadata": {
        "id": "gHrpWV5vNviz",
        "colab_type": "text"
      },
      "source": [
        "## Generate trajectories"
      ]
    },
    {
      "cell_type": "markdown",
      "metadata": {
        "id": "MFvNuI8vb75g",
        "colab_type": "text"
      },
      "source": [
        "Note that we use `make_atari_env` + `VecFrameStack` for `NoFrameskip-v4` environments, so each frame is converted to grayscale and downscaled from 210x160 to 84x84. Therefore, the $observation$ shape is `(84, 84, 4)` (four stacked frames), and **not** `(210, 160, 3)`, nor `(84, 84, 1)`."
      ]
    },
    {
      "cell_type": "code",
      "metadata": {
        "id": "m2ugXR8sZ6RM",
        "colab_type": "code",
        "colab": {}
      },
      "source": [
        "PRINT_EARLY_DONE = False\n",
        "PRINT_ACTIONS_TAKEN = False\n",
        "\n",
        "PRINT_EVERY_N_TRAJECTORIES = N_OF_TRAJECTORIES // 10\n",
        "\n",
        "# uncomment below not to print\n",
        "# PRINT_EVERY_N_TRAJECTORIES = N_OF_TRAJECTORIES + 1"
      ],
      "execution_count": 0,
      "outputs": []
    },
    {
      "cell_type": "markdown",
      "metadata": {
        "id": "cAKJ7SOIjA8q",
        "colab_type": "text"
      },
      "source": [
        "**TODO: evaluate the trajectories before saving the final datasets**"
      ]
    },
    {
      "cell_type": "code",
      "metadata": {
        "id": "RvtLqqVZwFEW",
        "colab_type": "code",
        "colab": {
          "base_uri": "https://localhost:8080/",
          "height": 746
        },
        "outputId": "c2f00139-1263-458b-e491-6f52d2db0c68"
      },
      "source": [
        "from tqdm import tqdm\n",
        "\n",
        "time_start = time()\n",
        "print(\"PRINT_EVERY_N_TRAJECTORIES:\", PRINT_EVERY_N_TRAJECTORIES)\n",
        "print(\"N_OF_TRAJECTORIES:\", N_OF_TRAJECTORIES)\n",
        "print(\"N_OF_STEPS:\", N_OF_STEPS)\n",
        "print(\"================\")\n",
        "for algo, env_id in GAMES:\n",
        "    time_start_env = time()\n",
        "\n",
        "    env = make_atari_env(env_id, num_env=1, seed=0)\n",
        "    env = VecFrameStack(env, n_stack=4)\n",
        "    agent_path = os.path.join(PATH_TO_AGENTS, algo.lower(), env_id + '.pkl')\n",
        "    \n",
        "    print(f\"('{algo}', '{env_id}')\")\n",
        "    print(f\"Getting pre-trained agent from: '{agent_path}'\\n\")\n",
        "    \n",
        "    model = ALGO_IMPL[algo].load(agent_path, env)\n",
        "    \n",
        "    for trajectory in tqdm(range(N_OF_TRAJECTORIES), position=0, leave=True):\n",
        "        # store the \"obs -> action\" mapping\n",
        "        observed_states, actions_taken = [], []\n",
        "\n",
        "        obs = env.reset() # (84, 84, 4)\n",
        "        for step in range(N_OF_STEPS):\n",
        "            action = model.predict(obs)\n",
        "            observed_states.append(obs)\n",
        "            actions_taken.append(action)\n",
        "            obs, reward, done, info = env.step(action)\n",
        "            if done:\n",
        "                obs = env.reset()\n",
        "                if PRINT_EARLY_DONE:\n",
        "                    print(f\"done at step {step + 1} (reseting env)\")\n",
        "        \n",
        "        # NOTE action, reward and done are arrays since we're using a vectorized env\n",
        "        observed_states = [obs[0] for obs in observed_states]\n",
        "        actions_taken = [action[0][0] for action in actions_taken]\n",
        "        \n",
        "        np.savez_compressed(file=os.path.join(SAVE_DIR, f\"{env_id}_{algo}_t{trajectory+1}_{N_OF_STEPS}s\"), \n",
        "                            observations=observed_states, actions=actions_taken)\n",
        "        \n",
        "        if (trajectory + 1) % 10 == 0:\n",
        "            print(f\" Saved trajectory {trajectory+1} (of {N_OF_TRAJECTORIES})\")\n",
        "\n",
        "        if PRINT_ACTIONS_TAKEN and trajectory == N_OF_TRAJECTORIES - 1:\n",
        "            print(\"\\nActions taken:\", \", \".join([ACTION_MEANING[action] for action in set(actions_taken)]))\n",
        "\n",
        "    del observed_states\n",
        "    del actions_taken\n",
        "    env.close()\n",
        "    print(f\"Δt = {(time() - time_start_env):.2f}s\")\n",
        "    print(\"================\")\n",
        "\n",
        "print(f\"Total Δt = {(time() - time_start):.2f}s\")"
      ],
      "execution_count": 18,
      "outputs": [
        {
          "output_type": "stream",
          "text": [
            "PRINT_EVERY_N_TRAJECTORIES: 10\n",
            "N_OF_TRAJECTORIES: 100\n",
            "N_OF_STEPS: 1000\n",
            "================\n",
            "WARNING:tensorflow:From /usr/local/lib/python3.6/dist-packages/stable_baselines/common/misc_util.py:26: The name tf.set_random_seed is deprecated. Please use tf.compat.v1.set_random_seed instead.\n",
            "\n",
            "('PPO2', 'BreakoutNoFrameskip-v4')\n",
            "Getting pre-trained agent from: 'rl-baselines-zoo/trained_agents/ppo2/BreakoutNoFrameskip-v4.pkl'\n",
            "\n"
          ],
          "name": "stdout"
        },
        {
          "output_type": "stream",
          "text": [
            " 10%|█         | 10/100 [00:38<05:24,  3.61s/it]"
          ],
          "name": "stderr"
        },
        {
          "output_type": "stream",
          "text": [
            "Saved trajectory 10 (of 100)\n"
          ],
          "name": "stdout"
        },
        {
          "output_type": "stream",
          "text": [
            " 20%|██        | 20/100 [01:12<04:28,  3.36s/it]"
          ],
          "name": "stderr"
        },
        {
          "output_type": "stream",
          "text": [
            "Saved trajectory 20 (of 100)\n"
          ],
          "name": "stdout"
        },
        {
          "output_type": "stream",
          "text": [
            " 30%|███       | 30/100 [01:46<03:55,  3.37s/it]"
          ],
          "name": "stderr"
        },
        {
          "output_type": "stream",
          "text": [
            "Saved trajectory 30 (of 100)\n"
          ],
          "name": "stdout"
        },
        {
          "output_type": "stream",
          "text": [
            " 40%|████      | 40/100 [02:19<03:22,  3.37s/it]"
          ],
          "name": "stderr"
        },
        {
          "output_type": "stream",
          "text": [
            "Saved trajectory 40 (of 100)\n"
          ],
          "name": "stdout"
        },
        {
          "output_type": "stream",
          "text": [
            " 50%|█████     | 50/100 [02:53<02:48,  3.37s/it]"
          ],
          "name": "stderr"
        },
        {
          "output_type": "stream",
          "text": [
            "Saved trajectory 50 (of 100)\n"
          ],
          "name": "stdout"
        },
        {
          "output_type": "stream",
          "text": [
            " 60%|██████    | 60/100 [03:27<02:13,  3.34s/it]"
          ],
          "name": "stderr"
        },
        {
          "output_type": "stream",
          "text": [
            "Saved trajectory 60 (of 100)\n"
          ],
          "name": "stdout"
        },
        {
          "output_type": "stream",
          "text": [
            " 70%|███████   | 70/100 [04:00<01:39,  3.31s/it]"
          ],
          "name": "stderr"
        },
        {
          "output_type": "stream",
          "text": [
            "Saved trajectory 70 (of 100)\n"
          ],
          "name": "stdout"
        },
        {
          "output_type": "stream",
          "text": [
            " 80%|████████  | 80/100 [04:34<01:08,  3.41s/it]"
          ],
          "name": "stderr"
        },
        {
          "output_type": "stream",
          "text": [
            "Saved trajectory 80 (of 100)\n"
          ],
          "name": "stdout"
        },
        {
          "output_type": "stream",
          "text": [
            " 90%|█████████ | 90/100 [05:08<00:33,  3.38s/it]"
          ],
          "name": "stderr"
        },
        {
          "output_type": "stream",
          "text": [
            "Saved trajectory 90 (of 100)\n"
          ],
          "name": "stdout"
        },
        {
          "output_type": "stream",
          "text": [
            "100%|██████████| 100/100 [05:42<00:00,  3.43s/it]"
          ],
          "name": "stderr"
        },
        {
          "output_type": "stream",
          "text": [
            "Saved trajectory 100 (of 100)\n",
            "Δt = 343.89s\n",
            "================\n"
          ],
          "name": "stdout"
        },
        {
          "output_type": "stream",
          "text": [
            "\n"
          ],
          "name": "stderr"
        },
        {
          "output_type": "stream",
          "text": [
            "('PPO2', 'PongNoFrameskip-v4')\n",
            "Getting pre-trained agent from: 'rl-baselines-zoo/trained_agents/ppo2/PongNoFrameskip-v4.pkl'\n",
            "\n"
          ],
          "name": "stdout"
        },
        {
          "output_type": "stream",
          "text": [
            " 10%|█         | 10/100 [00:33<04:59,  3.33s/it]"
          ],
          "name": "stderr"
        },
        {
          "output_type": "stream",
          "text": [
            "Saved trajectory 10 (of 100)\n"
          ],
          "name": "stdout"
        },
        {
          "output_type": "stream",
          "text": [
            " 20%|██        | 20/100 [01:06<04:24,  3.31s/it]"
          ],
          "name": "stderr"
        },
        {
          "output_type": "stream",
          "text": [
            "Saved trajectory 20 (of 100)\n"
          ],
          "name": "stdout"
        },
        {
          "output_type": "stream",
          "text": [
            " 30%|███       | 30/100 [01:40<03:56,  3.38s/it]"
          ],
          "name": "stderr"
        },
        {
          "output_type": "stream",
          "text": [
            "Saved trajectory 30 (of 100)\n"
          ],
          "name": "stdout"
        },
        {
          "output_type": "stream",
          "text": [
            " 40%|████      | 40/100 [02:13<03:18,  3.32s/it]"
          ],
          "name": "stderr"
        },
        {
          "output_type": "stream",
          "text": [
            "Saved trajectory 40 (of 100)\n"
          ],
          "name": "stdout"
        },
        {
          "output_type": "stream",
          "text": [
            " 50%|█████     | 50/100 [02:47<02:47,  3.35s/it]"
          ],
          "name": "stderr"
        },
        {
          "output_type": "stream",
          "text": [
            "Saved trajectory 50 (of 100)\n"
          ],
          "name": "stdout"
        },
        {
          "output_type": "stream",
          "text": [
            " 60%|██████    | 60/100 [03:20<02:15,  3.38s/it]"
          ],
          "name": "stderr"
        },
        {
          "output_type": "stream",
          "text": [
            "Saved trajectory 60 (of 100)\n"
          ],
          "name": "stdout"
        },
        {
          "output_type": "stream",
          "text": [
            " 70%|███████   | 70/100 [03:54<01:39,  3.32s/it]"
          ],
          "name": "stderr"
        },
        {
          "output_type": "stream",
          "text": [
            "Saved trajectory 70 (of 100)\n"
          ],
          "name": "stdout"
        },
        {
          "output_type": "stream",
          "text": [
            " 80%|████████  | 80/100 [04:27<01:06,  3.34s/it]"
          ],
          "name": "stderr"
        },
        {
          "output_type": "stream",
          "text": [
            "Saved trajectory 80 (of 100)\n"
          ],
          "name": "stdout"
        },
        {
          "output_type": "stream",
          "text": [
            " 90%|█████████ | 90/100 [05:00<00:33,  3.31s/it]"
          ],
          "name": "stderr"
        },
        {
          "output_type": "stream",
          "text": [
            "Saved trajectory 90 (of 100)\n"
          ],
          "name": "stdout"
        },
        {
          "output_type": "stream",
          "text": [
            "100%|██████████| 100/100 [05:34<00:00,  3.29s/it]"
          ],
          "name": "stderr"
        },
        {
          "output_type": "stream",
          "text": [
            "Saved trajectory 100 (of 100)\n",
            "Δt = 336.05s\n",
            "================\n",
            "Total Δt = 679.94s\n"
          ],
          "name": "stdout"
        },
        {
          "output_type": "stream",
          "text": [
            "\n"
          ],
          "name": "stderr"
        }
      ]
    },
    {
      "cell_type": "code",
      "metadata": {
        "id": "40zclw3dAGcv",
        "colab_type": "code",
        "colab": {
          "base_uri": "https://localhost:8080/",
          "height": 1000
        },
        "outputId": "6ca78ead-b76b-40e9-e5d8-931aada3cafe"
      },
      "source": [
        "trajectory_filenames = []\n",
        "for r, ds, fs in os.walk(SAVE_DIR): # r=root, d=directories, f=files\n",
        "    print(r + '/')\n",
        "    for f in fs:\n",
        "        print(\"|___\", f)\n",
        "        trajectory_filenames.append(f)"
      ],
      "execution_count": 19,
      "outputs": [
        {
          "output_type": "stream",
          "text": [
            "data/\n",
            "|___ PongNoFrameskip-v4_PPO2_t54_1000s.npz\n",
            "|___ PongNoFrameskip-v4_PPO2_t72_1000s.npz\n",
            "|___ PongNoFrameskip-v4_PPO2_t40_1000s.npz\n",
            "|___ BreakoutNoFrameskip-v4_PPO2_t40_1000s.npz\n",
            "|___ BreakoutNoFrameskip-v4_PPO2_t35_1000s.npz\n",
            "|___ BreakoutNoFrameskip-v4_PPO2_t62_1000s.npz\n",
            "|___ BreakoutNoFrameskip-v4_PPO2_t52_1000s.npz\n",
            "|___ BreakoutNoFrameskip-v4_PPO2_t38_1000s.npz\n",
            "|___ BreakoutNoFrameskip-v4_PPO2_t89_1000s.npz\n",
            "|___ PongNoFrameskip-v4_PPO2_t48_1000s.npz\n",
            "|___ PongNoFrameskip-v4_PPO2_t3_1000s.npz\n",
            "|___ BreakoutNoFrameskip-v4_PPO2_t29_1000s.npz\n",
            "|___ BreakoutNoFrameskip-v4_PPO2_t11_1000s.npz\n",
            "|___ BreakoutNoFrameskip-v4_PPO2_t48_1000s.npz\n",
            "|___ PongNoFrameskip-v4_PPO2_t16_1000s.npz\n",
            "|___ BreakoutNoFrameskip-v4_PPO2_t18_1000s.npz\n",
            "|___ PongNoFrameskip-v4_PPO2_t21_1000s.npz\n",
            "|___ BreakoutNoFrameskip-v4_PPO2_t17_1000s.npz\n",
            "|___ BreakoutNoFrameskip-v4_PPO2_t53_1000s.npz\n",
            "|___ PongNoFrameskip-v4_PPO2_t82_1000s.npz\n",
            "|___ PongNoFrameskip-v4_PPO2_t89_1000s.npz\n",
            "|___ PongNoFrameskip-v4_PPO2_t47_1000s.npz\n",
            "|___ PongNoFrameskip-v4_PPO2_t59_1000s.npz\n",
            "|___ PongNoFrameskip-v4_PPO2_t41_1000s.npz\n",
            "|___ BreakoutNoFrameskip-v4_PPO2_t65_1000s.npz\n",
            "|___ BreakoutNoFrameskip-v4_PPO2_t72_1000s.npz\n",
            "|___ BreakoutNoFrameskip-v4_PPO2_t55_1000s.npz\n",
            "|___ PongNoFrameskip-v4_PPO2_t77_1000s.npz\n",
            "|___ PongNoFrameskip-v4_PPO2_t1_1000s.npz\n",
            "|___ PongNoFrameskip-v4_PPO2_t49_1000s.npz\n",
            "|___ PongNoFrameskip-v4_PPO2_t94_1000s.npz\n",
            "|___ BreakoutNoFrameskip-v4_PPO2_t83_1000s.npz\n",
            "|___ PongNoFrameskip-v4_PPO2_t17_1000s.npz\n",
            "|___ PongNoFrameskip-v4_PPO2_t35_1000s.npz\n",
            "|___ BreakoutNoFrameskip-v4_PPO2_t70_1000s.npz\n",
            "|___ BreakoutNoFrameskip-v4_PPO2_t22_1000s.npz\n",
            "|___ BreakoutNoFrameskip-v4_PPO2_t34_1000s.npz\n",
            "|___ PongNoFrameskip-v4_PPO2_t9_1000s.npz\n",
            "|___ PongNoFrameskip-v4_PPO2_t83_1000s.npz\n",
            "|___ PongNoFrameskip-v4_PPO2_t15_1000s.npz\n",
            "|___ PongNoFrameskip-v4_PPO2_t99_1000s.npz\n",
            "|___ PongNoFrameskip-v4_PPO2_t30_1000s.npz\n",
            "|___ BreakoutNoFrameskip-v4_PPO2_t16_1000s.npz\n",
            "|___ BreakoutNoFrameskip-v4_PPO2_t97_1000s.npz\n",
            "|___ BreakoutNoFrameskip-v4_PPO2_t24_1000s.npz\n",
            "|___ BreakoutNoFrameskip-v4_PPO2_t64_1000s.npz\n",
            "|___ PongNoFrameskip-v4_PPO2_t22_1000s.npz\n",
            "|___ BreakoutNoFrameskip-v4_PPO2_t39_1000s.npz\n",
            "|___ PongNoFrameskip-v4_PPO2_t84_1000s.npz\n",
            "|___ BreakoutNoFrameskip-v4_PPO2_t27_1000s.npz\n",
            "|___ BreakoutNoFrameskip-v4_PPO2_t94_1000s.npz\n",
            "|___ BreakoutNoFrameskip-v4_PPO2_t19_1000s.npz\n",
            "|___ PongNoFrameskip-v4_PPO2_t87_1000s.npz\n",
            "|___ PongNoFrameskip-v4_PPO2_t75_1000s.npz\n",
            "|___ BreakoutNoFrameskip-v4_PPO2_t47_1000s.npz\n",
            "|___ BreakoutNoFrameskip-v4_PPO2_t63_1000s.npz\n",
            "|___ BreakoutNoFrameskip-v4_PPO2_t67_1000s.npz\n",
            "|___ PongNoFrameskip-v4_PPO2_t50_1000s.npz\n",
            "|___ PongNoFrameskip-v4_PPO2_t37_1000s.npz\n",
            "|___ BreakoutNoFrameskip-v4_PPO2_t73_1000s.npz\n",
            "|___ PongNoFrameskip-v4_PPO2_t55_1000s.npz\n",
            "|___ BreakoutNoFrameskip-v4_PPO2_t23_1000s.npz\n",
            "|___ PongNoFrameskip-v4_PPO2_t7_1000s.npz\n",
            "|___ BreakoutNoFrameskip-v4_PPO2_t54_1000s.npz\n",
            "|___ BreakoutNoFrameskip-v4_PPO2_t41_1000s.npz\n",
            "|___ PongNoFrameskip-v4_PPO2_t66_1000s.npz\n",
            "|___ BreakoutNoFrameskip-v4_PPO2_t37_1000s.npz\n",
            "|___ PongNoFrameskip-v4_PPO2_t26_1000s.npz\n",
            "|___ PongNoFrameskip-v4_PPO2_t69_1000s.npz\n",
            "|___ BreakoutNoFrameskip-v4_PPO2_t25_1000s.npz\n",
            "|___ PongNoFrameskip-v4_PPO2_t18_1000s.npz\n",
            "|___ PongNoFrameskip-v4_PPO2_t71_1000s.npz\n",
            "|___ BreakoutNoFrameskip-v4_PPO2_t98_1000s.npz\n",
            "|___ PongNoFrameskip-v4_PPO2_t68_1000s.npz\n",
            "|___ PongNoFrameskip-v4_PPO2_t33_1000s.npz\n",
            "|___ PongNoFrameskip-v4_PPO2_t73_1000s.npz\n",
            "|___ BreakoutNoFrameskip-v4_PPO2_t75_1000s.npz\n",
            "|___ BreakoutNoFrameskip-v4_PPO2_t96_1000s.npz\n",
            "|___ PongNoFrameskip-v4_PPO2_t79_1000s.npz\n",
            "|___ PongNoFrameskip-v4_PPO2_t65_1000s.npz\n",
            "|___ BreakoutNoFrameskip-v4_PPO2_t95_1000s.npz\n",
            "|___ PongNoFrameskip-v4_PPO2_t36_1000s.npz\n",
            "|___ BreakoutNoFrameskip-v4_PPO2_t84_1000s.npz\n",
            "|___ PongNoFrameskip-v4_PPO2_t97_1000s.npz\n",
            "|___ BreakoutNoFrameskip-v4_PPO2_t26_1000s.npz\n",
            "|___ PongNoFrameskip-v4_PPO2_t56_1000s.npz\n",
            "|___ BreakoutNoFrameskip-v4_PPO2_t15_1000s.npz\n",
            "|___ BreakoutNoFrameskip-v4_PPO2_t45_1000s.npz\n",
            "|___ BreakoutNoFrameskip-v4_PPO2_t44_1000s.npz\n",
            "|___ BreakoutNoFrameskip-v4_PPO2_t56_1000s.npz\n",
            "|___ BreakoutNoFrameskip-v4_PPO2_t79_1000s.npz\n",
            "|___ PongNoFrameskip-v4_PPO2_t85_1000s.npz\n",
            "|___ BreakoutNoFrameskip-v4_PPO2_t80_1000s.npz\n",
            "|___ PongNoFrameskip-v4_PPO2_t2_1000s.npz\n",
            "|___ BreakoutNoFrameskip-v4_PPO2_t74_1000s.npz\n",
            "|___ PongNoFrameskip-v4_PPO2_t42_1000s.npz\n",
            "|___ PongNoFrameskip-v4_PPO2_t27_1000s.npz\n",
            "|___ PongNoFrameskip-v4_PPO2_t13_1000s.npz\n",
            "|___ BreakoutNoFrameskip-v4_PPO2_t92_1000s.npz\n",
            "|___ PongNoFrameskip-v4_PPO2_t23_1000s.npz\n",
            "|___ PongNoFrameskip-v4_PPO2_t63_1000s.npz\n",
            "|___ PongNoFrameskip-v4_PPO2_t39_1000s.npz\n",
            "|___ BreakoutNoFrameskip-v4_PPO2_t5_1000s.npz\n",
            "|___ PongNoFrameskip-v4_PPO2_t88_1000s.npz\n",
            "|___ BreakoutNoFrameskip-v4_PPO2_t82_1000s.npz\n",
            "|___ PongNoFrameskip-v4_PPO2_t20_1000s.npz\n",
            "|___ PongNoFrameskip-v4_PPO2_t98_1000s.npz\n",
            "|___ BreakoutNoFrameskip-v4_PPO2_t33_1000s.npz\n",
            "|___ BreakoutNoFrameskip-v4_PPO2_t4_1000s.npz\n",
            "|___ PongNoFrameskip-v4_PPO2_t14_1000s.npz\n",
            "|___ PongNoFrameskip-v4_PPO2_t67_1000s.npz\n",
            "|___ BreakoutNoFrameskip-v4_PPO2_t31_1000s.npz\n",
            "|___ PongNoFrameskip-v4_PPO2_t12_1000s.npz\n",
            "|___ PongNoFrameskip-v4_PPO2_t29_1000s.npz\n",
            "|___ BreakoutNoFrameskip-v4_PPO2_t12_1000s.npz\n",
            "|___ PongNoFrameskip-v4_PPO2_t76_1000s.npz\n",
            "|___ PongNoFrameskip-v4_PPO2_t100_1000s.npz\n",
            "|___ BreakoutNoFrameskip-v4_PPO2_t85_1000s.npz\n",
            "|___ PongNoFrameskip-v4_PPO2_t8_1000s.npz\n",
            "|___ BreakoutNoFrameskip-v4_PPO2_t7_1000s.npz\n",
            "|___ BreakoutNoFrameskip-v4_PPO2_t77_1000s.npz\n",
            "|___ PongNoFrameskip-v4_PPO2_t10_1000s.npz\n",
            "|___ BreakoutNoFrameskip-v4_PPO2_t14_1000s.npz\n",
            "|___ BreakoutNoFrameskip-v4_PPO2_t60_1000s.npz\n",
            "|___ PongNoFrameskip-v4_PPO2_t93_1000s.npz\n",
            "|___ PongNoFrameskip-v4_PPO2_t86_1000s.npz\n",
            "|___ BreakoutNoFrameskip-v4_PPO2_t57_1000s.npz\n",
            "|___ PongNoFrameskip-v4_PPO2_t38_1000s.npz\n",
            "|___ BreakoutNoFrameskip-v4_PPO2_t87_1000s.npz\n",
            "|___ PongNoFrameskip-v4_PPO2_t70_1000s.npz\n",
            "|___ PongNoFrameskip-v4_PPO2_t92_1000s.npz\n",
            "|___ BreakoutNoFrameskip-v4_PPO2_t51_1000s.npz\n",
            "|___ PongNoFrameskip-v4_PPO2_t60_1000s.npz\n",
            "|___ PongNoFrameskip-v4_PPO2_t44_1000s.npz\n",
            "|___ BreakoutNoFrameskip-v4_PPO2_t46_1000s.npz\n",
            "|___ BreakoutNoFrameskip-v4_PPO2_t81_1000s.npz\n",
            "|___ BreakoutNoFrameskip-v4_PPO2_t69_1000s.npz\n",
            "|___ BreakoutNoFrameskip-v4_PPO2_t20_1000s.npz\n",
            "|___ PongNoFrameskip-v4_PPO2_t46_1000s.npz\n",
            "|___ PongNoFrameskip-v4_PPO2_t80_1000s.npz\n",
            "|___ BreakoutNoFrameskip-v4_PPO2_t88_1000s.npz\n",
            "|___ BreakoutNoFrameskip-v4_PPO2_t13_1000s.npz\n",
            "|___ PongNoFrameskip-v4_PPO2_t28_1000s.npz\n",
            "|___ BreakoutNoFrameskip-v4_PPO2_t90_1000s.npz\n",
            "|___ BreakoutNoFrameskip-v4_PPO2_t100_1000s.npz\n",
            "|___ PongNoFrameskip-v4_PPO2_t64_1000s.npz\n",
            "|___ PongNoFrameskip-v4_PPO2_t6_1000s.npz\n",
            "|___ BreakoutNoFrameskip-v4_PPO2_t61_1000s.npz\n",
            "|___ BreakoutNoFrameskip-v4_PPO2_t91_1000s.npz\n",
            "|___ BreakoutNoFrameskip-v4_PPO2_t32_1000s.npz\n",
            "|___ PongNoFrameskip-v4_PPO2_t11_1000s.npz\n",
            "|___ PongNoFrameskip-v4_PPO2_t45_1000s.npz\n",
            "|___ BreakoutNoFrameskip-v4_PPO2_t10_1000s.npz\n",
            "|___ BreakoutNoFrameskip-v4_PPO2_t99_1000s.npz\n",
            "|___ PongNoFrameskip-v4_PPO2_t81_1000s.npz\n",
            "|___ PongNoFrameskip-v4_PPO2_t32_1000s.npz\n",
            "|___ BreakoutNoFrameskip-v4_PPO2_t93_1000s.npz\n",
            "|___ BreakoutNoFrameskip-v4_PPO2_t8_1000s.npz\n",
            "|___ BreakoutNoFrameskip-v4_PPO2_t2_1000s.npz\n",
            "|___ BreakoutNoFrameskip-v4_PPO2_t76_1000s.npz\n",
            "|___ PongNoFrameskip-v4_PPO2_t25_1000s.npz\n",
            "|___ PongNoFrameskip-v4_PPO2_t34_1000s.npz\n",
            "|___ PongNoFrameskip-v4_PPO2_t24_1000s.npz\n",
            "|___ PongNoFrameskip-v4_PPO2_t58_1000s.npz\n",
            "|___ BreakoutNoFrameskip-v4_PPO2_t9_1000s.npz\n",
            "|___ BreakoutNoFrameskip-v4_PPO2_t30_1000s.npz\n",
            "|___ BreakoutNoFrameskip-v4_PPO2_t49_1000s.npz\n",
            "|___ PongNoFrameskip-v4_PPO2_t52_1000s.npz\n",
            "|___ PongNoFrameskip-v4_PPO2_t57_1000s.npz\n",
            "|___ PongNoFrameskip-v4_PPO2_t51_1000s.npz\n",
            "|___ PongNoFrameskip-v4_PPO2_t95_1000s.npz\n",
            "|___ PongNoFrameskip-v4_PPO2_t62_1000s.npz\n",
            "|___ PongNoFrameskip-v4_PPO2_t91_1000s.npz\n",
            "|___ PongNoFrameskip-v4_PPO2_t53_1000s.npz\n",
            "|___ BreakoutNoFrameskip-v4_PPO2_t78_1000s.npz\n",
            "|___ BreakoutNoFrameskip-v4_PPO2_t43_1000s.npz\n",
            "|___ BreakoutNoFrameskip-v4_PPO2_t58_1000s.npz\n",
            "|___ PongNoFrameskip-v4_PPO2_t74_1000s.npz\n",
            "|___ BreakoutNoFrameskip-v4_PPO2_t71_1000s.npz\n",
            "|___ PongNoFrameskip-v4_PPO2_t4_1000s.npz\n",
            "|___ BreakoutNoFrameskip-v4_PPO2_t50_1000s.npz\n",
            "|___ BreakoutNoFrameskip-v4_PPO2_t86_1000s.npz\n",
            "|___ PongNoFrameskip-v4_PPO2_t78_1000s.npz\n",
            "|___ PongNoFrameskip-v4_PPO2_t31_1000s.npz\n",
            "|___ PongNoFrameskip-v4_PPO2_t43_1000s.npz\n",
            "|___ PongNoFrameskip-v4_PPO2_t61_1000s.npz\n",
            "|___ PongNoFrameskip-v4_PPO2_t19_1000s.npz\n",
            "|___ BreakoutNoFrameskip-v4_PPO2_t36_1000s.npz\n",
            "|___ BreakoutNoFrameskip-v4_PPO2_t42_1000s.npz\n",
            "|___ BreakoutNoFrameskip-v4_PPO2_t59_1000s.npz\n",
            "|___ BreakoutNoFrameskip-v4_PPO2_t6_1000s.npz\n",
            "|___ PongNoFrameskip-v4_PPO2_t90_1000s.npz\n",
            "|___ BreakoutNoFrameskip-v4_PPO2_t3_1000s.npz\n",
            "|___ PongNoFrameskip-v4_PPO2_t5_1000s.npz\n",
            "|___ BreakoutNoFrameskip-v4_PPO2_t1_1000s.npz\n",
            "|___ BreakoutNoFrameskip-v4_PPO2_t68_1000s.npz\n",
            "|___ BreakoutNoFrameskip-v4_PPO2_t21_1000s.npz\n",
            "|___ BreakoutNoFrameskip-v4_PPO2_t66_1000s.npz\n",
            "|___ BreakoutNoFrameskip-v4_PPO2_t28_1000s.npz\n",
            "|___ PongNoFrameskip-v4_PPO2_t96_1000s.npz\n"
          ],
          "name": "stdout"
        }
      ]
    },
    {
      "cell_type": "code",
      "metadata": {
        "id": "Td2MzGZK_7ht",
        "colab_type": "code",
        "colab": {
          "base_uri": "https://localhost:8080/",
          "height": 90
        },
        "outputId": "1c8e588d-9e24-446e-d97e-8ae7c9114ae0"
      },
      "source": [
        "test_trajectory_filename = trajectory_filenames[0]\n",
        "print(f\"Loading from '{test_trajectory_filename}'\\n\")\n",
        "\n",
        "test_trajectory_load = np.load(os.path.join(SAVE_DIR, test_trajectory_filename), \n",
        "                               allow_pickle=True)\n",
        "\n",
        "print(\"observations shape:\", test_trajectory_load['observations'].shape)\n",
        "print(\"actions shape:\", test_trajectory_load['actions'].shape)"
      ],
      "execution_count": 20,
      "outputs": [
        {
          "output_type": "stream",
          "text": [
            "Loading from 'PongNoFrameskip-v4_PPO2_t54_1000s.npz'\n",
            "\n",
            "observations shape: (1000, 84, 84, 4)\n",
            "actions shape: (1000,)\n"
          ],
          "name": "stdout"
        }
      ]
    },
    {
      "cell_type": "code",
      "metadata": {
        "id": "I6vHSNX5YFng",
        "colab_type": "code",
        "colab": {}
      },
      "source": [
        "# https://github.com/araffin/rl-baselines-zoo/blob/master/utils/record_video.py\n",
        "# https://github.com/araffin/rl-baselines-zoo/blob/master/enjoy.py\n",
        "# https://github.com/hill-a/stable-baselines#try-it-online-with-colab-notebooks-"
      ],
      "execution_count": 0,
      "outputs": []
    },
    {
      "cell_type": "markdown",
      "metadata": {
        "id": "k-bxg62b_5N7",
        "colab_type": "text"
      },
      "source": [
        "## Old"
      ]
    },
    {
      "cell_type": "code",
      "metadata": {
        "id": "5Ump8v2czCIR",
        "colab_type": "code",
        "colab": {}
      },
      "source": [
        "# def save_as_image(observation, save_dir, img_name, prefix=\"img_\", downscale=False):\n",
        "#     # downscaling the image\n",
        "#     if downscale:\n",
        "#         im_array = cv2.resize(observation, INP_IMAGE_SHAPE) # TODO test tf.image.resize\n",
        "#         im_array = np.array(im_array, dtype='float32')\n",
        "#         im_array = (im_array/127.5) - 1\n",
        "#         im = PIL.Image.fromarray(im_array, 'RGB')\n",
        "#     else:\n",
        "#         try:\n",
        "#             im = PIL.Image.fromarray(observation, 'RGB')\n",
        "#         except:\n",
        "#             print(type(observation))\n",
        "#     imname = \"{}{}.png\".format(prefix, img_name)\n",
        "#     im.save(os.path.join(save_dir, imname))"
      ],
      "execution_count": 0,
      "outputs": []
    },
    {
      "cell_type": "code",
      "metadata": {
        "id": "n74gjFzbzkJf",
        "colab_type": "code",
        "colab": {}
      },
      "source": [
        "# # you can change the default values here\n",
        "# save_dir = SAVE_DIR\n",
        "# num_images = IMAGES_TO_GENERATE"
      ],
      "execution_count": 0,
      "outputs": []
    },
    {
      "cell_type": "code",
      "metadata": {
        "id": "_wd6qHz4zyp7",
        "colab_type": "code",
        "colab": {}
      },
      "source": [
        "# os.makedirs(save_dir, exist_ok=True)"
      ],
      "execution_count": 0,
      "outputs": []
    },
    {
      "cell_type": "code",
      "metadata": {
        "id": "RHKIU3Vn0AcL",
        "colab_type": "code",
        "colab": {}
      },
      "source": [
        "# envs = [gym.make(env_id) for env_id in ENV_IDS]"
      ],
      "execution_count": 0,
      "outputs": []
    },
    {
      "cell_type": "code",
      "metadata": {
        "id": "0Z4YJ4XV0HF0",
        "colab_type": "code",
        "colab": {}
      },
      "source": [
        "# for env_id, env in zip(ENV_IDS, envs):\n",
        "#     print(env_id)\n",
        "#     env_dir = os.path.join(save_dir, f\"{env_id}_{IMAGES_TO_GENERATE}\")\n",
        "#     os.makedirs(env_dir, exist_ok=True)\n",
        "    \n",
        "#     env.reset()\n",
        "#     i, current_env_images = 0, 0\n",
        "    \n",
        "#     actions_taken = []\n",
        "#     while i < num_images:\n",
        "#         # take a random action (sampled from the action space)\n",
        "#         action = env.action_space.sample()\n",
        "#         actions_taken.append(action)\n",
        "#         assert 0 <= action < 18, f\"action = {action}\"\n",
        "#         obs, _, done, _ = env.step(action)\n",
        "#         if np.mean(obs) > 0.01:\n",
        "#             save_as_image(obs, env_dir, str(i))\n",
        "#             i += 1\n",
        "#         else:\n",
        "#             print(\"should I have been reached?\")\n",
        "#             continue\n",
        "#         if done:\n",
        "#             print(f\"reseting {env_id} at i={i}\")\n",
        "#             env.reset()\n",
        "    \n",
        "#     actions_taken = np.asarray(actions_taken, dtype='int8')\n",
        "#     print(actions_taken.shape, actions_taken.size, actions_taken.dtype)\n",
        "#     np.save(os.path.join(save_dir, f\"{env_id}_{IMAGES_TO_GENERATE}_actions\"), actions_taken)"
      ],
      "execution_count": 0,
      "outputs": []
    },
    {
      "cell_type": "code",
      "metadata": {
        "colab_type": "code",
        "id": "NZCKFvS4J3sd",
        "colab": {}
      },
      "source": [
        "# IMG_SIZE = 160 # All images will be resized to 160x160\n",
        "\n",
        "# def load_image(image_path):\n",
        "#     image = tf.io.read_file(image_path)\n",
        "#     image = tf.image.decode_png(image, channels=3)\n",
        "#     image = tf.cast(image, tf.float32)\n",
        "#     image = (image/127.5) - 1\n",
        "#     image = tf.image.resize(image, (IMG_SIZE, IMG_SIZE))\n",
        "#     return image, image_path\n",
        "\n",
        "# IMG_SHAPE = (IMG_SIZE, IMG_SIZE, 3)\n",
        "\n",
        "# # Create the base model from the pre-trained model MobileNet V2\n",
        "# base_model = tf.keras.applications.MobileNetV2(input_shape=IMG_SHAPE,\n",
        "#                                                include_top=False,\n",
        "#                                                weights='imagenet')\n",
        "\n",
        "# s = time()\n",
        "# # Get unique images\n",
        "# encode_train = img_name_vector\n",
        "\n",
        "# # Feel free to change batch_size according to your system configuration\n",
        "# image_dataset = tf.data.Dataset.from_tensor_slices(encode_train)\n",
        "# image_dataset = image_dataset.map(\n",
        "#   load_image, num_parallel_calls=tf.data.experimental.AUTOTUNE).batch(16)\n",
        "\n",
        "# print((time()-s)/1000)\n",
        "\n",
        "# for img, path in image_dataset:\n",
        "#   batch_features = image_features_extract_model(img)\n",
        "#   batch_features = tf.reshape(batch_features,\n",
        "#                               (batch_features.shape[0], -1, batch_features.shape[3]))\n",
        "\n",
        "#   for bf, p in zip(batch_features, path):\n",
        "#     path_of_feature = p.numpy().decode(\"utf-8\")\n",
        "#     np.save(path_of_feature, bf.numpy())"
      ],
      "execution_count": 0,
      "outputs": []
    }
  ]
}