{
  "nbformat": 4,
  "nbformat_minor": 0,
  "metadata": {
    "colab": {
      "name": "Trajectories.ipynb",
      "provenance": [],
      "collapsed_sections": [
        "ANURED63lzYB",
        "_AmTVEEaTk3Q"
      ],
      "toc_visible": true,
      "include_colab_link": true
    },
    "kernelspec": {
      "name": "python3",
      "display_name": "Python 3"
    },
    "accelerator": "GPU"
  },
  "cells": [
    {
      "cell_type": "markdown",
      "metadata": {
        "id": "view-in-github",
        "colab_type": "text"
      },
      "source": [
        "<a href=\"https://colab.research.google.com/github/laurelkeys/machine-learning/blob/master/assignment-4/Trajectories.ipynb\" target=\"_parent\"><img src=\"https://colab.research.google.com/assets/colab-badge.svg\" alt=\"Open In Colab\"/></a>"
      ]
    },
    {
      "cell_type": "code",
      "metadata": {
        "id": "H8D0TEl9vLJa",
        "colab_type": "code",
        "outputId": "aaf5a904-88bb-47fc-ff5f-adaa7b4f5e29",
        "colab": {
          "base_uri": "https://localhost:8080/",
          "height": 35
        }
      },
      "source": [
        "import os\n",
        "\n",
        "from google.colab import drive\n",
        "drive.mount('/content/drive', force_remount=True)\n",
        "PATH_TO_DATA = os.path.join(\"drive\", \"My Drive\", \"unicamp\", \"MC886\", \"atari\")\n",
        "\n",
        "# PATH_TO_DATA = \"\""
      ],
      "execution_count": 126,
      "outputs": [
        {
          "output_type": "stream",
          "text": [
            "Mounted at /content/drive\n"
          ],
          "name": "stdout"
        }
      ]
    },
    {
      "cell_type": "code",
      "metadata": {
        "id": "mSrCsl0Av6RV",
        "colab_type": "code",
        "outputId": "ee50175f-0ba7-4d0f-b411-93cbeb4d3ea7",
        "colab": {
          "base_uri": "https://localhost:8080/",
          "height": 35
        }
      },
      "source": [
        "SAVE_DIR = os.path.join(PATH_TO_DATA, \"Dataset\", \"data\")\n",
        "os.makedirs(SAVE_DIR, exist_ok=True)\n",
        "\n",
        "SAVE_DIR # where the trajectories for each game will be saved to"
      ],
      "execution_count": 127,
      "outputs": [
        {
          "output_type": "execute_result",
          "data": {
            "text/plain": [
              "'drive/My Drive/unicamp/MC886/atari/Dataset/data'"
            ]
          },
          "metadata": {
            "tags": []
          },
          "execution_count": 127
        }
      ]
    },
    {
      "cell_type": "code",
      "metadata": {
        "id": "9zUPRZG8TOTv",
        "colab_type": "code",
        "outputId": "5c4cd5ab-3a00-43df-823a-9c4de9605dff",
        "colab": {
          "base_uri": "https://localhost:8080/",
          "height": 35
        }
      },
      "source": [
        "LOG_DIR = os.path.join(PATH_TO_DATA, \"Dataset\", \"data\", \"results\")\n",
        "os.makedirs(LOG_DIR, exist_ok=True)\n",
        "\n",
        "LOG_DIR # where the stats for each game will be saved to"
      ],
      "execution_count": 128,
      "outputs": [
        {
          "output_type": "execute_result",
          "data": {
            "text/plain": [
              "'drive/My Drive/unicamp/MC886/atari/Dataset/data/results'"
            ]
          },
          "metadata": {
            "tags": []
          },
          "execution_count": 128
        }
      ]
    },
    {
      "cell_type": "markdown",
      "metadata": {
        "id": "w6rL58MEZRQh",
        "colab_type": "text"
      },
      "source": [
        "## Generate a dataset of trajectories from pre-trained RL agents on [Atari](https://gym.openai.com/envs/#atari) [environments](https://github.com/openai/gym/wiki/Table-of-environments).\n",
        "That is, by the end of this notebook we will have $observation \\rightarrow action$ mappings, where $observation$s are images of shape `IMG_SHAPE` and $action$s are integer values in the range $[0, 18)$, meaning:\n",
        "\n",
        "| 0 | 1 | 2 | 3 | 4 | 5 |\n",
        "| --- | --- | --- | --- | --- | --- |\n",
        "| NOOP | FIRE | UP | RIGHT | LEFT | DOWN |\n",
        "\n",
        "\n",
        "| 6 | 7 | 8 | 9 |\n",
        "| --- | --- | --- | --- |\n",
        "| UPRIGHT | UPLEFT | DOWNRIGHT | DOWNLEFT |\n",
        "\n",
        "\n",
        "| 10 | 11 | 12 | 13 |\n",
        "| --- | --- | --- | --- |\n",
        "| UPFIRE | RIGHTFIRE | LEFTFIRE | DOWNFIRE |\n",
        "\n",
        "\n",
        "| 14 | 15 | 16 | 17 |\n",
        "| --- | --- | --- | --- |\n",
        "| UPRIGHTFIRE | UPLEFTFIRE | DOWNRIGHTFIRE | DOWNLEFTFIRE |"
      ]
    },
    {
      "cell_type": "code",
      "metadata": {
        "id": "XxiF53dtcx5H",
        "colab_type": "code",
        "colab": {}
      },
      "source": [
        "# number of trajectories to generate\n",
        "N_OF_TRAJECTORIES = 200\n",
        "\n",
        "# number of steps per trajectory\n",
        "N_OF_STEPS = 1000\n",
        "\n",
        "# list of string tuples in the format (RL Algorithm, Game Environment)\n",
        "GAMES = [\n",
        "    (\"PPO2\", \"BreakoutNoFrameskip-v4\"),\n",
        "    (\"PPO2\", \"PongNoFrameskip-v4\"),\n",
        "]"
      ],
      "execution_count": 0,
      "outputs": []
    },
    {
      "cell_type": "code",
      "metadata": {
        "id": "xniuUnC1sohU",
        "colab_type": "code",
        "outputId": "a492a342-6b12-4806-fbcb-40b255177c67",
        "colab": {
          "base_uri": "https://localhost:8080/",
          "height": 35
        }
      },
      "source": [
        "[env_id for algo, env_id in GAMES]"
      ],
      "execution_count": 130,
      "outputs": [
        {
          "output_type": "execute_result",
          "data": {
            "text/plain": [
              "['BreakoutNoFrameskip-v4', 'PongNoFrameskip-v4']"
            ]
          },
          "metadata": {
            "tags": []
          },
          "execution_count": 130
        }
      ]
    },
    {
      "cell_type": "markdown",
      "metadata": {
        "id": "ANURED63lzYB",
        "colab_type": "text"
      },
      "source": [
        "## Install dependencies"
      ]
    },
    {
      "cell_type": "markdown",
      "metadata": {
        "id": "tOvHHxnVn5rp",
        "colab_type": "text"
      },
      "source": [
        "Note that we're not installing [MPI](https://mpi4py.readthedocs.io/en/stable/), so the following algorithms will probably not work: `DDPG`, `GAIL`, `PPO1`, `TRPO`."
      ]
    },
    {
      "cell_type": "code",
      "metadata": {
        "id": "rmjBQE8sl8CP",
        "colab_type": "code",
        "colab": {}
      },
      "source": [
        "!apt-get update                                                  > /dev/null 2>&1\n",
        "!apt-get install swig cmake zlib1g-dev ffmpeg freeglut3-dev xvfb > /dev/null 2>&1\n",
        "!pip install pytablewriter                                       > /dev/null 2>&1\n",
        "# !pip install pytablewriter pyyaml optuna scikit-optimize         > /dev/null 2>&1"
      ],
      "execution_count": 0,
      "outputs": []
    },
    {
      "cell_type": "code",
      "metadata": {
        "id": "R_p5-8pYmEsa",
        "colab_type": "code",
        "outputId": "2a683782-ee9c-4225-9745-21e561d9c7c8",
        "colab": {
          "base_uri": "https://localhost:8080/",
          "height": 0
        }
      },
      "source": [
        "#### Stable Baselines only supports TF 1.x for now ####\n",
        "try:\n",
        "    # Colab only\n",
        "    %tensorflow_version 1.x\n",
        "except Exception:\n",
        "    pass\n",
        "\n",
        "import tensorflow as tf\n",
        "from tensorflow import keras\n",
        "print(tf.__version__)"
      ],
      "execution_count": 132,
      "outputs": [
        {
          "output_type": "stream",
          "text": [
            "1.15.0\n"
          ],
          "name": "stdout"
        }
      ]
    },
    {
      "cell_type": "code",
      "metadata": {
        "id": "CYDsdxKLulZj",
        "colab_type": "code",
        "colab": {}
      },
      "source": [
        "import os\n",
        "from time import time\n",
        "from IPython.display import clear_output\n",
        "\n",
        "import cv2\n",
        "import numpy as np\n",
        "import matplotlib.pyplot as plt\n",
        "%matplotlib inline\n",
        "\n",
        "# NOTE use tqdm.write() instead of print() inside of tqdm wrapped loops\n",
        "from tqdm import tqdm\n",
        "\n",
        "import gym\n",
        "from gym.envs.atari.atari_env import ACTION_MEANING"
      ],
      "execution_count": 0,
      "outputs": []
    },
    {
      "cell_type": "markdown",
      "metadata": {
        "id": "f6d58ZxSm7BR",
        "colab_type": "text"
      },
      "source": [
        "### Update [Stable Baselines](https://github.com/hill-a/stable-baselines) and clone [RL Zoo Baselines](https://github.com/araffin/rl-baselines-zoo)"
      ]
    },
    {
      "cell_type": "code",
      "metadata": {
        "id": "-Mx9fivzl8KW",
        "colab_type": "code",
        "outputId": "ee998c9d-f6c8-413b-9417-2a0215179c12",
        "colab": {
          "base_uri": "https://localhost:8080/",
          "height": 0
        }
      },
      "source": [
        "!pip list | grep baselines"
      ],
      "execution_count": 134,
      "outputs": [
        {
          "output_type": "stream",
          "text": [
            "stable-baselines         2.9.0a0    \n"
          ],
          "name": "stdout"
        }
      ]
    },
    {
      "cell_type": "code",
      "metadata": {
        "id": "KPOfKIrIm3Ef",
        "colab_type": "code",
        "colab": {}
      },
      "source": [
        "!yes | pip uninstall stable-baselines                           > /dev/null 2>&1\n",
        "!pip install git+https://github.com/hill-a/stable-baselines.git > /dev/null 2>&1"
      ],
      "execution_count": 0,
      "outputs": []
    },
    {
      "cell_type": "code",
      "metadata": {
        "id": "WZG914mxnHN_",
        "colab_type": "code",
        "outputId": "159ff90a-e62e-4932-9d7f-d7aaca8beac1",
        "colab": {
          "base_uri": "https://localhost:8080/",
          "height": 0
        }
      },
      "source": [
        "!pip list | grep baselines"
      ],
      "execution_count": 136,
      "outputs": [
        {
          "output_type": "stream",
          "text": [
            "stable-baselines         2.9.0a0    \n"
          ],
          "name": "stdout"
        }
      ]
    },
    {
      "cell_type": "code",
      "metadata": {
        "id": "ULku9CT6ovu2",
        "colab_type": "code",
        "colab": {}
      },
      "source": [
        "from stable_baselines.common.cmd_util import make_atari_env\n",
        "from stable_baselines.common.vec_env import VecFrameStack, DummyVecEnv\n",
        "\n",
        "# HACK to save logs\n",
        "from stable_baselines import logger\n",
        "os.environ[\"OPENAI_LOG_FORMAT\"] = 'csv' # 'stdout,log,csv,tensorboard'\n",
        "os.environ[\"OPENAI_LOGDIR\"] = os.path.abspath(LOG_DIR)\n",
        "logger.configure()\n",
        "\n",
        "# NOTE add more algorithms here if you want to use them\n",
        "from stable_baselines import PPO2, ACER, ACKTR\n",
        "ALGO_IMPL = {\n",
        "    'PPO2': PPO2,\n",
        "    'ACER': ACER,\n",
        "    'ACKTR': ACKTR,\n",
        "}"
      ],
      "execution_count": 0,
      "outputs": []
    },
    {
      "cell_type": "code",
      "metadata": {
        "id": "ZBZSNLAGnpkQ",
        "colab_type": "code",
        "colab": {}
      },
      "source": [
        "!git clone https://github.com/araffin/rl-baselines-zoo.git      > /dev/null 2>&1"
      ],
      "execution_count": 0,
      "outputs": []
    },
    {
      "cell_type": "markdown",
      "metadata": {
        "id": "5ZQhTCzfwAZT",
        "colab_type": "text"
      },
      "source": [
        "## Load the pre-trained agents"
      ]
    },
    {
      "cell_type": "code",
      "metadata": {
        "id": "BukuKWcxxaed",
        "colab_type": "code",
        "outputId": "ce18bdbc-4fc7-4a6a-8f86-61af691d3206",
        "colab": {
          "base_uri": "https://localhost:8080/",
          "height": 35
        }
      },
      "source": [
        "!ls rl-baselines-zoo/trained_agents/"
      ],
      "execution_count": 139,
      "outputs": [
        {
          "output_type": "stream",
          "text": [
            "a2c  acer  acktr  ddpg\tdqn  her  ppo2\tsac  td3  trpo\n"
          ],
          "name": "stdout"
        }
      ]
    },
    {
      "cell_type": "code",
      "metadata": {
        "id": "JhFU5ULCxYEX",
        "colab_type": "code",
        "colab": {}
      },
      "source": [
        "PATH_TO_AGENTS = os.path.join(\"rl-baselines-zoo\", \"trained_agents\")"
      ],
      "execution_count": 0,
      "outputs": []
    },
    {
      "cell_type": "code",
      "metadata": {
        "id": "uGcL8fuWUdHT",
        "colab_type": "code",
        "outputId": "d10b36b7-2444-49cf-f04e-89262ca2a5ff",
        "colab": {
          "base_uri": "https://localhost:8080/",
          "height": 181
        }
      },
      "source": [
        "ext = \"NoFrameskip-v4.pkl\"\n",
        "# check the available pre-trained models\n",
        "algorithms = [\"PPO2\"]\n",
        "for algo in algorithms:\n",
        "    algo_path = os.path.join(PATH_TO_AGENTS, algo.lower())\n",
        "    print(algo_path + '/')\n",
        "    for f in sorted(os.listdir(algo_path), key=lambda x: x[::-1]):\n",
        "        # sort by the reverse filename, so env types get grouped together\n",
        "        if f.endswith(ext):\n",
        "            print(\"├──\", f)"
      ],
      "execution_count": 141,
      "outputs": [
        {
          "output_type": "stream",
          "text": [
            "rl-baselines-zoo/trained_agents/ppo2/\n",
            "├── PongNoFrameskip-v4.pkl\n",
            "├── MsPacmanNoFrameskip-v4.pkl\n",
            "├── EnduroNoFrameskip-v4.pkl\n",
            "├── BeamRiderNoFrameskip-v4.pkl\n",
            "├── SpaceInvadersNoFrameskip-v4.pkl\n",
            "├── QbertNoFrameskip-v4.pkl\n",
            "├── SeaquestNoFrameskip-v4.pkl\n",
            "├── BreakoutNoFrameskip-v4.pkl\n"
          ],
          "name": "stdout"
        }
      ]
    },
    {
      "cell_type": "code",
      "metadata": {
        "id": "P5ye3CG3NzJo",
        "colab_type": "code",
        "outputId": "569dae73-c606-4ca7-dc44-46754a1e245d",
        "colab": {
          "base_uri": "https://localhost:8080/",
          "height": 163
        }
      },
      "source": [
        "for i in range(2):\n",
        "    clear_output() # HACK to remove TensorFlow warnings\n",
        "    for algo, env_id in GAMES:\n",
        "        print(f\"('{algo}', '{env_id}')\")\n",
        "        agent_path = os.path.join(PATH_TO_AGENTS, algo.lower(), env_id + '.pkl')\n",
        "        model = ALGO_IMPL[algo].load(agent_path, verbose=0)\n",
        "        print(\"observation_space:\", model.observation_space)\n",
        "        print(\"action_space:\", model.action_space)\n",
        "        print()"
      ],
      "execution_count": 142,
      "outputs": [
        {
          "output_type": "stream",
          "text": [
            "('PPO2', 'BreakoutNoFrameskip-v4')\n",
            "observation_space: Box(84, 84, 4)\n",
            "action_space: Discrete(4)\n",
            "\n",
            "('PPO2', 'PongNoFrameskip-v4')\n",
            "observation_space: Box(84, 84, 4)\n",
            "action_space: Discrete(6)\n",
            "\n"
          ],
          "name": "stdout"
        }
      ]
    },
    {
      "cell_type": "code",
      "metadata": {
        "id": "lwdzhBHua5ad",
        "colab_type": "code",
        "colab": {}
      },
      "source": [
        "VERBOSE = 2 # 0, 1 or 2"
      ],
      "execution_count": 0,
      "outputs": []
    },
    {
      "cell_type": "code",
      "metadata": {
        "id": "LFyZqGsRP7SG",
        "colab_type": "code",
        "outputId": "55c7ad3d-d0f9-4cb5-e39f-088a87326f92",
        "colab": {
          "base_uri": "https://localhost:8080/",
          "height": 72
        }
      },
      "source": [
        "print(\"N_OF_STEPS:\", N_OF_STEPS)\n",
        "print(\"N_OF_TRAJECTORIES:\", N_OF_TRAJECTORIES)\n",
        "print(N_OF_STEPS, \"*\", N_OF_TRAJECTORIES, \"=\", N_OF_STEPS * N_OF_TRAJECTORIES)"
      ],
      "execution_count": 144,
      "outputs": [
        {
          "output_type": "stream",
          "text": [
            "N_OF_STEPS: 1000\n",
            "N_OF_TRAJECTORIES: 200\n",
            "1000 * 200 = 200000\n"
          ],
          "name": "stdout"
        }
      ]
    },
    {
      "cell_type": "markdown",
      "metadata": {
        "id": "C1sJGAnvPMad",
        "colab_type": "text"
      },
      "source": [
        "## WIP"
      ]
    },
    {
      "cell_type": "code",
      "metadata": {
        "id": "hvmmrAIQPQkt",
        "colab_type": "code",
        "colab": {}
      },
      "source": [
        "TRAJ_IMAGES_FOLDER = \"images\" # name of the folder in which to save the observations\n",
        "TRAJ_FILE_NAME = \"trajectory\" # name of the .npz trajectory file\n",
        "\n",
        "SAVE_IMAGES_AS_NUMPY_ARRAY = False # if False, the images will be saved as .png in TRAJ_IMAGES_FOLDER, \n",
        "                                   # and the 'observations' key in the .npz file will have the path to them\n",
        "\n",
        "PRINT_EARLY_DONE = True\n",
        "PRINT_ACTIONS_TAKEN = True\n",
        "\n",
        "PRINT_EVERY_N_TRAJECTORIES = N_OF_TRAJECTORIES // 10 # set to N_OF_TRAJECTORIES + 1 not to print"
      ],
      "execution_count": 0,
      "outputs": []
    },
    {
      "cell_type": "code",
      "metadata": {
        "id": "jtoxS_kDPNpw",
        "colab_type": "code",
        "outputId": "930bdfe0-3985-46bf-a348-949fa8502410",
        "colab": {
          "base_uri": "https://localhost:8080/",
          "height": 1000
        }
      },
      "source": [
        "print(\"PRINT_EVERY_N_TRAJECTORIES:\", PRINT_EVERY_N_TRAJECTORIES)\n",
        "print(\"N_OF_TRAJECTORIES:\", N_OF_TRAJECTORIES)\n",
        "print(\"N_OF_STEPS:\", N_OF_STEPS)\n",
        "\n",
        "time_start = time()\n",
        "print(\"\\n================\")\n",
        "for algo, env_id in GAMES:\n",
        "    time_start_env = time()\n",
        "\n",
        "    env = make_atari_env(env_id, num_env=1, seed=0)\n",
        "    env = VecFrameStack(env, n_stack=4) # Frame-stacking with 4 frames\n",
        "    agent_path = os.path.join(PATH_TO_AGENTS, algo.lower(), env_id + '.pkl')\n",
        "    \n",
        "    print(f\"('{algo}', '{env_id}')\")\n",
        "    print(f\"Getting pre-trained agent from: '{agent_path}'\\n\")\n",
        "    \n",
        "    # setup paths where data will be saved to\n",
        "    traj_name = f\"{env_id}_{algo}_{N_OF_STEPS}s\"\n",
        "    if not SAVE_IMAGES_AS_NUMPY_ARRAY:\n",
        "        images_folder = os.path.join(SAVE_DIR, traj_name, TRAJ_IMAGES_FOLDER)\n",
        "        os.makedirs(images_folder, exist_ok=True)\n",
        "        if VERBOSE > 0:\n",
        "            print(\"Images will be recorded to {}/\\n\".format(images_folder))\n",
        "\n",
        "    model = ALGO_IMPL[algo].load(agent_path, env)\n",
        "    \n",
        "    for trajectory in tqdm(range(N_OF_TRAJECTORIES), position=0, leave=True):\n",
        "        # store the \"obs -> action\" mapping\n",
        "        observed_states, actions_taken = [], []\n",
        "        \n",
        "        # episode stats\n",
        "        ep_rewards, ep_starts = np.zeros((N_OF_STEPS,)), []\n",
        "\n",
        "        obs = env.reset() # (84, 84, 4)\n",
        "        ep_starts.append(True)\n",
        "        for step in range(N_OF_STEPS):\n",
        "            observed_states.append(obs)\n",
        "            action = model.predict(obs)\n",
        "            actions_taken.append(action)\n",
        "            obs, reward, done, infos = env.step(action)\n",
        "            ep_starts.append(done[0])\n",
        "            ep_rewards[step] = reward[0]\n",
        "            if done[0]:\n",
        "                obs = env.reset()\n",
        "                if PRINT_EARLY_DONE:\n",
        "                    tqdm.write(f\" Done at step {step + 1} (reseting env)\")\n",
        "        \n",
        "        # NOTE action, reward and done are arrays since we're using a vectorized env\n",
        "        observed_states = [obs[0] for obs in observed_states]\n",
        "        actions_taken = [action[0][0] for action in actions_taken]\n",
        "        \n",
        "        # left pad the trajectory with 0's\n",
        "        traj_number_str = str(trajectory + 1).zfill(len(str(N_OF_TRAJECTORIES)))\n",
        "\n",
        "        if not SAVE_IMAGES_AS_NUMPY_ARRAY:\n",
        "            _observed_states = []\n",
        "            for step, obs in enumerate(observed_states):\n",
        "                image_path = os.path.join(images_folder, traj_number_str, f\"{str(step).zfill(len(str(N_OF_STEPS)))}.png\")\n",
        "                os.makedirs(image_path, exist_ok=True)\n",
        "                if obs.shape[-1] == 3:\n",
        "                    obs = cv2.cvtColor(obs, cv2.COLOR_RGB2BGR)\n",
        "                cv2.imwrite(image_path, obs)\n",
        "                _observed_states.append(image_path)\n",
        "            observed_states = np.array(_observed_states)\n",
        "        else:\n",
        "            observed_states = np.concatenate(observed_states).reshape((-1,) + env.observation_space.shape)\n",
        "\n",
        "        actions_taken = np.array(actions_taken)\n",
        "        ep_starts = np.array(ep_starts[:-1])\n",
        "\n",
        "        data = {\n",
        "            'actions': actions_taken,\n",
        "            'observations': observed_states,\n",
        "            'rewards': ep_rewards,\n",
        "            'episode_starts': ep_starts\n",
        "        } # type: Dict[str, np.ndarray]\n",
        "\n",
        "        save_path = os.path.join(SAVE_DIR, traj_name, traj_number_str)\n",
        "        os.makedirs(save_path, exist_ok=True)\n",
        "        np.savez_compressed(file=os.path.join(save_path, TRAJ_FILE_NAME), **data)\n",
        "        \n",
        "        if (trajectory + 1) % 10 == 0:\n",
        "            tqdm.write(f\" Saved trajectory {trajectory + 1} (of {N_OF_TRAJECTORIES})\")\n",
        "            if VERBOSE > 1:\n",
        "                tqdm.write(\" Mean reward: {:.2f}, ep_rewards.shape == {}\".format(\n",
        "                        np.mean(ep_rewards), ep_rewards.shape))\n",
        "\n",
        "        if PRINT_ACTIONS_TAKEN and trajectory == N_OF_TRAJECTORIES - 1:\n",
        "            tqdm.write(\"\\n Actions taken: {}\".format(\", \".join([ACTION_MEANING[action] for action in set(actions_taken)])))\n",
        "    \n",
        "    env.close()\n",
        "    print(f\"Δt = {(time() - time_start_env):.2f}s\")\n",
        "    print(\"================\\n\")\n",
        "\n",
        "print(f\"Total Δt = {(time() - time_start):.2f}s\")"
      ],
      "execution_count": 146,
      "outputs": [
        {
          "output_type": "stream",
          "text": [
            "PRINT_EVERY_N_TRAJECTORIES: 20\n",
            "N_OF_TRAJECTORIES: 200\n",
            "N_OF_STEPS: 1000\n",
            "\n",
            "================\n",
            "('PPO2', 'BreakoutNoFrameskip-v4')\n",
            "Getting pre-trained agent from: 'rl-baselines-zoo/trained_agents/ppo2/BreakoutNoFrameskip-v4.pkl'\n",
            "\n",
            "Images will be recorded to drive/My Drive/unicamp/MC886/atari/Dataset/data/BreakoutNoFrameskip-v4_PPO2_1000s/images/\n",
            "\n"
          ],
          "name": "stdout"
        },
        {
          "output_type": "stream",
          "text": [
            "  0%|          | 1/200 [00:05<17:46,  5.36s/it]"
          ],
          "name": "stderr"
        },
        {
          "output_type": "stream",
          "text": [
            " Done at step 111 (reseting env)\n"
          ],
          "name": "stdout"
        },
        {
          "output_type": "stream",
          "text": [
            "  0%|          | 1/200 [00:07<17:46,  5.36s/it]"
          ],
          "name": "stderr"
        },
        {
          "output_type": "stream",
          "text": [
            " Done at step 520 (reseting env)\n",
            " Done at step 540 (reseting env)\n"
          ],
          "name": "stdout"
        },
        {
          "output_type": "stream",
          "text": [
            "  0%|          | 1/200 [00:07<17:46,  5.36s/it]"
          ],
          "name": "stderr"
        },
        {
          "output_type": "stream",
          "text": [
            " Done at step 833 (reseting env)\n"
          ],
          "name": "stdout"
        },
        {
          "output_type": "stream",
          "text": [
            "  0%|          | 1/200 [00:08<17:46,  5.36s/it]"
          ],
          "name": "stderr"
        },
        {
          "output_type": "stream",
          "text": [
            " Done at step 987 (reseting env)\n"
          ],
          "name": "stdout"
        },
        {
          "output_type": "stream",
          "text": [
            "  1%|          | 2/200 [00:12<18:05,  5.48s/it]"
          ],
          "name": "stderr"
        },
        {
          "output_type": "stream",
          "text": [
            " Done at step 521 (reseting env)\n"
          ],
          "name": "stdout"
        },
        {
          "output_type": "stream",
          "text": [
            "  2%|▏         | 3/200 [00:16<18:07,  5.52s/it]"
          ],
          "name": "stderr"
        },
        {
          "output_type": "stream",
          "text": [
            " Done at step 7 (reseting env)\n"
          ],
          "name": "stdout"
        },
        {
          "output_type": "stream",
          "text": [
            "  2%|▏         | 3/200 [00:18<18:07,  5.52s/it]"
          ],
          "name": "stderr"
        },
        {
          "output_type": "stream",
          "text": [
            " Done at step 488 (reseting env)\n"
          ],
          "name": "stdout"
        },
        {
          "output_type": "stream",
          "text": [
            "  2%|▏         | 4/200 [00:22<18:02,  5.52s/it]"
          ],
          "name": "stderr"
        },
        {
          "output_type": "stream",
          "text": [
            " Done at step 14 (reseting env)\n"
          ],
          "name": "stdout"
        },
        {
          "output_type": "stream",
          "text": [
            "  2%|▏         | 4/200 [00:22<18:02,  5.52s/it]"
          ],
          "name": "stderr"
        },
        {
          "output_type": "stream",
          "text": [
            " Done at step 199 (reseting env)\n"
          ],
          "name": "stdout"
        },
        {
          "output_type": "stream",
          "text": [
            "  2%|▏         | 4/200 [00:23<18:02,  5.52s/it]"
          ],
          "name": "stderr"
        },
        {
          "output_type": "stream",
          "text": [
            " Done at step 330 (reseting env)\n"
          ],
          "name": "stdout"
        },
        {
          "output_type": "stream",
          "text": [
            "  2%|▏         | 4/200 [00:23<18:02,  5.52s/it]"
          ],
          "name": "stderr"
        },
        {
          "output_type": "stream",
          "text": [
            " Done at step 503 (reseting env)\n"
          ],
          "name": "stdout"
        },
        {
          "output_type": "stream",
          "text": [
            "  2%|▏         | 4/200 [00:24<18:02,  5.52s/it]"
          ],
          "name": "stderr"
        },
        {
          "output_type": "stream",
          "text": [
            " Done at step 654 (reseting env)\n"
          ],
          "name": "stdout"
        },
        {
          "output_type": "stream",
          "text": [
            "  2%|▎         | 5/200 [00:27<18:01,  5.55s/it]"
          ],
          "name": "stderr"
        },
        {
          "output_type": "stream",
          "text": [
            " Done at step 6 (reseting env)\n"
          ],
          "name": "stdout"
        },
        {
          "output_type": "stream",
          "text": [
            "  2%|▎         | 5/200 [00:29<18:01,  5.55s/it]"
          ],
          "name": "stderr"
        },
        {
          "output_type": "stream",
          "text": [
            " Done at step 559 (reseting env)\n",
            " Done at step 579 (reseting env)\n"
          ],
          "name": "stdout"
        },
        {
          "output_type": "stream",
          "text": [
            "  2%|▎         | 5/200 [00:30<18:01,  5.55s/it]"
          ],
          "name": "stderr"
        },
        {
          "output_type": "stream",
          "text": [
            " Done at step 674 (reseting env)\n"
          ],
          "name": "stdout"
        },
        {
          "output_type": "stream",
          "text": [
            "  2%|▎         | 5/200 [00:30<18:01,  5.55s/it]"
          ],
          "name": "stderr"
        },
        {
          "output_type": "stream",
          "text": [
            " Done at step 837 (reseting env)\n"
          ],
          "name": "stdout"
        },
        {
          "output_type": "stream",
          "text": [
            "  3%|▎         | 6/200 [00:33<18:06,  5.60s/it]"
          ],
          "name": "stderr"
        },
        {
          "output_type": "stream",
          "text": [
            " Done at step 64 (reseting env)\n"
          ],
          "name": "stdout"
        },
        {
          "output_type": "stream",
          "text": [
            "  3%|▎         | 6/200 [00:34<18:06,  5.60s/it]"
          ],
          "name": "stderr"
        },
        {
          "output_type": "stream",
          "text": [
            " Done at step 179 (reseting env)\n"
          ],
          "name": "stdout"
        },
        {
          "output_type": "stream",
          "text": [
            "  3%|▎         | 6/200 [00:36<18:06,  5.60s/it]"
          ],
          "name": "stderr"
        },
        {
          "output_type": "stream",
          "text": [
            " Done at step 991 (reseting env)\n"
          ],
          "name": "stdout"
        },
        {
          "output_type": "stream",
          "text": [
            "  4%|▎         | 7/200 [00:39<18:15,  5.68s/it]"
          ],
          "name": "stderr"
        },
        {
          "output_type": "stream",
          "text": [
            " Done at step 8 (reseting env)\n"
          ],
          "name": "stdout"
        },
        {
          "output_type": "stream",
          "text": [
            "  4%|▎         | 7/200 [00:40<18:15,  5.68s/it]"
          ],
          "name": "stderr"
        },
        {
          "output_type": "stream",
          "text": [
            " Done at step 437 (reseting env)\n"
          ],
          "name": "stdout"
        },
        {
          "output_type": "stream",
          "text": [
            "  4%|▍         | 8/200 [00:47<18:01,  5.63s/it]"
          ],
          "name": "stderr"
        },
        {
          "output_type": "stream",
          "text": [
            " Done at step 763 (reseting env)\n"
          ],
          "name": "stdout"
        },
        {
          "output_type": "stream",
          "text": [
            "  4%|▍         | 9/200 [00:50<17:38,  5.54s/it]"
          ],
          "name": "stderr"
        },
        {
          "output_type": "stream",
          "text": [
            " Done at step 121 (reseting env)\n"
          ],
          "name": "stdout"
        },
        {
          "output_type": "stream",
          "text": [
            "  5%|▌         | 10/200 [00:55<17:27,  5.51s/it]"
          ],
          "name": "stderr"
        },
        {
          "output_type": "stream",
          "text": [
            " Saved trajectory 10 (of 200)\n",
            "\n",
            " Mean reward: 0.03, ep_rewards.shape == (1000,)\n"
          ],
          "name": "stdout"
        },
        {
          "output_type": "stream",
          "text": [
            "  5%|▌         | 10/200 [00:56<17:27,  5.51s/it]"
          ],
          "name": "stderr"
        },
        {
          "output_type": "stream",
          "text": [
            " Done at step 279 (reseting env)\n"
          ],
          "name": "stdout"
        },
        {
          "output_type": "stream",
          "text": [
            "  5%|▌         | 10/200 [00:57<17:27,  5.51s/it]"
          ],
          "name": "stderr"
        },
        {
          "output_type": "stream",
          "text": [
            " Done at step 670 (reseting env)\n"
          ],
          "name": "stdout"
        },
        {
          "output_type": "stream",
          "text": [
            "  5%|▌         | 10/200 [00:58<17:27,  5.51s/it]"
          ],
          "name": "stderr"
        },
        {
          "output_type": "stream",
          "text": [
            " Done at step 833 (reseting env)\n"
          ],
          "name": "stdout"
        },
        {
          "output_type": "stream",
          "text": [
            "  6%|▌         | 11/200 [01:01<17:33,  5.57s/it]"
          ],
          "name": "stderr"
        },
        {
          "output_type": "stream",
          "text": [
            " Done at step 61 (reseting env)\n"
          ],
          "name": "stdout"
        },
        {
          "output_type": "stream",
          "text": [
            "  6%|▌         | 11/200 [01:02<17:33,  5.57s/it]"
          ],
          "name": "stderr"
        },
        {
          "output_type": "stream",
          "text": [
            " Done at step 173 (reseting env)\n"
          ],
          "name": "stdout"
        },
        {
          "output_type": "stream",
          "text": [
            "  6%|▌         | 11/200 [01:02<17:33,  5.57s/it]"
          ],
          "name": "stderr"
        },
        {
          "output_type": "stream",
          "text": [
            " Done at step 453 (reseting env)\n"
          ],
          "name": "stdout"
        },
        {
          "output_type": "stream",
          "text": [
            "  6%|▌         | 11/200 [01:04<17:33,  5.57s/it]"
          ],
          "name": "stderr"
        },
        {
          "output_type": "stream",
          "text": [
            " Done at step 950 (reseting env)\n"
          ],
          "name": "stdout"
        },
        {
          "output_type": "stream",
          "text": [
            "  8%|▊         | 15/200 [01:23<16:55,  5.49s/it]"
          ],
          "name": "stderr"
        },
        {
          "output_type": "stream",
          "text": [
            " Done at step 124 (reseting env)\n"
          ],
          "name": "stdout"
        },
        {
          "output_type": "stream",
          "text": [
            "  8%|▊         | 15/200 [01:24<16:55,  5.49s/it]"
          ],
          "name": "stderr"
        },
        {
          "output_type": "stream",
          "text": [
            " Done at step 317 (reseting env)\n"
          ],
          "name": "stdout"
        },
        {
          "output_type": "stream",
          "text": [
            "  8%|▊         | 16/200 [01:31<16:55,  5.52s/it]"
          ],
          "name": "stderr"
        },
        {
          "output_type": "stream",
          "text": [
            " Done at step 770 (reseting env)\n"
          ],
          "name": "stdout"
        },
        {
          "output_type": "stream",
          "text": [
            "  8%|▊         | 16/200 [01:31<16:55,  5.52s/it]"
          ],
          "name": "stderr"
        },
        {
          "output_type": "stream",
          "text": [
            " Done at step 873 (reseting env)\n"
          ],
          "name": "stdout"
        },
        {
          "output_type": "stream",
          "text": [
            "  8%|▊         | 17/200 [01:35<17:09,  5.62s/it]"
          ],
          "name": "stderr"
        },
        {
          "output_type": "stream",
          "text": [
            " Done at step 150 (reseting env)\n"
          ],
          "name": "stdout"
        },
        {
          "output_type": "stream",
          "text": [
            "  8%|▊         | 17/200 [01:36<17:09,  5.62s/it]"
          ],
          "name": "stderr"
        },
        {
          "output_type": "stream",
          "text": [
            " Done at step 465 (reseting env)\n"
          ],
          "name": "stdout"
        },
        {
          "output_type": "stream",
          "text": [
            "  9%|▉         | 18/200 [01:40<17:19,  5.71s/it]"
          ],
          "name": "stderr"
        },
        {
          "output_type": "stream",
          "text": [
            " Done at step 56 (reseting env)\n"
          ],
          "name": "stdout"
        },
        {
          "output_type": "stream",
          "text": [
            "  9%|▉         | 18/200 [01:41<17:19,  5.71s/it]"
          ],
          "name": "stderr"
        },
        {
          "output_type": "stream",
          "text": [
            " Done at step 230 (reseting env)\n"
          ],
          "name": "stdout"
        },
        {
          "output_type": "stream",
          "text": [
            "  9%|▉         | 18/200 [01:42<17:19,  5.71s/it]"
          ],
          "name": "stderr"
        },
        {
          "output_type": "stream",
          "text": [
            " Done at step 389 (reseting env)\n",
            " Done at step 409 (reseting env)\n"
          ],
          "name": "stdout"
        },
        {
          "output_type": "stream",
          "text": [
            "  9%|▉         | 18/200 [01:42<17:19,  5.71s/it]"
          ],
          "name": "stderr"
        },
        {
          "output_type": "stream",
          "text": [
            " Done at step 526 (reseting env)\n"
          ],
          "name": "stdout"
        },
        {
          "output_type": "stream",
          "text": [
            "  9%|▉         | 18/200 [01:42<17:19,  5.71s/it]"
          ],
          "name": "stderr"
        },
        {
          "output_type": "stream",
          "text": [
            " Done at step 625 (reseting env)\n"
          ],
          "name": "stdout"
        },
        {
          "output_type": "stream",
          "text": [
            "  9%|▉         | 18/200 [01:43<17:19,  5.71s/it]"
          ],
          "name": "stderr"
        },
        {
          "output_type": "stream",
          "text": [
            " Done at step 797 (reseting env)\n",
            " Done at step 845 (reseting env)\n"
          ],
          "name": "stdout"
        },
        {
          "output_type": "stream",
          "text": [
            " 10%|█         | 20/200 [01:52<17:13,  5.74s/it]"
          ],
          "name": "stderr"
        },
        {
          "output_type": "stream",
          "text": [
            " Saved trajectory 20 (of 200)\n",
            "\n",
            " Mean reward: 0.06, ep_rewards.shape == (1000,)\n"
          ],
          "name": "stdout"
        },
        {
          "output_type": "stream",
          "text": [
            " 10%|█         | 20/200 [01:53<17:13,  5.74s/it]"
          ],
          "name": "stderr"
        },
        {
          "output_type": "stream",
          "text": [
            " Done at step 452 (reseting env)\n"
          ],
          "name": "stdout"
        },
        {
          "output_type": "stream",
          "text": [
            " 12%|█▏        | 23/200 [02:08<16:11,  5.49s/it]"
          ],
          "name": "stderr"
        },
        {
          "output_type": "stream",
          "text": [
            " Done at step 3 (reseting env)\n"
          ],
          "name": "stdout"
        },
        {
          "output_type": "stream",
          "text": [
            " 12%|█▏        | 23/200 [02:10<16:11,  5.49s/it]"
          ],
          "name": "stderr"
        },
        {
          "output_type": "stream",
          "text": [
            " Done at step 708 (reseting env)\n"
          ],
          "name": "stdout"
        },
        {
          "output_type": "stream",
          "text": [
            " 12%|█▏        | 24/200 [02:15<16:11,  5.52s/it]"
          ],
          "name": "stderr"
        },
        {
          "output_type": "stream",
          "text": [
            " Done at step 542 (reseting env)\n"
          ],
          "name": "stdout"
        },
        {
          "output_type": "stream",
          "text": [
            " 12%|█▎        | 25/200 [02:19<16:09,  5.54s/it]"
          ],
          "name": "stderr"
        },
        {
          "output_type": "stream",
          "text": [
            " Done at step 8 (reseting env)\n"
          ],
          "name": "stdout"
        },
        {
          "output_type": "stream",
          "text": [
            " 12%|█▎        | 25/200 [02:19<16:09,  5.54s/it]"
          ],
          "name": "stderr"
        },
        {
          "output_type": "stream",
          "text": [
            " Done at step 82 (reseting env)\n"
          ],
          "name": "stdout"
        },
        {
          "output_type": "stream",
          "text": [
            " 12%|█▎        | 25/200 [02:21<16:09,  5.54s/it]"
          ],
          "name": "stderr"
        },
        {
          "output_type": "stream",
          "text": [
            " Done at step 556 (reseting env)\n"
          ],
          "name": "stdout"
        },
        {
          "output_type": "stream",
          "text": [
            " 12%|█▎        | 25/200 [02:21<16:09,  5.54s/it]"
          ],
          "name": "stderr"
        },
        {
          "output_type": "stream",
          "text": [
            " Done at step 620 (reseting env)\n"
          ],
          "name": "stdout"
        },
        {
          "output_type": "stream",
          "text": [
            " 12%|█▎        | 25/200 [02:22<16:09,  5.54s/it]"
          ],
          "name": "stderr"
        },
        {
          "output_type": "stream",
          "text": [
            " Done at step 772 (reseting env)\n"
          ],
          "name": "stdout"
        },
        {
          "output_type": "stream",
          "text": [
            " 12%|█▎        | 25/200 [02:22<16:09,  5.54s/it]"
          ],
          "name": "stderr"
        },
        {
          "output_type": "stream",
          "text": [
            " Done at step 950 (reseting env)\n"
          ],
          "name": "stdout"
        },
        {
          "output_type": "stream",
          "text": [
            " 13%|█▎        | 26/200 [02:25<16:11,  5.59s/it]"
          ],
          "name": "stderr"
        },
        {
          "output_type": "stream",
          "text": [
            " Done at step 117 (reseting env)\n"
          ],
          "name": "stdout"
        },
        {
          "output_type": "stream",
          "text": [
            " 13%|█▎        | 26/200 [02:27<16:11,  5.59s/it]"
          ],
          "name": "stderr"
        },
        {
          "output_type": "stream",
          "text": [
            " Done at step 810 (reseting env)\n"
          ],
          "name": "stdout"
        },
        {
          "output_type": "stream",
          "text": [
            " 14%|█▎        | 27/200 [02:31<16:02,  5.56s/it]"
          ],
          "name": "stderr"
        },
        {
          "output_type": "stream",
          "text": [
            " Done at step 238 (reseting env)\n"
          ],
          "name": "stdout"
        },
        {
          "output_type": "stream",
          "text": [
            " 14%|█▎        | 27/200 [02:32<16:02,  5.56s/it]"
          ],
          "name": "stderr"
        },
        {
          "output_type": "stream",
          "text": [
            " Done at step 401 (reseting env)\n"
          ],
          "name": "stdout"
        },
        {
          "output_type": "stream",
          "text": [
            " 14%|█▎        | 27/200 [02:32<16:02,  5.56s/it]"
          ],
          "name": "stderr"
        },
        {
          "output_type": "stream",
          "text": [
            " Done at step 594 (reseting env)\n"
          ],
          "name": "stdout"
        },
        {
          "output_type": "stream",
          "text": [
            " 14%|█▍        | 28/200 [02:36<16:02,  5.60s/it]"
          ],
          "name": "stderr"
        },
        {
          "output_type": "stream",
          "text": [
            " Done at step 6 (reseting env)\n"
          ],
          "name": "stdout"
        },
        {
          "output_type": "stream",
          "text": [
            " 14%|█▍        | 28/200 [02:37<16:02,  5.60s/it]"
          ],
          "name": "stderr"
        },
        {
          "output_type": "stream",
          "text": [
            " Done at step 422 (reseting env)\n"
          ],
          "name": "stdout"
        },
        {
          "output_type": "stream",
          "text": [
            " 14%|█▍        | 29/200 [02:42<15:51,  5.56s/it]"
          ],
          "name": "stderr"
        },
        {
          "output_type": "stream",
          "text": [
            " Done at step 80 (reseting env)\n"
          ],
          "name": "stdout"
        },
        {
          "output_type": "stream",
          "text": [
            " 14%|█▍        | 29/200 [02:43<15:51,  5.56s/it]"
          ],
          "name": "stderr"
        },
        {
          "output_type": "stream",
          "text": [
            " Done at step 399 (reseting env)\n"
          ],
          "name": "stdout"
        },
        {
          "output_type": "stream",
          "text": [
            " 15%|█▌        | 30/200 [02:47<15:42,  5.55s/it]"
          ],
          "name": "stderr"
        },
        {
          "output_type": "stream",
          "text": [
            " Saved trajectory 30 (of 200)\n",
            "\n",
            " Mean reward: 0.04, ep_rewards.shape == (1000,)\n"
          ],
          "name": "stdout"
        },
        {
          "output_type": "stream",
          "text": [
            " 15%|█▌        | 30/200 [02:49<15:42,  5.55s/it]"
          ],
          "name": "stderr"
        },
        {
          "output_type": "stream",
          "text": [
            " Done at step 624 (reseting env)\n"
          ],
          "name": "stdout"
        },
        {
          "output_type": "stream",
          "text": [
            " 15%|█▌        | 30/200 [02:49<15:42,  5.55s/it]"
          ],
          "name": "stderr"
        },
        {
          "output_type": "stream",
          "text": [
            " Done at step 730 (reseting env)\n"
          ],
          "name": "stdout"
        },
        {
          "output_type": "stream",
          "text": [
            " 16%|█▌        | 31/200 [02:53<15:32,  5.52s/it]"
          ],
          "name": "stderr"
        },
        {
          "output_type": "stream",
          "text": [
            " Done at step 242 (reseting env)\n"
          ],
          "name": "stdout"
        },
        {
          "output_type": "stream",
          "text": [
            " 16%|█▌        | 31/200 [02:53<15:32,  5.52s/it]"
          ],
          "name": "stderr"
        },
        {
          "output_type": "stream",
          "text": [
            " Done at step 340 (reseting env)\n"
          ],
          "name": "stdout"
        },
        {
          "output_type": "stream",
          "text": [
            " 16%|█▌        | 32/200 [03:00<15:25,  5.51s/it]"
          ],
          "name": "stderr"
        },
        {
          "output_type": "stream",
          "text": [
            " Done at step 566 (reseting env)\n"
          ],
          "name": "stdout"
        },
        {
          "output_type": "stream",
          "text": [
            " 16%|█▌        | 32/200 [03:01<15:25,  5.51s/it]"
          ],
          "name": "stderr"
        },
        {
          "output_type": "stream",
          "text": [
            " Done at step 860 (reseting env)\n"
          ],
          "name": "stdout"
        },
        {
          "output_type": "stream",
          "text": [
            " 16%|█▌        | 32/200 [03:01<15:25,  5.51s/it]"
          ],
          "name": "stderr"
        },
        {
          "output_type": "stream",
          "text": [
            " Done at step 997 (reseting env)\n"
          ],
          "name": "stdout"
        },
        {
          "output_type": "stream",
          "text": [
            " 16%|█▋        | 33/200 [03:04<15:21,  5.52s/it]"
          ],
          "name": "stderr"
        },
        {
          "output_type": "stream",
          "text": [
            " Done at step 14 (reseting env)\n"
          ],
          "name": "stdout"
        },
        {
          "output_type": "stream",
          "text": [
            " 16%|█▋        | 33/200 [03:05<15:21,  5.52s/it]"
          ],
          "name": "stderr"
        },
        {
          "output_type": "stream",
          "text": [
            " Done at step 326 (reseting env)\n"
          ],
          "name": "stdout"
        },
        {
          "output_type": "stream",
          "text": [
            " 16%|█▋        | 33/200 [03:05<15:21,  5.52s/it]"
          ],
          "name": "stderr"
        },
        {
          "output_type": "stream",
          "text": [
            " Done at step 461 (reseting env)\n"
          ],
          "name": "stdout"
        },
        {
          "output_type": "stream",
          "text": [
            " 17%|█▋        | 34/200 [03:11<15:21,  5.55s/it]"
          ],
          "name": "stderr"
        },
        {
          "output_type": "stream",
          "text": [
            " Done at step 654 (reseting env)\n"
          ],
          "name": "stdout"
        },
        {
          "output_type": "stream",
          "text": [
            " 18%|█▊        | 35/200 [03:15<15:14,  5.54s/it]"
          ],
          "name": "stderr"
        },
        {
          "output_type": "stream",
          "text": [
            " Done at step 190 (reseting env)\n"
          ],
          "name": "stdout"
        },
        {
          "output_type": "stream",
          "text": [
            " 18%|█▊        | 35/200 [03:17<15:14,  5.54s/it]"
          ],
          "name": "stderr"
        },
        {
          "output_type": "stream",
          "text": [
            " Done at step 632 (reseting env)\n",
            " Done at step 678 (reseting env)\n"
          ],
          "name": "stdout"
        },
        {
          "output_type": "stream",
          "text": [
            " 18%|█▊        | 36/200 [03:21<15:06,  5.53s/it]"
          ],
          "name": "stderr"
        },
        {
          "output_type": "stream",
          "text": [
            " Done at step 256 (reseting env)\n"
          ],
          "name": "stdout"
        },
        {
          "output_type": "stream",
          "text": [
            " 18%|█▊        | 37/200 [03:26<15:15,  5.62s/it]"
          ],
          "name": "stderr"
        },
        {
          "output_type": "stream",
          "text": [
            " Done at step 6 (reseting env)\n"
          ],
          "name": "stdout"
        },
        {
          "output_type": "stream",
          "text": [
            " 18%|█▊        | 37/200 [03:27<15:15,  5.62s/it]"
          ],
          "name": "stderr"
        },
        {
          "output_type": "stream",
          "text": [
            " Done at step 179 (reseting env)\n"
          ],
          "name": "stdout"
        },
        {
          "output_type": "stream",
          "text": [
            " 18%|█▊        | 37/200 [03:27<15:15,  5.62s/it]"
          ],
          "name": "stderr"
        },
        {
          "output_type": "stream",
          "text": [
            " Done at step 277 (reseting env)\n"
          ],
          "name": "stdout"
        },
        {
          "output_type": "stream",
          "text": [
            " 18%|█▊        | 37/200 [03:28<15:15,  5.62s/it]"
          ],
          "name": "stderr"
        },
        {
          "output_type": "stream",
          "text": [
            " Done at step 549 (reseting env)\n"
          ],
          "name": "stdout"
        },
        {
          "output_type": "stream",
          "text": [
            "                                                "
          ],
          "name": "stderr"
        },
        {
          "output_type": "stream",
          "text": [
            " Done at step 98 (reseting env)\n"
          ],
          "name": "stdout"
        },
        {
          "output_type": "stream",
          "text": [
            " 20%|█▉        | 39/200 [03:38<15:09,  5.65s/it]"
          ],
          "name": "stderr"
        },
        {
          "output_type": "stream",
          "text": [
            " Done at step 148 (reseting env)\n"
          ],
          "name": "stdout"
        },
        {
          "output_type": "stream",
          "text": [
            " 20%|█▉        | 39/200 [03:38<15:09,  5.65s/it]"
          ],
          "name": "stderr"
        },
        {
          "output_type": "stream",
          "text": [
            " Done at step 245 (reseting env)\n",
            " Done at step 263 (reseting env)\n"
          ],
          "name": "stdout"
        },
        {
          "output_type": "stream",
          "text": [
            " 20%|█▉        | 39/200 [03:40<15:09,  5.65s/it]"
          ],
          "name": "stderr"
        },
        {
          "output_type": "stream",
          "text": [
            " Done at step 569 (reseting env)\n"
          ],
          "name": "stdout"
        },
        {
          "output_type": "stream",
          "text": [
            " 20%|██        | 40/200 [03:49<19:49,  7.44s/it]"
          ],
          "name": "stderr"
        },
        {
          "output_type": "stream",
          "text": [
            " Saved trajectory 40 (of 200)\n",
            "\n",
            " Mean reward: 0.03, ep_rewards.shape == (1000,)\n"
          ],
          "name": "stdout"
        },
        {
          "output_type": "stream",
          "text": [
            " 20%|██        | 41/200 [03:55<18:04,  6.82s/it]"
          ],
          "name": "stderr"
        },
        {
          "output_type": "stream",
          "text": [
            " Done at step 107 (reseting env)\n"
          ],
          "name": "stdout"
        },
        {
          "output_type": "stream",
          "text": [
            " 20%|██        | 41/200 [03:55<18:04,  6.82s/it]"
          ],
          "name": "stderr"
        },
        {
          "output_type": "stream",
          "text": [
            " Done at step 215 (reseting env)\n"
          ],
          "name": "stdout"
        },
        {
          "output_type": "stream",
          "text": [
            " 20%|██        | 41/200 [03:56<18:04,  6.82s/it]"
          ],
          "name": "stderr"
        },
        {
          "output_type": "stream",
          "text": [
            " Done at step 496 (reseting env)\n"
          ],
          "name": "stdout"
        },
        {
          "output_type": "stream",
          "text": [
            " 21%|██        | 42/200 [04:00<17:05,  6.49s/it]"
          ],
          "name": "stderr"
        },
        {
          "output_type": "stream",
          "text": [
            " Done at step 103 (reseting env)\n"
          ],
          "name": "stdout"
        },
        {
          "output_type": "stream",
          "text": [
            " 21%|██        | 42/200 [04:01<17:05,  6.49s/it]"
          ],
          "name": "stderr"
        },
        {
          "output_type": "stream",
          "text": [
            " Done at step 206 (reseting env)\n"
          ],
          "name": "stdout"
        },
        {
          "output_type": "stream",
          "text": [
            " 21%|██        | 42/200 [04:01<17:05,  6.49s/it]"
          ],
          "name": "stderr"
        },
        {
          "output_type": "stream",
          "text": [
            " Done at step 427 (reseting env)\n"
          ],
          "name": "stdout"
        },
        {
          "output_type": "stream",
          "text": [
            " 22%|██▏       | 43/200 [04:08<16:29,  6.30s/it]"
          ],
          "name": "stderr"
        },
        {
          "output_type": "stream",
          "text": [
            " Done at step 617 (reseting env)\n"
          ],
          "name": "stdout"
        },
        {
          "output_type": "stream",
          "text": [
            " 22%|██▏       | 43/200 [04:09<16:29,  6.30s/it]"
          ],
          "name": "stderr"
        },
        {
          "output_type": "stream",
          "text": [
            " Done at step 926 (reseting env)\n"
          ],
          "name": "stdout"
        },
        {
          "output_type": "stream",
          "text": [
            " 22%|██▏       | 43/200 [04:09<16:29,  6.30s/it]"
          ],
          "name": "stderr"
        },
        {
          "output_type": "stream",
          "text": [
            " Done at step 1000 (reseting env)\n"
          ],
          "name": "stdout"
        },
        {
          "output_type": "stream",
          "text": [
            " 22%|██▏       | 44/200 [04:12<15:56,  6.13s/it]"
          ],
          "name": "stderr"
        },
        {
          "output_type": "stream",
          "text": [
            " Done at step 17 (reseting env)\n"
          ],
          "name": "stdout"
        },
        {
          "output_type": "stream",
          "text": [
            " 22%|██▎       | 45/200 [04:17<15:24,  5.97s/it]"
          ],
          "name": "stderr"
        },
        {
          "output_type": "stream",
          "text": [
            " Done at step 4 (reseting env)\n"
          ],
          "name": "stdout"
        },
        {
          "output_type": "stream",
          "text": [
            " 22%|██▎       | 45/200 [04:18<15:24,  5.97s/it]"
          ],
          "name": "stderr"
        },
        {
          "output_type": "stream",
          "text": [
            " Done at step 140 (reseting env)\n"
          ],
          "name": "stdout"
        },
        {
          "output_type": "stream",
          "text": [
            " 22%|██▎       | 45/200 [04:19<15:24,  5.97s/it]"
          ],
          "name": "stderr"
        },
        {
          "output_type": "stream",
          "text": [
            " Done at step 740 (reseting env)\n"
          ],
          "name": "stdout"
        },
        {
          "output_type": "stream",
          "text": [
            " 22%|██▎       | 45/200 [04:20<15:24,  5.97s/it]"
          ],
          "name": "stderr"
        },
        {
          "output_type": "stream",
          "text": [
            " Done at step 905 (reseting env)\n"
          ],
          "name": "stdout"
        },
        {
          "output_type": "stream",
          "text": [
            " 23%|██▎       | 46/200 [04:24<15:09,  5.91s/it]"
          ],
          "name": "stderr"
        },
        {
          "output_type": "stream",
          "text": [
            " Done at step 304 (reseting env)\n"
          ],
          "name": "stdout"
        },
        {
          "output_type": "stream",
          "text": [
            " 24%|██▎       | 47/200 [04:31<14:45,  5.79s/it]"
          ],
          "name": "stderr"
        },
        {
          "output_type": "stream",
          "text": [
            " Done at step 771 (reseting env)\n"
          ],
          "name": "stdout"
        },
        {
          "output_type": "stream",
          "text": [
            " 24%|██▎       | 47/200 [04:31<14:45,  5.79s/it]"
          ],
          "name": "stderr"
        },
        {
          "output_type": "stream",
          "text": [
            " Done at step 983 (reseting env)\n"
          ],
          "name": "stdout"
        },
        {
          "output_type": "stream",
          "text": [
            " 24%|██▍       | 48/200 [04:35<14:37,  5.77s/it]"
          ],
          "name": "stderr"
        },
        {
          "output_type": "stream",
          "text": [
            " Done at step 410 (reseting env)\n"
          ],
          "name": "stdout"
        },
        {
          "output_type": "stream",
          "text": [
            " 24%|██▍       | 48/200 [04:36<14:37,  5.77s/it]"
          ],
          "name": "stderr"
        },
        {
          "output_type": "stream",
          "text": [
            " Done at step 481 (reseting env)\n"
          ],
          "name": "stdout"
        },
        {
          "output_type": "stream",
          "text": [
            " 24%|██▍       | 48/200 [04:36<14:37,  5.77s/it]"
          ],
          "name": "stderr"
        },
        {
          "output_type": "stream",
          "text": [
            " Done at step 647 (reseting env)\n"
          ],
          "name": "stdout"
        },
        {
          "output_type": "stream",
          "text": [
            " 24%|██▍       | 48/200 [04:37<14:37,  5.77s/it]"
          ],
          "name": "stderr"
        },
        {
          "output_type": "stream",
          "text": [
            " Done at step 714 (reseting env)\n"
          ],
          "name": "stdout"
        },
        {
          "output_type": "stream",
          "text": [
            " 24%|██▍       | 49/200 [04:42<14:30,  5.77s/it]"
          ],
          "name": "stderr"
        },
        {
          "output_type": "stream",
          "text": [
            " Done at step 668 (reseting env)\n"
          ],
          "name": "stdout"
        },
        {
          "output_type": "stream",
          "text": [
            " 25%|██▌       | 50/200 [04:46<14:21,  5.75s/it]"
          ],
          "name": "stderr"
        },
        {
          "output_type": "stream",
          "text": [
            " Saved trajectory 50 (of 200)\n",
            "\n",
            " Mean reward: 0.04, ep_rewards.shape == (1000,)\n"
          ],
          "name": "stdout"
        },
        {
          "output_type": "stream",
          "text": [
            " 25%|██▌       | 50/200 [04:47<14:21,  5.75s/it]"
          ],
          "name": "stderr"
        },
        {
          "output_type": "stream",
          "text": [
            " Done at step 344 (reseting env)\n"
          ],
          "name": "stdout"
        },
        {
          "output_type": "stream",
          "text": [
            " 25%|██▌       | 50/200 [04:49<14:21,  5.75s/it]"
          ],
          "name": "stderr"
        },
        {
          "output_type": "stream",
          "text": [
            " Done at step 954 (reseting env)\n"
          ],
          "name": "stdout"
        },
        {
          "output_type": "stream",
          "text": [
            " 26%|██▌       | 51/200 [04:52<14:09,  5.70s/it]"
          ],
          "name": "stderr"
        },
        {
          "output_type": "stream",
          "text": [
            " Done at step 343 (reseting env)\n"
          ],
          "name": "stdout"
        },
        {
          "output_type": "stream",
          "text": [
            " 26%|██▌       | 51/200 [04:53<14:09,  5.70s/it]"
          ],
          "name": "stderr"
        },
        {
          "output_type": "stream",
          "text": [
            " Done at step 567 (reseting env)\n"
          ],
          "name": "stdout"
        },
        {
          "output_type": "stream",
          "text": [
            " 26%|██▌       | 52/200 [05:00<13:53,  5.63s/it]"
          ],
          "name": "stderr"
        },
        {
          "output_type": "stream",
          "text": [
            " Done at step 959 (reseting env)\n"
          ],
          "name": "stdout"
        },
        {
          "output_type": "stream",
          "text": [
            "  0%|          | 0/200 [45:47<?, ?it/s]"
          ],
          "name": "stderr"
        },
        {
          "output_type": "stream",
          "text": [
            " Done at step 5 (reseting env)\n",
            " Done at step 55 (reseting env)\n"
          ],
          "name": "stdout"
        },
        {
          "output_type": "stream",
          "text": [
            " 26%|██▋       | 53/200 [05:04<13:46,  5.62s/it]"
          ],
          "name": "stderr"
        },
        {
          "output_type": "stream",
          "text": [
            " Done at step 375 (reseting env)\n"
          ],
          "name": "stdout"
        },
        {
          "output_type": "stream",
          "text": [
            " 26%|██▋       | 53/200 [05:04<13:46,  5.62s/it]"
          ],
          "name": "stderr"
        },
        {
          "output_type": "stream",
          "text": [
            " Done at step 509 (reseting env)\n"
          ],
          "name": "stdout"
        },
        {
          "output_type": "stream",
          "text": [
            " 26%|██▋       | 53/200 [05:05<13:46,  5.62s/it]"
          ],
          "name": "stderr"
        },
        {
          "output_type": "stream",
          "text": [
            " Done at step 837 (reseting env)\n"
          ],
          "name": "stdout"
        },
        {
          "output_type": "stream",
          "text": [
            " 26%|██▋       | 53/200 [05:05<13:46,  5.62s/it]"
          ],
          "name": "stderr"
        },
        {
          "output_type": "stream",
          "text": [
            " Done at step 954 (reseting env)\n"
          ],
          "name": "stdout"
        },
        {
          "output_type": "stream",
          "text": [
            " 27%|██▋       | 54/200 [05:09<13:58,  5.74s/it]"
          ],
          "name": "stderr"
        },
        {
          "output_type": "stream",
          "text": [
            " Done at step 103 (reseting env)\n"
          ],
          "name": "stdout"
        },
        {
          "output_type": "stream",
          "text": [
            " 27%|██▋       | 54/200 [05:10<13:58,  5.74s/it]"
          ],
          "name": "stderr"
        },
        {
          "output_type": "stream",
          "text": [
            " Done at step 512 (reseting env)\n"
          ],
          "name": "stdout"
        },
        {
          "output_type": "stream",
          "text": [
            " 28%|██▊       | 55/200 [05:15<13:47,  5.71s/it]"
          ],
          "name": "stderr"
        },
        {
          "output_type": "stream",
          "text": [
            " Done at step 225 (reseting env)\n"
          ],
          "name": "stdout"
        },
        {
          "output_type": "stream",
          "text": [
            " 28%|██▊       | 55/200 [05:16<13:47,  5.71s/it]"
          ],
          "name": "stderr"
        },
        {
          "output_type": "stream",
          "text": [
            " Done at step 572 (reseting env)\n"
          ],
          "name": "stdout"
        },
        {
          "output_type": "stream",
          "text": [
            " 28%|██▊       | 55/200 [05:17<13:47,  5.71s/it]"
          ],
          "name": "stderr"
        },
        {
          "output_type": "stream",
          "text": [
            " Done at step 935 (reseting env)\n"
          ],
          "name": "stdout"
        },
        {
          "output_type": "stream",
          "text": [
            " 28%|██▊       | 56/200 [05:21<13:36,  5.67s/it]"
          ],
          "name": "stderr"
        },
        {
          "output_type": "stream",
          "text": [
            " Done at step 476 (reseting env)\n"
          ],
          "name": "stdout"
        },
        {
          "output_type": "stream",
          "text": [
            " 28%|██▊       | 56/200 [05:21<13:36,  5.67s/it]"
          ],
          "name": "stderr"
        },
        {
          "output_type": "stream",
          "text": [
            " Done at step 597 (reseting env)\n"
          ],
          "name": "stdout"
        },
        {
          "output_type": "stream",
          "text": [
            " 28%|██▊       | 56/200 [05:22<13:36,  5.67s/it]"
          ],
          "name": "stderr"
        },
        {
          "output_type": "stream",
          "text": [
            " Done at step 781 (reseting env)\n"
          ],
          "name": "stdout"
        },
        {
          "output_type": "stream",
          "text": [
            " 28%|██▊       | 57/200 [05:25<13:26,  5.64s/it]"
          ],
          "name": "stderr"
        },
        {
          "output_type": "stream",
          "text": [
            " Done at step 7 (reseting env)\n"
          ],
          "name": "stdout"
        },
        {
          "output_type": "stream",
          "text": [
            " 29%|██▉       | 58/200 [05:31<13:17,  5.62s/it]"
          ],
          "name": "stderr"
        },
        {
          "output_type": "stream",
          "text": [
            " Done at step 48 (reseting env)\n"
          ],
          "name": "stdout"
        },
        {
          "output_type": "stream",
          "text": [
            " 29%|██▉       | 58/200 [05:32<13:17,  5.62s/it]"
          ],
          "name": "stderr"
        },
        {
          "output_type": "stream",
          "text": [
            " Done at step 507 (reseting env)\n"
          ],
          "name": "stdout"
        },
        {
          "output_type": "stream",
          "text": [
            " 29%|██▉       | 58/200 [05:32<13:17,  5.62s/it]"
          ],
          "name": "stderr"
        },
        {
          "output_type": "stream",
          "text": [
            " Done at step 570 (reseting env)\n"
          ],
          "name": "stdout"
        },
        {
          "output_type": "stream",
          "text": [
            " 29%|██▉       | 58/200 [05:33<13:17,  5.62s/it]"
          ],
          "name": "stderr"
        },
        {
          "output_type": "stream",
          "text": [
            " Done at step 636 (reseting env)\n"
          ],
          "name": "stdout"
        },
        {
          "output_type": "stream",
          "text": [
            " 30%|███       | 60/200 [05:42<13:00,  5.58s/it]"
          ],
          "name": "stderr"
        },
        {
          "output_type": "stream",
          "text": [
            " Saved trajectory 60 (of 200)\n",
            "\n",
            " Mean reward: 0.06, ep_rewards.shape == (1000,)\n"
          ],
          "name": "stdout"
        },
        {
          "output_type": "stream",
          "text": [
            " 30%|███       | 60/200 [05:43<13:00,  5.58s/it]"
          ],
          "name": "stderr"
        },
        {
          "output_type": "stream",
          "text": [
            " Done at step 537 (reseting env)\n"
          ],
          "name": "stdout"
        },
        {
          "output_type": "stream",
          "text": [
            " 30%|███       | 60/200 [05:44<13:00,  5.58s/it]"
          ],
          "name": "stderr"
        },
        {
          "output_type": "stream",
          "text": [
            " Done at step 811 (reseting env)\n",
            " Done at step 860 (reseting env)\n"
          ],
          "name": "stdout"
        },
        {
          "output_type": "stream",
          "text": [
            " 30%|███       | 61/200 [05:48<12:56,  5.59s/it]"
          ],
          "name": "stderr"
        },
        {
          "output_type": "stream",
          "text": [
            " Done at step 84 (reseting env)\n"
          ],
          "name": "stdout"
        },
        {
          "output_type": "stream",
          "text": [
            " 31%|███       | 62/200 [05:53<12:45,  5.55s/it]"
          ],
          "name": "stderr"
        },
        {
          "output_type": "stream",
          "text": [
            " Done at step 47 (reseting env)\n"
          ],
          "name": "stdout"
        },
        {
          "output_type": "stream",
          "text": [
            " 31%|███       | 62/200 [05:54<12:45,  5.55s/it]"
          ],
          "name": "stderr"
        },
        {
          "output_type": "stream",
          "text": [
            " Done at step 196 (reseting env)\n"
          ],
          "name": "stdout"
        },
        {
          "output_type": "stream",
          "text": [
            " 31%|███       | 62/200 [05:54<12:45,  5.55s/it]"
          ],
          "name": "stderr"
        },
        {
          "output_type": "stream",
          "text": [
            " Done at step 418 (reseting env)\n"
          ],
          "name": "stdout"
        },
        {
          "output_type": "stream",
          "text": [
            " 31%|███       | 62/200 [05:56<12:45,  5.55s/it]"
          ],
          "name": "stderr"
        },
        {
          "output_type": "stream",
          "text": [
            " Done at step 832 (reseting env)\n"
          ],
          "name": "stdout"
        },
        {
          "output_type": "stream",
          "text": [
            " 32%|███▏      | 64/200 [06:05<12:28,  5.50s/it]"
          ],
          "name": "stderr"
        },
        {
          "output_type": "stream",
          "text": [
            " Done at step 229 (reseting env)\n"
          ],
          "name": "stdout"
        },
        {
          "output_type": "stream",
          "text": [
            " 32%|███▏      | 64/200 [06:05<12:28,  5.50s/it]"
          ],
          "name": "stderr"
        },
        {
          "output_type": "stream",
          "text": [
            " Done at step 326 (reseting env)\n"
          ],
          "name": "stdout"
        },
        {
          "output_type": "stream",
          "text": [
            " 32%|███▎      | 65/200 [06:11<12:30,  5.56s/it]"
          ],
          "name": "stderr"
        },
        {
          "output_type": "stream",
          "text": [
            " Done at step 602 (reseting env)\n"
          ],
          "name": "stdout"
        },
        {
          "output_type": "stream",
          "text": [
            " 33%|███▎      | 66/200 [06:16<12:29,  5.60s/it]"
          ],
          "name": "stderr"
        },
        {
          "output_type": "stream",
          "text": [
            " Done at step 141 (reseting env)\n"
          ],
          "name": "stdout"
        },
        {
          "output_type": "stream",
          "text": [
            " 34%|███▎      | 67/200 [06:21<12:18,  5.55s/it]"
          ],
          "name": "stderr"
        },
        {
          "output_type": "stream",
          "text": [
            " Done at step 3 (reseting env)\n"
          ],
          "name": "stdout"
        },
        {
          "output_type": "stream",
          "text": [
            " 34%|███▎      | 67/200 [06:21<12:18,  5.55s/it]"
          ],
          "name": "stderr"
        },
        {
          "output_type": "stream",
          "text": [
            " Done at step 146 (reseting env)\n"
          ],
          "name": "stdout"
        },
        {
          "output_type": "stream",
          "text": [
            " 34%|███▍      | 68/200 [06:27<12:11,  5.54s/it]"
          ],
          "name": "stderr"
        },
        {
          "output_type": "stream",
          "text": [
            " Done at step 312 (reseting env)\n"
          ],
          "name": "stdout"
        },
        {
          "output_type": "stream",
          "text": [
            " 34%|███▍      | 68/200 [06:27<12:11,  5.54s/it]"
          ],
          "name": "stderr"
        },
        {
          "output_type": "stream",
          "text": [
            " Done at step 387 (reseting env)\n"
          ],
          "name": "stdout"
        },
        {
          "output_type": "stream",
          "text": [
            " 34%|███▍      | 68/200 [06:28<12:11,  5.54s/it]"
          ],
          "name": "stderr"
        },
        {
          "output_type": "stream",
          "text": [
            " Done at step 717 (reseting env)\n"
          ],
          "name": "stdout"
        },
        {
          "output_type": "stream",
          "text": [
            " 34%|███▍      | 68/200 [06:29<12:11,  5.54s/it]"
          ],
          "name": "stderr"
        },
        {
          "output_type": "stream",
          "text": [
            " Done at step 893 (reseting env)\n"
          ],
          "name": "stdout"
        },
        {
          "output_type": "stream",
          "text": [
            " 34%|███▍      | 69/200 [06:32<12:12,  5.59s/it]"
          ],
          "name": "stderr"
        },
        {
          "output_type": "stream",
          "text": [
            " Done at step 24 (reseting env)\n"
          ],
          "name": "stdout"
        },
        {
          "output_type": "stream",
          "text": [
            " 35%|███▌      | 70/200 [06:38<12:09,  5.61s/it]"
          ],
          "name": "stderr"
        },
        {
          "output_type": "stream",
          "text": [
            " Saved trajectory 70 (of 200)\n",
            "\n",
            " Mean reward: 0.03, ep_rewards.shape == (1000,)\n",
            " Done at step 8 (reseting env)\n"
          ],
          "name": "stdout"
        },
        {
          "output_type": "stream",
          "text": [
            " 35%|███▌      | 70/200 [06:39<12:09,  5.61s/it]"
          ],
          "name": "stderr"
        },
        {
          "output_type": "stream",
          "text": [
            " Done at step 392 (reseting env)\n"
          ],
          "name": "stdout"
        },
        {
          "output_type": "stream",
          "text": [
            " 36%|███▌      | 72/200 [06:49<12:13,  5.73s/it]"
          ],
          "name": "stderr"
        },
        {
          "output_type": "stream",
          "text": [
            " Done at step 4 (reseting env)\n"
          ],
          "name": "stdout"
        },
        {
          "output_type": "stream",
          "text": [
            " 36%|███▌      | 72/200 [06:50<12:13,  5.73s/it]"
          ],
          "name": "stderr"
        },
        {
          "output_type": "stream",
          "text": [
            " Done at step 157 (reseting env)\n"
          ],
          "name": "stdout"
        },
        {
          "output_type": "stream",
          "text": [
            " 36%|███▌      | 72/200 [06:51<12:13,  5.73s/it]"
          ],
          "name": "stderr"
        },
        {
          "output_type": "stream",
          "text": [
            " Done at step 514 (reseting env)\n"
          ],
          "name": "stdout"
        },
        {
          "output_type": "stream",
          "text": [
            " 36%|███▋      | 73/200 [06:56<12:04,  5.70s/it]"
          ],
          "name": "stderr"
        },
        {
          "output_type": "stream",
          "text": [
            " Done at step 375 (reseting env)\n"
          ],
          "name": "stdout"
        },
        {
          "output_type": "stream",
          "text": [
            " 36%|███▋      | 73/200 [06:57<12:04,  5.70s/it]"
          ],
          "name": "stderr"
        },
        {
          "output_type": "stream",
          "text": [
            " Done at step 755 (reseting env)\n"
          ],
          "name": "stdout"
        },
        {
          "output_type": "stream",
          "text": [
            " 37%|███▋      | 74/200 [07:03<11:55,  5.68s/it]"
          ],
          "name": "stderr"
        },
        {
          "output_type": "stream",
          "text": [
            " Done at step 994 (reseting env)\n"
          ],
          "name": "stdout"
        },
        {
          "output_type": "stream",
          "text": [
            " 38%|███▊      | 75/200 [07:06<11:38,  5.59s/it]"
          ],
          "name": "stderr"
        },
        {
          "output_type": "stream",
          "text": [
            " Done at step 11 (reseting env)\n"
          ],
          "name": "stdout"
        },
        {
          "output_type": "stream",
          "text": [
            " 38%|███▊      | 75/200 [07:07<11:38,  5.59s/it]"
          ],
          "name": "stderr"
        },
        {
          "output_type": "stream",
          "text": [
            " Done at step 247 (reseting env)\n"
          ],
          "name": "stdout"
        },
        {
          "output_type": "stream",
          "text": [
            " 38%|███▊      | 76/200 [07:13<11:30,  5.57s/it]"
          ],
          "name": "stderr"
        },
        {
          "output_type": "stream",
          "text": [
            " Done at step 664 (reseting env)\n"
          ],
          "name": "stdout"
        },
        {
          "output_type": "stream",
          "text": [
            " 38%|███▊      | 76/200 [07:14<11:30,  5.57s/it]"
          ],
          "name": "stderr"
        },
        {
          "output_type": "stream",
          "text": [
            " Done at step 806 (reseting env)\n"
          ],
          "name": "stdout"
        },
        {
          "output_type": "stream",
          "text": [
            " 38%|███▊      | 77/200 [07:17<11:32,  5.63s/it]"
          ],
          "name": "stderr"
        },
        {
          "output_type": "stream",
          "text": [
            " Done at step 14 (reseting env)\n"
          ],
          "name": "stdout"
        },
        {
          "output_type": "stream",
          "text": [
            " 39%|███▉      | 78/200 [07:25<11:24,  5.61s/it]"
          ],
          "name": "stderr"
        },
        {
          "output_type": "stream",
          "text": [
            " Done at step 892 (reseting env)\n"
          ],
          "name": "stdout"
        },
        {
          "output_type": "stream",
          "text": [
            " 40%|███▉      | 79/200 [07:28<11:11,  5.55s/it]"
          ],
          "name": "stderr"
        },
        {
          "output_type": "stream",
          "text": [
            " Done at step 8 (reseting env)\n"
          ],
          "name": "stdout"
        },
        {
          "output_type": "stream",
          "text": [
            " 40%|███▉      | 79/200 [07:29<11:11,  5.55s/it]"
          ],
          "name": "stderr"
        },
        {
          "output_type": "stream",
          "text": [
            " Done at step 324 (reseting env)\n"
          ],
          "name": "stdout"
        },
        {
          "output_type": "stream",
          "text": [
            " 40%|███▉      | 79/200 [07:30<11:11,  5.55s/it]"
          ],
          "name": "stderr"
        },
        {
          "output_type": "stream",
          "text": [
            " Done at step 487 (reseting env)\n"
          ],
          "name": "stdout"
        },
        {
          "output_type": "stream",
          "text": [
            " 40%|███▉      | 79/200 [07:31<11:11,  5.55s/it]"
          ],
          "name": "stderr"
        },
        {
          "output_type": "stream",
          "text": [
            " Done at step 883 (reseting env)\n",
            " Done at step 924 (reseting env)\n"
          ],
          "name": "stdout"
        },
        {
          "output_type": "stream",
          "text": [
            " 40%|████      | 80/200 [07:34<11:23,  5.70s/it]"
          ],
          "name": "stderr"
        },
        {
          "output_type": "stream",
          "text": [
            " Saved trajectory 80 (of 200)\n",
            "\n",
            " Mean reward: 0.03, ep_rewards.shape == (1000,)\n",
            " Done at step 8 (reseting env)\n"
          ],
          "name": "stdout"
        },
        {
          "output_type": "stream",
          "text": [
            " 40%|████      | 81/200 [07:40<11:10,  5.63s/it]"
          ],
          "name": "stderr"
        },
        {
          "output_type": "stream",
          "text": [
            " Done at step 5 (reseting env)\n"
          ],
          "name": "stdout"
        },
        {
          "output_type": "stream",
          "text": [
            " 40%|████      | 81/200 [07:40<11:10,  5.63s/it]"
          ],
          "name": "stderr"
        },
        {
          "output_type": "stream",
          "text": [
            " Done at step 91 (reseting env)\n"
          ],
          "name": "stdout"
        },
        {
          "output_type": "stream",
          "text": [
            " 40%|████      | 81/200 [07:42<11:10,  5.63s/it]"
          ],
          "name": "stderr"
        },
        {
          "output_type": "stream",
          "text": [
            " Done at step 807 (reseting env)\n"
          ],
          "name": "stdout"
        },
        {
          "output_type": "stream",
          "text": [
            " 40%|████      | 81/200 [07:42<11:10,  5.63s/it]"
          ],
          "name": "stderr"
        },
        {
          "output_type": "stream",
          "text": [
            " Done at step 881 (reseting env)\n"
          ],
          "name": "stdout"
        },
        {
          "output_type": "stream",
          "text": [
            " 40%|████      | 81/200 [07:43<11:10,  5.63s/it]"
          ],
          "name": "stderr"
        },
        {
          "output_type": "stream",
          "text": [
            " Done at step 957 (reseting env)\n"
          ],
          "name": "stdout"
        },
        {
          "output_type": "stream",
          "text": [
            " 42%|████▏     | 83/200 [07:51<10:57,  5.62s/it]"
          ],
          "name": "stderr"
        },
        {
          "output_type": "stream",
          "text": [
            " Done at step 6 (reseting env)\n"
          ],
          "name": "stdout"
        },
        {
          "output_type": "stream",
          "text": [
            " 42%|████▏     | 84/200 [07:56<10:48,  5.59s/it]"
          ],
          "name": "stderr"
        },
        {
          "output_type": "stream",
          "text": [
            " Done at step 10 (reseting env)\n"
          ],
          "name": "stdout"
        },
        {
          "output_type": "stream",
          "text": [
            " 42%|████▏     | 84/200 [07:57<10:48,  5.59s/it]"
          ],
          "name": "stderr"
        },
        {
          "output_type": "stream",
          "text": [
            " Done at step 204 (reseting env)\n"
          ],
          "name": "stdout"
        },
        {
          "output_type": "stream",
          "text": [
            " 42%|████▎     | 85/200 [08:03<10:44,  5.60s/it]"
          ],
          "name": "stderr"
        },
        {
          "output_type": "stream",
          "text": [
            " Done at step 152 (reseting env)\n"
          ],
          "name": "stdout"
        },
        {
          "output_type": "stream",
          "text": [
            " 42%|████▎     | 85/200 [08:03<10:44,  5.60s/it]"
          ],
          "name": "stderr"
        },
        {
          "output_type": "stream",
          "text": [
            " Done at step 273 (reseting env)\n"
          ],
          "name": "stdout"
        },
        {
          "output_type": "stream",
          "text": [
            "                                       "
          ],
          "name": "stderr"
        },
        {
          "output_type": "stream",
          "text": [
            " Done at step 690 (reseting env)\n",
            " Done at step 708 (reseting env)\n"
          ],
          "name": "stdout"
        },
        {
          "output_type": "stream",
          "text": [
            " 43%|████▎     | 86/200 [08:10<10:48,  5.69s/it]"
          ],
          "name": "stderr"
        },
        {
          "output_type": "stream",
          "text": [
            " Done at step 728 (reseting env)\n"
          ],
          "name": "stdout"
        },
        {
          "output_type": "stream",
          "text": [
            " 44%|████▎     | 87/200 [08:15<10:46,  5.72s/it]"
          ],
          "name": "stderr"
        },
        {
          "output_type": "stream",
          "text": [
            " Done at step 409 (reseting env)\n",
            " Done at step 429 (reseting env)\n"
          ],
          "name": "stdout"
        },
        {
          "output_type": "stream",
          "text": [
            " 44%|████▍     | 88/200 [08:19<10:37,  5.69s/it]"
          ],
          "name": "stderr"
        },
        {
          "output_type": "stream",
          "text": [
            " Done at step 5 (reseting env)\n"
          ],
          "name": "stdout"
        },
        {
          "output_type": "stream",
          "text": [
            " 44%|████▍     | 88/200 [08:22<10:37,  5.69s/it]"
          ],
          "name": "stderr"
        },
        {
          "output_type": "stream",
          "text": [
            " Done at step 845 (reseting env)\n"
          ],
          "name": "stdout"
        },
        {
          "output_type": "stream",
          "text": [
            " 44%|████▍     | 89/200 [08:26<10:28,  5.67s/it]"
          ],
          "name": "stderr"
        },
        {
          "output_type": "stream",
          "text": [
            " Done at step 434 (reseting env)\n"
          ],
          "name": "stdout"
        },
        {
          "output_type": "stream",
          "text": [
            " 44%|████▍     | 89/200 [08:27<10:28,  5.67s/it]"
          ],
          "name": "stderr"
        },
        {
          "output_type": "stream",
          "text": [
            " Done at step 698 (reseting env)\n"
          ],
          "name": "stdout"
        },
        {
          "output_type": "stream",
          "text": [
            " 45%|████▌     | 90/200 [08:31<10:19,  5.63s/it]"
          ],
          "name": "stderr"
        },
        {
          "output_type": "stream",
          "text": [
            " Saved trajectory 90 (of 200)\n",
            "\n",
            " Mean reward: 0.05, ep_rewards.shape == (1000,)\n",
            " Done at step 22 (reseting env)\n"
          ],
          "name": "stdout"
        },
        {
          "output_type": "stream",
          "text": [
            " 45%|████▌     | 90/200 [08:31<10:19,  5.63s/it]"
          ],
          "name": "stderr"
        },
        {
          "output_type": "stream",
          "text": [
            " Done at step 193 (reseting env)\n"
          ],
          "name": "stdout"
        },
        {
          "output_type": "stream",
          "text": [
            " 45%|████▌     | 90/200 [08:33<10:19,  5.63s/it]"
          ],
          "name": "stderr"
        },
        {
          "output_type": "stream",
          "text": [
            " Done at step 903 (reseting env)\n"
          ],
          "name": "stdout"
        },
        {
          "output_type": "stream",
          "text": [
            " 45%|████▌     | 90/200 [08:34<10:19,  5.63s/it]"
          ],
          "name": "stderr"
        },
        {
          "output_type": "stream",
          "text": [
            " Done at step 989 (reseting env)\n"
          ],
          "name": "stdout"
        },
        {
          "output_type": "stream",
          "text": [
            " 46%|████▌     | 91/200 [08:37<10:23,  5.72s/it]"
          ],
          "name": "stderr"
        },
        {
          "output_type": "stream",
          "text": [
            " Done at step 181 (reseting env)\n"
          ],
          "name": "stdout"
        },
        {
          "output_type": "stream",
          "text": [
            " 46%|████▌     | 91/200 [08:39<10:23,  5.72s/it]"
          ],
          "name": "stderr"
        },
        {
          "output_type": "stream",
          "text": [
            " Done at step 680 (reseting env)\n"
          ],
          "name": "stdout"
        },
        {
          "output_type": "stream",
          "text": [
            " 46%|████▋     | 93/200 [08:50<10:11,  5.72s/it]"
          ],
          "name": "stderr"
        },
        {
          "output_type": "stream",
          "text": [
            " Done at step 640 (reseting env)\n"
          ],
          "name": "stdout"
        },
        {
          "output_type": "stream",
          "text": [
            " 46%|████▋     | 93/200 [08:50<10:11,  5.72s/it]"
          ],
          "name": "stderr"
        },
        {
          "output_type": "stream",
          "text": [
            " Done at step 701 (reseting env)\n"
          ],
          "name": "stdout"
        },
        {
          "output_type": "stream",
          "text": [
            " 46%|████▋     | 93/200 [08:51<10:11,  5.72s/it]"
          ],
          "name": "stderr"
        },
        {
          "output_type": "stream",
          "text": [
            " Done at step 970 (reseting env)\n"
          ],
          "name": "stdout"
        },
        {
          "output_type": "stream",
          "text": [
            " 47%|████▋     | 94/200 [08:53<09:56,  5.62s/it]"
          ],
          "name": "stderr"
        },
        {
          "output_type": "stream",
          "text": [
            " Done at step 35 (reseting env)\n"
          ],
          "name": "stdout"
        },
        {
          "output_type": "stream",
          "text": [
            " 47%|████▋     | 94/200 [08:55<09:56,  5.62s/it]"
          ],
          "name": "stderr"
        },
        {
          "output_type": "stream",
          "text": [
            " Done at step 472 (reseting env)\n"
          ],
          "name": "stdout"
        },
        {
          "output_type": "stream",
          "text": [
            " 48%|████▊     | 95/200 [08:59<09:53,  5.65s/it]"
          ],
          "name": "stderr"
        },
        {
          "output_type": "stream",
          "text": [
            " Done at step 6 (reseting env)\n"
          ],
          "name": "stdout"
        },
        {
          "output_type": "stream",
          "text": [
            " 48%|████▊     | 95/200 [09:00<09:53,  5.65s/it]"
          ],
          "name": "stderr"
        },
        {
          "output_type": "stream",
          "text": [
            " Done at step 253 (reseting env)\n"
          ],
          "name": "stdout"
        },
        {
          "output_type": "stream",
          "text": [
            " 48%|████▊     | 96/200 [09:05<09:44,  5.62s/it]"
          ],
          "name": "stderr"
        },
        {
          "output_type": "stream",
          "text": [
            " Done at step 2 (reseting env)\n"
          ],
          "name": "stdout"
        },
        {
          "output_type": "stream",
          "text": [
            " 48%|████▊     | 97/200 [09:10<09:34,  5.57s/it]"
          ],
          "name": "stderr"
        },
        {
          "output_type": "stream",
          "text": [
            " Done at step 2 (reseting env)\n"
          ],
          "name": "stdout"
        },
        {
          "output_type": "stream",
          "text": [
            " 48%|████▊     | 97/200 [09:12<09:34,  5.57s/it]"
          ],
          "name": "stderr"
        },
        {
          "output_type": "stream",
          "text": [
            " Done at step 570 (reseting env)\n"
          ],
          "name": "stdout"
        },
        {
          "output_type": "stream",
          "text": [
            " 48%|████▊     | 97/200 [09:13<09:34,  5.57s/it]"
          ],
          "name": "stderr"
        },
        {
          "output_type": "stream",
          "text": [
            " Done at step 863 (reseting env)\n"
          ],
          "name": "stdout"
        },
        {
          "output_type": "stream",
          "text": [
            " 49%|████▉     | 98/200 [09:16<09:27,  5.56s/it]"
          ],
          "name": "stderr"
        },
        {
          "output_type": "stream",
          "text": [
            " Done at step 6 (reseting env)\n"
          ],
          "name": "stdout"
        },
        {
          "output_type": "stream",
          "text": [
            " 49%|████▉     | 98/200 [09:17<09:27,  5.56s/it]"
          ],
          "name": "stderr"
        },
        {
          "output_type": "stream",
          "text": [
            " Done at step 608 (reseting env)\n"
          ],
          "name": "stdout"
        },
        {
          "output_type": "stream",
          "text": [
            " 49%|████▉     | 98/200 [09:18<09:27,  5.56s/it]"
          ],
          "name": "stderr"
        },
        {
          "output_type": "stream",
          "text": [
            " Done at step 750 (reseting env)\n"
          ],
          "name": "stdout"
        },
        {
          "output_type": "stream",
          "text": [
            " 50%|████▉     | 99/200 [09:21<09:24,  5.59s/it]"
          ],
          "name": "stderr"
        },
        {
          "output_type": "stream",
          "text": [
            " Done at step 3 (reseting env)\n"
          ],
          "name": "stdout"
        },
        {
          "output_type": "stream",
          "text": [
            " 50%|█████     | 100/200 [09:27<09:23,  5.64s/it]"
          ],
          "name": "stderr"
        },
        {
          "output_type": "stream",
          "text": [
            " Saved trajectory 100 (of 200)\n",
            "\n",
            " Mean reward: 0.04, ep_rewards.shape == (1000,)\n",
            " Done at step 1 (reseting env)\n"
          ],
          "name": "stdout"
        },
        {
          "output_type": "stream",
          "text": [
            " 50%|█████     | 100/200 [09:27<09:23,  5.64s/it]"
          ],
          "name": "stderr"
        },
        {
          "output_type": "stream",
          "text": [
            " Done at step 126 (reseting env)\n"
          ],
          "name": "stdout"
        },
        {
          "output_type": "stream",
          "text": [
            " 50%|█████     | 100/200 [09:29<09:23,  5.64s/it]"
          ],
          "name": "stderr"
        },
        {
          "output_type": "stream",
          "text": [
            " Done at step 661 (reseting env)\n"
          ],
          "name": "stdout"
        },
        {
          "output_type": "stream",
          "text": [
            " 50%|█████     | 101/200 [09:33<09:16,  5.62s/it]"
          ],
          "name": "stderr"
        },
        {
          "output_type": "stream",
          "text": [
            " Done at step 6 (reseting env)\n"
          ],
          "name": "stdout"
        },
        {
          "output_type": "stream",
          "text": [
            " 51%|█████     | 102/200 [09:38<09:11,  5.63s/it]"
          ],
          "name": "stderr"
        },
        {
          "output_type": "stream",
          "text": [
            " Done at step 1 (reseting env)\n"
          ],
          "name": "stdout"
        },
        {
          "output_type": "stream",
          "text": [
            " 51%|█████     | 102/200 [09:39<09:11,  5.63s/it]"
          ],
          "name": "stderr"
        },
        {
          "output_type": "stream",
          "text": [
            " Done at step 243 (reseting env)\n"
          ],
          "name": "stdout"
        },
        {
          "output_type": "stream",
          "text": [
            " 51%|█████     | 102/200 [09:40<09:11,  5.63s/it]"
          ],
          "name": "stderr"
        },
        {
          "output_type": "stream",
          "text": [
            " Done at step 426 (reseting env)\n"
          ],
          "name": "stdout"
        },
        {
          "output_type": "stream",
          "text": [
            " 52%|█████▏    | 103/200 [09:46<09:08,  5.66s/it]"
          ],
          "name": "stderr"
        },
        {
          "output_type": "stream",
          "text": [
            " Done at step 605 (reseting env)\n"
          ],
          "name": "stdout"
        },
        {
          "output_type": "stream",
          "text": [
            " 52%|█████▏    | 104/200 [09:49<08:59,  5.62s/it]"
          ],
          "name": "stderr"
        },
        {
          "output_type": "stream",
          "text": [
            " Done at step 7 (reseting env)\n"
          ],
          "name": "stdout"
        },
        {
          "output_type": "stream",
          "text": [
            " 52%|█████▏    | 104/200 [09:51<08:59,  5.62s/it]"
          ],
          "name": "stderr"
        },
        {
          "output_type": "stream",
          "text": [
            " Done at step 509 (reseting env)\n"
          ],
          "name": "stdout"
        },
        {
          "output_type": "stream",
          "text": [
            " 52%|█████▏    | 104/200 [09:52<08:59,  5.62s/it]"
          ],
          "name": "stderr"
        },
        {
          "output_type": "stream",
          "text": [
            " Done at step 943 (reseting env)\n"
          ],
          "name": "stdout"
        },
        {
          "output_type": "stream",
          "text": [
            " 52%|█████▎    | 105/200 [09:57<08:56,  5.65s/it]"
          ],
          "name": "stderr"
        },
        {
          "output_type": "stream",
          "text": [
            " Done at step 765 (reseting env)\n"
          ],
          "name": "stdout"
        },
        {
          "output_type": "stream",
          "text": [
            " 53%|█████▎    | 106/200 [10:01<08:48,  5.62s/it]"
          ],
          "name": "stderr"
        },
        {
          "output_type": "stream",
          "text": [
            " Done at step 182 (reseting env)\n"
          ],
          "name": "stdout"
        },
        {
          "output_type": "stream",
          "text": [
            " 54%|█████▎    | 107/200 [10:06<08:38,  5.57s/it]"
          ],
          "name": "stderr"
        },
        {
          "output_type": "stream",
          "text": [
            " Done at step 3 (reseting env)\n"
          ],
          "name": "stdout"
        },
        {
          "output_type": "stream",
          "text": [
            " 54%|█████▎    | 107/200 [10:07<08:38,  5.57s/it]"
          ],
          "name": "stderr"
        },
        {
          "output_type": "stream",
          "text": [
            " Done at step 315 (reseting env)\n"
          ],
          "name": "stdout"
        },
        {
          "output_type": "stream",
          "text": [
            " 54%|█████▎    | 107/200 [10:08<08:38,  5.57s/it]"
          ],
          "name": "stderr"
        },
        {
          "output_type": "stream",
          "text": [
            " Done at step 619 (reseting env)\n"
          ],
          "name": "stdout"
        },
        {
          "output_type": "stream",
          "text": [
            " 54%|█████▎    | 107/200 [10:09<08:38,  5.57s/it]"
          ],
          "name": "stderr"
        },
        {
          "output_type": "stream",
          "text": [
            " Done at step 782 (reseting env)\n"
          ],
          "name": "stdout"
        },
        {
          "output_type": "stream",
          "text": [
            " 54%|█████▎    | 107/200 [10:09<08:38,  5.57s/it]"
          ],
          "name": "stderr"
        },
        {
          "output_type": "stream",
          "text": [
            " Done at step 931 (reseting env)\n"
          ],
          "name": "stdout"
        },
        {
          "output_type": "stream",
          "text": [
            " 54%|█████▍    | 108/200 [10:12<08:39,  5.64s/it]"
          ],
          "name": "stderr"
        },
        {
          "output_type": "stream",
          "text": [
            " Done at step 9 (reseting env)\n"
          ],
          "name": "stdout"
        },
        {
          "output_type": "stream",
          "text": [
            " 54%|█████▍    | 108/200 [10:14<08:39,  5.64s/it]"
          ],
          "name": "stderr"
        },
        {
          "output_type": "stream",
          "text": [
            " Done at step 743 (reseting env)\n"
          ],
          "name": "stdout"
        },
        {
          "output_type": "stream",
          "text": [
            " 54%|█████▍    | 108/200 [10:15<08:39,  5.64s/it]"
          ],
          "name": "stderr"
        },
        {
          "output_type": "stream",
          "text": [
            " Done at step 939 (reseting env)\n"
          ],
          "name": "stdout"
        },
        {
          "output_type": "stream",
          "text": [
            " 55%|█████▍    | 109/200 [10:18<08:33,  5.64s/it]"
          ],
          "name": "stderr"
        },
        {
          "output_type": "stream",
          "text": [
            " Done at step 111 (reseting env)\n"
          ],
          "name": "stdout"
        },
        {
          "output_type": "stream",
          "text": [
            " 55%|█████▌    | 110/200 [10:23<08:29,  5.66s/it]"
          ],
          "name": "stderr"
        },
        {
          "output_type": "stream",
          "text": [
            " Saved trajectory 110 (of 200)\n",
            "\n",
            " Mean reward: 0.05, ep_rewards.shape == (1000,)\n"
          ],
          "name": "stdout"
        },
        {
          "output_type": "stream",
          "text": [
            " 55%|█████▌    | 110/200 [10:24<08:29,  5.66s/it]"
          ],
          "name": "stderr"
        },
        {
          "output_type": "stream",
          "text": [
            " Done at step 284 (reseting env)\n"
          ],
          "name": "stdout"
        },
        {
          "output_type": "stream",
          "text": [
            " 55%|█████▌    | 110/200 [10:25<08:29,  5.66s/it]"
          ],
          "name": "stderr"
        },
        {
          "output_type": "stream",
          "text": [
            " Done at step 422 (reseting env)\n"
          ],
          "name": "stdout"
        },
        {
          "output_type": "stream",
          "text": [
            " 55%|█████▌    | 110/200 [10:25<08:29,  5.66s/it]"
          ],
          "name": "stderr"
        },
        {
          "output_type": "stream",
          "text": [
            " Done at step 601 (reseting env)\n"
          ],
          "name": "stdout"
        },
        {
          "output_type": "stream",
          "text": [
            " 56%|█████▌    | 111/200 [10:31<08:29,  5.72s/it]"
          ],
          "name": "stderr"
        },
        {
          "output_type": "stream",
          "text": [
            " Done at step 545 (reseting env)\n"
          ],
          "name": "stdout"
        },
        {
          "output_type": "stream",
          "text": [
            " 56%|█████▌    | 111/200 [10:32<08:29,  5.72s/it]"
          ],
          "name": "stderr"
        },
        {
          "output_type": "stream",
          "text": [
            " Done at step 906 (reseting env)\n"
          ],
          "name": "stdout"
        },
        {
          "output_type": "stream",
          "text": [
            " 56%|█████▋    | 113/200 [10:40<08:06,  5.59s/it]"
          ],
          "name": "stderr"
        },
        {
          "output_type": "stream",
          "text": [
            " Done at step 111 (reseting env)\n"
          ],
          "name": "stdout"
        },
        {
          "output_type": "stream",
          "text": [
            " 56%|█████▋    | 113/200 [10:41<08:06,  5.59s/it]"
          ],
          "name": "stderr"
        },
        {
          "output_type": "stream",
          "text": [
            " Done at step 196 (reseting env)\n"
          ],
          "name": "stdout"
        },
        {
          "output_type": "stream",
          "text": [
            " 56%|█████▋    | 113/200 [10:42<08:06,  5.59s/it]"
          ],
          "name": "stderr"
        },
        {
          "output_type": "stream",
          "text": [
            " Done at step 451 (reseting env)\n"
          ],
          "name": "stdout"
        },
        {
          "output_type": "stream",
          "text": [
            " 56%|█████▋    | 113/200 [10:42<08:06,  5.59s/it]"
          ],
          "name": "stderr"
        },
        {
          "output_type": "stream",
          "text": [
            " Done at step 624 (reseting env)\n"
          ],
          "name": "stdout"
        },
        {
          "output_type": "stream",
          "text": [
            " 57%|█████▋    | 114/200 [10:47<08:05,  5.64s/it]"
          ],
          "name": "stderr"
        },
        {
          "output_type": "stream",
          "text": [
            " Done at step 464 (reseting env)\n"
          ],
          "name": "stdout"
        },
        {
          "output_type": "stream",
          "text": [
            " 57%|█████▊    | 115/200 [10:52<07:57,  5.62s/it]"
          ],
          "name": "stderr"
        },
        {
          "output_type": "stream",
          "text": [
            " Done at step 20 (reseting env)\n"
          ],
          "name": "stdout"
        },
        {
          "output_type": "stream",
          "text": [
            " 57%|█████▊    | 115/200 [10:52<07:57,  5.62s/it]"
          ],
          "name": "stderr"
        },
        {
          "output_type": "stream",
          "text": [
            " Done at step 126 (reseting env)\n"
          ],
          "name": "stdout"
        },
        {
          "output_type": "stream",
          "text": [
            " 57%|█████▊    | 115/200 [10:53<07:57,  5.62s/it]"
          ],
          "name": "stderr"
        },
        {
          "output_type": "stream",
          "text": [
            " Done at step 397 (reseting env)\n"
          ],
          "name": "stdout"
        },
        {
          "output_type": "stream",
          "text": [
            " 57%|█████▊    | 115/200 [10:54<07:57,  5.62s/it]"
          ],
          "name": "stderr"
        },
        {
          "output_type": "stream",
          "text": [
            " Done at step 810 (reseting env)\n"
          ],
          "name": "stdout"
        },
        {
          "output_type": "stream",
          "text": [
            " 58%|█████▊    | 117/200 [11:03<07:48,  5.64s/it]"
          ],
          "name": "stderr"
        },
        {
          "output_type": "stream",
          "text": [
            " Done at step 3 (reseting env)\n",
            " Done at step 54 (reseting env)\n"
          ],
          "name": "stdout"
        },
        {
          "output_type": "stream",
          "text": [
            " 58%|█████▊    | 117/200 [11:03<07:48,  5.64s/it]"
          ],
          "name": "stderr"
        },
        {
          "output_type": "stream",
          "text": [
            " Done at step 184 (reseting env)\n"
          ],
          "name": "stdout"
        },
        {
          "output_type": "stream",
          "text": [
            " 59%|█████▉    | 118/200 [11:09<07:42,  5.64s/it]"
          ],
          "name": "stderr"
        },
        {
          "output_type": "stream",
          "text": [
            " Done at step 9 (reseting env)\n"
          ],
          "name": "stdout"
        },
        {
          "output_type": "stream",
          "text": [
            " 60%|█████▉    | 119/200 [11:16<07:34,  5.61s/it]"
          ],
          "name": "stderr"
        },
        {
          "output_type": "stream",
          "text": [
            " Done at step 702 (reseting env)\n"
          ],
          "name": "stdout"
        },
        {
          "output_type": "stream",
          "text": [
            " 60%|██████    | 120/200 [11:20<07:30,  5.63s/it]"
          ],
          "name": "stderr"
        },
        {
          "output_type": "stream",
          "text": [
            " Saved trajectory 120 (of 200)\n",
            "\n",
            " Mean reward: 0.06, ep_rewards.shape == (1000,)\n",
            " Done at step 8 (reseting env)\n"
          ],
          "name": "stdout"
        },
        {
          "output_type": "stream",
          "text": [
            " 60%|██████    | 120/200 [11:20<07:30,  5.63s/it]"
          ],
          "name": "stderr"
        },
        {
          "output_type": "stream",
          "text": [
            " Done at step 76 (reseting env)\n"
          ],
          "name": "stdout"
        },
        {
          "output_type": "stream",
          "text": [
            " 60%|██████    | 120/200 [11:21<07:30,  5.63s/it]"
          ],
          "name": "stderr"
        },
        {
          "output_type": "stream",
          "text": [
            " Done at step 358 (reseting env)\n"
          ],
          "name": "stdout"
        },
        {
          "output_type": "stream",
          "text": [
            " 60%|██████    | 120/200 [11:21<07:30,  5.63s/it]"
          ],
          "name": "stderr"
        },
        {
          "output_type": "stream",
          "text": [
            " Done at step 479 (reseting env)\n"
          ],
          "name": "stdout"
        },
        {
          "output_type": "stream",
          "text": [
            "  0%|          | 0/200 [50:01<?, ?it/s]"
          ],
          "name": "stderr"
        },
        {
          "output_type": "stream",
          "text": [
            " Done at step 651 (reseting env)\n",
            " Done at step 671 (reseting env)\n",
            " Done at step 691 (reseting env)\n"
          ],
          "name": "stdout"
        },
        {
          "output_type": "stream",
          "text": [
            " 60%|██████    | 121/200 [11:28<07:22,  5.60s/it]"
          ],
          "name": "stderr"
        },
        {
          "output_type": "stream",
          "text": [
            " Done at step 944 (reseting env)\n"
          ],
          "name": "stdout"
        },
        {
          "output_type": "stream",
          "text": [
            " 61%|██████    | 122/200 [11:31<07:19,  5.64s/it]"
          ],
          "name": "stderr"
        },
        {
          "output_type": "stream",
          "text": [
            " Done at step 27 (reseting env)\n"
          ],
          "name": "stdout"
        },
        {
          "output_type": "stream",
          "text": [
            " 62%|██████▏   | 123/200 [11:37<07:15,  5.66s/it]"
          ],
          "name": "stderr"
        },
        {
          "output_type": "stream",
          "text": [
            " Done at step 9 (reseting env)\n"
          ],
          "name": "stdout"
        },
        {
          "output_type": "stream",
          "text": [
            " 62%|██████▏   | 123/200 [11:38<07:15,  5.66s/it]"
          ],
          "name": "stderr"
        },
        {
          "output_type": "stream",
          "text": [
            " Done at step 341 (reseting env)\n"
          ],
          "name": "stdout"
        },
        {
          "output_type": "stream",
          "text": [
            " 62%|██████▏   | 123/200 [11:38<07:15,  5.66s/it]"
          ],
          "name": "stderr"
        },
        {
          "output_type": "stream",
          "text": [
            " Done at step 510 (reseting env)\n"
          ],
          "name": "stdout"
        },
        {
          "output_type": "stream",
          "text": [
            " 62%|██████▏   | 124/200 [11:42<07:10,  5.66s/it]"
          ],
          "name": "stderr"
        },
        {
          "output_type": "stream",
          "text": [
            " Done at step 3 (reseting env)\n"
          ],
          "name": "stdout"
        },
        {
          "output_type": "stream",
          "text": [
            " 62%|██████▏   | 124/200 [11:43<07:10,  5.66s/it]"
          ],
          "name": "stderr"
        },
        {
          "output_type": "stream",
          "text": [
            " Done at step 128 (reseting env)\n"
          ],
          "name": "stdout"
        },
        {
          "output_type": "stream",
          "text": [
            " 62%|██████▏   | 124/200 [11:43<07:10,  5.66s/it]"
          ],
          "name": "stderr"
        },
        {
          "output_type": "stream",
          "text": [
            " Done at step 324 (reseting env)\n"
          ],
          "name": "stdout"
        },
        {
          "output_type": "stream",
          "text": [
            " 62%|██████▏   | 124/200 [11:44<07:10,  5.66s/it]"
          ],
          "name": "stderr"
        },
        {
          "output_type": "stream",
          "text": [
            " Done at step 616 (reseting env)\n"
          ],
          "name": "stdout"
        },
        {
          "output_type": "stream",
          "text": [
            " 62%|██████▎   | 125/200 [11:49<07:06,  5.69s/it]"
          ],
          "name": "stderr"
        },
        {
          "output_type": "stream",
          "text": [
            " Done at step 313 (reseting env)\n"
          ],
          "name": "stdout"
        },
        {
          "output_type": "stream",
          "text": [
            " 62%|██████▎   | 125/200 [11:50<07:06,  5.69s/it]"
          ],
          "name": "stderr"
        },
        {
          "output_type": "stream",
          "text": [
            " Done at step 613 (reseting env)\n"
          ],
          "name": "stdout"
        },
        {
          "output_type": "stream",
          "text": [
            " 62%|██████▎   | 125/200 [11:50<07:06,  5.69s/it]"
          ],
          "name": "stderr"
        },
        {
          "output_type": "stream",
          "text": [
            " Done at step 714 (reseting env)\n",
            " Done at step 734 (reseting env)\n"
          ],
          "name": "stdout"
        },
        {
          "output_type": "stream",
          "text": [
            " 63%|██████▎   | 126/200 [11:54<06:59,  5.67s/it]"
          ],
          "name": "stderr"
        },
        {
          "output_type": "stream",
          "text": [
            " Done at step 213 (reseting env)\n"
          ],
          "name": "stdout"
        },
        {
          "output_type": "stream",
          "text": [
            " 63%|██████▎   | 126/200 [11:55<06:59,  5.67s/it]"
          ],
          "name": "stderr"
        },
        {
          "output_type": "stream",
          "text": [
            " Done at step 379 (reseting env)\n"
          ],
          "name": "stdout"
        },
        {
          "output_type": "stream",
          "text": [
            " 64%|██████▎   | 127/200 [12:01<07:01,  5.77s/it]"
          ],
          "name": "stderr"
        },
        {
          "output_type": "stream",
          "text": [
            " Done at step 245 (reseting env)\n"
          ],
          "name": "stdout"
        },
        {
          "output_type": "stream",
          "text": [
            " 64%|██████▎   | 127/200 [12:01<07:01,  5.77s/it]"
          ],
          "name": "stderr"
        },
        {
          "output_type": "stream",
          "text": [
            " Done at step 329 (reseting env)\n"
          ],
          "name": "stdout"
        },
        {
          "output_type": "stream",
          "text": [
            " 64%|██████▍   | 128/200 [12:06<06:56,  5.78s/it]"
          ],
          "name": "stderr"
        },
        {
          "output_type": "stream",
          "text": [
            " Done at step 3 (reseting env)\n"
          ],
          "name": "stdout"
        },
        {
          "output_type": "stream",
          "text": [
            " 64%|██████▍   | 129/200 [12:12<06:49,  5.77s/it]"
          ],
          "name": "stderr"
        },
        {
          "output_type": "stream",
          "text": [
            " Done at step 265 (reseting env)\n"
          ],
          "name": "stdout"
        },
        {
          "output_type": "stream",
          "text": [
            " 64%|██████▍   | 129/200 [12:13<06:49,  5.77s/it]"
          ],
          "name": "stderr"
        },
        {
          "output_type": "stream",
          "text": [
            " Done at step 492 (reseting env)\n"
          ],
          "name": "stdout"
        },
        {
          "output_type": "stream",
          "text": [
            " 64%|██████▍   | 129/200 [12:13<06:49,  5.77s/it]"
          ],
          "name": "stderr"
        },
        {
          "output_type": "stream",
          "text": [
            " Done at step 641 (reseting env)\n"
          ],
          "name": "stdout"
        },
        {
          "output_type": "stream",
          "text": [
            " 65%|██████▌   | 130/200 [12:17<06:43,  5.76s/it]"
          ],
          "name": "stderr"
        },
        {
          "output_type": "stream",
          "text": [
            " Saved trajectory 130 (of 200)\n",
            "\n",
            " Mean reward: 0.04, ep_rewards.shape == (1000,)\n",
            " Done at step 4 (reseting env)\n"
          ],
          "name": "stdout"
        },
        {
          "output_type": "stream",
          "text": [
            " 66%|██████▌   | 131/200 [12:25<06:31,  5.67s/it]"
          ],
          "name": "stderr"
        },
        {
          "output_type": "stream",
          "text": [
            " Done at step 860 (reseting env)\n"
          ],
          "name": "stdout"
        },
        {
          "output_type": "stream",
          "text": [
            " 66%|██████▌   | 131/200 [12:25<06:31,  5.67s/it]"
          ],
          "name": "stderr"
        },
        {
          "output_type": "stream",
          "text": [
            " Done at step 928 (reseting env)\n"
          ],
          "name": "stdout"
        },
        {
          "output_type": "stream",
          "text": [
            " 66%|██████▌   | 132/200 [12:28<06:20,  5.60s/it]"
          ],
          "name": "stderr"
        },
        {
          "output_type": "stream",
          "text": [
            " Done at step 45 (reseting env)\n"
          ],
          "name": "stdout"
        },
        {
          "output_type": "stream",
          "text": [
            " 66%|██████▌   | 132/200 [12:28<06:20,  5.60s/it]"
          ],
          "name": "stderr"
        },
        {
          "output_type": "stream",
          "text": [
            " Done at step 164 (reseting env)\n"
          ],
          "name": "stdout"
        },
        {
          "output_type": "stream",
          "text": [
            " 66%|██████▌   | 132/200 [12:29<06:20,  5.60s/it]"
          ],
          "name": "stderr"
        },
        {
          "output_type": "stream",
          "text": [
            " Done at step 232 (reseting env)\n"
          ],
          "name": "stdout"
        },
        {
          "output_type": "stream",
          "text": [
            " 66%|██████▌   | 132/200 [12:29<06:20,  5.60s/it]"
          ],
          "name": "stderr"
        },
        {
          "output_type": "stream",
          "text": [
            " Done at step 359 (reseting env)\n"
          ],
          "name": "stdout"
        },
        {
          "output_type": "stream",
          "text": [
            " 66%|██████▌   | 132/200 [12:29<06:20,  5.60s/it]"
          ],
          "name": "stderr"
        },
        {
          "output_type": "stream",
          "text": [
            " Done at step 473 (reseting env)\n"
          ],
          "name": "stdout"
        },
        {
          "output_type": "stream",
          "text": [
            " 66%|██████▋   | 133/200 [12:34<06:19,  5.66s/it]"
          ],
          "name": "stderr"
        },
        {
          "output_type": "stream",
          "text": [
            " Done at step 15 (reseting env)\n"
          ],
          "name": "stdout"
        },
        {
          "output_type": "stream",
          "text": [
            " 66%|██████▋   | 133/200 [12:35<06:19,  5.66s/it]"
          ],
          "name": "stderr"
        },
        {
          "output_type": "stream",
          "text": [
            " Done at step 564 (reseting env)\n"
          ],
          "name": "stdout"
        },
        {
          "output_type": "stream",
          "text": [
            " 66%|██████▋   | 133/200 [12:36<06:19,  5.66s/it]"
          ],
          "name": "stderr"
        },
        {
          "output_type": "stream",
          "text": [
            " Done at step 742 (reseting env)\n"
          ],
          "name": "stdout"
        },
        {
          "output_type": "stream",
          "text": [
            " 68%|██████▊   | 135/200 [12:46<06:06,  5.63s/it]"
          ],
          "name": "stderr"
        },
        {
          "output_type": "stream",
          "text": [
            " Done at step 237 (reseting env)\n"
          ],
          "name": "stdout"
        },
        {
          "output_type": "stream",
          "text": [
            " 68%|██████▊   | 135/200 [12:47<06:06,  5.63s/it]"
          ],
          "name": "stderr"
        },
        {
          "output_type": "stream",
          "text": [
            " Done at step 731 (reseting env)\n"
          ],
          "name": "stdout"
        },
        {
          "output_type": "stream",
          "text": [
            " 68%|██████▊   | 135/200 [12:48<06:06,  5.63s/it]"
          ],
          "name": "stderr"
        },
        {
          "output_type": "stream",
          "text": [
            " Done at step 987 (reseting env)\n"
          ],
          "name": "stdout"
        },
        {
          "output_type": "stream",
          "text": [
            " 68%|██████▊   | 136/200 [12:51<06:00,  5.64s/it]"
          ],
          "name": "stderr"
        },
        {
          "output_type": "stream",
          "text": [
            " Done at step 80 (reseting env)\n"
          ],
          "name": "stdout"
        },
        {
          "output_type": "stream",
          "text": [
            " 68%|██████▊   | 136/200 [12:51<06:00,  5.64s/it]"
          ],
          "name": "stderr"
        },
        {
          "output_type": "stream",
          "text": [
            " Done at step 249 (reseting env)\n"
          ],
          "name": "stdout"
        },
        {
          "output_type": "stream",
          "text": [
            " 68%|██████▊   | 137/200 [12:58<05:53,  5.62s/it]"
          ],
          "name": "stderr"
        },
        {
          "output_type": "stream",
          "text": [
            " Done at step 515 (reseting env)\n"
          ],
          "name": "stdout"
        },
        {
          "output_type": "stream",
          "text": [
            " 68%|██████▊   | 137/200 [12:58<05:53,  5.62s/it]"
          ],
          "name": "stderr"
        },
        {
          "output_type": "stream",
          "text": [
            " Done at step 720 (reseting env)\n"
          ],
          "name": "stdout"
        },
        {
          "output_type": "stream",
          "text": [
            " 68%|██████▊   | 137/200 [12:59<05:53,  5.62s/it]"
          ],
          "name": "stderr"
        },
        {
          "output_type": "stream",
          "text": [
            " Done at step 987 (reseting env)\n"
          ],
          "name": "stdout"
        },
        {
          "output_type": "stream",
          "text": [
            " 69%|██████▉   | 138/200 [13:02<05:44,  5.56s/it]"
          ],
          "name": "stderr"
        },
        {
          "output_type": "stream",
          "text": [
            " Done at step 217 (reseting env)\n"
          ],
          "name": "stdout"
        },
        {
          "output_type": "stream",
          "text": [
            " 69%|██████▉   | 138/200 [13:03<05:44,  5.56s/it]"
          ],
          "name": "stderr"
        },
        {
          "output_type": "stream",
          "text": [
            " Done at step 383 (reseting env)\n"
          ],
          "name": "stdout"
        },
        {
          "output_type": "stream",
          "text": [
            " 70%|██████▉   | 139/200 [13:07<05:37,  5.53s/it]"
          ],
          "name": "stderr"
        },
        {
          "output_type": "stream",
          "text": [
            " Done at step 3 (reseting env)\n"
          ],
          "name": "stdout"
        },
        {
          "output_type": "stream",
          "text": [
            " 70%|██████▉   | 139/200 [13:09<05:37,  5.53s/it]"
          ],
          "name": "stderr"
        },
        {
          "output_type": "stream",
          "text": [
            " Done at step 755 (reseting env)\n"
          ],
          "name": "stdout"
        },
        {
          "output_type": "stream",
          "text": [
            " 70%|███████   | 140/200 [13:13<05:34,  5.58s/it]"
          ],
          "name": "stderr"
        },
        {
          "output_type": "stream",
          "text": [
            " Saved trajectory 140 (of 200)\n",
            "\n",
            " Mean reward: 0.07, ep_rewards.shape == (1000,)\n",
            " Done at step 7 (reseting env)\n"
          ],
          "name": "stdout"
        },
        {
          "output_type": "stream",
          "text": [
            " 70%|███████   | 140/200 [13:14<05:34,  5.58s/it]"
          ],
          "name": "stderr"
        },
        {
          "output_type": "stream",
          "text": [
            " Done at step 327 (reseting env)\n"
          ],
          "name": "stdout"
        },
        {
          "output_type": "stream",
          "text": [
            " 70%|███████   | 140/200 [13:14<05:34,  5.58s/it]"
          ],
          "name": "stderr"
        },
        {
          "output_type": "stream",
          "text": [
            " Done at step 498 (reseting env)\n"
          ],
          "name": "stdout"
        },
        {
          "output_type": "stream",
          "text": [
            " 70%|███████   | 140/200 [13:15<05:34,  5.58s/it]"
          ],
          "name": "stderr"
        },
        {
          "output_type": "stream",
          "text": [
            " Done at step 772 (reseting env)\n"
          ],
          "name": "stdout"
        },
        {
          "output_type": "stream",
          "text": [
            " 71%|███████   | 142/200 [13:25<05:25,  5.62s/it]"
          ],
          "name": "stderr"
        },
        {
          "output_type": "stream",
          "text": [
            " Done at step 317 (reseting env)\n"
          ],
          "name": "stdout"
        },
        {
          "output_type": "stream",
          "text": [
            " 71%|███████   | 142/200 [13:26<05:25,  5.62s/it]"
          ],
          "name": "stderr"
        },
        {
          "output_type": "stream",
          "text": [
            " Done at step 496 (reseting env)\n"
          ],
          "name": "stdout"
        },
        {
          "output_type": "stream",
          "text": [
            " 71%|███████   | 142/200 [13:26<05:25,  5.62s/it]"
          ],
          "name": "stderr"
        },
        {
          "output_type": "stream",
          "text": [
            " Done at step 600 (reseting env)\n",
            " Done at step 620 (reseting env)\n"
          ],
          "name": "stdout"
        },
        {
          "output_type": "stream",
          "text": [
            " 72%|███████▏  | 143/200 [13:30<05:21,  5.63s/it]"
          ],
          "name": "stderr"
        },
        {
          "output_type": "stream",
          "text": [
            " Done at step 101 (reseting env)\n"
          ],
          "name": "stdout"
        },
        {
          "output_type": "stream",
          "text": [
            " 72%|███████▏  | 144/200 [13:37<05:17,  5.67s/it]"
          ],
          "name": "stderr"
        },
        {
          "output_type": "stream",
          "text": [
            " Done at step 483 (reseting env)\n"
          ],
          "name": "stdout"
        },
        {
          "output_type": "stream",
          "text": [
            " 72%|███████▏  | 144/200 [13:37<05:17,  5.67s/it]"
          ],
          "name": "stderr"
        },
        {
          "output_type": "stream",
          "text": [
            " Done at step 593 (reseting env)\n"
          ],
          "name": "stdout"
        },
        {
          "output_type": "stream",
          "text": [
            " 72%|███████▏  | 144/200 [13:38<05:17,  5.67s/it]"
          ],
          "name": "stderr"
        },
        {
          "output_type": "stream",
          "text": [
            " Done at step 691 (reseting env)\n"
          ],
          "name": "stdout"
        },
        {
          "output_type": "stream",
          "text": [
            " 72%|███████▏  | 144/200 [13:38<05:17,  5.67s/it]"
          ],
          "name": "stderr"
        },
        {
          "output_type": "stream",
          "text": [
            " Done at step 928 (reseting env)\n"
          ],
          "name": "stdout"
        },
        {
          "output_type": "stream",
          "text": [
            " 72%|███████▎  | 145/200 [13:42<05:15,  5.73s/it]"
          ],
          "name": "stderr"
        },
        {
          "output_type": "stream",
          "text": [
            " Done at step 247 (reseting env)\n"
          ],
          "name": "stdout"
        },
        {
          "output_type": "stream",
          "text": [
            " 74%|███████▎  | 147/200 [13:53<04:57,  5.62s/it]"
          ],
          "name": "stderr"
        },
        {
          "output_type": "stream",
          "text": [
            " Done at step 285 (reseting env)\n"
          ],
          "name": "stdout"
        },
        {
          "output_type": "stream",
          "text": [
            " 74%|███████▎  | 147/200 [13:54<04:57,  5.62s/it]"
          ],
          "name": "stderr"
        },
        {
          "output_type": "stream",
          "text": [
            " Done at step 451 (reseting env)\n",
            " Done at step 471 (reseting env)\n"
          ],
          "name": "stdout"
        },
        {
          "output_type": "stream",
          "text": [
            " 74%|███████▎  | 147/200 [13:54<04:57,  5.62s/it]"
          ],
          "name": "stderr"
        },
        {
          "output_type": "stream",
          "text": [
            " Done at step 547 (reseting env)\n"
          ],
          "name": "stdout"
        },
        {
          "output_type": "stream",
          "text": [
            " 74%|███████▎  | 147/200 [13:55<04:57,  5.62s/it]"
          ],
          "name": "stderr"
        },
        {
          "output_type": "stream",
          "text": [
            " Done at step 697 (reseting env)\n"
          ],
          "name": "stdout"
        },
        {
          "output_type": "stream",
          "text": [
            " 74%|███████▎  | 147/200 [13:55<04:57,  5.62s/it]"
          ],
          "name": "stderr"
        },
        {
          "output_type": "stream",
          "text": [
            " Done at step 905 (reseting env)\n"
          ],
          "name": "stdout"
        },
        {
          "output_type": "stream",
          "text": [
            " 74%|███████▍  | 148/200 [13:59<04:55,  5.69s/it]"
          ],
          "name": "stderr"
        },
        {
          "output_type": "stream",
          "text": [
            " Done at step 93 (reseting env)\n"
          ],
          "name": "stdout"
        },
        {
          "output_type": "stream",
          "text": [
            " 74%|███████▍  | 148/200 [14:00<04:55,  5.69s/it]"
          ],
          "name": "stderr"
        },
        {
          "output_type": "stream",
          "text": [
            " Done at step 494 (reseting env)\n"
          ],
          "name": "stdout"
        },
        {
          "output_type": "stream",
          "text": [
            " 74%|███████▍  | 148/200 [14:01<04:55,  5.69s/it]"
          ],
          "name": "stderr"
        },
        {
          "output_type": "stream",
          "text": [
            " Done at step 802 (reseting env)\n"
          ],
          "name": "stdout"
        },
        {
          "output_type": "stream",
          "text": [
            " 74%|███████▍  | 149/200 [14:04<04:48,  5.66s/it]"
          ],
          "name": "stderr"
        },
        {
          "output_type": "stream",
          "text": [
            " Done at step 73 (reseting env)\n"
          ],
          "name": "stdout"
        },
        {
          "output_type": "stream",
          "text": [
            " 74%|███████▍  | 149/200 [14:07<04:48,  5.66s/it]"
          ],
          "name": "stderr"
        },
        {
          "output_type": "stream",
          "text": [
            " Done at step 980 (reseting env)\n"
          ],
          "name": "stdout"
        },
        {
          "output_type": "stream",
          "text": [
            " 75%|███████▌  | 150/200 [14:10<04:43,  5.68s/it]"
          ],
          "name": "stderr"
        },
        {
          "output_type": "stream",
          "text": [
            " Saved trajectory 150 (of 200)\n",
            "\n",
            " Mean reward: 0.04, ep_rewards.shape == (1000,)\n"
          ],
          "name": "stdout"
        },
        {
          "output_type": "stream",
          "text": [
            " 75%|███████▌  | 150/200 [14:10<04:43,  5.68s/it]"
          ],
          "name": "stderr"
        },
        {
          "output_type": "stream",
          "text": [
            " Done at step 217 (reseting env)\n"
          ],
          "name": "stdout"
        },
        {
          "output_type": "stream",
          "text": [
            " 75%|███████▌  | 150/200 [14:11<04:43,  5.68s/it]"
          ],
          "name": "stderr"
        },
        {
          "output_type": "stream",
          "text": [
            " Done at step 525 (reseting env)\n"
          ],
          "name": "stdout"
        },
        {
          "output_type": "stream",
          "text": [
            " 75%|███████▌  | 150/200 [14:12<04:43,  5.68s/it]"
          ],
          "name": "stderr"
        },
        {
          "output_type": "stream",
          "text": [
            " Done at step 688 (reseting env)\n"
          ],
          "name": "stdout"
        },
        {
          "output_type": "stream",
          "text": [
            " 76%|███████▌  | 152/200 [14:21<04:30,  5.63s/it]"
          ],
          "name": "stderr"
        },
        {
          "output_type": "stream",
          "text": [
            " Done at step 75 (reseting env)\n"
          ],
          "name": "stdout"
        },
        {
          "output_type": "stream",
          "text": [
            " 76%|███████▌  | 152/200 [14:22<04:30,  5.63s/it]"
          ],
          "name": "stderr"
        },
        {
          "output_type": "stream",
          "text": [
            " Done at step 332 (reseting env)\n"
          ],
          "name": "stdout"
        },
        {
          "output_type": "stream",
          "text": [
            " 76%|███████▌  | 152/200 [14:22<04:30,  5.63s/it]"
          ],
          "name": "stderr"
        },
        {
          "output_type": "stream",
          "text": [
            " Done at step 512 (reseting env)\n"
          ],
          "name": "stdout"
        },
        {
          "output_type": "stream",
          "text": [
            " 76%|███████▌  | 152/200 [14:23<04:30,  5.63s/it]"
          ],
          "name": "stderr"
        },
        {
          "output_type": "stream",
          "text": [
            " Done at step 597 (reseting env)\n"
          ],
          "name": "stdout"
        },
        {
          "output_type": "stream",
          "text": [
            " 76%|███████▌  | 152/200 [14:24<04:30,  5.63s/it]"
          ],
          "name": "stderr"
        },
        {
          "output_type": "stream",
          "text": [
            " Done at step 868 (reseting env)\n"
          ],
          "name": "stdout"
        },
        {
          "output_type": "stream",
          "text": [
            " 76%|███████▋  | 153/200 [14:27<04:23,  5.60s/it]"
          ],
          "name": "stderr"
        },
        {
          "output_type": "stream",
          "text": [
            " Done at step 61 (reseting env)\n"
          ],
          "name": "stdout"
        },
        {
          "output_type": "stream",
          "text": [
            " 77%|███████▋  | 154/200 [14:32<04:17,  5.60s/it]"
          ],
          "name": "stderr"
        },
        {
          "output_type": "stream",
          "text": [
            " Done at step 106 (reseting env)\n"
          ],
          "name": "stdout"
        },
        {
          "output_type": "stream",
          "text": [
            " 77%|███████▋  | 154/200 [14:33<04:17,  5.60s/it]"
          ],
          "name": "stderr"
        },
        {
          "output_type": "stream",
          "text": [
            " Done at step 490 (reseting env)\n"
          ],
          "name": "stdout"
        },
        {
          "output_type": "stream",
          "text": [
            " 77%|███████▋  | 154/200 [14:34<04:17,  5.60s/it]"
          ],
          "name": "stderr"
        },
        {
          "output_type": "stream",
          "text": [
            " Done at step 660 (reseting env)\n"
          ],
          "name": "stdout"
        },
        {
          "output_type": "stream",
          "text": [
            " 77%|███████▋  | 154/200 [14:35<04:17,  5.60s/it]"
          ],
          "name": "stderr"
        },
        {
          "output_type": "stream",
          "text": [
            " Done at step 895 (reseting env)\n"
          ],
          "name": "stdout"
        },
        {
          "output_type": "stream",
          "text": [
            " 78%|███████▊  | 155/200 [14:39<04:12,  5.61s/it]"
          ],
          "name": "stderr"
        },
        {
          "output_type": "stream",
          "text": [
            " Done at step 487 (reseting env)\n"
          ],
          "name": "stdout"
        },
        {
          "output_type": "stream",
          "text": [
            " 78%|███████▊  | 156/200 [14:44<04:05,  5.58s/it]"
          ],
          "name": "stderr"
        },
        {
          "output_type": "stream",
          "text": [
            " Done at step 155 (reseting env)\n"
          ],
          "name": "stdout"
        },
        {
          "output_type": "stream",
          "text": [
            " 78%|███████▊  | 156/200 [14:44<04:05,  5.58s/it]"
          ],
          "name": "stderr"
        },
        {
          "output_type": "stream",
          "text": [
            " Done at step 231 (reseting env)\n",
            " Done at step 251 (reseting env)\n"
          ],
          "name": "stdout"
        },
        {
          "output_type": "stream",
          "text": [
            " 78%|███████▊  | 156/200 [14:45<04:05,  5.58s/it]"
          ],
          "name": "stderr"
        },
        {
          "output_type": "stream",
          "text": [
            " Done at step 496 (reseting env)\n"
          ],
          "name": "stdout"
        },
        {
          "output_type": "stream",
          "text": [
            " 78%|███████▊  | 156/200 [14:45<04:05,  5.58s/it]"
          ],
          "name": "stderr"
        },
        {
          "output_type": "stream",
          "text": [
            " Done at step 717 (reseting env)\n"
          ],
          "name": "stdout"
        },
        {
          "output_type": "stream",
          "text": [
            " 78%|███████▊  | 157/200 [14:51<04:03,  5.67s/it]"
          ],
          "name": "stderr"
        },
        {
          "output_type": "stream",
          "text": [
            " Done at step 729 (reseting env)\n"
          ],
          "name": "stdout"
        },
        {
          "output_type": "stream",
          "text": [
            " 79%|███████▉  | 158/200 [14:55<03:58,  5.68s/it]"
          ],
          "name": "stderr"
        },
        {
          "output_type": "stream",
          "text": [
            " Done at step 229 (reseting env)\n"
          ],
          "name": "stdout"
        },
        {
          "output_type": "stream",
          "text": [
            " 79%|███████▉  | 158/200 [14:56<03:58,  5.68s/it]"
          ],
          "name": "stderr"
        },
        {
          "output_type": "stream",
          "text": [
            " Done at step 405 (reseting env)\n"
          ],
          "name": "stdout"
        },
        {
          "output_type": "stream",
          "text": [
            " 79%|███████▉  | 158/200 [14:57<03:58,  5.68s/it]"
          ],
          "name": "stderr"
        },
        {
          "output_type": "stream",
          "text": [
            " Done at step 613 (reseting env)\n"
          ],
          "name": "stdout"
        },
        {
          "output_type": "stream",
          "text": [
            " 80%|███████▉  | 159/200 [15:01<03:53,  5.68s/it]"
          ],
          "name": "stderr"
        },
        {
          "output_type": "stream",
          "text": [
            " Done at step 152 (reseting env)\n"
          ],
          "name": "stdout"
        },
        {
          "output_type": "stream",
          "text": [
            " 80%|███████▉  | 159/200 [15:02<03:53,  5.68s/it]"
          ],
          "name": "stderr"
        },
        {
          "output_type": "stream",
          "text": [
            " Done at step 514 (reseting env)\n"
          ],
          "name": "stdout"
        },
        {
          "output_type": "stream",
          "text": [
            " 80%|████████  | 160/200 [15:06<03:47,  5.68s/it]"
          ],
          "name": "stderr"
        },
        {
          "output_type": "stream",
          "text": [
            " Saved trajectory 160 (of 200)\n",
            "\n",
            " Mean reward: 0.06, ep_rewards.shape == (1000,)\n",
            " Done at step 5 (reseting env)\n"
          ],
          "name": "stdout"
        },
        {
          "output_type": "stream",
          "text": [
            " 80%|████████  | 160/200 [15:07<03:47,  5.68s/it]"
          ],
          "name": "stderr"
        },
        {
          "output_type": "stream",
          "text": [
            " Done at step 481 (reseting env)\n"
          ],
          "name": "stdout"
        },
        {
          "output_type": "stream",
          "text": [
            " 80%|████████  | 160/200 [15:08<03:47,  5.68s/it]"
          ],
          "name": "stderr"
        },
        {
          "output_type": "stream",
          "text": [
            " Done at step 676 (reseting env)\n"
          ],
          "name": "stdout"
        },
        {
          "output_type": "stream",
          "text": [
            " 81%|████████  | 162/200 [15:18<03:32,  5.60s/it]"
          ],
          "name": "stderr"
        },
        {
          "output_type": "stream",
          "text": [
            " Done at step 333 (reseting env)\n"
          ],
          "name": "stdout"
        },
        {
          "output_type": "stream",
          "text": [
            " 81%|████████  | 162/200 [15:19<03:32,  5.60s/it]"
          ],
          "name": "stderr"
        },
        {
          "output_type": "stream",
          "text": [
            " Done at step 432 (reseting env)\n"
          ],
          "name": "stdout"
        },
        {
          "output_type": "stream",
          "text": [
            " 81%|████████  | 162/200 [15:20<03:32,  5.60s/it]"
          ],
          "name": "stderr"
        },
        {
          "output_type": "stream",
          "text": [
            " Done at step 883 (reseting env)\n",
            " Done at step 901 (reseting env)\n"
          ],
          "name": "stdout"
        },
        {
          "output_type": "stream",
          "text": [
            " 82%|████████▏ | 163/200 [15:23<03:28,  5.64s/it]"
          ],
          "name": "stderr"
        },
        {
          "output_type": "stream",
          "text": [
            " Done at step 10 (reseting env)\n"
          ],
          "name": "stdout"
        },
        {
          "output_type": "stream",
          "text": [
            " 82%|████████▏ | 163/200 [15:23<03:28,  5.64s/it]"
          ],
          "name": "stderr"
        },
        {
          "output_type": "stream",
          "text": [
            " Done at step 177 (reseting env)\n"
          ],
          "name": "stdout"
        },
        {
          "output_type": "stream",
          "text": [
            "                                       "
          ],
          "name": "stderr"
        },
        {
          "output_type": "stream",
          "text": [
            " Done at step 587 (reseting env)\n"
          ],
          "name": "stdout"
        },
        {
          "output_type": "stream",
          "text": [
            " 82%|████████▏ | 163/200 [15:25<03:28,  5.64s/it]"
          ],
          "name": "stderr"
        },
        {
          "output_type": "stream",
          "text": [
            " Done at step 635 (reseting env)\n",
            " Done at step 685 (reseting env)\n"
          ],
          "name": "stdout"
        },
        {
          "output_type": "stream",
          "text": [
            " 82%|████████▎ | 165/200 [15:34<03:17,  5.64s/it]"
          ],
          "name": "stderr"
        },
        {
          "output_type": "stream",
          "text": [
            " Done at step 5 (reseting env)\n"
          ],
          "name": "stdout"
        },
        {
          "output_type": "stream",
          "text": [
            " 84%|████████▎ | 167/200 [15:45<03:04,  5.58s/it]"
          ],
          "name": "stderr"
        },
        {
          "output_type": "stream",
          "text": [
            " Done at step 6 (reseting env)\n"
          ],
          "name": "stdout"
        },
        {
          "output_type": "stream",
          "text": [
            " 84%|████████▎ | 167/200 [15:46<03:04,  5.58s/it]"
          ],
          "name": "stderr"
        },
        {
          "output_type": "stream",
          "text": [
            " Done at step 368 (reseting env)\n"
          ],
          "name": "stdout"
        },
        {
          "output_type": "stream",
          "text": [
            " 84%|████████▎ | 167/200 [15:47<03:04,  5.58s/it]"
          ],
          "name": "stderr"
        },
        {
          "output_type": "stream",
          "text": [
            " Done at step 466 (reseting env)\n",
            " Done at step 486 (reseting env)\n"
          ],
          "name": "stdout"
        },
        {
          "output_type": "stream",
          "text": [
            " 84%|████████▎ | 167/200 [15:48<03:04,  5.58s/it]"
          ],
          "name": "stderr"
        },
        {
          "output_type": "stream",
          "text": [
            " Done at step 961 (reseting env)\n"
          ],
          "name": "stdout"
        },
        {
          "output_type": "stream",
          "text": [
            " 84%|████████▍ | 169/200 [15:57<02:54,  5.63s/it]"
          ],
          "name": "stderr"
        },
        {
          "output_type": "stream",
          "text": [
            " Done at step 6 (reseting env)\n"
          ],
          "name": "stdout"
        },
        {
          "output_type": "stream",
          "text": [
            " 84%|████████▍ | 169/200 [15:57<02:54,  5.63s/it]"
          ],
          "name": "stderr"
        },
        {
          "output_type": "stream",
          "text": [
            " Done at step 123 (reseting env)\n"
          ],
          "name": "stdout"
        },
        {
          "output_type": "stream",
          "text": [
            " 84%|████████▍ | 169/200 [15:58<02:54,  5.63s/it]"
          ],
          "name": "stderr"
        },
        {
          "output_type": "stream",
          "text": [
            " Done at step 337 (reseting env)\n"
          ],
          "name": "stdout"
        },
        {
          "output_type": "stream",
          "text": [
            " 84%|████████▍ | 169/200 [15:58<02:54,  5.63s/it]"
          ],
          "name": "stderr"
        },
        {
          "output_type": "stream",
          "text": [
            " Done at step 449 (reseting env)\n"
          ],
          "name": "stdout"
        },
        {
          "output_type": "stream",
          "text": [
            " 84%|████████▍ | 169/200 [15:59<02:54,  5.63s/it]"
          ],
          "name": "stderr"
        },
        {
          "output_type": "stream",
          "text": [
            " Done at step 695 (reseting env)\n"
          ],
          "name": "stdout"
        },
        {
          "output_type": "stream",
          "text": [
            " 85%|████████▌ | 170/200 [16:02<02:50,  5.69s/it]"
          ],
          "name": "stderr"
        },
        {
          "output_type": "stream",
          "text": [
            " Saved trajectory 170 (of 200)\n",
            "\n",
            " Mean reward: 0.04, ep_rewards.shape == (1000,)\n"
          ],
          "name": "stdout"
        },
        {
          "output_type": "stream",
          "text": [
            " 86%|████████▌ | 171/200 [16:08<02:44,  5.66s/it]"
          ],
          "name": "stderr"
        },
        {
          "output_type": "stream",
          "text": [
            " Done at step 6 (reseting env)\n"
          ],
          "name": "stdout"
        },
        {
          "output_type": "stream",
          "text": [
            " 86%|████████▌ | 171/200 [16:09<02:44,  5.66s/it]"
          ],
          "name": "stderr"
        },
        {
          "output_type": "stream",
          "text": [
            " Done at step 352 (reseting env)\n"
          ],
          "name": "stdout"
        },
        {
          "output_type": "stream",
          "text": [
            " 86%|████████▌ | 171/200 [16:11<02:44,  5.66s/it]"
          ],
          "name": "stderr"
        },
        {
          "output_type": "stream",
          "text": [
            " Done at step 943 (reseting env)\n"
          ],
          "name": "stdout"
        },
        {
          "output_type": "stream",
          "text": [
            " 86%|████████▌ | 172/200 [16:14<02:40,  5.74s/it]"
          ],
          "name": "stderr"
        },
        {
          "output_type": "stream",
          "text": [
            " Done at step 25 (reseting env)\n"
          ],
          "name": "stdout"
        },
        {
          "output_type": "stream",
          "text": [
            " 86%|████████▌ | 172/200 [16:15<02:40,  5.74s/it]"
          ],
          "name": "stderr"
        },
        {
          "output_type": "stream",
          "text": [
            " Done at step 207 (reseting env)\n"
          ],
          "name": "stdout"
        },
        {
          "output_type": "stream",
          "text": [
            " 86%|████████▌ | 172/200 [16:16<02:40,  5.74s/it]"
          ],
          "name": "stderr"
        },
        {
          "output_type": "stream",
          "text": [
            " Done at step 526 (reseting env)\n"
          ],
          "name": "stdout"
        },
        {
          "output_type": "stream",
          "text": [
            " 87%|████████▋ | 174/200 [16:27<02:29,  5.76s/it]"
          ],
          "name": "stderr"
        },
        {
          "output_type": "stream",
          "text": [
            " Done at step 422 (reseting env)\n"
          ],
          "name": "stdout"
        },
        {
          "output_type": "stream",
          "text": [
            " 87%|████████▋ | 174/200 [16:27<02:29,  5.76s/it]"
          ],
          "name": "stderr"
        },
        {
          "output_type": "stream",
          "text": [
            " Done at step 492 (reseting env)\n"
          ],
          "name": "stdout"
        },
        {
          "output_type": "stream",
          "text": [
            " 87%|████████▋ | 174/200 [16:28<02:29,  5.76s/it]"
          ],
          "name": "stderr"
        },
        {
          "output_type": "stream",
          "text": [
            " Done at step 862 (reseting env)\n"
          ],
          "name": "stdout"
        },
        {
          "output_type": "stream",
          "text": [
            " 90%|█████████ | 180/200 [16:59<01:50,  5.51s/it]"
          ],
          "name": "stderr"
        },
        {
          "output_type": "stream",
          "text": [
            " Saved trajectory 180 (of 200)\n",
            "\n",
            " Mean reward: 0.00, ep_rewards.shape == (1000,)\n",
            " Done at step 3 (reseting env)\n"
          ],
          "name": "stdout"
        },
        {
          "output_type": "stream",
          "text": [
            " 90%|█████████ | 181/200 [17:05<01:45,  5.54s/it]"
          ],
          "name": "stderr"
        },
        {
          "output_type": "stream",
          "text": [
            " Done at step 280 (reseting env)\n"
          ],
          "name": "stdout"
        },
        {
          "output_type": "stream",
          "text": [
            " 90%|█████████ | 181/200 [17:06<01:45,  5.54s/it]"
          ],
          "name": "stderr"
        },
        {
          "output_type": "stream",
          "text": [
            " Done at step 623 (reseting env)\n"
          ],
          "name": "stdout"
        },
        {
          "output_type": "stream",
          "text": [
            ""
          ],
          "name": "stderr"
        },
        {
          "output_type": "stream",
          "text": [
            " Done at step 2 (reseting env)\n"
          ],
          "name": "stdout"
        },
        {
          "output_type": "stream",
          "text": [
            " 91%|█████████ | 182/200 [17:10<01:42,  5.68s/it]"
          ],
          "name": "stderr"
        },
        {
          "output_type": "stream",
          "text": [
            " Done at step 59 (reseting env)\n",
            " Done at step 79 (reseting env)\n"
          ],
          "name": "stdout"
        },
        {
          "output_type": "stream",
          "text": [
            " 92%|█████████▏| 183/200 [17:17<01:37,  5.75s/it]"
          ],
          "name": "stderr"
        },
        {
          "output_type": "stream",
          "text": [
            " Done at step 477 (reseting env)\n"
          ],
          "name": "stdout"
        },
        {
          "output_type": "stream",
          "text": [
            " 92%|█████████▏| 183/200 [17:19<01:37,  5.75s/it]"
          ],
          "name": "stderr"
        },
        {
          "output_type": "stream",
          "text": [
            " Done at step 957 (reseting env)\n"
          ],
          "name": "stdout"
        },
        {
          "output_type": "stream",
          "text": [
            " 92%|█████████▏| 184/200 [17:23<01:31,  5.72s/it]"
          ],
          "name": "stderr"
        },
        {
          "output_type": "stream",
          "text": [
            " Done at step 405 (reseting env)\n"
          ],
          "name": "stdout"
        },
        {
          "output_type": "stream",
          "text": [
            " 92%|█████████▎| 185/200 [17:27<01:24,  5.60s/it]"
          ],
          "name": "stderr"
        },
        {
          "output_type": "stream",
          "text": [
            " Done at step 5 (reseting env)\n"
          ],
          "name": "stdout"
        },
        {
          "output_type": "stream",
          "text": [
            " 93%|█████████▎| 186/200 [17:33<01:18,  5.64s/it]"
          ],
          "name": "stderr"
        },
        {
          "output_type": "stream",
          "text": [
            " Done at step 1 (reseting env)\n"
          ],
          "name": "stdout"
        },
        {
          "output_type": "stream",
          "text": [
            " 93%|█████████▎| 186/200 [17:33<01:18,  5.64s/it]"
          ],
          "name": "stderr"
        },
        {
          "output_type": "stream",
          "text": [
            " Done at step 128 (reseting env)\n"
          ],
          "name": "stdout"
        },
        {
          "output_type": "stream",
          "text": [
            " 94%|█████████▎| 187/200 [17:41<01:13,  5.66s/it]"
          ],
          "name": "stderr"
        },
        {
          "output_type": "stream",
          "text": [
            " Done at step 788 (reseting env)\n"
          ],
          "name": "stdout"
        },
        {
          "output_type": "stream",
          "text": [
            " 94%|█████████▍| 188/200 [17:44<01:07,  5.65s/it]"
          ],
          "name": "stderr"
        },
        {
          "output_type": "stream",
          "text": [
            " Done at step 8 (reseting env)\n"
          ],
          "name": "stdout"
        },
        {
          "output_type": "stream",
          "text": [
            " 94%|█████████▍| 188/200 [17:45<01:07,  5.65s/it]"
          ],
          "name": "stderr"
        },
        {
          "output_type": "stream",
          "text": [
            " Done at step 248 (reseting env)\n"
          ],
          "name": "stdout"
        },
        {
          "output_type": "stream",
          "text": [
            " 94%|█████████▍| 188/200 [17:46<01:07,  5.65s/it]"
          ],
          "name": "stderr"
        },
        {
          "output_type": "stream",
          "text": [
            " Done at step 508 (reseting env)\n"
          ],
          "name": "stdout"
        },
        {
          "output_type": "stream",
          "text": [
            " 94%|█████████▍| 189/200 [17:52<01:01,  5.63s/it]"
          ],
          "name": "stderr"
        },
        {
          "output_type": "stream",
          "text": [
            " Done at step 821 (reseting env)\n"
          ],
          "name": "stdout"
        },
        {
          "output_type": "stream",
          "text": [
            " 95%|█████████▌| 190/200 [17:55<00:56,  5.63s/it]"
          ],
          "name": "stderr"
        },
        {
          "output_type": "stream",
          "text": [
            " Saved trajectory 190 (of 200)\n",
            "\n",
            " Mean reward: 0.06, ep_rewards.shape == (1000,)\n",
            " Done at step 24 (reseting env)\n"
          ],
          "name": "stdout"
        },
        {
          "output_type": "stream",
          "text": [
            " 95%|█████████▌| 190/200 [17:56<00:56,  5.63s/it]"
          ],
          "name": "stderr"
        },
        {
          "output_type": "stream",
          "text": [
            " Done at step 148 (reseting env)\n"
          ],
          "name": "stdout"
        },
        {
          "output_type": "stream",
          "text": [
            " 95%|█████████▌| 190/200 [17:57<00:56,  5.63s/it]"
          ],
          "name": "stderr"
        },
        {
          "output_type": "stream",
          "text": [
            " Done at step 657 (reseting env)\n"
          ],
          "name": "stdout"
        },
        {
          "output_type": "stream",
          "text": [
            " 95%|█████████▌| 190/200 [17:58<00:56,  5.63s/it]"
          ],
          "name": "stderr"
        },
        {
          "output_type": "stream",
          "text": [
            " Done at step 782 (reseting env)\n"
          ],
          "name": "stdout"
        },
        {
          "output_type": "stream",
          "text": [
            " 95%|█████████▌| 190/200 [17:58<00:56,  5.63s/it]"
          ],
          "name": "stderr"
        },
        {
          "output_type": "stream",
          "text": [
            " Done at step 910 (reseting env)\n"
          ],
          "name": "stdout"
        },
        {
          "output_type": "stream",
          "text": [
            " 96%|█████████▌| 191/200 [18:01<00:50,  5.65s/it]"
          ],
          "name": "stderr"
        },
        {
          "output_type": "stream",
          "text": [
            " Done at step 133 (reseting env)\n"
          ],
          "name": "stdout"
        },
        {
          "output_type": "stream",
          "text": [
            " 96%|█████████▌| 191/200 [18:02<00:50,  5.65s/it]"
          ],
          "name": "stderr"
        },
        {
          "output_type": "stream",
          "text": [
            " Done at step 251 (reseting env)\n"
          ],
          "name": "stdout"
        },
        {
          "output_type": "stream",
          "text": [
            " 96%|█████████▌| 191/200 [18:03<00:50,  5.65s/it]"
          ],
          "name": "stderr"
        },
        {
          "output_type": "stream",
          "text": [
            " Done at step 758 (reseting env)\n"
          ],
          "name": "stdout"
        },
        {
          "output_type": "stream",
          "text": [
            " 96%|█████████▌| 191/200 [18:04<00:50,  5.65s/it]"
          ],
          "name": "stderr"
        },
        {
          "output_type": "stream",
          "text": [
            " Done at step 896 (reseting env)\n"
          ],
          "name": "stdout"
        },
        {
          "output_type": "stream",
          "text": [
            " 96%|█████████▋| 193/200 [18:12<00:39,  5.68s/it]"
          ],
          "name": "stderr"
        },
        {
          "output_type": "stream",
          "text": [
            " Done at step 6 (reseting env)\n"
          ],
          "name": "stdout"
        },
        {
          "output_type": "stream",
          "text": [
            " 96%|█████████▋| 193/200 [18:14<00:39,  5.68s/it]"
          ],
          "name": "stderr"
        },
        {
          "output_type": "stream",
          "text": [
            " Done at step 542 (reseting env)\n"
          ],
          "name": "stdout"
        },
        {
          "output_type": "stream",
          "text": [
            " 96%|█████████▋| 193/200 [18:14<00:39,  5.68s/it]"
          ],
          "name": "stderr"
        },
        {
          "output_type": "stream",
          "text": [
            " Done at step 629 (reseting env)\n"
          ],
          "name": "stdout"
        },
        {
          "output_type": "stream",
          "text": [
            " 97%|█████████▋| 194/200 [18:18<00:33,  5.65s/it]"
          ],
          "name": "stderr"
        },
        {
          "output_type": "stream",
          "text": [
            " Done at step 165 (reseting env)\n"
          ],
          "name": "stdout"
        },
        {
          "output_type": "stream",
          "text": [
            " 97%|█████████▋| 194/200 [18:19<00:33,  5.65s/it]"
          ],
          "name": "stderr"
        },
        {
          "output_type": "stream",
          "text": [
            " Done at step 240 (reseting env)\n"
          ],
          "name": "stdout"
        },
        {
          "output_type": "stream",
          "text": [
            " 98%|█████████▊| 195/200 [18:25<00:28,  5.60s/it]"
          ],
          "name": "stderr"
        },
        {
          "output_type": "stream",
          "text": [
            " Done at step 506 (reseting env)\n"
          ],
          "name": "stdout"
        },
        {
          "output_type": "stream",
          "text": [
            " 98%|█████████▊| 195/200 [18:26<00:28,  5.60s/it]"
          ],
          "name": "stderr"
        },
        {
          "output_type": "stream",
          "text": [
            " Done at step 937 (reseting env)\n"
          ],
          "name": "stdout"
        },
        {
          "output_type": "stream",
          "text": [
            " 98%|█████████▊| 196/200 [18:29<00:22,  5.57s/it]"
          ],
          "name": "stderr"
        },
        {
          "output_type": "stream",
          "text": [
            " Done at step 114 (reseting env)\n"
          ],
          "name": "stdout"
        },
        {
          "output_type": "stream",
          "text": [
            " 98%|█████████▊| 196/200 [18:32<00:22,  5.57s/it]"
          ],
          "name": "stderr"
        },
        {
          "output_type": "stream",
          "text": [
            " Done at step 898 (reseting env)\n"
          ],
          "name": "stdout"
        },
        {
          "output_type": "stream",
          "text": [
            " 98%|█████████▊| 197/200 [18:35<00:16,  5.51s/it]"
          ],
          "name": "stderr"
        },
        {
          "output_type": "stream",
          "text": [
            " Done at step 91 (reseting env)\n"
          ],
          "name": "stdout"
        },
        {
          "output_type": "stream",
          "text": [
            " 98%|█████████▊| 197/200 [18:35<00:16,  5.51s/it]"
          ],
          "name": "stderr"
        },
        {
          "output_type": "stream",
          "text": [
            " Done at step 226 (reseting env)\n"
          ],
          "name": "stdout"
        },
        {
          "output_type": "stream",
          "text": [
            " 99%|█████████▉| 198/200 [18:41<00:11,  5.66s/it]"
          ],
          "name": "stderr"
        },
        {
          "output_type": "stream",
          "text": [
            " Done at step 298 (reseting env)\n"
          ],
          "name": "stdout"
        },
        {
          "output_type": "stream",
          "text": [
            "100%|█████████▉| 199/200 [18:46<00:05,  5.66s/it]"
          ],
          "name": "stderr"
        },
        {
          "output_type": "stream",
          "text": [
            " Done at step 2 (reseting env)\n"
          ],
          "name": "stdout"
        },
        {
          "output_type": "stream",
          "text": [
            "100%|█████████▉| 199/200 [18:47<00:05,  5.66s/it]"
          ],
          "name": "stderr"
        },
        {
          "output_type": "stream",
          "text": [
            " Done at step 262 (reseting env)\n"
          ],
          "name": "stdout"
        },
        {
          "output_type": "stream",
          "text": [
            "100%|██████████| 200/200 [18:52<00:00,  5.69s/it]\n"
          ],
          "name": "stderr"
        },
        {
          "output_type": "stream",
          "text": [
            " Saved trajectory 200 (of 200)\n",
            "\n",
            " Mean reward: 0.01, ep_rewards.shape == (1000,)\n",
            "\n",
            " Actions taken: NOOP, FIRE, UP, RIGHT\n",
            "Δt = 1133.99s\n",
            "================\n",
            "\n",
            "('PPO2', 'PongNoFrameskip-v4')\n",
            "Getting pre-trained agent from: 'rl-baselines-zoo/trained_agents/ppo2/PongNoFrameskip-v4.pkl'\n",
            "\n",
            "Images will be recorded to drive/My Drive/unicamp/MC886/atari/Dataset/data/PongNoFrameskip-v4_PPO2_1000s/images/\n",
            "\n"
          ],
          "name": "stdout"
        },
        {
          "output_type": "stream",
          "text": [
            " 21%|██        | 42/200 [55:55<18:37,  7.07s/it]"
          ],
          "name": "stderr"
        },
        {
          "output_type": "stream",
          "text": [
            " Done at step 688 (reseting env)\n"
          ],
          "name": "stdout"
        },
        {
          "output_type": "stream",
          "text": [
            " 21%|██        | 42/200 [56:05<18:37,  7.07s/it]"
          ],
          "name": "stderr"
        },
        {
          "output_type": "stream",
          "text": [
            " Done at step 388 (reseting env)\n"
          ],
          "name": "stdout"
        },
        {
          "output_type": "stream",
          "text": [
            " 21%|██        | 42/200 [56:16<18:37,  7.07s/it]"
          ],
          "name": "stderr"
        },
        {
          "output_type": "stream",
          "text": [
            " Done at step 361 (reseting env)\n"
          ],
          "name": "stdout"
        },
        {
          "output_type": "stream",
          "text": [
            " 21%|██        | 42/200 [56:29<18:37,  7.07s/it]"
          ],
          "name": "stderr"
        },
        {
          "output_type": "stream",
          "text": [
            " Done at step 903 (reseting env)\n"
          ],
          "name": "stdout"
        },
        {
          "output_type": "stream",
          "text": [
            "  5%|▌         | 10/200 [00:55<17:28,  5.52s/it]"
          ],
          "name": "stderr"
        },
        {
          "output_type": "stream",
          "text": [
            " Saved trajectory 10 (of 200)\n",
            "\n",
            " Mean reward: 0.01, ep_rewards.shape == (1000,)\n"
          ],
          "name": "stdout"
        },
        {
          "output_type": "stream",
          "text": [
            " 21%|██        | 42/200 [56:44<18:37,  7.07s/it]"
          ],
          "name": "stderr"
        },
        {
          "output_type": "stream",
          "text": [
            " Done at step 573 (reseting env)\n"
          ],
          "name": "stdout"
        },
        {
          "output_type": "stream",
          "text": [
            " 21%|██        | 42/200 [56:59<18:37,  7.07s/it]"
          ],
          "name": "stderr"
        },
        {
          "output_type": "stream",
          "text": [
            " Done at step 81 (reseting env)\n"
          ],
          "name": "stdout"
        },
        {
          "output_type": "stream",
          "text": [
            " 21%|██        | 42/200 [57:07<18:37,  7.07s/it]"
          ],
          "name": "stderr"
        },
        {
          "output_type": "stream",
          "text": [
            " Done at step 945 (reseting env)\n"
          ],
          "name": "stdout"
        },
        {
          "output_type": "stream",
          "text": [
            " 21%|██        | 42/200 [57:22<18:37,  7.07s/it]"
          ],
          "name": "stderr"
        },
        {
          "output_type": "stream",
          "text": [
            " Done at step 430 (reseting env)\n"
          ],
          "name": "stdout"
        },
        {
          "output_type": "stream",
          "text": [
            " 21%|██        | 42/200 [57:32<18:37,  7.07s/it]"
          ],
          "name": "stderr"
        },
        {
          "output_type": "stream",
          "text": [
            " Done at step 150 (reseting env)\n"
          ],
          "name": "stdout"
        },
        {
          "output_type": "stream",
          "text": [
            " 10%|█         | 20/200 [01:49<16:28,  5.49s/it]"
          ],
          "name": "stderr"
        },
        {
          "output_type": "stream",
          "text": [
            " Saved trajectory 20 (of 200)\n",
            "\n",
            " Mean reward: 0.01, ep_rewards.shape == (1000,)\n"
          ],
          "name": "stdout"
        },
        {
          "output_type": "stream",
          "text": [
            " 21%|██        | 42/200 [57:40<18:37,  7.07s/it]"
          ],
          "name": "stderr"
        },
        {
          "output_type": "stream",
          "text": [
            " Done at step 851 (reseting env)\n"
          ],
          "name": "stdout"
        },
        {
          "output_type": "stream",
          "text": [
            " 21%|██        | 42/200 [57:55<18:37,  7.07s/it]"
          ],
          "name": "stderr"
        },
        {
          "output_type": "stream",
          "text": [
            " Done at step 462 (reseting env)\n"
          ],
          "name": "stdout"
        },
        {
          "output_type": "stream",
          "text": [
            " 21%|██        | 42/200 [58:10<18:37,  7.07s/it]"
          ],
          "name": "stderr"
        },
        {
          "output_type": "stream",
          "text": [
            " Done at step 73 (reseting env)\n"
          ],
          "name": "stdout"
        },
        {
          "output_type": "stream",
          "text": [
            " 21%|██        | 42/200 [58:23<18:37,  7.07s/it]"
          ],
          "name": "stderr"
        },
        {
          "output_type": "stream",
          "text": [
            " Done at step 674 (reseting env)\n"
          ],
          "name": "stdout"
        },
        {
          "output_type": "stream",
          "text": [
            " 15%|█▌        | 30/200 [02:44<15:46,  5.57s/it]"
          ],
          "name": "stderr"
        },
        {
          "output_type": "stream",
          "text": [
            " Saved trajectory 30 (of 200)\n",
            "\n",
            " Mean reward: 0.01, ep_rewards.shape == (1000,)\n"
          ],
          "name": "stdout"
        },
        {
          "output_type": "stream",
          "text": [
            " 21%|██        | 42/200 [58:38<18:37,  7.07s/it]"
          ],
          "name": "stderr"
        },
        {
          "output_type": "stream",
          "text": [
            " Done at step 139 (reseting env)\n"
          ],
          "name": "stdout"
        },
        {
          "output_type": "stream",
          "text": [
            " 21%|██        | 42/200 [58:51<18:37,  7.07s/it]"
          ],
          "name": "stderr"
        },
        {
          "output_type": "stream",
          "text": [
            " Done at step 695 (reseting env)\n"
          ],
          "name": "stdout"
        },
        {
          "output_type": "stream",
          "text": [
            " 21%|██        | 42/200 [59:01<18:37,  7.07s/it]"
          ],
          "name": "stderr"
        },
        {
          "output_type": "stream",
          "text": [
            " Done at step 392 (reseting env)\n"
          ],
          "name": "stdout"
        },
        {
          "output_type": "stream",
          "text": [
            " 21%|██        | 42/200 [59:18<18:37,  7.07s/it]"
          ],
          "name": "stderr"
        },
        {
          "output_type": "stream",
          "text": [
            " Done at step 80 (reseting env)\n"
          ],
          "name": "stdout"
        },
        {
          "output_type": "stream",
          "text": [
            " 21%|██        | 42/200 [59:25<18:37,  7.07s/it]"
          ],
          "name": "stderr"
        },
        {
          "output_type": "stream",
          "text": [
            " Done at step 763 (reseting env)\n"
          ],
          "name": "stdout"
        },
        {
          "output_type": "stream",
          "text": [
            " 20%|██        | 40/200 [03:40<14:54,  5.59s/it]"
          ],
          "name": "stderr"
        },
        {
          "output_type": "stream",
          "text": [
            " Saved trajectory 40 (of 200)\n",
            "\n",
            " Mean reward: 0.01, ep_rewards.shape == (1000,)\n"
          ],
          "name": "stdout"
        },
        {
          "output_type": "stream",
          "text": [
            " 21%|██        | 42/200 [59:40<18:37,  7.07s/it]"
          ],
          "name": "stderr"
        },
        {
          "output_type": "stream",
          "text": [
            " Done at step 513 (reseting env)\n"
          ],
          "name": "stdout"
        },
        {
          "output_type": "stream",
          "text": [
            " 21%|██        | 42/200 [59:51<18:37,  7.07s/it]"
          ],
          "name": "stderr"
        },
        {
          "output_type": "stream",
          "text": [
            " Done at step 212 (reseting env)\n"
          ],
          "name": "stdout"
        },
        {
          "output_type": "stream",
          "text": [
            " 21%|██        | 42/200 [1:00:01<18:37,  7.07s/it]"
          ],
          "name": "stderr"
        },
        {
          "output_type": "stream",
          "text": [
            " Done at step 31 (reseting env)\n"
          ],
          "name": "stdout"
        },
        {
          "output_type": "stream",
          "text": [
            " 21%|██        | 42/200 [1:00:14<18:37,  7.07s/it]"
          ],
          "name": "stderr"
        },
        {
          "output_type": "stream",
          "text": [
            " Done at step 569 (reseting env)\n"
          ],
          "name": "stdout"
        },
        {
          "output_type": "stream",
          "text": [
            " 25%|██▌       | 50/200 [04:35<13:36,  5.45s/it]"
          ],
          "name": "stderr"
        },
        {
          "output_type": "stream",
          "text": [
            " Saved trajectory 50 (of 200)\n",
            "\n",
            " Mean reward: 0.01, ep_rewards.shape == (1000,)\n"
          ],
          "name": "stdout"
        },
        {
          "output_type": "stream",
          "text": [
            " 21%|██        | 42/200 [1:00:28<18:37,  7.07s/it]"
          ],
          "name": "stderr"
        },
        {
          "output_type": "stream",
          "text": [
            " Done at step 56 (reseting env)\n"
          ],
          "name": "stdout"
        },
        {
          "output_type": "stream",
          "text": [
            " 21%|██        | 42/200 [1:00:36<18:37,  7.07s/it]"
          ],
          "name": "stderr"
        },
        {
          "output_type": "stream",
          "text": [
            " Done at step 741 (reseting env)\n"
          ],
          "name": "stdout"
        },
        {
          "output_type": "stream",
          "text": [
            " 21%|██        | 42/200 [1:00:51<18:37,  7.07s/it]"
          ],
          "name": "stderr"
        },
        {
          "output_type": "stream",
          "text": [
            " Done at step 353 (reseting env)\n"
          ],
          "name": "stdout"
        },
        {
          "output_type": "stream",
          "text": [
            " 21%|██        | 42/200 [1:01:01<18:37,  7.07s/it]"
          ],
          "name": "stderr"
        },
        {
          "output_type": "stream",
          "text": [
            " Done at step 52 (reseting env)\n"
          ],
          "name": "stdout"
        },
        {
          "output_type": "stream",
          "text": [
            " 21%|██        | 42/200 [1:01:09<18:37,  7.07s/it]"
          ],
          "name": "stderr"
        },
        {
          "output_type": "stream",
          "text": [
            " Done at step 753 (reseting env)\n"
          ],
          "name": "stdout"
        },
        {
          "output_type": "stream",
          "text": [
            " 30%|███       | 60/200 [05:30<12:53,  5.53s/it]"
          ],
          "name": "stderr"
        },
        {
          "output_type": "stream",
          "text": [
            " Saved trajectory 60 (of 200)\n",
            "\n",
            " Mean reward: 0.01, ep_rewards.shape == (1000,)\n"
          ],
          "name": "stdout"
        },
        {
          "output_type": "stream",
          "text": [
            " 21%|██        | 42/200 [1:01:19<18:37,  7.07s/it]"
          ],
          "name": "stderr"
        },
        {
          "output_type": "stream",
          "text": [
            " Done at step 438 (reseting env)\n"
          ],
          "name": "stdout"
        },
        {
          "output_type": "stream",
          "text": [
            " 21%|██        | 42/200 [1:01:32<18:37,  7.07s/it]"
          ],
          "name": "stderr"
        },
        {
          "output_type": "stream",
          "text": [
            " Done at step 925 (reseting env)\n"
          ],
          "name": "stdout"
        },
        {
          "output_type": "stream",
          "text": [
            " 21%|██        | 42/200 [1:01:47<18:37,  7.07s/it]"
          ],
          "name": "stderr"
        },
        {
          "output_type": "stream",
          "text": [
            " Done at step 533 (reseting env)\n"
          ],
          "name": "stdout"
        },
        {
          "output_type": "stream",
          "text": [
            " 21%|██        | 42/200 [1:01:57<18:37,  7.07s/it]"
          ],
          "name": "stderr"
        },
        {
          "output_type": "stream",
          "text": [
            " Done at step 235 (reseting env)\n"
          ],
          "name": "stdout"
        },
        {
          "output_type": "stream",
          "text": [
            " 35%|███▌      | 70/200 [06:25<12:02,  5.56s/it]"
          ],
          "name": "stderr"
        },
        {
          "output_type": "stream",
          "text": [
            " Saved trajectory 70 (of 200)\n",
            "\n",
            " Mean reward: 0.01, ep_rewards.shape == (1000,)\n"
          ],
          "name": "stdout"
        },
        {
          "output_type": "stream",
          "text": [
            " 21%|██        | 42/200 [1:02:14<18:37,  7.07s/it]"
          ],
          "name": "stderr"
        },
        {
          "output_type": "stream",
          "text": [
            " Done at step 299 (reseting env)\n"
          ],
          "name": "stdout"
        },
        {
          "output_type": "stream",
          "text": [
            " 21%|██        | 42/200 [1:02:22<18:37,  7.07s/it]"
          ],
          "name": "stderr"
        },
        {
          "output_type": "stream",
          "text": [
            " Done at step 982 (reseting env)\n"
          ],
          "name": "stdout"
        },
        {
          "output_type": "stream",
          "text": [
            " 21%|██        | 42/200 [1:02:37<18:37,  7.07s/it]"
          ],
          "name": "stderr"
        },
        {
          "output_type": "stream",
          "text": [
            " Done at step 749 (reseting env)\n"
          ],
          "name": "stdout"
        },
        {
          "output_type": "stream",
          "text": [
            " 21%|██        | 42/200 [1:02:53<18:37,  7.07s/it]"
          ],
          "name": "stderr"
        },
        {
          "output_type": "stream",
          "text": [
            " Done at step 349 (reseting env)\n"
          ],
          "name": "stdout"
        },
        {
          "output_type": "stream",
          "text": [
            " 21%|██        | 42/200 [1:03:05<18:37,  7.07s/it]"
          ],
          "name": "stderr"
        },
        {
          "output_type": "stream",
          "text": [
            " Done at step 835 (reseting env)\n"
          ],
          "name": "stdout"
        },
        {
          "output_type": "stream",
          "text": [
            " 40%|████      | 80/200 [07:20<11:08,  5.57s/it]"
          ],
          "name": "stderr"
        },
        {
          "output_type": "stream",
          "text": [
            " Saved trajectory 80 (of 200)\n",
            "\n",
            " Mean reward: 0.01, ep_rewards.shape == (1000,)\n"
          ],
          "name": "stdout"
        },
        {
          "output_type": "stream",
          "text": [
            " 21%|██        | 42/200 [1:03:16<18:37,  7.07s/it]"
          ],
          "name": "stderr"
        },
        {
          "output_type": "stream",
          "text": [
            " Done at step 679 (reseting env)\n"
          ],
          "name": "stdout"
        },
        {
          "output_type": "stream",
          "text": [
            " 21%|██        | 42/200 [1:03:31<18:37,  7.07s/it]"
          ],
          "name": "stderr"
        },
        {
          "output_type": "stream",
          "text": [
            " Done at step 258 (reseting env)\n"
          ],
          "name": "stdout"
        },
        {
          "output_type": "stream",
          "text": [
            " 21%|██        | 42/200 [1:03:43<18:37,  7.07s/it]"
          ],
          "name": "stderr"
        },
        {
          "output_type": "stream",
          "text": [
            " Done at step 722 (reseting env)\n"
          ],
          "name": "stdout"
        },
        {
          "output_type": "stream",
          "text": [
            " 21%|██        | 42/200 [1:03:58<18:37,  7.07s/it]"
          ],
          "name": "stderr"
        },
        {
          "output_type": "stream",
          "text": [
            " Done at step 302 (reseting env)\n"
          ],
          "name": "stdout"
        },
        {
          "output_type": "stream",
          "text": [
            " 45%|████▌     | 90/200 [08:15<10:03,  5.49s/it]"
          ],
          "name": "stderr"
        },
        {
          "output_type": "stream",
          "text": [
            " Saved trajectory 90 (of 200)\n",
            "\n",
            " Mean reward: 0.01, ep_rewards.shape == (1000,)\n"
          ],
          "name": "stdout"
        },
        {
          "output_type": "stream",
          "text": [
            " 21%|██        | 42/200 [1:04:09<18:37,  7.07s/it]"
          ],
          "name": "stderr"
        },
        {
          "output_type": "stream",
          "text": [
            " Done at step 211 (reseting env)\n"
          ],
          "name": "stdout"
        },
        {
          "output_type": "stream",
          "text": [
            " 21%|██        | 42/200 [1:04:17<18:37,  7.07s/it]"
          ],
          "name": "stderr"
        },
        {
          "output_type": "stream",
          "text": [
            " Done at step 895 (reseting env)\n"
          ],
          "name": "stdout"
        },
        {
          "output_type": "stream",
          "text": [
            " 21%|██        | 42/200 [1:04:27<18:37,  7.07s/it]"
          ],
          "name": "stderr"
        },
        {
          "output_type": "stream",
          "text": [
            " Done at step 661 (reseting env)\n"
          ],
          "name": "stdout"
        },
        {
          "output_type": "stream",
          "text": [
            " 21%|██        | 42/200 [1:04:43<18:37,  7.07s/it]"
          ],
          "name": "stderr"
        },
        {
          "output_type": "stream",
          "text": [
            " Done at step 208 (reseting env)\n"
          ],
          "name": "stdout"
        },
        {
          "output_type": "stream",
          "text": [
            " 21%|██        | 42/200 [1:04:50<18:37,  7.07s/it]"
          ],
          "name": "stderr"
        },
        {
          "output_type": "stream",
          "text": [
            " Done at step 892 (reseting env)\n"
          ],
          "name": "stdout"
        },
        {
          "output_type": "stream",
          "text": [
            " 50%|█████     | 100/200 [09:11<09:16,  5.57s/it]"
          ],
          "name": "stderr"
        },
        {
          "output_type": "stream",
          "text": [
            " Saved trajectory 100 (of 200)\n",
            "\n",
            " Mean reward: 0.01, ep_rewards.shape == (1000,)\n"
          ],
          "name": "stdout"
        },
        {
          "output_type": "stream",
          "text": [
            " 21%|██        | 42/200 [1:05:01<18:37,  7.07s/it]"
          ],
          "name": "stderr"
        },
        {
          "output_type": "stream",
          "text": [
            " Done at step 629 (reseting env)\n"
          ],
          "name": "stdout"
        },
        {
          "output_type": "stream",
          "text": [
            " 21%|██        | 42/200 [1:05:11<18:37,  7.07s/it]"
          ],
          "name": "stderr"
        },
        {
          "output_type": "stream",
          "text": [
            " Done at step 308 (reseting env)\n"
          ],
          "name": "stdout"
        },
        {
          "output_type": "stream",
          "text": [
            " 21%|██        | 42/200 [1:05:21<18:37,  7.07s/it]"
          ],
          "name": "stderr"
        },
        {
          "output_type": "stream",
          "text": [
            " Done at step 7 (reseting env)\n"
          ],
          "name": "stdout"
        },
        {
          "output_type": "stream",
          "text": [
            " 21%|██        | 42/200 [1:05:34<18:37,  7.07s/it]"
          ],
          "name": "stderr"
        },
        {
          "output_type": "stream",
          "text": [
            " Done at step 835 (reseting env)\n"
          ],
          "name": "stdout"
        },
        {
          "output_type": "stream",
          "text": [
            " 21%|██        | 42/200 [1:05:50<18:37,  7.07s/it]"
          ],
          "name": "stderr"
        },
        {
          "output_type": "stream",
          "text": [
            " Done at step 373 (reseting env)\n"
          ],
          "name": "stdout"
        },
        {
          "output_type": "stream",
          "text": [
            " 55%|█████▌    | 110/200 [10:06<08:24,  5.60s/it]"
          ],
          "name": "stderr"
        },
        {
          "output_type": "stream",
          "text": [
            " Saved trajectory 110 (of 200)\n",
            "\n",
            " Mean reward: 0.01, ep_rewards.shape == (1000,)\n"
          ],
          "name": "stdout"
        },
        {
          "output_type": "stream",
          "text": [
            " 21%|██        | 42/200 [1:06:00<18:37,  7.07s/it]"
          ],
          "name": "stderr"
        },
        {
          "output_type": "stream",
          "text": [
            " Done at step 71 (reseting env)\n"
          ],
          "name": "stdout"
        },
        {
          "output_type": "stream",
          "text": [
            " 21%|██        | 42/200 [1:06:08<18:37,  7.07s/it]"
          ],
          "name": "stderr"
        },
        {
          "output_type": "stream",
          "text": [
            " Done at step 757 (reseting env)\n"
          ],
          "name": "stdout"
        },
        {
          "output_type": "stream",
          "text": [
            " 21%|██        | 42/200 [1:06:18<18:37,  7.07s/it]"
          ],
          "name": "stderr"
        },
        {
          "output_type": "stream",
          "text": [
            " Done at step 458 (reseting env)\n"
          ],
          "name": "stdout"
        },
        {
          "output_type": "stream",
          "text": [
            " 21%|██        | 42/200 [1:06:28<18:37,  7.07s/it]"
          ],
          "name": "stderr"
        },
        {
          "output_type": "stream",
          "text": [
            " Done at step 156 (reseting env)\n"
          ],
          "name": "stdout"
        },
        {
          "output_type": "stream",
          "text": [
            " 21%|██        | 42/200 [1:06:41<18:37,  7.07s/it]"
          ],
          "name": "stderr"
        },
        {
          "output_type": "stream",
          "text": [
            " Done at step 742 (reseting env)\n"
          ],
          "name": "stdout"
        },
        {
          "output_type": "stream",
          "text": [
            " 60%|██████    | 120/200 [11:02<07:25,  5.57s/it]"
          ],
          "name": "stderr"
        },
        {
          "output_type": "stream",
          "text": [
            " Saved trajectory 120 (of 200)\n",
            "\n",
            " Mean reward: 0.01, ep_rewards.shape == (1000,)\n"
          ],
          "name": "stdout"
        },
        {
          "output_type": "stream",
          "text": [
            " 21%|██        | 42/200 [1:06:56<18:37,  7.07s/it]"
          ],
          "name": "stderr"
        },
        {
          "output_type": "stream",
          "text": [
            " Done at step 277 (reseting env)\n"
          ],
          "name": "stdout"
        },
        {
          "output_type": "stream",
          "text": [
            " 21%|██        | 42/200 [1:07:09<18:37,  7.07s/it]"
          ],
          "name": "stderr"
        },
        {
          "output_type": "stream",
          "text": [
            " Done at step 770 (reseting env)\n"
          ],
          "name": "stdout"
        },
        {
          "output_type": "stream",
          "text": [
            " 21%|██        | 42/200 [1:07:24<18:37,  7.07s/it]"
          ],
          "name": "stderr"
        },
        {
          "output_type": "stream",
          "text": [
            " Done at step 318 (reseting env)\n"
          ],
          "name": "stdout"
        },
        {
          "output_type": "stream",
          "text": [
            " 21%|██        | 42/200 [1:07:35<18:37,  7.07s/it]"
          ],
          "name": "stderr"
        },
        {
          "output_type": "stream",
          "text": [
            " Done at step 82 (reseting env)\n"
          ],
          "name": "stdout"
        },
        {
          "output_type": "stream",
          "text": [
            " 21%|██        | 42/200 [1:07:42<18:37,  7.07s/it]"
          ],
          "name": "stderr"
        },
        {
          "output_type": "stream",
          "text": [
            " Done at step 771 (reseting env)\n"
          ],
          "name": "stdout"
        },
        {
          "output_type": "stream",
          "text": [
            " 65%|██████▌   | 130/200 [11:57<06:28,  5.55s/it]"
          ],
          "name": "stderr"
        },
        {
          "output_type": "stream",
          "text": [
            " Saved trajectory 130 (of 200)\n",
            "\n",
            " Mean reward: 0.01, ep_rewards.shape == (1000,)\n"
          ],
          "name": "stdout"
        },
        {
          "output_type": "stream",
          "text": [
            " 21%|██        | 42/200 [1:07:57<18:37,  7.07s/it]"
          ],
          "name": "stderr"
        },
        {
          "output_type": "stream",
          "text": [
            " Done at step 385 (reseting env)\n"
          ],
          "name": "stdout"
        },
        {
          "output_type": "stream",
          "text": [
            " 21%|██        | 42/200 [1:08:10<18:37,  7.07s/it]"
          ],
          "name": "stderr"
        },
        {
          "output_type": "stream",
          "text": [
            " Done at step 874 (reseting env)\n"
          ],
          "name": "stdout"
        },
        {
          "output_type": "stream",
          "text": [
            " 21%|██        | 42/200 [1:08:20<18:37,  7.07s/it]"
          ],
          "name": "stderr"
        },
        {
          "output_type": "stream",
          "text": [
            " Done at step 575 (reseting env)\n"
          ],
          "name": "stdout"
        },
        {
          "output_type": "stream",
          "text": [
            " 21%|██        | 42/200 [1:08:37<18:37,  7.07s/it]"
          ],
          "name": "stderr"
        },
        {
          "output_type": "stream",
          "text": [
            " Done at step 397 (reseting env)\n"
          ],
          "name": "stdout"
        },
        {
          "output_type": "stream",
          "text": [
            " 70%|███████   | 140/200 [12:54<05:46,  5.77s/it]"
          ],
          "name": "stderr"
        },
        {
          "output_type": "stream",
          "text": [
            " Saved trajectory 140 (of 200)\n",
            "\n",
            " Mean reward: 0.00, ep_rewards.shape == (1000,)\n"
          ],
          "name": "stdout"
        },
        {
          "output_type": "stream",
          "text": [
            " 21%|██        | 42/200 [1:08:50<18:37,  7.07s/it]"
          ],
          "name": "stderr"
        },
        {
          "output_type": "stream",
          "text": [
            " Done at step 948 (reseting env)\n"
          ],
          "name": "stdout"
        },
        {
          "output_type": "stream",
          "text": [
            " 21%|██        | 42/200 [1:09:01<18:37,  7.07s/it]"
          ],
          "name": "stderr"
        },
        {
          "output_type": "stream",
          "text": [
            " Done at step 698 (reseting env)\n"
          ],
          "name": "stdout"
        },
        {
          "output_type": "stream",
          "text": [
            " 21%|██        | 42/200 [1:09:17<18:37,  7.07s/it]"
          ],
          "name": "stderr"
        },
        {
          "output_type": "stream",
          "text": [
            " Done at step 367 (reseting env)\n"
          ],
          "name": "stdout"
        },
        {
          "output_type": "stream",
          "text": [
            " 21%|██        | 42/200 [1:09:29<18:37,  7.07s/it]"
          ],
          "name": "stderr"
        },
        {
          "output_type": "stream",
          "text": [
            " Done at step 920 (reseting env)\n"
          ],
          "name": "stdout"
        },
        {
          "output_type": "stream",
          "text": [
            " 75%|███████▌  | 150/200 [13:50<04:46,  5.73s/it]"
          ],
          "name": "stderr"
        },
        {
          "output_type": "stream",
          "text": [
            " Saved trajectory 150 (of 200)\n",
            "\n",
            " Mean reward: 0.01, ep_rewards.shape == (1000,)\n"
          ],
          "name": "stdout"
        },
        {
          "output_type": "stream",
          "text": [
            " 21%|██        | 42/200 [1:09:40<18:37,  7.07s/it]"
          ],
          "name": "stderr"
        },
        {
          "output_type": "stream",
          "text": [
            " Done at step 620 (reseting env)\n"
          ],
          "name": "stdout"
        },
        {
          "output_type": "stream",
          "text": [
            " 21%|██        | 42/200 [1:09:56<18:37,  7.07s/it]"
          ],
          "name": "stderr"
        },
        {
          "output_type": "stream",
          "text": [
            " Done at step 247 (reseting env)\n"
          ],
          "name": "stdout"
        },
        {
          "output_type": "stream",
          "text": [
            " 21%|██        | 42/200 [1:10:06<18:37,  7.07s/it]"
          ],
          "name": "stderr"
        },
        {
          "output_type": "stream",
          "text": [
            " Done at step 3 (reseting env)\n"
          ],
          "name": "stdout"
        },
        {
          "output_type": "stream",
          "text": [
            " 21%|██        | 42/200 [1:10:19<18:37,  7.07s/it]"
          ],
          "name": "stderr"
        },
        {
          "output_type": "stream",
          "text": [
            " Done at step 535 (reseting env)\n"
          ],
          "name": "stdout"
        },
        {
          "output_type": "stream",
          "text": [
            " 80%|████████  | 160/200 [14:46<03:43,  5.58s/it]"
          ],
          "name": "stderr"
        },
        {
          "output_type": "stream",
          "text": [
            " Saved trajectory 160 (of 200)\n",
            "\n",
            " Mean reward: 0.01, ep_rewards.shape == (1000,)\n"
          ],
          "name": "stdout"
        },
        {
          "output_type": "stream",
          "text": [
            " 21%|██        | 42/200 [1:10:34<18:37,  7.07s/it]"
          ],
          "name": "stderr"
        },
        {
          "output_type": "stream",
          "text": [
            " Done at step 114 (reseting env)\n"
          ],
          "name": "stdout"
        },
        {
          "output_type": "stream",
          "text": [
            " 21%|██        | 42/200 [1:10:42<18:37,  7.07s/it]"
          ],
          "name": "stderr"
        },
        {
          "output_type": "stream",
          "text": [
            " Done at step 850 (reseting env)\n"
          ],
          "name": "stdout"
        },
        {
          "output_type": "stream",
          "text": [
            " 21%|██        | 42/200 [1:10:53<18:37,  7.07s/it]"
          ],
          "name": "stderr"
        },
        {
          "output_type": "stream",
          "text": [
            " Done at step 722 (reseting env)\n"
          ],
          "name": "stdout"
        },
        {
          "output_type": "stream",
          "text": [
            " 21%|██        | 42/200 [1:11:08<18:37,  7.07s/it]"
          ],
          "name": "stderr"
        },
        {
          "output_type": "stream",
          "text": [
            " Done at step 314 (reseting env)\n"
          ],
          "name": "stdout"
        },
        {
          "output_type": "stream",
          "text": [
            " 21%|██        | 42/200 [1:11:24<18:37,  7.07s/it]"
          ],
          "name": "stderr"
        },
        {
          "output_type": "stream",
          "text": [
            " Done at step 35 (reseting env)\n"
          ],
          "name": "stdout"
        },
        {
          "output_type": "stream",
          "text": [
            " 85%|████████▌ | 170/200 [15:42<02:46,  5.54s/it]"
          ],
          "name": "stderr"
        },
        {
          "output_type": "stream",
          "text": [
            " Saved trajectory 170 (of 200)\n",
            "\n",
            " Mean reward: 0.01, ep_rewards.shape == (1000,)\n"
          ],
          "name": "stdout"
        },
        {
          "output_type": "stream",
          "text": [
            " 21%|██        | 42/200 [1:11:37<18:37,  7.07s/it]"
          ],
          "name": "stderr"
        },
        {
          "output_type": "stream",
          "text": [
            " Done at step 738 (reseting env)\n"
          ],
          "name": "stdout"
        },
        {
          "output_type": "stream",
          "text": [
            " 21%|██        | 42/200 [1:11:48<18:37,  7.07s/it]"
          ],
          "name": "stderr"
        },
        {
          "output_type": "stream",
          "text": [
            " Done at step 437 (reseting env)\n"
          ],
          "name": "stdout"
        },
        {
          "output_type": "stream",
          "text": [
            " 21%|██        | 42/200 [1:12:00<18:37,  7.07s/it]"
          ],
          "name": "stderr"
        },
        {
          "output_type": "stream",
          "text": [
            " Done at step 989 (reseting env)\n"
          ],
          "name": "stdout"
        },
        {
          "output_type": "stream",
          "text": [
            " 21%|██        | 42/200 [1:12:11<18:37,  7.07s/it]"
          ],
          "name": "stderr"
        },
        {
          "output_type": "stream",
          "text": [
            " Done at step 749 (reseting env)\n"
          ],
          "name": "stdout"
        },
        {
          "output_type": "stream",
          "text": [
            " 21%|██        | 42/200 [1:12:21<18:37,  7.07s/it]"
          ],
          "name": "stderr"
        },
        {
          "output_type": "stream",
          "text": [
            " Done at step 481 (reseting env)\n"
          ],
          "name": "stdout"
        },
        {
          "output_type": "stream",
          "text": [
            " 90%|█████████ | 180/200 [16:37<01:51,  5.58s/it]"
          ],
          "name": "stderr"
        },
        {
          "output_type": "stream",
          "text": [
            " Saved trajectory 180 (of 200)\n",
            "\n",
            " Mean reward: 0.01, ep_rewards.shape == (1000,)\n"
          ],
          "name": "stdout"
        },
        {
          "output_type": "stream",
          "text": [
            " 21%|██        | 42/200 [1:12:37<18:37,  7.07s/it]"
          ],
          "name": "stderr"
        },
        {
          "output_type": "stream",
          "text": [
            " Done at step 357 (reseting env)\n"
          ],
          "name": "stdout"
        },
        {
          "output_type": "stream",
          "text": [
            " 21%|██        | 42/200 [1:12:50<18:37,  7.07s/it]"
          ],
          "name": "stderr"
        },
        {
          "output_type": "stream",
          "text": [
            " Done at step 984 (reseting env)\n"
          ],
          "name": "stdout"
        },
        {
          "output_type": "stream",
          "text": [
            " 21%|██        | 42/200 [1:13:00<18:37,  7.07s/it]"
          ],
          "name": "stderr"
        },
        {
          "output_type": "stream",
          "text": [
            " Done at step 669 (reseting env)\n"
          ],
          "name": "stdout"
        },
        {
          "output_type": "stream",
          "text": [
            " 21%|██        | 42/200 [1:13:11<18:37,  7.07s/it]"
          ],
          "name": "stderr"
        },
        {
          "output_type": "stream",
          "text": [
            " Done at step 353 (reseting env)\n"
          ],
          "name": "stdout"
        },
        {
          "output_type": "stream",
          "text": [
            " 95%|█████████▌| 190/200 [17:32<00:55,  5.54s/it]"
          ],
          "name": "stderr"
        },
        {
          "output_type": "stream",
          "text": [
            " Saved trajectory 190 (of 200)\n",
            "\n",
            " Mean reward: 0.01, ep_rewards.shape == (1000,)\n"
          ],
          "name": "stdout"
        },
        {
          "output_type": "stream",
          "text": [
            " 21%|██        | 42/200 [1:13:23<18:37,  7.07s/it]"
          ],
          "name": "stderr"
        },
        {
          "output_type": "stream",
          "text": [
            " Done at step 975 (reseting env)\n"
          ],
          "name": "stdout"
        },
        {
          "output_type": "stream",
          "text": [
            " 21%|██        | 42/200 [1:13:40<18:37,  7.07s/it]"
          ],
          "name": "stderr"
        },
        {
          "output_type": "stream",
          "text": [
            " Done at step 914 (reseting env)\n"
          ],
          "name": "stdout"
        },
        {
          "output_type": "stream",
          "text": [
            " 21%|██        | 42/200 [1:13:55<18:37,  7.07s/it]"
          ],
          "name": "stderr"
        },
        {
          "output_type": "stream",
          "text": [
            " Done at step 461 (reseting env)\n"
          ],
          "name": "stdout"
        },
        {
          "output_type": "stream",
          "text": [
            " 21%|██        | 42/200 [1:14:11<18:37,  7.07s/it]"
          ],
          "name": "stderr"
        },
        {
          "output_type": "stream",
          "text": [
            " Done at step 11 (reseting env)\n"
          ],
          "name": "stdout"
        },
        {
          "output_type": "stream",
          "text": [
            "100%|██████████| 200/200 [18:28<00:00,  5.64s/it]"
          ],
          "name": "stderr"
        },
        {
          "output_type": "stream",
          "text": [
            " Saved trajectory 200 (of 200)\n",
            "\n",
            " Mean reward: 0.01, ep_rewards.shape == (1000,)\n",
            "\n",
            " Actions taken: NOOP, FIRE, UP, RIGHT, LEFT, DOWN\n",
            "Δt = 1110.49s\n",
            "================\n",
            "\n",
            "Total Δt = 2244.48s\n"
          ],
          "name": "stdout"
        },
        {
          "output_type": "stream",
          "text": [
            "\n"
          ],
          "name": "stderr"
        }
      ]
    },
    {
      "cell_type": "code",
      "metadata": {
        "id": "3eTSM4Lc7zN5",
        "colab_type": "code",
        "colab": {
          "base_uri": "https://localhost:8080/",
          "height": 1000
        },
        "outputId": "5ab083b2-673d-4860-b6c0-2bfac79b7d7c"
      },
      "source": [
        "!ls drive/My\\ Drive/unicamp/MC886/atari/Dataset/data/PongNoFrameskip-v4_PPO2_1000s/images/001/"
      ],
      "execution_count": 150,
      "outputs": [
        {
          "output_type": "stream",
          "text": [
            "0000.png  0125.png  0250.png  0375.png\t0500.png  0625.png  0750.png  0875.png\n",
            "0001.png  0126.png  0251.png  0376.png\t0501.png  0626.png  0751.png  0876.png\n",
            "0002.png  0127.png  0252.png  0377.png\t0502.png  0627.png  0752.png  0877.png\n",
            "0003.png  0128.png  0253.png  0378.png\t0503.png  0628.png  0753.png  0878.png\n",
            "0004.png  0129.png  0254.png  0379.png\t0504.png  0629.png  0754.png  0879.png\n",
            "0005.png  0130.png  0255.png  0380.png\t0505.png  0630.png  0755.png  0880.png\n",
            "0006.png  0131.png  0256.png  0381.png\t0506.png  0631.png  0756.png  0881.png\n",
            "0007.png  0132.png  0257.png  0382.png\t0507.png  0632.png  0757.png  0882.png\n",
            "0008.png  0133.png  0258.png  0383.png\t0508.png  0633.png  0758.png  0883.png\n",
            "0009.png  0134.png  0259.png  0384.png\t0509.png  0634.png  0759.png  0884.png\n",
            "0010.png  0135.png  0260.png  0385.png\t0510.png  0635.png  0760.png  0885.png\n",
            "0011.png  0136.png  0261.png  0386.png\t0511.png  0636.png  0761.png  0886.png\n",
            "0012.png  0137.png  0262.png  0387.png\t0512.png  0637.png  0762.png  0887.png\n",
            "0013.png  0138.png  0263.png  0388.png\t0513.png  0638.png  0763.png  0888.png\n",
            "0014.png  0139.png  0264.png  0389.png\t0514.png  0639.png  0764.png  0889.png\n",
            "0015.png  0140.png  0265.png  0390.png\t0515.png  0640.png  0765.png  0890.png\n",
            "0016.png  0141.png  0266.png  0391.png\t0516.png  0641.png  0766.png  0891.png\n",
            "0017.png  0142.png  0267.png  0392.png\t0517.png  0642.png  0767.png  0892.png\n",
            "0018.png  0143.png  0268.png  0393.png\t0518.png  0643.png  0768.png  0893.png\n",
            "0019.png  0144.png  0269.png  0394.png\t0519.png  0644.png  0769.png  0894.png\n",
            "0020.png  0145.png  0270.png  0395.png\t0520.png  0645.png  0770.png  0895.png\n",
            "0021.png  0146.png  0271.png  0396.png\t0521.png  0646.png  0771.png  0896.png\n",
            "0022.png  0147.png  0272.png  0397.png\t0522.png  0647.png  0772.png  0897.png\n",
            "0023.png  0148.png  0273.png  0398.png\t0523.png  0648.png  0773.png  0898.png\n",
            "0024.png  0149.png  0274.png  0399.png\t0524.png  0649.png  0774.png  0899.png\n",
            "0025.png  0150.png  0275.png  0400.png\t0525.png  0650.png  0775.png  0900.png\n",
            "0026.png  0151.png  0276.png  0401.png\t0526.png  0651.png  0776.png  0901.png\n",
            "0027.png  0152.png  0277.png  0402.png\t0527.png  0652.png  0777.png  0902.png\n",
            "0028.png  0153.png  0278.png  0403.png\t0528.png  0653.png  0778.png  0903.png\n",
            "0029.png  0154.png  0279.png  0404.png\t0529.png  0654.png  0779.png  0904.png\n",
            "0030.png  0155.png  0280.png  0405.png\t0530.png  0655.png  0780.png  0905.png\n",
            "0031.png  0156.png  0281.png  0406.png\t0531.png  0656.png  0781.png  0906.png\n",
            "0032.png  0157.png  0282.png  0407.png\t0532.png  0657.png  0782.png  0907.png\n",
            "0033.png  0158.png  0283.png  0408.png\t0533.png  0658.png  0783.png  0908.png\n",
            "0034.png  0159.png  0284.png  0409.png\t0534.png  0659.png  0784.png  0909.png\n",
            "0035.png  0160.png  0285.png  0410.png\t0535.png  0660.png  0785.png  0910.png\n",
            "0036.png  0161.png  0286.png  0411.png\t0536.png  0661.png  0786.png  0911.png\n",
            "0037.png  0162.png  0287.png  0412.png\t0537.png  0662.png  0787.png  0912.png\n",
            "0038.png  0163.png  0288.png  0413.png\t0538.png  0663.png  0788.png  0913.png\n",
            "0039.png  0164.png  0289.png  0414.png\t0539.png  0664.png  0789.png  0914.png\n",
            "0040.png  0165.png  0290.png  0415.png\t0540.png  0665.png  0790.png  0915.png\n",
            "0041.png  0166.png  0291.png  0416.png\t0541.png  0666.png  0791.png  0916.png\n",
            "0042.png  0167.png  0292.png  0417.png\t0542.png  0667.png  0792.png  0917.png\n",
            "0043.png  0168.png  0293.png  0418.png\t0543.png  0668.png  0793.png  0918.png\n",
            "0044.png  0169.png  0294.png  0419.png\t0544.png  0669.png  0794.png  0919.png\n",
            "0045.png  0170.png  0295.png  0420.png\t0545.png  0670.png  0795.png  0920.png\n",
            "0046.png  0171.png  0296.png  0421.png\t0546.png  0671.png  0796.png  0921.png\n",
            "0047.png  0172.png  0297.png  0422.png\t0547.png  0672.png  0797.png  0922.png\n",
            "0048.png  0173.png  0298.png  0423.png\t0548.png  0673.png  0798.png  0923.png\n",
            "0049.png  0174.png  0299.png  0424.png\t0549.png  0674.png  0799.png  0924.png\n",
            "0050.png  0175.png  0300.png  0425.png\t0550.png  0675.png  0800.png  0925.png\n",
            "0051.png  0176.png  0301.png  0426.png\t0551.png  0676.png  0801.png  0926.png\n",
            "0052.png  0177.png  0302.png  0427.png\t0552.png  0677.png  0802.png  0927.png\n",
            "0053.png  0178.png  0303.png  0428.png\t0553.png  0678.png  0803.png  0928.png\n",
            "0054.png  0179.png  0304.png  0429.png\t0554.png  0679.png  0804.png  0929.png\n",
            "0055.png  0180.png  0305.png  0430.png\t0555.png  0680.png  0805.png  0930.png\n",
            "0056.png  0181.png  0306.png  0431.png\t0556.png  0681.png  0806.png  0931.png\n",
            "0057.png  0182.png  0307.png  0432.png\t0557.png  0682.png  0807.png  0932.png\n",
            "0058.png  0183.png  0308.png  0433.png\t0558.png  0683.png  0808.png  0933.png\n",
            "0059.png  0184.png  0309.png  0434.png\t0559.png  0684.png  0809.png  0934.png\n",
            "0060.png  0185.png  0310.png  0435.png\t0560.png  0685.png  0810.png  0935.png\n",
            "0061.png  0186.png  0311.png  0436.png\t0561.png  0686.png  0811.png  0936.png\n",
            "0062.png  0187.png  0312.png  0437.png\t0562.png  0687.png  0812.png  0937.png\n",
            "0063.png  0188.png  0313.png  0438.png\t0563.png  0688.png  0813.png  0938.png\n",
            "0064.png  0189.png  0314.png  0439.png\t0564.png  0689.png  0814.png  0939.png\n",
            "0065.png  0190.png  0315.png  0440.png\t0565.png  0690.png  0815.png  0940.png\n",
            "0066.png  0191.png  0316.png  0441.png\t0566.png  0691.png  0816.png  0941.png\n",
            "0067.png  0192.png  0317.png  0442.png\t0567.png  0692.png  0817.png  0942.png\n",
            "0068.png  0193.png  0318.png  0443.png\t0568.png  0693.png  0818.png  0943.png\n",
            "0069.png  0194.png  0319.png  0444.png\t0569.png  0694.png  0819.png  0944.png\n",
            "0070.png  0195.png  0320.png  0445.png\t0570.png  0695.png  0820.png  0945.png\n",
            "0071.png  0196.png  0321.png  0446.png\t0571.png  0696.png  0821.png  0946.png\n",
            "0072.png  0197.png  0322.png  0447.png\t0572.png  0697.png  0822.png  0947.png\n",
            "0073.png  0198.png  0323.png  0448.png\t0573.png  0698.png  0823.png  0948.png\n",
            "0074.png  0199.png  0324.png  0449.png\t0574.png  0699.png  0824.png  0949.png\n",
            "0075.png  0200.png  0325.png  0450.png\t0575.png  0700.png  0825.png  0950.png\n",
            "0076.png  0201.png  0326.png  0451.png\t0576.png  0701.png  0826.png  0951.png\n",
            "0077.png  0202.png  0327.png  0452.png\t0577.png  0702.png  0827.png  0952.png\n",
            "0078.png  0203.png  0328.png  0453.png\t0578.png  0703.png  0828.png  0953.png\n",
            "0079.png  0204.png  0329.png  0454.png\t0579.png  0704.png  0829.png  0954.png\n",
            "0080.png  0205.png  0330.png  0455.png\t0580.png  0705.png  0830.png  0955.png\n",
            "0081.png  0206.png  0331.png  0456.png\t0581.png  0706.png  0831.png  0956.png\n",
            "0082.png  0207.png  0332.png  0457.png\t0582.png  0707.png  0832.png  0957.png\n",
            "0083.png  0208.png  0333.png  0458.png\t0583.png  0708.png  0833.png  0958.png\n",
            "0084.png  0209.png  0334.png  0459.png\t0584.png  0709.png  0834.png  0959.png\n",
            "0085.png  0210.png  0335.png  0460.png\t0585.png  0710.png  0835.png  0960.png\n",
            "0086.png  0211.png  0336.png  0461.png\t0586.png  0711.png  0836.png  0961.png\n",
            "0087.png  0212.png  0337.png  0462.png\t0587.png  0712.png  0837.png  0962.png\n",
            "0088.png  0213.png  0338.png  0463.png\t0588.png  0713.png  0838.png  0963.png\n",
            "0089.png  0214.png  0339.png  0464.png\t0589.png  0714.png  0839.png  0964.png\n",
            "0090.png  0215.png  0340.png  0465.png\t0590.png  0715.png  0840.png  0965.png\n",
            "0091.png  0216.png  0341.png  0466.png\t0591.png  0716.png  0841.png  0966.png\n",
            "0092.png  0217.png  0342.png  0467.png\t0592.png  0717.png  0842.png  0967.png\n",
            "0093.png  0218.png  0343.png  0468.png\t0593.png  0718.png  0843.png  0968.png\n",
            "0094.png  0219.png  0344.png  0469.png\t0594.png  0719.png  0844.png  0969.png\n",
            "0095.png  0220.png  0345.png  0470.png\t0595.png  0720.png  0845.png  0970.png\n",
            "0096.png  0221.png  0346.png  0471.png\t0596.png  0721.png  0846.png  0971.png\n",
            "0097.png  0222.png  0347.png  0472.png\t0597.png  0722.png  0847.png  0972.png\n",
            "0098.png  0223.png  0348.png  0473.png\t0598.png  0723.png  0848.png  0973.png\n",
            "0099.png  0224.png  0349.png  0474.png\t0599.png  0724.png  0849.png  0974.png\n",
            "0100.png  0225.png  0350.png  0475.png\t0600.png  0725.png  0850.png  0975.png\n",
            "0101.png  0226.png  0351.png  0476.png\t0601.png  0726.png  0851.png  0976.png\n",
            "0102.png  0227.png  0352.png  0477.png\t0602.png  0727.png  0852.png  0977.png\n",
            "0103.png  0228.png  0353.png  0478.png\t0603.png  0728.png  0853.png  0978.png\n",
            "0104.png  0229.png  0354.png  0479.png\t0604.png  0729.png  0854.png  0979.png\n",
            "0105.png  0230.png  0355.png  0480.png\t0605.png  0730.png  0855.png  0980.png\n",
            "0106.png  0231.png  0356.png  0481.png\t0606.png  0731.png  0856.png  0981.png\n",
            "0107.png  0232.png  0357.png  0482.png\t0607.png  0732.png  0857.png  0982.png\n",
            "0108.png  0233.png  0358.png  0483.png\t0608.png  0733.png  0858.png  0983.png\n",
            "0109.png  0234.png  0359.png  0484.png\t0609.png  0734.png  0859.png  0984.png\n",
            "0110.png  0235.png  0360.png  0485.png\t0610.png  0735.png  0860.png  0985.png\n",
            "0111.png  0236.png  0361.png  0486.png\t0611.png  0736.png  0861.png  0986.png\n",
            "0112.png  0237.png  0362.png  0487.png\t0612.png  0737.png  0862.png  0987.png\n",
            "0113.png  0238.png  0363.png  0488.png\t0613.png  0738.png  0863.png  0988.png\n",
            "0114.png  0239.png  0364.png  0489.png\t0614.png  0739.png  0864.png  0989.png\n",
            "0115.png  0240.png  0365.png  0490.png\t0615.png  0740.png  0865.png  0990.png\n",
            "0116.png  0241.png  0366.png  0491.png\t0616.png  0741.png  0866.png  0991.png\n",
            "0117.png  0242.png  0367.png  0492.png\t0617.png  0742.png  0867.png  0992.png\n",
            "0118.png  0243.png  0368.png  0493.png\t0618.png  0743.png  0868.png  0993.png\n",
            "0119.png  0244.png  0369.png  0494.png\t0619.png  0744.png  0869.png  0994.png\n",
            "0120.png  0245.png  0370.png  0495.png\t0620.png  0745.png  0870.png  0995.png\n",
            "0121.png  0246.png  0371.png  0496.png\t0621.png  0746.png  0871.png  0996.png\n",
            "0122.png  0247.png  0372.png  0497.png\t0622.png  0747.png  0872.png  0997.png\n",
            "0123.png  0248.png  0373.png  0498.png\t0623.png  0748.png  0873.png  0998.png\n",
            "0124.png  0249.png  0374.png  0499.png\t0624.png  0749.png  0874.png  0999.png\n"
          ],
          "name": "stdout"
        }
      ]
    },
    {
      "cell_type": "markdown",
      "metadata": {
        "id": "EkmS5sW_M76d",
        "colab_type": "text"
      },
      "source": [
        "## Use Stable Baseline's `generate_expert_traj`"
      ]
    },
    {
      "cell_type": "code",
      "metadata": {
        "id": "krB3TyHwT1dd",
        "colab_type": "code",
        "colab": {}
      },
      "source": [
        "TRAJ_IMAGES_FOLDER = \"images\" # name of the folder in which to save the observations\n",
        "TRAJ_FILE_NAME = \"trajectory\" # name of the .npz trajectory file"
      ],
      "execution_count": 0,
      "outputs": []
    },
    {
      "cell_type": "code",
      "metadata": {
        "id": "CM3TWb5sgZlD",
        "colab_type": "code",
        "outputId": "551aa02a-edbc-41f6-a815-39dcfdb8da44",
        "colab": {
          "base_uri": "https://localhost:8080/",
          "height": 54
        }
      },
      "source": [
        "print(LOG_DIR)\n",
        "print(logger.get_dir())"
      ],
      "execution_count": 0,
      "outputs": [
        {
          "output_type": "stream",
          "text": [
            "data/results\n",
            "/content/data/results\n"
          ],
          "name": "stdout"
        }
      ]
    },
    {
      "cell_type": "code",
      "metadata": {
        "id": "81YyG8d-NCV-",
        "colab_type": "code",
        "outputId": "cdf84b0f-ed7d-479e-a2fc-5dfe943b48bb",
        "colab": {
          "base_uri": "https://localhost:8080/",
          "height": 654
        }
      },
      "source": [
        "from stable_baselines.gail import generate_expert_traj\n",
        "\n",
        "time_start = time()\n",
        "print(\"================\")\n",
        "for algo, env_id in GAMES:\n",
        "    time_start_env = time()\n",
        "\n",
        "    env = make_atari_env(env_id, num_env=1, seed=0)\n",
        "    env = VecFrameStack(env, n_stack=4) # Frame-stacking with 4 frames\n",
        "    agent_path = os.path.join(PATH_TO_AGENTS, algo.lower(), env_id + '.pkl')\n",
        "    \n",
        "    print(f\"('{algo}', '{env_id}')\")\n",
        "    print(f\"Getting pre-trained agent from: '{agent_path}'\")\n",
        "    if VERBOSE > 1:\n",
        "        print(f\"env.envs: {env.envs}\")\n",
        "    print()\n",
        "    \n",
        "    model = ALGO_IMPL[algo].load(agent_path, env)\n",
        "    \n",
        "    traj_name = f\"{env_id}_{algo}_{N_OF_STEPS}s\"\n",
        "    generate_expert_traj(model, env=env, \n",
        "                         n_episodes=N_OF_TRAJECTORIES, \n",
        "                         save_path=os.path.join(SAVE_DIR, traj_name, TRAJ_FILE_NAME), \n",
        "                         image_folder=TRAJ_IMAGES_FOLDER)\n",
        "\n",
        "    env.close()\n",
        "    print(f\"\\nΔt = {(time() - time_start_env):.2f}s\")\n",
        "    print(\"================\")\n",
        "\n",
        "print(f\"\\nTotal Δt = {(time() - time_start):.2f}s\")"
      ],
      "execution_count": 0,
      "outputs": [
        {
          "output_type": "stream",
          "text": [
            "================\n",
            "('PPO2', 'BreakoutNoFrameskip-v4')\n",
            "Getting pre-trained agent from: 'rl-baselines-zoo/trained_agents/ppo2/BreakoutNoFrameskip-v4.pkl'\n",
            "env.envs: [<ClipRewardEnv<WarpFrame<FireResetEnv<EpisodicLifeEnv<Monitor<MaxAndSkipEnv<NoopResetEnv<TimeLimit<AtariEnv<BreakoutNoFrameskip-v4>>>>>>>>>>]\n",
            "\n",
            "==========\n",
            "Images will be recorded to data/BreakoutNoFrameskip-v4_PPO2_20s/images/\n",
            "Image shape: (84, 84, 4)\n",
            "==========\n",
            "actions (2182, 1)\n",
            "obs (2182,)\n",
            "rewards (2182, 1)\n",
            "episode_returns (2,)\n",
            "episode_starts (2182,)\n",
            "\n",
            "Δt = 8.31s\n",
            "================\n",
            "('PPO2', 'PongNoFrameskip-v4')\n",
            "Getting pre-trained agent from: 'rl-baselines-zoo/trained_agents/ppo2/PongNoFrameskip-v4.pkl'\n",
            "env.envs: [<ClipRewardEnv<WarpFrame<FireResetEnv<EpisodicLifeEnv<Monitor<MaxAndSkipEnv<NoopResetEnv<TimeLimit<AtariEnv<PongNoFrameskip-v4>>>>>>>>>>]\n",
            "\n",
            "==========\n",
            "Images will be recorded to data/PongNoFrameskip-v4_PPO2_20s/images/\n",
            "Image shape: (84, 84, 4)\n",
            "==========\n",
            "actions (3400, 1)\n",
            "obs (3400,)\n",
            "rewards (3400, 1)\n",
            "episode_returns (2,)\n",
            "episode_starts (3400,)\n",
            "\n",
            "Δt = 11.97s\n",
            "================\n",
            "\n",
            "Total Δt = 20.28s\n"
          ],
          "name": "stdout"
        }
      ]
    },
    {
      "cell_type": "markdown",
      "metadata": {
        "id": "_AmTVEEaTk3Q",
        "colab_type": "text"
      },
      "source": [
        "## Download generated dataset"
      ]
    },
    {
      "cell_type": "code",
      "metadata": {
        "id": "9FFwBqmxTnnH",
        "colab_type": "code",
        "outputId": "e8191d60-e464-4530-be01-51f574a19d6f",
        "colab": {
          "base_uri": "https://localhost:8080/",
          "height": 108
        }
      },
      "source": [
        "trajectories = []\n",
        "image_folders = []\n",
        "for save_folder in os.listdir(SAVE_DIR):\n",
        "    for x in os.listdir(os.path.join(SAVE_DIR, save_folder)):\n",
        "        path = os.path.join(SAVE_DIR, save_folder, x)\n",
        "        if x == TRAJ_IMAGES_FOLDER:\n",
        "            image_folders.append(path)\n",
        "        elif os.path.splitext(x)[0] == TRAJ_FILE_NAME:\n",
        "            trajectories.append(path)\n",
        "\n",
        "assert len(image_folders) == len(trajectories), f\"{len(image_folders)} != {len(trajectories)} (len(image_folders) != len(trajectories))\"\n",
        "\n",
        "print('\\n\\n'.join([traj + '\\n' + img_folder for traj, img_folder in zip(trajectories, image_folders)]))"
      ],
      "execution_count": 0,
      "outputs": [
        {
          "output_type": "stream",
          "text": [
            "data/BreakoutNoFrameskip-v4_PPO2_20s/trajectory.npz\n",
            "data/BreakoutNoFrameskip-v4_PPO2_20s/images\n",
            "\n",
            "data/PongNoFrameskip-v4_PPO2_20s/trajectory.npz\n",
            "data/PongNoFrameskip-v4_PPO2_20s/images\n"
          ],
          "name": "stdout"
        }
      ]
    },
    {
      "cell_type": "code",
      "metadata": {
        "id": "pOCcisNVlRbB",
        "colab_type": "code",
        "outputId": "2e4a00ea-7c53-4903-d087-a26d186c001e",
        "colab": {
          "base_uri": "https://localhost:8080/",
          "height": 35
        }
      },
      "source": [
        "x = np.load('data/PongNoFrameskip-v4_PPO2_20s/trajectory.npz', \n",
        "            allow_pickle=True, mmap_mode='r')\n",
        "print(x.files)"
      ],
      "execution_count": 0,
      "outputs": [
        {
          "output_type": "stream",
          "text": [
            "['actions', 'obs', 'rewards', 'episode_returns', 'episode_starts']\n"
          ],
          "name": "stdout"
        }
      ]
    },
    {
      "cell_type": "code",
      "metadata": {
        "id": "u9SB2IQLlUlX",
        "colab_type": "code",
        "colab": {}
      },
      "source": [
        "def print_trajectory_info(x):\n",
        "    # actions taken\n",
        "    print(\"- actions:\", x['actions'].shape)\n",
        "    print(\"  actions taken:\", ', '.join([ACTION_MEANING[action] for action in set(x['actions'].reshape(-1))]))\n",
        "    # path to the observed images\n",
        "    print(\"- obs:\", x['obs'].shape)\n",
        "    # reward for each step\n",
        "    print(\"- rewards:\", x['rewards'].shape)\n",
        "    print(\"  reward values:\", ', '.join([str(r) for r in set(x['rewards'].reshape(-1))]))\n",
        "    # reward for each trajectory\n",
        "    print(\"- episode_returns:\", x['episode_returns'].shape)\n",
        "    print(\"  episode returns\", x['episode_returns'])\n",
        "    # `done` value returned by env.step(action)\n",
        "    print(\"- episode_starts:\", x['episode_starts'].shape)\n",
        "    print(\"  episode starts:\", [i for i, ep_start in enumerate(x['episode_starts']) if ep_start])"
      ],
      "execution_count": 0,
      "outputs": []
    },
    {
      "cell_type": "code",
      "metadata": {
        "id": "gBMqViaRqR9D",
        "colab_type": "code",
        "outputId": "95a136fd-bce0-494f-a802-3708c1b0d3e2",
        "colab": {
          "base_uri": "https://localhost:8080/",
          "height": 435
        }
      },
      "source": [
        "print(\"================\")\n",
        "for trajectory in trajectories:\n",
        "    print(trajectory)\n",
        "    print_trajectory_info(np.load(trajectory, allow_pickle=True, mmap_mode='r'))\n",
        "    print(\"================\")"
      ],
      "execution_count": 0,
      "outputs": [
        {
          "output_type": "stream",
          "text": [
            "================\n",
            "data/BreakoutNoFrameskip-v4_PPO2_20s/trajectory.npz\n",
            "- actions: (2182, 1)\n",
            "  actions taken: NOOP, FIRE, UP, RIGHT\n",
            "- obs: (2182,)\n",
            "- rewards: (2182, 1)\n",
            "  reward values: 0.0, 1.0\n",
            "- episode_returns: (2,)\n",
            "  episode returns [96.  1.]\n",
            "- episode_starts: (2182,)\n",
            "  episode starts: [0, 2033]\n",
            "================\n",
            "data/PongNoFrameskip-v4_PPO2_20s/trajectory.npz\n",
            "- actions: (3400, 1)\n",
            "  actions taken: NOOP, FIRE, UP, RIGHT, LEFT, DOWN\n",
            "- obs: (3400,)\n",
            "- rewards: (3400, 1)\n",
            "  reward values: 0.0, 1.0\n",
            "- episode_returns: (2,)\n",
            "  episode returns [21. 21.]\n",
            "- episode_starts: (3400,)\n",
            "  episode starts: [0, 1691]\n",
            "================\n"
          ],
          "name": "stdout"
        }
      ]
    },
    {
      "cell_type": "markdown",
      "metadata": {
        "id": "Gwoq2YnzShiU",
        "colab_type": "text"
      },
      "source": [
        "## Evaluate agents\n",
        "Let's evaluate a few trajectories of each game from `GAMES` to get a sense of how the agents are performing"
      ]
    },
    {
      "cell_type": "code",
      "metadata": {
        "id": "70P1Tq1eTE6R",
        "colab_type": "code",
        "colab": {}
      },
      "source": [
        "# number of trajectories to evaluate each agent on\n",
        "N_OF_EVAL_TRAJECTORIES = 2\n",
        "\n",
        "results = {\n",
        "    'algo': [],\n",
        "    'env_id': [],\n",
        "    'mean_reward': [],\n",
        "    'std_reward': [],\n",
        "    'n_timesteps': [],\n",
        "    'n_episodes': []\n",
        "}\n",
        "\n",
        "TENSORBOARD_LOG = False\n",
        "# https://stable-baselines.readthedocs.io/en/master/guide/tensorboard.html\n",
        "\n",
        "if TENSORBOARD_LOG:\n",
        "    %load_ext tensorboard\n",
        "    %tensorboard --logdir tmp/tb_logs"
      ],
      "execution_count": 0,
      "outputs": []
    },
    {
      "cell_type": "code",
      "metadata": {
        "id": "ClxDKFaISpJ2",
        "colab_type": "code",
        "colab": {}
      },
      "source": [
        "time_start = time()\n",
        "print(\"================\")\n",
        "for algo, env_id in GAMES:\n",
        "    time_start_env = time()\n",
        "\n",
        "    env = make_atari_env(env_id, num_env=1, seed=0)\n",
        "    env = VecFrameStack(env, n_stack=4) # Frame-stacking with 4 frames\n",
        "    agent_path = os.path.join(PATH_TO_AGENTS, algo.lower(), env_id + '.pkl')\n",
        "    \n",
        "    print(f\"('{algo}', '{env_id}')\")\n",
        "    print(f\"Getting pre-trained agent from: '{agent_path}'\")\n",
        "    if VERBOSE > 1:\n",
        "        print(f\"env.envs: {env.envs}\")\n",
        "    print()\n",
        "    \n",
        "    model = ALGO_IMPL[algo].load(agent_path, env)\n",
        "    if TENSORBOARD_LOG:\n",
        "        model.tensorboard_log = os.path.join(LOG_DIR, f\"tb_logs\")\n",
        "        print(f\"Adding TensorBoard logs to '{model.tensorboard_log}/'\")\n",
        "    \n",
        "    for trajectory in tqdm(range(N_OF_EVAL_TRAJECTORIES), position=0, leave=True):\n",
        "        # episode stats\n",
        "        ep_len, ep_reward, ep_rewards = 0, 0.0, []\n",
        "\n",
        "        obs = env.reset() # (84, 84, 4)\n",
        "        for step in range(N_OF_STEPS):\n",
        "            action = model.predict(obs)\n",
        "            # clip action to avoid out of bound errors\n",
        "            if isinstance(env.action_space, gym.spaces.Box):\n",
        "                action = np.clip(action, env.action_space.low, env.action_space.high)\n",
        "            \n",
        "            obs, reward, done, infos = env.step(action)\n",
        "            # NOTE action, reward and done are arrays since we're using a vectorized env\n",
        "            _env = env.envs[0]\n",
        "            # tqdm.write(f\"env.envs[0].episode_rewards: {env.envs[0].episode_rewards}\")\n",
        "            # tqdm.write(f\"env.envs[0].episode_lengths: {env.envs[0].episode_lengths}\")\n",
        "            # tqdm.write(f\"env.envs[0].episode_times: {env.envs[0].episode_times}\")\n",
        "            # tqdm.write(f\"env.envs[0].rewards: {env.envs[0].rewards}\")\n",
        "\n",
        "            # NOTE the return reward is not the Atari score\n",
        "            #      so we have to get it from the infos dict\n",
        "            ep_infos = infos[0].get('episode')\n",
        "            if ep_infos is not None:\n",
        "                tqdm.write(f\"\\nAtari Episode Score: {ep_infos['r']:.2f}\")\n",
        "                tqdm.write(f\"Atari Episode Length: {ep_infos['l']}\")\n",
        "                #tqdm.write(f\"\\nAtari Episode Score: {round(sum(_env.rewards), 6):.2f}\")\n",
        "                #tqdm.write(f\"Atari Episode Length: {len(_env.rewards)}\")\n",
        "            \n",
        "            # FIXME ep_infos is always None \n",
        "            # try checking stable-baselines' Monitor.step()\n",
        "            if infos is not None: # debug\n",
        "                # if step == 0:\n",
        "                #     tqdm.write(f\"(DEBUG) step == 0: {infos}\")\n",
        "                if len(infos) > 1:\n",
        "                    tqdm.write(f\"(DEBUG) infos: {infos}\")\n",
        "                elif len(infos[0].keys()) > 1:\n",
        "                    if 'terminal_observation' not in infos[0].keys() or len(infos[0].keys()) > 2:\n",
        "                        tqdm.write(f\"(DEBUG) infos[0]: {infos[0]}\")\n",
        "\n",
        "            ep_len += 1\n",
        "            ep_reward += reward[0]\n",
        "            if done:\n",
        "                obs = env.reset()\n",
        "                ep_rewards.append(ep_reward)\n",
        "                if VERBOSE > 1:\n",
        "                    tqdm.write(f\"\\nEpisode Reward: {ep_reward:.2f}\")\n",
        "                    tqdm.write(f\"Episode Length: {ep_len}\")\n",
        "                ep_reward = 0.0\n",
        "                ep_len = 0\n",
        "        \n",
        "        if VERBOSE > 0:\n",
        "            tqdm.write(\"\\nMean reward: {:.2f}, len(ep_rewards) == {}\".format(\n",
        "                       np.mean(ep_rewards) if len(ep_rewards) > 0 else 0.0, \n",
        "                       len(ep_rewards)))\n",
        "\n",
        "    env.close()\n",
        "    print(f\"Δt = {(time() - time_start_env):.2f}s\")\n",
        "    print(\"================\")\n",
        "\n",
        "print(f\"Total Δt = {(time() - time_start):.2f}s\")"
      ],
      "execution_count": 0,
      "outputs": []
    },
    {
      "cell_type": "code",
      "metadata": {
        "id": "SVTn0snAndBQ",
        "colab_type": "code",
        "colab": {}
      },
      "source": [
        "!ls data/results/"
      ],
      "execution_count": 0,
      "outputs": []
    },
    {
      "cell_type": "markdown",
      "metadata": {
        "id": "gHrpWV5vNviz",
        "colab_type": "text"
      },
      "source": [
        "## Generate trajectories"
      ]
    },
    {
      "cell_type": "markdown",
      "metadata": {
        "id": "MFvNuI8vb75g",
        "colab_type": "text"
      },
      "source": [
        "Note that we use `make_atari_env` + `VecFrameStack` for `NoFrameskip-v4` environments, so each frame is converted to grayscale and downscaled from 210x160 to 84x84. Therefore, the $observation$ shape is `(84, 84, 4)` (four stacked frames), and **not** `(210, 160, 3)`, nor `(84, 84, 1)`."
      ]
    },
    {
      "cell_type": "code",
      "metadata": {
        "id": "m2ugXR8sZ6RM",
        "colab_type": "code",
        "colab": {}
      },
      "source": [
        "PRINT_EARLY_DONE = False\n",
        "PRINT_ACTIONS_TAKEN = False\n",
        "\n",
        "PRINT_EVERY_N_TRAJECTORIES = N_OF_TRAJECTORIES // 10\n",
        "# uncomment below not to print\n",
        "# PRINT_EVERY_N_TRAJECTORIES = N_OF_TRAJECTORIES + 1"
      ],
      "execution_count": 0,
      "outputs": []
    },
    {
      "cell_type": "markdown",
      "metadata": {
        "id": "cAKJ7SOIjA8q",
        "colab_type": "text"
      },
      "source": [
        "**TODO: evaluate the trajectories before saving the final datasets**  \n",
        "**TODO: add button to load from data/ or save to drive**"
      ]
    },
    {
      "cell_type": "code",
      "metadata": {
        "id": "RvtLqqVZwFEW",
        "colab_type": "code",
        "colab": {}
      },
      "source": [
        "time_start = time()\n",
        "print(\"PRINT_EVERY_N_TRAJECTORIES:\", PRINT_EVERY_N_TRAJECTORIES)\n",
        "print(\"N_OF_TRAJECTORIES:\", N_OF_TRAJECTORIES)\n",
        "print(\"N_OF_STEPS:\", N_OF_STEPS)\n",
        "print(\"================\")\n",
        "for algo, env_id in GAMES:\n",
        "    time_start_env = time()\n",
        "\n",
        "    env = make_atari_env(env_id, num_env=1, seed=0)\n",
        "    env = VecFrameStack(env, n_stack=4) # Frame-stacking with 4 frames\n",
        "    agent_path = os.path.join(PATH_TO_AGENTS, algo.lower(), env_id + '.pkl')\n",
        "    \n",
        "    print(f\"('{algo}', '{env_id}')\")\n",
        "    print(f\"Getting pre-trained agent from: '{agent_path}'\\n\")\n",
        "    \n",
        "    model = ALGO_IMPL[algo].load(agent_path, env)\n",
        "    \n",
        "    for trajectory in tqdm(range(N_OF_TRAJECTORIES), position=0, leave=True):\n",
        "        # store the \"obs -> action\" mapping\n",
        "        observed_states, actions_taken = [], []\n",
        "\n",
        "        obs = env.reset() # (84, 84, 4)\n",
        "        for step in range(N_OF_STEPS):\n",
        "            observed_states.append(obs)\n",
        "            action = model.predict(obs)\n",
        "            actions_taken.append(action)\n",
        "            obs, reward, done, infos = env.step(action)\n",
        "            if done:\n",
        "                obs = env.reset()\n",
        "                if PRINT_EARLY_DONE:\n",
        "                    print(f\"done at step {step + 1} (reseting env)\")\n",
        "        \n",
        "        # NOTE action, reward and done are arrays since we're using a vectorized env\n",
        "        observed_states = [obs[0] for obs in observed_states]\n",
        "        actions_taken = [action[0][0] for action in actions_taken]\n",
        "        \n",
        "        np.savez_compressed(file=os.path.join(SAVE_DIR, f\"{env_id}_{algo}_t{trajectory+1}_{N_OF_STEPS}s\"), \n",
        "                            observations=observed_states, actions=actions_taken)\n",
        "        \n",
        "        if (trajectory + 1) % 10 == 0:\n",
        "            print(f\" Saved trajectory {trajectory+1} (of {N_OF_TRAJECTORIES})\")\n",
        "\n",
        "        if PRINT_ACTIONS_TAKEN and trajectory == N_OF_TRAJECTORIES - 1:\n",
        "            print(\"\\nActions taken:\", \", \".join([ACTION_MEANING[action] for action in set(actions_taken)]))\n",
        "\n",
        "    del observed_states\n",
        "    del actions_taken\n",
        "    env.close()\n",
        "    print(f\"Δt = {(time() - time_start_env):.2f}s\")\n",
        "    print(\"================\")\n",
        "\n",
        "print(f\"Total Δt = {(time() - time_start):.2f}s\")"
      ],
      "execution_count": 0,
      "outputs": []
    },
    {
      "cell_type": "code",
      "metadata": {
        "id": "40zclw3dAGcv",
        "colab_type": "code",
        "colab": {}
      },
      "source": [
        "trajectory_filenames = []\n",
        "for r, ds, fs in os.walk(SAVE_DIR): # r=root, d=directories, f=files\n",
        "    print(r + '/')\n",
        "    for f in fs:\n",
        "        print(\"|___\", f)\n",
        "        trajectory_filenames.append(f)"
      ],
      "execution_count": 0,
      "outputs": []
    },
    {
      "cell_type": "code",
      "metadata": {
        "id": "Td2MzGZK_7ht",
        "colab_type": "code",
        "colab": {}
      },
      "source": [
        "test_trajectory_filename = trajectory_filenames[0]\n",
        "print(f\"Loading from '{test_trajectory_filename}'\\n\")\n",
        "\n",
        "test_trajectory_load = np.load(os.path.join(SAVE_DIR, test_trajectory_filename), \n",
        "                               allow_pickle=True)\n",
        "\n",
        "print(\"observations shape:\", test_trajectory_load['observations'].shape)\n",
        "print(\"actions shape:\", test_trajectory_load['actions'].shape)"
      ],
      "execution_count": 0,
      "outputs": []
    },
    {
      "cell_type": "code",
      "metadata": {
        "id": "I6vHSNX5YFng",
        "colab_type": "code",
        "colab": {}
      },
      "source": [
        "# https://github.com/araffin/rl-baselines-zoo/blob/master/utils/record_video.py\n",
        "# https://github.com/araffin/rl-baselines-zoo/blob/master/enjoy.py\n",
        "# https://github.com/hill-a/stable-baselines#try-it-online-with-colab-notebooks-"
      ],
      "execution_count": 0,
      "outputs": []
    },
    {
      "cell_type": "markdown",
      "metadata": {
        "id": "k-bxg62b_5N7",
        "colab_type": "text"
      },
      "source": [
        "## Old"
      ]
    },
    {
      "cell_type": "code",
      "metadata": {
        "id": "5Ump8v2czCIR",
        "colab_type": "code",
        "colab": {}
      },
      "source": [
        "# def save_as_image(observation, save_dir, img_name, prefix=\"img_\", downscale=False):\n",
        "#     # downscaling the image\n",
        "#     if downscale:\n",
        "#         im_array = cv2.resize(observation, INP_IMAGE_SHAPE) # TODO test tf.image.resize\n",
        "#         im_array = np.array(im_array, dtype='float32')\n",
        "#         im_array = (im_array/127.5) - 1\n",
        "#         im = PIL.Image.fromarray(im_array, 'RGB')\n",
        "#     else:\n",
        "#         try:\n",
        "#             im = PIL.Image.fromarray(observation, 'RGB')\n",
        "#         except:\n",
        "#             print(type(observation))\n",
        "#     imname = \"{}{}.png\".format(prefix, img_name)\n",
        "#     im.save(os.path.join(save_dir, imname))"
      ],
      "execution_count": 0,
      "outputs": []
    },
    {
      "cell_type": "code",
      "metadata": {
        "id": "n74gjFzbzkJf",
        "colab_type": "code",
        "colab": {}
      },
      "source": [
        "# # you can change the default values here\n",
        "# save_dir = SAVE_DIR\n",
        "# num_images = IMAGES_TO_GENERATE"
      ],
      "execution_count": 0,
      "outputs": []
    },
    {
      "cell_type": "code",
      "metadata": {
        "id": "_wd6qHz4zyp7",
        "colab_type": "code",
        "colab": {}
      },
      "source": [
        "# os.makedirs(save_dir, exist_ok=True)"
      ],
      "execution_count": 0,
      "outputs": []
    },
    {
      "cell_type": "code",
      "metadata": {
        "id": "RHKIU3Vn0AcL",
        "colab_type": "code",
        "colab": {}
      },
      "source": [
        "# envs = [gym.make(env_id) for env_id in ENV_IDS]"
      ],
      "execution_count": 0,
      "outputs": []
    },
    {
      "cell_type": "code",
      "metadata": {
        "id": "0Z4YJ4XV0HF0",
        "colab_type": "code",
        "colab": {}
      },
      "source": [
        "# for env_id, env in zip(ENV_IDS, envs):\n",
        "#     print(env_id)\n",
        "#     env_dir = os.path.join(save_dir, f\"{env_id}_{IMAGES_TO_GENERATE}\")\n",
        "#     os.makedirs(env_dir, exist_ok=True)\n",
        "    \n",
        "#     env.reset()\n",
        "#     i, current_env_images = 0, 0\n",
        "    \n",
        "#     actions_taken = []\n",
        "#     while i < num_images:\n",
        "#         # take a random action (sampled from the action space)\n",
        "#         action = env.action_space.sample()\n",
        "#         actions_taken.append(action)\n",
        "#         assert 0 <= action < 18, f\"action = {action}\"\n",
        "#         obs, _, done, _ = env.step(action)\n",
        "#         if np.mean(obs) > 0.01:\n",
        "#             save_as_image(obs, env_dir, str(i))\n",
        "#             i += 1\n",
        "#         else:\n",
        "#             print(\"should I have been reached?\")\n",
        "#             continue\n",
        "#         if done:\n",
        "#             print(f\"reseting {env_id} at i={i}\")\n",
        "#             env.reset()\n",
        "    \n",
        "#     actions_taken = np.asarray(actions_taken, dtype='int8')\n",
        "#     print(actions_taken.shape, actions_taken.size, actions_taken.dtype)\n",
        "#     np.save(os.path.join(save_dir, f\"{env_id}_{IMAGES_TO_GENERATE}_actions\"), actions_taken)"
      ],
      "execution_count": 0,
      "outputs": []
    },
    {
      "cell_type": "code",
      "metadata": {
        "colab_type": "code",
        "id": "NZCKFvS4J3sd",
        "colab": {}
      },
      "source": [
        "# IMG_SIZE = 160 # All images will be resized to 160x160\n",
        "\n",
        "# def load_image(image_path):\n",
        "#     image = tf.io.read_file(image_path)\n",
        "#     image = tf.image.decode_png(image, channels=3)\n",
        "#     image = tf.cast(image, tf.float32)\n",
        "#     image = (image/127.5) - 1\n",
        "#     image = tf.image.resize(image, (IMG_SIZE, IMG_SIZE))\n",
        "#     return image, image_path\n",
        "\n",
        "# IMG_SHAPE = (IMG_SIZE, IMG_SIZE, 3)\n",
        "\n",
        "# # Create the base model from the pre-trained model MobileNet V2\n",
        "# base_model = tf.keras.applications.MobileNetV2(input_shape=IMG_SHAPE,\n",
        "#                                                include_top=False,\n",
        "#                                                weights='imagenet')\n",
        "\n",
        "# s = time()\n",
        "# # Get unique images\n",
        "# encode_train = img_name_vector\n",
        "\n",
        "# # Feel free to change batch_size according to your system configuration\n",
        "# image_dataset = tf.data.Dataset.from_tensor_slices(encode_train)\n",
        "# image_dataset = image_dataset.map(\n",
        "#   load_image, num_parallel_calls=tf.data.experimental.AUTOTUNE).batch(16)\n",
        "\n",
        "# print((time()-s)/1000)\n",
        "\n",
        "# for img, path in image_dataset:\n",
        "#   batch_features = image_features_extract_model(img)\n",
        "#   batch_features = tf.reshape(batch_features,\n",
        "#                               (batch_features.shape[0], -1, batch_features.shape[3]))\n",
        "\n",
        "#   for bf, p in zip(batch_features, path):\n",
        "#     path_of_feature = p.numpy().decode(\"utf-8\")\n",
        "#     np.save(path_of_feature, bf.numpy())"
      ],
      "execution_count": 0,
      "outputs": []
    }
  ]
}