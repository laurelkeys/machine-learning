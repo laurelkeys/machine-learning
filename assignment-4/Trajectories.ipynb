{
  "nbformat": 4,
  "nbformat_minor": 0,
  "metadata": {
    "colab": {
      "name": "Trajectories.ipynb",
      "provenance": [],
      "collapsed_sections": [],
      "include_colab_link": true
    },
    "kernelspec": {
      "name": "python3",
      "display_name": "Python 3"
    }
  },
  "cells": [
    {
      "cell_type": "markdown",
      "metadata": {
        "id": "view-in-github",
        "colab_type": "text"
      },
      "source": [
        "<a href=\"https://colab.research.google.com/github/laurelkeys/machine-learning/blob/master/assignment-4/Trajectories.ipynb\" target=\"_parent\"><img src=\"https://colab.research.google.com/assets/colab-badge.svg\" alt=\"Open In Colab\"/></a>"
      ]
    },
    {
      "cell_type": "code",
      "metadata": {
        "id": "ZdbVbyXqsjUs",
        "colab_type": "code",
        "colab": {}
      },
      "source": [
        "import os\n",
        "import cv2\n",
        "import gym\n",
        "import random\n",
        "import numpy as np\n",
        "from PIL import Image"
      ],
      "execution_count": 0,
      "outputs": []
    },
    {
      "cell_type": "code",
      "metadata": {
        "id": "xR_6KaB_yBEf",
        "colab_type": "code",
        "colab": {}
      },
      "source": [
        "# The 210x160 RGB Atari images are converted to grayscale and downsampled to 84x84\n",
        "# ref.: https://github.com/hill-a/stable-baselines/blob/master/stable_baselines/common/atari_wrappers.py#L172\n",
        "INP_IMAGE_SHAPE = (84, 84)\n",
        "INP_IMAGE_SIZE  = np.prod(INP_IMAGE_SHAPE)"
      ],
      "execution_count": 0,
      "outputs": []
    },
    {
      "cell_type": "code",
      "metadata": {
        "id": "QsTkqJmFybEE",
        "colab_type": "code",
        "colab": {}
      },
      "source": [
        "# environments used to generate images\n",
        "ENV_IDS = [\"Breakout-v0\", \"Pong-v0\"]"
      ],
      "execution_count": 0,
      "outputs": []
    },
    {
      "cell_type": "code",
      "metadata": {
        "id": "Bim5UMq9y6ss",
        "colab_type": "code",
        "colab": {}
      },
      "source": [
        "SAVE_DIR = \"data\"\n",
        "\n",
        "IMAGES_TO_GENERATE = 10000\n",
        "\n",
        "MAX_IMAGES_PER_ENV_INSTANCE = 5"
      ],
      "execution_count": 0,
      "outputs": []
    },
    {
      "cell_type": "code",
      "metadata": {
        "id": "5Ump8v2czCIR",
        "colab_type": "code",
        "colab": {}
      },
      "source": [
        "def save_as_image(observation, save_dir, img_name, prefix=\"img_\"):\n",
        "    # downscaling the image\n",
        "    im_array = cv2.resize(observation, INP_IMAGE_SHAPE) # TODO test tf.image.resize\n",
        "    im = Image.fromarray(im_array, 'RGB')\n",
        "    imname = \"{}{}.png\".format(prefix, img_name)\n",
        "    im.save(os.path.join(save_dir, imname))"
      ],
      "execution_count": 0,
      "outputs": []
    },
    {
      "cell_type": "code",
      "metadata": {
        "id": "n74gjFzbzkJf",
        "colab_type": "code",
        "colab": {}
      },
      "source": [
        "# you can change the default values here\n",
        "save_dir = SAVE_DIR\n",
        "num_images = IMAGES_TO_GENERATE"
      ],
      "execution_count": 0,
      "outputs": []
    },
    {
      "cell_type": "code",
      "metadata": {
        "id": "_wd6qHz4zyp7",
        "colab_type": "code",
        "colab": {}
      },
      "source": [
        "os.makedirs(save_dir, exist_ok=True)"
      ],
      "execution_count": 0,
      "outputs": []
    },
    {
      "cell_type": "code",
      "metadata": {
        "id": "RHKIU3Vn0AcL",
        "colab_type": "code",
        "colab": {}
      },
      "source": [
        "envs = [gym.make(env_id) for env_id in ENV_IDS]"
      ],
      "execution_count": 0,
      "outputs": []
    },
    {
      "cell_type": "code",
      "metadata": {
        "id": "0Z4YJ4XV0HF0",
        "colab_type": "code",
        "outputId": "6f57e23c-7b9d-4483-c98a-f0f55c45c771",
        "colab": {
          "base_uri": "https://localhost:8080/",
          "height": 54
        }
      },
      "source": [
        "for env_id, env in zip(ENV_IDS, envs):\n",
        "    print(env_id)\n",
        "    \n",
        "    env.reset()\n",
        "    i, current_env_images = 0, 0\n",
        "    \n",
        "    while i < num_images:\n",
        "        # take a random action (sampled from the action space)\n",
        "        obs, _, is_done, _ = env.step(env.action_space.sample())\n",
        "        if np.mean(obs) > 0.01:\n",
        "            save_as_image(obs, save_dir, f\"{env_id}_{i}\")\n",
        "            current_env_images += 1\n",
        "            i += 1\n",
        "        else:\n",
        "            print(\"a\")\n",
        "            continue\n",
        "        if is_done or current_env_images % MAX_IMAGES_PER_ENV_INSTANCE == 0:\n",
        "            current_env_images = 0\n",
        "            env = random.choice(envs)\n",
        "            env.reset()"
      ],
      "execution_count": 0,
      "outputs": [
        {
          "output_type": "stream",
          "text": [
            "Breakout-v0\n",
            "Pong-v0\n"
          ],
          "name": "stdout"
        }
      ]
    },
    {
      "cell_type": "code",
      "metadata": {
        "id": "DRHr6vha0HzI",
        "colab_type": "code",
        "colab": {}
      },
      "source": [
        "# ref.: https://github.com/satwikkansal/atari_gan/blob/master/generate_data.py"
      ],
      "execution_count": 0,
      "outputs": []
    },
    {
      "cell_type": "code",
      "metadata": {
        "id": "R09AEnEl1S5b",
        "colab_type": "code",
        "outputId": "e09fc781-7580-419d-b755-4c9e043267c3",
        "colab": {
          "base_uri": "https://localhost:8080/",
          "height": 90
        }
      },
      "source": [
        "!ls -U data/ | head -4"
      ],
      "execution_count": 0,
      "outputs": [
        {
          "output_type": "stream",
          "text": [
            "img_Breakout-v0_7146.png\n",
            "img_Pong-v0_2010.png\n",
            "img_Pong-v0_3908.png\n",
            "img_Breakout-v0_5384.png\n"
          ],
          "name": "stdout"
        }
      ]
    },
    {
      "cell_type": "code",
      "metadata": {
        "id": "phkzZnxg1TeF",
        "colab_type": "code",
        "outputId": "ae46e19e-3104-4ecd-8f61-1b6893782c1f",
        "colab": {
          "base_uri": "https://localhost:8080/",
          "height": 101
        }
      },
      "source": [
        "from IPython.display import Image\n",
        "Image('data/img_Breakout-v0_7146.png')"
      ],
      "execution_count": 0,
      "outputs": [
        {
          "output_type": "execute_result",
          "data": {
            "image/png": "[encoded data removed]",
            "text/plain": [
              "<IPython.core.display.Image object>"
            ]
          },
          "metadata": {
            "tags": []
          },
          "execution_count": 37
        }
      ]
    },
    {
      "cell_type": "code",
      "metadata": {
        "id": "frqJ2GFv22md",
        "colab_type": "code",
        "colab": {}
      },
      "source": [
        "# TODO download data/"
      ],
      "execution_count": 0,
      "outputs": []
    }
  ]
}