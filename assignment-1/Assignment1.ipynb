{
 "cells": [
  {
   "cell_type": "markdown",
   "metadata": {},
   "source": [
    "## Importing libs and loading the dataset"
   ]
  },
  {
   "cell_type": "code",
   "execution_count": 1,
   "metadata": {},
   "outputs": [],
   "source": [
    "import numpy as np\n",
    "import pandas as pd\n",
    "import seaborn as sns\n",
    "import matplotlib.pyplot as plt"
   ]
  },
  {
   "cell_type": "code",
   "execution_count": 2,
   "metadata": {},
   "outputs": [],
   "source": [
    "%matplotlib inline\n",
    "sns.set() # apply the seaborn defaults to plotted figures (e.g. theme, scaling, color palette), instead of matplotlib's"
   ]
  },
  {
   "cell_type": "code",
   "execution_count": 3,
   "metadata": {
    "scrolled": true
   },
   "outputs": [
    {
     "data": {
      "text/plain": [
       "(48204, 9)"
      ]
     },
     "execution_count": 3,
     "metadata": {},
     "output_type": "execute_result"
    }
   ],
   "source": [
    "dataset_csv_path = \"Metro_Interstate_Traffic_Volume.csv\" # 8 attributes of 48,204 examples (plus the target column)\n",
    "\n",
    "# loading the dataset with pandas (instead of numpy or csv) since there are different datatypes\n",
    "dataset_csv = pd.read_csv(dataset_csv_path, delimiter=',')\n",
    "dataset_csv.shape"
   ]
  },
  {
   "cell_type": "markdown",
   "metadata": {},
   "source": [
    "## Dataset attributes\n",
    "- 1: **holiday**: US National holidays plus regional holiday, Minnesota State Fair\n",
    "- 2: **temp**: average temp in kelvin\n",
    "- 3: **rain 1h**: amount in mm of rain that occurred in the hour\n",
    "- 4: **snow 1h**: amount in mm of snow that occurred in the hour\n",
    "- 5: **clouds all**: percentage of cloud cover\n",
    "- 6: **weather main**: short textual description of the current weather\n",
    "- 7: **weather description**: longer textual description of the current weather\n",
    "- 8: **date time**: hour of the data collected in local CST time\n",
    "- target: **traffic volume**: traffic volume"
   ]
  },
  {
   "cell_type": "code",
   "execution_count": 4,
   "metadata": {},
   "outputs": [
    {
     "data": {
      "text/plain": [
       "holiday                 object\n",
       "temp                   float64\n",
       "rain_1h                float64\n",
       "snow_1h                float64\n",
       "clouds_all               int64\n",
       "weather_main            object\n",
       "weather_description     object\n",
       "date_time               object\n",
       "traffic_volume           int64\n",
       "dtype: object"
      ]
     },
     "execution_count": 4,
     "metadata": {},
     "output_type": "execute_result"
    }
   ],
   "source": [
    "dataset_csv.dtypes"
   ]
  },
  {
   "cell_type": "markdown",
   "metadata": {},
   "source": [
    "## 0. Visualize the data"
   ]
  },
  {
   "cell_type": "code",
   "execution_count": 5,
   "metadata": {},
   "outputs": [
    {
     "data": {
      "text/html": [
       "<div>\n",
       "<style scoped>\n",
       "    .dataframe tbody tr th:only-of-type {\n",
       "        vertical-align: middle;\n",
       "    }\n",
       "\n",
       "    .dataframe tbody tr th {\n",
       "        vertical-align: top;\n",
       "    }\n",
       "\n",
       "    .dataframe thead th {\n",
       "        text-align: right;\n",
       "    }\n",
       "</style>\n",
       "<table border=\"1\" class=\"dataframe\">\n",
       "  <thead>\n",
       "    <tr style=\"text-align: right;\">\n",
       "      <th></th>\n",
       "      <th>holiday</th>\n",
       "      <th>temp</th>\n",
       "      <th>rain_1h</th>\n",
       "      <th>snow_1h</th>\n",
       "      <th>clouds_all</th>\n",
       "      <th>weather_main</th>\n",
       "      <th>weather_description</th>\n",
       "      <th>date_time</th>\n",
       "      <th>traffic_volume</th>\n",
       "    </tr>\n",
       "  </thead>\n",
       "  <tbody>\n",
       "    <tr>\n",
       "      <th>min</th>\n",
       "      <td>Christmas Day</td>\n",
       "      <td>0.000000</td>\n",
       "      <td>0.000000</td>\n",
       "      <td>0.000000</td>\n",
       "      <td>0.000000</td>\n",
       "      <td>Clear</td>\n",
       "      <td>SQUALLS</td>\n",
       "      <td>2012-10-02 09:00:00</td>\n",
       "      <td>0.000000</td>\n",
       "    </tr>\n",
       "    <tr>\n",
       "      <th>max</th>\n",
       "      <td>Washingtons Birthday</td>\n",
       "      <td>310.070000</td>\n",
       "      <td>9831.300000</td>\n",
       "      <td>0.510000</td>\n",
       "      <td>100.000000</td>\n",
       "      <td>Thunderstorm</td>\n",
       "      <td>very heavy rain</td>\n",
       "      <td>2018-09-30 23:00:00</td>\n",
       "      <td>7280.000000</td>\n",
       "    </tr>\n",
       "    <tr>\n",
       "      <th>median</th>\n",
       "      <td>NaN</td>\n",
       "      <td>282.450000</td>\n",
       "      <td>0.000000</td>\n",
       "      <td>0.000000</td>\n",
       "      <td>64.000000</td>\n",
       "      <td>NaN</td>\n",
       "      <td>NaN</td>\n",
       "      <td>NaN</td>\n",
       "      <td>3380.000000</td>\n",
       "    </tr>\n",
       "    <tr>\n",
       "      <th>mean</th>\n",
       "      <td>NaN</td>\n",
       "      <td>281.205870</td>\n",
       "      <td>0.334264</td>\n",
       "      <td>0.000222</td>\n",
       "      <td>49.362231</td>\n",
       "      <td>NaN</td>\n",
       "      <td>NaN</td>\n",
       "      <td>NaN</td>\n",
       "      <td>3259.818355</td>\n",
       "    </tr>\n",
       "    <tr>\n",
       "      <th>std</th>\n",
       "      <td>NaN</td>\n",
       "      <td>13.338232</td>\n",
       "      <td>44.789133</td>\n",
       "      <td>0.008168</td>\n",
       "      <td>39.015750</td>\n",
       "      <td>NaN</td>\n",
       "      <td>NaN</td>\n",
       "      <td>NaN</td>\n",
       "      <td>1986.860670</td>\n",
       "    </tr>\n",
       "  </tbody>\n",
       "</table>\n",
       "</div>"
      ],
      "text/plain": [
       "                     holiday        temp      rain_1h   snow_1h  clouds_all  \\\n",
       "min            Christmas Day    0.000000     0.000000  0.000000    0.000000   \n",
       "max     Washingtons Birthday  310.070000  9831.300000  0.510000  100.000000   \n",
       "median                   NaN  282.450000     0.000000  0.000000   64.000000   \n",
       "mean                     NaN  281.205870     0.334264  0.000222   49.362231   \n",
       "std                      NaN   13.338232    44.789133  0.008168   39.015750   \n",
       "\n",
       "        weather_main weather_description            date_time  traffic_volume  \n",
       "min            Clear             SQUALLS  2012-10-02 09:00:00        0.000000  \n",
       "max     Thunderstorm     very heavy rain  2018-09-30 23:00:00     7280.000000  \n",
       "median           NaN                 NaN                  NaN     3380.000000  \n",
       "mean             NaN                 NaN                  NaN     3259.818355  \n",
       "std              NaN                 NaN                  NaN     1986.860670  "
      ]
     },
     "execution_count": 5,
     "metadata": {},
     "output_type": "execute_result"
    }
   ],
   "source": [
    "dataset_csv.agg([\"min\", \"max\", \"median\", \"mean\", \"std\"])"
   ]
  },
  {
   "cell_type": "code",
   "execution_count": 6,
   "metadata": {},
   "outputs": [
    {
     "data": {
      "text/html": [
       "<div>\n",
       "<style scoped>\n",
       "    .dataframe tbody tr th:only-of-type {\n",
       "        vertical-align: middle;\n",
       "    }\n",
       "\n",
       "    .dataframe tbody tr th {\n",
       "        vertical-align: top;\n",
       "    }\n",
       "\n",
       "    .dataframe thead th {\n",
       "        text-align: right;\n",
       "    }\n",
       "</style>\n",
       "<table border=\"1\" class=\"dataframe\">\n",
       "  <thead>\n",
       "    <tr style=\"text-align: right;\">\n",
       "      <th></th>\n",
       "      <th>size</th>\n",
       "      <th>temp_celsius</th>\n",
       "      <th>temp</th>\n",
       "      <th>traffic_volume</th>\n",
       "    </tr>\n",
       "    <tr>\n",
       "      <th>weather_main</th>\n",
       "      <th></th>\n",
       "      <th></th>\n",
       "      <th></th>\n",
       "      <th></th>\n",
       "    </tr>\n",
       "  </thead>\n",
       "  <tbody>\n",
       "    <tr>\n",
       "      <th>Clouds</th>\n",
       "      <td>15164</td>\n",
       "      <td>8.316101</td>\n",
       "      <td>281.466101</td>\n",
       "      <td>3618.449749</td>\n",
       "    </tr>\n",
       "    <tr>\n",
       "      <th>Haze</th>\n",
       "      <td>1360</td>\n",
       "      <td>2.668581</td>\n",
       "      <td>275.818581</td>\n",
       "      <td>3502.101471</td>\n",
       "    </tr>\n",
       "    <tr>\n",
       "      <th>Rain</th>\n",
       "      <td>5672</td>\n",
       "      <td>13.829586</td>\n",
       "      <td>286.979586</td>\n",
       "      <td>3317.905501</td>\n",
       "    </tr>\n",
       "    <tr>\n",
       "      <th>Drizzle</th>\n",
       "      <td>1821</td>\n",
       "      <td>10.645431</td>\n",
       "      <td>283.795431</td>\n",
       "      <td>3290.727073</td>\n",
       "    </tr>\n",
       "    <tr>\n",
       "      <th>Smoke</th>\n",
       "      <td>20</td>\n",
       "      <td>17.777500</td>\n",
       "      <td>290.927500</td>\n",
       "      <td>3237.650000</td>\n",
       "    </tr>\n",
       "    <tr>\n",
       "      <th>Clear</th>\n",
       "      <td>13391</td>\n",
       "      <td>8.339971</td>\n",
       "      <td>281.489971</td>\n",
       "      <td>3055.908819</td>\n",
       "    </tr>\n",
       "    <tr>\n",
       "      <th>Snow</th>\n",
       "      <td>2876</td>\n",
       "      <td>-5.194812</td>\n",
       "      <td>267.955188</td>\n",
       "      <td>3016.844228</td>\n",
       "    </tr>\n",
       "    <tr>\n",
       "      <th>Thunderstorm</th>\n",
       "      <td>1034</td>\n",
       "      <td>19.566431</td>\n",
       "      <td>292.716431</td>\n",
       "      <td>3001.620890</td>\n",
       "    </tr>\n",
       "    <tr>\n",
       "      <th>Mist</th>\n",
       "      <td>5950</td>\n",
       "      <td>6.326892</td>\n",
       "      <td>279.476892</td>\n",
       "      <td>2932.956639</td>\n",
       "    </tr>\n",
       "    <tr>\n",
       "      <th>Fog</th>\n",
       "      <td>912</td>\n",
       "      <td>6.265713</td>\n",
       "      <td>279.415713</td>\n",
       "      <td>2703.720395</td>\n",
       "    </tr>\n",
       "    <tr>\n",
       "      <th>Squall</th>\n",
       "      <td>4</td>\n",
       "      <td>19.237500</td>\n",
       "      <td>292.387500</td>\n",
       "      <td>2061.750000</td>\n",
       "    </tr>\n",
       "  </tbody>\n",
       "</table>\n",
       "</div>"
      ],
      "text/plain": [
       "               size  temp_celsius        temp  traffic_volume\n",
       "weather_main                                                 \n",
       "Clouds        15164      8.316101  281.466101     3618.449749\n",
       "Haze           1360      2.668581  275.818581     3502.101471\n",
       "Rain           5672     13.829586  286.979586     3317.905501\n",
       "Drizzle        1821     10.645431  283.795431     3290.727073\n",
       "Smoke            20     17.777500  290.927500     3237.650000\n",
       "Clear         13391      8.339971  281.489971     3055.908819\n",
       "Snow           2876     -5.194812  267.955188     3016.844228\n",
       "Thunderstorm   1034     19.566431  292.716431     3001.620890\n",
       "Mist           5950      6.326892  279.476892     2932.956639\n",
       "Fog             912      6.265713  279.415713     2703.720395\n",
       "Squall            4     19.237500  292.387500     2061.750000"
      ]
     },
     "execution_count": 6,
     "metadata": {},
     "output_type": "execute_result"
    }
   ],
   "source": [
    "mean_values = dataset_csv.groupby(\"weather_main\")[[\"temp\", \"traffic_volume\"]].mean()\n",
    "mean_values[\"temp_celsius\"] = mean_values[\"temp\"].apply(lambda temp_K: temp_K - 273.15)\n",
    "mean_values[\"size\"] = dataset_csv.groupby(\"weather_main\").size() # amount of entries in each group\n",
    "\n",
    "# order by the weather conditions which have the largest mean traffic volume\n",
    "mean_values[[\"size\", \"temp_celsius\", \"temp\", \"traffic_volume\"]].sort_values(by=\"traffic_volume\", ascending=False)"
   ]
  },
  {
   "cell_type": "code",
   "execution_count": 7,
   "metadata": {},
   "outputs": [
    {
     "data": {
      "text/plain": [
       "rain_1h\n",
       "0.00       44737\n",
       "0.25         948\n",
       "0.26           2\n",
       "0.27           5\n",
       "0.28          23\n",
       "           ...  \n",
       "28.70          2\n",
       "31.75          1\n",
       "44.45          1\n",
       "55.63          1\n",
       "9831.30        1\n",
       "Length: 372, dtype: int64"
      ]
     },
     "execution_count": 7,
     "metadata": {},
     "output_type": "execute_result"
    }
   ],
   "source": [
    "# 44737 / 48204 ~= 93.81% of entries have no rain (3467 have)\n",
    "dataset_csv.groupby(\"rain_1h\").size()"
   ]
  },
  {
   "cell_type": "code",
   "execution_count": 8,
   "metadata": {
    "scrolled": true
   },
   "outputs": [
    {
     "data": {
      "text/plain": [
       "snow_1h\n",
       "0.00    48141\n",
       "0.05       14\n",
       "0.06       12\n",
       "0.08        2\n",
       "0.10        6\n",
       "0.13        6\n",
       "0.17        3\n",
       "0.21        1\n",
       "0.25        6\n",
       "0.32        5\n",
       "0.44        2\n",
       "0.51        6\n",
       "dtype: int64"
      ]
     },
     "execution_count": 8,
     "metadata": {},
     "output_type": "execute_result"
    }
   ],
   "source": [
    "# 48141 / 48204 ~= 99.87% of entries have no snow (only 63 have)\n",
    "dataset_csv.groupby(\"snow_1h\").size()"
   ]
  },
  {
   "cell_type": "markdown",
   "metadata": {},
   "source": [
    "## 1. Clean the dataset"
   ]
  },
  {
   "cell_type": "code",
   "execution_count": 9,
   "metadata": {},
   "outputs": [],
   "source": [
    "# we'll copy our dataset to the DataFrame object 'data' to clean it and\n",
    "# save it as a new .csv file later (splitting it into trainning/validation and test)\n",
    "data = dataset_csv.copy()"
   ]
  },
  {
   "cell_type": "markdown",
   "metadata": {},
   "source": [
    "### 1.1. Removing invalid data"
   ]
  },
  {
   "cell_type": "code",
   "execution_count": 10,
   "metadata": {},
   "outputs": [
    {
     "name": "stdout",
     "output_type": "stream",
     "text": [
      "(48204, 9) - (10, 9) => (48194, 9)\n"
     ]
    }
   ],
   "source": [
    "# removing entries with 0 Kelvin temperature\n",
    "print(f\"{data.shape} - {data.query('temp == 0.0').shape} => \", end='')\n",
    "\n",
    "data = data.query(\"temp > 0.0\")\n",
    "print(data.shape) # removes 10 invalid samples"
   ]
  },
  {
   "cell_type": "code",
   "execution_count": 11,
   "metadata": {},
   "outputs": [
    {
     "data": {
      "text/html": [
       "<div>\n",
       "<style scoped>\n",
       "    .dataframe tbody tr th:only-of-type {\n",
       "        vertical-align: middle;\n",
       "    }\n",
       "\n",
       "    .dataframe tbody tr th {\n",
       "        vertical-align: top;\n",
       "    }\n",
       "\n",
       "    .dataframe thead th {\n",
       "        text-align: right;\n",
       "    }\n",
       "</style>\n",
       "<table border=\"1\" class=\"dataframe\">\n",
       "  <thead>\n",
       "    <tr style=\"text-align: right;\">\n",
       "      <th></th>\n",
       "      <th>holiday</th>\n",
       "      <th>temp</th>\n",
       "      <th>rain_1h</th>\n",
       "      <th>snow_1h</th>\n",
       "      <th>clouds_all</th>\n",
       "      <th>weather_main</th>\n",
       "      <th>weather_description</th>\n",
       "      <th>date_time</th>\n",
       "      <th>traffic_volume</th>\n",
       "    </tr>\n",
       "  </thead>\n",
       "  <tbody>\n",
       "    <tr>\n",
       "      <th>24872</th>\n",
       "      <td>None</td>\n",
       "      <td>302.11</td>\n",
       "      <td>9831.3</td>\n",
       "      <td>0.0</td>\n",
       "      <td>75</td>\n",
       "      <td>Rain</td>\n",
       "      <td>very heavy rain</td>\n",
       "      <td>2016-07-11 17:00:00</td>\n",
       "      <td>5535</td>\n",
       "    </tr>\n",
       "  </tbody>\n",
       "</table>\n",
       "</div>"
      ],
      "text/plain": [
       "      holiday    temp  rain_1h  snow_1h  clouds_all weather_main  \\\n",
       "24872    None  302.11   9831.3      0.0          75         Rain   \n",
       "\n",
       "      weather_description            date_time  traffic_volume  \n",
       "24872     very heavy rain  2016-07-11 17:00:00            5535  "
      ]
     },
     "execution_count": 11,
     "metadata": {},
     "output_type": "execute_result"
    }
   ],
   "source": [
    "# the max value of rain_1h is invalid (>1000mm), so we'll drop it\n",
    "data.query(\"rain_1h > 0.0\").sort_values(by=\"rain_1h\", ascending=False).head(n=1)"
   ]
  },
  {
   "cell_type": "code",
   "execution_count": 12,
   "metadata": {},
   "outputs": [],
   "source": [
    "data.drop(index=24872, inplace=True) # removes the row where rain_1h == 9831.30"
   ]
  },
  {
   "cell_type": "code",
   "execution_count": 13,
   "metadata": {},
   "outputs": [
    {
     "data": {
      "text/plain": [
       "(48193, 9)"
      ]
     },
     "execution_count": 13,
     "metadata": {},
     "output_type": "execute_result"
    }
   ],
   "source": [
    "data.shape"
   ]
  },
  {
   "cell_type": "markdown",
   "metadata": {},
   "source": [
    "### 1.2. Saving the clean dataset\n",
    "\n",
    "Note that we removed values from the whole dataset, and only then we'll split it into test, train and validation.\n",
    "\n",
    "However, the values we removed (0 Kelvin temperature and over 1000mm of rain in an hour) are clearly invalid, so even if we're dealing with test (never seen) data, we could confidently remove entries like these (besides that, only 11 rows were actually removed)."
   ]
  },
  {
   "cell_type": "code",
   "execution_count": 14,
   "metadata": {},
   "outputs": [],
   "source": [
    "data[\"date_time\"] = pd.to_datetime(data[\"date_time\"], format=\"%Y-%m-%d %H:%M:%S\")\n",
    "data.set_index(\"date_time\", inplace=True)"
   ]
  },
  {
   "cell_type": "code",
   "execution_count": 15,
   "metadata": {},
   "outputs": [],
   "source": [
    "data.to_csv(\"clean.csv\")"
   ]
  },
  {
   "cell_type": "markdown",
   "metadata": {},
   "source": [
    "## 2. Split the dataset into train/validation and test\n",
    "\n",
    "- test: 10%\n",
    "- train & validation: 90%\n",
    "    - train: 80%\n",
    "    - validation: 10%"
   ]
  },
  {
   "cell_type": "code",
   "execution_count": 16,
   "metadata": {},
   "outputs": [],
   "source": [
    "# random seed for splitting the data deterministically\n",
    "RANDOM_SEED = 1000"
   ]
  },
  {
   "cell_type": "code",
   "execution_count": 17,
   "metadata": {},
   "outputs": [
    {
     "name": "stdout",
     "output_type": "stream",
     "text": [
      "total: (48193, 8)\n",
      "\n",
      "train: (38554, 8)\n",
      "validation: (4819, 8)\n",
      "test: (4820, 8)\n"
     ]
    }
   ],
   "source": [
    "from sklearn.model_selection import train_test_split\n",
    "\n",
    "print(f\"total: {data.shape}\\n\")\n",
    "\n",
    "train_data, test_validation_data = train_test_split(data, train_size=0.8, shuffle=True, random_state=RANDOM_SEED)\n",
    "print(f\"train: {train_data.shape}\") # 80%\n",
    "\n",
    "validation_data, test_data = train_test_split(test_validation_data, test_size=0.5, shuffle=True, random_state=RANDOM_SEED)\n",
    "print(f\"validation: {validation_data.shape}\") # 10% of total\n",
    "print(f\"test: {test_data.shape}\") # 10% of total"
   ]
  },
  {
   "cell_type": "code",
   "execution_count": 18,
   "metadata": {
    "scrolled": false
   },
   "outputs": [
    {
     "name": "stdout",
     "output_type": "stream",
     "text": [
      "Train: \n",
      "                      traffic_volume\n",
      "date_time                          \n",
      "2012-10-02 10:00:00            4516\n",
      "2012-10-02 11:00:00            4767\n",
      "2012-10-02 12:00:00            5026\n",
      "2012-10-02 14:00:00            5181\n",
      "\n",
      "Validation: \n",
      "                      traffic_volume\n",
      "date_time                          \n",
      "2012-10-02 13:00:00            4918\n",
      "2012-10-03 12:00:00            5097\n",
      "2012-10-03 22:00:00            1777\n",
      "2012-10-04 00:00:00             598\n",
      "\n",
      "Test: \n",
      "                      traffic_volume\n",
      "date_time                          \n",
      "2012-10-02 09:00:00            5545\n",
      "2012-10-02 19:00:00            3539\n",
      "2012-10-02 22:00:00            1529\n",
      "2012-10-03 15:00:00            5692\n"
     ]
    }
   ],
   "source": [
    "# visualize the first values of each set\n",
    "print(\"Train: \\n\", train_data[[\"traffic_volume\"]].sort_values(\"date_time\").head(n=4))\n",
    "print(\"\\nValidation: \\n\", validation_data[[\"traffic_volume\"]].sort_values(\"date_time\").head(n=4))\n",
    "print(\"\\nTest: \\n\", test_data[[\"traffic_volume\"]].sort_values(\"date_time\").head(n=4))"
   ]
  },
  {
   "cell_type": "markdown",
   "metadata": {},
   "source": [
    "## 3. Transform features"
   ]
  },
  {
   "cell_type": "markdown",
   "metadata": {},
   "source": [
    "### 3.1. Turn 'date_time' into 'hour', 'weekday' and 'weekofyear'"
   ]
  },
  {
   "cell_type": "code",
   "execution_count": 19,
   "metadata": {},
   "outputs": [],
   "source": [
    "def transformed_date_time(df):\n",
    "    transformed_df = df.copy()\n",
    "    transformed_df.insert(0, \"hour\", pd.DatetimeIndex(transformed_df.index).hour)\n",
    "    transformed_df.insert(1, \"weekday\", pd.DatetimeIndex(transformed_df.index).weekday)\n",
    "    transformed_df.insert(2, \"weekofyear\", pd.DatetimeIndex(transformed_df.index).weekofyear)\n",
    "    return transformed_df"
   ]
  },
  {
   "cell_type": "markdown",
   "metadata": {},
   "source": [
    "### 3.2. Dropping 'snow_1h' and 'weather_description' columns\n",
    "They both seem redundant if we consider the 'weather_main' values."
   ]
  },
  {
   "cell_type": "code",
   "execution_count": 20,
   "metadata": {},
   "outputs": [],
   "source": [
    "def dropped_snow_1h_weather_description(df):\n",
    "    return df.drop(columns=[\"snow_1h\", \"weather_description\"])"
   ]
  },
  {
   "cell_type": "markdown",
   "metadata": {},
   "source": [
    "### 3.3. Adding holiday value to the whole day (not just at 00:00:00)"
   ]
  },
  {
   "cell_type": "code",
   "execution_count": 21,
   "metadata": {},
   "outputs": [],
   "source": [
    "def transformed_holiday(df):\n",
    "    transformed_df = df.copy()\n",
    "    transformed_df[\"date_time\"] = transformed_df.index\n",
    "    \n",
    "    holidays = transformed_df[transformed_df.holiday != \"None\"]\n",
    "    holiday_names = [row[\"holiday\"] for index, row in holidays.iterrows()]\n",
    "    holiday_dates = holidays[\"date_time\"].dt.normalize()\n",
    "    \n",
    "    # add holiday name to holiday days on hours other than 00:00:00\n",
    "    for holiday_name, holiday_date in zip(holiday_names, holiday_dates):\n",
    "        transformed_df.loc[(transformed_df[\"date_time\"].dt.normalize() == holiday_date), \"holiday\"] = holiday_name\n",
    "    \n",
    "    return transformed_df.drop(columns=[\"date_time\"])    "
   ]
  },
  {
   "cell_type": "markdown",
   "metadata": {},
   "source": [
    "### 3.5. Apply changes to the split sets"
   ]
  },
  {
   "cell_type": "code",
   "execution_count": 22,
   "metadata": {},
   "outputs": [],
   "source": [
    "def transformed(dataset, transformations=[transformed_date_time, dropped_snow_1h_weather_description, transformed_holiday]):\n",
    "    for transform in transformations:\n",
    "        dataset = transform(dataset)\n",
    "    return dataset"
   ]
  },
  {
   "cell_type": "code",
   "execution_count": 23,
   "metadata": {},
   "outputs": [],
   "source": [
    "train_data = transformed(train_data)\n",
    "validation_data = transformed(validation_data)\n",
    "\n",
    "test_data = transformed(test_data)"
   ]
  },
  {
   "cell_type": "markdown",
   "metadata": {},
   "source": [
    "### 3.6. Transform categorical features\n",
    "\n",
    "Instead of turning a categorical feature with $n$ possible values into an $n$-D vector, with entries having only one non-zero — _hot_ — element, we'll drop one dimension (i.e. not use one of the values), creating an $(n-1)$-D vector to avoid the [Dummy Variable Trap](https://www.algosome.com/articles/dummy-variable-trap-regression.html)."
   ]
  },
  {
   "cell_type": "code",
   "execution_count": 24,
   "metadata": {
    "scrolled": true
   },
   "outputs": [
    {
     "name": "stdout",
     "output_type": "stream",
     "text": [
      "['None' 'Columbus Day' 'Veterans Day' 'Thanksgiving Day' 'Christmas Day'\n",
      " 'New Years Day' 'Washingtons Birthday' 'Memorial Day' 'Independence Day'\n",
      " 'State Fair' 'Labor Day' 'Martin Luther King Jr Day'] \n",
      "\n",
      "['Clouds' 'Clear' 'Rain' 'Drizzle' 'Mist' 'Haze' 'Fog' 'Thunderstorm'\n",
      " 'Snow' 'Squall' 'Smoke']\n"
     ]
    }
   ],
   "source": [
    "# categorical attributes: \"holiday\", \"weather_main\"\n",
    "print(data[\"holiday\"].unique(), '\\n')\n",
    "print(data[\"weather_main\"].unique())"
   ]
  },
  {
   "cell_type": "code",
   "execution_count": 25,
   "metadata": {},
   "outputs": [],
   "source": [
    "# dummy encoding, n-D: \n",
    "#   pd.get_dummies(df, prefix=\"weather\", columns=[\"weather_main\"])\n",
    "\n",
    "# one-hot encoding, (n-1)-D:\n",
    "#   pd.get_dummies(df, prefix=\"weather\", columns=[\"weather_main\"], drop_first=True)\n",
    "\n",
    "def encoded_weather_main(df):\n",
    "    encoded_df = df.copy()\n",
    "    weather_encoding = pd.get_dummies(encoded_df[\"weather_main\"], drop_first=True) # drops Clear weather\n",
    "    encoded_df = pd.concat([encoded_df, weather_encoding], axis=1)\n",
    "    encoded_df.drop(columns=[\"weather_main\"], inplace=True)\n",
    "    return encoded_df"
   ]
  },
  {
   "cell_type": "code",
   "execution_count": 26,
   "metadata": {},
   "outputs": [],
   "source": [
    "# we'll make 'holiday' a binary value\n",
    "def encoded_holiday(df):\n",
    "    encoded_df = df.copy()\n",
    "    # obs.: comparing the value to 0 prevents accidents when running this twice\n",
    "    encoded_df[\"holiday\"] = encoded_df[\"holiday\"].apply(lambda h: 0 if (h == \"None\" or h == 0) else 1)\n",
    "    return encoded_df"
   ]
  },
  {
   "cell_type": "code",
   "execution_count": 27,
   "metadata": {},
   "outputs": [],
   "source": [
    "# trasformed categorical features\n",
    "def encoded(dataset, encodings=[encoded_weather_main, encoded_holiday]):\n",
    "    for encode in encodings:\n",
    "        dataset = encode(dataset)\n",
    "    return dataset"
   ]
  },
  {
   "cell_type": "code",
   "execution_count": 28,
   "metadata": {},
   "outputs": [],
   "source": [
    "train_data = encoded(train_data)\n",
    "validation_data = encoded(validation_data)\n",
    "\n",
    "test_data = encoded(test_data)"
   ]
  },
  {
   "cell_type": "markdown",
   "metadata": {},
   "source": [
    "### 3.7. Reorder columns"
   ]
  },
  {
   "cell_type": "code",
   "execution_count": 29,
   "metadata": {},
   "outputs": [],
   "source": [
    "columns_set = set(train_data.columns).union(set(validation_data.columns).union(set(test_data.columns)))\n",
    "for col in columns_set:\n",
    "    if col not in train_data:\n",
    "        train_data[col] = 0\n",
    "    if col not in validation_data:\n",
    "        validation_data[col] = 0\n",
    "    if col not in test_data:\n",
    "        test_data[col] = 0"
   ]
  },
  {
   "cell_type": "code",
   "execution_count": 30,
   "metadata": {},
   "outputs": [],
   "source": [
    "column_order = ['holiday','temp','rain_1h','clouds_all','hour','weekday', 'weekofyear', \n",
    "                'Clouds','Mist','Rain','Snow','Drizzle','Haze','Thunderstorm','Fog','Smoke','Squall','traffic_volume']\n",
    "for col in columns_set:\n",
    "    if col not in column_order:\n",
    "        print(f\"missing '{col}'\")"
   ]
  },
  {
   "cell_type": "code",
   "execution_count": 31,
   "metadata": {},
   "outputs": [],
   "source": [
    "# make 'traffic_volume' the last column\n",
    "if column_order[-1] != \"traffic_volume\":\n",
    "    print(\"'traffic_volume' should be the last column!\")"
   ]
  },
  {
   "cell_type": "code",
   "execution_count": 32,
   "metadata": {},
   "outputs": [],
   "source": [
    "train_data = train_data[column_order]\n",
    "validation_data = validation_data[column_order]\n",
    "test_data = test_data[column_order]"
   ]
  },
  {
   "cell_type": "markdown",
   "metadata": {},
   "source": [
    "## 4. Normalize values\n",
    "\n",
    "It's important we **normalize our trainning data** and save the mapping we made to it so we can use the same values once we deal with the validation and test sets (i.e. we don't want to be normalizing the test and validation sets based on their own values)."
   ]
  },
  {
   "cell_type": "code",
   "execution_count": 33,
   "metadata": {},
   "outputs": [],
   "source": [
    "# NOTE: we have to change this list if new columns are added\n",
    "attrs_to_normalize = [\"traffic_volume\", \"hour\", \"weekday\", \"weekofyear\", \"temp\", \"rain_1h\", \"clouds_all\"]\n",
    "def get_stats(df, columns, operations=['min', 'max', 'median', 'mean', 'std']):\n",
    "    return df[columns].agg(operations)"
   ]
  },
  {
   "cell_type": "markdown",
   "metadata": {},
   "source": [
    "Z-score normalization: $ x \\leftarrow \\dfrac{x - \\mu}{\\sigma}$ (makes the mean 0 and the standard deviation 1)"
   ]
  },
  {
   "cell_type": "code",
   "execution_count": 34,
   "metadata": {},
   "outputs": [],
   "source": [
    "# mu = mean, sigma = stddev\n",
    "def z_score(x, mu, sigma):\n",
    "    return (x - mu) / sigma\n",
    "\n",
    "def normalized(dataset, stats):\n",
    "    normalized_dataset = dataset.copy()\n",
    "    for col in stats:\n",
    "        col_mean = stats.loc[\"mean\", col]\n",
    "        col_stddev = stats.loc[\"std\", col]\n",
    "        normalized_dataset.loc[:, col] = dataset.loc[:, col].apply(lambda x: z_score(x, mu=col_mean, sigma=col_stddev))\n",
    "    return normalized_dataset"
   ]
  },
  {
   "cell_type": "code",
   "execution_count": 35,
   "metadata": {},
   "outputs": [],
   "source": [
    "# NOTE: we must use 'train_stats' when normalizing 'validation_data' and 'test_data' aswell\n",
    "train_stats = get_stats(train_data, columns=attrs_to_normalize).copy()"
   ]
  },
  {
   "cell_type": "code",
   "execution_count": 36,
   "metadata": {},
   "outputs": [
    {
     "data": {
      "text/html": [
       "<div>\n",
       "<style scoped>\n",
       "    .dataframe tbody tr th:only-of-type {\n",
       "        vertical-align: middle;\n",
       "    }\n",
       "\n",
       "    .dataframe tbody tr th {\n",
       "        vertical-align: top;\n",
       "    }\n",
       "\n",
       "    .dataframe thead th {\n",
       "        text-align: right;\n",
       "    }\n",
       "</style>\n",
       "<table border=\"1\" class=\"dataframe\">\n",
       "  <thead>\n",
       "    <tr style=\"text-align: right;\">\n",
       "      <th></th>\n",
       "      <th>traffic_volume</th>\n",
       "      <th>hour</th>\n",
       "      <th>weekday</th>\n",
       "      <th>weekofyear</th>\n",
       "      <th>temp</th>\n",
       "      <th>rain_1h</th>\n",
       "      <th>clouds_all</th>\n",
       "    </tr>\n",
       "  </thead>\n",
       "  <tbody>\n",
       "    <tr>\n",
       "      <th>min</th>\n",
       "      <td>0.000000</td>\n",
       "      <td>0.000000</td>\n",
       "      <td>0.000000</td>\n",
       "      <td>1.000000</td>\n",
       "      <td>243.390000</td>\n",
       "      <td>0.000000</td>\n",
       "      <td>0.000000</td>\n",
       "    </tr>\n",
       "    <tr>\n",
       "      <th>max</th>\n",
       "      <td>7280.000000</td>\n",
       "      <td>23.000000</td>\n",
       "      <td>6.000000</td>\n",
       "      <td>53.000000</td>\n",
       "      <td>310.070000</td>\n",
       "      <td>44.450000</td>\n",
       "      <td>100.000000</td>\n",
       "    </tr>\n",
       "    <tr>\n",
       "      <th>median</th>\n",
       "      <td>3374.000000</td>\n",
       "      <td>11.000000</td>\n",
       "      <td>3.000000</td>\n",
       "      <td>27.000000</td>\n",
       "      <td>282.420000</td>\n",
       "      <td>0.000000</td>\n",
       "      <td>64.000000</td>\n",
       "    </tr>\n",
       "    <tr>\n",
       "      <th>mean</th>\n",
       "      <td>3257.364502</td>\n",
       "      <td>11.385563</td>\n",
       "      <td>2.979535</td>\n",
       "      <td>26.428749</td>\n",
       "      <td>281.242599</td>\n",
       "      <td>0.128221</td>\n",
       "      <td>49.318955</td>\n",
       "    </tr>\n",
       "    <tr>\n",
       "      <th>std</th>\n",
       "      <td>1988.217256</td>\n",
       "      <td>6.948244</td>\n",
       "      <td>2.006958</td>\n",
       "      <td>14.837909</td>\n",
       "      <td>12.714409</td>\n",
       "      <td>0.962343</td>\n",
       "      <td>39.046092</td>\n",
       "    </tr>\n",
       "  </tbody>\n",
       "</table>\n",
       "</div>"
      ],
      "text/plain": [
       "        traffic_volume       hour   weekday  weekofyear        temp  \\\n",
       "min           0.000000   0.000000  0.000000    1.000000  243.390000   \n",
       "max        7280.000000  23.000000  6.000000   53.000000  310.070000   \n",
       "median     3374.000000  11.000000  3.000000   27.000000  282.420000   \n",
       "mean       3257.364502  11.385563  2.979535   26.428749  281.242599   \n",
       "std        1988.217256   6.948244  2.006958   14.837909   12.714409   \n",
       "\n",
       "          rain_1h  clouds_all  \n",
       "min      0.000000    0.000000  \n",
       "max     44.450000  100.000000  \n",
       "median   0.000000   64.000000  \n",
       "mean     0.128221   49.318955  \n",
       "std      0.962343   39.046092  "
      ]
     },
     "execution_count": 36,
     "metadata": {},
     "output_type": "execute_result"
    }
   ],
   "source": [
    "train_stats"
   ]
  },
  {
   "cell_type": "code",
   "execution_count": 37,
   "metadata": {},
   "outputs": [],
   "source": [
    "train_data = normalized(train_data, stats=train_stats)\n",
    "validation_data = normalized(validation_data, stats=train_stats)\n",
    "test_data = normalized(test_data, stats=train_stats)"
   ]
  },
  {
   "cell_type": "code",
   "execution_count": 38,
   "metadata": {},
   "outputs": [
    {
     "data": {
      "text/html": [
       "<div>\n",
       "<style scoped>\n",
       "    .dataframe tbody tr th:only-of-type {\n",
       "        vertical-align: middle;\n",
       "    }\n",
       "\n",
       "    .dataframe tbody tr th {\n",
       "        vertical-align: top;\n",
       "    }\n",
       "\n",
       "    .dataframe thead th {\n",
       "        text-align: right;\n",
       "    }\n",
       "</style>\n",
       "<table border=\"1\" class=\"dataframe\">\n",
       "  <thead>\n",
       "    <tr style=\"text-align: right;\">\n",
       "      <th></th>\n",
       "      <th>traffic_volume</th>\n",
       "      <th>hour</th>\n",
       "      <th>weekday</th>\n",
       "      <th>weekofyear</th>\n",
       "      <th>temp</th>\n",
       "      <th>rain_1h</th>\n",
       "      <th>clouds_all</th>\n",
       "    </tr>\n",
       "  </thead>\n",
       "  <tbody>\n",
       "    <tr>\n",
       "      <th>min</th>\n",
       "      <td>-1.638334e+00</td>\n",
       "      <td>-1.638624e+00</td>\n",
       "      <td>-1.484603e+00</td>\n",
       "      <td>-1.713769e+00</td>\n",
       "      <td>-2.977142e+00</td>\n",
       "      <td>-1.332388e-01</td>\n",
       "      <td>-1.263096e+00</td>\n",
       "    </tr>\n",
       "    <tr>\n",
       "      <th>max</th>\n",
       "      <td>2.023237e+00</td>\n",
       "      <td>1.671564e+00</td>\n",
       "      <td>1.504997e+00</td>\n",
       "      <td>1.790768e+00</td>\n",
       "      <td>2.267302e+00</td>\n",
       "      <td>4.605611e+01</td>\n",
       "      <td>1.297980e+00</td>\n",
       "    </tr>\n",
       "    <tr>\n",
       "      <th>median</th>\n",
       "      <td>5.866336e-02</td>\n",
       "      <td>-5.549072e-02</td>\n",
       "      <td>1.019693e-02</td>\n",
       "      <td>3.849941e-02</td>\n",
       "      <td>9.260367e-02</td>\n",
       "      <td>-1.332388e-01</td>\n",
       "      <td>3.759927e-01</td>\n",
       "    </tr>\n",
       "    <tr>\n",
       "      <th>mean</th>\n",
       "      <td>6.782169e-17</td>\n",
       "      <td>2.488024e-18</td>\n",
       "      <td>1.002581e-16</td>\n",
       "      <td>4.478443e-17</td>\n",
       "      <td>-4.880397e-15</td>\n",
       "      <td>-3.022488e-17</td>\n",
       "      <td>-2.045708e-17</td>\n",
       "    </tr>\n",
       "    <tr>\n",
       "      <th>std</th>\n",
       "      <td>1.000000e+00</td>\n",
       "      <td>1.000000e+00</td>\n",
       "      <td>1.000000e+00</td>\n",
       "      <td>1.000000e+00</td>\n",
       "      <td>1.000000e+00</td>\n",
       "      <td>1.000000e+00</td>\n",
       "      <td>1.000000e+00</td>\n",
       "    </tr>\n",
       "  </tbody>\n",
       "</table>\n",
       "</div>"
      ],
      "text/plain": [
       "        traffic_volume          hour       weekday    weekofyear  \\\n",
       "min      -1.638334e+00 -1.638624e+00 -1.484603e+00 -1.713769e+00   \n",
       "max       2.023237e+00  1.671564e+00  1.504997e+00  1.790768e+00   \n",
       "median    5.866336e-02 -5.549072e-02  1.019693e-02  3.849941e-02   \n",
       "mean      6.782169e-17  2.488024e-18  1.002581e-16  4.478443e-17   \n",
       "std       1.000000e+00  1.000000e+00  1.000000e+00  1.000000e+00   \n",
       "\n",
       "                temp       rain_1h    clouds_all  \n",
       "min    -2.977142e+00 -1.332388e-01 -1.263096e+00  \n",
       "max     2.267302e+00  4.605611e+01  1.297980e+00  \n",
       "median  9.260367e-02 -1.332388e-01  3.759927e-01  \n",
       "mean   -4.880397e-15 -3.022488e-17 -2.045708e-17  \n",
       "std     1.000000e+00  1.000000e+00  1.000000e+00  "
      ]
     },
     "execution_count": 38,
     "metadata": {},
     "output_type": "execute_result"
    }
   ],
   "source": [
    "# we should now see mean~=0 and std~=1 for all attributes\n",
    "get_stats(train_data, columns=attrs_to_normalize)"
   ]
  },
  {
   "cell_type": "code",
   "execution_count": 39,
   "metadata": {
    "scrolled": true
   },
   "outputs": [
    {
     "data": {
      "text/html": [
       "<div>\n",
       "<style scoped>\n",
       "    .dataframe tbody tr th:only-of-type {\n",
       "        vertical-align: middle;\n",
       "    }\n",
       "\n",
       "    .dataframe tbody tr th {\n",
       "        vertical-align: top;\n",
       "    }\n",
       "\n",
       "    .dataframe thead th {\n",
       "        text-align: right;\n",
       "    }\n",
       "</style>\n",
       "<table border=\"1\" class=\"dataframe\">\n",
       "  <thead>\n",
       "    <tr style=\"text-align: right;\">\n",
       "      <th></th>\n",
       "      <th>traffic_volume</th>\n",
       "      <th>hour</th>\n",
       "      <th>weekday</th>\n",
       "      <th>weekofyear</th>\n",
       "      <th>temp</th>\n",
       "      <th>rain_1h</th>\n",
       "      <th>clouds_all</th>\n",
       "    </tr>\n",
       "  </thead>\n",
       "  <tbody>\n",
       "    <tr>\n",
       "      <th>min</th>\n",
       "      <td>-1.636825</td>\n",
       "      <td>-1.638624</td>\n",
       "      <td>-1.484603</td>\n",
       "      <td>-1.713769</td>\n",
       "      <td>-2.801750</td>\n",
       "      <td>-0.133239</td>\n",
       "      <td>-1.263096</td>\n",
       "    </tr>\n",
       "    <tr>\n",
       "      <th>max</th>\n",
       "      <td>1.937734</td>\n",
       "      <td>1.671564</td>\n",
       "      <td>1.504997</td>\n",
       "      <td>1.790768</td>\n",
       "      <td>2.172921</td>\n",
       "      <td>29.689805</td>\n",
       "      <td>1.297980</td>\n",
       "    </tr>\n",
       "    <tr>\n",
       "      <th>median</th>\n",
       "      <td>0.083812</td>\n",
       "      <td>-0.055491</td>\n",
       "      <td>0.010197</td>\n",
       "      <td>0.038499</td>\n",
       "      <td>0.107547</td>\n",
       "      <td>-0.133239</td>\n",
       "      <td>0.375993</td>\n",
       "    </tr>\n",
       "    <tr>\n",
       "      <th>mean</th>\n",
       "      <td>0.004516</td>\n",
       "      <td>0.008361</td>\n",
       "      <td>0.025603</td>\n",
       "      <td>0.026668</td>\n",
       "      <td>-0.002774</td>\n",
       "      <td>-0.004895</td>\n",
       "      <td>0.015513</td>\n",
       "    </tr>\n",
       "    <tr>\n",
       "      <th>std</th>\n",
       "      <td>0.998164</td>\n",
       "      <td>0.996260</td>\n",
       "      <td>0.993021</td>\n",
       "      <td>1.008651</td>\n",
       "      <td>0.998522</td>\n",
       "      <td>1.008857</td>\n",
       "      <td>0.993087</td>\n",
       "    </tr>\n",
       "  </tbody>\n",
       "</table>\n",
       "</div>"
      ],
      "text/plain": [
       "        traffic_volume      hour   weekday  weekofyear      temp    rain_1h  \\\n",
       "min          -1.636825 -1.638624 -1.484603   -1.713769 -2.801750  -0.133239   \n",
       "max           1.937734  1.671564  1.504997    1.790768  2.172921  29.689805   \n",
       "median        0.083812 -0.055491  0.010197    0.038499  0.107547  -0.133239   \n",
       "mean          0.004516  0.008361  0.025603    0.026668 -0.002774  -0.004895   \n",
       "std           0.998164  0.996260  0.993021    1.008651  0.998522   1.008857   \n",
       "\n",
       "        clouds_all  \n",
       "min      -1.263096  \n",
       "max       1.297980  \n",
       "median    0.375993  \n",
       "mean      0.015513  \n",
       "std       0.993087  "
      ]
     },
     "execution_count": 39,
     "metadata": {},
     "output_type": "execute_result"
    }
   ],
   "source": [
    "# we should now see mean close to 0 and std close to 1\n",
    "get_stats(validation_data, columns=attrs_to_normalize)"
   ]
  },
  {
   "cell_type": "code",
   "execution_count": 40,
   "metadata": {},
   "outputs": [
    {
     "data": {
      "text/html": [
       "<div>\n",
       "<style scoped>\n",
       "    .dataframe tbody tr th:only-of-type {\n",
       "        vertical-align: middle;\n",
       "    }\n",
       "\n",
       "    .dataframe tbody tr th {\n",
       "        vertical-align: top;\n",
       "    }\n",
       "\n",
       "    .dataframe thead th {\n",
       "        text-align: right;\n",
       "    }\n",
       "</style>\n",
       "<table border=\"1\" class=\"dataframe\">\n",
       "  <thead>\n",
       "    <tr style=\"text-align: right;\">\n",
       "      <th></th>\n",
       "      <th>traffic_volume</th>\n",
       "      <th>hour</th>\n",
       "      <th>weekday</th>\n",
       "      <th>weekofyear</th>\n",
       "      <th>temp</th>\n",
       "      <th>rain_1h</th>\n",
       "      <th>clouds_all</th>\n",
       "    </tr>\n",
       "  </thead>\n",
       "  <tbody>\n",
       "    <tr>\n",
       "      <th>min</th>\n",
       "      <td>-1.637831</td>\n",
       "      <td>-1.638624</td>\n",
       "      <td>-1.484603</td>\n",
       "      <td>-1.713769</td>\n",
       "      <td>-2.734897</td>\n",
       "      <td>-0.133239</td>\n",
       "      <td>-1.263096</td>\n",
       "    </tr>\n",
       "    <tr>\n",
       "      <th>max</th>\n",
       "      <td>1.978977</td>\n",
       "      <td>1.671564</td>\n",
       "      <td>1.504997</td>\n",
       "      <td>1.790768</td>\n",
       "      <td>2.009327</td>\n",
       "      <td>57.673588</td>\n",
       "      <td>1.297980</td>\n",
       "    </tr>\n",
       "    <tr>\n",
       "      <th>median</th>\n",
       "      <td>0.071740</td>\n",
       "      <td>-0.055491</td>\n",
       "      <td>0.010197</td>\n",
       "      <td>0.038499</td>\n",
       "      <td>0.124064</td>\n",
       "      <td>-0.133239</td>\n",
       "      <td>0.375993</td>\n",
       "    </tr>\n",
       "    <tr>\n",
       "      <th>mean</th>\n",
       "      <td>0.009614</td>\n",
       "      <td>0.011483</td>\n",
       "      <td>-0.000451</td>\n",
       "      <td>0.015876</td>\n",
       "      <td>0.019435</td>\n",
       "      <td>0.026923</td>\n",
       "      <td>-0.001941</td>\n",
       "    </tr>\n",
       "    <tr>\n",
       "      <th>std</th>\n",
       "      <td>0.994623</td>\n",
       "      <td>0.992478</td>\n",
       "      <td>1.001196</td>\n",
       "      <td>0.993134</td>\n",
       "      <td>0.997535</td>\n",
       "      <td>1.362048</td>\n",
       "      <td>0.998649</td>\n",
       "    </tr>\n",
       "  </tbody>\n",
       "</table>\n",
       "</div>"
      ],
      "text/plain": [
       "        traffic_volume      hour   weekday  weekofyear      temp    rain_1h  \\\n",
       "min          -1.637831 -1.638624 -1.484603   -1.713769 -2.734897  -0.133239   \n",
       "max           1.978977  1.671564  1.504997    1.790768  2.009327  57.673588   \n",
       "median        0.071740 -0.055491  0.010197    0.038499  0.124064  -0.133239   \n",
       "mean          0.009614  0.011483 -0.000451    0.015876  0.019435   0.026923   \n",
       "std           0.994623  0.992478  1.001196    0.993134  0.997535   1.362048   \n",
       "\n",
       "        clouds_all  \n",
       "min      -1.263096  \n",
       "max       1.297980  \n",
       "median    0.375993  \n",
       "mean     -0.001941  \n",
       "std       0.998649  "
      ]
     },
     "execution_count": 40,
     "metadata": {},
     "output_type": "execute_result"
    }
   ],
   "source": [
    "# we should now see mean close to 0 and std close to 1\n",
    "get_stats(test_data, columns=attrs_to_normalize)"
   ]
  },
  {
   "cell_type": "markdown",
   "metadata": {},
   "source": [
    "## 5. Save the split data, normalized with values from the training set"
   ]
  },
  {
   "cell_type": "code",
   "execution_count": 41,
   "metadata": {},
   "outputs": [],
   "source": [
    "train_data.to_csv(\"train_80.csv\")\n",
    "validation_data.to_csv(\"validation_10.csv\")\n",
    "\n",
    "test_data.to_csv(\"test_10.csv\") # and now.. don't touch it anymore!"
   ]
  },
  {
   "cell_type": "code",
   "execution_count": 50,
   "metadata": {
    "scrolled": true
   },
   "outputs": [],
   "source": [
    "# train_data.head(n=4)"
   ]
  },
  {
   "cell_type": "code",
   "execution_count": 51,
   "metadata": {
    "scrolled": true
   },
   "outputs": [],
   "source": [
    "# validation_data.head(n=4)"
   ]
  },
  {
   "cell_type": "code",
   "execution_count": 52,
   "metadata": {},
   "outputs": [],
   "source": [
    "# test_data.head(n=4)"
   ]
  },
  {
   "cell_type": "code",
   "execution_count": 53,
   "metadata": {},
   "outputs": [
    {
     "name": "stdout",
     "output_type": "stream",
     "text": [
      "                     traffic_volume\n",
      "date_time                          \n",
      "2012-10-02 10:00:00        0.633047\n",
      "2012-10-02 11:00:00        0.759291\n",
      "2012-10-02 12:00:00        0.889558\n",
      "2012-10-02 14:00:00        0.967518 \n",
      "\n",
      "                     traffic_volume\n",
      "date_time                          \n",
      "2012-10-02 13:00:00        0.835238\n",
      "2012-10-03 12:00:00        0.925269\n",
      "2012-10-03 22:00:00       -0.744569\n",
      "2012-10-04 00:00:00       -1.337562 \n",
      "\n",
      "                     traffic_volume\n",
      "date_time                          \n",
      "2012-10-02 09:00:00        1.150596\n",
      "2012-10-02 19:00:00        0.141652\n",
      "2012-10-02 22:00:00       -0.869304\n",
      "2012-10-03 15:00:00        1.224532\n"
     ]
    }
   ],
   "source": [
    "print(train_data.sort_values(by=\"date_time\")[[\"traffic_volume\"]].head(n=4), '\\n')\n",
    "print(validation_data.sort_values(by=\"date_time\")[[\"traffic_volume\"]].head(n=4), '\\n')\n",
    "print(test_data.sort_values(by=\"date_time\")[[\"traffic_volume\"]].head(n=4))"
   ]
  },
  {
   "cell_type": "markdown",
   "metadata": {},
   "source": [
    "## 6. Perform Linear Regression"
   ]
  },
  {
   "cell_type": "code",
   "execution_count": 54,
   "metadata": {},
   "outputs": [],
   "source": [
    "import warnings"
   ]
  },
  {
   "cell_type": "markdown",
   "metadata": {},
   "source": [
    "### Hypothesis: \n",
    "$h_{\\theta}(x) = \\theta^T x = \\theta_0 + \\theta_1 x_1 + ... + \\theta_n x_n$, where:\n",
    "\n",
    "- $x = (x_0, x_1, ..., x_n)$, with $x_0 = 1$ and the values from $1$ to $n$ are taken from rows of our dataset.\n",
    "- $\\theta = (\\theta_0, \\theta_1, ..., \\theta_n)$ are the parameters.\n",
    "\n",
    "### Cost function: \n",
    "$J(\\theta) = \\dfrac{1}{2m} \\sum\\limits_{i=1}^m (h_{\\theta}(x^{(i)}) - y^{(i)})^2 \\; \\Longrightarrow \\; \n",
    "\\dfrac{\\partial J(\\theta)}{\\partial \\theta_j} = \\dfrac{1}{m} \\sum\\limits_{i=1}^m (\\,(h_{\\theta}(x^{(i)}) - y^{(i)}) \\, x_j^{(i)}\\,)$, where:\n",
    "\n",
    "- $m$ is the number of examples.\n",
    "- $n$ is the number of features.\n",
    "- $x^{(i)} = (1, x_1^{(i)}, ..., x_n^{(i)})$ are the features of the $i^{th}$ training example ($\\forall{i},\\,x_0^{(i)} = 1$).\n",
    "- $x_j^{(i)}$ is the value of feature $j$ of the $i^{th}$ training example.\n",
    "- $y = (y^{(1)}, ..., y^{(m)})$ are the target values.\n",
    "- $y^{(i)}$ is the target value for the $i^{th}$ training example."
   ]
  },
  {
   "cell_type": "code",
   "execution_count": 55,
   "metadata": {},
   "outputs": [],
   "source": [
    "# theta is an array of 'params' of shape=(n_features, 1)\n",
    "# -> (n+1) x 1\n",
    "\n",
    "# X is a matrix of 'data', with each line being an 'example', of shape=(n_examples, n_features)\n",
    "# -> m x (n+1)\n",
    "\n",
    "# y is an array of 'target' values for each example of shape=(n_examples, 1)\n",
    "# -> m x 1\n",
    "\n",
    "''' Returns a scalar, corresponding to the value of J(theta). '''\n",
    "def loss_function(theta, X, y):\n",
    "    assert(X.shape[0] == y.shape[0]), f\"X.shape[0] != y.shape[0] for shapes: {X.shape} of X, and {y.shape} of y\"\n",
    "    assert(X.shape[1] == theta.shape[0]), f\"X.shape[1] != theta.shape[0] for shapes: {X.shape} of X, and {theta.shape} of theta\"\n",
    "    \n",
    "    m = X.shape[0] # number of examples\n",
    "    \n",
    "    #loss = X.dot(theta) # estimate of y (h_theta(X))\n",
    "    #loss = loss - y     # error between estimate and real y values (h_theta(X) - y)\n",
    "    #loss = loss**2      # squared error of each element (h_theta(X) - y)**2\n",
    "    #loss = 0.5 * (1 / m) * loss.sum()\n",
    "\n",
    "    return 0.5 * (1 / m) * np.sum((X.dot(theta) - y)**2)"
   ]
  },
  {
   "cell_type": "code",
   "execution_count": 56,
   "metadata": {},
   "outputs": [],
   "source": [
    "''' Returns a (n+1) x 1 array with the gradient values for each theta_j. '''\n",
    "def eval_gradient(theta, X, y):\n",
    "    assert(X.shape[0] == y.shape[0]), f\"X.shape[0] != y.shape[0] for shapes: {X.shape} of X, and {y.shape} of y\"\n",
    "    assert(X.shape[1] == theta.shape[0]), f\"X.shape[1] != theta.shape[0] for shapes: {X.shape} of X, and {theta.shape} of theta\"\n",
    "    \n",
    "    m = X.shape[0]\n",
    "    \n",
    "    #loss_partial_theta = X.dot(theta) # h_theta(X) = X • theta\n",
    "    #loss_partial_theta = loss_partial_theta - y # h_theta(X) - y\n",
    "    #loss_partial_theta = X.T.dot(loss_partial_theta) # X_transposed • (h_theta(X) - y)\n",
    "    #loss_partial_theta = (1 / m) * loss_partial_theta\n",
    "    \n",
    "    # gradient for every theta (an array with each j-th element being the partial derivative of J with respect to theta_j)\n",
    "    return (1 / m) * np.dot(X.T, X.dot(theta) - y)"
   ]
  },
  {
   "cell_type": "markdown",
   "metadata": {},
   "source": [
    "### Gradient descent: \n",
    "Given the learning rate $\\alpha$:\n",
    "\n",
    "**repeat {** $\\theta_j := \\theta_j - \\alpha \\dfrac{\\partial J(\\theta)}{\\partial \\theta_j}$ \n",
    "**}** (simultaneously update for $j = 0, 1, ..., n$)\n",
    "\n",
    "If we consider a matrix $\\mathbb{X}$, with each row $i$ equal to $x^{(i)}$ transposed ($1 \\leq i \\leq m$), we have:\n",
    "$\\theta := \\theta - \\alpha (\\,\\frac{1}{m} \\mathbb{X}^T (\\mathbb{X} \\theta - y)\\,)$"
   ]
  },
  {
   "cell_type": "code",
   "execution_count": 57,
   "metadata": {},
   "outputs": [],
   "source": [
    "np.random.seed(RANDOM_SEED) # use for reproducibility"
   ]
  },
  {
   "cell_type": "markdown",
   "metadata": {},
   "source": [
    "### 6.1. Perform one epoch of gradient descent:"
   ]
  },
  {
   "cell_type": "code",
   "execution_count": 58,
   "metadata": {},
   "outputs": [],
   "source": [
    "''' Returns a (n+1) x 1 array with the updated values for each parameter theta_j. \n",
    "\n",
    "    Assumes that 'X' is a matrix with shape=(n_examples, n_features), with a first column of 1's, and that\n",
    "    'y' is an array of shape=(n_examples, 1) with the corresponding target values for each row of 'X'.\n",
    "    \n",
    "    n_examples = m\n",
    "    n_features = n+1 (x_0 = 1 for every row i in [1, m], i.e. X[i, 0] = 1)\n",
    "'''\n",
    "def stochastic_GD_step(theta, X, y, learning_rate):\n",
    "    X, y = shuffled_X_y(X, y, seed=RANDOM_SEED)\n",
    "    for sample_X, sample_y in zip(X, y):\n",
    "        theta_grad = eval_gradient(theta, sample_X.reshape(1, -1), sample_y)\n",
    "        theta = theta - learning_rate * theta_grad\n",
    "    return theta"
   ]
  },
  {
   "cell_type": "code",
   "execution_count": 59,
   "metadata": {},
   "outputs": [],
   "source": [
    "def shuffled_X_y(X, y, seed):\n",
    "    assert(X.shape[0] == y.shape[0]), f\"X.shape[0] != y.shape[0] for shapes: {X.shape} of X, and {y.shape} of y\"\n",
    "    m = y.shape[0]\n",
    "    p = np.random.permutation(m)\n",
    "    return X[p], y[p]"
   ]
  },
  {
   "cell_type": "code",
   "execution_count": 60,
   "metadata": {},
   "outputs": [],
   "source": [
    "''' Returns a (n+1) x 1 array with the updated values for each parameter theta_j. \n",
    "\n",
    "    If batch_size is specified, acts as a Mini Batch GD, otherwise, it works like Vanilla GD.\n",
    "\n",
    "    Assumes that 'X' is a matrix with shape=(n_examples, n_features), with a first column of 1's, and that\n",
    "    'y' is an array of shape=(n_examples, 1) with the corresponding target values for each row of 'X'.\n",
    "    \n",
    "    n_examples = m\n",
    "    n_features = n+1 (x_0 = 1 for every row i in [1, m], i.e. X[i, 0] = 1)\n",
    "'''\n",
    "def batch_GD_step(theta, X, y, learning_rate, batch_size=None):\n",
    "    if not batch_size:\n",
    "        # vanilla\n",
    "        theta_grad = eval_gradient(theta, X, y)\n",
    "        theta = theta - learning_rate * theta_grad\n",
    "    else:\n",
    "        # mini batch\n",
    "        X, y = shuffled_X_y(X, y, seed=RANDOM_SEED)\n",
    "        for batch_X, batch_y in get_batches(X, y, batch_size):\n",
    "            theta_grad = eval_gradient(theta, batch_X, batch_y)\n",
    "            theta = theta - learning_rate * theta_grad\n",
    "    return theta"
   ]
  },
  {
   "cell_type": "code",
   "execution_count": 61,
   "metadata": {},
   "outputs": [],
   "source": [
    "def get_batches(X, y, batch_size):\n",
    "    assert(X.shape[0] == y.shape[0]), f\"X.shape[0] != y.shape[0] for shapes: {X.shape} of X, and {y.shape} of y\"\n",
    "    m = y.shape[0]\n",
    "    n_of_batches = m // batch_size\n",
    "    try:\n",
    "        return zip(np.split(X, n_of_batches), np.split(y, n_of_batches))\n",
    "    except:\n",
    "        warnings.warn(f\"batch_size={batch_size} does not result in an equal division for shapes: \" +\n",
    "                      f\"{X.shape} of X, and {y.shape} of y. The last batch will have size {m % batch_size}\")\n",
    "        return zip(np.array_split(X, n_of_batches), np.array_split(y, n_of_batches))"
   ]
  },
  {
   "cell_type": "markdown",
   "metadata": {},
   "source": [
    "### 6.2. Run gradient descent for a specified number of epochs:"
   ]
  },
  {
   "cell_type": "code",
   "execution_count": 62,
   "metadata": {},
   "outputs": [],
   "source": [
    "def __gradient_descent(theta, train_X_y, validation_X_y, learning_rate, n_epochs, \n",
    "                       GD_step_func, batch_size_kwarg_if_mini_batch=None):\n",
    "    if batch_size_kwarg_if_mini_batch == None:\n",
    "        batch_size_kwarg_if_mini_batch = {}\n",
    "        \n",
    "    X, y = train_X_y\n",
    "    val_X, val_y = validation_X_y\n",
    "    \n",
    "    loss = loss_function(theta, X, y)\n",
    "    val_loss = loss_function(theta, val_X, val_y)\n",
    "    \n",
    "    # stores the best values for minimizing J(theta) on the validation set\n",
    "    best_params = theta.copy()\n",
    "    best_val_loss = val_loss\n",
    "    \n",
    "    # save the loss values for plotting\n",
    "    plot_dict = { \n",
    "        \"best_val_loss\": best_val_loss, \n",
    "        \"best_val_loss_epoch\": 0, \n",
    "        \"loss\": [loss], # training set\n",
    "        \"val_loss\": [val_loss] # validation set\n",
    "    }\n",
    "    \n",
    "    for epoch in range(n_epochs):\n",
    "        theta = GD_step_func(theta, X, y, learning_rate, **batch_size_kwarg_if_mini_batch)\n",
    "    \n",
    "        loss = loss_function(theta, X, y)\n",
    "        plot_dict[\"loss\"].append(loss) # training set\n",
    "        \n",
    "        val_loss = loss_function(theta, val_X, val_y)\n",
    "        plot_dict[\"val_loss\"].append(val_loss) # validation set\n",
    "        \n",
    "        # update the best loss and store the current parameters if val_loss < best_val_loss\n",
    "        if val_loss < best_val_loss:\n",
    "            best_val_loss = val_loss\n",
    "            best_params = theta.copy()\n",
    "            plot_dict[\"best_val_loss_epoch\"] = epoch + 1\n",
    "        \n",
    "        print(f\"({epoch + 1} / {n_epochs}) training: {loss:.4f} | validation: {val_loss:.4f}\", end='\\r')\n",
    "        \n",
    "    plot_dict[\"best_val_loss\"] = best_val_loss\n",
    "    return best_params, plot_dict"
   ]
  },
  {
   "cell_type": "markdown",
   "metadata": {},
   "source": [
    "### 6.3. Compute $\\mathbb{X}$ and $y$\n",
    "\n",
    "Let's add our datasets' features to $\\mathbb{X}$ (plus $x_0 = 1$) and it's target values to $y$, so we can train our model."
   ]
  },
  {
   "cell_type": "code",
   "execution_count": 63,
   "metadata": {},
   "outputs": [],
   "source": [
    "# NOTE: assumes target values are in the last column of 'dataset'\n",
    "def split_X_y(dataset):\n",
    "    dataset = dataset.to_numpy(copy=True)\n",
    "    m = dataset.shape[0] # number of examples\n",
    "    X = np.c_[np.ones(shape=(m, 1)), dataset[:, :-1]] # add a column of x_0's equal to 1\n",
    "    y = dataset[:, -1:]\n",
    "    return X, y"
   ]
  },
  {
   "cell_type": "code",
   "execution_count": 64,
   "metadata": {},
   "outputs": [],
   "source": [
    "if train_data.columns[-1] != 'traffic_volume':\n",
    "    print(\"'traffic_volume' should be the last column on the training set!\")\n",
    "if validation_data.columns[-1] != 'traffic_volume':\n",
    "    print(\"'traffic_volume' should be the last column on the validation set!\")\n",
    "if test_data.columns[-1] != 'traffic_volume':\n",
    "    print(\"'traffic_volume' should be the last column on the test set!\")"
   ]
  },
  {
   "cell_type": "code",
   "execution_count": 65,
   "metadata": {},
   "outputs": [],
   "source": [
    "train_X_y = split_X_y(train_data)\n",
    "validation_X_y = split_X_y(validation_data)"
   ]
  },
  {
   "cell_type": "code",
   "execution_count": 66,
   "metadata": {},
   "outputs": [],
   "source": [
    "# # check if the values are correct\n",
    "# X, y = train_X_y\n",
    "# for i in range(4):\n",
    "#     print(f\"dataset: {train_data.iloc[i].values}\\n\") # should be equal to np.append(X[i, 1:], y[i])\n",
    "#     print(f\"check:   {np.append(X[i, 1:], y[i])}\\n\")\n",
    "#     #print(f\"X: {X[i]}\\n\")\n",
    "#     #print(f\"y: {y[i]}\\n\\n\")"
   ]
  },
  {
   "cell_type": "markdown",
   "metadata": {},
   "source": [
    "### 6.4. Run our implementation"
   ]
  },
  {
   "cell_type": "code",
   "execution_count": 67,
   "metadata": {},
   "outputs": [],
   "source": [
    "''' Returns the initial theta (n+1) x 1 array. '''\n",
    "def init_params(n_features, zeros=False):\n",
    "    if zeros:\n",
    "        return np.zeros(shape=(n_features, 1))\n",
    "    else:\n",
    "        # Xavier initialization\n",
    "        return np.sqrt(2 / n_features) * np.random.randn(n_features, 1)"
   ]
  },
  {
   "cell_type": "code",
   "execution_count": 68,
   "metadata": {},
   "outputs": [],
   "source": [
    "def train(params, train_X_y, validation_X_y, learning_rate, n_epochs, batch_size=None, GD_flavor=\"vanilla\"):\n",
    "    if GD_flavor == \"vanilla\":        \n",
    "        best_params, plot_dict = __gradient_descent(params, train_X_y, validation_X_y, learning_rate, n_epochs, \n",
    "                                                    GD_step_func=batch_GD_step)\n",
    "\n",
    "    elif GD_flavor == \"mini batch\":\n",
    "        if batch_size == None:\n",
    "            warnings.warn(\"You should specify batch_size when using GD_flavor='mini batch'.\")\n",
    "        best_params, plot_dict = __gradient_descent(params, train_X_y, validation_X_y, learning_rate, n_epochs, \n",
    "                                                    GD_step_func=batch_GD_step, \n",
    "                                                    batch_size_kwarg_if_mini_batch={ \"batch_size\": batch_size })\n",
    "        plot_dict[\"batch_size\"] = batch_size\n",
    "\n",
    "    elif GD_flavor == \"stochastic\":\n",
    "        best_params, plot_dict = __gradient_descent(params, train_X_y, validation_X_y, learning_rate, n_epochs, \n",
    "                                                    GD_step_func=stochastic_GD_step)\n",
    "\n",
    "    else:\n",
    "        raise ValueError(\"GD_flavor must be one of the following values: 'vanilla', 'stochastic', or 'mini batch'.\")\n",
    "        \n",
    "    plot_dict[\"learning_rate\"] = learning_rate\n",
    "    plot_dict[\"n_epochs\"]      = n_epochs\n",
    "    plot_dict[\"flavor\"]        = GD_flavor\n",
    "    \n",
    "    return best_params, plot_dict"
   ]
  },
  {
   "cell_type": "code",
   "execution_count": 69,
   "metadata": {},
   "outputs": [
    {
     "name": "stdout",
     "output_type": "stream",
     "text": [
      "Training set:\n",
      "n_features: 18\n",
      "n_examples: 38554\n",
      "\n",
      "Validation set:\n",
      "val_n_features: 18\n",
      "val_n_examples: 4819\n"
     ]
    }
   ],
   "source": [
    "X, y = train_X_y\n",
    "n_examples, n_features = X.shape # m x (n+1)\n",
    "print(\"Training set:\")\n",
    "print(f\"n_features: {n_features}\")\n",
    "print(f\"n_examples: {n_examples}\")\n",
    "\n",
    "val_X, val_y = validation_X_y\n",
    "val_n_examples, val_n_features = val_X.shape # m x (n+1)\n",
    "print(\"\\nValidation set:\")\n",
    "print(f\"val_n_features: {val_n_features}\")\n",
    "print(f\"val_n_examples: {val_n_examples}\")"
   ]
  },
  {
   "cell_type": "code",
   "execution_count": 70,
   "metadata": {},
   "outputs": [],
   "source": [
    "def run_GD(learning_rate, n_epochs, GD_flavor, batch_size=None):\n",
    "    best_params, plot_dict = train(init_params(n_features, zeros=True), \n",
    "                                   train_X_y, validation_X_y, \n",
    "                                   learning_rate, n_epochs,  \n",
    "                                   batch_size, GD_flavor)\n",
    "    print(\"\\n\\nBest validation loss: {best_val_loss:.6f} (at epoch {best_val_loss_epoch})\".format(\n",
    "        best_val_loss=plot_dict['best_val_loss'], \n",
    "        best_val_loss_epoch=plot_dict['best_val_loss_epoch']))\n",
    "    return best_params, plot_dict"
   ]
  },
  {
   "cell_type": "code",
   "execution_count": 71,
   "metadata": {},
   "outputs": [],
   "source": [
    "def plot_GD_run(params, plot_dict):\n",
    "    plot_title = \"{flavor} GD\\n({n_epochs} epochs with α = {learning_rate}\".format(\n",
    "        flavor=plot_dict['flavor'], \n",
    "        n_epochs=plot_dict['n_epochs'], \n",
    "        learning_rate=plot_dict['learning_rate'])\n",
    "    plot_title += \")\" if 'batch_size' not in plot_dict else \" and {batch_size} batch size)\".format(\n",
    "        batch_size=plot_dict['batch_size'])\n",
    "\n",
    "    # leave only \"loss\" and \"val_loss\" for plotting\n",
    "    loss_data = pd.DataFrame({k: v for k, v in plot_dict.items() if (k == \"loss\" or k == \"val_loss\")})\n",
    "\n",
    "    lineplot = sns.lineplot(data=loss_data)\n",
    "    lineplot.set_title(plot_title)\n",
    "    lineplot.set_xlabel(\"epoch\")\n",
    "    lineplot.set_ylabel(\"J(θ)\")"
   ]
  },
  {
   "cell_type": "markdown",
   "metadata": {},
   "source": [
    "### 6.4.1 Learning rate of 0.0005"
   ]
  },
  {
   "cell_type": "markdown",
   "metadata": {},
   "source": [
    "#### Vanilla Gradient Descent"
   ]
  },
  {
   "cell_type": "code",
   "execution_count": 88,
   "metadata": {},
   "outputs": [
    {
     "name": "stdout",
     "output_type": "stream",
     "text": [
      "(10000 / 10000) training: 0.4144 | validation: 0.4149\n",
      "\n",
      "Best validation loss: 0.414852 (at epoch 10000)\n"
     ]
    }
   ],
   "source": [
    "vanilla_run = run_GD(learning_rate=0.005, n_epochs=10000, GD_flavor=\"vanilla\")"
   ]
  },
  {
   "cell_type": "code",
   "execution_count": 89,
   "metadata": {},
   "outputs": [
    {
     "data": {
      "image/png": "[encoded data removed]",
      "text/plain": [
       "<Figure size 432x288 with 1 Axes>"
      ]
     },
     "metadata": {},
     "output_type": "display_data"
    }
   ],
   "source": [
    "plot_GD_run(*vanilla_run)"
   ]
  },
  {
   "cell_type": "markdown",
   "metadata": {},
   "source": [
    "#### Mini Batch Gradient Descent"
   ]
  },
  {
   "cell_type": "code",
   "execution_count": 90,
   "metadata": {},
   "outputs": [
    {
     "name": "stdout",
     "output_type": "stream",
     "text": [
      "(1000 / 1000) training: 0.4140 | validation: 0.4147\n",
      "\n",
      "Best validation loss: 0.414707 (at epoch 251)\n"
     ]
    }
   ],
   "source": [
    "mini_batch_run = run_GD(learning_rate=0.0005, n_epochs=1000, GD_flavor=\"mini batch\", batch_size=37)"
   ]
  },
  {
   "cell_type": "code",
   "execution_count": 91,
   "metadata": {
    "scrolled": true
   },
   "outputs": [
    {
     "data": {
      "image/png": "[encoded data removed]",
      "text/plain": [
       "<Figure size 432x288 with 1 Axes>"
      ]
     },
     "metadata": {},
     "output_type": "display_data"
    }
   ],
   "source": [
    "plot_GD_run(*mini_batch_run)"
   ]
  },
  {
   "cell_type": "markdown",
   "metadata": {},
   "source": [
    "#### Stochastic Gradient Descent"
   ]
  },
  {
   "cell_type": "code",
   "execution_count": 92,
   "metadata": {},
   "outputs": [
    {
     "name": "stdout",
     "output_type": "stream",
     "text": [
      "(100 / 100) training: 0.4147 | validation: 0.4152\n",
      "\n",
      "Best validation loss: 0.414729 (at epoch 99)\n"
     ]
    }
   ],
   "source": [
    "stochastic_run = run_GD(learning_rate=0.0005, n_epochs=100, GD_flavor=\"stochastic\")"
   ]
  },
  {
   "cell_type": "code",
   "execution_count": 93,
   "metadata": {
    "scrolled": true
   },
   "outputs": [
    {
     "data": {
      "image/png": "[encoded data removed]",
      "text/plain": [
       "<Figure size 432x288 with 1 Axes>"
      ]
     },
     "metadata": {},
     "output_type": "display_data"
    }
   ],
   "source": [
    "plot_GD_run(*stochastic_run)"
   ]
  },
  {
   "cell_type": "markdown",
   "metadata": {},
   "source": [
    "### 6.4.2 Higher learning rates"
   ]
  },
  {
   "cell_type": "markdown",
   "metadata": {},
   "source": [
    "#### Vanilla Gradient Descent"
   ]
  },
  {
   "cell_type": "code",
   "execution_count": 79,
   "metadata": {
    "scrolled": false
   },
   "outputs": [
    {
     "name": "stdout",
     "output_type": "stream",
     "text": [
      "(1 / 10000) training: 0.4201 | validation: 0.4181\r",
      "(2 / 10000) training: 0.4185 | validation: 0.4172\r",
      "(3 / 10000) training: 0.4180 | validation: 0.4166\r",
      "(4 / 10000) training: 0.4177 | validation: 0.4164\r",
      "(5 / 10000) training: 0.4175 | validation: 0.4162\r",
      "(6 / 10000) training: 0.4173 | validation: 0.4161\r",
      "(7 / 10000) training: 0.4171 | validation: 0.4160\r",
      "(8 / 10000) training: 0.4169 | validation: 0.4159\r",
      "(9 / 10000) training: 0.4168 | validation: 0.4158\r",
      "(10 / 10000) training: 0.4166 | validation: 0.4157\r",
      "(11 / 10000) training: 0.4165 | validation: 0.4157\r",
      "(12 / 10000) training: 0.4164 | validation: 0.4156\r",
      "(13 / 10000) training: 0.4163 | validation: 0.4156\r",
      "(14 / 10000) training: 0.4162 | validation: 0.4155\r",
      "(15 / 10000) training: 0.4161 | validation: 0.4155\r",
      "(16 / 10000) training: 0.4160 | validation: 0.4154\r",
      "(17 / 10000) training: 0.4159 | validation: 0.4154\r",
      "(18 / 10000) training: 0.4158 | validation: 0.4154\r",
      "(19 / 10000) training: 0.4157 | validation: 0.4153\r",
      "(20 / 10000) training: 0.4157 | validation: 0.4153\r",
      "(21 / 10000) training: 0.4156 | validation: 0.4153\r",
      "(22 / 10000) training: 0.4155 | validation: 0.4152\r",
      "(23 / 10000) training: 0.4154 | validation: 0.4152\r",
      "(24 / 10000) training: 0.4154 | validation: 0.4152\r",
      "(25 / 10000) training: 0.4153 | validation: 0.4152\r",
      "(26 / 10000) training: 0.4153 | validation: 0.4152\r",
      "(27 / 10000) training: 0.4152 | validation: 0.4151\r",
      "(28 / 10000) training: 0.4151 | validation: 0.4151\r",
      "(29 / 10000) training: 0.4151 | validation: 0.4151\r",
      "(30 / 10000) training: 0.4150 | validation: 0.4151\r",
      "(31 / 10000) training: 0.4150 | validation: 0.4151\r",
      "(32 / 10000) training: 0.4150 | validation: 0.4150\r",
      "(33 / 10000) training: 0.4149 | validation: 0.4150\r",
      "(34 / 10000) training: 0.4149 | validation: 0.4150\r",
      "(35 / 10000) training: 0.4148 | validation: 0.4150\r",
      "(36 / 10000) training: 0.4148 | validation: 0.4150\r",
      "(37 / 10000) training: 0.4148 | validation: 0.4150\r",
      "(38 / 10000) training: 0.4147 | validation: 0.4150\r",
      "(39 / 10000) training: 0.4147 | validation: 0.4149\r",
      "(40 / 10000) training: 0.4147 | validation: 0.4149\r",
      "(41 / 10000) training: 0.4146 | validation: 0.4149\r",
      "(42 / 10000) training: 0.4146 | validation: 0.4149\r",
      "(43 / 10000) training: 0.4146 | validation: 0.4149\r",
      "(44 / 10000) training: 0.4146 | validation: 0.4149\r",
      "(45 / 10000) training: 0.4145 | validation: 0.4149\r",
      "(46 / 10000) training: 0.4145 | validation: 0.4149\r",
      "(47 / 10000) training: 0.4145 | validation: 0.4149\r",
      "(48 / 10000) training: 0.4145 | validation: 0.4149\r",
      "(49 / 10000) training: 0.4144 | validation: 0.4149\r",
      "(50 / 10000) training: 0.4144 | validation: 0.4148\r",
      "(51 / 10000) training: 0.4144 | validation: 0.4148\r",
      "(52 / 10000) training: 0.4144 | validation: 0.4148\r",
      "(53 / 10000) training: 0.4144 | validation: 0.4148\r",
      "(54 / 10000) training: 0.4144 | validation: 0.4148\r",
      "(55 / 10000) training: 0.4143 | validation: 0.4148\r",
      "(56 / 10000) training: 0.4143 | validation: 0.4148\r",
      "(57 / 10000) training: 0.4143 | validation: 0.4148\r",
      "(58 / 10000) training: 0.4143 | validation: 0.4148\r",
      "(59 / 10000) training: 0.4143 | validation: 0.4148\r",
      "(60 / 10000) training: 0.4143 | validation: 0.4148\r",
      "(61 / 10000) training: 0.4143 | validation: 0.4148\r",
      "(62 / 10000) training: 0.4142 | validation: 0.4148\r",
      "(63 / 10000) training: 0.4142 | validation: 0.4148\r",
      "(64 / 10000) training: 0.4142 | validation: 0.4148\r",
      "(65 / 10000) training: 0.4142 | validation: 0.4148\r",
      "(66 / 10000) training: 0.4142 | validation: 0.4148\r",
      "(67 / 10000) training: 0.4142 | validation: 0.4148\r",
      "(68 / 10000) training: 0.4142 | validation: 0.4148\r",
      "(69 / 10000) training: 0.4142 | validation: 0.4148\r",
      "(70 / 10000) training: 0.4142 | validation: 0.4148\r",
      "(71 / 10000) training: 0.4142 | validation: 0.4148\r",
      "(72 / 10000) training: 0.4142 | validation: 0.4148\r",
      "(73 / 10000) training: 0.4142 | validation: 0.4148\r",
      "(74 / 10000) training: 0.4141 | validation: 0.4148\r",
      "(75 / 10000) training: 0.4141 | validation: 0.4148\r",
      "(76 / 10000) training: 0.4141 | validation: 0.4148\r",
      "(77 / 10000) training: 0.4141 | validation: 0.4148\r",
      "(78 / 10000) training: 0.4141 | validation: 0.4147\r",
      "(79 / 10000) training: 0.4141 | validation: 0.4147\r",
      "(80 / 10000) training: 0.4141 | validation: 0.4147\r",
      "(81 / 10000) training: 0.4141 | validation: 0.4147\r",
      "(82 / 10000) training: 0.4141 | validation: 0.4147\r",
      "(83 / 10000) training: 0.4141 | validation: 0.4147\r",
      "(84 / 10000) training: 0.4141 | validation: 0.4147\r",
      "(85 / 10000) training: 0.4141 | validation: 0.4147\r",
      "(86 / 10000) training: 0.4141 | validation: 0.4147\r",
      "(87 / 10000) training: 0.4141 | validation: 0.4147\r",
      "(88 / 10000) training: 0.4141 | validation: 0.4147\r",
      "(89 / 10000) training: 0.4141 | validation: 0.4147\r",
      "(90 / 10000) training: 0.4141 | validation: 0.4147\r",
      "(91 / 10000) training: 0.4141 | validation: 0.4147\r",
      "(92 / 10000) training: 0.4141 | validation: 0.4147\r",
      "(93 / 10000) training: 0.4141 | validation: 0.4147\r",
      "(94 / 10000) training: 0.4141 | validation: 0.4147\r",
      "(95 / 10000) training: 0.4141 | validation: 0.4147\r",
      "(96 / 10000) training: 0.4141 | validation: 0.4147\r",
      "(97 / 10000) training: 0.4141 | validation: 0.4147\r",
      "(98 / 10000) training: 0.4141 | validation: 0.4147\r",
      "(99 / 10000) training: 0.4141 | validation: 0.4147\r",
      "(100 / 10000) training: 0.4141 | validation: 0.4147\r",
      "(101 / 10000) training: 0.4140 | validation: 0.4147\r",
      "(102 / 10000) training: 0.4140 | validation: 0.4147\r",
      "(103 / 10000) training: 0.4140 | validation: 0.4147\r",
      "(104 / 10000) training: 0.4140 | validation: 0.4147\r",
      "(105 / 10000) training: 0.4140 | validation: 0.4147\r",
      "(106 / 10000) training: 0.4140 | validation: 0.4147\r",
      "(107 / 10000) training: 0.4140 | validation: 0.4147\r",
      "(108 / 10000) training: 0.4140 | validation: 0.4147\r",
      "(109 / 10000) training: 0.4140 | validation: 0.4147\r",
      "(110 / 10000) training: 0.4140 | validation: 0.4147\r",
      "(111 / 10000) training: 0.4140 | validation: 0.4147\r",
      "(112 / 10000) training: 0.4140 | validation: 0.4147\r",
      "(113 / 10000) training: 0.4140 | validation: 0.4147\r",
      "(114 / 10000) training: 0.4140 | validation: 0.4147\r",
      "(115 / 10000) training: 0.4140 | validation: 0.4147\r",
      "(116 / 10000) training: 0.4140 | validation: 0.4147\r",
      "(117 / 10000) training: 0.4140 | validation: 0.4147\r",
      "(118 / 10000) training: 0.4140 | validation: 0.4147\r",
      "(119 / 10000) training: 0.4140 | validation: 0.4147\r",
      "(120 / 10000) training: 0.4140 | validation: 0.4147\r",
      "(121 / 10000) training: 0.4140 | validation: 0.4147\r",
      "(122 / 10000) training: 0.4140 | validation: 0.4147\r",
      "(123 / 10000) training: 0.4140 | validation: 0.4147\r",
      "(124 / 10000) training: 0.4140 | validation: 0.4147\r",
      "(125 / 10000) training: 0.4140 | validation: 0.4147\r",
      "(126 / 10000) training: 0.4140 | validation: 0.4147\r",
      "(127 / 10000) training: 0.4140 | validation: 0.4147\r",
      "(128 / 10000) training: 0.4140 | validation: 0.4147\r",
      "(129 / 10000) training: 0.4140 | validation: 0.4147\r",
      "(130 / 10000) training: 0.4140 | validation: 0.4147\r",
      "(131 / 10000) training: 0.4140 | validation: 0.4147\r",
      "(132 / 10000) training: 0.4140 | validation: 0.4147\r",
      "(133 / 10000) training: 0.4140 | validation: 0.4147\r",
      "(134 / 10000) training: 0.4140 | validation: 0.4147\r",
      "(135 / 10000) training: 0.4140 | validation: 0.4147\r",
      "(136 / 10000) training: 0.4140 | validation: 0.4147\r",
      "(137 / 10000) training: 0.4140 | validation: 0.4147\r",
      "(138 / 10000) training: 0.4140 | validation: 0.4147\r",
      "(139 / 10000) training: 0.4140 | validation: 0.4147\r",
      "(140 / 10000) training: 0.4140 | validation: 0.4147\r",
      "(141 / 10000) training: 0.4140 | validation: 0.4147\r",
      "(142 / 10000) training: 0.4140 | validation: 0.4147\r",
      "(143 / 10000) training: 0.4140 | validation: 0.4147\r",
      "(144 / 10000) training: 0.4140 | validation: 0.4147\r",
      "(145 / 10000) training: 0.4140 | validation: 0.4147\r",
      "(146 / 10000) training: 0.4140 | validation: 0.4147\r",
      "(147 / 10000) training: 0.4140 | validation: 0.4147\r",
      "(148 / 10000) training: 0.4140 | validation: 0.4147\r",
      "(149 / 10000) training: 0.4140 | validation: 0.4147\r",
      "(150 / 10000) training: 0.4140 | validation: 0.4147\r",
      "(151 / 10000) training: 0.4140 | validation: 0.4147\r",
      "(152 / 10000) training: 0.4140 | validation: 0.4147\r",
      "(153 / 10000) training: 0.4140 | validation: 0.4147\r",
      "(154 / 10000) training: 0.4140 | validation: 0.4147\r",
      "(155 / 10000) training: 0.4140 | validation: 0.4147\r",
      "(156 / 10000) training: 0.4140 | validation: 0.4147\r",
      "(157 / 10000) training: 0.4140 | validation: 0.4147\r",
      "(158 / 10000) training: 0.4140 | validation: 0.4147\r",
      "(159 / 10000) training: 0.4140 | validation: 0.4147\r",
      "(160 / 10000) training: 0.4140 | validation: 0.4147\r",
      "(161 / 10000) training: 0.4140 | validation: 0.4147\r",
      "(162 / 10000) training: 0.4140 | validation: 0.4147\r",
      "(163 / 10000) training: 0.4140 | validation: 0.4147\r",
      "(164 / 10000) training: 0.4140 | validation: 0.4147\r",
      "(165 / 10000) training: 0.4140 | validation: 0.4147\r",
      "(166 / 10000) training: 0.4140 | validation: 0.4147\r",
      "(167 / 10000) training: 0.4140 | validation: 0.4147\r",
      "(168 / 10000) training: 0.4140 | validation: 0.4147\r",
      "(169 / 10000) training: 0.4140 | validation: 0.4147\r",
      "(170 / 10000) training: 0.4140 | validation: 0.4147\r",
      "(171 / 10000) training: 0.4140 | validation: 0.4147\r",
      "(172 / 10000) training: 0.4140 | validation: 0.4147\r",
      "(173 / 10000) training: 0.4140 | validation: 0.4147\r",
      "(174 / 10000) training: 0.4140 | validation: 0.4147\r",
      "(175 / 10000) training: 0.4140 | validation: 0.4147\r",
      "(176 / 10000) training: 0.4140 | validation: 0.4147\r",
      "(177 / 10000) training: 0.4140 | validation: 0.4147\r",
      "(178 / 10000) training: 0.4140 | validation: 0.4147\r",
      "(179 / 10000) training: 0.4140 | validation: 0.4147\r",
      "(180 / 10000) training: 0.4140 | validation: 0.4147\r",
      "(181 / 10000) training: 0.4140 | validation: 0.4147\r",
      "(182 / 10000) training: 0.4140 | validation: 0.4147\r",
      "(183 / 10000) training: 0.4140 | validation: 0.4147\r",
      "(184 / 10000) training: 0.4140 | validation: 0.4147\r",
      "(185 / 10000) training: 0.4140 | validation: 0.4147\r",
      "(186 / 10000) training: 0.4140 | validation: 0.4147\r",
      "(187 / 10000) training: 0.4140 | validation: 0.4147"
     ]
    },
    {
     "name": "stdout",
     "output_type": "stream",
     "text": [
      "\r",
      "(188 / 10000) training: 0.4140 | validation: 0.4147\r",
      "(189 / 10000) training: 0.4140 | validation: 0.4147\r",
      "(190 / 10000) training: 0.4140 | validation: 0.4147\r",
      "(191 / 10000) training: 0.4140 | validation: 0.4147\r",
      "(192 / 10000) training: 0.4140 | validation: 0.4147\r",
      "(193 / 10000) training: 0.4140 | validation: 0.4147\r",
      "(194 / 10000) training: 0.4140 | validation: 0.4147\r",
      "(195 / 10000) training: 0.4140 | validation: 0.4147\r",
      "(196 / 10000) training: 0.4140 | validation: 0.4147\r",
      "(197 / 10000) training: 0.4140 | validation: 0.4147\r",
      "(198 / 10000) training: 0.4140 | validation: 0.4147\r",
      "(199 / 10000) training: 0.4140 | validation: 0.4147\r",
      "(200 / 10000) training: 0.4140 | validation: 0.4147\r",
      "(201 / 10000) training: 0.4140 | validation: 0.4147\r",
      "(202 / 10000) training: 0.4140 | validation: 0.4147\r",
      "(203 / 10000) training: 0.4140 | validation: 0.4147\r",
      "(204 / 10000) training: 0.4140 | validation: 0.4147\r",
      "(205 / 10000) training: 0.4140 | validation: 0.4147\r",
      "(206 / 10000) training: 0.4140 | validation: 0.4147\r",
      "(207 / 10000) training: 0.4140 | validation: 0.4147\r",
      "(208 / 10000) training: 0.4140 | validation: 0.4147\r",
      "(209 / 10000) training: 0.4140 | validation: 0.4147\r",
      "(210 / 10000) training: 0.4140 | validation: 0.4147\r",
      "(211 / 10000) training: 0.4140 | validation: 0.4147\r",
      "(212 / 10000) training: 0.4140 | validation: 0.4147\r",
      "(213 / 10000) training: 0.4140 | validation: 0.4147\r",
      "(214 / 10000) training: 0.4140 | validation: 0.4147\r",
      "(215 / 10000) training: 0.4140 | validation: 0.4147\r",
      "(216 / 10000) training: 0.4140 | validation: 0.4147\r",
      "(217 / 10000) training: 0.4140 | validation: 0.4147\r",
      "(218 / 10000) training: 0.4140 | validation: 0.4147\r",
      "(219 / 10000) training: 0.4140 | validation: 0.4147\r",
      "(220 / 10000) training: 0.4140 | validation: 0.4147\r",
      "(221 / 10000) training: 0.4140 | validation: 0.4147\r",
      "(222 / 10000) training: 0.4140 | validation: 0.4147\r",
      "(223 / 10000) training: 0.4140 | validation: 0.4147\r",
      "(224 / 10000) training: 0.4140 | validation: 0.4147\r",
      "(225 / 10000) training: 0.4140 | validation: 0.4147\r",
      "(226 / 10000) training: 0.4140 | validation: 0.4147\r",
      "(227 / 10000) training: 0.4140 | validation: 0.4147\r",
      "(228 / 10000) training: 0.4140 | validation: 0.4147\r",
      "(229 / 10000) training: 0.4140 | validation: 0.4147\r",
      "(230 / 10000) training: 0.4140 | validation: 0.4147\r",
      "(231 / 10000) training: 0.4140 | validation: 0.4147\r",
      "(232 / 10000) training: 0.4140 | validation: 0.4147\r",
      "(233 / 10000) training: 0.4140 | validation: 0.4147\r",
      "(234 / 10000) training: 0.4140 | validation: 0.4147\r",
      "(235 / 10000) training: 0.4140 | validation: 0.4147\r",
      "(236 / 10000) training: 0.4140 | validation: 0.4147\r",
      "(237 / 10000) training: 0.4140 | validation: 0.4147\r",
      "(238 / 10000) training: 0.4140 | validation: 0.4147\r",
      "(239 / 10000) training: 0.4140 | validation: 0.4147\r",
      "(240 / 10000) training: 0.4140 | validation: 0.4147\r",
      "(241 / 10000) training: 0.4140 | validation: 0.4147\r",
      "(242 / 10000) training: 0.4140 | validation: 0.4147\r",
      "(243 / 10000) training: 0.4140 | validation: 0.4147\r",
      "(244 / 10000) training: 0.4140 | validation: 0.4147\r",
      "(245 / 10000) training: 0.4140 | validation: 0.4147\r",
      "(246 / 10000) training: 0.4140 | validation: 0.4147\r",
      "(247 / 10000) training: 0.4140 | validation: 0.4147\r",
      "(248 / 10000) training: 0.4140 | validation: 0.4147\r",
      "(249 / 10000) training: 0.4140 | validation: 0.4147\r",
      "(250 / 10000) training: 0.4140 | validation: 0.4147\r",
      "(251 / 10000) training: 0.4140 | validation: 0.4147\r",
      "(252 / 10000) training: 0.4140 | validation: 0.4147\r",
      "(253 / 10000) training: 0.4140 | validation: 0.4147\r",
      "(254 / 10000) training: 0.4140 | validation: 0.4147\r",
      "(255 / 10000) training: 0.4140 | validation: 0.4147\r",
      "(256 / 10000) training: 0.4140 | validation: 0.4147\r",
      "(257 / 10000) training: 0.4140 | validation: 0.4147\r",
      "(258 / 10000) training: 0.4140 | validation: 0.4147\r",
      "(259 / 10000) training: 0.4140 | validation: 0.4147\r",
      "(260 / 10000) training: 0.4140 | validation: 0.4147\r",
      "(261 / 10000) training: 0.4140 | validation: 0.4147\r",
      "(262 / 10000) training: 0.4140 | validation: 0.4147\r",
      "(263 / 10000) training: 0.4140 | validation: 0.4147\r",
      "(264 / 10000) training: 0.4140 | validation: 0.4147\r",
      "(265 / 10000) training: 0.4140 | validation: 0.4147\r",
      "(266 / 10000) training: 0.4140 | validation: 0.4147\r",
      "(267 / 10000) training: 0.4140 | validation: 0.4147\r",
      "(268 / 10000) training: 0.4140 | validation: 0.4147\r",
      "(269 / 10000) training: 0.4140 | validation: 0.4147\r",
      "(270 / 10000) training: 0.4140 | validation: 0.4147\r",
      "(271 / 10000) training: 0.4140 | validation: 0.4147\r",
      "(272 / 10000) training: 0.4140 | validation: 0.4147\r",
      "(273 / 10000) training: 0.4140 | validation: 0.4147\r",
      "(274 / 10000) training: 0.4140 | validation: 0.4147\r",
      "(275 / 10000) training: 0.4140 | validation: 0.4147\r",
      "(276 / 10000) training: 0.4140 | validation: 0.4147\r",
      "(277 / 10000) training: 0.4140 | validation: 0.4147\r",
      "(278 / 10000) training: 0.4140 | validation: 0.4147\r",
      "(279 / 10000) training: 0.4140 | validation: 0.4147\r",
      "(280 / 10000) training: 0.4140 | validation: 0.4147\r",
      "(281 / 10000) training: 0.4140 | validation: 0.4147\r",
      "(282 / 10000) training: 0.4140 | validation: 0.4147\r",
      "(283 / 10000) training: 0.4140 | validation: 0.4147\r",
      "(284 / 10000) training: 0.4140 | validation: 0.4147\r",
      "(285 / 10000) training: 0.4140 | validation: 0.4147\r",
      "(286 / 10000) training: 0.4140 | validation: 0.4147\r",
      "(287 / 10000) training: 0.4140 | validation: 0.4147\r",
      "(288 / 10000) training: 0.4140 | validation: 0.4147\r",
      "(289 / 10000) training: 0.4140 | validation: 0.4147\r",
      "(290 / 10000) training: 0.4140 | validation: 0.4147\r",
      "(291 / 10000) training: 0.4140 | validation: 0.4147\r",
      "(292 / 10000) training: 0.4140 | validation: 0.4147\r",
      "(293 / 10000) training: 0.4140 | validation: 0.4147\r",
      "(294 / 10000) training: 0.4140 | validation: 0.4147\r",
      "(295 / 10000) training: 0.4140 | validation: 0.4147\r",
      "(296 / 10000) training: 0.4140 | validation: 0.4147\r",
      "(297 / 10000) training: 0.4140 | validation: 0.4147\r",
      "(298 / 10000) training: 0.4140 | validation: 0.4147\r",
      "(299 / 10000) training: 0.4140 | validation: 0.4147\r",
      "(300 / 10000) training: 0.4140 | validation: 0.4147\r",
      "(301 / 10000) training: 0.4140 | validation: 0.4147\r",
      "(302 / 10000) training: 0.4140 | validation: 0.4147\r",
      "(303 / 10000) training: 0.4140 | validation: 0.4147\r",
      "(304 / 10000) training: 0.4140 | validation: 0.4147\r",
      "(305 / 10000) training: 0.4140 | validation: 0.4147\r",
      "(306 / 10000) training: 0.4140 | validation: 0.4147\r",
      "(307 / 10000) training: 0.4140 | validation: 0.4147\r",
      "(308 / 10000) training: 0.4140 | validation: 0.4147\r",
      "(309 / 10000) training: 0.4140 | validation: 0.4147\r",
      "(310 / 10000) training: 0.4140 | validation: 0.4147\r",
      "(311 / 10000) training: 0.4140 | validation: 0.4147\r",
      "(312 / 10000) training: 0.4140 | validation: 0.4147\r",
      "(313 / 10000) training: 0.4140 | validation: 0.4147\r",
      "(314 / 10000) training: 0.4140 | validation: 0.4147\r",
      "(315 / 10000) training: 0.4140 | validation: 0.4147\r",
      "(316 / 10000) training: 0.4140 | validation: 0.4147\r",
      "(317 / 10000) training: 0.4140 | validation: 0.4147\r",
      "(318 / 10000) training: 0.4140 | validation: 0.4147\r",
      "(319 / 10000) training: 0.4140 | validation: 0.4147\r",
      "(320 / 10000) training: 0.4140 | validation: 0.4147\r",
      "(321 / 10000) training: 0.4140 | validation: 0.4147\r",
      "(322 / 10000) training: 0.4140 | validation: 0.4147\r",
      "(323 / 10000) training: 0.4140 | validation: 0.4147\r",
      "(324 / 10000) training: 0.4140 | validation: 0.4147\r",
      "(325 / 10000) training: 0.4140 | validation: 0.4147\r",
      "(326 / 10000) training: 0.4140 | validation: 0.4147\r",
      "(327 / 10000) training: 0.4140 | validation: 0.4147\r",
      "(328 / 10000) training: 0.4140 | validation: 0.4147\r",
      "(329 / 10000) training: 0.4140 | validation: 0.4147\r",
      "(330 / 10000) training: 0.4140 | validation: 0.4147\r",
      "(331 / 10000) training: 0.4140 | validation: 0.4147\r",
      "(332 / 10000) training: 0.4140 | validation: 0.4147\r",
      "(333 / 10000) training: 0.4140 | validation: 0.4147\r",
      "(334 / 10000) training: 0.4140 | validation: 0.4147\r",
      "(335 / 10000) training: 0.4140 | validation: 0.4147\r",
      "(336 / 10000) training: 0.4140 | validation: 0.4147\r",
      "(337 / 10000) training: 0.4140 | validation: 0.4147\r",
      "(338 / 10000) training: 0.4140 | validation: 0.4147\r",
      "(339 / 10000) training: 0.4140 | validation: 0.4147\r",
      "(340 / 10000) training: 0.4140 | validation: 0.4147\r",
      "(341 / 10000) training: 0.4140 | validation: 0.4147\r",
      "(342 / 10000) training: 0.4140 | validation: 0.4147\r",
      "(343 / 10000) training: 0.4140 | validation: 0.4147\r",
      "(344 / 10000) training: 0.4140 | validation: 0.4147\r",
      "(345 / 10000) training: 0.4140 | validation: 0.4147\r",
      "(346 / 10000) training: 0.4140 | validation: 0.4147\r",
      "(347 / 10000) training: 0.4140 | validation: 0.4147\r",
      "(348 / 10000) training: 0.4140 | validation: 0.4147\r",
      "(349 / 10000) training: 0.4140 | validation: 0.4147\r",
      "(350 / 10000) training: 0.4140 | validation: 0.4147\r",
      "(351 / 10000) training: 0.4140 | validation: 0.4147\r",
      "(352 / 10000) training: 0.4140 | validation: 0.4147\r",
      "(353 / 10000) training: 0.4140 | validation: 0.4147\r",
      "(354 / 10000) training: 0.4140 | validation: 0.4147\r",
      "(355 / 10000) training: 0.4140 | validation: 0.4147\r",
      "(356 / 10000) training: 0.4140 | validation: 0.4147\r",
      "(357 / 10000) training: 0.4140 | validation: 0.4147\r",
      "(358 / 10000) training: 0.4140 | validation: 0.4147\r",
      "(359 / 10000) training: 0.4140 | validation: 0.4147\r",
      "(360 / 10000) training: 0.4140 | validation: 0.4147\r",
      "(361 / 10000) training: 0.4140 | validation: 0.4147\r",
      "(362 / 10000) training: 0.4140 | validation: 0.4147\r",
      "(363 / 10000) training: 0.4140 | validation: 0.4147\r",
      "(364 / 10000) training: 0.4140 | validation: 0.4147\r",
      "(365 / 10000) training: 0.4140 | validation: 0.4147\r",
      "(366 / 10000) training: 0.4140 | validation: 0.4147\r",
      "(367 / 10000) training: 0.4140 | validation: 0.4147\r",
      "(368 / 10000) training: 0.4140 | validation: 0.4147\r",
      "(369 / 10000) training: 0.4140 | validation: 0.4147\r",
      "(370 / 10000) training: 0.4140 | validation: 0.4147\r",
      "(371 / 10000) training: 0.4140 | validation: 0.4147\r",
      "(372 / 10000) training: 0.4140 | validation: 0.4147\r",
      "(373 / 10000) training: 0.4140 | validation: 0.4147\r",
      "(374 / 10000) training: 0.4140 | validation: 0.4147\r",
      "(375 / 10000) training: 0.4140 | validation: 0.4147\r",
      "(376 / 10000) training: 0.4140 | validation: 0.4147\r",
      "(377 / 10000) training: 0.4140 | validation: 0.4147\r",
      "(378 / 10000) training: 0.4140 | validation: 0.4147\r",
      "(379 / 10000) training: 0.4140 | validation: 0.4147\r",
      "(380 / 10000) training: 0.4140 | validation: 0.4147\r",
      "(381 / 10000) training: 0.4140 | validation: 0.4147\r",
      "(382 / 10000) training: 0.4140 | validation: 0.4147"
     ]
    },
    {
     "name": "stdout",
     "output_type": "stream",
     "text": [
      "\r",
      "(383 / 10000) training: 0.4140 | validation: 0.4147\r",
      "(384 / 10000) training: 0.4140 | validation: 0.4147\r",
      "(385 / 10000) training: 0.4140 | validation: 0.4147\r",
      "(386 / 10000) training: 0.4140 | validation: 0.4147\r",
      "(387 / 10000) training: 0.4140 | validation: 0.4147\r",
      "(388 / 10000) training: 0.4140 | validation: 0.4147\r",
      "(389 / 10000) training: 0.4140 | validation: 0.4147\r",
      "(390 / 10000) training: 0.4140 | validation: 0.4147\r",
      "(391 / 10000) training: 0.4140 | validation: 0.4147\r",
      "(392 / 10000) training: 0.4140 | validation: 0.4147\r",
      "(393 / 10000) training: 0.4140 | validation: 0.4147\r",
      "(394 / 10000) training: 0.4140 | validation: 0.4147\r",
      "(395 / 10000) training: 0.4140 | validation: 0.4147\r",
      "(396 / 10000) training: 0.4140 | validation: 0.4147\r",
      "(397 / 10000) training: 0.4140 | validation: 0.4147\r",
      "(398 / 10000) training: 0.4140 | validation: 0.4147\r",
      "(399 / 10000) training: 0.4140 | validation: 0.4147\r",
      "(400 / 10000) training: 0.4140 | validation: 0.4147\r",
      "(401 / 10000) training: 0.4140 | validation: 0.4147\r",
      "(402 / 10000) training: 0.4140 | validation: 0.4147\r",
      "(403 / 10000) training: 0.4140 | validation: 0.4147\r",
      "(404 / 10000) training: 0.4140 | validation: 0.4147\r",
      "(405 / 10000) training: 0.4140 | validation: 0.4147\r",
      "(406 / 10000) training: 0.4140 | validation: 0.4147\r",
      "(407 / 10000) training: 0.4140 | validation: 0.4147\r",
      "(408 / 10000) training: 0.4140 | validation: 0.4147\r",
      "(409 / 10000) training: 0.4140 | validation: 0.4147\r",
      "(410 / 10000) training: 0.4140 | validation: 0.4147\r",
      "(411 / 10000) training: 0.4140 | validation: 0.4147\r",
      "(412 / 10000) training: 0.4140 | validation: 0.4147\r",
      "(413 / 10000) training: 0.4140 | validation: 0.4147\r",
      "(414 / 10000) training: 0.4140 | validation: 0.4147\r",
      "(415 / 10000) training: 0.4140 | validation: 0.4147\r",
      "(416 / 10000) training: 0.4140 | validation: 0.4147\r",
      "(417 / 10000) training: 0.4140 | validation: 0.4147\r",
      "(418 / 10000) training: 0.4140 | validation: 0.4147\r",
      "(419 / 10000) training: 0.4140 | validation: 0.4147\r",
      "(420 / 10000) training: 0.4140 | validation: 0.4147\r",
      "(421 / 10000) training: 0.4140 | validation: 0.4147\r",
      "(422 / 10000) training: 0.4140 | validation: 0.4147\r",
      "(423 / 10000) training: 0.4140 | validation: 0.4147\r",
      "(424 / 10000) training: 0.4140 | validation: 0.4147\r",
      "(425 / 10000) training: 0.4140 | validation: 0.4147\r",
      "(426 / 10000) training: 0.4140 | validation: 0.4147\r",
      "(427 / 10000) training: 0.4140 | validation: 0.4147\r",
      "(428 / 10000) training: 0.4140 | validation: 0.4147\r",
      "(429 / 10000) training: 0.4140 | validation: 0.4147\r",
      "(430 / 10000) training: 0.4140 | validation: 0.4147\r",
      "(431 / 10000) training: 0.4140 | validation: 0.4147\r",
      "(432 / 10000) training: 0.4140 | validation: 0.4147\r",
      "(433 / 10000) training: 0.4140 | validation: 0.4147\r",
      "(434 / 10000) training: 0.4140 | validation: 0.4147\r",
      "(435 / 10000) training: 0.4140 | validation: 0.4147\r",
      "(436 / 10000) training: 0.4140 | validation: 0.4147\r",
      "(437 / 10000) training: 0.4140 | validation: 0.4147\r",
      "(438 / 10000) training: 0.4140 | validation: 0.4147\r",
      "(439 / 10000) training: 0.4140 | validation: 0.4147\r",
      "(440 / 10000) training: 0.4140 | validation: 0.4147\r",
      "(441 / 10000) training: 0.4140 | validation: 0.4147\r",
      "(442 / 10000) training: 0.4140 | validation: 0.4147\r",
      "(443 / 10000) training: 0.4140 | validation: 0.4147\r",
      "(444 / 10000) training: 0.4140 | validation: 0.4147\r",
      "(445 / 10000) training: 0.4140 | validation: 0.4147\r",
      "(446 / 10000) training: 0.4140 | validation: 0.4147\r",
      "(447 / 10000) training: 0.4140 | validation: 0.4147\r",
      "(448 / 10000) training: 0.4140 | validation: 0.4147\r",
      "(449 / 10000) training: 0.4140 | validation: 0.4147\r",
      "(450 / 10000) training: 0.4140 | validation: 0.4147\r",
      "(451 / 10000) training: 0.4140 | validation: 0.4147\r",
      "(452 / 10000) training: 0.4140 | validation: 0.4147\r",
      "(453 / 10000) training: 0.4140 | validation: 0.4147\r",
      "(454 / 10000) training: 0.4140 | validation: 0.4147\r",
      "(455 / 10000) training: 0.4140 | validation: 0.4147\r",
      "(456 / 10000) training: 0.4140 | validation: 0.4147\r",
      "(457 / 10000) training: 0.4140 | validation: 0.4147\r",
      "(458 / 10000) training: 0.4140 | validation: 0.4147\r",
      "(459 / 10000) training: 0.4140 | validation: 0.4147\r",
      "(460 / 10000) training: 0.4140 | validation: 0.4147\r",
      "(461 / 10000) training: 0.4140 | validation: 0.4147\r",
      "(462 / 10000) training: 0.4140 | validation: 0.4147\r",
      "(463 / 10000) training: 0.4140 | validation: 0.4147\r",
      "(464 / 10000) training: 0.4140 | validation: 0.4147\r",
      "(465 / 10000) training: 0.4140 | validation: 0.4147\r",
      "(466 / 10000) training: 0.4140 | validation: 0.4147\r",
      "(467 / 10000) training: 0.4140 | validation: 0.4147\r",
      "(468 / 10000) training: 0.4140 | validation: 0.4147\r",
      "(469 / 10000) training: 0.4140 | validation: 0.4147\r",
      "(470 / 10000) training: 0.4140 | validation: 0.4147\r",
      "(471 / 10000) training: 0.4140 | validation: 0.4147\r",
      "(472 / 10000) training: 0.4140 | validation: 0.4147\r",
      "(473 / 10000) training: 0.4140 | validation: 0.4147\r",
      "(474 / 10000) training: 0.4140 | validation: 0.4147\r",
      "(475 / 10000) training: 0.4140 | validation: 0.4147\r",
      "(476 / 10000) training: 0.4140 | validation: 0.4147\r",
      "(477 / 10000) training: 0.4140 | validation: 0.4147\r",
      "(478 / 10000) training: 0.4140 | validation: 0.4147\r",
      "(479 / 10000) training: 0.4140 | validation: 0.4147\r",
      "(480 / 10000) training: 0.4140 | validation: 0.4147\r",
      "(481 / 10000) training: 0.4140 | validation: 0.4147\r",
      "(482 / 10000) training: 0.4140 | validation: 0.4147\r",
      "(483 / 10000) training: 0.4140 | validation: 0.4147\r",
      "(484 / 10000) training: 0.4140 | validation: 0.4147\r",
      "(485 / 10000) training: 0.4140 | validation: 0.4147\r",
      "(486 / 10000) training: 0.4140 | validation: 0.4147\r",
      "(487 / 10000) training: 0.4140 | validation: 0.4147\r",
      "(488 / 10000) training: 0.4140 | validation: 0.4147\r",
      "(489 / 10000) training: 0.4140 | validation: 0.4147\r",
      "(490 / 10000) training: 0.4140 | validation: 0.4147\r",
      "(491 / 10000) training: 0.4140 | validation: 0.4147\r",
      "(492 / 10000) training: 0.4140 | validation: 0.4147\r",
      "(493 / 10000) training: 0.4140 | validation: 0.4147\r",
      "(494 / 10000) training: 0.4140 | validation: 0.4147\r",
      "(495 / 10000) training: 0.4140 | validation: 0.4147\r",
      "(496 / 10000) training: 0.4140 | validation: 0.4147\r",
      "(497 / 10000) training: 0.4140 | validation: 0.4147\r",
      "(498 / 10000) training: 0.4140 | validation: 0.4147\r",
      "(499 / 10000) training: 0.4140 | validation: 0.4147\r",
      "(500 / 10000) training: 0.4140 | validation: 0.4147\r",
      "(501 / 10000) training: 0.4140 | validation: 0.4147\r",
      "(502 / 10000) training: 0.4140 | validation: 0.4147\r",
      "(503 / 10000) training: 0.4140 | validation: 0.4147\r",
      "(504 / 10000) training: 0.4140 | validation: 0.4147\r",
      "(505 / 10000) training: 0.4140 | validation: 0.4147\r",
      "(506 / 10000) training: 0.4140 | validation: 0.4147\r",
      "(507 / 10000) training: 0.4140 | validation: 0.4147\r",
      "(508 / 10000) training: 0.4140 | validation: 0.4147\r",
      "(509 / 10000) training: 0.4140 | validation: 0.4147\r",
      "(510 / 10000) training: 0.4140 | validation: 0.4147\r",
      "(511 / 10000) training: 0.4140 | validation: 0.4147\r",
      "(512 / 10000) training: 0.4140 | validation: 0.4147\r",
      "(513 / 10000) training: 0.4140 | validation: 0.4147\r",
      "(514 / 10000) training: 0.4140 | validation: 0.4147\r",
      "(515 / 10000) training: 0.4140 | validation: 0.4147\r",
      "(516 / 10000) training: 0.4140 | validation: 0.4147\r",
      "(517 / 10000) training: 0.4140 | validation: 0.4147\r",
      "(518 / 10000) training: 0.4140 | validation: 0.4147\r",
      "(519 / 10000) training: 0.4140 | validation: 0.4147\r",
      "(520 / 10000) training: 0.4140 | validation: 0.4147\r",
      "(521 / 10000) training: 0.4140 | validation: 0.4147\r",
      "(522 / 10000) training: 0.4140 | validation: 0.4147\r",
      "(523 / 10000) training: 0.4140 | validation: 0.4147\r",
      "(524 / 10000) training: 0.4140 | validation: 0.4147\r",
      "(525 / 10000) training: 0.4140 | validation: 0.4147\r",
      "(526 / 10000) training: 0.4140 | validation: 0.4147\r",
      "(527 / 10000) training: 0.4140 | validation: 0.4147\r",
      "(528 / 10000) training: 0.4140 | validation: 0.4147\r",
      "(529 / 10000) training: 0.4140 | validation: 0.4147\r",
      "(530 / 10000) training: 0.4140 | validation: 0.4147\r",
      "(531 / 10000) training: 0.4140 | validation: 0.4147\r",
      "(532 / 10000) training: 0.4140 | validation: 0.4147\r",
      "(533 / 10000) training: 0.4140 | validation: 0.4147\r",
      "(534 / 10000) training: 0.4140 | validation: 0.4147\r",
      "(535 / 10000) training: 0.4140 | validation: 0.4147\r",
      "(536 / 10000) training: 0.4140 | validation: 0.4147\r",
      "(537 / 10000) training: 0.4140 | validation: 0.4147\r",
      "(538 / 10000) training: 0.4140 | validation: 0.4147\r",
      "(539 / 10000) training: 0.4140 | validation: 0.4147\r",
      "(540 / 10000) training: 0.4140 | validation: 0.4147\r",
      "(541 / 10000) training: 0.4140 | validation: 0.4147\r",
      "(542 / 10000) training: 0.4140 | validation: 0.4147\r",
      "(543 / 10000) training: 0.4140 | validation: 0.4147\r",
      "(544 / 10000) training: 0.4140 | validation: 0.4147\r",
      "(545 / 10000) training: 0.4140 | validation: 0.4147\r",
      "(546 / 10000) training: 0.4140 | validation: 0.4147\r",
      "(547 / 10000) training: 0.4140 | validation: 0.4147\r",
      "(548 / 10000) training: 0.4140 | validation: 0.4147\r",
      "(549 / 10000) training: 0.4140 | validation: 0.4147\r",
      "(550 / 10000) training: 0.4140 | validation: 0.4147\r",
      "(551 / 10000) training: 0.4140 | validation: 0.4147\r",
      "(552 / 10000) training: 0.4140 | validation: 0.4147\r",
      "(553 / 10000) training: 0.4140 | validation: 0.4147\r",
      "(554 / 10000) training: 0.4140 | validation: 0.4147\r",
      "(555 / 10000) training: 0.4140 | validation: 0.4147\r",
      "(556 / 10000) training: 0.4140 | validation: 0.4147\r",
      "(557 / 10000) training: 0.4140 | validation: 0.4147\r",
      "(558 / 10000) training: 0.4140 | validation: 0.4147\r",
      "(559 / 10000) training: 0.4140 | validation: 0.4147\r",
      "(560 / 10000) training: 0.4140 | validation: 0.4147\r",
      "(561 / 10000) training: 0.4140 | validation: 0.4147\r",
      "(562 / 10000) training: 0.4140 | validation: 0.4147\r",
      "(563 / 10000) training: 0.4140 | validation: 0.4147\r",
      "(564 / 10000) training: 0.4140 | validation: 0.4147\r",
      "(565 / 10000) training: 0.4140 | validation: 0.4147\r",
      "(566 / 10000) training: 0.4140 | validation: 0.4147\r",
      "(567 / 10000) training: 0.4140 | validation: 0.4147\r",
      "(568 / 10000) training: 0.4140 | validation: 0.4147\r",
      "(569 / 10000) training: 0.4140 | validation: 0.4147\r",
      "(570 / 10000) training: 0.4140 | validation: 0.4147\r",
      "(571 / 10000) training: 0.4140 | validation: 0.4147\r",
      "(572 / 10000) training: 0.4140 | validation: 0.4147\r",
      "(573 / 10000) training: 0.4140 | validation: 0.4147\r",
      "(574 / 10000) training: 0.4140 | validation: 0.4147\r",
      "(575 / 10000) training: 0.4140 | validation: 0.4147\r",
      "(576 / 10000) training: 0.4140 | validation: 0.4147\r",
      "(577 / 10000) training: 0.4140 | validation: 0.4147\r",
      "(578 / 10000) training: 0.4140 | validation: 0.4147"
     ]
    },
    {
     "name": "stdout",
     "output_type": "stream",
     "text": [
      "\r",
      "(579 / 10000) training: 0.4140 | validation: 0.4147\r",
      "(580 / 10000) training: 0.4140 | validation: 0.4147\r",
      "(581 / 10000) training: 0.4140 | validation: 0.4147\r",
      "(582 / 10000) training: 0.4140 | validation: 0.4147\r",
      "(583 / 10000) training: 0.4140 | validation: 0.4147\r",
      "(584 / 10000) training: 0.4140 | validation: 0.4147\r",
      "(585 / 10000) training: 0.4140 | validation: 0.4147\r",
      "(586 / 10000) training: 0.4140 | validation: 0.4147\r",
      "(587 / 10000) training: 0.4140 | validation: 0.4147\r",
      "(588 / 10000) training: 0.4140 | validation: 0.4147\r",
      "(589 / 10000) training: 0.4140 | validation: 0.4147\r",
      "(590 / 10000) training: 0.4140 | validation: 0.4147\r",
      "(591 / 10000) training: 0.4140 | validation: 0.4147\r",
      "(592 / 10000) training: 0.4140 | validation: 0.4147\r",
      "(593 / 10000) training: 0.4140 | validation: 0.4147\r",
      "(594 / 10000) training: 0.4140 | validation: 0.4147\r",
      "(595 / 10000) training: 0.4140 | validation: 0.4147\r",
      "(596 / 10000) training: 0.4140 | validation: 0.4147\r",
      "(597 / 10000) training: 0.4140 | validation: 0.4147\r",
      "(598 / 10000) training: 0.4140 | validation: 0.4147\r",
      "(599 / 10000) training: 0.4140 | validation: 0.4147\r",
      "(600 / 10000) training: 0.4140 | validation: 0.4147\r",
      "(601 / 10000) training: 0.4140 | validation: 0.4147\r",
      "(602 / 10000) training: 0.4140 | validation: 0.4147\r",
      "(603 / 10000) training: 0.4140 | validation: 0.4147\r",
      "(604 / 10000) training: 0.4140 | validation: 0.4147\r",
      "(605 / 10000) training: 0.4140 | validation: 0.4147\r",
      "(606 / 10000) training: 0.4140 | validation: 0.4147\r",
      "(607 / 10000) training: 0.4140 | validation: 0.4147\r",
      "(608 / 10000) training: 0.4140 | validation: 0.4147\r",
      "(609 / 10000) training: 0.4140 | validation: 0.4147\r",
      "(610 / 10000) training: 0.4140 | validation: 0.4147\r",
      "(611 / 10000) training: 0.4140 | validation: 0.4147\r",
      "(612 / 10000) training: 0.4140 | validation: 0.4147\r",
      "(613 / 10000) training: 0.4140 | validation: 0.4147\r",
      "(614 / 10000) training: 0.4140 | validation: 0.4147\r",
      "(615 / 10000) training: 0.4140 | validation: 0.4147\r",
      "(616 / 10000) training: 0.4140 | validation: 0.4147\r",
      "(617 / 10000) training: 0.4140 | validation: 0.4147\r",
      "(618 / 10000) training: 0.4140 | validation: 0.4147\r",
      "(619 / 10000) training: 0.4140 | validation: 0.4147\r",
      "(620 / 10000) training: 0.4140 | validation: 0.4147\r",
      "(621 / 10000) training: 0.4140 | validation: 0.4147\r",
      "(622 / 10000) training: 0.4140 | validation: 0.4147\r",
      "(623 / 10000) training: 0.4140 | validation: 0.4147\r",
      "(624 / 10000) training: 0.4140 | validation: 0.4147\r",
      "(625 / 10000) training: 0.4140 | validation: 0.4147\r",
      "(626 / 10000) training: 0.4140 | validation: 0.4147\r",
      "(627 / 10000) training: 0.4140 | validation: 0.4147\r",
      "(628 / 10000) training: 0.4140 | validation: 0.4147\r",
      "(629 / 10000) training: 0.4140 | validation: 0.4147\r",
      "(630 / 10000) training: 0.4140 | validation: 0.4147\r",
      "(631 / 10000) training: 0.4140 | validation: 0.4147\r",
      "(632 / 10000) training: 0.4140 | validation: 0.4147\r",
      "(633 / 10000) training: 0.4140 | validation: 0.4147\r",
      "(634 / 10000) training: 0.4140 | validation: 0.4147\r",
      "(635 / 10000) training: 0.4140 | validation: 0.4147\r",
      "(636 / 10000) training: 0.4140 | validation: 0.4147\r",
      "(637 / 10000) training: 0.4140 | validation: 0.4147\r",
      "(638 / 10000) training: 0.4140 | validation: 0.4147\r",
      "(639 / 10000) training: 0.4140 | validation: 0.4147\r",
      "(640 / 10000) training: 0.4140 | validation: 0.4147\r",
      "(641 / 10000) training: 0.4140 | validation: 0.4147\r",
      "(642 / 10000) training: 0.4140 | validation: 0.4147\r",
      "(643 / 10000) training: 0.4140 | validation: 0.4147\r",
      "(644 / 10000) training: 0.4140 | validation: 0.4147\r",
      "(645 / 10000) training: 0.4140 | validation: 0.4147\r",
      "(646 / 10000) training: 0.4140 | validation: 0.4147\r",
      "(647 / 10000) training: 0.4140 | validation: 0.4147\r",
      "(648 / 10000) training: 0.4140 | validation: 0.4147\r",
      "(649 / 10000) training: 0.4140 | validation: 0.4147\r",
      "(650 / 10000) training: 0.4140 | validation: 0.4147\r",
      "(651 / 10000) training: 0.4140 | validation: 0.4147\r",
      "(652 / 10000) training: 0.4140 | validation: 0.4147\r",
      "(653 / 10000) training: 0.4140 | validation: 0.4147\r",
      "(654 / 10000) training: 0.4140 | validation: 0.4147\r",
      "(655 / 10000) training: 0.4140 | validation: 0.4147\r",
      "(656 / 10000) training: 0.4140 | validation: 0.4147\r",
      "(657 / 10000) training: 0.4140 | validation: 0.4147\r",
      "(658 / 10000) training: 0.4140 | validation: 0.4147\r",
      "(659 / 10000) training: 0.4140 | validation: 0.4147\r",
      "(660 / 10000) training: 0.4140 | validation: 0.4147\r",
      "(661 / 10000) training: 0.4140 | validation: 0.4147\r",
      "(662 / 10000) training: 0.4140 | validation: 0.4147\r",
      "(663 / 10000) training: 0.4140 | validation: 0.4147\r",
      "(664 / 10000) training: 0.4140 | validation: 0.4147\r",
      "(665 / 10000) training: 0.4140 | validation: 0.4147\r",
      "(666 / 10000) training: 0.4140 | validation: 0.4147\r",
      "(667 / 10000) training: 0.4140 | validation: 0.4147\r",
      "(668 / 10000) training: 0.4140 | validation: 0.4147\r",
      "(669 / 10000) training: 0.4140 | validation: 0.4147\r",
      "(670 / 10000) training: 0.4140 | validation: 0.4147\r",
      "(671 / 10000) training: 0.4140 | validation: 0.4147\r",
      "(672 / 10000) training: 0.4140 | validation: 0.4147\r",
      "(673 / 10000) training: 0.4140 | validation: 0.4147\r",
      "(674 / 10000) training: 0.4140 | validation: 0.4147\r",
      "(675 / 10000) training: 0.4140 | validation: 0.4147\r",
      "(676 / 10000) training: 0.4140 | validation: 0.4147\r",
      "(677 / 10000) training: 0.4140 | validation: 0.4147\r",
      "(678 / 10000) training: 0.4140 | validation: 0.4147\r",
      "(679 / 10000) training: 0.4140 | validation: 0.4147\r",
      "(680 / 10000) training: 0.4140 | validation: 0.4147\r",
      "(681 / 10000) training: 0.4140 | validation: 0.4147\r",
      "(682 / 10000) training: 0.4140 | validation: 0.4147\r",
      "(683 / 10000) training: 0.4140 | validation: 0.4147\r",
      "(684 / 10000) training: 0.4140 | validation: 0.4147\r",
      "(685 / 10000) training: 0.4140 | validation: 0.4147\r",
      "(686 / 10000) training: 0.4140 | validation: 0.4147\r",
      "(687 / 10000) training: 0.4140 | validation: 0.4147\r",
      "(688 / 10000) training: 0.4140 | validation: 0.4147\r",
      "(689 / 10000) training: 0.4140 | validation: 0.4147\r",
      "(690 / 10000) training: 0.4140 | validation: 0.4147\r",
      "(691 / 10000) training: 0.4140 | validation: 0.4147\r",
      "(692 / 10000) training: 0.4140 | validation: 0.4147\r",
      "(693 / 10000) training: 0.4140 | validation: 0.4147\r",
      "(694 / 10000) training: 0.4140 | validation: 0.4147\r",
      "(695 / 10000) training: 0.4140 | validation: 0.4147\r",
      "(696 / 10000) training: 0.4140 | validation: 0.4147\r",
      "(697 / 10000) training: 0.4140 | validation: 0.4147\r",
      "(698 / 10000) training: 0.4140 | validation: 0.4147\r",
      "(699 / 10000) training: 0.4140 | validation: 0.4147\r",
      "(700 / 10000) training: 0.4140 | validation: 0.4147\r",
      "(701 / 10000) training: 0.4140 | validation: 0.4147\r",
      "(702 / 10000) training: 0.4140 | validation: 0.4147\r",
      "(703 / 10000) training: 0.4140 | validation: 0.4147\r",
      "(704 / 10000) training: 0.4140 | validation: 0.4147\r",
      "(705 / 10000) training: 0.4140 | validation: 0.4147\r",
      "(706 / 10000) training: 0.4140 | validation: 0.4147\r",
      "(707 / 10000) training: 0.4140 | validation: 0.4147\r",
      "(708 / 10000) training: 0.4140 | validation: 0.4147\r",
      "(709 / 10000) training: 0.4140 | validation: 0.4147\r",
      "(710 / 10000) training: 0.4140 | validation: 0.4147\r",
      "(711 / 10000) training: 0.4140 | validation: 0.4147\r",
      "(712 / 10000) training: 0.4140 | validation: 0.4147\r",
      "(713 / 10000) training: 0.4140 | validation: 0.4147\r",
      "(714 / 10000) training: 0.4140 | validation: 0.4147\r",
      "(715 / 10000) training: 0.4140 | validation: 0.4147\r",
      "(716 / 10000) training: 0.4140 | validation: 0.4147\r",
      "(717 / 10000) training: 0.4140 | validation: 0.4147\r",
      "(718 / 10000) training: 0.4140 | validation: 0.4147\r",
      "(719 / 10000) training: 0.4140 | validation: 0.4147\r",
      "(720 / 10000) training: 0.4140 | validation: 0.4147\r",
      "(721 / 10000) training: 0.4140 | validation: 0.4147\r",
      "(722 / 10000) training: 0.4140 | validation: 0.4147\r",
      "(723 / 10000) training: 0.4140 | validation: 0.4147\r",
      "(724 / 10000) training: 0.4140 | validation: 0.4147\r",
      "(725 / 10000) training: 0.4140 | validation: 0.4147\r",
      "(726 / 10000) training: 0.4140 | validation: 0.4147\r",
      "(727 / 10000) training: 0.4140 | validation: 0.4147\r",
      "(728 / 10000) training: 0.4140 | validation: 0.4147\r",
      "(729 / 10000) training: 0.4140 | validation: 0.4147\r",
      "(730 / 10000) training: 0.4140 | validation: 0.4147\r",
      "(731 / 10000) training: 0.4140 | validation: 0.4147\r",
      "(732 / 10000) training: 0.4140 | validation: 0.4147\r",
      "(733 / 10000) training: 0.4140 | validation: 0.4147\r",
      "(734 / 10000) training: 0.4140 | validation: 0.4147\r",
      "(735 / 10000) training: 0.4140 | validation: 0.4147\r",
      "(736 / 10000) training: 0.4140 | validation: 0.4147\r",
      "(737 / 10000) training: 0.4140 | validation: 0.4147\r",
      "(738 / 10000) training: 0.4140 | validation: 0.4147\r",
      "(739 / 10000) training: 0.4140 | validation: 0.4147\r",
      "(740 / 10000) training: 0.4140 | validation: 0.4147\r",
      "(741 / 10000) training: 0.4140 | validation: 0.4147\r",
      "(742 / 10000) training: 0.4140 | validation: 0.4147\r",
      "(743 / 10000) training: 0.4140 | validation: 0.4147\r",
      "(744 / 10000) training: 0.4140 | validation: 0.4147\r",
      "(745 / 10000) training: 0.4140 | validation: 0.4147\r",
      "(746 / 10000) training: 0.4140 | validation: 0.4147\r",
      "(747 / 10000) training: 0.4140 | validation: 0.4147\r",
      "(748 / 10000) training: 0.4140 | validation: 0.4147\r",
      "(749 / 10000) training: 0.4140 | validation: 0.4147\r",
      "(750 / 10000) training: 0.4140 | validation: 0.4147\r",
      "(751 / 10000) training: 0.4140 | validation: 0.4147\r",
      "(752 / 10000) training: 0.4140 | validation: 0.4147\r",
      "(753 / 10000) training: 0.4140 | validation: 0.4147\r",
      "(754 / 10000) training: 0.4140 | validation: 0.4147\r",
      "(755 / 10000) training: 0.4140 | validation: 0.4147\r",
      "(756 / 10000) training: 0.4140 | validation: 0.4147\r",
      "(757 / 10000) training: 0.4140 | validation: 0.4147\r",
      "(758 / 10000) training: 0.4140 | validation: 0.4147\r",
      "(759 / 10000) training: 0.4140 | validation: 0.4147\r",
      "(760 / 10000) training: 0.4140 | validation: 0.4147\r",
      "(761 / 10000) training: 0.4140 | validation: 0.4147\r",
      "(762 / 10000) training: 0.4140 | validation: 0.4147\r",
      "(763 / 10000) training: 0.4140 | validation: 0.4147\r",
      "(764 / 10000) training: 0.4140 | validation: 0.4147\r",
      "(765 / 10000) training: 0.4140 | validation: 0.4147\r",
      "(766 / 10000) training: 0.4140 | validation: 0.4147\r"
     ]
    },
    {
     "name": "stdout",
     "output_type": "stream",
     "text": [
      "(767 / 10000) training: 0.4140 | validation: 0.4147\r",
      "(768 / 10000) training: 0.4140 | validation: 0.4147\r",
      "(769 / 10000) training: 0.4140 | validation: 0.4147\r",
      "(770 / 10000) training: 0.4140 | validation: 0.4147\r",
      "(771 / 10000) training: 0.4140 | validation: 0.4147\r",
      "(772 / 10000) training: 0.4140 | validation: 0.4147\r",
      "(773 / 10000) training: 0.4140 | validation: 0.4147\r",
      "(774 / 10000) training: 0.4140 | validation: 0.4147\r",
      "(775 / 10000) training: 0.4140 | validation: 0.4147\r",
      "(776 / 10000) training: 0.4140 | validation: 0.4147\r",
      "(777 / 10000) training: 0.4140 | validation: 0.4147\r",
      "(778 / 10000) training: 0.4140 | validation: 0.4147\r",
      "(779 / 10000) training: 0.4140 | validation: 0.4147\r",
      "(780 / 10000) training: 0.4140 | validation: 0.4147\r",
      "(781 / 10000) training: 0.4140 | validation: 0.4147\r",
      "(782 / 10000) training: 0.4140 | validation: 0.4147\r",
      "(783 / 10000) training: 0.4140 | validation: 0.4147\r",
      "(784 / 10000) training: 0.4140 | validation: 0.4147\r",
      "(785 / 10000) training: 0.4140 | validation: 0.4147\r",
      "(786 / 10000) training: 0.4140 | validation: 0.4147\r",
      "(787 / 10000) training: 0.4140 | validation: 0.4147\r",
      "(788 / 10000) training: 0.4140 | validation: 0.4147\r",
      "(789 / 10000) training: 0.4140 | validation: 0.4147\r",
      "(790 / 10000) training: 0.4140 | validation: 0.4147\r",
      "(791 / 10000) training: 0.4140 | validation: 0.4147\r",
      "(792 / 10000) training: 0.4140 | validation: 0.4147\r",
      "(793 / 10000) training: 0.4140 | validation: 0.4147\r",
      "(794 / 10000) training: 0.4140 | validation: 0.4147\r",
      "(795 / 10000) training: 0.4140 | validation: 0.4147\r",
      "(796 / 10000) training: 0.4140 | validation: 0.4147\r",
      "(797 / 10000) training: 0.4140 | validation: 0.4147\r",
      "(798 / 10000) training: 0.4140 | validation: 0.4147\r",
      "(799 / 10000) training: 0.4140 | validation: 0.4147\r",
      "(800 / 10000) training: 0.4140 | validation: 0.4147\r",
      "(801 / 10000) training: 0.4140 | validation: 0.4147\r",
      "(802 / 10000) training: 0.4140 | validation: 0.4147\r",
      "(803 / 10000) training: 0.4140 | validation: 0.4147\r",
      "(804 / 10000) training: 0.4140 | validation: 0.4147\r",
      "(805 / 10000) training: 0.4140 | validation: 0.4147\r",
      "(806 / 10000) training: 0.4140 | validation: 0.4147\r",
      "(807 / 10000) training: 0.4140 | validation: 0.4147\r",
      "(808 / 10000) training: 0.4140 | validation: 0.4147\r",
      "(809 / 10000) training: 0.4140 | validation: 0.4147\r",
      "(810 / 10000) training: 0.4140 | validation: 0.4147\r",
      "(811 / 10000) training: 0.4140 | validation: 0.4147\r",
      "(812 / 10000) training: 0.4140 | validation: 0.4147\r",
      "(813 / 10000) training: 0.4140 | validation: 0.4147\r",
      "(814 / 10000) training: 0.4140 | validation: 0.4147\r",
      "(815 / 10000) training: 0.4140 | validation: 0.4147\r",
      "(816 / 10000) training: 0.4140 | validation: 0.4147\r",
      "(817 / 10000) training: 0.4140 | validation: 0.4147\r",
      "(818 / 10000) training: 0.4140 | validation: 0.4147\r",
      "(819 / 10000) training: 0.4140 | validation: 0.4147\r",
      "(820 / 10000) training: 0.4140 | validation: 0.4147\r",
      "(821 / 10000) training: 0.4140 | validation: 0.4147\r",
      "(822 / 10000) training: 0.4140 | validation: 0.4147\r",
      "(823 / 10000) training: 0.4140 | validation: 0.4147\r",
      "(824 / 10000) training: 0.4140 | validation: 0.4147\r",
      "(825 / 10000) training: 0.4140 | validation: 0.4147\r",
      "(826 / 10000) training: 0.4140 | validation: 0.4147\r",
      "(827 / 10000) training: 0.4140 | validation: 0.4147\r",
      "(828 / 10000) training: 0.4140 | validation: 0.4147\r",
      "(829 / 10000) training: 0.4140 | validation: 0.4147\r",
      "(830 / 10000) training: 0.4140 | validation: 0.4147\r",
      "(831 / 10000) training: 0.4140 | validation: 0.4147\r",
      "(832 / 10000) training: 0.4140 | validation: 0.4147\r",
      "(833 / 10000) training: 0.4140 | validation: 0.4147\r",
      "(834 / 10000) training: 0.4140 | validation: 0.4147\r",
      "(835 / 10000) training: 0.4140 | validation: 0.4147\r",
      "(836 / 10000) training: 0.4140 | validation: 0.4147\r",
      "(837 / 10000) training: 0.4140 | validation: 0.4147\r",
      "(838 / 10000) training: 0.4140 | validation: 0.4147\r",
      "(839 / 10000) training: 0.4140 | validation: 0.4147\r",
      "(840 / 10000) training: 0.4140 | validation: 0.4147\r",
      "(841 / 10000) training: 0.4140 | validation: 0.4147\r",
      "(842 / 10000) training: 0.4140 | validation: 0.4147\r",
      "(843 / 10000) training: 0.4140 | validation: 0.4147\r",
      "(844 / 10000) training: 0.4140 | validation: 0.4147\r",
      "(845 / 10000) training: 0.4140 | validation: 0.4147\r",
      "(846 / 10000) training: 0.4140 | validation: 0.4147\r",
      "(847 / 10000) training: 0.4140 | validation: 0.4147\r",
      "(848 / 10000) training: 0.4140 | validation: 0.4147\r",
      "(849 / 10000) training: 0.4140 | validation: 0.4147\r",
      "(850 / 10000) training: 0.4140 | validation: 0.4147\r",
      "(851 / 10000) training: 0.4140 | validation: 0.4147\r",
      "(852 / 10000) training: 0.4140 | validation: 0.4147\r",
      "(853 / 10000) training: 0.4140 | validation: 0.4147\r",
      "(854 / 10000) training: 0.4140 | validation: 0.4147\r",
      "(855 / 10000) training: 0.4140 | validation: 0.4147\r",
      "(856 / 10000) training: 0.4140 | validation: 0.4147\r",
      "(857 / 10000) training: 0.4140 | validation: 0.4147\r",
      "(858 / 10000) training: 0.4140 | validation: 0.4147\r",
      "(859 / 10000) training: 0.4140 | validation: 0.4147\r",
      "(860 / 10000) training: 0.4140 | validation: 0.4147\r",
      "(861 / 10000) training: 0.4140 | validation: 0.4147\r",
      "(862 / 10000) training: 0.4140 | validation: 0.4147\r",
      "(863 / 10000) training: 0.4140 | validation: 0.4147\r",
      "(864 / 10000) training: 0.4140 | validation: 0.4147\r",
      "(865 / 10000) training: 0.4140 | validation: 0.4147\r",
      "(866 / 10000) training: 0.4140 | validation: 0.4147\r",
      "(867 / 10000) training: 0.4140 | validation: 0.4147\r",
      "(868 / 10000) training: 0.4140 | validation: 0.4147\r",
      "(869 / 10000) training: 0.4140 | validation: 0.4147\r",
      "(870 / 10000) training: 0.4140 | validation: 0.4147\r",
      "(871 / 10000) training: 0.4140 | validation: 0.4147\r",
      "(872 / 10000) training: 0.4140 | validation: 0.4147\r",
      "(873 / 10000) training: 0.4140 | validation: 0.4147\r",
      "(874 / 10000) training: 0.4140 | validation: 0.4147\r",
      "(875 / 10000) training: 0.4140 | validation: 0.4147\r",
      "(876 / 10000) training: 0.4140 | validation: 0.4147\r",
      "(877 / 10000) training: 0.4140 | validation: 0.4147\r",
      "(878 / 10000) training: 0.4140 | validation: 0.4147\r",
      "(879 / 10000) training: 0.4140 | validation: 0.4147\r",
      "(880 / 10000) training: 0.4140 | validation: 0.4147\r",
      "(881 / 10000) training: 0.4140 | validation: 0.4147\r",
      "(882 / 10000) training: 0.4140 | validation: 0.4147\r",
      "(883 / 10000) training: 0.4140 | validation: 0.4147\r",
      "(884 / 10000) training: 0.4140 | validation: 0.4147\r",
      "(885 / 10000) training: 0.4140 | validation: 0.4147\r",
      "(886 / 10000) training: 0.4140 | validation: 0.4147\r",
      "(887 / 10000) training: 0.4140 | validation: 0.4147\r",
      "(888 / 10000) training: 0.4140 | validation: 0.4147\r",
      "(889 / 10000) training: 0.4140 | validation: 0.4147\r",
      "(890 / 10000) training: 0.4140 | validation: 0.4147\r",
      "(891 / 10000) training: 0.4140 | validation: 0.4147\r",
      "(892 / 10000) training: 0.4140 | validation: 0.4147\r",
      "(893 / 10000) training: 0.4140 | validation: 0.4147\r",
      "(894 / 10000) training: 0.4140 | validation: 0.4147\r",
      "(895 / 10000) training: 0.4140 | validation: 0.4147\r",
      "(896 / 10000) training: 0.4140 | validation: 0.4147\r",
      "(897 / 10000) training: 0.4140 | validation: 0.4147\r",
      "(898 / 10000) training: 0.4140 | validation: 0.4147\r",
      "(899 / 10000) training: 0.4140 | validation: 0.4147\r",
      "(900 / 10000) training: 0.4140 | validation: 0.4147\r",
      "(901 / 10000) training: 0.4140 | validation: 0.4147\r",
      "(902 / 10000) training: 0.4140 | validation: 0.4147\r",
      "(903 / 10000) training: 0.4140 | validation: 0.4147\r",
      "(904 / 10000) training: 0.4140 | validation: 0.4147\r",
      "(905 / 10000) training: 0.4140 | validation: 0.4147\r",
      "(906 / 10000) training: 0.4140 | validation: 0.4147\r",
      "(907 / 10000) training: 0.4140 | validation: 0.4147\r",
      "(908 / 10000) training: 0.4140 | validation: 0.4147\r",
      "(909 / 10000) training: 0.4140 | validation: 0.4147\r",
      "(910 / 10000) training: 0.4140 | validation: 0.4147\r",
      "(911 / 10000) training: 0.4140 | validation: 0.4147\r",
      "(912 / 10000) training: 0.4140 | validation: 0.4147\r",
      "(913 / 10000) training: 0.4140 | validation: 0.4147\r",
      "(914 / 10000) training: 0.4140 | validation: 0.4147\r",
      "(915 / 10000) training: 0.4140 | validation: 0.4147\r",
      "(916 / 10000) training: 0.4140 | validation: 0.4147\r",
      "(917 / 10000) training: 0.4140 | validation: 0.4147\r",
      "(918 / 10000) training: 0.4140 | validation: 0.4147\r",
      "(919 / 10000) training: 0.4140 | validation: 0.4147\r",
      "(920 / 10000) training: 0.4140 | validation: 0.4147\r",
      "(921 / 10000) training: 0.4140 | validation: 0.4147\r",
      "(922 / 10000) training: 0.4140 | validation: 0.4147\r",
      "(923 / 10000) training: 0.4140 | validation: 0.4147\r",
      "(924 / 10000) training: 0.4140 | validation: 0.4147\r",
      "(925 / 10000) training: 0.4140 | validation: 0.4147\r",
      "(926 / 10000) training: 0.4140 | validation: 0.4147\r",
      "(927 / 10000) training: 0.4140 | validation: 0.4147\r",
      "(928 / 10000) training: 0.4140 | validation: 0.4147\r",
      "(929 / 10000) training: 0.4140 | validation: 0.4147\r",
      "(930 / 10000) training: 0.4140 | validation: 0.4147\r",
      "(931 / 10000) training: 0.4140 | validation: 0.4147\r",
      "(932 / 10000) training: 0.4140 | validation: 0.4147\r",
      "(933 / 10000) training: 0.4140 | validation: 0.4147\r",
      "(934 / 10000) training: 0.4140 | validation: 0.4147\r",
      "(935 / 10000) training: 0.4140 | validation: 0.4147\r",
      "(936 / 10000) training: 0.4140 | validation: 0.4147\r",
      "(937 / 10000) training: 0.4140 | validation: 0.4147\r",
      "(938 / 10000) training: 0.4140 | validation: 0.4147\r",
      "(939 / 10000) training: 0.4140 | validation: 0.4147\r",
      "(940 / 10000) training: 0.4140 | validation: 0.4147\r",
      "(941 / 10000) training: 0.4140 | validation: 0.4147\r",
      "(942 / 10000) training: 0.4140 | validation: 0.4147\r",
      "(943 / 10000) training: 0.4140 | validation: 0.4147\r",
      "(944 / 10000) training: 0.4140 | validation: 0.4147\r",
      "(945 / 10000) training: 0.4140 | validation: 0.4147"
     ]
    },
    {
     "name": "stdout",
     "output_type": "stream",
     "text": [
      "(10000 / 10000) training: 0.4140 | validation: 0.4148\n",
      "\n",
      "Best validation loss: 0.414724 (at epoch 131)\n"
     ]
    },
    {
     "data": {
      "image/png": "[encoded data removed]",
      "text/plain": [
       "<Figure size 432x288 with 1 Axes>"
      ]
     },
     "metadata": {},
     "output_type": "display_data"
    }
   ],
   "source": [
    "GD_run = run_GD(learning_rate=1, n_epochs=10000, GD_flavor=\"vanilla\")\n",
    "plot_GD_run(*GD_run)"
   ]
  },
  {
   "cell_type": "markdown",
   "metadata": {},
   "source": [
    "#### Mini Batch Gradient Descent"
   ]
  },
  {
   "cell_type": "code",
   "execution_count": 80,
   "metadata": {},
   "outputs": [
    {
     "name": "stdout",
     "output_type": "stream",
     "text": [
      "(1000 / 1000) training: 0.4307 | validation: 0.434065830\n",
      "\n",
      "Best validation loss: 0.419298 (at epoch 488)\n"
     ]
    },
    {
     "data": {
      "image/png": "[encoded data removed]",
      "text/plain": [
       "<Figure size 432x288 with 1 Axes>"
      ]
     },
     "metadata": {},
     "output_type": "display_data"
    }
   ],
   "source": [
    "# Too high of a learning rate\n",
    "GD_run = run_GD(learning_rate=0.5, n_epochs=1000, GD_flavor=\"mini batch\", batch_size=37)\n",
    "plot_GD_run(*GD_run)"
   ]
  },
  {
   "cell_type": "code",
   "execution_count": 81,
   "metadata": {},
   "outputs": [
    {
     "name": "stdout",
     "output_type": "stream",
     "text": [
      "(1000 / 1000) training: 0.4165 | validation: 0.4175\n",
      "\n",
      "Best validation loss: 0.414895 (at epoch 151)\n"
     ]
    },
    {
     "data": {
      "image/png": "[encoded data removed]",
      "text/plain": [
       "<Figure size 432x288 with 1 Axes>"
      ]
     },
     "metadata": {},
     "output_type": "display_data"
    }
   ],
   "source": [
    "# Unstable learning rate\n",
    "GD_run = run_GD(learning_rate=0.1, n_epochs=1000, GD_flavor=\"mini batch\", batch_size=37)\n",
    "plot_GD_run(*GD_run)"
   ]
  },
  {
   "cell_type": "code",
   "execution_count": 82,
   "metadata": {
    "scrolled": false
   },
   "outputs": [
    {
     "name": "stdout",
     "output_type": "stream",
     "text": [
      "(1000 / 1000) training: 0.4157 | validation: 0.4165\n",
      "\n",
      "Best validation loss: 0.414541 (at epoch 418)\n"
     ]
    },
    {
     "data": {
      "image/png": "[encoded data removed]",
      "text/plain": [
       "<Figure size 432x288 with 1 Axes>"
      ]
     },
     "metadata": {},
     "output_type": "display_data"
    }
   ],
   "source": [
    "# Usable learning rate\n",
    "GD_run = run_GD(learning_rate=0.05, n_epochs=1000, GD_flavor=\"mini batch\", batch_size=37)\n",
    "plot_GD_run(*GD_run)"
   ]
  },
  {
   "cell_type": "markdown",
   "metadata": {},
   "source": [
    "#### Stochastic Gradient Descent"
   ]
  },
  {
   "cell_type": "code",
   "execution_count": 83,
   "metadata": {},
   "outputs": [
    {
     "name": "stdout",
     "output_type": "stream",
     "text": [
      "(50 / 50) training: 672683891697939187352938898903221545336886372450669469597863223577870110690820700368985584125349315215360.0000 | validation: 682921217517274336489458954258959970697070326946419445207147563098865699481131323316334549855730715852800.0000\n",
      "\n",
      "Best validation loss: 0.498073 (at epoch 0)\n"
     ]
    },
    {
     "data": {
      "image/png": "[encoded data removed]",
      "text/plain": [
       "<Figure size 432x288 with 1 Axes>"
      ]
     },
     "metadata": {},
     "output_type": "display_data"
    }
   ],
   "source": [
    "# Exploding learning rate\n",
    "GD_run = run_GD(learning_rate=0.05, n_epochs=50, GD_flavor=\"stochastic\")\n",
    "plot_GD_run(*GD_run)"
   ]
  },
  {
   "cell_type": "code",
   "execution_count": 84,
   "metadata": {},
   "outputs": [
    {
     "name": "stdout",
     "output_type": "stream",
     "text": [
      "(100 / 100) training: 0.4301 | validation: 0.4319\n",
      "\n",
      "Best validation loss: 0.416571 (at epoch 37)\n"
     ]
    },
    {
     "data": {
      "image/png": "[encoded data removed]",
      "text/plain": [
       "<Figure size 432x288 with 1 Axes>"
      ]
     },
     "metadata": {},
     "output_type": "display_data"
    }
   ],
   "source": [
    "# Too high of a learning rate\n",
    "GD_run = run_GD(learning_rate=0.01, n_epochs=100, GD_flavor=\"stochastic\")\n",
    "plot_GD_run(*GD_run)"
   ]
  },
  {
   "cell_type": "code",
   "execution_count": 85,
   "metadata": {},
   "outputs": [
    {
     "name": "stdout",
     "output_type": "stream",
     "text": [
      "(100 / 100) training: 0.4210 | validation: 0.4224\n",
      "\n",
      "Best validation loss: 0.415319 (at epoch 51)\n"
     ]
    },
    {
     "data": {
      "image/png": "[encoded data removed]",
      "text/plain": [
       "<Figure size 432x288 with 1 Axes>"
      ]
     },
     "metadata": {},
     "output_type": "display_data"
    }
   ],
   "source": [
    "# Unstable learning rate\n",
    "GD_run = run_GD(learning_rate=0.005, n_epochs=100, GD_flavor=\"stochastic\")\n",
    "plot_GD_run(*GD_run)"
   ]
  },
  {
   "cell_type": "code",
   "execution_count": 86,
   "metadata": {
    "scrolled": false
   },
   "outputs": [
    {
     "name": "stdout",
     "output_type": "stream",
     "text": [
      "(100 / 100) training: 0.4150 | validation: 0.4159\n",
      "\n",
      "Best validation loss: 0.414671 (at epoch 60)\n"
     ]
    },
    {
     "data": {
      "image/png": "[encoded data removed]",
      "text/plain": [
       "<Figure size 432x288 with 1 Axes>"
      ]
     },
     "metadata": {},
     "output_type": "display_data"
    }
   ],
   "source": [
    "# Usable learning rate\n",
    "GD_run = run_GD(learning_rate=0.001, n_epochs=100, GD_flavor=\"stochastic\")\n",
    "plot_GD_run(*GD_run)"
   ]
  },
  {
   "cell_type": "markdown",
   "metadata": {},
   "source": [
    "## 7. Normal equation: $\\theta = (\\mathbb{X}^T \\mathbb{X})^{-1} \\mathbb{X}^T y$"
   ]
  },
  {
   "cell_type": "code",
   "execution_count": 87,
   "metadata": {},
   "outputs": [],
   "source": [
    "''' Returns a (n+1) x 1 array with the parameter values theta_j that minimize J(theta). '''\n",
    "def normal_equation(X, y):\n",
    "    # minimizes the sum of the square differences\n",
    "    return np.linalg.pinv(X).dot(y) # np.linalg.inv(X.T.dot(X)).dot(X.T.dot(y))"
   ]
  },
  {
   "cell_type": "code",
   "execution_count": 94,
   "metadata": {},
   "outputs": [
    {
     "name": "stdout",
     "output_type": "stream",
     "text": [
      "Best possible parameter values for the training set:\n"
     ]
    },
    {
     "data": {
      "text/plain": [
       "array([[-0.01931316],\n",
       "       [-0.53658951],\n",
       "       [ 0.11239984],\n",
       "       [-0.01998614],\n",
       "       [ 0.04998741],\n",
       "       [ 0.32666247],\n",
       "       [-0.1551057 ],\n",
       "       [-0.02194591],\n",
       "       [ 0.13707667],\n",
       "       [-0.04812589],\n",
       "       [-0.02890683],\n",
       "       [-0.00929869],\n",
       "       [-0.00515942],\n",
       "       [ 0.18190862],\n",
       "       [-0.18576837],\n",
       "       [-0.08411546],\n",
       "       [-0.14189793],\n",
       "       [-0.80647262]])"
      ]
     },
     "execution_count": 94,
     "metadata": {},
     "output_type": "execute_result"
    }
   ],
   "source": [
    "best_theta = normal_equation(*train_X_y)\n",
    "print(\"Best possible parameter values for the training set:\")\n",
    "best_theta"
   ]
  },
  {
   "cell_type": "code",
   "execution_count": 95,
   "metadata": {},
   "outputs": [
    {
     "name": "stdout",
     "output_type": "stream",
     "text": [
      "Best possible loss for the trainning set:\n"
     ]
    },
    {
     "data": {
      "text/plain": [
       "0.4139966784141497"
      ]
     },
     "execution_count": 95,
     "metadata": {},
     "output_type": "execute_result"
    }
   ],
   "source": [
    "print(\"Best possible loss for the trainning set:\")\n",
    "loss_function(best_theta, *train_X_y)"
   ]
  },
  {
   "cell_type": "code",
   "execution_count": 96,
   "metadata": {},
   "outputs": [
    {
     "name": "stdout",
     "output_type": "stream",
     "text": [
      "Loss for the validation set:\n"
     ]
    },
    {
     "data": {
      "text/plain": [
       "0.4147002743922214"
      ]
     },
     "execution_count": 96,
     "metadata": {},
     "output_type": "execute_result"
    }
   ],
   "source": [
    "print(\"Loss for the validation set:\")\n",
    "loss_function(best_theta, *validation_X_y)"
   ]
  },
  {
   "cell_type": "markdown",
   "metadata": {},
   "source": [
    "## 8. scikit-learn's SGDRegressor"
   ]
  },
  {
   "cell_type": "code",
   "execution_count": 97,
   "metadata": {},
   "outputs": [],
   "source": [
    "from sklearn import linear_model\n",
    "\n",
    "# ref.: https://scikit-learn.org/stable/modules/generated/sklearn.linear_model.SGDRegressor.html"
   ]
  },
  {
   "cell_type": "code",
   "execution_count": 98,
   "metadata": {},
   "outputs": [],
   "source": [
    "X, y = train_X_y\n",
    "y = y.reshape(-1) # (n_samples, 1) -> (n_samples, )\n",
    "\n",
    "val_X, val_y = validation_X_y\n",
    "val_y = val_y.reshape(-1) # (n_samples, 1) -> (n_samples, )"
   ]
  },
  {
   "cell_type": "code",
   "execution_count": 99,
   "metadata": {},
   "outputs": [],
   "source": [
    "# we set the parameters to mimic our implementation as best as we can\n",
    "classifier = linear_model.SGDRegressor(\n",
    "    loss=\"squared_loss\", \n",
    "    penalty=\"none\",           # regularization term\n",
    "    max_iter=1000, \n",
    "    tol=None,                 # stopping criterion (if not None, stops when loss > best_loss - tol for n_iter_no_change epochs)\n",
    "    learning_rate=\"constant\", # uses eta0\n",
    "    eta0=0.0005, \n",
    "    early_stopping=False)"
   ]
  },
  {
   "cell_type": "code",
   "execution_count": 100,
   "metadata": {},
   "outputs": [
    {
     "data": {
      "text/plain": [
       "SGDRegressor(alpha=0.0001, average=False, early_stopping=False, epsilon=0.1,\n",
       "             eta0=0.0005, fit_intercept=True, l1_ratio=0.15,\n",
       "             learning_rate='constant', loss='squared_loss', max_iter=1000,\n",
       "             n_iter_no_change=5, penalty='none', power_t=0.25,\n",
       "             random_state=None, shuffle=True, tol=None, validation_fraction=0.1,\n",
       "             verbose=0, warm_start=False)"
      ]
     },
     "execution_count": 100,
     "metadata": {},
     "output_type": "execute_result"
    }
   ],
   "source": [
    "classifier.fit(X, y) # fits the linear model with the training set"
   ]
  },
  {
   "cell_type": "code",
   "execution_count": 101,
   "metadata": {},
   "outputs": [
    {
     "data": {
      "text/plain": [
       "array([-0.01057432, -0.53794376,  0.10337618, -0.0227853 ,  0.04471506,\n",
       "        0.33189117, -0.14728801, -0.0336717 ,  0.13150944, -0.04591049,\n",
       "       -0.02788607, -0.00898736, -0.00116379,  0.18140511, -0.18831235,\n",
       "       -0.08345657, -0.14165633, -0.31679279])"
      ]
     },
     "execution_count": 101,
     "metadata": {},
     "output_type": "execute_result"
    }
   ],
   "source": [
    "classifier.coef_ # weights assigned to the features"
   ]
  },
  {
   "cell_type": "code",
   "execution_count": 102,
   "metadata": {},
   "outputs": [
    {
     "data": {
      "text/plain": [
       "array([ 0.64787173, -0.43090006, -0.40588677, ...,  0.0910654 ,\n",
       "        0.3469084 , -0.31206441])"
      ]
     },
     "execution_count": 102,
     "metadata": {},
     "output_type": "execute_result"
    }
   ],
   "source": [
    "predicted_val_y = classifier.predict(val_X)\n",
    "predicted_val_y"
   ]
  },
  {
   "cell_type": "code",
   "execution_count": 103,
   "metadata": {},
   "outputs": [],
   "source": [
    "n_examples = val_X.shape[0]\n",
    "\n",
    "# same as J(theta), but using the already predicted y, instead of h(theta)\n",
    "sklearn_val_loss = 0.5 * (1 / n_examples) * np.sum((predicted_val_y - val_y)**2)"
   ]
  },
  {
   "cell_type": "code",
   "execution_count": 104,
   "metadata": {},
   "outputs": [
    {
     "name": "stdout",
     "output_type": "stream",
     "text": [
      "sklearn's SGDRegressor loss for the validation set:\n"
     ]
    },
    {
     "data": {
      "text/plain": [
       "0.4151559197459247"
      ]
     },
     "execution_count": 104,
     "metadata": {},
     "output_type": "execute_result"
    }
   ],
   "source": [
    "print(\"sklearn's SGDRegressor loss for the validation set:\")\n",
    "sklearn_val_loss"
   ]
  },
  {
   "cell_type": "markdown",
   "metadata": {},
   "source": [
    "## 9. Make the model more complex"
   ]
  },
  {
   "cell_type": "markdown",
   "metadata": {},
   "source": [
    "### 9.1. Map time related features to sine and cosine values\n",
    "\n",
    "This way we can encode their cyclical nature: \n",
    "\n",
    "$x_{sin} = sin(\\dfrac{2 \\pi x}{max(x)})$\n",
    "\n",
    "$x_{cos} = cos(\\dfrac{2 \\pi x}{max(x)})$"
   ]
  },
  {
   "cell_type": "code",
   "execution_count": 114,
   "metadata": {},
   "outputs": [],
   "source": [
    "# NOTE: we must pass 'train_stats' since that's what we used for all sets\n",
    "def unnormalize_time_features(df, stats=train_stats):\n",
    "    unnormalized_df = df.copy()\n",
    "    for col in [\"hour\", \"weekday\", \"weekofyear\"]:\n",
    "        mean = stats[col][\"mean\"]\n",
    "        std = stats[col][\"std\"]\n",
    "        unnormalized_df[col] = unnormalized_df[col].apply(lambda x: (x * std) + mean)\n",
    "    return unnormalized_df"
   ]
  },
  {
   "cell_type": "code",
   "execution_count": 115,
   "metadata": {},
   "outputs": [],
   "source": [
    "def mapped_sine_cosine(df, stats=train_stats):\n",
    "    mapped_df = df.copy()\n",
    "    for col in [\"hour\", \"weekday\", \"weekofyear\"]:\n",
    "        max_x = stats[col][\"max\"]\n",
    "        mapped_df.insert(0, f\"{col}_sin\", mapped_df[col].apply(lambda x: np.sin(2 * np.pi * x / max_x)))\n",
    "        mapped_df.insert(0, f\"{col}_cos\", mapped_df[col].apply(lambda x: np.cos(2 * np.pi * x / max_x)))\n",
    "    mapped_df.drop(columns=[\"hour\", \"weekday\", \"weekofyear\"])\n",
    "    return mapped_df"
   ]
  },
  {
   "cell_type": "code",
   "execution_count": 116,
   "metadata": {},
   "outputs": [],
   "source": [
    "mapped_time_features = [\"weekofyear_cos\", \"weekofyear_sin\", \"weekday_cos\", \"weekday_sin\", \"hour_cos\", \"hour_sin\"]"
   ]
  },
  {
   "cell_type": "code",
   "execution_count": 120,
   "metadata": {},
   "outputs": [],
   "source": [
    "train_data_v2 = mapped_sine_cosine(unnormalize_time_features(train_data))\n",
    "validation_data_v2 = mapped_sine_cosine(unnormalize_time_features(validation_data))\n",
    "\n",
    "test_data_v2 = mapped_sine_cosine(unnormalize_time_features(test_data))"
   ]
  },
  {
   "cell_type": "markdown",
   "metadata": {},
   "source": [
    "### 9.2. Run the new model"
   ]
  },
  {
   "cell_type": "code",
   "execution_count": null,
   "metadata": {},
   "outputs": [],
   "source": []
  }
 ],
 "metadata": {
  "kernelspec": {
   "display_name": "Python 3",
   "language": "python",
   "name": "python3"
  },
  "language_info": {
   "codemirror_mode": {
    "name": "ipython",
    "version": 3
   },
   "file_extension": ".py",
   "mimetype": "text/x-python",
   "name": "python",
   "nbconvert_exporter": "python",
   "pygments_lexer": "ipython3",
   "version": "3.7.4"
  }
 },
 "nbformat": 4,
 "nbformat_minor": 2
}
