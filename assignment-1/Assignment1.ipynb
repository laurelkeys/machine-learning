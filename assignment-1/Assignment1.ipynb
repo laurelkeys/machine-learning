{
 "cells": [
  {
   "cell_type": "markdown",
   "metadata": {},
   "source": [
    "## Importing libs and loading the dataset"
   ]
  },
  {
   "cell_type": "code",
   "execution_count": 197,
   "metadata": {},
   "outputs": [],
   "source": [
    "import numpy as np\n",
    "import pandas as pd\n",
    "import seaborn as sns\n",
    "import matplotlib.pyplot as plt"
   ]
  },
  {
   "cell_type": "code",
   "execution_count": 198,
   "metadata": {},
   "outputs": [],
   "source": [
    "%matplotlib inline\n",
    "sns.set() # apply the seaborn defaults to plotted figures (e.g. theme, scaling, color palette), instead of matplotlib's"
   ]
  },
  {
   "cell_type": "code",
   "execution_count": 199,
   "metadata": {
    "scrolled": true
   },
   "outputs": [
    {
     "data": {
      "text/plain": [
       "(48204, 9)"
      ]
     },
     "execution_count": 199,
     "metadata": {},
     "output_type": "execute_result"
    }
   ],
   "source": [
    "dataset_csv_path = \"Metro_Interstate_Traffic_Volume.csv\" # 8 attributes of 48,204 examples (plus the target column)\n",
    "\n",
    "# loading the dataset with pandas (instead of numpy or csv) since there are different datatypes\n",
    "dataset_csv = pd.read_csv(dataset_csv_path, delimiter=',')\n",
    "dataset_csv.shape"
   ]
  },
  {
   "cell_type": "markdown",
   "metadata": {},
   "source": [
    "## Dataset attributes\n",
    "- 1: **holiday**: US National holidays plus regional holiday, Minnesota State Fair\n",
    "- 2: **temp**: average temp in kelvin\n",
    "- 3: **rain 1h**: amount in mm of rain that occurred in the hour\n",
    "- 4: **snow 1h**: amount in mm of snow that occurred in the hour\n",
    "- 5: **clouds all**: percentage of cloud cover\n",
    "- 6: **weather main**: short textual description of the current weather\n",
    "- 7: **weather description**: longer textual description of the current weather\n",
    "- 8: **date time**: hour of the data collected in local CST time\n",
    "- target: **traffic volume**: traffic volume"
   ]
  },
  {
   "cell_type": "code",
   "execution_count": 200,
   "metadata": {},
   "outputs": [
    {
     "data": {
      "text/plain": [
       "holiday                 object\n",
       "temp                   float64\n",
       "rain_1h                float64\n",
       "snow_1h                float64\n",
       "clouds_all               int64\n",
       "weather_main            object\n",
       "weather_description     object\n",
       "date_time               object\n",
       "traffic_volume           int64\n",
       "dtype: object"
      ]
     },
     "execution_count": 200,
     "metadata": {},
     "output_type": "execute_result"
    }
   ],
   "source": [
    "dataset_csv.dtypes"
   ]
  },
  {
   "cell_type": "markdown",
   "metadata": {},
   "source": [
    "## 0. Visualize the data"
   ]
  },
  {
   "cell_type": "code",
   "execution_count": 201,
   "metadata": {},
   "outputs": [
    {
     "data": {
      "text/html": [
       "<div>\n",
       "<style scoped>\n",
       "    .dataframe tbody tr th:only-of-type {\n",
       "        vertical-align: middle;\n",
       "    }\n",
       "\n",
       "    .dataframe tbody tr th {\n",
       "        vertical-align: top;\n",
       "    }\n",
       "\n",
       "    .dataframe thead th {\n",
       "        text-align: right;\n",
       "    }\n",
       "</style>\n",
       "<table border=\"1\" class=\"dataframe\">\n",
       "  <thead>\n",
       "    <tr style=\"text-align: right;\">\n",
       "      <th></th>\n",
       "      <th>holiday</th>\n",
       "      <th>temp</th>\n",
       "      <th>rain_1h</th>\n",
       "      <th>snow_1h</th>\n",
       "      <th>clouds_all</th>\n",
       "      <th>weather_main</th>\n",
       "      <th>weather_description</th>\n",
       "      <th>date_time</th>\n",
       "      <th>traffic_volume</th>\n",
       "    </tr>\n",
       "  </thead>\n",
       "  <tbody>\n",
       "    <tr>\n",
       "      <th>min</th>\n",
       "      <td>Christmas Day</td>\n",
       "      <td>0.000000</td>\n",
       "      <td>0.000000</td>\n",
       "      <td>0.000000</td>\n",
       "      <td>0.000000</td>\n",
       "      <td>Clear</td>\n",
       "      <td>SQUALLS</td>\n",
       "      <td>2012-10-02 09:00:00</td>\n",
       "      <td>0.000000</td>\n",
       "    </tr>\n",
       "    <tr>\n",
       "      <th>max</th>\n",
       "      <td>Washingtons Birthday</td>\n",
       "      <td>310.070000</td>\n",
       "      <td>9831.300000</td>\n",
       "      <td>0.510000</td>\n",
       "      <td>100.000000</td>\n",
       "      <td>Thunderstorm</td>\n",
       "      <td>very heavy rain</td>\n",
       "      <td>2018-09-30 23:00:00</td>\n",
       "      <td>7280.000000</td>\n",
       "    </tr>\n",
       "    <tr>\n",
       "      <th>median</th>\n",
       "      <td>NaN</td>\n",
       "      <td>282.450000</td>\n",
       "      <td>0.000000</td>\n",
       "      <td>0.000000</td>\n",
       "      <td>64.000000</td>\n",
       "      <td>NaN</td>\n",
       "      <td>NaN</td>\n",
       "      <td>NaN</td>\n",
       "      <td>3380.000000</td>\n",
       "    </tr>\n",
       "    <tr>\n",
       "      <th>mean</th>\n",
       "      <td>NaN</td>\n",
       "      <td>281.205870</td>\n",
       "      <td>0.334264</td>\n",
       "      <td>0.000222</td>\n",
       "      <td>49.362231</td>\n",
       "      <td>NaN</td>\n",
       "      <td>NaN</td>\n",
       "      <td>NaN</td>\n",
       "      <td>3259.818355</td>\n",
       "    </tr>\n",
       "    <tr>\n",
       "      <th>std</th>\n",
       "      <td>NaN</td>\n",
       "      <td>13.338232</td>\n",
       "      <td>44.789133</td>\n",
       "      <td>0.008168</td>\n",
       "      <td>39.015750</td>\n",
       "      <td>NaN</td>\n",
       "      <td>NaN</td>\n",
       "      <td>NaN</td>\n",
       "      <td>1986.860670</td>\n",
       "    </tr>\n",
       "  </tbody>\n",
       "</table>\n",
       "</div>"
      ],
      "text/plain": [
       "                     holiday        temp      rain_1h   snow_1h  clouds_all  \\\n",
       "min            Christmas Day    0.000000     0.000000  0.000000    0.000000   \n",
       "max     Washingtons Birthday  310.070000  9831.300000  0.510000  100.000000   \n",
       "median                   NaN  282.450000     0.000000  0.000000   64.000000   \n",
       "mean                     NaN  281.205870     0.334264  0.000222   49.362231   \n",
       "std                      NaN   13.338232    44.789133  0.008168   39.015750   \n",
       "\n",
       "        weather_main weather_description            date_time  traffic_volume  \n",
       "min            Clear             SQUALLS  2012-10-02 09:00:00        0.000000  \n",
       "max     Thunderstorm     very heavy rain  2018-09-30 23:00:00     7280.000000  \n",
       "median           NaN                 NaN                  NaN     3380.000000  \n",
       "mean             NaN                 NaN                  NaN     3259.818355  \n",
       "std              NaN                 NaN                  NaN     1986.860670  "
      ]
     },
     "execution_count": 201,
     "metadata": {},
     "output_type": "execute_result"
    }
   ],
   "source": [
    "dataset_csv.agg([\"min\", \"max\", \"median\", \"mean\", \"std\"])"
   ]
  },
  {
   "cell_type": "code",
   "execution_count": 202,
   "metadata": {},
   "outputs": [
    {
     "data": {
      "text/html": [
       "<div>\n",
       "<style scoped>\n",
       "    .dataframe tbody tr th:only-of-type {\n",
       "        vertical-align: middle;\n",
       "    }\n",
       "\n",
       "    .dataframe tbody tr th {\n",
       "        vertical-align: top;\n",
       "    }\n",
       "\n",
       "    .dataframe thead th {\n",
       "        text-align: right;\n",
       "    }\n",
       "</style>\n",
       "<table border=\"1\" class=\"dataframe\">\n",
       "  <thead>\n",
       "    <tr style=\"text-align: right;\">\n",
       "      <th></th>\n",
       "      <th>size</th>\n",
       "      <th>temp_celsius</th>\n",
       "      <th>temp</th>\n",
       "      <th>traffic_volume</th>\n",
       "    </tr>\n",
       "    <tr>\n",
       "      <th>weather_main</th>\n",
       "      <th></th>\n",
       "      <th></th>\n",
       "      <th></th>\n",
       "      <th></th>\n",
       "    </tr>\n",
       "  </thead>\n",
       "  <tbody>\n",
       "    <tr>\n",
       "      <th>Clouds</th>\n",
       "      <td>15164</td>\n",
       "      <td>8.316101</td>\n",
       "      <td>281.466101</td>\n",
       "      <td>3618.449749</td>\n",
       "    </tr>\n",
       "    <tr>\n",
       "      <th>Haze</th>\n",
       "      <td>1360</td>\n",
       "      <td>2.668581</td>\n",
       "      <td>275.818581</td>\n",
       "      <td>3502.101471</td>\n",
       "    </tr>\n",
       "    <tr>\n",
       "      <th>Rain</th>\n",
       "      <td>5672</td>\n",
       "      <td>13.829586</td>\n",
       "      <td>286.979586</td>\n",
       "      <td>3317.905501</td>\n",
       "    </tr>\n",
       "    <tr>\n",
       "      <th>Drizzle</th>\n",
       "      <td>1821</td>\n",
       "      <td>10.645431</td>\n",
       "      <td>283.795431</td>\n",
       "      <td>3290.727073</td>\n",
       "    </tr>\n",
       "    <tr>\n",
       "      <th>Smoke</th>\n",
       "      <td>20</td>\n",
       "      <td>17.777500</td>\n",
       "      <td>290.927500</td>\n",
       "      <td>3237.650000</td>\n",
       "    </tr>\n",
       "    <tr>\n",
       "      <th>Clear</th>\n",
       "      <td>13391</td>\n",
       "      <td>8.339971</td>\n",
       "      <td>281.489971</td>\n",
       "      <td>3055.908819</td>\n",
       "    </tr>\n",
       "    <tr>\n",
       "      <th>Snow</th>\n",
       "      <td>2876</td>\n",
       "      <td>-5.194812</td>\n",
       "      <td>267.955188</td>\n",
       "      <td>3016.844228</td>\n",
       "    </tr>\n",
       "    <tr>\n",
       "      <th>Thunderstorm</th>\n",
       "      <td>1034</td>\n",
       "      <td>19.566431</td>\n",
       "      <td>292.716431</td>\n",
       "      <td>3001.620890</td>\n",
       "    </tr>\n",
       "    <tr>\n",
       "      <th>Mist</th>\n",
       "      <td>5950</td>\n",
       "      <td>6.326892</td>\n",
       "      <td>279.476892</td>\n",
       "      <td>2932.956639</td>\n",
       "    </tr>\n",
       "    <tr>\n",
       "      <th>Fog</th>\n",
       "      <td>912</td>\n",
       "      <td>6.265713</td>\n",
       "      <td>279.415713</td>\n",
       "      <td>2703.720395</td>\n",
       "    </tr>\n",
       "    <tr>\n",
       "      <th>Squall</th>\n",
       "      <td>4</td>\n",
       "      <td>19.237500</td>\n",
       "      <td>292.387500</td>\n",
       "      <td>2061.750000</td>\n",
       "    </tr>\n",
       "  </tbody>\n",
       "</table>\n",
       "</div>"
      ],
      "text/plain": [
       "               size  temp_celsius        temp  traffic_volume\n",
       "weather_main                                                 \n",
       "Clouds        15164      8.316101  281.466101     3618.449749\n",
       "Haze           1360      2.668581  275.818581     3502.101471\n",
       "Rain           5672     13.829586  286.979586     3317.905501\n",
       "Drizzle        1821     10.645431  283.795431     3290.727073\n",
       "Smoke            20     17.777500  290.927500     3237.650000\n",
       "Clear         13391      8.339971  281.489971     3055.908819\n",
       "Snow           2876     -5.194812  267.955188     3016.844228\n",
       "Thunderstorm   1034     19.566431  292.716431     3001.620890\n",
       "Mist           5950      6.326892  279.476892     2932.956639\n",
       "Fog             912      6.265713  279.415713     2703.720395\n",
       "Squall            4     19.237500  292.387500     2061.750000"
      ]
     },
     "execution_count": 202,
     "metadata": {},
     "output_type": "execute_result"
    }
   ],
   "source": [
    "mean_values = dataset_csv.groupby(\"weather_main\")[[\"temp\", \"traffic_volume\"]].mean()\n",
    "mean_values[\"temp_celsius\"] = mean_values[\"temp\"].apply(lambda temp_K: temp_K - 273.15)\n",
    "mean_values[\"size\"] = dataset_csv.groupby(\"weather_main\").size() # amount of entries in each group\n",
    "\n",
    "# order by the weather conditions which have the largest mean traffic volume\n",
    "mean_values[[\"size\", \"temp_celsius\", \"temp\", \"traffic_volume\"]].sort_values(by=\"traffic_volume\", ascending=False)"
   ]
  },
  {
   "cell_type": "code",
   "execution_count": 203,
   "metadata": {},
   "outputs": [
    {
     "data": {
      "text/plain": [
       "rain_1h\n",
       "0.00       44737\n",
       "0.25         948\n",
       "0.26           2\n",
       "0.27           5\n",
       "0.28          23\n",
       "           ...  \n",
       "28.70          2\n",
       "31.75          1\n",
       "44.45          1\n",
       "55.63          1\n",
       "9831.30        1\n",
       "Length: 372, dtype: int64"
      ]
     },
     "execution_count": 203,
     "metadata": {},
     "output_type": "execute_result"
    }
   ],
   "source": [
    "# 44737 / 48204 ~= 93.81% of entries have no rain (3467 have)\n",
    "dataset_csv.groupby(\"rain_1h\").size()"
   ]
  },
  {
   "cell_type": "code",
   "execution_count": 204,
   "metadata": {
    "scrolled": true
   },
   "outputs": [
    {
     "data": {
      "text/plain": [
       "snow_1h\n",
       "0.00    48141\n",
       "0.05       14\n",
       "0.06       12\n",
       "0.08        2\n",
       "0.10        6\n",
       "0.13        6\n",
       "0.17        3\n",
       "0.21        1\n",
       "0.25        6\n",
       "0.32        5\n",
       "0.44        2\n",
       "0.51        6\n",
       "dtype: int64"
      ]
     },
     "execution_count": 204,
     "metadata": {},
     "output_type": "execute_result"
    }
   ],
   "source": [
    "# 48141 / 48204 ~= 99.87% of entries have no snow (only 63 have)\n",
    "dataset_csv.groupby(\"snow_1h\").size()"
   ]
  },
  {
   "cell_type": "markdown",
   "metadata": {},
   "source": [
    "## 1. Clean the dataset"
   ]
  },
  {
   "cell_type": "code",
   "execution_count": 205,
   "metadata": {},
   "outputs": [],
   "source": [
    "# we'll copy our dataset to the DataFrame object 'data' to clean it and\n",
    "# save it as a new .csv file later (splitting it into trainning/validation and test)\n",
    "data = dataset_csv.copy()"
   ]
  },
  {
   "cell_type": "markdown",
   "metadata": {},
   "source": [
    "### 1.1. Removing invalid data"
   ]
  },
  {
   "cell_type": "code",
   "execution_count": 206,
   "metadata": {},
   "outputs": [
    {
     "name": "stdout",
     "output_type": "stream",
     "text": [
      "(48204, 9) - (10, 9) => (48194, 9)\n"
     ]
    }
   ],
   "source": [
    "# removing entries with 0 Kelvin temperature\n",
    "print(f\"{data.shape} - {data.query('temp == 0.0').shape} => \", end='')\n",
    "\n",
    "data = data.query(\"temp > 0.0\")\n",
    "print(data.shape) # removes 10 invalid samples"
   ]
  },
  {
   "cell_type": "code",
   "execution_count": 207,
   "metadata": {},
   "outputs": [
    {
     "data": {
      "text/html": [
       "<div>\n",
       "<style scoped>\n",
       "    .dataframe tbody tr th:only-of-type {\n",
       "        vertical-align: middle;\n",
       "    }\n",
       "\n",
       "    .dataframe tbody tr th {\n",
       "        vertical-align: top;\n",
       "    }\n",
       "\n",
       "    .dataframe thead th {\n",
       "        text-align: right;\n",
       "    }\n",
       "</style>\n",
       "<table border=\"1\" class=\"dataframe\">\n",
       "  <thead>\n",
       "    <tr style=\"text-align: right;\">\n",
       "      <th></th>\n",
       "      <th>holiday</th>\n",
       "      <th>temp</th>\n",
       "      <th>rain_1h</th>\n",
       "      <th>snow_1h</th>\n",
       "      <th>clouds_all</th>\n",
       "      <th>weather_main</th>\n",
       "      <th>weather_description</th>\n",
       "      <th>date_time</th>\n",
       "      <th>traffic_volume</th>\n",
       "    </tr>\n",
       "  </thead>\n",
       "  <tbody>\n",
       "    <tr>\n",
       "      <th>24872</th>\n",
       "      <td>None</td>\n",
       "      <td>302.11</td>\n",
       "      <td>9831.3</td>\n",
       "      <td>0.0</td>\n",
       "      <td>75</td>\n",
       "      <td>Rain</td>\n",
       "      <td>very heavy rain</td>\n",
       "      <td>2016-07-11 17:00:00</td>\n",
       "      <td>5535</td>\n",
       "    </tr>\n",
       "  </tbody>\n",
       "</table>\n",
       "</div>"
      ],
      "text/plain": [
       "      holiday    temp  rain_1h  snow_1h  clouds_all weather_main  \\\n",
       "24872    None  302.11   9831.3      0.0          75         Rain   \n",
       "\n",
       "      weather_description            date_time  traffic_volume  \n",
       "24872     very heavy rain  2016-07-11 17:00:00            5535  "
      ]
     },
     "execution_count": 207,
     "metadata": {},
     "output_type": "execute_result"
    }
   ],
   "source": [
    "# the max value of rain_1h is invalid (>1000mm), so we'll drop it\n",
    "data.query(\"rain_1h > 0.0\").sort_values(by=\"rain_1h\", ascending=False).head(n=1)"
   ]
  },
  {
   "cell_type": "code",
   "execution_count": 208,
   "metadata": {},
   "outputs": [],
   "source": [
    "data.drop(index=24872, inplace=True) # removes the row where rain_1h == 9831.30"
   ]
  },
  {
   "cell_type": "code",
   "execution_count": 209,
   "metadata": {},
   "outputs": [
    {
     "data": {
      "text/plain": [
       "(48193, 9)"
      ]
     },
     "execution_count": 209,
     "metadata": {},
     "output_type": "execute_result"
    }
   ],
   "source": [
    "data.shape"
   ]
  },
  {
   "cell_type": "markdown",
   "metadata": {},
   "source": [
    "### 1.2. Saving the clean dataset\n",
    "\n",
    "Note that we removed values from the whole dataset, and only then we'll split it into test, train and validation.\n",
    "\n",
    "However, the values we removed (0 Kelvin temperature and over 1000mm of rain in an hour) are clearly invalid, so even if we're dealing with test (never seen) data, we could confidently remove entries like these (besides that, only 11 rows were actually removed)."
   ]
  },
  {
   "cell_type": "code",
   "execution_count": 210,
   "metadata": {},
   "outputs": [],
   "source": [
    "data[\"date_time\"] = pd.to_datetime(data[\"date_time\"], format=\"%Y-%m-%d %H:%M:%S\")\n",
    "data.set_index(\"date_time\", inplace=True)"
   ]
  },
  {
   "cell_type": "code",
   "execution_count": 211,
   "metadata": {},
   "outputs": [],
   "source": [
    "data.to_csv(\"clean.csv\")"
   ]
  },
  {
   "cell_type": "markdown",
   "metadata": {},
   "source": [
    "## 2. Split the dataset into train/validation and test\n",
    "\n",
    "- test: 15%\n",
    "- train & validation: 85%\n",
    "    - train: 70%\n",
    "    - validation: 15%"
   ]
  },
  {
   "cell_type": "code",
   "execution_count": 212,
   "metadata": {},
   "outputs": [],
   "source": [
    "# random seed for splitting the data deterministically\n",
    "RANDOM_SEED = 886"
   ]
  },
  {
   "cell_type": "code",
   "execution_count": 213,
   "metadata": {},
   "outputs": [
    {
     "name": "stdout",
     "output_type": "stream",
     "text": [
      "total: (48193, 8)\n",
      "\n",
      "train: (33735, 8)\n",
      "validation: (7229, 8)\n",
      "test: (7229, 8)\n"
     ]
    }
   ],
   "source": [
    "from sklearn.model_selection import train_test_split\n",
    "\n",
    "print(f\"total: {data.shape}\\n\")\n",
    "\n",
    "train_data, test_validation_data = train_test_split(data, train_size=0.7, shuffle=True, random_state=RANDOM_SEED)\n",
    "print(f\"train: {train_data.shape}\") # 70%\n",
    "\n",
    "validation_data, test_data = train_test_split(test_validation_data, test_size=0.5, shuffle=True, random_state=RANDOM_SEED)\n",
    "print(f\"validation: {validation_data.shape}\") # 15% of total\n",
    "print(f\"test: {test_data.shape}\") # 15% of total"
   ]
  },
  {
   "cell_type": "code",
   "execution_count": 214,
   "metadata": {
    "scrolled": false
   },
   "outputs": [
    {
     "name": "stdout",
     "output_type": "stream",
     "text": [
      "Train: \n",
      "                      traffic_volume\n",
      "date_time                          \n",
      "2012-10-02 09:00:00            5545\n",
      "2012-10-02 10:00:00            4516\n",
      "2012-10-02 11:00:00            4767\n",
      "2012-10-02 12:00:00            5026\n",
      "\n",
      "Validation: \n",
      "                      traffic_volume\n",
      "date_time                          \n",
      "2012-10-03 06:00:00            5673\n",
      "2012-10-03 20:00:00            2898\n",
      "2012-10-04 02:00:00             312\n",
      "2012-10-04 13:00:00            5178\n",
      "\n",
      "Test: \n",
      "                      traffic_volume\n",
      "date_time                          \n",
      "2012-10-02 16:00:00            6015\n",
      "2012-10-03 15:00:00            5692\n",
      "2012-10-03 23:00:00            1015\n",
      "2012-10-04 03:00:00             367\n"
     ]
    }
   ],
   "source": [
    "# visualize the first values of each set\n",
    "print(\"Train: \\n\", train_data[[\"traffic_volume\"]].sort_values(\"date_time\").head(n=4))\n",
    "print(\"\\nValidation: \\n\", validation_data[[\"traffic_volume\"]].sort_values(\"date_time\").head(n=4))\n",
    "print(\"\\nTest: \\n\", test_data[[\"traffic_volume\"]].sort_values(\"date_time\").head(n=4))"
   ]
  },
  {
   "cell_type": "markdown",
   "metadata": {},
   "source": [
    "## 3. Transform features"
   ]
  },
  {
   "cell_type": "markdown",
   "metadata": {},
   "source": [
    "### 3.1. Turn 'date_time' into 'hour', 'weekday' and 'weekofyear'"
   ]
  },
  {
   "cell_type": "code",
   "execution_count": 215,
   "metadata": {},
   "outputs": [],
   "source": [
    "def transformed_date_time(df):\n",
    "    transformed_df = df.copy()\n",
    "    transformed_df.insert(0, \"hour\", pd.DatetimeIndex(transformed_df.index).hour)\n",
    "    transformed_df.insert(1, \"weekday\", pd.DatetimeIndex(transformed_df.index).weekday)\n",
    "    transformed_df.insert(2, \"weekofyear\", pd.DatetimeIndex(transformed_df.index).weekofyear)\n",
    "    return transformed_df"
   ]
  },
  {
   "cell_type": "markdown",
   "metadata": {},
   "source": [
    "### 3.2. Dropping 'snow_1h' and 'weather_description' columns\n",
    "They both seem redundant if we consider the 'weather_main' values."
   ]
  },
  {
   "cell_type": "code",
   "execution_count": 216,
   "metadata": {},
   "outputs": [],
   "source": [
    "def dropped_snow_1h_weather_description(df):\n",
    "    return df.drop(columns=[\"snow_1h\", \"weather_description\"])"
   ]
  },
  {
   "cell_type": "markdown",
   "metadata": {},
   "source": [
    "### 3.3. Adding holiday value to the whole day (not just at 00:00:00)"
   ]
  },
  {
   "cell_type": "code",
   "execution_count": 217,
   "metadata": {},
   "outputs": [],
   "source": [
    "def transformed_holiday(df):\n",
    "    transformed_df = df.copy()\n",
    "    transformed_df[\"date_time\"] = transformed_df.index\n",
    "    \n",
    "    holidays = transformed_df[transformed_df.holiday != \"None\"]\n",
    "    holiday_names = [row[\"holiday\"] for index, row in holidays.iterrows()]\n",
    "    holiday_dates = holidays[\"date_time\"].dt.normalize()\n",
    "    \n",
    "    # add holiday name to holiday days on hours other than 00:00:00\n",
    "    for holiday_name, holiday_date in zip(holiday_names, holiday_dates):\n",
    "        transformed_df.loc[(transformed_df[\"date_time\"].dt.normalize() == holiday_date), \"holiday\"] = holiday_name\n",
    "    \n",
    "    return transformed_df.drop(columns=[\"date_time\"])    "
   ]
  },
  {
   "cell_type": "markdown",
   "metadata": {},
   "source": [
    "### 3.5. Apply changes to the split sets"
   ]
  },
  {
   "cell_type": "code",
   "execution_count": 218,
   "metadata": {},
   "outputs": [],
   "source": [
    "def transformed(dataset, transformations=[transformed_date_time, dropped_snow_1h_weather_description, transformed_holiday]):\n",
    "    for transform in transformations:\n",
    "        dataset = transform(dataset)\n",
    "    return dataset"
   ]
  },
  {
   "cell_type": "code",
   "execution_count": 219,
   "metadata": {},
   "outputs": [],
   "source": [
    "train_data = transformed(train_data)\n",
    "validation_data = transformed(validation_data)\n",
    "\n",
    "test_data = transformed(test_data)"
   ]
  },
  {
   "cell_type": "markdown",
   "metadata": {},
   "source": [
    "### 3.6. Transform categorical features\n",
    "\n",
    "Instead of turning a categorical feature with $n$ possible values into an $n$-D vector, with entries having only one non-zero — _hot_ — element, we'll drop one dimension (i.e. not use one of the values), creating an $(n-1)$-D vector to avoid the [Dummy Variable Trap](https://www.algosome.com/articles/dummy-variable-trap-regression.html)."
   ]
  },
  {
   "cell_type": "code",
   "execution_count": 220,
   "metadata": {
    "scrolled": true
   },
   "outputs": [
    {
     "name": "stdout",
     "output_type": "stream",
     "text": [
      "['None' 'Columbus Day' 'Veterans Day' 'Thanksgiving Day' 'Christmas Day'\n",
      " 'New Years Day' 'Washingtons Birthday' 'Memorial Day' 'Independence Day'\n",
      " 'State Fair' 'Labor Day' 'Martin Luther King Jr Day'] \n",
      "\n",
      "['Clouds' 'Clear' 'Rain' 'Drizzle' 'Mist' 'Haze' 'Fog' 'Thunderstorm'\n",
      " 'Snow' 'Squall' 'Smoke']\n"
     ]
    }
   ],
   "source": [
    "# categorical attributes: \"holiday\", \"weather_main\"\n",
    "print(data[\"holiday\"].unique(), '\\n')\n",
    "print(data[\"weather_main\"].unique())"
   ]
  },
  {
   "cell_type": "code",
   "execution_count": 221,
   "metadata": {},
   "outputs": [],
   "source": [
    "# dummy encoding, n-D: \n",
    "#   pd.get_dummies(df, prefix=\"weather\", columns=[\"weather_main\"])\n",
    "\n",
    "# one-hot encoding, (n-1)-D:\n",
    "#   pd.get_dummies(df, prefix=\"weather\", columns=[\"weather_main\"], drop_first=True)\n",
    "\n",
    "def encoded_weather_main(df):\n",
    "    encoded_df = df.copy()\n",
    "    weather_encoding = pd.get_dummies(encoded_df[\"weather_main\"], drop_first=True) # drops Clear weather\n",
    "    encoded_df = pd.concat([encoded_df, weather_encoding], axis=1)\n",
    "    encoded_df.drop(columns=[\"weather_main\"], inplace=True)\n",
    "    return encoded_df"
   ]
  },
  {
   "cell_type": "code",
   "execution_count": 222,
   "metadata": {},
   "outputs": [],
   "source": [
    "# we'll make 'holiday' a binary value\n",
    "def encoded_holiday(df):\n",
    "    encoded_df = df.copy()\n",
    "    # obs.: comparing the value to 0 prevents accidents when running this twice\n",
    "    encoded_df[\"holiday\"] = encoded_df[\"holiday\"].apply(lambda h: 0 if (h == \"None\" or h == 0) else 1)\n",
    "    return encoded_df"
   ]
  },
  {
   "cell_type": "code",
   "execution_count": 223,
   "metadata": {},
   "outputs": [],
   "source": [
    "# trasformed categorical features\n",
    "def encoded(dataset, encodings=[encoded_weather_main, encoded_holiday]):\n",
    "    for encode in encodings:\n",
    "        dataset = encode(dataset)\n",
    "    return dataset"
   ]
  },
  {
   "cell_type": "code",
   "execution_count": 224,
   "metadata": {},
   "outputs": [],
   "source": [
    "train_data = encoded(train_data)\n",
    "validation_data = encoded(validation_data)\n",
    "\n",
    "test_data = encoded(test_data)"
   ]
  },
  {
   "cell_type": "markdown",
   "metadata": {},
   "source": [
    "### 3.7. Reorder columns"
   ]
  },
  {
   "cell_type": "code",
   "execution_count": 225,
   "metadata": {},
   "outputs": [],
   "source": [
    "columns_set = set(train_data.columns).union(set(validation_data.columns).union(set(test_data.columns)))\n",
    "for col in columns_set:\n",
    "    if col not in train_data:\n",
    "        train_data[col] = 0\n",
    "    if col not in validation_data:\n",
    "        validation_data[col] = 0\n",
    "    if col not in test_data:\n",
    "        test_data[col] = 0"
   ]
  },
  {
   "cell_type": "code",
   "execution_count": 226,
   "metadata": {},
   "outputs": [],
   "source": [
    "column_order = ['holiday','temp','rain_1h','clouds_all','hour','weekday', 'weekofyear', \n",
    "                'Clouds','Mist','Rain','Snow','Drizzle','Haze','Thunderstorm','Fog','Smoke','Squall','traffic_volume']\n",
    "for col in columns_set:\n",
    "    if col not in column_order:\n",
    "        print(f\"missing '{col}'\")"
   ]
  },
  {
   "cell_type": "code",
   "execution_count": 227,
   "metadata": {},
   "outputs": [],
   "source": [
    "# make 'traffic_volume' the last column\n",
    "if column_order[-1] != \"traffic_volume\":\n",
    "    print(\"'traffic_volume' should be the last column!\")"
   ]
  },
  {
   "cell_type": "code",
   "execution_count": 228,
   "metadata": {},
   "outputs": [],
   "source": [
    "train_data = train_data[column_order]\n",
    "validation_data = validation_data[column_order]\n",
    "test_data = test_data[column_order]"
   ]
  },
  {
   "cell_type": "markdown",
   "metadata": {},
   "source": [
    "## 4. Normalize values\n",
    "\n",
    "It's important we **normalize our trainning data** and save the mapping we made to it so we can use the same values once we deal with the validation and test sets (i.e. we don't want to be normalizing the test and validation sets based on their own values)."
   ]
  },
  {
   "cell_type": "code",
   "execution_count": 229,
   "metadata": {},
   "outputs": [],
   "source": [
    "# NOTE: we have to change this list if new columns are added\n",
    "attrs_to_normalize = [\"traffic_volume\", \"hour\", \"weekday\", \"weekofyear\", \"temp\", \"rain_1h\", \"clouds_all\"]\n",
    "def get_stats(df, columns, operations=['min', 'max', 'median', 'mean', 'std']):\n",
    "    return df[columns].agg(operations)"
   ]
  },
  {
   "cell_type": "markdown",
   "metadata": {},
   "source": [
    "Z-score normalization: $ x \\leftarrow \\dfrac{x - \\mu}{\\sigma}$ (makes the mean 0 and the standard deviation 1)"
   ]
  },
  {
   "cell_type": "code",
   "execution_count": 230,
   "metadata": {},
   "outputs": [],
   "source": [
    "# mu = mean, sigma = stddev\n",
    "def z_score(x, mu, sigma):\n",
    "    return (x - mu) / sigma\n",
    "\n",
    "def normalized(dataset, stats):\n",
    "    normalized_dataset = dataset.copy()\n",
    "    for col in stats:\n",
    "        col_mean = stats.loc[\"mean\", col]\n",
    "        col_stddev = stats.loc[\"std\", col]\n",
    "        normalized_dataset.loc[:, col] = dataset.loc[:, col].apply(lambda x: z_score(x, mu=col_mean, sigma=col_stddev))\n",
    "    return normalized_dataset"
   ]
  },
  {
   "cell_type": "code",
   "execution_count": 231,
   "metadata": {},
   "outputs": [],
   "source": [
    "# NOTE: we must use 'train_stats' when normalizing 'validation_data' and 'test_data' aswell\n",
    "train_stats = get_stats(train_data, columns=attrs_to_normalize).copy()"
   ]
  },
  {
   "cell_type": "code",
   "execution_count": 232,
   "metadata": {},
   "outputs": [
    {
     "data": {
      "text/html": [
       "<div>\n",
       "<style scoped>\n",
       "    .dataframe tbody tr th:only-of-type {\n",
       "        vertical-align: middle;\n",
       "    }\n",
       "\n",
       "    .dataframe tbody tr th {\n",
       "        vertical-align: top;\n",
       "    }\n",
       "\n",
       "    .dataframe thead th {\n",
       "        text-align: right;\n",
       "    }\n",
       "</style>\n",
       "<table border=\"1\" class=\"dataframe\">\n",
       "  <thead>\n",
       "    <tr style=\"text-align: right;\">\n",
       "      <th></th>\n",
       "      <th>traffic_volume</th>\n",
       "      <th>hour</th>\n",
       "      <th>weekday</th>\n",
       "      <th>weekofyear</th>\n",
       "      <th>temp</th>\n",
       "      <th>rain_1h</th>\n",
       "      <th>clouds_all</th>\n",
       "    </tr>\n",
       "  </thead>\n",
       "  <tbody>\n",
       "    <tr>\n",
       "      <th>min</th>\n",
       "      <td>0.000000</td>\n",
       "      <td>0.000000</td>\n",
       "      <td>0.000000</td>\n",
       "      <td>1.000000</td>\n",
       "      <td>243.390000</td>\n",
       "      <td>0.000000</td>\n",
       "      <td>0.000000</td>\n",
       "    </tr>\n",
       "    <tr>\n",
       "      <th>max</th>\n",
       "      <td>7280.000000</td>\n",
       "      <td>23.000000</td>\n",
       "      <td>6.000000</td>\n",
       "      <td>53.000000</td>\n",
       "      <td>310.070000</td>\n",
       "      <td>55.630000</td>\n",
       "      <td>100.000000</td>\n",
       "    </tr>\n",
       "    <tr>\n",
       "      <th>median</th>\n",
       "      <td>3366.000000</td>\n",
       "      <td>11.000000</td>\n",
       "      <td>3.000000</td>\n",
       "      <td>27.000000</td>\n",
       "      <td>282.430000</td>\n",
       "      <td>0.000000</td>\n",
       "      <td>64.000000</td>\n",
       "    </tr>\n",
       "    <tr>\n",
       "      <th>mean</th>\n",
       "      <td>3251.242389</td>\n",
       "      <td>11.391226</td>\n",
       "      <td>2.995613</td>\n",
       "      <td>26.463021</td>\n",
       "      <td>281.228648</td>\n",
       "      <td>0.132290</td>\n",
       "      <td>49.376938</td>\n",
       "    </tr>\n",
       "    <tr>\n",
       "      <th>std</th>\n",
       "      <td>1989.056584</td>\n",
       "      <td>6.953915</td>\n",
       "      <td>2.002928</td>\n",
       "      <td>14.845134</td>\n",
       "      <td>12.728744</td>\n",
       "      <td>1.020928</td>\n",
       "      <td>38.984011</td>\n",
       "    </tr>\n",
       "  </tbody>\n",
       "</table>\n",
       "</div>"
      ],
      "text/plain": [
       "        traffic_volume       hour   weekday  weekofyear        temp  \\\n",
       "min           0.000000   0.000000  0.000000    1.000000  243.390000   \n",
       "max        7280.000000  23.000000  6.000000   53.000000  310.070000   \n",
       "median     3366.000000  11.000000  3.000000   27.000000  282.430000   \n",
       "mean       3251.242389  11.391226  2.995613   26.463021  281.228648   \n",
       "std        1989.056584   6.953915  2.002928   14.845134   12.728744   \n",
       "\n",
       "          rain_1h  clouds_all  \n",
       "min      0.000000    0.000000  \n",
       "max     55.630000  100.000000  \n",
       "median   0.000000   64.000000  \n",
       "mean     0.132290   49.376938  \n",
       "std      1.020928   38.984011  "
      ]
     },
     "execution_count": 232,
     "metadata": {},
     "output_type": "execute_result"
    }
   ],
   "source": [
    "train_stats"
   ]
  },
  {
   "cell_type": "code",
   "execution_count": 233,
   "metadata": {},
   "outputs": [],
   "source": [
    "train_data = normalized(train_data, stats=train_stats)\n",
    "validation_data = normalized(validation_data, stats=train_stats)\n",
    "test_data = normalized(test_data, stats=train_stats)"
   ]
  },
  {
   "cell_type": "code",
   "execution_count": 234,
   "metadata": {},
   "outputs": [
    {
     "data": {
      "text/html": [
       "<div>\n",
       "<style scoped>\n",
       "    .dataframe tbody tr th:only-of-type {\n",
       "        vertical-align: middle;\n",
       "    }\n",
       "\n",
       "    .dataframe tbody tr th {\n",
       "        vertical-align: top;\n",
       "    }\n",
       "\n",
       "    .dataframe thead th {\n",
       "        text-align: right;\n",
       "    }\n",
       "</style>\n",
       "<table border=\"1\" class=\"dataframe\">\n",
       "  <thead>\n",
       "    <tr style=\"text-align: right;\">\n",
       "      <th></th>\n",
       "      <th>traffic_volume</th>\n",
       "      <th>hour</th>\n",
       "      <th>weekday</th>\n",
       "      <th>weekofyear</th>\n",
       "      <th>temp</th>\n",
       "      <th>rain_1h</th>\n",
       "      <th>clouds_all</th>\n",
       "    </tr>\n",
       "  </thead>\n",
       "  <tbody>\n",
       "    <tr>\n",
       "      <th>min</th>\n",
       "      <td>-1.634565e+00</td>\n",
       "      <td>-1.638103e+00</td>\n",
       "      <td>-1.495617e+00</td>\n",
       "      <td>-1.715244e+00</td>\n",
       "      <td>-2.972693e+00</td>\n",
       "      <td>-1.295778e-01</td>\n",
       "      <td>-1.266595e+00</td>\n",
       "    </tr>\n",
       "    <tr>\n",
       "      <th>max</th>\n",
       "      <td>2.025462e+00</td>\n",
       "      <td>1.669387e+00</td>\n",
       "      <td>1.499998e+00</td>\n",
       "      <td>1.787588e+00</td>\n",
       "      <td>2.265844e+00</td>\n",
       "      <td>5.436004e+01</td>\n",
       "      <td>1.298560e+00</td>\n",
       "    </tr>\n",
       "    <tr>\n",
       "      <th>median</th>\n",
       "      <td>5.769449e-02</td>\n",
       "      <td>-5.625978e-02</td>\n",
       "      <td>2.190361e-03</td>\n",
       "      <td>3.617208e-02</td>\n",
       "      <td>9.438103e-02</td>\n",
       "      <td>-1.295778e-01</td>\n",
       "      <td>3.751041e-01</td>\n",
       "    </tr>\n",
       "    <tr>\n",
       "      <th>mean</th>\n",
       "      <td>5.771119e-17</td>\n",
       "      <td>7.645680e-17</td>\n",
       "      <td>-4.307277e-17</td>\n",
       "      <td>-6.671540e-17</td>\n",
       "      <td>-1.195085e-15</td>\n",
       "      <td>-5.686869e-18</td>\n",
       "      <td>4.201965e-17</td>\n",
       "    </tr>\n",
       "    <tr>\n",
       "      <th>std</th>\n",
       "      <td>1.000000e+00</td>\n",
       "      <td>1.000000e+00</td>\n",
       "      <td>1.000000e+00</td>\n",
       "      <td>1.000000e+00</td>\n",
       "      <td>1.000000e+00</td>\n",
       "      <td>1.000000e+00</td>\n",
       "      <td>1.000000e+00</td>\n",
       "    </tr>\n",
       "  </tbody>\n",
       "</table>\n",
       "</div>"
      ],
      "text/plain": [
       "        traffic_volume          hour       weekday    weekofyear  \\\n",
       "min      -1.634565e+00 -1.638103e+00 -1.495617e+00 -1.715244e+00   \n",
       "max       2.025462e+00  1.669387e+00  1.499998e+00  1.787588e+00   \n",
       "median    5.769449e-02 -5.625978e-02  2.190361e-03  3.617208e-02   \n",
       "mean      5.771119e-17  7.645680e-17 -4.307277e-17 -6.671540e-17   \n",
       "std       1.000000e+00  1.000000e+00  1.000000e+00  1.000000e+00   \n",
       "\n",
       "                temp       rain_1h    clouds_all  \n",
       "min    -2.972693e+00 -1.295778e-01 -1.266595e+00  \n",
       "max     2.265844e+00  5.436004e+01  1.298560e+00  \n",
       "median  9.438103e-02 -1.295778e-01  3.751041e-01  \n",
       "mean   -1.195085e-15 -5.686869e-18  4.201965e-17  \n",
       "std     1.000000e+00  1.000000e+00  1.000000e+00  "
      ]
     },
     "execution_count": 234,
     "metadata": {},
     "output_type": "execute_result"
    }
   ],
   "source": [
    "# we should now see mean~=0 and std~=1 for all attributes\n",
    "get_stats(train_data, columns=attrs_to_normalize)"
   ]
  },
  {
   "cell_type": "code",
   "execution_count": 235,
   "metadata": {
    "scrolled": true
   },
   "outputs": [
    {
     "data": {
      "text/html": [
       "<div>\n",
       "<style scoped>\n",
       "    .dataframe tbody tr th:only-of-type {\n",
       "        vertical-align: middle;\n",
       "    }\n",
       "\n",
       "    .dataframe tbody tr th {\n",
       "        vertical-align: top;\n",
       "    }\n",
       "\n",
       "    .dataframe thead th {\n",
       "        text-align: right;\n",
       "    }\n",
       "</style>\n",
       "<table border=\"1\" class=\"dataframe\">\n",
       "  <thead>\n",
       "    <tr style=\"text-align: right;\">\n",
       "      <th></th>\n",
       "      <th>traffic_volume</th>\n",
       "      <th>hour</th>\n",
       "      <th>weekday</th>\n",
       "      <th>weekofyear</th>\n",
       "      <th>temp</th>\n",
       "      <th>rain_1h</th>\n",
       "      <th>clouds_all</th>\n",
       "    </tr>\n",
       "  </thead>\n",
       "  <tbody>\n",
       "    <tr>\n",
       "      <th>min</th>\n",
       "      <td>-1.633560</td>\n",
       "      <td>-1.638103</td>\n",
       "      <td>-1.495617</td>\n",
       "      <td>-1.715244</td>\n",
       "      <td>-2.860349</td>\n",
       "      <td>-0.129578</td>\n",
       "      <td>-1.266595</td>\n",
       "    </tr>\n",
       "    <tr>\n",
       "      <th>max</th>\n",
       "      <td>1.938486</td>\n",
       "      <td>1.669387</td>\n",
       "      <td>1.499998</td>\n",
       "      <td>1.787588</td>\n",
       "      <td>2.122075</td>\n",
       "      <td>26.875255</td>\n",
       "      <td>1.298560</td>\n",
       "    </tr>\n",
       "    <tr>\n",
       "      <th>median</th>\n",
       "      <td>0.112997</td>\n",
       "      <td>0.087544</td>\n",
       "      <td>0.002190</td>\n",
       "      <td>0.036172</td>\n",
       "      <td>0.136019</td>\n",
       "      <td>-0.129578</td>\n",
       "      <td>0.375104</td>\n",
       "    </tr>\n",
       "    <tr>\n",
       "      <th>mean</th>\n",
       "      <td>0.029171</td>\n",
       "      <td>0.021998</td>\n",
       "      <td>0.000118</td>\n",
       "      <td>0.004667</td>\n",
       "      <td>0.025249</td>\n",
       "      <td>0.006330</td>\n",
       "      <td>-0.015872</td>\n",
       "    </tr>\n",
       "    <tr>\n",
       "      <th>std</th>\n",
       "      <td>0.992987</td>\n",
       "      <td>0.991468</td>\n",
       "      <td>1.005900</td>\n",
       "      <td>0.991426</td>\n",
       "      <td>0.997541</td>\n",
       "      <td>0.999506</td>\n",
       "      <td>1.004030</td>\n",
       "    </tr>\n",
       "  </tbody>\n",
       "</table>\n",
       "</div>"
      ],
      "text/plain": [
       "        traffic_volume      hour   weekday  weekofyear      temp    rain_1h  \\\n",
       "min          -1.633560 -1.638103 -1.495617   -1.715244 -2.860349  -0.129578   \n",
       "max           1.938486  1.669387  1.499998    1.787588  2.122075  26.875255   \n",
       "median        0.112997  0.087544  0.002190    0.036172  0.136019  -0.129578   \n",
       "mean          0.029171  0.021998  0.000118    0.004667  0.025249   0.006330   \n",
       "std           0.992987  0.991468  1.005900    0.991426  0.997541   0.999506   \n",
       "\n",
       "        clouds_all  \n",
       "min      -1.266595  \n",
       "max       1.298560  \n",
       "median    0.375104  \n",
       "mean     -0.015872  \n",
       "std       1.004030  "
      ]
     },
     "execution_count": 235,
     "metadata": {},
     "output_type": "execute_result"
    }
   ],
   "source": [
    "# we should now see mean close to 0 and std close to 1\n",
    "get_stats(validation_data, columns=attrs_to_normalize)"
   ]
  },
  {
   "cell_type": "code",
   "execution_count": 236,
   "metadata": {},
   "outputs": [
    {
     "data": {
      "text/html": [
       "<div>\n",
       "<style scoped>\n",
       "    .dataframe tbody tr th:only-of-type {\n",
       "        vertical-align: middle;\n",
       "    }\n",
       "\n",
       "    .dataframe tbody tr th {\n",
       "        vertical-align: top;\n",
       "    }\n",
       "\n",
       "    .dataframe thead th {\n",
       "        text-align: right;\n",
       "    }\n",
       "</style>\n",
       "<table border=\"1\" class=\"dataframe\">\n",
       "  <thead>\n",
       "    <tr style=\"text-align: right;\">\n",
       "      <th></th>\n",
       "      <th>traffic_volume</th>\n",
       "      <th>hour</th>\n",
       "      <th>weekday</th>\n",
       "      <th>weekofyear</th>\n",
       "      <th>temp</th>\n",
       "      <th>rain_1h</th>\n",
       "      <th>clouds_all</th>\n",
       "    </tr>\n",
       "  </thead>\n",
       "  <tbody>\n",
       "    <tr>\n",
       "      <th>min</th>\n",
       "      <td>-1.634062</td>\n",
       "      <td>-1.638103</td>\n",
       "      <td>-1.495617</td>\n",
       "      <td>-1.715244</td>\n",
       "      <td>-2.907486</td>\n",
       "      <td>-0.129578</td>\n",
       "      <td>-1.266595</td>\n",
       "    </tr>\n",
       "    <tr>\n",
       "      <th>max</th>\n",
       "      <td>2.015407</td>\n",
       "      <td>1.669387</td>\n",
       "      <td>1.499998</td>\n",
       "      <td>1.787588</td>\n",
       "      <td>2.171570</td>\n",
       "      <td>27.982091</td>\n",
       "      <td>1.298560</td>\n",
       "    </tr>\n",
       "    <tr>\n",
       "      <th>median</th>\n",
       "      <td>0.048645</td>\n",
       "      <td>-0.056260</td>\n",
       "      <td>0.002190</td>\n",
       "      <td>0.036172</td>\n",
       "      <td>0.065313</td>\n",
       "      <td>-0.129578</td>\n",
       "      <td>0.375104</td>\n",
       "    </tr>\n",
       "    <tr>\n",
       "      <th>mean</th>\n",
       "      <td>0.000765</td>\n",
       "      <td>-0.014207</td>\n",
       "      <td>-0.036831</td>\n",
       "      <td>0.008292</td>\n",
       "      <td>-0.006845</td>\n",
       "      <td>-0.019050</td>\n",
       "      <td>0.015017</td>\n",
       "    </tr>\n",
       "    <tr>\n",
       "      <th>std</th>\n",
       "      <td>0.999054</td>\n",
       "      <td>0.995294</td>\n",
       "      <td>1.003273</td>\n",
       "      <td>1.006727</td>\n",
       "      <td>0.992102</td>\n",
       "      <td>0.880304</td>\n",
       "      <td>1.000914</td>\n",
       "    </tr>\n",
       "  </tbody>\n",
       "</table>\n",
       "</div>"
      ],
      "text/plain": [
       "        traffic_volume      hour   weekday  weekofyear      temp    rain_1h  \\\n",
       "min          -1.634062 -1.638103 -1.495617   -1.715244 -2.907486  -0.129578   \n",
       "max           2.015407  1.669387  1.499998    1.787588  2.171570  27.982091   \n",
       "median        0.048645 -0.056260  0.002190    0.036172  0.065313  -0.129578   \n",
       "mean          0.000765 -0.014207 -0.036831    0.008292 -0.006845  -0.019050   \n",
       "std           0.999054  0.995294  1.003273    1.006727  0.992102   0.880304   \n",
       "\n",
       "        clouds_all  \n",
       "min      -1.266595  \n",
       "max       1.298560  \n",
       "median    0.375104  \n",
       "mean      0.015017  \n",
       "std       1.000914  "
      ]
     },
     "execution_count": 236,
     "metadata": {},
     "output_type": "execute_result"
    }
   ],
   "source": [
    "# we should now see mean close to 0 and std close to 1\n",
    "get_stats(test_data, columns=attrs_to_normalize)"
   ]
  },
  {
   "cell_type": "markdown",
   "metadata": {},
   "source": [
    "## 5. Save the split data, normalized with values from the training set"
   ]
  },
  {
   "cell_type": "code",
   "execution_count": 237,
   "metadata": {},
   "outputs": [],
   "source": [
    "train_data.to_csv(\"train_70.csv\")\n",
    "validation_data.to_csv(\"validation_15.csv\")\n",
    "\n",
    "test_data.to_csv(\"test_15.csv\") # and now.. don't touch it anymore!"
   ]
  },
  {
   "cell_type": "code",
   "execution_count": 238,
   "metadata": {
    "scrolled": true
   },
   "outputs": [],
   "source": [
    "# train_data.head(n=4)"
   ]
  },
  {
   "cell_type": "code",
   "execution_count": 239,
   "metadata": {
    "scrolled": true
   },
   "outputs": [],
   "source": [
    "# validation_data.head(n=4)"
   ]
  },
  {
   "cell_type": "code",
   "execution_count": 240,
   "metadata": {},
   "outputs": [],
   "source": [
    "# test_data.head(n=4)"
   ]
  },
  {
   "cell_type": "code",
   "execution_count": 241,
   "metadata": {},
   "outputs": [
    {
     "name": "stdout",
     "output_type": "stream",
     "text": [
      "                     traffic_volume\n",
      "date_time                          \n",
      "2012-10-02 09:00:00        1.153189\n",
      "2012-10-02 10:00:00        0.635858\n",
      "2012-10-02 11:00:00        0.762049\n",
      "2012-10-02 12:00:00        0.892261 \n",
      "\n",
      "                     traffic_volume\n",
      "date_time                          \n",
      "2012-10-03 06:00:00        1.217541\n",
      "2012-10-03 20:00:00       -0.177593\n",
      "2012-10-04 02:00:00       -1.477707\n",
      "2012-10-04 13:00:00        0.968679 \n",
      "\n",
      "                     traffic_volume\n",
      "date_time                          \n",
      "2012-10-02 16:00:00        1.389482\n",
      "2012-10-03 15:00:00        1.227093\n",
      "2012-10-03 23:00:00       -1.124273\n",
      "2012-10-04 03:00:00       -1.450055\n"
     ]
    }
   ],
   "source": [
    "print(train_data.sort_values(by=\"date_time\")[[\"traffic_volume\"]].head(n=4), '\\n')\n",
    "print(validation_data.sort_values(by=\"date_time\")[[\"traffic_volume\"]].head(n=4), '\\n')\n",
    "print(test_data.sort_values(by=\"date_time\")[[\"traffic_volume\"]].head(n=4))"
   ]
  },
  {
   "cell_type": "markdown",
   "metadata": {},
   "source": [
    "## 6. Perform Linear Regression"
   ]
  },
  {
   "cell_type": "code",
   "execution_count": 242,
   "metadata": {},
   "outputs": [],
   "source": [
    "import warnings"
   ]
  },
  {
   "cell_type": "markdown",
   "metadata": {},
   "source": [
    "### Hypothesis: \n",
    "$h_{\\theta}(x) = \\theta^T x = \\theta_0 + \\theta_1 x_1 + ... + \\theta_n x_n$, where:\n",
    "\n",
    "- $x = (x_0, x_1, ..., x_n)$, with $x_0 = 1$ and the values from $1$ to $n$ are taken from rows of our dataset.\n",
    "- $\\theta = (\\theta_0, \\theta_1, ..., \\theta_n)$ are the parameters.\n",
    "\n",
    "### Cost function: \n",
    "$J(\\theta) = \\dfrac{1}{2m} \\sum\\limits_{i=1}^m (h_{\\theta}(x^{(i)}) - y^{(i)})^2 \\; \\Longrightarrow \\; \n",
    "\\dfrac{\\partial J(\\theta)}{\\partial \\theta_j} = \\dfrac{1}{m} \\sum\\limits_{i=1}^m (\\,(h_{\\theta}(x^{(i)}) - y^{(i)}) \\, x_j^{(i)}\\,)$, where:\n",
    "\n",
    "- $m$ is the number of examples.\n",
    "- $n$ is the number of features.\n",
    "- $x^{(i)} = (1, x_1^{(i)}, ..., x_n^{(i)})$ are the features of the $i^{th}$ training example ($\\forall{i},\\,x_0^{(i)} = 1$).\n",
    "- $x_j^{(i)}$ is the value of feature $j$ of the $i^{th}$ training example.\n",
    "- $y = (y^{(1)}, ..., y^{(m)})$ are the target values.\n",
    "- $y^{(i)}$ is the target value for the $i^{th}$ training example."
   ]
  },
  {
   "cell_type": "code",
   "execution_count": 243,
   "metadata": {},
   "outputs": [],
   "source": [
    "# theta is an array of 'params' of shape=(n_features, 1)\n",
    "# -> (n+1) x 1\n",
    "\n",
    "# X is a matrix of 'data', with each line being an 'example', of shape=(n_examples, n_features)\n",
    "# -> m x (n+1)\n",
    "\n",
    "# y is an array of 'target' values for each example of shape=(n_examples, 1)\n",
    "# -> m x 1\n",
    "\n",
    "''' Returns a scalar, corresponding to the value of J(theta). '''\n",
    "def loss_function(theta, X, y):\n",
    "    assert(X.shape[0] == y.shape[0]), f\"X.shape[0] != y.shape[0] for shapes: {X.shape} of X, and {y.shape} of y\"\n",
    "    assert(X.shape[1] == theta.shape[0]), f\"X.shape[1] != theta.shape[0] for shapes: {X.shape} of X, and {theta.shape} of theta\"\n",
    "    \n",
    "    m = X.shape[0] # number of examples\n",
    "    \n",
    "    #loss = X.dot(theta) # estimate of y (h_theta(X))\n",
    "    #loss = loss - y     # error between estimate and real y values (h_theta(X) - y)\n",
    "    #loss = loss**2      # squared error of each element (h_theta(X) - y)**2\n",
    "    #loss = 0.5 * (1 / m) * loss.sum()\n",
    "\n",
    "    return 0.5 * (1 / m) * np.sum((X.dot(theta) - y)**2)"
   ]
  },
  {
   "cell_type": "code",
   "execution_count": 244,
   "metadata": {},
   "outputs": [],
   "source": [
    "''' Returns a (n+1) x 1 array with the gradient values for each theta_j. '''\n",
    "def eval_gradient(theta, X, y):\n",
    "    assert(X.shape[0] == y.shape[0]), f\"X.shape[0] != y.shape[0] for shapes: {X.shape} of X, and {y.shape} of y\"\n",
    "    assert(X.shape[1] == theta.shape[0]), f\"X.shape[1] != theta.shape[0] for shapes: {X.shape} of X, and {theta.shape} of theta\"\n",
    "    \n",
    "    m = X.shape[0]\n",
    "    \n",
    "    #loss_partial_theta = X.dot(theta) # h_theta(X) = X • theta\n",
    "    #loss_partial_theta = loss_partial_theta - y # h_theta(X) - y\n",
    "    #loss_partial_theta = X.T.dot(loss_partial_theta) # X_transposed • (h_theta(X) - y)\n",
    "    #loss_partial_theta = (1 / m) * loss_partial_theta\n",
    "    \n",
    "    # gradient for every theta (an array with each j-th element being the partial derivative of J with respect to theta_j)\n",
    "    return (1 / m) * np.dot(X.T, X.dot(theta) - y)"
   ]
  },
  {
   "cell_type": "markdown",
   "metadata": {},
   "source": [
    "### Gradient descent: \n",
    "Given the learning rate $\\alpha$:\n",
    "\n",
    "**repeat {** $\\theta_j := \\theta_j - \\alpha \\dfrac{\\partial J(\\theta)}{\\partial \\theta_j}$ \n",
    "**}** (simultaneously update for $j = 0, 1, ..., n$)\n",
    "\n",
    "If we consider a matrix $\\mathbb{X}$, with each row $i$ equal to $x^{(i)}$ transposed ($1 \\leq i \\leq m$), we have:\n",
    "$\\theta := \\theta - \\alpha (\\,\\frac{1}{m} \\mathbb{X}^T (\\mathbb{X} \\theta - y)\\,)$"
   ]
  },
  {
   "cell_type": "code",
   "execution_count": 245,
   "metadata": {},
   "outputs": [],
   "source": [
    "np.random.seed(RANDOM_SEED) # use for reproducibility"
   ]
  },
  {
   "cell_type": "markdown",
   "metadata": {},
   "source": [
    "### 6.1. Perform one epoch of gradient descent:"
   ]
  },
  {
   "cell_type": "code",
   "execution_count": 246,
   "metadata": {},
   "outputs": [],
   "source": [
    "''' Returns a (n+1) x 1 array with the updated values for each parameter theta_j. \n",
    "\n",
    "    Assumes that 'X' is a matrix with shape=(n_examples, n_features), with a first column of 1's, and that\n",
    "    'y' is an array of shape=(n_examples, 1) with the corresponding target values for each row of 'X'.\n",
    "    \n",
    "    n_examples = m\n",
    "    n_features = n+1 (x_0 = 1 for every row i in [1, m], i.e. X[i, 0] = 1)\n",
    "'''\n",
    "def stochastic_GD_step(theta, X, y, learning_rate):\n",
    "    X, y = shuffled_X_y(X, y, seed=RANDOM_SEED)\n",
    "    for sample_X, sample_y in zip(X, y):\n",
    "        theta_grad = eval_gradient(theta, sample_X.reshape(1, -1), sample_y)\n",
    "        theta = theta - learning_rate * theta_grad\n",
    "    return theta"
   ]
  },
  {
   "cell_type": "code",
   "execution_count": 247,
   "metadata": {},
   "outputs": [],
   "source": [
    "def shuffled_X_y(X, y, seed):\n",
    "    assert(X.shape[0] == y.shape[0]), f\"X.shape[0] != y.shape[0] for shapes: {X.shape} of X, and {y.shape} of y\"\n",
    "    m = y.shape[0]\n",
    "    p = np.random.permutation(m)\n",
    "    return X[p], y[p]"
   ]
  },
  {
   "cell_type": "code",
   "execution_count": 248,
   "metadata": {},
   "outputs": [],
   "source": [
    "''' Returns a (n+1) x 1 array with the updated values for each parameter theta_j. \n",
    "\n",
    "    If batch_size is specified, acts as a Mini Batch GD, otherwise, it works like Vanilla GD.\n",
    "\n",
    "    Assumes that 'X' is a matrix with shape=(n_examples, n_features), with a first column of 1's, and that\n",
    "    'y' is an array of shape=(n_examples, 1) with the corresponding target values for each row of 'X'.\n",
    "    \n",
    "    n_examples = m\n",
    "    n_features = n+1 (x_0 = 1 for every row i in [1, m], i.e. X[i, 0] = 1)\n",
    "'''\n",
    "def batch_GD_step(theta, X, y, learning_rate, batch_size=None):\n",
    "    if not batch_size:\n",
    "        # vanilla\n",
    "        theta_grad = eval_gradient(theta, X, y)\n",
    "        theta = theta - learning_rate * theta_grad\n",
    "    else:\n",
    "        # mini batch\n",
    "        X, y = shuffled_X_y(X, y, seed=RANDOM_SEED)\n",
    "        for batch_X, batch_y in get_batches(X, y, batch_size):\n",
    "            theta_grad = eval_gradient(theta, batch_X, batch_y)\n",
    "            theta = theta - learning_rate * theta_grad\n",
    "    return theta"
   ]
  },
  {
   "cell_type": "code",
   "execution_count": 249,
   "metadata": {},
   "outputs": [],
   "source": [
    "def get_batches(X, y, batch_size):\n",
    "    assert(X.shape[0] == y.shape[0]), f\"X.shape[0] != y.shape[0] for shapes: {X.shape} of X, and {y.shape} of y\"\n",
    "    m = y.shape[0]\n",
    "    n_of_batches = m // batch_size\n",
    "    try:\n",
    "        return zip(np.split(X, n_of_batches), np.split(y, n_of_batches))\n",
    "    except:\n",
    "        warnings.warn(f\"batch_size={batch_size} does not result in an equal division for shapes: \" +\n",
    "                      f\"{X.shape} of X, and {y.shape} of y. The last batch will have size {m % batch_size}\")\n",
    "        return zip(np.array_split(X, n_of_batches), np.array_split(y, n_of_batches))"
   ]
  },
  {
   "cell_type": "markdown",
   "metadata": {},
   "source": [
    "### 6.2. Run gradient descent for a specified number of epochs:"
   ]
  },
  {
   "cell_type": "code",
   "execution_count": 250,
   "metadata": {},
   "outputs": [],
   "source": [
    "def __gradient_descent(theta, train_X_y, validation_X_y, learning_rate, n_epochs, \n",
    "                       GD_step_func, batch_size_kwarg_if_mini_batch=None):\n",
    "    if batch_size_kwarg_if_mini_batch == None:\n",
    "        batch_size_kwarg_if_mini_batch = {}\n",
    "        \n",
    "    X, y = train_X_y\n",
    "    val_X, val_y = validation_X_y\n",
    "    \n",
    "    loss = loss_function(theta, X, y)\n",
    "    val_loss = loss_function(theta, val_X, val_y)\n",
    "    \n",
    "    # stores the best values for minimizing J(theta) on the validation set\n",
    "    best_params = theta.copy()\n",
    "    best_val_loss = val_loss\n",
    "    \n",
    "    # save the loss values for plotting\n",
    "    plot_dict = { \n",
    "        \"best_val_loss\": best_val_loss, \n",
    "        \"best_val_loss_epoch\": 0, \n",
    "        \"loss\": [loss], # training set\n",
    "        \"val_loss\": [val_loss] # validation set\n",
    "    }\n",
    "    \n",
    "    for epoch in range(n_epochs):\n",
    "        theta = GD_step_func(theta, X, y, learning_rate, **batch_size_kwarg_if_mini_batch)\n",
    "    \n",
    "        loss = loss_function(theta, X, y)\n",
    "        plot_dict[\"loss\"].append(loss) # training set\n",
    "        \n",
    "        val_loss = loss_function(theta, val_X, val_y)\n",
    "        plot_dict[\"val_loss\"].append(val_loss) # validation set\n",
    "        \n",
    "        # update the best loss and store the current parameters if val_loss < best_val_loss\n",
    "        if val_loss < best_val_loss:\n",
    "            best_val_loss = val_loss\n",
    "            best_params = theta.copy()\n",
    "            plot_dict[\"best_val_loss_epoch\"] = epoch + 1\n",
    "        \n",
    "        print(f\"({epoch + 1} / {n_epochs}) training: {loss:.4f} | validation: {val_loss:.4f}\", end='\\r')\n",
    "        \n",
    "    plot_dict[\"best_val_loss\"] = best_val_loss\n",
    "    return best_params, plot_dict"
   ]
  },
  {
   "cell_type": "markdown",
   "metadata": {},
   "source": [
    "### 6.3. Compute $\\mathbb{X}$ and $y$\n",
    "\n",
    "Let's add our datasets' features to $\\mathbb{X}$ (plus $x_0 = 1$) and it's target values to $y$, so we can train our model."
   ]
  },
  {
   "cell_type": "code",
   "execution_count": 251,
   "metadata": {},
   "outputs": [],
   "source": [
    "# NOTE: assumes target values are in the last column of 'dataset'\n",
    "def split_X_y(dataset):\n",
    "    dataset = dataset.to_numpy(copy=True)\n",
    "    m = dataset.shape[0] # number of examples\n",
    "    X = np.c_[np.ones(shape=(m, 1)), dataset[:, :-1]] # add a column of x_0's equal to 1\n",
    "    y = dataset[:, -1:]\n",
    "    return X, y"
   ]
  },
  {
   "cell_type": "code",
   "execution_count": 252,
   "metadata": {},
   "outputs": [],
   "source": [
    "if train_data.columns[-1] != 'traffic_volume':\n",
    "    print(\"'traffic_volume' should be the last column on the training set!\")\n",
    "if validation_data.columns[-1] != 'traffic_volume':\n",
    "    print(\"'traffic_volume' should be the last column on the validation set!\")\n",
    "if test_data.columns[-1] != 'traffic_volume':\n",
    "    print(\"'traffic_volume' should be the last column on the test set!\")"
   ]
  },
  {
   "cell_type": "code",
   "execution_count": 253,
   "metadata": {},
   "outputs": [],
   "source": [
    "train_X_y = split_X_y(train_data)\n",
    "validation_X_y = split_X_y(validation_data)"
   ]
  },
  {
   "cell_type": "code",
   "execution_count": 254,
   "metadata": {},
   "outputs": [],
   "source": [
    "# # check if the values are correct\n",
    "# X, y = train_X_y\n",
    "# for i in range(4):\n",
    "#     print(f\"dataset: {train_data.iloc[i].values}\\n\") # should be equal to np.append(X[i, 1:], y[i])\n",
    "#     print(f\"check:   {np.append(X[i, 1:], y[i])}\\n\")\n",
    "#     #print(f\"X: {X[i]}\\n\")\n",
    "#     #print(f\"y: {y[i]}\\n\\n\")"
   ]
  },
  {
   "cell_type": "markdown",
   "metadata": {},
   "source": [
    "### 6.4. Run our implementation"
   ]
  },
  {
   "cell_type": "code",
   "execution_count": 255,
   "metadata": {},
   "outputs": [],
   "source": [
    "''' Returns the initial theta (n+1) x 1 array. '''\n",
    "def init_params(n_features):\n",
    "    return np.zeros(shape=(n_features, 1))"
   ]
  },
  {
   "cell_type": "code",
   "execution_count": 256,
   "metadata": {},
   "outputs": [],
   "source": [
    "def train(params, train_X_y, validation_X_y, learning_rate, n_epochs, batch_size=None, GD_flavor=\"vanilla\"):\n",
    "    if GD_flavor == \"vanilla\":        \n",
    "        best_params, plot_dict = __gradient_descent(params, train_X_y, validation_X_y, learning_rate, n_epochs, \n",
    "                                                    GD_step_func=batch_GD_step)\n",
    "\n",
    "    elif GD_flavor == \"mini batch\":\n",
    "        if batch_size == None:\n",
    "            warnings.warn(\"You should specify batch_size when using GD_flavor='mini batch'.\")\n",
    "        best_params, plot_dict = __gradient_descent(params, train_X_y, validation_X_y, learning_rate, n_epochs, \n",
    "                                                    GD_step_func=batch_GD_step, \n",
    "                                                    batch_size_kwarg_if_mini_batch={ \"batch_size\": batch_size })\n",
    "        plot_dict[\"batch_size\"] = batch_size\n",
    "\n",
    "    elif GD_flavor == \"stochastic\":\n",
    "        best_params, plot_dict = __gradient_descent(params, train_X_y, validation_X_y, learning_rate, n_epochs, \n",
    "                                                    GD_step_func=stochastic_GD_step)\n",
    "\n",
    "    else:\n",
    "        raise ValueError(\"GD_flavor must be one of the following values: 'vanilla', 'stochastic', or 'mini batch'.\")\n",
    "        \n",
    "    plot_dict[\"learning_rate\"] = learning_rate\n",
    "    plot_dict[\"n_epochs\"]      = n_epochs\n",
    "    plot_dict[\"flavor\"]        = GD_flavor\n",
    "    \n",
    "    return best_params, plot_dict"
   ]
  },
  {
   "cell_type": "code",
   "execution_count": 257,
   "metadata": {},
   "outputs": [
    {
     "name": "stdout",
     "output_type": "stream",
     "text": [
      "Training set:\n",
      "n_features: 18\n",
      "n_examples: 33735\n",
      "\n",
      "Validation set:\n",
      "val_n_features: 18\n",
      "val_n_examples: 7229\n"
     ]
    }
   ],
   "source": [
    "X, y = train_X_y\n",
    "n_examples, n_features = X.shape # m x (n+1)\n",
    "print(\"Training set:\")\n",
    "print(f\"n_features: {n_features}\")\n",
    "print(f\"n_examples: {n_examples}\")\n",
    "\n",
    "val_X, val_y = validation_X_y\n",
    "val_n_examples, val_n_features = val_X.shape # m x (n+1)\n",
    "print(\"\\nValidation set:\")\n",
    "print(f\"val_n_features: {val_n_features}\")\n",
    "print(f\"val_n_examples: {val_n_examples}\")"
   ]
  },
  {
   "cell_type": "code",
   "execution_count": 258,
   "metadata": {},
   "outputs": [],
   "source": [
    "def run_GD(learning_rate, n_epochs, GD_flavor, batch_size=None, \n",
    "           __params=None, __train_X_y=train_X_y, __validation_X_y=validation_X_y):\n",
    "    if __params == None:\n",
    "        assert(__train_X_y[0].shape[1] == __validation_X_y[0].shape[1])\n",
    "        __n_features = __train_X_y[0].shape[1]\n",
    "        __params = init_params(__n_features)\n",
    "        \n",
    "    best_params, plot_dict = train(__params, \n",
    "                                   __train_X_y, __validation_X_y, \n",
    "                                   learning_rate, n_epochs,  \n",
    "                                   batch_size, GD_flavor)\n",
    "    \n",
    "    print(\"\\n\\nBest validation loss: {best_val_loss:.6f} (at epoch {best_val_loss_epoch})\".format(\n",
    "        best_val_loss=plot_dict['best_val_loss'], \n",
    "        best_val_loss_epoch=plot_dict['best_val_loss_epoch']))\n",
    "    \n",
    "    return best_params, plot_dict"
   ]
  },
  {
   "cell_type": "code",
   "execution_count": 259,
   "metadata": {},
   "outputs": [],
   "source": [
    "def plot_GD_run(params, plot_dict):\n",
    "    plot_title = \"{flavor} GD\\n({n_epochs} epochs with α = {learning_rate}\".format(\n",
    "        flavor=plot_dict['flavor'], \n",
    "        n_epochs=plot_dict['n_epochs'], \n",
    "        learning_rate=plot_dict['learning_rate'])\n",
    "    plot_title += \")\" if 'batch_size' not in plot_dict else \" and {batch_size} batch size)\".format(\n",
    "        batch_size=plot_dict['batch_size'])\n",
    "\n",
    "    # leave only \"loss\" and \"val_loss\" for plotting\n",
    "    loss_data = pd.DataFrame({k: v for k, v in plot_dict.items() if (k == \"loss\" or k == \"val_loss\")})\n",
    "\n",
    "    lineplot = sns.lineplot(data=loss_data)\n",
    "    lineplot.set_title(plot_title)\n",
    "    lineplot.set_xlabel(\"epoch\")\n",
    "    lineplot.set_ylabel(\"J(θ)\")"
   ]
  },
  {
   "cell_type": "markdown",
   "metadata": {},
   "source": [
    "### 6.4.1 Learning rate of 0.0005"
   ]
  },
  {
   "cell_type": "markdown",
   "metadata": {},
   "source": [
    "#### Vanilla Gradient Descent"
   ]
  },
  {
   "cell_type": "code",
   "execution_count": 260,
   "metadata": {},
   "outputs": [
    {
     "name": "stdout",
     "output_type": "stream",
     "text": [
      "(1 / 10000) training: 0.4999 | validation: 0.4933\r",
      "(2 / 10000) training: 0.4998 | validation: 0.4932\r",
      "(3 / 10000) training: 0.4997 | validation: 0.4931\r",
      "(4 / 10000) training: 0.4996 | validation: 0.4930\r",
      "(5 / 10000) training: 0.4995 | validation: 0.4930\r",
      "(6 / 10000) training: 0.4995 | validation: 0.4929\r",
      "(7 / 10000) training: 0.4994 | validation: 0.4928\r",
      "(8 / 10000) training: 0.4993 | validation: 0.4927\r",
      "(9 / 10000) training: 0.4992 | validation: 0.4926\r",
      "(10 / 10000) training: 0.4991 | validation: 0.4925\r",
      "(11 / 10000) training: 0.4990 | validation: 0.4925\r",
      "(12 / 10000) training: 0.4989 | validation: 0.4924\r",
      "(13 / 10000) training: 0.4989 | validation: 0.4923\r",
      "(14 / 10000) training: 0.4988 | validation: 0.4922\r",
      "(15 / 10000) training: 0.4987 | validation: 0.4921\r",
      "(16 / 10000) training: 0.4986 | validation: 0.4921\r",
      "(17 / 10000) training: 0.4985 | validation: 0.4920\r",
      "(18 / 10000) training: 0.4984 | validation: 0.4919\r",
      "(19 / 10000) training: 0.4983 | validation: 0.4918\r",
      "(20 / 10000) training: 0.4982 | validation: 0.4917\r",
      "(21 / 10000) training: 0.4982 | validation: 0.4916\r",
      "(22 / 10000) training: 0.4981 | validation: 0.4916\r",
      "(23 / 10000) training: 0.4980 | validation: 0.4915\r",
      "(24 / 10000) training: 0.4979 | validation: 0.4914\r",
      "(25 / 10000) training: 0.4978 | validation: 0.4913\r",
      "(26 / 10000) training: 0.4977 | validation: 0.4912\r",
      "(27 / 10000) training: 0.4977 | validation: 0.4912\r",
      "(28 / 10000) training: 0.4976 | validation: 0.4911\r",
      "(29 / 10000) training: 0.4975 | validation: 0.4910\r",
      "(30 / 10000) training: 0.4974 | validation: 0.4909\r",
      "(31 / 10000) training: 0.4973 | validation: 0.4908\r",
      "(32 / 10000) training: 0.4972 | validation: 0.4908\r",
      "(33 / 10000) training: 0.4971 | validation: 0.4907\r",
      "(34 / 10000) training: 0.4971 | validation: 0.4906\r",
      "(35 / 10000) training: 0.4970 | validation: 0.4905\r",
      "(36 / 10000) training: 0.4969 | validation: 0.4904\r",
      "(37 / 10000) training: 0.4968 | validation: 0.4904\r",
      "(38 / 10000) training: 0.4967 | validation: 0.4903\r",
      "(39 / 10000) training: 0.4966 | validation: 0.4902\r",
      "(40 / 10000) training: 0.4966 | validation: 0.4901\r",
      "(41 / 10000) training: 0.4965 | validation: 0.4900\r",
      "(42 / 10000) training: 0.4964 | validation: 0.4900\r",
      "(43 / 10000) training: 0.4963 | validation: 0.4899\r",
      "(44 / 10000) training: 0.4962 | validation: 0.4898\r",
      "(45 / 10000) training: 0.4961 | validation: 0.4897\r",
      "(46 / 10000) training: 0.4960 | validation: 0.4897\r",
      "(47 / 10000) training: 0.4960 | validation: 0.4896\r",
      "(48 / 10000) training: 0.4959 | validation: 0.4895\r",
      "(49 / 10000) training: 0.4958 | validation: 0.4894\r",
      "(50 / 10000) training: 0.4957 | validation: 0.4893\r",
      "(51 / 10000) training: 0.4956 | validation: 0.4893\r",
      "(52 / 10000) training: 0.4955 | validation: 0.4892\r",
      "(53 / 10000) training: 0.4955 | validation: 0.4891\r",
      "(54 / 10000) training: 0.4954 | validation: 0.4890\r",
      "(55 / 10000) training: 0.4953 | validation: 0.4889\r",
      "(56 / 10000) training: 0.4952 | validation: 0.4889\r",
      "(57 / 10000) training: 0.4951 | validation: 0.4888\r",
      "(58 / 10000) training: 0.4951 | validation: 0.4887\r",
      "(59 / 10000) training: 0.4950 | validation: 0.4886\r",
      "(60 / 10000) training: 0.4949 | validation: 0.4886\r",
      "(61 / 10000) training: 0.4948 | validation: 0.4885\r",
      "(62 / 10000) training: 0.4947 | validation: 0.4884\r",
      "(63 / 10000) training: 0.4946 | validation: 0.4883\r",
      "(64 / 10000) training: 0.4946 | validation: 0.4882\r",
      "(65 / 10000) training: 0.4945 | validation: 0.4882\r",
      "(66 / 10000) training: 0.4944 | validation: 0.4881\r",
      "(67 / 10000) training: 0.4943 | validation: 0.4880\r",
      "(68 / 10000) training: 0.4942 | validation: 0.4879\r",
      "(69 / 10000) training: 0.4942 | validation: 0.4879\r",
      "(70 / 10000) training: 0.4941 | validation: 0.4878\r",
      "(71 / 10000) training: 0.4940 | validation: 0.4877\r",
      "(72 / 10000) training: 0.4939 | validation: 0.4876\r",
      "(73 / 10000) training: 0.4938 | validation: 0.4876\r",
      "(74 / 10000) training: 0.4937 | validation: 0.4875\r",
      "(75 / 10000) training: 0.4937 | validation: 0.4874\r",
      "(76 / 10000) training: 0.4936 | validation: 0.4873\r",
      "(77 / 10000) training: 0.4935 | validation: 0.4873\r",
      "(78 / 10000) training: 0.4934 | validation: 0.4872\r",
      "(79 / 10000) training: 0.4933 | validation: 0.4871\r",
      "(80 / 10000) training: 0.4933 | validation: 0.4870\r",
      "(81 / 10000) training: 0.4932 | validation: 0.4869\r",
      "(82 / 10000) training: 0.4931 | validation: 0.4869\r",
      "(83 / 10000) training: 0.4930 | validation: 0.4868\r",
      "(84 / 10000) training: 0.4929 | validation: 0.4867\r",
      "(85 / 10000) training: 0.4929 | validation: 0.4866\r",
      "(86 / 10000) training: 0.4928 | validation: 0.4866\r",
      "(87 / 10000) training: 0.4927 | validation: 0.4865\r",
      "(88 / 10000) training: 0.4926 | validation: 0.4864\r",
      "(89 / 10000) training: 0.4925 | validation: 0.4863\r",
      "(90 / 10000) training: 0.4925 | validation: 0.4863\r",
      "(91 / 10000) training: 0.4924 | validation: 0.4862\r",
      "(92 / 10000) training: 0.4923 | validation: 0.4861\r",
      "(93 / 10000) training: 0.4922 | validation: 0.4860\r",
      "(94 / 10000) training: 0.4921 | validation: 0.4860\r",
      "(95 / 10000) training: 0.4921 | validation: 0.4859\r",
      "(96 / 10000) training: 0.4920 | validation: 0.4858\r",
      "(97 / 10000) training: 0.4919 | validation: 0.4857\r",
      "(98 / 10000) training: 0.4918 | validation: 0.4857\r",
      "(99 / 10000) training: 0.4917 | validation: 0.4856\r",
      "(100 / 10000) training: 0.4917 | validation: 0.4855\r",
      "(101 / 10000) training: 0.4916 | validation: 0.4854\r",
      "(102 / 10000) training: 0.4915 | validation: 0.4854\r",
      "(103 / 10000) training: 0.4914 | validation: 0.4853\r",
      "(104 / 10000) training: 0.4914 | validation: 0.4852\r",
      "(105 / 10000) training: 0.4913 | validation: 0.4852\r",
      "(106 / 10000) training: 0.4912 | validation: 0.4851\r",
      "(107 / 10000) training: 0.4911 | validation: 0.4850\r",
      "(108 / 10000) training: 0.4910 | validation: 0.4849\r",
      "(109 / 10000) training: 0.4910 | validation: 0.4849\r",
      "(110 / 10000) training: 0.4909 | validation: 0.4848\r",
      "(111 / 10000) training: 0.4908 | validation: 0.4847\r",
      "(112 / 10000) training: 0.4907 | validation: 0.4846\r",
      "(113 / 10000) training: 0.4907 | validation: 0.4846\r",
      "(114 / 10000) training: 0.4906 | validation: 0.4845\r",
      "(115 / 10000) training: 0.4905 | validation: 0.4844\r",
      "(116 / 10000) training: 0.4904 | validation: 0.4843\r",
      "(117 / 10000) training: 0.4903 | validation: 0.4843\r",
      "(118 / 10000) training: 0.4903 | validation: 0.4842\r",
      "(119 / 10000) training: 0.4902 | validation: 0.4841\r",
      "(120 / 10000) training: 0.4901 | validation: 0.4841\r",
      "(121 / 10000) training: 0.4900 | validation: 0.4840\r",
      "(122 / 10000) training: 0.4900 | validation: 0.4839\r",
      "(123 / 10000) training: 0.4899 | validation: 0.4838\r",
      "(124 / 10000) training: 0.4898 | validation: 0.4838\r",
      "(125 / 10000) training: 0.4897 | validation: 0.4837\r",
      "(126 / 10000) training: 0.4896 | validation: 0.4836\r",
      "(127 / 10000) training: 0.4896 | validation: 0.4835\r",
      "(128 / 10000) training: 0.4895 | validation: 0.4835\r",
      "(129 / 10000) training: 0.4894 | validation: 0.4834\r",
      "(130 / 10000) training: 0.4893 | validation: 0.4833\r",
      "(131 / 10000) training: 0.4893 | validation: 0.4833\r",
      "(132 / 10000) training: 0.4892 | validation: 0.4832\r",
      "(133 / 10000) training: 0.4891 | validation: 0.4831\r",
      "(134 / 10000) training: 0.4890 | validation: 0.4830\r",
      "(135 / 10000) training: 0.4890 | validation: 0.4830\r",
      "(136 / 10000) training: 0.4889 | validation: 0.4829\r",
      "(137 / 10000) training: 0.4888 | validation: 0.4828\r",
      "(138 / 10000) training: 0.4887 | validation: 0.4828\r",
      "(139 / 10000) training: 0.4887 | validation: 0.4827\r",
      "(140 / 10000) training: 0.4886 | validation: 0.4826\r",
      "(141 / 10000) training: 0.4885 | validation: 0.4825\r",
      "(142 / 10000) training: 0.4884 | validation: 0.4825\r",
      "(143 / 10000) training: 0.4884 | validation: 0.4824\r",
      "(144 / 10000) training: 0.4883 | validation: 0.4823\r",
      "(145 / 10000) training: 0.4882 | validation: 0.4823\r",
      "(146 / 10000) training: 0.4881 | validation: 0.4822\r",
      "(147 / 10000) training: 0.4881 | validation: 0.4821\r",
      "(148 / 10000) training: 0.4880 | validation: 0.4821\r",
      "(149 / 10000) training: 0.4879 | validation: 0.4820\r",
      "(150 / 10000) training: 0.4878 | validation: 0.4819\r",
      "(151 / 10000) training: 0.4878 | validation: 0.4818\r",
      "(152 / 10000) training: 0.4877 | validation: 0.4818\r",
      "(153 / 10000) training: 0.4876 | validation: 0.4817\r",
      "(154 / 10000) training: 0.4875 | validation: 0.4816\r",
      "(155 / 10000) training: 0.4875 | validation: 0.4816\r",
      "(156 / 10000) training: 0.4874 | validation: 0.4815\r",
      "(157 / 10000) training: 0.4873 | validation: 0.4814\r",
      "(158 / 10000) training: 0.4872 | validation: 0.4814\r",
      "(159 / 10000) training: 0.4872 | validation: 0.4813\r",
      "(160 / 10000) training: 0.4871 | validation: 0.4812\r",
      "(161 / 10000) training: 0.4870 | validation: 0.4811\r",
      "(162 / 10000) training: 0.4869 | validation: 0.4811\r",
      "(163 / 10000) training: 0.4869 | validation: 0.4810\r",
      "(164 / 10000) training: 0.4868 | validation: 0.4809\r",
      "(165 / 10000) training: 0.4867 | validation: 0.4809\r",
      "(166 / 10000) training: 0.4866 | validation: 0.4808\r",
      "(167 / 10000) training: 0.4866 | validation: 0.4807\r",
      "(168 / 10000) training: 0.4865 | validation: 0.4807\r",
      "(169 / 10000) training: 0.4864 | validation: 0.4806\r",
      "(170 / 10000) training: 0.4864 | validation: 0.4805"
     ]
    },
    {
     "name": "stdout",
     "output_type": "stream",
     "text": [
      "(10000 / 10000) training: 0.4162 | validation: 0.4190\n",
      "\n",
      "Best validation loss: 0.418970 (at epoch 10000)\n"
     ]
    }
   ],
   "source": [
    "vanilla_run = run_GD(learning_rate=0.0005, n_epochs=10000, GD_flavor=\"vanilla\")"
   ]
  },
  {
   "cell_type": "code",
   "execution_count": 261,
   "metadata": {},
   "outputs": [
    {
     "data": {
      "image/png": "[encoded data removed]",
      "text/plain": [
       "<Figure size 432x288 with 1 Axes>"
      ]
     },
     "metadata": {},
     "output_type": "display_data"
    }
   ],
   "source": [
    "plot_GD_run(*vanilla_run)"
   ]
  },
  {
   "cell_type": "markdown",
   "metadata": {},
   "source": [
    "#### Mini Batch Gradient Descent"
   ]
  },
  {
   "cell_type": "code",
   "execution_count": 262,
   "metadata": {},
   "outputs": [
    {
     "name": "stdout",
     "output_type": "stream",
     "text": [
      "(1000 / 1000) training: 0.4136 | validation: 0.4173\n",
      "\n",
      "Best validation loss: 0.417261 (at epoch 998)\n"
     ]
    }
   ],
   "source": [
    "mini_batch_run = run_GD(learning_rate=0.0005, n_epochs=1000, GD_flavor=\"mini batch\", batch_size=173) # 195 batches"
   ]
  },
  {
   "cell_type": "code",
   "execution_count": 263,
   "metadata": {
    "scrolled": true
   },
   "outputs": [
    {
     "data": {
      "image/png": "[encoded data removed]",
      "text/plain": [
       "<Figure size 432x288 with 1 Axes>"
      ]
     },
     "metadata": {},
     "output_type": "display_data"
    }
   ],
   "source": [
    "plot_GD_run(*mini_batch_run)"
   ]
  },
  {
   "cell_type": "markdown",
   "metadata": {},
   "source": [
    "#### Stochastic Gradient Descent"
   ]
  },
  {
   "cell_type": "code",
   "execution_count": 264,
   "metadata": {},
   "outputs": [
    {
     "name": "stdout",
     "output_type": "stream",
     "text": [
      "(100 / 100) training: 0.4139 | validation: 0.4175\n",
      "\n",
      "Best validation loss: 0.416476 (at epoch 76)\n"
     ]
    }
   ],
   "source": [
    "stochastic_run = run_GD(learning_rate=0.0005, n_epochs=100, GD_flavor=\"stochastic\")"
   ]
  },
  {
   "cell_type": "code",
   "execution_count": 265,
   "metadata": {
    "scrolled": true
   },
   "outputs": [
    {
     "data": {
      "image/png": "[encoded data removed]",
      "text/plain": [
       "<Figure size 432x288 with 1 Axes>"
      ]
     },
     "metadata": {},
     "output_type": "display_data"
    }
   ],
   "source": [
    "plot_GD_run(*stochastic_run)"
   ]
  },
  {
   "cell_type": "markdown",
   "metadata": {},
   "source": [
    "### 6.4.3 Verify the $R^2$ score"
   ]
  },
  {
   "cell_type": "code",
   "execution_count": 266,
   "metadata": {},
   "outputs": [],
   "source": [
    "def r2_score(y_true, y_pred):\n",
    "    y_true_mean = y_true.mean()\n",
    "    # residual sum of squares\n",
    "    u = ((y_true - y_pred) ** 2).sum()\n",
    "    # total sum of squares\n",
    "    v = ((y_true - y_true_mean) ** 2).sum()\n",
    "    return (1 - u/v) # coefficient of determination R^2 of the prediction"
   ]
  },
  {
   "cell_type": "code",
   "execution_count": 267,
   "metadata": {},
   "outputs": [],
   "source": [
    "def print_r2_score(GD_run, X, y):\n",
    "    best_params, plot_dict = GD_run\n",
    "    y_pred = X.dot(best_params) # h(theta)\n",
    "    r2 = r2_score(y, y_pred)\n",
    "    print(f\"{plot_dict['flavor']} R^2 score: {r2}\")"
   ]
  },
  {
   "cell_type": "code",
   "execution_count": 268,
   "metadata": {},
   "outputs": [
    {
     "name": "stdout",
     "output_type": "stream",
     "text": [
      "vanilla R^2 score: 0.15006417777615322\n",
      "mini batch R^2 score: 0.15353121821055937\n",
      "stochastic R^2 score: 0.15512339581418855\n"
     ]
    }
   ],
   "source": [
    "# R^2 score on the validation set\n",
    "print_r2_score(vanilla_run, val_X, val_y)\n",
    "print_r2_score(mini_batch_run, val_X, val_y)\n",
    "print_r2_score(stochastic_run, val_X, val_y)"
   ]
  },
  {
   "cell_type": "markdown",
   "metadata": {},
   "source": [
    "### 6.4.2 Higher learning rates"
   ]
  },
  {
   "cell_type": "markdown",
   "metadata": {},
   "source": [
    "#### Vanilla Gradient Descent"
   ]
  },
  {
   "cell_type": "code",
   "execution_count": 269,
   "metadata": {
    "scrolled": false
   },
   "outputs": [
    {
     "name": "stdout",
     "output_type": "stream",
     "text": [
      "(1 / 10000) training: 0.4187 | validation: 0.4217\r",
      "(2 / 10000) training: 0.4171 | validation: 0.4193\r",
      "(3 / 10000) training: 0.4166 | validation: 0.4193\r",
      "(4 / 10000) training: 0.4163 | validation: 0.4191\r",
      "(5 / 10000) training: 0.4161 | validation: 0.4190\r",
      "(6 / 10000) training: 0.4160 | validation: 0.4189\r",
      "(7 / 10000) training: 0.4158 | validation: 0.4189\r",
      "(8 / 10000) training: 0.4157 | validation: 0.4188\r",
      "(9 / 10000) training: 0.4156 | validation: 0.4188\r",
      "(10 / 10000) training: 0.4155 | validation: 0.4187\r",
      "(11 / 10000) training: 0.4154 | validation: 0.4187\r",
      "(12 / 10000) training: 0.4154 | validation: 0.4186\r",
      "(13 / 10000) training: 0.4153 | validation: 0.4186\r",
      "(14 / 10000) training: 0.4152 | validation: 0.4185\r",
      "(15 / 10000) training: 0.4152 | validation: 0.4185\r",
      "(16 / 10000) training: 0.4151 | validation: 0.4185\r",
      "(17 / 10000) training: 0.4150 | validation: 0.4184\r",
      "(18 / 10000) training: 0.4150 | validation: 0.4184\r",
      "(19 / 10000) training: 0.4149 | validation: 0.4183\r",
      "(20 / 10000) training: 0.4149 | validation: 0.4183\r",
      "(21 / 10000) training: 0.4148 | validation: 0.4183\r",
      "(22 / 10000) training: 0.4148 | validation: 0.4182\r",
      "(23 / 10000) training: 0.4147 | validation: 0.4182\r",
      "(24 / 10000) training: 0.4147 | validation: 0.4182\r",
      "(25 / 10000) training: 0.4146 | validation: 0.4181\r",
      "(26 / 10000) training: 0.4146 | validation: 0.4181\r",
      "(27 / 10000) training: 0.4145 | validation: 0.4181\r",
      "(28 / 10000) training: 0.4145 | validation: 0.4181\r",
      "(29 / 10000) training: 0.4145 | validation: 0.4180\r",
      "(30 / 10000) training: 0.4144 | validation: 0.4180\r",
      "(31 / 10000) training: 0.4144 | validation: 0.4180\r",
      "(32 / 10000) training: 0.4144 | validation: 0.4179\r",
      "(33 / 10000) training: 0.4143 | validation: 0.4179\r",
      "(34 / 10000) training: 0.4143 | validation: 0.4179\r",
      "(35 / 10000) training: 0.4143 | validation: 0.4179\r",
      "(36 / 10000) training: 0.4142 | validation: 0.4179\r",
      "(37 / 10000) training: 0.4142 | validation: 0.4178\r",
      "(38 / 10000) training: 0.4142 | validation: 0.4178\r",
      "(39 / 10000) training: 0.4142 | validation: 0.4178\r",
      "(40 / 10000) training: 0.4141 | validation: 0.4178\r",
      "(41 / 10000) training: 0.4141 | validation: 0.4178\r",
      "(42 / 10000) training: 0.4141 | validation: 0.4177\r",
      "(43 / 10000) training: 0.4141 | validation: 0.4177\r",
      "(44 / 10000) training: 0.4141 | validation: 0.4177\r",
      "(45 / 10000) training: 0.4140 | validation: 0.4177\r",
      "(46 / 10000) training: 0.4140 | validation: 0.4177\r",
      "(47 / 10000) training: 0.4140 | validation: 0.4177\r",
      "(48 / 10000) training: 0.4140 | validation: 0.4176\r",
      "(49 / 10000) training: 0.4140 | validation: 0.4176\r",
      "(50 / 10000) training: 0.4140 | validation: 0.4176\r",
      "(51 / 10000) training: 0.4139 | validation: 0.4176\r",
      "(52 / 10000) training: 0.4139 | validation: 0.4176\r",
      "(53 / 10000) training: 0.4139 | validation: 0.4176\r",
      "(54 / 10000) training: 0.4139 | validation: 0.4176\r",
      "(55 / 10000) training: 0.4139 | validation: 0.4175\r",
      "(56 / 10000) training: 0.4139 | validation: 0.4175\r",
      "(57 / 10000) training: 0.4139 | validation: 0.4175\r",
      "(58 / 10000) training: 0.4139 | validation: 0.4175\r",
      "(59 / 10000) training: 0.4138 | validation: 0.4175\r",
      "(60 / 10000) training: 0.4138 | validation: 0.4175\r",
      "(61 / 10000) training: 0.4138 | validation: 0.4175\r",
      "(62 / 10000) training: 0.4138 | validation: 0.4175\r",
      "(63 / 10000) training: 0.4138 | validation: 0.4175\r",
      "(64 / 10000) training: 0.4138 | validation: 0.4175\r",
      "(65 / 10000) training: 0.4138 | validation: 0.4174\r",
      "(66 / 10000) training: 0.4138 | validation: 0.4174\r",
      "(67 / 10000) training: 0.4138 | validation: 0.4174\r",
      "(68 / 10000) training: 0.4138 | validation: 0.4174\r",
      "(69 / 10000) training: 0.4138 | validation: 0.4174\r",
      "(70 / 10000) training: 0.4137 | validation: 0.4174\r",
      "(71 / 10000) training: 0.4137 | validation: 0.4174\r",
      "(72 / 10000) training: 0.4137 | validation: 0.4174\r",
      "(73 / 10000) training: 0.4137 | validation: 0.4174\r",
      "(74 / 10000) training: 0.4137 | validation: 0.4174\r",
      "(75 / 10000) training: 0.4137 | validation: 0.4174\r",
      "(76 / 10000) training: 0.4137 | validation: 0.4174\r",
      "(77 / 10000) training: 0.4137 | validation: 0.4174\r",
      "(78 / 10000) training: 0.4137 | validation: 0.4173\r",
      "(79 / 10000) training: 0.4137 | validation: 0.4173\r",
      "(80 / 10000) training: 0.4137 | validation: 0.4173\r",
      "(81 / 10000) training: 0.4137 | validation: 0.4173\r",
      "(82 / 10000) training: 0.4137 | validation: 0.4173\r",
      "(83 / 10000) training: 0.4137 | validation: 0.4173\r",
      "(84 / 10000) training: 0.4137 | validation: 0.4173\r",
      "(85 / 10000) training: 0.4137 | validation: 0.4173\r",
      "(86 / 10000) training: 0.4137 | validation: 0.4173\r",
      "(87 / 10000) training: 0.4137 | validation: 0.4173\r",
      "(88 / 10000) training: 0.4137 | validation: 0.4173\r",
      "(89 / 10000) training: 0.4137 | validation: 0.4173\r",
      "(90 / 10000) training: 0.4137 | validation: 0.4173\r",
      "(91 / 10000) training: 0.4136 | validation: 0.4173\r",
      "(92 / 10000) training: 0.4136 | validation: 0.4173\r",
      "(93 / 10000) training: 0.4136 | validation: 0.4173\r",
      "(94 / 10000) training: 0.4136 | validation: 0.4173\r",
      "(95 / 10000) training: 0.4136 | validation: 0.4173\r",
      "(96 / 10000) training: 0.4136 | validation: 0.4173\r",
      "(97 / 10000) training: 0.4136 | validation: 0.4173\r",
      "(98 / 10000) training: 0.4136 | validation: 0.4173\r",
      "(99 / 10000) training: 0.4136 | validation: 0.4173\r",
      "(100 / 10000) training: 0.4136 | validation: 0.4172\r",
      "(101 / 10000) training: 0.4136 | validation: 0.4172\r",
      "(102 / 10000) training: 0.4136 | validation: 0.4172\r",
      "(103 / 10000) training: 0.4136 | validation: 0.4172\r",
      "(104 / 10000) training: 0.4136 | validation: 0.4172\r",
      "(105 / 10000) training: 0.4136 | validation: 0.4172\r",
      "(106 / 10000) training: 0.4136 | validation: 0.4172\r",
      "(107 / 10000) training: 0.4136 | validation: 0.4172\r",
      "(108 / 10000) training: 0.4136 | validation: 0.4172\r",
      "(109 / 10000) training: 0.4136 | validation: 0.4172\r",
      "(110 / 10000) training: 0.4136 | validation: 0.4172\r",
      "(111 / 10000) training: 0.4136 | validation: 0.4172\r",
      "(112 / 10000) training: 0.4136 | validation: 0.4172\r",
      "(113 / 10000) training: 0.4136 | validation: 0.4172\r",
      "(114 / 10000) training: 0.4136 | validation: 0.4172\r",
      "(115 / 10000) training: 0.4136 | validation: 0.4172\r",
      "(116 / 10000) training: 0.4136 | validation: 0.4172\r",
      "(117 / 10000) training: 0.4136 | validation: 0.4172\r",
      "(118 / 10000) training: 0.4136 | validation: 0.4172\r",
      "(119 / 10000) training: 0.4136 | validation: 0.4172\r",
      "(120 / 10000) training: 0.4136 | validation: 0.4172\r",
      "(121 / 10000) training: 0.4136 | validation: 0.4172\r",
      "(122 / 10000) training: 0.4136 | validation: 0.4172\r",
      "(123 / 10000) training: 0.4136 | validation: 0.4172\r",
      "(124 / 10000) training: 0.4136 | validation: 0.4172\r",
      "(125 / 10000) training: 0.4136 | validation: 0.4172\r",
      "(126 / 10000) training: 0.4136 | validation: 0.4172\r",
      "(127 / 10000) training: 0.4136 | validation: 0.4172\r",
      "(128 / 10000) training: 0.4136 | validation: 0.4172\r",
      "(129 / 10000) training: 0.4136 | validation: 0.4172\r",
      "(130 / 10000) training: 0.4136 | validation: 0.4172\r",
      "(131 / 10000) training: 0.4136 | validation: 0.4172\r",
      "(132 / 10000) training: 0.4136 | validation: 0.4172\r",
      "(133 / 10000) training: 0.4136 | validation: 0.4172\r",
      "(134 / 10000) training: 0.4136 | validation: 0.4172\r",
      "(135 / 10000) training: 0.4136 | validation: 0.4172\r",
      "(136 / 10000) training: 0.4136 | validation: 0.4172\r",
      "(137 / 10000) training: 0.4136 | validation: 0.4172\r",
      "(138 / 10000) training: 0.4136 | validation: 0.4172\r",
      "(139 / 10000) training: 0.4136 | validation: 0.4172\r",
      "(140 / 10000) training: 0.4136 | validation: 0.4172\r",
      "(141 / 10000) training: 0.4136 | validation: 0.4172\r",
      "(142 / 10000) training: 0.4136 | validation: 0.4172\r",
      "(143 / 10000) training: 0.4136 | validation: 0.4172\r",
      "(144 / 10000) training: 0.4136 | validation: 0.4172\r",
      "(145 / 10000) training: 0.4136 | validation: 0.4172\r",
      "(146 / 10000) training: 0.4136 | validation: 0.4172\r",
      "(147 / 10000) training: 0.4136 | validation: 0.4172\r",
      "(148 / 10000) training: 0.4136 | validation: 0.4172\r",
      "(149 / 10000) training: 0.4136 | validation: 0.4171\r",
      "(150 / 10000) training: 0.4136 | validation: 0.4171\r",
      "(151 / 10000) training: 0.4136 | validation: 0.4171\r",
      "(152 / 10000) training: 0.4136 | validation: 0.4171\r",
      "(153 / 10000) training: 0.4136 | validation: 0.4171\r",
      "(154 / 10000) training: 0.4136 | validation: 0.4171\r",
      "(155 / 10000) training: 0.4136 | validation: 0.4171\r",
      "(156 / 10000) training: 0.4136 | validation: 0.4171\r",
      "(157 / 10000) training: 0.4136 | validation: 0.4171\r",
      "(158 / 10000) training: 0.4136 | validation: 0.4171\r",
      "(159 / 10000) training: 0.4136 | validation: 0.4171\r",
      "(160 / 10000) training: 0.4136 | validation: 0.4171\r",
      "(161 / 10000) training: 0.4136 | validation: 0.4171\r",
      "(162 / 10000) training: 0.4136 | validation: 0.4171\r",
      "(163 / 10000) training: 0.4136 | validation: 0.4171\r",
      "(164 / 10000) training: 0.4136 | validation: 0.4171\r",
      "(165 / 10000) training: 0.4136 | validation: 0.4171\r",
      "(166 / 10000) training: 0.4136 | validation: 0.4171\r",
      "(167 / 10000) training: 0.4136 | validation: 0.4171\r",
      "(168 / 10000) training: 0.4136 | validation: 0.4171\r",
      "(169 / 10000) training: 0.4136 | validation: 0.4171\r",
      "(170 / 10000) training: 0.4136 | validation: 0.4171\r",
      "(171 / 10000) training: 0.4136 | validation: 0.4171\r",
      "(172 / 10000) training: 0.4136 | validation: 0.4171\r",
      "(173 / 10000) training: 0.4136 | validation: 0.4171\r",
      "(174 / 10000) training: 0.4136 | validation: 0.4171\r",
      "(175 / 10000) training: 0.4136 | validation: 0.4171\r",
      "(176 / 10000) training: 0.4136 | validation: 0.4171\r",
      "(177 / 10000) training: 0.4136 | validation: 0.4171\r",
      "(178 / 10000) training: 0.4136 | validation: 0.4171\r",
      "(179 / 10000) training: 0.4136 | validation: 0.4171\r",
      "(180 / 10000) training: 0.4136 | validation: 0.4171\r",
      "(181 / 10000) training: 0.4136 | validation: 0.4171\r",
      "(182 / 10000) training: 0.4136 | validation: 0.4171\r",
      "(183 / 10000) training: 0.4136 | validation: 0.4171\r",
      "(184 / 10000) training: 0.4136 | validation: 0.4171\r",
      "(185 / 10000) training: 0.4136 | validation: 0.4171\r",
      "(186 / 10000) training: 0.4136 | validation: 0.4171\r",
      "(187 / 10000) training: 0.4136 | validation: 0.4171\r",
      "(188 / 10000) training: 0.4136 | validation: 0.4171\r",
      "(189 / 10000) training: 0.4136 | validation: 0.4171\r",
      "(190 / 10000) training: 0.4136 | validation: 0.4171\r",
      "(191 / 10000) training: 0.4136 | validation: 0.4171\r",
      "(192 / 10000) training: 0.4136 | validation: 0.4171\r",
      "(193 / 10000) training: 0.4136 | validation: 0.4171\r",
      "(194 / 10000) training: 0.4136 | validation: 0.4171\r",
      "(195 / 10000) training: 0.4136 | validation: 0.4171\r",
      "(196 / 10000) training: 0.4136 | validation: 0.4171\r",
      "(197 / 10000) training: 0.4136 | validation: 0.4171\r",
      "(198 / 10000) training: 0.4136 | validation: 0.4171\r",
      "(199 / 10000) training: 0.4136 | validation: 0.4171\r",
      "(200 / 10000) training: 0.4136 | validation: 0.4171\r",
      "(201 / 10000) training: 0.4136 | validation: 0.4171\r",
      "(202 / 10000) training: 0.4136 | validation: 0.4171"
     ]
    },
    {
     "name": "stdout",
     "output_type": "stream",
     "text": [
      "(10000 / 10000) training: 0.4136 | validation: 0.4171\n",
      "\n",
      "Best validation loss: 0.417098 (at epoch 431)\n"
     ]
    },
    {
     "data": {
      "image/png": "[encoded data removed]",
      "text/plain": [
       "<Figure size 432x288 with 1 Axes>"
      ]
     },
     "metadata": {},
     "output_type": "display_data"
    }
   ],
   "source": [
    "GD_run = run_GD(learning_rate=1, n_epochs=10000, GD_flavor=\"vanilla\")\n",
    "plot_GD_run(*GD_run)"
   ]
  },
  {
   "cell_type": "markdown",
   "metadata": {},
   "source": [
    "#### Mini Batch Gradient Descent"
   ]
  },
  {
   "cell_type": "code",
   "execution_count": 270,
   "metadata": {},
   "outputs": [
    {
     "name": "stdout",
     "output_type": "stream",
     "text": [
      "(1000 / 1000) training: 0.4175 | validation: 0.4224\n",
      "\n",
      "Best validation loss: 0.416893 (at epoch 324)\n"
     ]
    },
    {
     "data": {
      "image/png": "[encoded data removed]",
      "text/plain": [
       "<Figure size 432x288 with 1 Axes>"
      ]
     },
     "metadata": {},
     "output_type": "display_data"
    }
   ],
   "source": [
    "# Unstable learning rate\n",
    "GD_run = run_GD(learning_rate=0.5, n_epochs=1000, GD_flavor=\"mini batch\", batch_size=173)\n",
    "plot_GD_run(*GD_run)"
   ]
  },
  {
   "cell_type": "code",
   "execution_count": 271,
   "metadata": {},
   "outputs": [
    {
     "name": "stdout",
     "output_type": "stream",
     "text": [
      "(1000 / 1000) training: 0.4140 | validation: 0.4178\n",
      "\n",
      "Best validation loss: 0.416300 (at epoch 321)\n"
     ]
    },
    {
     "data": {
      "image/png": "[encoded data removed]",
      "text/plain": [
       "<Figure size 432x288 with 1 Axes>"
      ]
     },
     "metadata": {},
     "output_type": "display_data"
    }
   ],
   "source": [
    "# Usable learning rate\n",
    "GD_run = run_GD(learning_rate=0.1, n_epochs=1000, GD_flavor=\"mini batch\", batch_size=173)\n",
    "plot_GD_run(*GD_run)"
   ]
  },
  {
   "cell_type": "markdown",
   "metadata": {},
   "source": [
    "#### Stochastic Gradient Descent"
   ]
  },
  {
   "cell_type": "code",
   "execution_count": 273,
   "metadata": {},
   "outputs": [
    {
     "name": "stdout",
     "output_type": "stream",
     "text": [
      "(50 / 50) training: 7935112926815740631587760373760.0000 | validation: 6894237338837697520487379238912.00000000\n",
      "\n",
      "Best validation loss: 0.466267 (at epoch 4)\n"
     ]
    },
    {
     "data": {
      "image/png": "[encoded data removed]",
      "text/plain": [
       "<Figure size 432x288 with 1 Axes>"
      ]
     },
     "metadata": {},
     "output_type": "display_data"
    }
   ],
   "source": [
    "# Exploding learning rate\n",
    "GD_run = run_GD(learning_rate=0.05, n_epochs=50, GD_flavor=\"stochastic\")\n",
    "plot_GD_run(*GD_run)"
   ]
  },
  {
   "cell_type": "code",
   "execution_count": 274,
   "metadata": {},
   "outputs": [
    {
     "name": "stdout",
     "output_type": "stream",
     "text": [
      "(100 / 100) training: 0.4406 | validation: 0.4441\n",
      "\n",
      "Best validation loss: 0.418583 (at epoch 56)\n"
     ]
    },
    {
     "data": {
      "image/png": "[encoded data removed]",
      "text/plain": [
       "<Figure size 432x288 with 1 Axes>"
      ]
     },
     "metadata": {},
     "output_type": "display_data"
    }
   ],
   "source": [
    "# Too high of a learning rate\n",
    "GD_run = run_GD(learning_rate=0.01, n_epochs=100, GD_flavor=\"stochastic\")\n",
    "plot_GD_run(*GD_run)"
   ]
  },
  {
   "cell_type": "code",
   "execution_count": 275,
   "metadata": {},
   "outputs": [
    {
     "name": "stdout",
     "output_type": "stream",
     "text": [
      "(100 / 100) training: 0.4183 | validation: 0.4242\n",
      "\n",
      "Best validation loss: 0.418234 (at epoch 70)\n"
     ]
    },
    {
     "data": {
      "image/png": "[encoded data removed]",
      "text/plain": [
       "<Figure size 432x288 with 1 Axes>"
      ]
     },
     "metadata": {},
     "output_type": "display_data"
    }
   ],
   "source": [
    "# Unstable learning rate\n",
    "GD_run = run_GD(learning_rate=0.005, n_epochs=100, GD_flavor=\"stochastic\")\n",
    "plot_GD_run(*GD_run)"
   ]
  },
  {
   "cell_type": "code",
   "execution_count": 276,
   "metadata": {
    "scrolled": false
   },
   "outputs": [
    {
     "name": "stdout",
     "output_type": "stream",
     "text": [
      "(100 / 100) training: 0.4149 | validation: 0.4194\n",
      "\n",
      "Best validation loss: 0.416416 (at epoch 46)\n"
     ]
    },
    {
     "data": {
      "image/png": "[encoded data removed]",
      "text/plain": [
       "<Figure size 432x288 with 1 Axes>"
      ]
     },
     "metadata": {},
     "output_type": "display_data"
    }
   ],
   "source": [
    "# Usable learning rate\n",
    "GD_run = run_GD(learning_rate=0.001, n_epochs=100, GD_flavor=\"stochastic\")\n",
    "plot_GD_run(*GD_run)"
   ]
  },
  {
   "cell_type": "markdown",
   "metadata": {},
   "source": [
    "## 7. Normal equation: $\\theta = (\\mathbb{X}^T \\mathbb{X})^{-1} \\mathbb{X}^T y$"
   ]
  },
  {
   "cell_type": "code",
   "execution_count": 277,
   "metadata": {},
   "outputs": [],
   "source": [
    "''' Returns a (n+1) x 1 array with the parameter values theta_j that minimize J(theta). '''\n",
    "def normal_equation(X, y):\n",
    "    # minimizes the sum of the square differences\n",
    "    return np.linalg.pinv(X).dot(y) # np.linalg.inv(X.T.dot(X)).dot(X.T.dot(y))"
   ]
  },
  {
   "cell_type": "code",
   "execution_count": 278,
   "metadata": {},
   "outputs": [
    {
     "name": "stdout",
     "output_type": "stream",
     "text": [
      "Best possible parameter values for the training set:\n"
     ]
    },
    {
     "data": {
      "text/plain": [
       "array([[-0.02606628],\n",
       "       [-0.46906469],\n",
       "       [ 0.11508585],\n",
       "       [-0.01978614],\n",
       "       [ 0.04385937],\n",
       "       [ 0.33097164],\n",
       "       [-0.15033774],\n",
       "       [-0.02173649],\n",
       "       [ 0.14561169],\n",
       "       [-0.05355202],\n",
       "       [-0.02114997],\n",
       "       [ 0.0028129 ],\n",
       "       [-0.02029161],\n",
       "       [ 0.17379079],\n",
       "       [-0.17643669],\n",
       "       [-0.07198446],\n",
       "       [-0.06923632],\n",
       "       [-0.51497449]])"
      ]
     },
     "execution_count": 278,
     "metadata": {},
     "output_type": "execute_result"
    }
   ],
   "source": [
    "best_theta = normal_equation(*train_X_y)\n",
    "print(\"Best possible parameter values for the training set:\")\n",
    "best_theta"
   ]
  },
  {
   "cell_type": "code",
   "execution_count": 279,
   "metadata": {},
   "outputs": [
    {
     "name": "stdout",
     "output_type": "stream",
     "text": [
      "Best possible loss for the trainning set:\n"
     ]
    },
    {
     "data": {
      "text/plain": [
       "0.4135600568057268"
      ]
     },
     "execution_count": 279,
     "metadata": {},
     "output_type": "execute_result"
    }
   ],
   "source": [
    "print(\"Best possible loss for the trainning set:\")\n",
    "loss_function(best_theta, *train_X_y)"
   ]
  },
  {
   "cell_type": "code",
   "execution_count": 280,
   "metadata": {},
   "outputs": [
    {
     "name": "stdout",
     "output_type": "stream",
     "text": [
      "Loss for the validation set:\n"
     ]
    },
    {
     "data": {
      "text/plain": [
       "0.41710319092672454"
      ]
     },
     "execution_count": 280,
     "metadata": {},
     "output_type": "execute_result"
    }
   ],
   "source": [
    "print(\"Loss for the validation set:\")\n",
    "loss_function(best_theta, *validation_X_y)"
   ]
  },
  {
   "cell_type": "markdown",
   "metadata": {},
   "source": [
    "## 8. scikit-learn's SGDRegressor"
   ]
  },
  {
   "cell_type": "code",
   "execution_count": 281,
   "metadata": {},
   "outputs": [],
   "source": [
    "from sklearn import linear_model\n",
    "\n",
    "# ref.: https://scikit-learn.org/stable/modules/generated/sklearn.linear_model.SGDRegressor.html"
   ]
  },
  {
   "cell_type": "code",
   "execution_count": 282,
   "metadata": {},
   "outputs": [],
   "source": [
    "X, y = train_X_y\n",
    "y = y.reshape(-1) # (n_samples, 1) -> (n_samples, )\n",
    "\n",
    "val_X, val_y = validation_X_y\n",
    "val_y = val_y.reshape(-1) # (n_samples, 1) -> (n_samples, )"
   ]
  },
  {
   "cell_type": "code",
   "execution_count": 283,
   "metadata": {},
   "outputs": [],
   "source": [
    "# we set the parameters to mimic our implementation as best as we can\n",
    "classifier = linear_model.SGDRegressor(\n",
    "    loss=\"squared_loss\", \n",
    "    penalty=\"none\",           # regularization term\n",
    "    max_iter=1000, \n",
    "    tol=None,                 # stopping criterion (if not None, stops when loss > best_loss - tol for n_iter_no_change epochs)\n",
    "    learning_rate=\"constant\", # uses eta0\n",
    "    eta0=0.0005, \n",
    "    early_stopping=False)"
   ]
  },
  {
   "cell_type": "code",
   "execution_count": 284,
   "metadata": {},
   "outputs": [
    {
     "data": {
      "text/plain": [
       "SGDRegressor(alpha=0.0001, average=False, early_stopping=False, epsilon=0.1,\n",
       "             eta0=0.0005, fit_intercept=True, l1_ratio=0.15,\n",
       "             learning_rate='constant', loss='squared_loss', max_iter=1000,\n",
       "             n_iter_no_change=5, penalty='none', power_t=0.25,\n",
       "             random_state=None, shuffle=True, tol=None, validation_fraction=0.1,\n",
       "             verbose=0, warm_start=False)"
      ]
     },
     "execution_count": 284,
     "metadata": {},
     "output_type": "execute_result"
    }
   ],
   "source": [
    "classifier.fit(X, y) # fits the linear model with the training set"
   ]
  },
  {
   "cell_type": "code",
   "execution_count": 285,
   "metadata": {},
   "outputs": [
    {
     "data": {
      "text/plain": [
       "array([-0.00361741, -0.46904665,  0.09307687, -0.00769557,  0.05933782,\n",
       "        0.33673537, -0.15521189, -0.03206136,  0.15940639, -0.06298984,\n",
       "       -0.0227074 ,  0.00695513, -0.01957602,  0.17648992, -0.17595458,\n",
       "       -0.06830568, -0.070029  , -0.44577908])"
      ]
     },
     "execution_count": 285,
     "metadata": {},
     "output_type": "execute_result"
    }
   ],
   "source": [
    "classifier.coef_ # weights assigned to the features"
   ]
  },
  {
   "cell_type": "code",
   "execution_count": 286,
   "metadata": {},
   "outputs": [
    {
     "data": {
      "text/plain": [
       "array([ 0.48297439,  0.68976354, -0.64392432, ...,  0.58002579,\n",
       "        0.3166113 , -0.60994422])"
      ]
     },
     "execution_count": 286,
     "metadata": {},
     "output_type": "execute_result"
    }
   ],
   "source": [
    "predicted_val_y = classifier.predict(val_X)\n",
    "predicted_val_y"
   ]
  },
  {
   "cell_type": "code",
   "execution_count": 287,
   "metadata": {},
   "outputs": [],
   "source": [
    "n_examples = val_X.shape[0]\n",
    "\n",
    "# same as J(theta), but using the already predicted y, instead of h(theta)\n",
    "sklearn_val_loss = 0.5 * (1 / n_examples) * np.sum((predicted_val_y - val_y)**2)"
   ]
  },
  {
   "cell_type": "code",
   "execution_count": 288,
   "metadata": {},
   "outputs": [
    {
     "name": "stdout",
     "output_type": "stream",
     "text": [
      "sklearn's SGDRegressor loss for the validation set:\n"
     ]
    },
    {
     "data": {
      "text/plain": [
       "0.4173421848361291"
      ]
     },
     "execution_count": 288,
     "metadata": {},
     "output_type": "execute_result"
    }
   ],
   "source": [
    "print(\"sklearn's SGDRegressor loss for the validation set:\")\n",
    "sklearn_val_loss"
   ]
  },
  {
   "cell_type": "code",
   "execution_count": 289,
   "metadata": {},
   "outputs": [
    {
     "name": "stdout",
     "output_type": "stream",
     "text": [
      "R^2 score:\n",
      "- training set:    0.17107529743409022\n",
      "- validation set:  0.1533669342537911\n"
     ]
    }
   ],
   "source": [
    "# R^2 score\n",
    "print(\"R^2 score:\")\n",
    "print(\"- training set:   \", classifier.score(*train_X_y))\n",
    "print(\"- validation set: \", classifier.score(*validation_X_y))"
   ]
  },
  {
   "cell_type": "markdown",
   "metadata": {},
   "source": [
    "## 9. Make the model more complex"
   ]
  },
  {
   "cell_type": "markdown",
   "metadata": {},
   "source": [
    "### 9.1. Map time related features to sine and cosine values\n",
    "\n",
    "This way we can encode their cyclical nature: \n",
    "\n",
    "$x_{sin} = sin(\\dfrac{2 \\pi x}{max(x)})$\n",
    "\n",
    "$x_{cos} = cos(\\dfrac{2 \\pi x}{max(x)})$"
   ]
  },
  {
   "cell_type": "code",
   "execution_count": 290,
   "metadata": {},
   "outputs": [],
   "source": [
    "# NOTE: we must pass 'train_stats' since that's what we used for all sets\n",
    "def unnormalize_time_features(df, stats=train_stats):\n",
    "    unnormalized_df = df.copy()\n",
    "    for col in [\"hour\", \"weekday\", \"weekofyear\"]:\n",
    "        mean = stats[col][\"mean\"]\n",
    "        std = stats[col][\"std\"]\n",
    "        unnormalized_df[col] = unnormalized_df[col].apply(lambda x: (x * std) + mean)\n",
    "    return unnormalized_df"
   ]
  },
  {
   "cell_type": "code",
   "execution_count": 291,
   "metadata": {},
   "outputs": [],
   "source": [
    "def mapped_sine_cosine(df, stats=train_stats):\n",
    "    mapped_df = df.copy()\n",
    "    for col in [\"hour\", \"weekday\", \"weekofyear\"]:\n",
    "        max_x = stats[col][\"max\"]\n",
    "        mapped_df.insert(0, f\"{col}_sin\", mapped_df[col].apply(lambda x: np.sin(2 * np.pi * x / max_x)))\n",
    "        mapped_df.insert(0, f\"{col}_cos\", mapped_df[col].apply(lambda x: np.cos(2 * np.pi * x / max_x)))\n",
    "    return mapped_df.drop(columns=[\"hour\", \"weekday\", \"weekofyear\"])"
   ]
  },
  {
   "cell_type": "code",
   "execution_count": 292,
   "metadata": {},
   "outputs": [],
   "source": [
    "mapped_time_features = [\"weekofyear_cos\", \"weekofyear_sin\", \"weekday_cos\", \"weekday_sin\", \"hour_cos\", \"hour_sin\"]"
   ]
  },
  {
   "cell_type": "code",
   "execution_count": 293,
   "metadata": {},
   "outputs": [],
   "source": [
    "train_data_v2 = mapped_sine_cosine(unnormalize_time_features(train_data))\n",
    "validation_data_v2 = mapped_sine_cosine(unnormalize_time_features(validation_data))\n",
    "\n",
    "test_data_v2 = mapped_sine_cosine(unnormalize_time_features(test_data))"
   ]
  },
  {
   "cell_type": "markdown",
   "metadata": {},
   "source": [
    "### 9.2. Run the new model"
   ]
  },
  {
   "cell_type": "code",
   "execution_count": 294,
   "metadata": {},
   "outputs": [],
   "source": [
    "if train_data_v2.columns[-1] != 'traffic_volume':\n",
    "    print(\"'traffic_volume' should be the last column on the training set!\")\n",
    "if validation_data_v2.columns[-1] != 'traffic_volume':\n",
    "    print(\"'traffic_volume' should be the last column on the validation set!\")\n",
    "if test_data_v2.columns[-1] != 'traffic_volume':\n",
    "    print(\"'traffic_volume' should be the last column on the test set!\")"
   ]
  },
  {
   "cell_type": "code",
   "execution_count": 295,
   "metadata": {},
   "outputs": [],
   "source": [
    "train_v2_X_y = split_X_y(train_data_v2)\n",
    "validation_v2_X_y = split_X_y(validation_data_v2)"
   ]
  },
  {
   "cell_type": "code",
   "execution_count": 296,
   "metadata": {},
   "outputs": [
    {
     "name": "stdout",
     "output_type": "stream",
     "text": [
      "Training set:\n",
      "n_features_v2: 21\n",
      "n_examples_v2: 33735\n",
      "\n",
      "Validation set:\n",
      "val_n_features_v2: 21\n",
      "val_n_examples_v2: 7229\n"
     ]
    }
   ],
   "source": [
    "X_v2, y_v2 = train_v2_X_y\n",
    "n_examples_v2, n_features_v2 = X_v2.shape # m x (n+1)\n",
    "print(\"Training set:\")\n",
    "print(f\"n_features_v2: {n_features_v2}\")\n",
    "print(f\"n_examples_v2: {n_examples_v2}\")\n",
    "\n",
    "val_X_v2, val_y_v2 = validation_v2_X_y\n",
    "val_n_examples_v2, val_n_features_v2 = val_X_v2.shape # m x (n+1)\n",
    "print(\"\\nValidation set:\")\n",
    "print(f\"val_n_features_v2: {val_n_features_v2}\")\n",
    "print(f\"val_n_examples_v2: {val_n_examples_v2}\")"
   ]
  },
  {
   "cell_type": "markdown",
   "metadata": {},
   "source": [
    "### 9.2.1 Learning rate of 0.0005"
   ]
  },
  {
   "cell_type": "code",
   "execution_count": 297,
   "metadata": {},
   "outputs": [
    {
     "name": "stdout",
     "output_type": "stream",
     "text": [
      "(1 / 10000) training: 0.4998 | validation: 0.4932\r",
      "(2 / 10000) training: 0.4996 | validation: 0.4930\r",
      "(3 / 10000) training: 0.4994 | validation: 0.4928\r",
      "(4 / 10000) training: 0.4992 | validation: 0.4927\r",
      "(5 / 10000) training: 0.4991 | validation: 0.4925\r",
      "(6 / 10000) training: 0.4989 | validation: 0.4923\r",
      "(7 / 10000) training: 0.4987 | validation: 0.4921\r",
      "(8 / 10000) training: 0.4985 | validation: 0.4919\r",
      "(9 / 10000) training: 0.4983 | validation: 0.4918\r",
      "(10 / 10000) training: 0.4981 | validation: 0.4916\r",
      "(11 / 10000) training: 0.4980 | validation: 0.4914\r",
      "(12 / 10000) training: 0.4978 | validation: 0.4912\r",
      "(13 / 10000) training: 0.4976 | validation: 0.4911\r",
      "(14 / 10000) training: 0.4974 | validation: 0.4909\r",
      "(15 / 10000) training: 0.4972 | validation: 0.4907\r",
      "(16 / 10000) training: 0.4971 | validation: 0.4905\r",
      "(17 / 10000) training: 0.4969 | validation: 0.4903\r",
      "(18 / 10000) training: 0.4967 | validation: 0.4902\r",
      "(19 / 10000) training: 0.4965 | validation: 0.4900\r",
      "(20 / 10000) training: 0.4963 | validation: 0.4898\r",
      "(21 / 10000) training: 0.4961 | validation: 0.4896\r",
      "(22 / 10000) training: 0.4960 | validation: 0.4895\r",
      "(23 / 10000) training: 0.4958 | validation: 0.4893\r",
      "(24 / 10000) training: 0.4956 | validation: 0.4891\r",
      "(25 / 10000) training: 0.4954 | validation: 0.4889\r",
      "(26 / 10000) training: 0.4952 | validation: 0.4888\r",
      "(27 / 10000) training: 0.4950 | validation: 0.4886\r",
      "(28 / 10000) training: 0.4949 | validation: 0.4884\r",
      "(29 / 10000) training: 0.4947 | validation: 0.4882\r",
      "(30 / 10000) training: 0.4945 | validation: 0.4880\r",
      "(31 / 10000) training: 0.4943 | validation: 0.4879\r",
      "(32 / 10000) training: 0.4941 | validation: 0.4877\r",
      "(33 / 10000) training: 0.4940 | validation: 0.4875\r",
      "(34 / 10000) training: 0.4938 | validation: 0.4873\r",
      "(35 / 10000) training: 0.4936 | validation: 0.4872\r",
      "(36 / 10000) training: 0.4934 | validation: 0.4870\r",
      "(37 / 10000) training: 0.4932 | validation: 0.4868\r",
      "(38 / 10000) training: 0.4931 | validation: 0.4866\r",
      "(39 / 10000) training: 0.4929 | validation: 0.4865\r",
      "(40 / 10000) training: 0.4927 | validation: 0.4863\r",
      "(41 / 10000) training: 0.4925 | validation: 0.4861\r",
      "(42 / 10000) training: 0.4923 | validation: 0.4859\r",
      "(43 / 10000) training: 0.4922 | validation: 0.4858\r",
      "(44 / 10000) training: 0.4920 | validation: 0.4856\r",
      "(45 / 10000) training: 0.4918 | validation: 0.4854\r",
      "(46 / 10000) training: 0.4916 | validation: 0.4852\r",
      "(47 / 10000) training: 0.4914 | validation: 0.4851\r",
      "(48 / 10000) training: 0.4913 | validation: 0.4849\r",
      "(49 / 10000) training: 0.4911 | validation: 0.4847\r",
      "(50 / 10000) training: 0.4909 | validation: 0.4846\r",
      "(51 / 10000) training: 0.4907 | validation: 0.4844\r",
      "(52 / 10000) training: 0.4905 | validation: 0.4842\r",
      "(53 / 10000) training: 0.4904 | validation: 0.4840\r",
      "(54 / 10000) training: 0.4902 | validation: 0.4839\r",
      "(55 / 10000) training: 0.4900 | validation: 0.4837\r",
      "(56 / 10000) training: 0.4898 | validation: 0.4835\r",
      "(57 / 10000) training: 0.4897 | validation: 0.4833\r",
      "(58 / 10000) training: 0.4895 | validation: 0.4832\r",
      "(59 / 10000) training: 0.4893 | validation: 0.4830\r",
      "(60 / 10000) training: 0.4891 | validation: 0.4828\r",
      "(61 / 10000) training: 0.4889 | validation: 0.4826\r",
      "(62 / 10000) training: 0.4888 | validation: 0.4825\r",
      "(63 / 10000) training: 0.4886 | validation: 0.4823\r",
      "(64 / 10000) training: 0.4884 | validation: 0.4821\r",
      "(65 / 10000) training: 0.4882 | validation: 0.4820\r",
      "(66 / 10000) training: 0.4881 | validation: 0.4818\r",
      "(67 / 10000) training: 0.4879 | validation: 0.4816\r",
      "(68 / 10000) training: 0.4877 | validation: 0.4814\r",
      "(69 / 10000) training: 0.4875 | validation: 0.4813\r",
      "(70 / 10000) training: 0.4874 | validation: 0.4811\r",
      "(71 / 10000) training: 0.4872 | validation: 0.4809\r",
      "(72 / 10000) training: 0.4870 | validation: 0.4808\r",
      "(73 / 10000) training: 0.4868 | validation: 0.4806\r",
      "(74 / 10000) training: 0.4866 | validation: 0.4804\r",
      "(75 / 10000) training: 0.4865 | validation: 0.4802\r",
      "(76 / 10000) training: 0.4863 | validation: 0.4801\r",
      "(77 / 10000) training: 0.4861 | validation: 0.4799\r",
      "(78 / 10000) training: 0.4859 | validation: 0.4797\r",
      "(79 / 10000) training: 0.4858 | validation: 0.4796\r",
      "(80 / 10000) training: 0.4856 | validation: 0.4794\r",
      "(81 / 10000) training: 0.4854 | validation: 0.4792\r",
      "(82 / 10000) training: 0.4852 | validation: 0.4790\r",
      "(83 / 10000) training: 0.4851 | validation: 0.4789\r",
      "(84 / 10000) training: 0.4849 | validation: 0.4787\r",
      "(85 / 10000) training: 0.4847 | validation: 0.4785\r",
      "(86 / 10000) training: 0.4845 | validation: 0.4784\r",
      "(87 / 10000) training: 0.4844 | validation: 0.4782\r",
      "(88 / 10000) training: 0.4842 | validation: 0.4780\r",
      "(89 / 10000) training: 0.4840 | validation: 0.4779\r",
      "(90 / 10000) training: 0.4838 | validation: 0.4777\r",
      "(91 / 10000) training: 0.4837 | validation: 0.4775\r",
      "(92 / 10000) training: 0.4835 | validation: 0.4773\r",
      "(93 / 10000) training: 0.4833 | validation: 0.4772\r",
      "(94 / 10000) training: 0.4831 | validation: 0.4770\r",
      "(95 / 10000) training: 0.4830 | validation: 0.4768\r",
      "(96 / 10000) training: 0.4828 | validation: 0.4767\r",
      "(97 / 10000) training: 0.4826 | validation: 0.4765\r",
      "(98 / 10000) training: 0.4824 | validation: 0.4763\r",
      "(99 / 10000) training: 0.4823 | validation: 0.4762\r",
      "(100 / 10000) training: 0.4821 | validation: 0.4760\r",
      "(101 / 10000) training: 0.4819 | validation: 0.4758\r",
      "(102 / 10000) training: 0.4818 | validation: 0.4757\r",
      "(103 / 10000) training: 0.4816 | validation: 0.4755\r",
      "(104 / 10000) training: 0.4814 | validation: 0.4753\r",
      "(105 / 10000) training: 0.4812 | validation: 0.4752\r",
      "(106 / 10000) training: 0.4811 | validation: 0.4750\r",
      "(107 / 10000) training: 0.4809 | validation: 0.4748\r",
      "(108 / 10000) training: 0.4807 | validation: 0.4747\r",
      "(109 / 10000) training: 0.4805 | validation: 0.4745\r",
      "(110 / 10000) training: 0.4804 | validation: 0.4743\r",
      "(111 / 10000) training: 0.4802 | validation: 0.4742\r",
      "(112 / 10000) training: 0.4800 | validation: 0.4740\r",
      "(113 / 10000) training: 0.4799 | validation: 0.4738\r",
      "(114 / 10000) training: 0.4797 | validation: 0.4736\r",
      "(115 / 10000) training: 0.4795 | validation: 0.4735\r",
      "(116 / 10000) training: 0.4793 | validation: 0.4733\r",
      "(117 / 10000) training: 0.4792 | validation: 0.4731\r",
      "(118 / 10000) training: 0.4790 | validation: 0.4730\r",
      "(119 / 10000) training: 0.4788 | validation: 0.4728\r",
      "(120 / 10000) training: 0.4787 | validation: 0.4726\r",
      "(121 / 10000) training: 0.4785 | validation: 0.4725\r",
      "(122 / 10000) training: 0.4783 | validation: 0.4723\r",
      "(123 / 10000) training: 0.4781 | validation: 0.4722\r",
      "(124 / 10000) training: 0.4780 | validation: 0.4720\r",
      "(125 / 10000) training: 0.4778 | validation: 0.4718\r",
      "(126 / 10000) training: 0.4776 | validation: 0.4717\r",
      "(127 / 10000) training: 0.4775 | validation: 0.4715\r",
      "(128 / 10000) training: 0.4773 | validation: 0.4713\r",
      "(129 / 10000) training: 0.4771 | validation: 0.4712\r",
      "(130 / 10000) training: 0.4769 | validation: 0.4710\r",
      "(131 / 10000) training: 0.4768 | validation: 0.4708\r",
      "(132 / 10000) training: 0.4766 | validation: 0.4707\r",
      "(133 / 10000) training: 0.4764 | validation: 0.4705\r",
      "(134 / 10000) training: 0.4763 | validation: 0.4703\r",
      "(135 / 10000) training: 0.4761 | validation: 0.4702\r",
      "(136 / 10000) training: 0.4759 | validation: 0.4700\r",
      "(137 / 10000) training: 0.4758 | validation: 0.4698\r",
      "(138 / 10000) training: 0.4756 | validation: 0.4697\r",
      "(139 / 10000) training: 0.4754 | validation: 0.4695\r",
      "(140 / 10000) training: 0.4752 | validation: 0.4693\r",
      "(141 / 10000) training: 0.4751 | validation: 0.4692\r",
      "(142 / 10000) training: 0.4749 | validation: 0.4690\r",
      "(143 / 10000) training: 0.4747 | validation: 0.4688\r",
      "(144 / 10000) training: 0.4746 | validation: 0.4687\r",
      "(145 / 10000) training: 0.4744 | validation: 0.4685\r",
      "(146 / 10000) training: 0.4742 | validation: 0.4684\r",
      "(147 / 10000) training: 0.4741 | validation: 0.4682\r",
      "(148 / 10000) training: 0.4739 | validation: 0.4680\r",
      "(149 / 10000) training: 0.4737 | validation: 0.4679\r",
      "(150 / 10000) training: 0.4736 | validation: 0.4677\r",
      "(151 / 10000) training: 0.4734 | validation: 0.4675\r",
      "(152 / 10000) training: 0.4732 | validation: 0.4674\r",
      "(153 / 10000) training: 0.4731 | validation: 0.4672\r",
      "(154 / 10000) training: 0.4729 | validation: 0.4670\r",
      "(155 / 10000) training: 0.4727 | validation: 0.4669\r",
      "(156 / 10000) training: 0.4726 | validation: 0.4667\r",
      "(157 / 10000) training: 0.4724 | validation: 0.4666\r",
      "(158 / 10000) training: 0.4722 | validation: 0.4664\r",
      "(159 / 10000) training: 0.4720 | validation: 0.4662\r",
      "(160 / 10000) training: 0.4719 | validation: 0.4661\r",
      "(161 / 10000) training: 0.4717 | validation: 0.4659\r",
      "(162 / 10000) training: 0.4715 | validation: 0.4657\r",
      "(163 / 10000) training: 0.4714 | validation: 0.4656\r",
      "(164 / 10000) training: 0.4712 | validation: 0.4654\r",
      "(165 / 10000) training: 0.4710 | validation: 0.4653\r",
      "(166 / 10000) training: 0.4709 | validation: 0.4651\r",
      "(167 / 10000) training: 0.4707 | validation: 0.4649\r",
      "(168 / 10000) training: 0.4705 | validation: 0.4648\r",
      "(169 / 10000) training: 0.4704 | validation: 0.4646\r",
      "(170 / 10000) training: 0.4702 | validation: 0.4645\r",
      "(171 / 10000) training: 0.4700 | validation: 0.4643\r",
      "(172 / 10000) training: 0.4699 | validation: 0.4641\r",
      "(173 / 10000) training: 0.4697 | validation: 0.4640\r",
      "(174 / 10000) training: 0.4695 | validation: 0.4638\r",
      "(175 / 10000) training: 0.4694 | validation: 0.4636\r",
      "(176 / 10000) training: 0.4692 | validation: 0.4635\r",
      "(177 / 10000) training: 0.4691 | validation: 0.4633\r",
      "(178 / 10000) training: 0.4689 | validation: 0.4632\r",
      "(179 / 10000) training: 0.4687 | validation: 0.4630"
     ]
    },
    {
     "name": "stdout",
     "output_type": "stream",
     "text": [
      "(10000 / 10000) training: 0.1681 | validation: 0.1741\n",
      "\n",
      "Best validation loss: 0.174052 (at epoch 10000)\n"
     ]
    },
    {
     "data": {
      "image/png": "[encoded data removed]",
      "text/plain": [
       "<Figure size 432x288 with 1 Axes>"
      ]
     },
     "metadata": {},
     "output_type": "display_data"
    }
   ],
   "source": [
    "vanilla_run_v2 = run_GD(learning_rate=0.0005, n_epochs=10000, GD_flavor=\"vanilla\", \n",
    "                        __train_X_y=train_v2_X_y, __validation_X_y=validation_v2_X_y)\n",
    "plot_GD_run(*vanilla_run_v2)"
   ]
  },
  {
   "cell_type": "code",
   "execution_count": 298,
   "metadata": {},
   "outputs": [
    {
     "name": "stdout",
     "output_type": "stream",
     "text": [
      "(1000 / 1000) training: 0.1646 | validation: 0.1718\n",
      "\n",
      "Best validation loss: 0.171827 (at epoch 951)\n"
     ]
    },
    {
     "data": {
      "image/png": "[encoded data removed]",
      "text/plain": [
       "<Figure size 432x288 with 1 Axes>"
      ]
     },
     "metadata": {},
     "output_type": "display_data"
    }
   ],
   "source": [
    "mini_batch_run_v2 = run_GD(learning_rate=0.0005, n_epochs=1000, GD_flavor=\"mini batch\", batch_size=173, \n",
    "                           __train_X_y=train_v2_X_y, __validation_X_y=validation_v2_X_y)\n",
    "plot_GD_run(*mini_batch_run_v2)"
   ]
  },
  {
   "cell_type": "code",
   "execution_count": 299,
   "metadata": {},
   "outputs": [
    {
     "name": "stdout",
     "output_type": "stream",
     "text": [
      "(100 / 100) training: 0.1649 | validation: 0.1719\n",
      "\n",
      "Best validation loss: 0.171668 (at epoch 48)\n"
     ]
    },
    {
     "data": {
      "image/png": "[encoded data removed]",
      "text/plain": [
       "<Figure size 432x288 with 1 Axes>"
      ]
     },
     "metadata": {},
     "output_type": "display_data"
    }
   ],
   "source": [
    "stochastic_run_v2 = run_GD(learning_rate=0.0005, n_epochs=100, GD_flavor=\"stochastic\", \n",
    "                           __train_X_y=train_v2_X_y, __validation_X_y=validation_v2_X_y)\n",
    "plot_GD_run(*stochastic_run_v2)"
   ]
  },
  {
   "cell_type": "code",
   "execution_count": 300,
   "metadata": {},
   "outputs": [
    {
     "name": "stdout",
     "output_type": "stream",
     "text": [
      "True\n",
      "True\n"
     ]
    }
   ],
   "source": [
    "# check that the target values are the same (we only changed the features used for prediction)\n",
    "print(all(train_X_y[1] == train_v2_X_y[1]))\n",
    "print(all(validation_X_y[1] == validation_v2_X_y[1]))"
   ]
  },
  {
   "cell_type": "code",
   "execution_count": 301,
   "metadata": {},
   "outputs": [
    {
     "name": "stdout",
     "output_type": "stream",
     "text": [
      "vanilla R^2 score: 0.6469134151400782\n",
      "mini batch R^2 score: 0.6514260844771727\n",
      "stochastic R^2 score: 0.6517499292247291\n"
     ]
    }
   ],
   "source": [
    "# R^2 score on the validation set\n",
    "print_r2_score(vanilla_run_v2, *validation_v2_X_y)\n",
    "print_r2_score(mini_batch_run_v2, *validation_v2_X_y)\n",
    "print_r2_score(stochastic_run_v2, *validation_v2_X_y)"
   ]
  },
  {
   "cell_type": "markdown",
   "metadata": {},
   "source": [
    "### 9.3. Save this more complex model (with sine and cosine encodings)"
   ]
  },
  {
   "cell_type": "code",
   "execution_count": 302,
   "metadata": {},
   "outputs": [],
   "source": [
    "train_data_v2.to_csv(\"train_v2_70.csv\")\n",
    "validation_data_v2.to_csv(\"validation_v2_15.csv\")\n",
    "\n",
    "test_data_v2.to_csv(\"test_v2_15.csv\")"
   ]
  },
  {
   "cell_type": "markdown",
   "metadata": {},
   "source": [
    "### 9.4. Run SGDRegressor on the new model"
   ]
  },
  {
   "cell_type": "code",
   "execution_count": 303,
   "metadata": {},
   "outputs": [],
   "source": [
    "X_v2, y_v2 = train_v2_X_y\n",
    "y_v2 = y_v2.reshape(-1) # (n_samples, 1) -> (n_samples, )\n",
    "\n",
    "val_X_v2, val_y_v2 = validation_v2_X_y\n",
    "val_y_v2 = val_y_v2.reshape(-1) # (n_samples, 1) -> (n_samples, )"
   ]
  },
  {
   "cell_type": "code",
   "execution_count": 304,
   "metadata": {},
   "outputs": [],
   "source": [
    "# we set the parameters to mimic our implementation as best as we can\n",
    "classifier_v2 = linear_model.SGDRegressor(\n",
    "    loss=\"squared_loss\", \n",
    "    penalty=\"none\",           # regularization term\n",
    "    max_iter=1000, \n",
    "    tol=None,                 # stopping criterion (if not None, stops when loss > best_loss - tol for n_iter_no_change epochs)\n",
    "    learning_rate=\"constant\", # uses eta0\n",
    "    eta0=0.0005, \n",
    "    early_stopping=False)"
   ]
  },
  {
   "cell_type": "code",
   "execution_count": 305,
   "metadata": {},
   "outputs": [
    {
     "data": {
      "text/plain": [
       "SGDRegressor(alpha=0.0001, average=False, early_stopping=False, epsilon=0.1,\n",
       "             eta0=0.0005, fit_intercept=True, l1_ratio=0.15,\n",
       "             learning_rate='constant', loss='squared_loss', max_iter=1000,\n",
       "             n_iter_no_change=5, penalty='none', power_t=0.25,\n",
       "             random_state=None, shuffle=True, tol=None, validation_fraction=0.1,\n",
       "             verbose=0, warm_start=False)"
      ]
     },
     "execution_count": 305,
     "metadata": {},
     "output_type": "execute_result"
    }
   ],
   "source": [
    "classifier_v2.fit(X_v2, y_v2) # fits the linear model with the training set"
   ]
  },
  {
   "cell_type": "code",
   "execution_count": 306,
   "metadata": {},
   "outputs": [
    {
     "data": {
      "text/plain": [
       "array([ 0.02973411, -0.02321146,  0.00716195, -0.22149047,  0.09818657,\n",
       "       -1.00212796, -0.48190776, -0.28310004,  0.01355768, -0.00827824,\n",
       "       -0.01964511,  0.06090153,  0.0472658 ,  0.04138595, -0.01705228,\n",
       "        0.06583915, -0.04224291,  0.01995609,  0.05166172, -0.02703118,\n",
       "       -0.27938915])"
      ]
     },
     "execution_count": 306,
     "metadata": {},
     "output_type": "execute_result"
    }
   ],
   "source": [
    "classifier_v2.coef_ # weights assigned to the features"
   ]
  },
  {
   "cell_type": "code",
   "execution_count": 307,
   "metadata": {},
   "outputs": [
    {
     "data": {
      "text/plain": [
       "array([ 0.73879323, -0.52854012, -1.17002076, ...,  0.23704128,\n",
       "       -1.12152727, -1.13343747])"
      ]
     },
     "execution_count": 307,
     "metadata": {},
     "output_type": "execute_result"
    }
   ],
   "source": [
    "predicted_val_y_v2 = classifier_v2.predict(val_X_v2)\n",
    "predicted_val_y_v2"
   ]
  },
  {
   "cell_type": "code",
   "execution_count": 308,
   "metadata": {},
   "outputs": [],
   "source": [
    "n_examples_v2 = val_X_v2.shape[0]\n",
    "\n",
    "# same as J(theta), but using the already predicted y, instead of h(theta)\n",
    "sklearn_val_loss_v2 = 0.5 * (1 / n_examples_v2) * np.sum((predicted_val_y_v2 - val_y_v2)**2)"
   ]
  },
  {
   "cell_type": "code",
   "execution_count": 309,
   "metadata": {},
   "outputs": [
    {
     "name": "stdout",
     "output_type": "stream",
     "text": [
      "sklearn's SGDRegressor loss for the validation set on the new model:\n"
     ]
    },
    {
     "data": {
      "text/plain": [
       "0.17171336478544388"
      ]
     },
     "execution_count": 309,
     "metadata": {},
     "output_type": "execute_result"
    }
   ],
   "source": [
    "print(\"sklearn's SGDRegressor loss for the validation set on the new model:\")\n",
    "sklearn_val_loss_v2"
   ]
  },
  {
   "cell_type": "code",
   "execution_count": 310,
   "metadata": {},
   "outputs": [
    {
     "name": "stdout",
     "output_type": "stream",
     "text": [
      "R^2 score:\n",
      "- training set:    0.6704765412872336\n",
      "- validation set:  0.6516570388996723\n"
     ]
    }
   ],
   "source": [
    "# R^2 score\n",
    "print(\"R^2 score:\")\n",
    "print(\"- training set:   \", classifier_v2.score(*train_v2_X_y))\n",
    "print(\"- validation set: \", classifier_v2.score(*validation_v2_X_y))"
   ]
  },
  {
   "cell_type": "markdown",
   "metadata": {},
   "source": [
    "### 9.4. Use the Normal Equation"
   ]
  },
  {
   "cell_type": "code",
   "execution_count": 311,
   "metadata": {
    "scrolled": false
   },
   "outputs": [
    {
     "name": "stdout",
     "output_type": "stream",
     "text": [
      "Best possible loss for the trainning set: 0.16457694647371757\n",
      "Loss for the validation set: 0.17182998690898327\n"
     ]
    }
   ],
   "source": [
    "# Best possible parameter values for the training set\n",
    "best_theta_v2 = normal_equation(*train_v2_X_y)\n",
    "\n",
    "print(\"Best possible loss for the trainning set:\", loss_function(best_theta_v2, *train_v2_X_y))\n",
    "\n",
    "print(\"Loss for the validation set:\", loss_function(best_theta_v2, *validation_v2_X_y))"
   ]
  },
  {
   "cell_type": "markdown",
   "metadata": {},
   "source": [
    "### 9.5 Timeit"
   ]
  },
  {
   "cell_type": "code",
   "execution_count": 312,
   "metadata": {},
   "outputs": [],
   "source": [
    "from time import time\n",
    "from IPython.display import clear_output"
   ]
  },
  {
   "cell_type": "code",
   "execution_count": 313,
   "metadata": {},
   "outputs": [],
   "source": [
    "start = time()\n",
    "run_GD(learning_rate=0.0005, n_epochs=10000, GD_flavor=\"vanilla\", \n",
    "       __train_X_y=train_X_y, __validation_X_y=validation_X_y)\n",
    "duration = time() - start\n",
    "clear_output()"
   ]
  },
  {
   "cell_type": "code",
   "execution_count": 314,
   "metadata": {},
   "outputs": [
    {
     "name": "stdout",
     "output_type": "stream",
     "text": [
      "Vanilla GD: 9.11s\n"
     ]
    }
   ],
   "source": [
    "print(f\"Vanilla GD: {duration:.2f}s\")"
   ]
  },
  {
   "cell_type": "code",
   "execution_count": 315,
   "metadata": {},
   "outputs": [],
   "source": [
    "start = time()\n",
    "run_GD(learning_rate=0.0005, n_epochs=1000, GD_flavor=\"mini batch\", batch_size=173, \n",
    "       __train_X_y=train_X_y, __validation_X_y=validation_X_y)\n",
    "duration = time() - start\n",
    "clear_output()"
   ]
  },
  {
   "cell_type": "code",
   "execution_count": 316,
   "metadata": {},
   "outputs": [
    {
     "name": "stdout",
     "output_type": "stream",
     "text": [
      "Mini Batch GD: 9.83s\n"
     ]
    }
   ],
   "source": [
    "print(f\"Mini Batch GD: {duration:.2f}s\")"
   ]
  },
  {
   "cell_type": "code",
   "execution_count": 318,
   "metadata": {},
   "outputs": [],
   "source": [
    "start = time()\n",
    "run_GD(learning_rate=0.0005, n_epochs=100, GD_flavor=\"stochastic\", \n",
    "       __train_X_y=train_X_y, __validation_X_y=validation_X_y)\n",
    "duration = time() - start\n",
    "clear_output()"
   ]
  },
  {
   "cell_type": "code",
   "execution_count": 319,
   "metadata": {},
   "outputs": [
    {
     "name": "stdout",
     "output_type": "stream",
     "text": [
      "Stochastic GD: 26.03s\n"
     ]
    }
   ],
   "source": [
    "print(f\"Stochastic GD: {duration:.2f}s\")"
   ]
  },
  {
   "cell_type": "code",
   "execution_count": 320,
   "metadata": {},
   "outputs": [],
   "source": [
    "start = time()\n",
    "normal_equation(*train_X_y)\n",
    "duration = time() - start"
   ]
  },
  {
   "cell_type": "code",
   "execution_count": 321,
   "metadata": {},
   "outputs": [
    {
     "name": "stdout",
     "output_type": "stream",
     "text": [
      "Normal equation: 0.03s\n"
     ]
    }
   ],
   "source": [
    "print(f\"Normal equation: {duration:.2f}s\")"
   ]
  }
 ],
 "metadata": {
  "kernelspec": {
   "display_name": "Python 3",
   "language": "python",
   "name": "python3"
  },
  "language_info": {
   "codemirror_mode": {
    "name": "ipython",
    "version": 3
   },
   "file_extension": ".py",
   "mimetype": "text/x-python",
   "name": "python",
   "nbconvert_exporter": "python",
   "pygments_lexer": "ipython3",
   "version": "3.7.4"
  }
 },
 "nbformat": 4,
 "nbformat_minor": 2
}
