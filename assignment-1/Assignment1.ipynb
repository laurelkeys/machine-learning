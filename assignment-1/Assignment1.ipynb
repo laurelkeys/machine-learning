{
 "cells": [
  {
   "cell_type": "markdown",
   "metadata": {},
   "source": [
    "## Importing libs and loading the dataset"
   ]
  },
  {
   "cell_type": "code",
   "execution_count": 1,
   "metadata": {},
   "outputs": [],
   "source": [
    "import numpy as np\n",
    "import pandas as pd\n",
    "import seaborn as sns\n",
    "import matplotlib.pyplot as plt"
   ]
  },
  {
   "cell_type": "code",
   "execution_count": 2,
   "metadata": {},
   "outputs": [],
   "source": [
    "%matplotlib inline\n",
    "sns.set() # apply the seaborn defaults to plotted figures (e.g. theme, scaling, color palette), instead of matplotlib's"
   ]
  },
  {
   "cell_type": "code",
   "execution_count": 3,
   "metadata": {
    "scrolled": true
   },
   "outputs": [
    {
     "data": {
      "text/plain": [
       "(48204, 9)"
      ]
     },
     "execution_count": 3,
     "metadata": {},
     "output_type": "execute_result"
    }
   ],
   "source": [
    "dataset_csv_path = \"Metro_Interstate_Traffic_Volume.csv\" # 8 attributes of 48,204 examples (plus the target column)\n",
    "\n",
    "# loading the dataset with pandas (instead of numpy or csv) since there are different datatypes\n",
    "dataset_csv = pd.read_csv(dataset_csv_path, delimiter=',')\n",
    "dataset_csv.shape"
   ]
  },
  {
   "cell_type": "markdown",
   "metadata": {},
   "source": [
    "## Dataset attributes\n",
    "- 1: **holiday**: US National holidays plus regional holiday, Minnesota State Fair\n",
    "- 2: **temp**: average temp in kelvin\n",
    "- 3: **rain 1h**: amount in mm of rain that occurred in the hour\n",
    "- 4: **snow 1h**: amount in mm of snow that occurred in the hour\n",
    "- 5: **clouds all**: percentage of cloud cover\n",
    "- 6: **weather main**: short textual description of the current weather\n",
    "- 7: **weather description**: longer textual description of the current weather\n",
    "- 8: **date time**: hour of the data collected in local CST time\n",
    "- target: **traffic volume**: traffic volume"
   ]
  },
  {
   "cell_type": "code",
   "execution_count": 4,
   "metadata": {},
   "outputs": [
    {
     "data": {
      "text/plain": [
       "holiday                 object\n",
       "temp                   float64\n",
       "rain_1h                float64\n",
       "snow_1h                float64\n",
       "clouds_all               int64\n",
       "weather_main            object\n",
       "weather_description     object\n",
       "date_time               object\n",
       "traffic_volume           int64\n",
       "dtype: object"
      ]
     },
     "execution_count": 4,
     "metadata": {},
     "output_type": "execute_result"
    }
   ],
   "source": [
    "dataset_csv.dtypes"
   ]
  },
  {
   "cell_type": "markdown",
   "metadata": {},
   "source": [
    "## 0. Visualize the data"
   ]
  },
  {
   "cell_type": "code",
   "execution_count": 5,
   "metadata": {},
   "outputs": [
    {
     "data": {
      "text/html": [
       "<div>\n",
       "<style scoped>\n",
       "    .dataframe tbody tr th:only-of-type {\n",
       "        vertical-align: middle;\n",
       "    }\n",
       "\n",
       "    .dataframe tbody tr th {\n",
       "        vertical-align: top;\n",
       "    }\n",
       "\n",
       "    .dataframe thead th {\n",
       "        text-align: right;\n",
       "    }\n",
       "</style>\n",
       "<table border=\"1\" class=\"dataframe\">\n",
       "  <thead>\n",
       "    <tr style=\"text-align: right;\">\n",
       "      <th></th>\n",
       "      <th>holiday</th>\n",
       "      <th>temp</th>\n",
       "      <th>rain_1h</th>\n",
       "      <th>snow_1h</th>\n",
       "      <th>clouds_all</th>\n",
       "      <th>weather_main</th>\n",
       "      <th>weather_description</th>\n",
       "      <th>date_time</th>\n",
       "      <th>traffic_volume</th>\n",
       "    </tr>\n",
       "  </thead>\n",
       "  <tbody>\n",
       "    <tr>\n",
       "      <td>min</td>\n",
       "      <td>Christmas Day</td>\n",
       "      <td>0.000000</td>\n",
       "      <td>0.000000</td>\n",
       "      <td>0.000000</td>\n",
       "      <td>0.000000</td>\n",
       "      <td>Clear</td>\n",
       "      <td>SQUALLS</td>\n",
       "      <td>2012-10-02 09:00:00</td>\n",
       "      <td>0.000000</td>\n",
       "    </tr>\n",
       "    <tr>\n",
       "      <td>max</td>\n",
       "      <td>Washingtons Birthday</td>\n",
       "      <td>310.070000</td>\n",
       "      <td>9831.300000</td>\n",
       "      <td>0.510000</td>\n",
       "      <td>100.000000</td>\n",
       "      <td>Thunderstorm</td>\n",
       "      <td>very heavy rain</td>\n",
       "      <td>2018-09-30 23:00:00</td>\n",
       "      <td>7280.000000</td>\n",
       "    </tr>\n",
       "    <tr>\n",
       "      <td>median</td>\n",
       "      <td>NaN</td>\n",
       "      <td>282.450000</td>\n",
       "      <td>0.000000</td>\n",
       "      <td>0.000000</td>\n",
       "      <td>64.000000</td>\n",
       "      <td>NaN</td>\n",
       "      <td>NaN</td>\n",
       "      <td>NaN</td>\n",
       "      <td>3380.000000</td>\n",
       "    </tr>\n",
       "    <tr>\n",
       "      <td>mean</td>\n",
       "      <td>NaN</td>\n",
       "      <td>281.205870</td>\n",
       "      <td>0.334264</td>\n",
       "      <td>0.000222</td>\n",
       "      <td>49.362231</td>\n",
       "      <td>NaN</td>\n",
       "      <td>NaN</td>\n",
       "      <td>NaN</td>\n",
       "      <td>3259.818355</td>\n",
       "    </tr>\n",
       "    <tr>\n",
       "      <td>std</td>\n",
       "      <td>NaN</td>\n",
       "      <td>13.338232</td>\n",
       "      <td>44.789133</td>\n",
       "      <td>0.008168</td>\n",
       "      <td>39.015750</td>\n",
       "      <td>NaN</td>\n",
       "      <td>NaN</td>\n",
       "      <td>NaN</td>\n",
       "      <td>1986.860670</td>\n",
       "    </tr>\n",
       "  </tbody>\n",
       "</table>\n",
       "</div>"
      ],
      "text/plain": [
       "                     holiday        temp      rain_1h   snow_1h  clouds_all  \\\n",
       "min            Christmas Day    0.000000     0.000000  0.000000    0.000000   \n",
       "max     Washingtons Birthday  310.070000  9831.300000  0.510000  100.000000   \n",
       "median                   NaN  282.450000     0.000000  0.000000   64.000000   \n",
       "mean                     NaN  281.205870     0.334264  0.000222   49.362231   \n",
       "std                      NaN   13.338232    44.789133  0.008168   39.015750   \n",
       "\n",
       "        weather_main weather_description            date_time  traffic_volume  \n",
       "min            Clear             SQUALLS  2012-10-02 09:00:00        0.000000  \n",
       "max     Thunderstorm     very heavy rain  2018-09-30 23:00:00     7280.000000  \n",
       "median           NaN                 NaN                  NaN     3380.000000  \n",
       "mean             NaN                 NaN                  NaN     3259.818355  \n",
       "std              NaN                 NaN                  NaN     1986.860670  "
      ]
     },
     "execution_count": 5,
     "metadata": {},
     "output_type": "execute_result"
    }
   ],
   "source": [
    "dataset_csv.agg([\"min\", \"max\", \"median\", \"mean\", \"std\"])"
   ]
  },
  {
   "cell_type": "code",
   "execution_count": 6,
   "metadata": {},
   "outputs": [
    {
     "data": {
      "text/html": [
       "<div>\n",
       "<style scoped>\n",
       "    .dataframe tbody tr th:only-of-type {\n",
       "        vertical-align: middle;\n",
       "    }\n",
       "\n",
       "    .dataframe tbody tr th {\n",
       "        vertical-align: top;\n",
       "    }\n",
       "\n",
       "    .dataframe thead th {\n",
       "        text-align: right;\n",
       "    }\n",
       "</style>\n",
       "<table border=\"1\" class=\"dataframe\">\n",
       "  <thead>\n",
       "    <tr style=\"text-align: right;\">\n",
       "      <th></th>\n",
       "      <th>size</th>\n",
       "      <th>temp_celsius</th>\n",
       "      <th>temp</th>\n",
       "      <th>traffic_volume</th>\n",
       "    </tr>\n",
       "    <tr>\n",
       "      <th>weather_main</th>\n",
       "      <th></th>\n",
       "      <th></th>\n",
       "      <th></th>\n",
       "      <th></th>\n",
       "    </tr>\n",
       "  </thead>\n",
       "  <tbody>\n",
       "    <tr>\n",
       "      <td>Clouds</td>\n",
       "      <td>15164</td>\n",
       "      <td>8.316101</td>\n",
       "      <td>281.466101</td>\n",
       "      <td>3618.449749</td>\n",
       "    </tr>\n",
       "    <tr>\n",
       "      <td>Haze</td>\n",
       "      <td>1360</td>\n",
       "      <td>2.668581</td>\n",
       "      <td>275.818581</td>\n",
       "      <td>3502.101471</td>\n",
       "    </tr>\n",
       "    <tr>\n",
       "      <td>Rain</td>\n",
       "      <td>5672</td>\n",
       "      <td>13.829586</td>\n",
       "      <td>286.979586</td>\n",
       "      <td>3317.905501</td>\n",
       "    </tr>\n",
       "    <tr>\n",
       "      <td>Drizzle</td>\n",
       "      <td>1821</td>\n",
       "      <td>10.645431</td>\n",
       "      <td>283.795431</td>\n",
       "      <td>3290.727073</td>\n",
       "    </tr>\n",
       "    <tr>\n",
       "      <td>Smoke</td>\n",
       "      <td>20</td>\n",
       "      <td>17.777500</td>\n",
       "      <td>290.927500</td>\n",
       "      <td>3237.650000</td>\n",
       "    </tr>\n",
       "    <tr>\n",
       "      <td>Clear</td>\n",
       "      <td>13391</td>\n",
       "      <td>8.339971</td>\n",
       "      <td>281.489971</td>\n",
       "      <td>3055.908819</td>\n",
       "    </tr>\n",
       "    <tr>\n",
       "      <td>Snow</td>\n",
       "      <td>2876</td>\n",
       "      <td>-5.194812</td>\n",
       "      <td>267.955188</td>\n",
       "      <td>3016.844228</td>\n",
       "    </tr>\n",
       "    <tr>\n",
       "      <td>Thunderstorm</td>\n",
       "      <td>1034</td>\n",
       "      <td>19.566431</td>\n",
       "      <td>292.716431</td>\n",
       "      <td>3001.620890</td>\n",
       "    </tr>\n",
       "    <tr>\n",
       "      <td>Mist</td>\n",
       "      <td>5950</td>\n",
       "      <td>6.326892</td>\n",
       "      <td>279.476892</td>\n",
       "      <td>2932.956639</td>\n",
       "    </tr>\n",
       "    <tr>\n",
       "      <td>Fog</td>\n",
       "      <td>912</td>\n",
       "      <td>6.265713</td>\n",
       "      <td>279.415713</td>\n",
       "      <td>2703.720395</td>\n",
       "    </tr>\n",
       "    <tr>\n",
       "      <td>Squall</td>\n",
       "      <td>4</td>\n",
       "      <td>19.237500</td>\n",
       "      <td>292.387500</td>\n",
       "      <td>2061.750000</td>\n",
       "    </tr>\n",
       "  </tbody>\n",
       "</table>\n",
       "</div>"
      ],
      "text/plain": [
       "               size  temp_celsius        temp  traffic_volume\n",
       "weather_main                                                 \n",
       "Clouds        15164      8.316101  281.466101     3618.449749\n",
       "Haze           1360      2.668581  275.818581     3502.101471\n",
       "Rain           5672     13.829586  286.979586     3317.905501\n",
       "Drizzle        1821     10.645431  283.795431     3290.727073\n",
       "Smoke            20     17.777500  290.927500     3237.650000\n",
       "Clear         13391      8.339971  281.489971     3055.908819\n",
       "Snow           2876     -5.194812  267.955188     3016.844228\n",
       "Thunderstorm   1034     19.566431  292.716431     3001.620890\n",
       "Mist           5950      6.326892  279.476892     2932.956639\n",
       "Fog             912      6.265713  279.415713     2703.720395\n",
       "Squall            4     19.237500  292.387500     2061.750000"
      ]
     },
     "execution_count": 6,
     "metadata": {},
     "output_type": "execute_result"
    }
   ],
   "source": [
    "mean_values = dataset_csv.groupby(\"weather_main\")[[\"temp\", \"traffic_volume\"]].mean()\n",
    "mean_values[\"temp_celsius\"] = mean_values[\"temp\"].apply(lambda temp_K: temp_K - 273.15)\n",
    "mean_values[\"size\"] = dataset_csv.groupby(\"weather_main\").size() # amount of entries in each group\n",
    "\n",
    "# order by the weather conditions which have the largest mean traffic volume\n",
    "mean_values[[\"size\", \"temp_celsius\", \"temp\", \"traffic_volume\"]].sort_values(by=\"traffic_volume\", ascending=False)"
   ]
  },
  {
   "cell_type": "code",
   "execution_count": 7,
   "metadata": {},
   "outputs": [
    {
     "data": {
      "text/plain": [
       "rain_1h\n",
       "0.00       44737\n",
       "0.25         948\n",
       "0.26           2\n",
       "0.27           5\n",
       "0.28          23\n",
       "           ...  \n",
       "28.70          2\n",
       "31.75          1\n",
       "44.45          1\n",
       "55.63          1\n",
       "9831.30        1\n",
       "Length: 372, dtype: int64"
      ]
     },
     "execution_count": 7,
     "metadata": {},
     "output_type": "execute_result"
    }
   ],
   "source": [
    "# 44737 / 48204 ~= 93.81% of entries have no rain (3467 have)\n",
    "dataset_csv.groupby(\"rain_1h\").size()"
   ]
  },
  {
   "cell_type": "code",
   "execution_count": 8,
   "metadata": {
    "scrolled": true
   },
   "outputs": [
    {
     "data": {
      "text/plain": [
       "snow_1h\n",
       "0.00    48141\n",
       "0.05       14\n",
       "0.06       12\n",
       "0.08        2\n",
       "0.10        6\n",
       "0.13        6\n",
       "0.17        3\n",
       "0.21        1\n",
       "0.25        6\n",
       "0.32        5\n",
       "0.44        2\n",
       "0.51        6\n",
       "dtype: int64"
      ]
     },
     "execution_count": 8,
     "metadata": {},
     "output_type": "execute_result"
    }
   ],
   "source": [
    "# 48141 / 48204 ~= 99.87% of entries have no snow (only 63 have)\n",
    "dataset_csv.groupby(\"snow_1h\").size()"
   ]
  },
  {
   "cell_type": "markdown",
   "metadata": {},
   "source": [
    "## 1. Clean the dataset"
   ]
  },
  {
   "cell_type": "code",
   "execution_count": 9,
   "metadata": {},
   "outputs": [],
   "source": [
    "# we'll copy our dataset to the DataFrame object 'data' to clean it and\n",
    "# save it as a new .csv file later (splitting it into trainning/validation and test)\n",
    "data = dataset_csv.copy()"
   ]
  },
  {
   "cell_type": "markdown",
   "metadata": {},
   "source": [
    "### 1.1. Removing invalid data"
   ]
  },
  {
   "cell_type": "code",
   "execution_count": 10,
   "metadata": {},
   "outputs": [
    {
     "name": "stdout",
     "output_type": "stream",
     "text": [
      "(48204, 9) - (10, 9) => (48194, 9)\n"
     ]
    }
   ],
   "source": [
    "# removing entries with 0 Kelvin temperature\n",
    "print(f\"{data.shape} - {data.query('temp == 0.0').shape} => \", end='')\n",
    "\n",
    "data = data.query(\"temp > 0.0\")\n",
    "print(data.shape) # removes 10 invalid samples"
   ]
  },
  {
   "cell_type": "code",
   "execution_count": 11,
   "metadata": {},
   "outputs": [
    {
     "data": {
      "text/html": [
       "<div>\n",
       "<style scoped>\n",
       "    .dataframe tbody tr th:only-of-type {\n",
       "        vertical-align: middle;\n",
       "    }\n",
       "\n",
       "    .dataframe tbody tr th {\n",
       "        vertical-align: top;\n",
       "    }\n",
       "\n",
       "    .dataframe thead th {\n",
       "        text-align: right;\n",
       "    }\n",
       "</style>\n",
       "<table border=\"1\" class=\"dataframe\">\n",
       "  <thead>\n",
       "    <tr style=\"text-align: right;\">\n",
       "      <th></th>\n",
       "      <th>holiday</th>\n",
       "      <th>temp</th>\n",
       "      <th>rain_1h</th>\n",
       "      <th>snow_1h</th>\n",
       "      <th>clouds_all</th>\n",
       "      <th>weather_main</th>\n",
       "      <th>weather_description</th>\n",
       "      <th>date_time</th>\n",
       "      <th>traffic_volume</th>\n",
       "    </tr>\n",
       "  </thead>\n",
       "  <tbody>\n",
       "    <tr>\n",
       "      <td>24872</td>\n",
       "      <td>None</td>\n",
       "      <td>302.11</td>\n",
       "      <td>9831.3</td>\n",
       "      <td>0.0</td>\n",
       "      <td>75</td>\n",
       "      <td>Rain</td>\n",
       "      <td>very heavy rain</td>\n",
       "      <td>2016-07-11 17:00:00</td>\n",
       "      <td>5535</td>\n",
       "    </tr>\n",
       "  </tbody>\n",
       "</table>\n",
       "</div>"
      ],
      "text/plain": [
       "      holiday    temp  rain_1h  snow_1h  clouds_all weather_main  \\\n",
       "24872    None  302.11   9831.3      0.0          75         Rain   \n",
       "\n",
       "      weather_description            date_time  traffic_volume  \n",
       "24872     very heavy rain  2016-07-11 17:00:00            5535  "
      ]
     },
     "execution_count": 11,
     "metadata": {},
     "output_type": "execute_result"
    }
   ],
   "source": [
    "# the max value of rain_1h is invalid (>1000mm), so we'll drop it\n",
    "data.query(\"rain_1h > 0.0\").sort_values(by=\"rain_1h\", ascending=False).head(n=1)"
   ]
  },
  {
   "cell_type": "code",
   "execution_count": 12,
   "metadata": {},
   "outputs": [],
   "source": [
    "data.drop(index=24872, inplace=True) # removes the row where rain_1h == 9831.30"
   ]
  },
  {
   "cell_type": "code",
   "execution_count": 13,
   "metadata": {},
   "outputs": [
    {
     "data": {
      "text/plain": [
       "(48193, 9)"
      ]
     },
     "execution_count": 13,
     "metadata": {},
     "output_type": "execute_result"
    }
   ],
   "source": [
    "data.shape"
   ]
  },
  {
   "cell_type": "markdown",
   "metadata": {},
   "source": [
    "### 1.2. Saving the clean dataset\n",
    "\n",
    "Note that we removed values from the whole dataset, and only then we'll split it into test, train and validation.\n",
    "\n",
    "However, the values we removed (0 Kelvin temperature and over 1000mm of rain in an hour) are clearly invalid, so even if we're dealing with test (never seen) data, we could confidently remove entries like these (besides that, only 11 rows were actually removed)."
   ]
  },
  {
   "cell_type": "code",
   "execution_count": 14,
   "metadata": {},
   "outputs": [],
   "source": [
    "data[\"date_time\"] = pd.to_datetime(data[\"date_time\"], format=\"%Y-%m-%d %H:%M:%S\")\n",
    "data.set_index(\"date_time\", inplace=True)"
   ]
  },
  {
   "cell_type": "code",
   "execution_count": 15,
   "metadata": {},
   "outputs": [],
   "source": [
    "data.to_csv(\"clean.csv\")"
   ]
  },
  {
   "cell_type": "markdown",
   "metadata": {},
   "source": [
    "## 2. Split the dataset into train/validation and test\n",
    "\n",
    "- test: 10%\n",
    "- train & validation: 90%\n",
    "    - train: 80%\n",
    "    - validation: 10%"
   ]
  },
  {
   "cell_type": "code",
   "execution_count": 16,
   "metadata": {},
   "outputs": [],
   "source": [
    "# random seed for splitting the data deterministically\n",
    "RANDOM_SEED = 1000"
   ]
  },
  {
   "cell_type": "code",
   "execution_count": 17,
   "metadata": {},
   "outputs": [
    {
     "name": "stdout",
     "output_type": "stream",
     "text": [
      "total: (48193, 8)\n",
      "\n",
      "train: (38554, 8)\n",
      "validation: (4819, 8)\n",
      "test: (4820, 8)\n"
     ]
    }
   ],
   "source": [
    "from sklearn.model_selection import train_test_split\n",
    "\n",
    "print(f\"total: {data.shape}\\n\")\n",
    "\n",
    "train_data, test_validation_data = train_test_split(data, train_size=0.8, shuffle=True, random_state=RANDOM_SEED)\n",
    "print(f\"train: {train_data.shape}\") # 80%\n",
    "\n",
    "validation_data, test_data = train_test_split(test_validation_data, test_size=0.5, shuffle=True, random_state=RANDOM_SEED)\n",
    "print(f\"validation: {validation_data.shape}\") # 10% of total\n",
    "print(f\"test: {test_data.shape}\") # 10% of total"
   ]
  },
  {
   "cell_type": "code",
   "execution_count": 18,
   "metadata": {
    "scrolled": false
   },
   "outputs": [
    {
     "name": "stdout",
     "output_type": "stream",
     "text": [
      "Train: \n",
      "                      traffic_volume\n",
      "date_time                          \n",
      "2012-10-02 10:00:00            4516\n",
      "2012-10-02 11:00:00            4767\n",
      "2012-10-02 12:00:00            5026\n",
      "2012-10-02 14:00:00            5181\n",
      "\n",
      "Validation: \n",
      "                      traffic_volume\n",
      "date_time                          \n",
      "2012-10-02 13:00:00            4918\n",
      "2012-10-03 12:00:00            5097\n",
      "2012-10-03 22:00:00            1777\n",
      "2012-10-04 00:00:00             598\n",
      "\n",
      "Test: \n",
      "                      traffic_volume\n",
      "date_time                          \n",
      "2012-10-02 09:00:00            5545\n",
      "2012-10-02 19:00:00            3539\n",
      "2012-10-02 22:00:00            1529\n",
      "2012-10-03 15:00:00            5692\n"
     ]
    }
   ],
   "source": [
    "# visualize the first values of each set\n",
    "print(\"Train: \\n\", train_data[[\"traffic_volume\"]].sort_values(\"date_time\").head(n=4))\n",
    "print(\"\\nValidation: \\n\", validation_data[[\"traffic_volume\"]].sort_values(\"date_time\").head(n=4))\n",
    "print(\"\\nTest: \\n\", test_data[[\"traffic_volume\"]].sort_values(\"date_time\").head(n=4))"
   ]
  },
  {
   "cell_type": "markdown",
   "metadata": {},
   "source": [
    "## 3. Transform features"
   ]
  },
  {
   "cell_type": "markdown",
   "metadata": {},
   "source": [
    "### 3.1. Turn 'date_time' into 'hour', 'weekday' and 'weekofyear'"
   ]
  },
  {
   "cell_type": "code",
   "execution_count": 19,
   "metadata": {},
   "outputs": [],
   "source": [
    "def transformed_date_time(df):\n",
    "    transformed_df = df.copy()\n",
    "    transformed_df.insert(0, \"hour\", pd.DatetimeIndex(transformed_df.index).hour)\n",
    "    transformed_df.insert(1, \"weekday\", pd.DatetimeIndex(transformed_df.index).weekday)\n",
    "    transformed_df.insert(2, \"weekofyear\", pd.DatetimeIndex(transformed_df.index).weekofyear)\n",
    "    return transformed_df"
   ]
  },
  {
   "cell_type": "markdown",
   "metadata": {},
   "source": [
    "### 3.2. Dropping 'snow_1h' and 'weather_description' columns\n",
    "They both seem redundant if we consider the 'weather_main' values."
   ]
  },
  {
   "cell_type": "code",
   "execution_count": 20,
   "metadata": {},
   "outputs": [],
   "source": [
    "def dropped_snow_1h_weather_description(df):\n",
    "    return df.drop(columns=[\"snow_1h\", \"weather_description\"])"
   ]
  },
  {
   "cell_type": "markdown",
   "metadata": {},
   "source": [
    "### 3.3. Adding holiday value to the whole day (not just at 00:00:00)"
   ]
  },
  {
   "cell_type": "code",
   "execution_count": 21,
   "metadata": {},
   "outputs": [],
   "source": [
    "def transformed_holiday(df):\n",
    "    transformed_df = df.copy()\n",
    "    transformed_df[\"date_time\"] = transformed_df.index\n",
    "    \n",
    "    holidays = transformed_df[transformed_df.holiday != \"None\"]\n",
    "    holiday_names = [row[\"holiday\"] for index, row in holidays.iterrows()]\n",
    "    holiday_dates = holidays[\"date_time\"].dt.normalize()\n",
    "    \n",
    "    # add holiday name to holiday days on hours other than 00:00:00\n",
    "    for holiday_name, holiday_date in zip(holiday_names, holiday_dates):\n",
    "        transformed_df.loc[(transformed_df[\"date_time\"].dt.normalize() == holiday_date), \"holiday\"] = holiday_name\n",
    "    \n",
    "    return transformed_df.drop(columns=[\"date_time\"])    "
   ]
  },
  {
   "cell_type": "markdown",
   "metadata": {},
   "source": [
    "### 3.5. Apply changes to the split sets"
   ]
  },
  {
   "cell_type": "code",
   "execution_count": 22,
   "metadata": {},
   "outputs": [],
   "source": [
    "def transformed(dataset, transformations=[transformed_date_time, dropped_snow_1h_weather_description, transformed_holiday]):\n",
    "    for transform in transformations:\n",
    "        dataset = transform(dataset)\n",
    "    return dataset"
   ]
  },
  {
   "cell_type": "code",
   "execution_count": 23,
   "metadata": {},
   "outputs": [],
   "source": [
    "train_data = transformed(train_data)\n",
    "validation_data = transformed(validation_data)\n",
    "\n",
    "test_data = transformed(test_data)"
   ]
  },
  {
   "cell_type": "markdown",
   "metadata": {},
   "source": [
    "### 3.6. Transform categorical features\n",
    "\n",
    "Instead of turning a categorical feature with $n$ possible values into an $n$-D vector, with entries having only one non-zero — _hot_ — element, we'll drop one dimension (i.e. not use one of the values), creating an $(n-1)$-D vector to avoid the [Dummy Variable Trap](https://www.algosome.com/articles/dummy-variable-trap-regression.html)."
   ]
  },
  {
   "cell_type": "code",
   "execution_count": 24,
   "metadata": {
    "scrolled": true
   },
   "outputs": [
    {
     "name": "stdout",
     "output_type": "stream",
     "text": [
      "['None' 'Columbus Day' 'Veterans Day' 'Thanksgiving Day' 'Christmas Day'\n",
      " 'New Years Day' 'Washingtons Birthday' 'Memorial Day' 'Independence Day'\n",
      " 'State Fair' 'Labor Day' 'Martin Luther King Jr Day'] \n",
      "\n",
      "['Clouds' 'Clear' 'Rain' 'Drizzle' 'Mist' 'Haze' 'Fog' 'Thunderstorm'\n",
      " 'Snow' 'Squall' 'Smoke']\n"
     ]
    }
   ],
   "source": [
    "# categorical attributes: \"holiday\", \"weather_main\"\n",
    "print(data[\"holiday\"].unique(), '\\n')\n",
    "print(data[\"weather_main\"].unique())"
   ]
  },
  {
   "cell_type": "code",
   "execution_count": 25,
   "metadata": {},
   "outputs": [],
   "source": [
    "# dummy encoding, n-D: \n",
    "#   pd.get_dummies(df, prefix=\"weather\", columns=[\"weather_main\"])\n",
    "\n",
    "# one-hot encoding, (n-1)-D:\n",
    "#   pd.get_dummies(df, prefix=\"weather\", columns=[\"weather_main\"], drop_first=True)\n",
    "\n",
    "def encoded_weather_main(df):\n",
    "    encoded_df = df.copy()\n",
    "    weather_encoding = pd.get_dummies(encoded_df[\"weather_main\"], drop_first=True) # drops Clear weather\n",
    "    encoded_df = pd.concat([encoded_df, weather_encoding], axis=1)\n",
    "    encoded_df.drop(columns=[\"weather_main\"], inplace=True)\n",
    "    return encoded_df"
   ]
  },
  {
   "cell_type": "code",
   "execution_count": 26,
   "metadata": {},
   "outputs": [],
   "source": [
    "# we'll make 'holiday' a binary value\n",
    "def encoded_holiday(df):\n",
    "    encoded_df = df.copy()\n",
    "    # obs.: comparing the value to 0 prevents accidents when running this twice\n",
    "    encoded_df[\"holiday\"] = encoded_df[\"holiday\"].apply(lambda h: 0 if (h == \"None\" or h == 0) else 1)\n",
    "    return encoded_df"
   ]
  },
  {
   "cell_type": "code",
   "execution_count": 27,
   "metadata": {},
   "outputs": [],
   "source": [
    "# trasformed categorical features\n",
    "def encoded(dataset, encodings=[encoded_weather_main, encoded_holiday]):\n",
    "    for encode in encodings:\n",
    "        dataset = encode(dataset)\n",
    "    return dataset"
   ]
  },
  {
   "cell_type": "code",
   "execution_count": 28,
   "metadata": {},
   "outputs": [],
   "source": [
    "train_data = encoded(train_data)\n",
    "validation_data = encoded(validation_data)\n",
    "\n",
    "test_data = encoded(test_data)"
   ]
  },
  {
   "cell_type": "markdown",
   "metadata": {},
   "source": [
    "### 3.7. Reorder columns"
   ]
  },
  {
   "cell_type": "code",
   "execution_count": 29,
   "metadata": {},
   "outputs": [],
   "source": [
    "columns_set = set(train_data.columns).union(set(validation_data.columns).union(set(test_data.columns)))\n",
    "for col in columns_set:\n",
    "    if col not in train_data:\n",
    "        train_data[col] = 0\n",
    "    if col not in validation_data:\n",
    "        validation_data[col] = 0\n",
    "    if col not in test_data:\n",
    "        test_data[col] = 0"
   ]
  },
  {
   "cell_type": "code",
   "execution_count": 30,
   "metadata": {},
   "outputs": [],
   "source": [
    "column_order = ['holiday','temp','rain_1h','clouds_all','hour','weekday', 'weekofyear', \n",
    "                'Clouds','Mist','Rain','Snow','Drizzle','Haze','Thunderstorm','Fog','Smoke','Squall','traffic_volume']\n",
    "for col in columns_set:\n",
    "    if col not in column_order:\n",
    "        print(f\"missing '{col}'\")"
   ]
  },
  {
   "cell_type": "code",
   "execution_count": 31,
   "metadata": {},
   "outputs": [],
   "source": [
    "# make 'traffic_volume' the last column\n",
    "if column_order[-1] != \"traffic_volume\":\n",
    "    print(\"'traffic_volume' should be the last column!\")"
   ]
  },
  {
   "cell_type": "code",
   "execution_count": 32,
   "metadata": {},
   "outputs": [],
   "source": [
    "train_data = train_data[column_order]\n",
    "validation_data = validation_data[column_order]\n",
    "test_data = test_data[column_order]"
   ]
  },
  {
   "cell_type": "markdown",
   "metadata": {},
   "source": [
    "## 4. Normalize values\n",
    "\n",
    "It's important we **normalize our trainning data** and save the mapping we made to it so we can use the same values once we deal with the validation and test sets (i.e. we don't want to be normalizing the test and validation sets based on their own values)."
   ]
  },
  {
   "cell_type": "code",
   "execution_count": 33,
   "metadata": {},
   "outputs": [],
   "source": [
    "# NOTE: we have to change this list if new columns are added\n",
    "attrs_to_normalize = [\"traffic_volume\", \"hour\", \"weekday\", \"weekofyear\", \"temp\", \"rain_1h\", \"clouds_all\"]\n",
    "def get_stats(df, columns, operations=['min', 'max', 'median', 'mean', 'std']):\n",
    "    return df[columns].agg(operations)"
   ]
  },
  {
   "cell_type": "markdown",
   "metadata": {},
   "source": [
    "Z-score normalization: $ x \\leftarrow \\dfrac{x - \\mu}{\\sigma}$ (makes the mean 0 and the standard deviation 1)"
   ]
  },
  {
   "cell_type": "code",
   "execution_count": 34,
   "metadata": {},
   "outputs": [],
   "source": [
    "# mu = mean, sigma = stddev\n",
    "def z_score(x, mu, sigma):\n",
    "    return (x - mu) / sigma\n",
    "\n",
    "def normalized(dataset, stats):\n",
    "    normalized_dataset = dataset.copy()\n",
    "    for col in stats:\n",
    "        col_mean = stats.loc[\"mean\", col]\n",
    "        col_stddev = stats.loc[\"std\", col]\n",
    "        normalized_dataset.loc[:, col] = dataset.loc[:, col].apply(lambda x: z_score(x, mu=col_mean, sigma=col_stddev))\n",
    "    return normalized_dataset"
   ]
  },
  {
   "cell_type": "code",
   "execution_count": 35,
   "metadata": {},
   "outputs": [],
   "source": [
    "# NOTE: we must use 'train_stats' when normalizing 'validation_data' and 'test_data' aswell\n",
    "train_stats = get_stats(train_data, columns=attrs_to_normalize).copy()"
   ]
  },
  {
   "cell_type": "code",
   "execution_count": 36,
   "metadata": {},
   "outputs": [
    {
     "data": {
      "text/html": [
       "<div>\n",
       "<style scoped>\n",
       "    .dataframe tbody tr th:only-of-type {\n",
       "        vertical-align: middle;\n",
       "    }\n",
       "\n",
       "    .dataframe tbody tr th {\n",
       "        vertical-align: top;\n",
       "    }\n",
       "\n",
       "    .dataframe thead th {\n",
       "        text-align: right;\n",
       "    }\n",
       "</style>\n",
       "<table border=\"1\" class=\"dataframe\">\n",
       "  <thead>\n",
       "    <tr style=\"text-align: right;\">\n",
       "      <th></th>\n",
       "      <th>traffic_volume</th>\n",
       "      <th>hour</th>\n",
       "      <th>weekday</th>\n",
       "      <th>weekofyear</th>\n",
       "      <th>temp</th>\n",
       "      <th>rain_1h</th>\n",
       "      <th>clouds_all</th>\n",
       "    </tr>\n",
       "  </thead>\n",
       "  <tbody>\n",
       "    <tr>\n",
       "      <td>min</td>\n",
       "      <td>0.000000</td>\n",
       "      <td>0.000000</td>\n",
       "      <td>0.000000</td>\n",
       "      <td>1.000000</td>\n",
       "      <td>243.390000</td>\n",
       "      <td>0.000000</td>\n",
       "      <td>0.000000</td>\n",
       "    </tr>\n",
       "    <tr>\n",
       "      <td>max</td>\n",
       "      <td>7280.000000</td>\n",
       "      <td>23.000000</td>\n",
       "      <td>6.000000</td>\n",
       "      <td>53.000000</td>\n",
       "      <td>310.070000</td>\n",
       "      <td>44.450000</td>\n",
       "      <td>100.000000</td>\n",
       "    </tr>\n",
       "    <tr>\n",
       "      <td>median</td>\n",
       "      <td>3374.000000</td>\n",
       "      <td>11.000000</td>\n",
       "      <td>3.000000</td>\n",
       "      <td>27.000000</td>\n",
       "      <td>282.420000</td>\n",
       "      <td>0.000000</td>\n",
       "      <td>64.000000</td>\n",
       "    </tr>\n",
       "    <tr>\n",
       "      <td>mean</td>\n",
       "      <td>3257.364502</td>\n",
       "      <td>11.385563</td>\n",
       "      <td>2.979535</td>\n",
       "      <td>26.428749</td>\n",
       "      <td>281.242599</td>\n",
       "      <td>0.128221</td>\n",
       "      <td>49.318955</td>\n",
       "    </tr>\n",
       "    <tr>\n",
       "      <td>std</td>\n",
       "      <td>1988.217256</td>\n",
       "      <td>6.948244</td>\n",
       "      <td>2.006958</td>\n",
       "      <td>14.837909</td>\n",
       "      <td>12.714409</td>\n",
       "      <td>0.962343</td>\n",
       "      <td>39.046092</td>\n",
       "    </tr>\n",
       "  </tbody>\n",
       "</table>\n",
       "</div>"
      ],
      "text/plain": [
       "        traffic_volume       hour   weekday  weekofyear        temp  \\\n",
       "min           0.000000   0.000000  0.000000    1.000000  243.390000   \n",
       "max        7280.000000  23.000000  6.000000   53.000000  310.070000   \n",
       "median     3374.000000  11.000000  3.000000   27.000000  282.420000   \n",
       "mean       3257.364502  11.385563  2.979535   26.428749  281.242599   \n",
       "std        1988.217256   6.948244  2.006958   14.837909   12.714409   \n",
       "\n",
       "          rain_1h  clouds_all  \n",
       "min      0.000000    0.000000  \n",
       "max     44.450000  100.000000  \n",
       "median   0.000000   64.000000  \n",
       "mean     0.128221   49.318955  \n",
       "std      0.962343   39.046092  "
      ]
     },
     "execution_count": 36,
     "metadata": {},
     "output_type": "execute_result"
    }
   ],
   "source": [
    "train_stats"
   ]
  },
  {
   "cell_type": "code",
   "execution_count": 37,
   "metadata": {},
   "outputs": [],
   "source": [
    "train_data = normalized(train_data, stats=train_stats)\n",
    "validation_data = normalized(validation_data, stats=train_stats)\n",
    "test_data = normalized(test_data, stats=train_stats)"
   ]
  },
  {
   "cell_type": "code",
   "execution_count": 38,
   "metadata": {},
   "outputs": [
    {
     "data": {
      "text/html": [
       "<div>\n",
       "<style scoped>\n",
       "    .dataframe tbody tr th:only-of-type {\n",
       "        vertical-align: middle;\n",
       "    }\n",
       "\n",
       "    .dataframe tbody tr th {\n",
       "        vertical-align: top;\n",
       "    }\n",
       "\n",
       "    .dataframe thead th {\n",
       "        text-align: right;\n",
       "    }\n",
       "</style>\n",
       "<table border=\"1\" class=\"dataframe\">\n",
       "  <thead>\n",
       "    <tr style=\"text-align: right;\">\n",
       "      <th></th>\n",
       "      <th>traffic_volume</th>\n",
       "      <th>hour</th>\n",
       "      <th>weekday</th>\n",
       "      <th>weekofyear</th>\n",
       "      <th>temp</th>\n",
       "      <th>rain_1h</th>\n",
       "      <th>clouds_all</th>\n",
       "    </tr>\n",
       "  </thead>\n",
       "  <tbody>\n",
       "    <tr>\n",
       "      <td>min</td>\n",
       "      <td>-1.638334e+00</td>\n",
       "      <td>-1.638624e+00</td>\n",
       "      <td>-1.484603e+00</td>\n",
       "      <td>-1.713769e+00</td>\n",
       "      <td>-2.977142e+00</td>\n",
       "      <td>-1.332388e-01</td>\n",
       "      <td>-1.263096e+00</td>\n",
       "    </tr>\n",
       "    <tr>\n",
       "      <td>max</td>\n",
       "      <td>2.023237e+00</td>\n",
       "      <td>1.671564e+00</td>\n",
       "      <td>1.504997e+00</td>\n",
       "      <td>1.790768e+00</td>\n",
       "      <td>2.267302e+00</td>\n",
       "      <td>4.605611e+01</td>\n",
       "      <td>1.297980e+00</td>\n",
       "    </tr>\n",
       "    <tr>\n",
       "      <td>median</td>\n",
       "      <td>5.866336e-02</td>\n",
       "      <td>-5.549072e-02</td>\n",
       "      <td>1.019693e-02</td>\n",
       "      <td>3.849941e-02</td>\n",
       "      <td>9.260367e-02</td>\n",
       "      <td>-1.332388e-01</td>\n",
       "      <td>3.759927e-01</td>\n",
       "    </tr>\n",
       "    <tr>\n",
       "      <td>mean</td>\n",
       "      <td>6.782169e-17</td>\n",
       "      <td>2.488024e-18</td>\n",
       "      <td>1.002581e-16</td>\n",
       "      <td>4.478443e-17</td>\n",
       "      <td>-4.880397e-15</td>\n",
       "      <td>-3.022488e-17</td>\n",
       "      <td>-2.045708e-17</td>\n",
       "    </tr>\n",
       "    <tr>\n",
       "      <td>std</td>\n",
       "      <td>1.000000e+00</td>\n",
       "      <td>1.000000e+00</td>\n",
       "      <td>1.000000e+00</td>\n",
       "      <td>1.000000e+00</td>\n",
       "      <td>1.000000e+00</td>\n",
       "      <td>1.000000e+00</td>\n",
       "      <td>1.000000e+00</td>\n",
       "    </tr>\n",
       "  </tbody>\n",
       "</table>\n",
       "</div>"
      ],
      "text/plain": [
       "        traffic_volume          hour       weekday    weekofyear  \\\n",
       "min      -1.638334e+00 -1.638624e+00 -1.484603e+00 -1.713769e+00   \n",
       "max       2.023237e+00  1.671564e+00  1.504997e+00  1.790768e+00   \n",
       "median    5.866336e-02 -5.549072e-02  1.019693e-02  3.849941e-02   \n",
       "mean      6.782169e-17  2.488024e-18  1.002581e-16  4.478443e-17   \n",
       "std       1.000000e+00  1.000000e+00  1.000000e+00  1.000000e+00   \n",
       "\n",
       "                temp       rain_1h    clouds_all  \n",
       "min    -2.977142e+00 -1.332388e-01 -1.263096e+00  \n",
       "max     2.267302e+00  4.605611e+01  1.297980e+00  \n",
       "median  9.260367e-02 -1.332388e-01  3.759927e-01  \n",
       "mean   -4.880397e-15 -3.022488e-17 -2.045708e-17  \n",
       "std     1.000000e+00  1.000000e+00  1.000000e+00  "
      ]
     },
     "execution_count": 38,
     "metadata": {},
     "output_type": "execute_result"
    }
   ],
   "source": [
    "# we should now see mean~=0 and std~=1 for all attributes\n",
    "get_stats(train_data, columns=attrs_to_normalize)"
   ]
  },
  {
   "cell_type": "code",
   "execution_count": 39,
   "metadata": {
    "scrolled": true
   },
   "outputs": [
    {
     "data": {
      "text/html": [
       "<div>\n",
       "<style scoped>\n",
       "    .dataframe tbody tr th:only-of-type {\n",
       "        vertical-align: middle;\n",
       "    }\n",
       "\n",
       "    .dataframe tbody tr th {\n",
       "        vertical-align: top;\n",
       "    }\n",
       "\n",
       "    .dataframe thead th {\n",
       "        text-align: right;\n",
       "    }\n",
       "</style>\n",
       "<table border=\"1\" class=\"dataframe\">\n",
       "  <thead>\n",
       "    <tr style=\"text-align: right;\">\n",
       "      <th></th>\n",
       "      <th>traffic_volume</th>\n",
       "      <th>hour</th>\n",
       "      <th>weekday</th>\n",
       "      <th>weekofyear</th>\n",
       "      <th>temp</th>\n",
       "      <th>rain_1h</th>\n",
       "      <th>clouds_all</th>\n",
       "    </tr>\n",
       "  </thead>\n",
       "  <tbody>\n",
       "    <tr>\n",
       "      <td>min</td>\n",
       "      <td>-1.636825</td>\n",
       "      <td>-1.638624</td>\n",
       "      <td>-1.484603</td>\n",
       "      <td>-1.713769</td>\n",
       "      <td>-2.801750</td>\n",
       "      <td>-0.133239</td>\n",
       "      <td>-1.263096</td>\n",
       "    </tr>\n",
       "    <tr>\n",
       "      <td>max</td>\n",
       "      <td>1.937734</td>\n",
       "      <td>1.671564</td>\n",
       "      <td>1.504997</td>\n",
       "      <td>1.790768</td>\n",
       "      <td>2.172921</td>\n",
       "      <td>29.689805</td>\n",
       "      <td>1.297980</td>\n",
       "    </tr>\n",
       "    <tr>\n",
       "      <td>median</td>\n",
       "      <td>0.083812</td>\n",
       "      <td>-0.055491</td>\n",
       "      <td>0.010197</td>\n",
       "      <td>0.038499</td>\n",
       "      <td>0.107547</td>\n",
       "      <td>-0.133239</td>\n",
       "      <td>0.375993</td>\n",
       "    </tr>\n",
       "    <tr>\n",
       "      <td>mean</td>\n",
       "      <td>0.004516</td>\n",
       "      <td>0.008361</td>\n",
       "      <td>0.025603</td>\n",
       "      <td>0.026668</td>\n",
       "      <td>-0.002774</td>\n",
       "      <td>-0.004895</td>\n",
       "      <td>0.015513</td>\n",
       "    </tr>\n",
       "    <tr>\n",
       "      <td>std</td>\n",
       "      <td>0.998164</td>\n",
       "      <td>0.996260</td>\n",
       "      <td>0.993021</td>\n",
       "      <td>1.008651</td>\n",
       "      <td>0.998522</td>\n",
       "      <td>1.008857</td>\n",
       "      <td>0.993087</td>\n",
       "    </tr>\n",
       "  </tbody>\n",
       "</table>\n",
       "</div>"
      ],
      "text/plain": [
       "        traffic_volume      hour   weekday  weekofyear      temp    rain_1h  \\\n",
       "min          -1.636825 -1.638624 -1.484603   -1.713769 -2.801750  -0.133239   \n",
       "max           1.937734  1.671564  1.504997    1.790768  2.172921  29.689805   \n",
       "median        0.083812 -0.055491  0.010197    0.038499  0.107547  -0.133239   \n",
       "mean          0.004516  0.008361  0.025603    0.026668 -0.002774  -0.004895   \n",
       "std           0.998164  0.996260  0.993021    1.008651  0.998522   1.008857   \n",
       "\n",
       "        clouds_all  \n",
       "min      -1.263096  \n",
       "max       1.297980  \n",
       "median    0.375993  \n",
       "mean      0.015513  \n",
       "std       0.993087  "
      ]
     },
     "execution_count": 39,
     "metadata": {},
     "output_type": "execute_result"
    }
   ],
   "source": [
    "# we should now see mean close to 0 and std close to 1\n",
    "get_stats(validation_data, columns=attrs_to_normalize)"
   ]
  },
  {
   "cell_type": "code",
   "execution_count": 40,
   "metadata": {},
   "outputs": [
    {
     "data": {
      "text/html": [
       "<div>\n",
       "<style scoped>\n",
       "    .dataframe tbody tr th:only-of-type {\n",
       "        vertical-align: middle;\n",
       "    }\n",
       "\n",
       "    .dataframe tbody tr th {\n",
       "        vertical-align: top;\n",
       "    }\n",
       "\n",
       "    .dataframe thead th {\n",
       "        text-align: right;\n",
       "    }\n",
       "</style>\n",
       "<table border=\"1\" class=\"dataframe\">\n",
       "  <thead>\n",
       "    <tr style=\"text-align: right;\">\n",
       "      <th></th>\n",
       "      <th>traffic_volume</th>\n",
       "      <th>hour</th>\n",
       "      <th>weekday</th>\n",
       "      <th>weekofyear</th>\n",
       "      <th>temp</th>\n",
       "      <th>rain_1h</th>\n",
       "      <th>clouds_all</th>\n",
       "    </tr>\n",
       "  </thead>\n",
       "  <tbody>\n",
       "    <tr>\n",
       "      <td>min</td>\n",
       "      <td>-1.637831</td>\n",
       "      <td>-1.638624</td>\n",
       "      <td>-1.484603</td>\n",
       "      <td>-1.713769</td>\n",
       "      <td>-2.734897</td>\n",
       "      <td>-0.133239</td>\n",
       "      <td>-1.263096</td>\n",
       "    </tr>\n",
       "    <tr>\n",
       "      <td>max</td>\n",
       "      <td>1.978977</td>\n",
       "      <td>1.671564</td>\n",
       "      <td>1.504997</td>\n",
       "      <td>1.790768</td>\n",
       "      <td>2.009327</td>\n",
       "      <td>57.673588</td>\n",
       "      <td>1.297980</td>\n",
       "    </tr>\n",
       "    <tr>\n",
       "      <td>median</td>\n",
       "      <td>0.071740</td>\n",
       "      <td>-0.055491</td>\n",
       "      <td>0.010197</td>\n",
       "      <td>0.038499</td>\n",
       "      <td>0.124064</td>\n",
       "      <td>-0.133239</td>\n",
       "      <td>0.375993</td>\n",
       "    </tr>\n",
       "    <tr>\n",
       "      <td>mean</td>\n",
       "      <td>0.009614</td>\n",
       "      <td>0.011483</td>\n",
       "      <td>-0.000451</td>\n",
       "      <td>0.015876</td>\n",
       "      <td>0.019435</td>\n",
       "      <td>0.026923</td>\n",
       "      <td>-0.001941</td>\n",
       "    </tr>\n",
       "    <tr>\n",
       "      <td>std</td>\n",
       "      <td>0.994623</td>\n",
       "      <td>0.992478</td>\n",
       "      <td>1.001196</td>\n",
       "      <td>0.993134</td>\n",
       "      <td>0.997535</td>\n",
       "      <td>1.362048</td>\n",
       "      <td>0.998649</td>\n",
       "    </tr>\n",
       "  </tbody>\n",
       "</table>\n",
       "</div>"
      ],
      "text/plain": [
       "        traffic_volume      hour   weekday  weekofyear      temp    rain_1h  \\\n",
       "min          -1.637831 -1.638624 -1.484603   -1.713769 -2.734897  -0.133239   \n",
       "max           1.978977  1.671564  1.504997    1.790768  2.009327  57.673588   \n",
       "median        0.071740 -0.055491  0.010197    0.038499  0.124064  -0.133239   \n",
       "mean          0.009614  0.011483 -0.000451    0.015876  0.019435   0.026923   \n",
       "std           0.994623  0.992478  1.001196    0.993134  0.997535   1.362048   \n",
       "\n",
       "        clouds_all  \n",
       "min      -1.263096  \n",
       "max       1.297980  \n",
       "median    0.375993  \n",
       "mean     -0.001941  \n",
       "std       0.998649  "
      ]
     },
     "execution_count": 40,
     "metadata": {},
     "output_type": "execute_result"
    }
   ],
   "source": [
    "# we should now see mean close to 0 and std close to 1\n",
    "get_stats(test_data, columns=attrs_to_normalize)"
   ]
  },
  {
   "cell_type": "markdown",
   "metadata": {},
   "source": [
    "## 5. Save the split data, normalized with values from the training set"
   ]
  },
  {
   "cell_type": "code",
   "execution_count": 41,
   "metadata": {},
   "outputs": [],
   "source": [
    "train_data.to_csv(\"train_80.csv\")\n",
    "validation_data.to_csv(\"validation_10.csv\")\n",
    "\n",
    "test_data.to_csv(\"test_10.csv\") # and now.. don't touch it anymore!"
   ]
  },
  {
   "cell_type": "code",
   "execution_count": 42,
   "metadata": {
    "scrolled": true
   },
   "outputs": [
    {
     "data": {
      "text/html": [
       "<div>\n",
       "<style scoped>\n",
       "    .dataframe tbody tr th:only-of-type {\n",
       "        vertical-align: middle;\n",
       "    }\n",
       "\n",
       "    .dataframe tbody tr th {\n",
       "        vertical-align: top;\n",
       "    }\n",
       "\n",
       "    .dataframe thead th {\n",
       "        text-align: right;\n",
       "    }\n",
       "</style>\n",
       "<table border=\"1\" class=\"dataframe\">\n",
       "  <thead>\n",
       "    <tr style=\"text-align: right;\">\n",
       "      <th></th>\n",
       "      <th>holiday</th>\n",
       "      <th>temp</th>\n",
       "      <th>rain_1h</th>\n",
       "      <th>clouds_all</th>\n",
       "      <th>hour</th>\n",
       "      <th>weekday</th>\n",
       "      <th>weekofyear</th>\n",
       "      <th>Clouds</th>\n",
       "      <th>Mist</th>\n",
       "      <th>Rain</th>\n",
       "      <th>Snow</th>\n",
       "      <th>Drizzle</th>\n",
       "      <th>Haze</th>\n",
       "      <th>Thunderstorm</th>\n",
       "      <th>Fog</th>\n",
       "      <th>Smoke</th>\n",
       "      <th>Squall</th>\n",
       "      <th>traffic_volume</th>\n",
       "    </tr>\n",
       "    <tr>\n",
       "      <th>date_time</th>\n",
       "      <th></th>\n",
       "      <th></th>\n",
       "      <th></th>\n",
       "      <th></th>\n",
       "      <th></th>\n",
       "      <th></th>\n",
       "      <th></th>\n",
       "      <th></th>\n",
       "      <th></th>\n",
       "      <th></th>\n",
       "      <th></th>\n",
       "      <th></th>\n",
       "      <th></th>\n",
       "      <th></th>\n",
       "      <th></th>\n",
       "      <th></th>\n",
       "      <th></th>\n",
       "      <th></th>\n",
       "    </tr>\n",
       "  </thead>\n",
       "  <tbody>\n",
       "    <tr>\n",
       "      <td>2014-06-01 15:00:00</td>\n",
       "      <td>0</td>\n",
       "      <td>1.048999</td>\n",
       "      <td>0.396718</td>\n",
       "      <td>-0.750881</td>\n",
       "      <td>0.520194</td>\n",
       "      <td>1.504997</td>\n",
       "      <td>-0.298475</td>\n",
       "      <td>0</td>\n",
       "      <td>0</td>\n",
       "      <td>1</td>\n",
       "      <td>0</td>\n",
       "      <td>0</td>\n",
       "      <td>0</td>\n",
       "      <td>0</td>\n",
       "      <td>0</td>\n",
       "      <td>0</td>\n",
       "      <td>0</td>\n",
       "      <td>0.689379</td>\n",
       "    </tr>\n",
       "    <tr>\n",
       "      <td>2018-01-13 16:00:00</td>\n",
       "      <td>0</td>\n",
       "      <td>-1.894905</td>\n",
       "      <td>-0.133239</td>\n",
       "      <td>-1.135042</td>\n",
       "      <td>0.664116</td>\n",
       "      <td>1.006730</td>\n",
       "      <td>-1.646374</td>\n",
       "      <td>0</td>\n",
       "      <td>0</td>\n",
       "      <td>0</td>\n",
       "      <td>0</td>\n",
       "      <td>0</td>\n",
       "      <td>0</td>\n",
       "      <td>0</td>\n",
       "      <td>0</td>\n",
       "      <td>0</td>\n",
       "      <td>0</td>\n",
       "      <td>0.172836</td>\n",
       "    </tr>\n",
       "    <tr>\n",
       "      <td>2014-07-19 01:00:00</td>\n",
       "      <td>0</td>\n",
       "      <td>0.986865</td>\n",
       "      <td>-0.133239</td>\n",
       "      <td>-1.058210</td>\n",
       "      <td>-1.494703</td>\n",
       "      <td>1.006730</td>\n",
       "      <td>0.173289</td>\n",
       "      <td>0</td>\n",
       "      <td>0</td>\n",
       "      <td>0</td>\n",
       "      <td>0</td>\n",
       "      <td>0</td>\n",
       "      <td>0</td>\n",
       "      <td>0</td>\n",
       "      <td>0</td>\n",
       "      <td>0</td>\n",
       "      <td>0</td>\n",
       "      <td>-1.212325</td>\n",
       "    </tr>\n",
       "    <tr>\n",
       "      <td>2013-04-20 02:00:00</td>\n",
       "      <td>0</td>\n",
       "      <td>-0.681321</td>\n",
       "      <td>-0.133239</td>\n",
       "      <td>1.041872</td>\n",
       "      <td>-1.350782</td>\n",
       "      <td>1.006730</td>\n",
       "      <td>-0.702845</td>\n",
       "      <td>0</td>\n",
       "      <td>0</td>\n",
       "      <td>0</td>\n",
       "      <td>1</td>\n",
       "      <td>0</td>\n",
       "      <td>0</td>\n",
       "      <td>0</td>\n",
       "      <td>0</td>\n",
       "      <td>0</td>\n",
       "      <td>0</td>\n",
       "      <td>-1.351142</td>\n",
       "    </tr>\n",
       "  </tbody>\n",
       "</table>\n",
       "</div>"
      ],
      "text/plain": [
       "                     holiday      temp   rain_1h  clouds_all      hour  \\\n",
       "date_time                                                                \n",
       "2014-06-01 15:00:00        0  1.048999  0.396718   -0.750881  0.520194   \n",
       "2018-01-13 16:00:00        0 -1.894905 -0.133239   -1.135042  0.664116   \n",
       "2014-07-19 01:00:00        0  0.986865 -0.133239   -1.058210 -1.494703   \n",
       "2013-04-20 02:00:00        0 -0.681321 -0.133239    1.041872 -1.350782   \n",
       "\n",
       "                      weekday  weekofyear  Clouds  Mist  Rain  Snow  Drizzle  \\\n",
       "date_time                                                                      \n",
       "2014-06-01 15:00:00  1.504997   -0.298475       0     0     1     0        0   \n",
       "2018-01-13 16:00:00  1.006730   -1.646374       0     0     0     0        0   \n",
       "2014-07-19 01:00:00  1.006730    0.173289       0     0     0     0        0   \n",
       "2013-04-20 02:00:00  1.006730   -0.702845       0     0     0     1        0   \n",
       "\n",
       "                     Haze  Thunderstorm  Fog  Smoke  Squall  traffic_volume  \n",
       "date_time                                                                    \n",
       "2014-06-01 15:00:00     0             0    0      0       0        0.689379  \n",
       "2018-01-13 16:00:00     0             0    0      0       0        0.172836  \n",
       "2014-07-19 01:00:00     0             0    0      0       0       -1.212325  \n",
       "2013-04-20 02:00:00     0             0    0      0       0       -1.351142  "
      ]
     },
     "execution_count": 42,
     "metadata": {},
     "output_type": "execute_result"
    }
   ],
   "source": [
    "train_data.head(n=4)"
   ]
  },
  {
   "cell_type": "code",
   "execution_count": 43,
   "metadata": {
    "scrolled": true
   },
   "outputs": [
    {
     "data": {
      "text/html": [
       "<div>\n",
       "<style scoped>\n",
       "    .dataframe tbody tr th:only-of-type {\n",
       "        vertical-align: middle;\n",
       "    }\n",
       "\n",
       "    .dataframe tbody tr th {\n",
       "        vertical-align: top;\n",
       "    }\n",
       "\n",
       "    .dataframe thead th {\n",
       "        text-align: right;\n",
       "    }\n",
       "</style>\n",
       "<table border=\"1\" class=\"dataframe\">\n",
       "  <thead>\n",
       "    <tr style=\"text-align: right;\">\n",
       "      <th></th>\n",
       "      <th>holiday</th>\n",
       "      <th>temp</th>\n",
       "      <th>rain_1h</th>\n",
       "      <th>clouds_all</th>\n",
       "      <th>hour</th>\n",
       "      <th>weekday</th>\n",
       "      <th>weekofyear</th>\n",
       "      <th>Clouds</th>\n",
       "      <th>Mist</th>\n",
       "      <th>Rain</th>\n",
       "      <th>Snow</th>\n",
       "      <th>Drizzle</th>\n",
       "      <th>Haze</th>\n",
       "      <th>Thunderstorm</th>\n",
       "      <th>Fog</th>\n",
       "      <th>Smoke</th>\n",
       "      <th>Squall</th>\n",
       "      <th>traffic_volume</th>\n",
       "    </tr>\n",
       "    <tr>\n",
       "      <th>date_time</th>\n",
       "      <th></th>\n",
       "      <th></th>\n",
       "      <th></th>\n",
       "      <th></th>\n",
       "      <th></th>\n",
       "      <th></th>\n",
       "      <th></th>\n",
       "      <th></th>\n",
       "      <th></th>\n",
       "      <th></th>\n",
       "      <th></th>\n",
       "      <th></th>\n",
       "      <th></th>\n",
       "      <th></th>\n",
       "      <th></th>\n",
       "      <th></th>\n",
       "      <th></th>\n",
       "      <th></th>\n",
       "    </tr>\n",
       "  </thead>\n",
       "  <tbody>\n",
       "    <tr>\n",
       "      <td>2014-04-10 23:00:00</td>\n",
       "      <td>0</td>\n",
       "      <td>-0.107956</td>\n",
       "      <td>-0.133239</td>\n",
       "      <td>-0.750881</td>\n",
       "      <td>1.671564</td>\n",
       "      <td>0.010197</td>\n",
       "      <td>-0.770240</td>\n",
       "      <td>1</td>\n",
       "      <td>0</td>\n",
       "      <td>0</td>\n",
       "      <td>0</td>\n",
       "      <td>0</td>\n",
       "      <td>0</td>\n",
       "      <td>0</td>\n",
       "      <td>0</td>\n",
       "      <td>0</td>\n",
       "      <td>0</td>\n",
       "      <td>-0.938713</td>\n",
       "    </tr>\n",
       "    <tr>\n",
       "      <td>2014-02-21 03:00:00</td>\n",
       "      <td>0</td>\n",
       "      <td>-1.521313</td>\n",
       "      <td>-0.133239</td>\n",
       "      <td>1.041872</td>\n",
       "      <td>-1.206861</td>\n",
       "      <td>0.508463</td>\n",
       "      <td>-1.242004</td>\n",
       "      <td>1</td>\n",
       "      <td>0</td>\n",
       "      <td>0</td>\n",
       "      <td>0</td>\n",
       "      <td>0</td>\n",
       "      <td>0</td>\n",
       "      <td>0</td>\n",
       "      <td>0</td>\n",
       "      <td>0</td>\n",
       "      <td>0</td>\n",
       "      <td>-1.481913</td>\n",
       "    </tr>\n",
       "    <tr>\n",
       "      <td>2016-05-04 02:00:00</td>\n",
       "      <td>0</td>\n",
       "      <td>0.240467</td>\n",
       "      <td>-0.133239</td>\n",
       "      <td>-1.237485</td>\n",
       "      <td>-1.350782</td>\n",
       "      <td>-0.488070</td>\n",
       "      <td>-0.568055</td>\n",
       "      <td>0</td>\n",
       "      <td>0</td>\n",
       "      <td>0</td>\n",
       "      <td>0</td>\n",
       "      <td>0</td>\n",
       "      <td>0</td>\n",
       "      <td>0</td>\n",
       "      <td>0</td>\n",
       "      <td>0</td>\n",
       "      <td>0</td>\n",
       "      <td>-1.202265</td>\n",
       "    </tr>\n",
       "    <tr>\n",
       "      <td>2016-04-25 04:00:00</td>\n",
       "      <td>0</td>\n",
       "      <td>0.249119</td>\n",
       "      <td>0.396718</td>\n",
       "      <td>-0.238666</td>\n",
       "      <td>-1.062939</td>\n",
       "      <td>-1.484603</td>\n",
       "      <td>-0.635450</td>\n",
       "      <td>0</td>\n",
       "      <td>0</td>\n",
       "      <td>0</td>\n",
       "      <td>0</td>\n",
       "      <td>1</td>\n",
       "      <td>0</td>\n",
       "      <td>0</td>\n",
       "      <td>0</td>\n",
       "      <td>0</td>\n",
       "      <td>0</td>\n",
       "      <td>-1.220875</td>\n",
       "    </tr>\n",
       "  </tbody>\n",
       "</table>\n",
       "</div>"
      ],
      "text/plain": [
       "                     holiday      temp   rain_1h  clouds_all      hour  \\\n",
       "date_time                                                                \n",
       "2014-04-10 23:00:00        0 -0.107956 -0.133239   -0.750881  1.671564   \n",
       "2014-02-21 03:00:00        0 -1.521313 -0.133239    1.041872 -1.206861   \n",
       "2016-05-04 02:00:00        0  0.240467 -0.133239   -1.237485 -1.350782   \n",
       "2016-04-25 04:00:00        0  0.249119  0.396718   -0.238666 -1.062939   \n",
       "\n",
       "                      weekday  weekofyear  Clouds  Mist  Rain  Snow  Drizzle  \\\n",
       "date_time                                                                      \n",
       "2014-04-10 23:00:00  0.010197   -0.770240       1     0     0     0        0   \n",
       "2014-02-21 03:00:00  0.508463   -1.242004       1     0     0     0        0   \n",
       "2016-05-04 02:00:00 -0.488070   -0.568055       0     0     0     0        0   \n",
       "2016-04-25 04:00:00 -1.484603   -0.635450       0     0     0     0        1   \n",
       "\n",
       "                     Haze  Thunderstorm  Fog  Smoke  Squall  traffic_volume  \n",
       "date_time                                                                    \n",
       "2014-04-10 23:00:00     0             0    0      0       0       -0.938713  \n",
       "2014-02-21 03:00:00     0             0    0      0       0       -1.481913  \n",
       "2016-05-04 02:00:00     0             0    0      0       0       -1.202265  \n",
       "2016-04-25 04:00:00     0             0    0      0       0       -1.220875  "
      ]
     },
     "execution_count": 43,
     "metadata": {},
     "output_type": "execute_result"
    }
   ],
   "source": [
    "validation_data.head(n=4)"
   ]
  },
  {
   "cell_type": "code",
   "execution_count": 44,
   "metadata": {},
   "outputs": [
    {
     "data": {
      "text/html": [
       "<div>\n",
       "<style scoped>\n",
       "    .dataframe tbody tr th:only-of-type {\n",
       "        vertical-align: middle;\n",
       "    }\n",
       "\n",
       "    .dataframe tbody tr th {\n",
       "        vertical-align: top;\n",
       "    }\n",
       "\n",
       "    .dataframe thead th {\n",
       "        text-align: right;\n",
       "    }\n",
       "</style>\n",
       "<table border=\"1\" class=\"dataframe\">\n",
       "  <thead>\n",
       "    <tr style=\"text-align: right;\">\n",
       "      <th></th>\n",
       "      <th>holiday</th>\n",
       "      <th>temp</th>\n",
       "      <th>rain_1h</th>\n",
       "      <th>clouds_all</th>\n",
       "      <th>hour</th>\n",
       "      <th>weekday</th>\n",
       "      <th>weekofyear</th>\n",
       "      <th>Clouds</th>\n",
       "      <th>Mist</th>\n",
       "      <th>Rain</th>\n",
       "      <th>Snow</th>\n",
       "      <th>Drizzle</th>\n",
       "      <th>Haze</th>\n",
       "      <th>Thunderstorm</th>\n",
       "      <th>Fog</th>\n",
       "      <th>Smoke</th>\n",
       "      <th>Squall</th>\n",
       "      <th>traffic_volume</th>\n",
       "    </tr>\n",
       "    <tr>\n",
       "      <th>date_time</th>\n",
       "      <th></th>\n",
       "      <th></th>\n",
       "      <th></th>\n",
       "      <th></th>\n",
       "      <th></th>\n",
       "      <th></th>\n",
       "      <th></th>\n",
       "      <th></th>\n",
       "      <th></th>\n",
       "      <th></th>\n",
       "      <th></th>\n",
       "      <th></th>\n",
       "      <th></th>\n",
       "      <th></th>\n",
       "      <th></th>\n",
       "      <th></th>\n",
       "      <th></th>\n",
       "      <th></th>\n",
       "    </tr>\n",
       "  </thead>\n",
       "  <tbody>\n",
       "    <tr>\n",
       "      <td>2015-10-28 21:00:00</td>\n",
       "      <td>0</td>\n",
       "      <td>-0.526379</td>\n",
       "      <td>-0.133239</td>\n",
       "      <td>1.041872</td>\n",
       "      <td>1.383722</td>\n",
       "      <td>-0.48807</td>\n",
       "      <td>1.184213</td>\n",
       "      <td>0</td>\n",
       "      <td>0</td>\n",
       "      <td>1</td>\n",
       "      <td>0</td>\n",
       "      <td>0</td>\n",
       "      <td>0</td>\n",
       "      <td>0</td>\n",
       "      <td>0</td>\n",
       "      <td>0</td>\n",
       "      <td>0</td>\n",
       "      <td>-0.432229</td>\n",
       "    </tr>\n",
       "    <tr>\n",
       "      <td>2018-06-16 06:00:00</td>\n",
       "      <td>0</td>\n",
       "      <td>1.293603</td>\n",
       "      <td>-0.133239</td>\n",
       "      <td>-1.237485</td>\n",
       "      <td>-0.775097</td>\n",
       "      <td>1.00673</td>\n",
       "      <td>-0.163685</td>\n",
       "      <td>0</td>\n",
       "      <td>0</td>\n",
       "      <td>0</td>\n",
       "      <td>0</td>\n",
       "      <td>0</td>\n",
       "      <td>0</td>\n",
       "      <td>0</td>\n",
       "      <td>0</td>\n",
       "      <td>0</td>\n",
       "      <td>0</td>\n",
       "      <td>-1.036790</td>\n",
       "    </tr>\n",
       "    <tr>\n",
       "      <td>2017-08-23 21:00:00</td>\n",
       "      <td>0</td>\n",
       "      <td>0.831922</td>\n",
       "      <td>-0.133239</td>\n",
       "      <td>-1.135042</td>\n",
       "      <td>1.383722</td>\n",
       "      <td>-0.48807</td>\n",
       "      <td>0.510264</td>\n",
       "      <td>0</td>\n",
       "      <td>0</td>\n",
       "      <td>0</td>\n",
       "      <td>0</td>\n",
       "      <td>0</td>\n",
       "      <td>0</td>\n",
       "      <td>0</td>\n",
       "      <td>0</td>\n",
       "      <td>0</td>\n",
       "      <td>0</td>\n",
       "      <td>-0.041426</td>\n",
       "    </tr>\n",
       "    <tr>\n",
       "      <td>2013-11-23 00:00:00</td>\n",
       "      <td>0</td>\n",
       "      <td>-1.567717</td>\n",
       "      <td>-0.133239</td>\n",
       "      <td>1.041872</td>\n",
       "      <td>-1.638624</td>\n",
       "      <td>1.00673</td>\n",
       "      <td>1.386398</td>\n",
       "      <td>1</td>\n",
       "      <td>0</td>\n",
       "      <td>0</td>\n",
       "      <td>0</td>\n",
       "      <td>0</td>\n",
       "      <td>0</td>\n",
       "      <td>0</td>\n",
       "      <td>0</td>\n",
       "      <td>0</td>\n",
       "      <td>0</td>\n",
       "      <td>-1.036287</td>\n",
       "    </tr>\n",
       "  </tbody>\n",
       "</table>\n",
       "</div>"
      ],
      "text/plain": [
       "                     holiday      temp   rain_1h  clouds_all      hour  \\\n",
       "date_time                                                                \n",
       "2015-10-28 21:00:00        0 -0.526379 -0.133239    1.041872  1.383722   \n",
       "2018-06-16 06:00:00        0  1.293603 -0.133239   -1.237485 -0.775097   \n",
       "2017-08-23 21:00:00        0  0.831922 -0.133239   -1.135042  1.383722   \n",
       "2013-11-23 00:00:00        0 -1.567717 -0.133239    1.041872 -1.638624   \n",
       "\n",
       "                     weekday  weekofyear  Clouds  Mist  Rain  Snow  Drizzle  \\\n",
       "date_time                                                                     \n",
       "2015-10-28 21:00:00 -0.48807    1.184213       0     0     1     0        0   \n",
       "2018-06-16 06:00:00  1.00673   -0.163685       0     0     0     0        0   \n",
       "2017-08-23 21:00:00 -0.48807    0.510264       0     0     0     0        0   \n",
       "2013-11-23 00:00:00  1.00673    1.386398       1     0     0     0        0   \n",
       "\n",
       "                     Haze  Thunderstorm  Fog  Smoke  Squall  traffic_volume  \n",
       "date_time                                                                    \n",
       "2015-10-28 21:00:00     0             0    0      0       0       -0.432229  \n",
       "2018-06-16 06:00:00     0             0    0      0       0       -1.036790  \n",
       "2017-08-23 21:00:00     0             0    0      0       0       -0.041426  \n",
       "2013-11-23 00:00:00     0             0    0      0       0       -1.036287  "
      ]
     },
     "execution_count": 44,
     "metadata": {},
     "output_type": "execute_result"
    }
   ],
   "source": [
    "test_data.head(n=4)"
   ]
  },
  {
   "cell_type": "markdown",
   "metadata": {},
   "source": [
    "## 6. Perform Linear Regression"
   ]
  },
  {
   "cell_type": "code",
   "execution_count": 45,
   "metadata": {},
   "outputs": [],
   "source": [
    "import warnings"
   ]
  },
  {
   "cell_type": "markdown",
   "metadata": {},
   "source": [
    "### Hypothesis: \n",
    "$h_{\\theta}(x) = \\theta^T x = \\theta_0 + \\theta_1 x_1 + ... + \\theta_n x_n$, where:\n",
    "\n",
    "- $x = (x_0, x_1, ..., x_n)$, with $x_0 = 1$ and the values from $1$ to $n$ are taken from rows of our dataset.\n",
    "- $\\theta = (\\theta_0, \\theta_1, ..., \\theta_n)$ are the parameters.\n",
    "\n",
    "### Cost function: \n",
    "$J(\\theta) = \\dfrac{1}{2m} \\sum\\limits_{i=1}^m (h_{\\theta}(x^{(i)}) - y^{(i)})^2 \\; \\Longrightarrow \\; \n",
    "\\dfrac{\\partial J(\\theta)}{\\partial \\theta_j} = \\dfrac{1}{m} \\sum\\limits_{i=1}^m (\\,(h_{\\theta}(x^{(i)}) - y^{(i)}) \\, x_j^{(i)}\\,)$, where:\n",
    "\n",
    "- $m$ is the number of examples.\n",
    "- $n$ is the number of features.\n",
    "- $x^{(i)} = (1, x_1^{(i)}, ..., x_n^{(i)})$ are the features of the $i^{th}$ training example ($\\forall{i},\\,x_0^{(i)} = 1$).\n",
    "- $x_j^{(i)}$ is the value of feature $j$ of the $i^{th}$ training example.\n",
    "- $y = (y^{(1)}, ..., y^{(m)})$ are the target values.\n",
    "- $y^{(i)}$ is the target value for the $i^{th}$ training example."
   ]
  },
  {
   "cell_type": "code",
   "execution_count": 46,
   "metadata": {},
   "outputs": [],
   "source": [
    "# theta is an array of 'params' of shape=(n_features, 1)\n",
    "# -> (n+1) x 1\n",
    "\n",
    "# X is a matrix of 'data', with each line being an 'example', of shape=(n_examples, n_features)\n",
    "# -> m x (n+1)\n",
    "\n",
    "# y is an array of 'target' values for each example of shape=(n_examples, 1)\n",
    "# -> m x 1\n",
    "\n",
    "''' Returns a scalar, corresponding to the value of J(theta). '''\n",
    "def loss_function(theta, X, y):\n",
    "    assert(X.shape[0] == y.shape[0]), f\"X.shape[0] != y.shape[0] for shapes: {X.shape} of X, and {y.shape} of y\"\n",
    "    assert(X.shape[1] == theta.shape[0]), f\"X.shape[1] != theta.shape[0] for shapes: {X.shape} of X, and {theta.shape} of theta\"\n",
    "    \n",
    "    m = X.shape[0] # number of examples\n",
    "    \n",
    "    #loss = X.dot(theta) # estimate of y (h_theta(X))\n",
    "    #loss = loss - y     # error between estimate and real y values (h_theta(X) - y)\n",
    "    #loss = loss**2      # squared error of each element (h_theta(X) - y)**2\n",
    "    #loss = 0.5 * (1 / m) * loss.sum()\n",
    "\n",
    "    return 0.5 * (1 / m) * np.sum((X.dot(theta) - y)**2)"
   ]
  },
  {
   "cell_type": "code",
   "execution_count": 47,
   "metadata": {},
   "outputs": [],
   "source": [
    "''' Returns a (n+1) x 1 array with the gradient values for each theta_j. '''\n",
    "def eval_gradient(theta, X, y):\n",
    "    assert(X.shape[0] == y.shape[0]), f\"X.shape[0] != y.shape[0] for shapes: {X.shape} of X, and {y.shape} of y\"\n",
    "    assert(X.shape[1] == theta.shape[0]), f\"X.shape[1] != theta.shape[0] for shapes: {X.shape} of X, and {theta.shape} of theta\"\n",
    "    \n",
    "    m = X.shape[0]\n",
    "    \n",
    "    #loss_partial_theta = X.dot(theta) # h_theta(X) = X • theta\n",
    "    #loss_partial_theta = loss_partial_theta - y # h_theta(X) - y\n",
    "    #loss_partial_theta = X.T.dot(loss_partial_theta) # X_transposed • (h_theta(X) - y)\n",
    "    #loss_partial_theta = (1 / m) * loss_partial_theta\n",
    "    \n",
    "    # gradient for every theta (an array with each j-th element being the partial derivative of J with respect to theta_j)\n",
    "    return (1 / m) * np.dot(X.T, X.dot(theta) - y)"
   ]
  },
  {
   "cell_type": "markdown",
   "metadata": {},
   "source": [
    "### Gradient descent: \n",
    "Given the learning rate $\\alpha$:\n",
    "\n",
    "**repeat {** $\\theta_j := \\theta_j - \\alpha \\dfrac{\\partial J(\\theta)}{\\partial \\theta_j}$ \n",
    "**}** (simultaneously update for $j = 0, 1, ..., n$)\n",
    "\n",
    "If we consider a matrix $\\mathbb{X}$, with each row $i$ equal to $x^{(i)}$ transposed ($1 \\leq i \\leq m$), we have:\n",
    "$\\theta := \\theta - \\alpha (\\,\\frac{1}{m} \\mathbb{X}^T (\\mathbb{X} \\theta - y)\\,)$"
   ]
  },
  {
   "cell_type": "code",
   "execution_count": 48,
   "metadata": {},
   "outputs": [],
   "source": [
    "np.random.seed(RANDOM_SEED) # use for reproducibility"
   ]
  },
  {
   "cell_type": "markdown",
   "metadata": {},
   "source": [
    "### 6.1. Perform one epoch of gradient descent:"
   ]
  },
  {
   "cell_type": "code",
   "execution_count": 49,
   "metadata": {},
   "outputs": [],
   "source": [
    "''' Returns a (n+1) x 1 array with the updated values for each parameter theta_j. \n",
    "\n",
    "    Assumes that 'X' is a matrix with shape=(n_examples, n_features), with a first column of 1's, and that\n",
    "    'y' is an array of shape=(n_examples, 1) with the corresponding target values for each row of 'X'.\n",
    "    \n",
    "    n_examples = m\n",
    "    n_features = n+1 (x_0 = 1 for every row i in [1, m], i.e. X[i, 0] = 1)\n",
    "'''\n",
    "def stochastic_GD_step(theta, X, y, learning_rate):\n",
    "    X, y = shuffled_X_y(X, y, seed=RANDOM_SEED)\n",
    "    for sample_X, sample_y in zip(X, y):\n",
    "        theta_grad = eval_gradient(theta, sample_X.reshape(1, -1), sample_y)\n",
    "        theta = theta - learning_rate * theta_grad\n",
    "    return theta"
   ]
  },
  {
   "cell_type": "code",
   "execution_count": 50,
   "metadata": {},
   "outputs": [],
   "source": [
    "def shuffled_X_y(X, y, seed):\n",
    "    assert(X.shape[0] == y.shape[0]), f\"X.shape[0] != y.shape[0] for shapes: {X.shape} of X, and {y.shape} of y\"\n",
    "    m = y.shape[0]\n",
    "    p = np.random.permutation(m)\n",
    "    return X[p], y[p]"
   ]
  },
  {
   "cell_type": "code",
   "execution_count": 51,
   "metadata": {},
   "outputs": [],
   "source": [
    "''' Returns a (n+1) x 1 array with the updated values for each parameter theta_j. \n",
    "\n",
    "    If batch_size is specified, acts as a Mini Batch GD, otherwise, it works like Vanilla GD.\n",
    "\n",
    "    Assumes that 'X' is a matrix with shape=(n_examples, n_features), with a first column of 1's, and that\n",
    "    'y' is an array of shape=(n_examples, 1) with the corresponding target values for each row of 'X'.\n",
    "    \n",
    "    n_examples = m\n",
    "    n_features = n+1 (x_0 = 1 for every row i in [1, m], i.e. X[i, 0] = 1)\n",
    "'''\n",
    "def batch_GD_step(theta, X, y, learning_rate, batch_size=None):\n",
    "    if not batch_size:\n",
    "        # vanilla\n",
    "        theta_grad = eval_gradient(theta, X, y)\n",
    "        theta = theta - learning_rate * theta_grad\n",
    "    else:\n",
    "        # mini batch\n",
    "        X, y = shuffled_X_y(X, y, seed=RANDOM_SEED)\n",
    "        for batch_X, batch_y in get_batches(X, y, batch_size):\n",
    "            theta_grad = eval_gradient(theta, batch_X, batch_y)\n",
    "            theta = theta - learning_rate * theta_grad\n",
    "    return theta"
   ]
  },
  {
   "cell_type": "code",
   "execution_count": 52,
   "metadata": {},
   "outputs": [],
   "source": [
    "def get_batches(X, y, batch_size):\n",
    "    assert(X.shape[0] == y.shape[0]), f\"X.shape[0] != y.shape[0] for shapes: {X.shape} of X, and {y.shape} of y\"\n",
    "    m = y.shape[0]\n",
    "    n_of_batches = m // batch_size\n",
    "    try:\n",
    "        return zip(np.split(X, n_of_batches), np.split(y, n_of_batches))\n",
    "    except:\n",
    "        warnings.warn(f\"batch_size={batch_size} does not result in an equal division for shapes: \" +\n",
    "                      f\"{X.shape} of X, and {y.shape} of y. The last batch will have size {m % batch_size}\")\n",
    "        return zip(np.array_split(X, n_of_batches), np.array_split(y, n_of_batches))"
   ]
  },
  {
   "cell_type": "markdown",
   "metadata": {},
   "source": [
    "### 6.2. Run gradient descent for a specified number of epochs:"
   ]
  },
  {
   "cell_type": "code",
   "execution_count": 53,
   "metadata": {},
   "outputs": [],
   "source": [
    "def __gradient_descent(theta, train_X_y, validation_X_y, learning_rate, n_epochs, \n",
    "                       GD_step_func, batch_size_kwarg_if_mini_batch=None):\n",
    "    if batch_size_kwarg_if_mini_batch == None:\n",
    "        batch_size_kwarg_if_mini_batch = {}\n",
    "        \n",
    "    X, y = train_X_y\n",
    "    val_X, val_y = validation_X_y\n",
    "    \n",
    "    loss = loss_function(theta, X, y)\n",
    "    val_loss = loss_function(theta, val_X, val_y)\n",
    "    \n",
    "    # stores the best values for minimizing J(theta) on the validation set\n",
    "    best_params = theta.copy()\n",
    "    best_val_loss = val_loss\n",
    "    \n",
    "    # save the loss values for plotting\n",
    "    plot_dict = { \n",
    "        \"best_val_loss\": best_val_loss, \n",
    "        \"best_val_loss_epoch\": 0, \n",
    "        \"loss\": [loss], # training set\n",
    "        \"val_loss\": [val_loss] # validation set\n",
    "    }\n",
    "    \n",
    "    for epoch in range(n_epochs):\n",
    "        theta = GD_step_func(theta, X, y, learning_rate, **batch_size_kwarg_if_mini_batch)\n",
    "    \n",
    "        loss = loss_function(theta, X, y)\n",
    "        plot_dict[\"loss\"].append(loss) # training set\n",
    "        \n",
    "        val_loss = loss_function(theta, val_X, val_y)\n",
    "        plot_dict[\"val_loss\"].append(val_loss) # validation set\n",
    "        \n",
    "        # update the best loss and store the current parameters if val_loss < best_val_loss\n",
    "        if val_loss < best_val_loss:\n",
    "            best_val_loss = val_loss\n",
    "            best_params = theta.copy()\n",
    "            plot_dict[\"best_val_loss_epoch\"] = epoch + 1\n",
    "        \n",
    "        print(f\"({epoch + 1} / {n_epochs}) training: {loss:.4f} | validation: {val_loss:.4f}\", end='\\r')\n",
    "        \n",
    "    plot_dict[\"best_val_loss\"] = best_val_loss\n",
    "    return best_params, plot_dict"
   ]
  },
  {
   "cell_type": "markdown",
   "metadata": {},
   "source": [
    "### 6.3. Compute $\\mathbb{X}$ and $y$\n",
    "\n",
    "Let's add our datasets' features to $\\mathbb{X}$ (plus $x_0 = 1$) and it's target values to $y$, so we can train our model."
   ]
  },
  {
   "cell_type": "code",
   "execution_count": 54,
   "metadata": {},
   "outputs": [],
   "source": [
    "# NOTE: assumes target values are in the last column of 'dataset'\n",
    "def split_X_y(dataset):\n",
    "    dataset = dataset.to_numpy(copy=True)\n",
    "    m = dataset.shape[0] # number of examples\n",
    "    X = np.c_[np.ones(shape=(m, 1)), dataset[:, :-1]] # add a column of x_0's equal to 1\n",
    "    y = dataset[:, -1:]\n",
    "    return X, y"
   ]
  },
  {
   "cell_type": "code",
   "execution_count": 55,
   "metadata": {},
   "outputs": [],
   "source": [
    "if train_data.columns[-1] != 'traffic_volume':\n",
    "    print(\"'traffic_volume' should be the last column on the training set!\")\n",
    "if validation_data.columns[-1] != 'traffic_volume':\n",
    "    print(\"'traffic_volume' should be the last column on the validation set!\")\n",
    "if test_data.columns[-1] != 'traffic_volume':\n",
    "    print(\"'traffic_volume' should be the last column on the test set!\")"
   ]
  },
  {
   "cell_type": "code",
   "execution_count": 56,
   "metadata": {},
   "outputs": [],
   "source": [
    "train_X_y = split_X_y(train_data)\n",
    "validation_X_y = split_X_y(validation_data)"
   ]
  },
  {
   "cell_type": "code",
   "execution_count": 57,
   "metadata": {},
   "outputs": [],
   "source": [
    "# # check if the values are correct\n",
    "# X, y = train_X_y\n",
    "# for i in range(4):\n",
    "#     print(f\"dataset: {train_data.iloc[i].values}\\n\") # should be equal to np.append(X[i, 1:], y[i])\n",
    "#     print(f\"check:   {np.append(X[i, 1:], y[i])}\\n\")\n",
    "#     #print(f\"X: {X[i]}\\n\")\n",
    "#     #print(f\"y: {y[i]}\\n\\n\")"
   ]
  },
  {
   "cell_type": "markdown",
   "metadata": {},
   "source": [
    "### 6.4. Run our implementation"
   ]
  },
  {
   "cell_type": "code",
   "execution_count": 58,
   "metadata": {},
   "outputs": [],
   "source": [
    "''' Returns the initial theta (n+1) x 1 array. '''\n",
    "def init_params(n_features, zeros=False):\n",
    "    if zeros:\n",
    "        return np.zeros(shape=(n_features, 1))\n",
    "    else:\n",
    "        # Xavier initialization\n",
    "        return np.sqrt(2 / n_features) * np.random.randn(n_features, 1)"
   ]
  },
  {
   "cell_type": "code",
   "execution_count": 59,
   "metadata": {},
   "outputs": [],
   "source": [
    "def train(params, train_X_y, validation_X_y, learning_rate, n_epochs, batch_size=None, GD_flavor=\"vanilla\"):\n",
    "    if GD_flavor == \"vanilla\":        \n",
    "        best_params, plot_dict = __gradient_descent(params, train_X_y, validation_X_y, learning_rate, n_epochs, \n",
    "                                                    GD_step_func=batch_GD_step)\n",
    "\n",
    "    elif GD_flavor == \"mini batch\":\n",
    "        if batch_size == None:\n",
    "            warnings.warn(\"You should specify batch_size when using GD_flavor='mini batch'.\")\n",
    "        best_params, plot_dict = __gradient_descent(params, train_X_y, validation_X_y, learning_rate, n_epochs, \n",
    "                                                    GD_step_func=batch_GD_step, \n",
    "                                                    batch_size_kwarg_if_mini_batch={ \"batch_size\": batch_size })\n",
    "        plot_dict[\"batch_size\"] = batch_size\n",
    "\n",
    "    elif GD_flavor == \"stochastic\":\n",
    "        best_params, plot_dict = __gradient_descent(params, train_X_y, validation_X_y, learning_rate, n_epochs, \n",
    "                                                    GD_step_func=stochastic_GD_step)\n",
    "\n",
    "    else:\n",
    "        raise ValueError(\"GD_flavor must be one of the following values: 'vanilla', 'stochastic', or 'mini batch'.\")\n",
    "        \n",
    "    plot_dict[\"learning_rate\"] = learning_rate\n",
    "    plot_dict[\"n_epochs\"]      = n_epochs\n",
    "    plot_dict[\"flavor\"]        = GD_flavor\n",
    "    \n",
    "    return best_params, plot_dict"
   ]
  },
  {
   "cell_type": "code",
   "execution_count": 60,
   "metadata": {},
   "outputs": [
    {
     "name": "stdout",
     "output_type": "stream",
     "text": [
      "Training set:\n",
      "n_features: 18\n",
      "n_examples: 38554\n",
      "\n",
      "Validation set:\n",
      "val_n_features: 18\n",
      "val_n_examples: 4819\n"
     ]
    }
   ],
   "source": [
    "X, y = train_X_y\n",
    "n_examples, n_features = X.shape # m x (n+1)\n",
    "print(\"Training set:\")\n",
    "print(f\"n_features: {n_features}\")\n",
    "print(f\"n_examples: {n_examples}\")\n",
    "\n",
    "val_X, val_y = validation_X_y\n",
    "val_n_examples, val_n_features = val_X.shape # m x (n+1)\n",
    "print(\"\\nValidation set:\")\n",
    "print(f\"val_n_features: {val_n_features}\")\n",
    "print(f\"val_n_examples: {val_n_examples}\")"
   ]
  },
  {
   "cell_type": "code",
   "execution_count": 61,
   "metadata": {},
   "outputs": [],
   "source": [
    "def run_GD(learning_rate, n_epochs, GD_flavor, batch_size=None):\n",
    "    best_params, plot_dict = train(init_params(n_features, zeros=True), \n",
    "                                   train_X_y, validation_X_y, \n",
    "                                   learning_rate, n_epochs,  \n",
    "                                   batch_size, GD_flavor)\n",
    "    print(\"\\n\\nBest validation loss: {best_val_loss:.6f} (at epoch {best_val_loss_epoch})\".format(\n",
    "        best_val_loss=plot_dict['best_val_loss'], \n",
    "        best_val_loss_epoch=plot_dict['best_val_loss_epoch']))\n",
    "    return best_params, plot_dict"
   ]
  },
  {
   "cell_type": "code",
   "execution_count": 62,
   "metadata": {},
   "outputs": [],
   "source": [
    "def plot_GD_run(params, plot_dict):\n",
    "    plot_title = \"{flavor} GD\\n({n_epochs} epochs with α = {learning_rate}\".format(\n",
    "        flavor=plot_dict['flavor'], \n",
    "        n_epochs=plot_dict['n_epochs'], \n",
    "        learning_rate=plot_dict['learning_rate'])\n",
    "    plot_title += \")\" if 'batch_size' not in plot_dict else \" and {batch_size} batch size)\".format(\n",
    "        batch_size=plot_dict['batch_size'])\n",
    "\n",
    "    # leave only \"loss\" and \"val_loss\" for plotting\n",
    "    loss_data = pd.DataFrame({k: v for k, v in plot_dict.items() if (k == \"loss\" or k == \"val_loss\")})\n",
    "\n",
    "    lineplot = sns.lineplot(data=loss_data)\n",
    "    lineplot.set_title(plot_title)\n",
    "    lineplot.set_xlabel(\"epoch\")\n",
    "    lineplot.set_ylabel(\"J(θ)\")"
   ]
  },
  {
   "cell_type": "markdown",
   "metadata": {},
   "source": [
    "### 6.4.1 Learning rate of 0.0005"
   ]
  },
  {
   "cell_type": "markdown",
   "metadata": {},
   "source": [
    "#### Vanilla Gradient Descent"
   ]
  },
  {
   "cell_type": "code",
   "execution_count": 63,
   "metadata": {},
   "outputs": [
    {
     "name": "stdout",
     "output_type": "stream",
     "text": [
      "(10000 / 10000) training: 0.4144 | validation: 0.4149\n",
      "\n",
      "Best validation loss: 0.414852 (at epoch 10000)\n"
     ]
    }
   ],
   "source": [
    "vanilla_run = run_GD(learning_rate=0.005, n_epochs=10000, GD_flavor=\"vanilla\")"
   ]
  },
  {
   "cell_type": "code",
   "execution_count": 64,
   "metadata": {},
   "outputs": [
    {
     "data": {
      "image/png": "[encoded data removed]",
      "text/plain": [
       "<Figure size 432x288 with 1 Axes>"
      ]
     },
     "metadata": {},
     "output_type": "display_data"
    }
   ],
   "source": [
    "plot_GD_run(*vanilla_run)"
   ]
  },
  {
   "cell_type": "markdown",
   "metadata": {},
   "source": [
    "#### Mini Batch Gradient Descent"
   ]
  },
  {
   "cell_type": "code",
   "execution_count": 65,
   "metadata": {},
   "outputs": [
    {
     "name": "stdout",
     "output_type": "stream",
     "text": [
      "(1000 / 1000) training: 0.4140 | validation: 0.4147\n",
      "\n",
      "Best validation loss: 0.414706 (at epoch 258)\n"
     ]
    }
   ],
   "source": [
    "mini_batch_run = run_GD(learning_rate=0.0005, n_epochs=1000, GD_flavor=\"mini batch\", batch_size=37)"
   ]
  },
  {
   "cell_type": "code",
   "execution_count": 66,
   "metadata": {
    "scrolled": true
   },
   "outputs": [
    {
     "data": {
      "image/png": "[encoded data removed]",
      "text/plain": [
       "<Figure size 432x288 with 1 Axes>"
      ]
     },
     "metadata": {},
     "output_type": "display_data"
    }
   ],
   "source": [
    "plot_GD_run(*mini_batch_run)"
   ]
  },
  {
   "cell_type": "markdown",
   "metadata": {},
   "source": [
    "#### Stochastic Gradient Descent"
   ]
  },
  {
   "cell_type": "code",
   "execution_count": 67,
   "metadata": {},
   "outputs": [
    {
     "name": "stdout",
     "output_type": "stream",
     "text": [
      "(200 / 200) training: 0.4153 | validation: 0.4158\n",
      "\n",
      "Best validation loss: 0.414673 (at epoch 61)\n"
     ]
    }
   ],
   "source": [
    "stochastic_run = run_GD(learning_rate=0.0005, n_epochs=200, GD_flavor=\"stochastic\")"
   ]
  },
  {
   "cell_type": "code",
   "execution_count": 68,
   "metadata": {
    "scrolled": true
   },
   "outputs": [
    {
     "data": {
      "image/png": "[encoded data removed]",
      "text/plain": [
       "<Figure size 432x288 with 1 Axes>"
      ]
     },
     "metadata": {},
     "output_type": "display_data"
    }
   ],
   "source": [
    "plot_GD_run(*stochastic_run)"
   ]
  },
  {
   "cell_type": "markdown",
   "metadata": {},
   "source": [
    "### 6.4.2 Higher learning rates"
   ]
  },
  {
   "cell_type": "markdown",
   "metadata": {},
   "source": [
    "#### Vanilla Gradient Descent"
   ]
  },
  {
   "cell_type": "code",
   "execution_count": 69,
   "metadata": {
    "scrolled": false
   },
   "outputs": [
    {
     "name": "stdout",
     "output_type": "stream",
     "text": [
      "(10000 / 10000) training: 0.4140 | validation: 0.4148\n",
      "\n",
      "Best validation loss: 0.414724 (at epoch 131)\n"
     ]
    },
    {
     "data": {
      "image/png": "[encoded data removed]",
      "text/plain": [
       "<Figure size 432x288 with 1 Axes>"
      ]
     },
     "metadata": {},
     "output_type": "display_data"
    }
   ],
   "source": [
    "vanilla_run = run_GD(learning_rate=1, n_epochs=10000, GD_flavor=\"vanilla\")\n",
    "plot_GD_run(*vanilla_run)"
   ]
  },
  {
   "cell_type": "markdown",
   "metadata": {},
   "source": [
    "#### Mini Batch Gradient Descent"
   ]
  },
  {
   "cell_type": "code",
   "execution_count": 70,
   "metadata": {},
   "outputs": [
    {
     "name": "stdout",
     "output_type": "stream",
     "text": [
      "(1000 / 1000) training: 0.4416 | validation: 0.446205311\n",
      "\n",
      "Best validation loss: 0.419298 (at epoch 588)\n"
     ]
    },
    {
     "data": {
      "image/png": "[encoded data removed]",
      "text/plain": [
       "<Figure size 432x288 with 1 Axes>"
      ]
     },
     "metadata": {},
     "output_type": "display_data"
    }
   ],
   "source": [
    "# Too high of a learning rate\n",
    "mini_batch_run = run_GD(learning_rate=0.5, n_epochs=1000, GD_flavor=\"mini batch\", batch_size=37)\n",
    "plot_GD_run(*mini_batch_run)"
   ]
  },
  {
   "cell_type": "code",
   "execution_count": 71,
   "metadata": {},
   "outputs": [
    {
     "name": "stdout",
     "output_type": "stream",
     "text": [
      "(1000 / 1000) training: 0.4226 | validation: 0.4234\n",
      "\n",
      "Best validation loss: 0.414882 (at epoch 251)\n"
     ]
    },
    {
     "data": {
      "image/png": "[encoded data removed]",
      "text/plain": [
       "<Figure size 432x288 with 1 Axes>"
      ]
     },
     "metadata": {},
     "output_type": "display_data"
    }
   ],
   "source": [
    "# Unstable learning rate\n",
    "mini_batch_run = run_GD(learning_rate=0.1, n_epochs=1000, GD_flavor=\"mini batch\", batch_size=37)\n",
    "plot_GD_run(*mini_batch_run)"
   ]
  },
  {
   "cell_type": "code",
   "execution_count": 72,
   "metadata": {
    "scrolled": false
   },
   "outputs": [
    {
     "name": "stdout",
     "output_type": "stream",
     "text": [
      "(1000 / 1000) training: 0.4162 | validation: 0.4176\n",
      "\n",
      "Best validation loss: 0.414535 (at epoch 518)\n"
     ]
    },
    {
     "data": {
      "image/png": "[encoded data removed]",
      "text/plain": [
       "<Figure size 432x288 with 1 Axes>"
      ]
     },
     "metadata": {},
     "output_type": "display_data"
    }
   ],
   "source": [
    "# Usable learning rate\n",
    "mini_batch_run = run_GD(learning_rate=0.05, n_epochs=1000, GD_flavor=\"mini batch\", batch_size=37)\n",
    "plot_GD_run(*mini_batch_run)"
   ]
  },
  {
   "cell_type": "markdown",
   "metadata": {},
   "source": [
    "#### Stochastic Gradient Descent"
   ]
  },
  {
   "cell_type": "code",
   "execution_count": 73,
   "metadata": {},
   "outputs": [
    {
     "name": "stdout",
     "output_type": "stream",
     "text": [
      "(50 / 50) training: 62640558437789206907560341777292095038817042891103300576964365741575990374599596865453019312533881749532694515885142250066346648894819115356526201551316515983276387615699972957143040.0000 | validation: 92438731328109088698372155073525583001072403806039417881547122928413748017079364471005741257443014937632545664813078949124777552432035033226709438676148491359296480946772531858112512.0000\n",
      "\n",
      "Best validation loss: 0.498073 (at epoch 0)\n"
     ]
    },
    {
     "data": {
      "image/png": "[encoded data removed]",
      "text/plain": [
       "<Figure size 432x288 with 1 Axes>"
      ]
     },
     "metadata": {},
     "output_type": "display_data"
    }
   ],
   "source": [
    "# Exploding learning rate\n",
    "stochastic_run = run_GD(learning_rate=0.05, n_epochs=50, GD_flavor=\"stochastic\")\n",
    "plot_GD_run(*stochastic_run)"
   ]
  },
  {
   "cell_type": "code",
   "execution_count": 74,
   "metadata": {},
   "outputs": [
    {
     "name": "stdout",
     "output_type": "stream",
     "text": [
      "(200 / 200) training: 0.4301 | validation: 0.4318\n",
      "\n",
      "Best validation loss: 0.416534 (at epoch 137)\n"
     ]
    },
    {
     "data": {
      "image/png": "[encoded data removed]",
      "text/plain": [
       "<Figure size 432x288 with 1 Axes>"
      ]
     },
     "metadata": {},
     "output_type": "display_data"
    }
   ],
   "source": [
    "# Too high of a learning rate\n",
    "stochastic_run = run_GD(learning_rate=0.01, n_epochs=200, GD_flavor=\"stochastic\")\n",
    "plot_GD_run(*stochastic_run)"
   ]
  },
  {
   "cell_type": "code",
   "execution_count": 75,
   "metadata": {},
   "outputs": [
    {
     "name": "stdout",
     "output_type": "stream",
     "text": [
      "(200 / 200) training: 0.4279 | validation: 0.4300\n",
      "\n",
      "Best validation loss: 0.415319 (at epoch 51)\n"
     ]
    },
    {
     "data": {
      "image/png": "[encoded data removed]",
      "text/plain": [
       "<Figure size 432x288 with 1 Axes>"
      ]
     },
     "metadata": {},
     "output_type": "display_data"
    }
   ],
   "source": [
    "# Unstable learning rate\n",
    "stochastic_run = run_GD(learning_rate=0.005, n_epochs=200, GD_flavor=\"stochastic\")\n",
    "plot_GD_run(*stochastic_run)"
   ]
  },
  {
   "cell_type": "code",
   "execution_count": 76,
   "metadata": {
    "scrolled": false
   },
   "outputs": [
    {
     "name": "stdout",
     "output_type": "stream",
     "text": [
      "(200 / 200) training: 0.4149 | validation: 0.4155\n",
      "\n",
      "Best validation loss: 0.414804 (at epoch 116)\n"
     ]
    },
    {
     "data": {
      "image/png": "[encoded data removed]",
      "text/plain": [
       "<Figure size 432x288 with 1 Axes>"
      ]
     },
     "metadata": {},
     "output_type": "display_data"
    }
   ],
   "source": [
    "# Usable learning rate\n",
    "stochastic_run = run_GD(learning_rate=0.001, n_epochs=200, GD_flavor=\"stochastic\")\n",
    "plot_GD_run(*stochastic_run)"
   ]
  },
  {
   "cell_type": "markdown",
   "metadata": {},
   "source": [
    "## 7. Normal equation: $\\theta = (\\mathbb{X}^T \\mathbb{X})^{-1} \\mathbb{X}^T y$"
   ]
  },
  {
   "cell_type": "code",
   "execution_count": 77,
   "metadata": {},
   "outputs": [],
   "source": [
    "''' Returns a (n+1) x 1 array with the parameter values theta_j that minimize J(theta). '''\n",
    "def normal_equation(X, y):\n",
    "    # minimizes the sum of the square differences\n",
    "    return np.linalg.pinv(X).dot(y) # np.linalg.inv(X.T.dot(X)).dot(X.T.dot(y))"
   ]
  },
  {
   "cell_type": "code",
   "execution_count": 78,
   "metadata": {},
   "outputs": [],
   "source": [
    "# FIXME"
   ]
  },
  {
   "cell_type": "markdown",
   "metadata": {},
   "source": [
    "## 8. sklearn's SGDRegressor"
   ]
  },
  {
   "cell_type": "code",
   "execution_count": 79,
   "metadata": {},
   "outputs": [],
   "source": [
    "from sklearn import linear_model\n",
    "\n",
    "# ref.: https://scikit-learn.org/stable/modules/generated/sklearn.linear_model.SGDRegressor.html"
   ]
  },
  {
   "cell_type": "code",
   "execution_count": 80,
   "metadata": {},
   "outputs": [],
   "source": [
    "X, y = train_X_y\n",
    "y = y.reshape(-1) # (n_samples, 1) -> (n_samples, )\n",
    "\n",
    "val_X, val_y = validation_X_y\n",
    "val_y = val_y.reshape(-1) # (n_samples, 1) -> (n_samples, )"
   ]
  },
  {
   "cell_type": "code",
   "execution_count": 81,
   "metadata": {},
   "outputs": [],
   "source": [
    "classifier = linear_model.SGDRegressor(\n",
    "    loss=\"squared_loss\", \n",
    "    penalty=\"none\",           # regularization term\n",
    "    max_iter=1000, \n",
    "    tol=None,                 # stopping criterion (if not None, stops when loss > best_loss - tol for n_iter_no_change epochs)\n",
    "    learning_rate=\"constant\", # uses eta0\n",
    "    eta0=0.0005, \n",
    "    early_stopping=False)"
   ]
  },
  {
   "cell_type": "code",
   "execution_count": 82,
   "metadata": {},
   "outputs": [
    {
     "data": {
      "text/plain": [
       "SGDRegressor(alpha=0.0001, average=False, early_stopping=False, epsilon=0.1,\n",
       "             eta0=0.0005, fit_intercept=True, l1_ratio=0.15,\n",
       "             learning_rate='constant', loss='squared_loss', max_iter=1000,\n",
       "             n_iter_no_change=5, penalty='none', power_t=0.25,\n",
       "             random_state=None, shuffle=True, tol=None, validation_fraction=0.1,\n",
       "             verbose=0, warm_start=False)"
      ]
     },
     "execution_count": 82,
     "metadata": {},
     "output_type": "execute_result"
    }
   ],
   "source": [
    "classifier.fit(X, y)"
   ]
  },
  {
   "cell_type": "code",
   "execution_count": 83,
   "metadata": {},
   "outputs": [
    {
     "data": {
      "text/plain": [
       "array([ 0.62906584, -0.41195306, -0.40341191, ...,  0.09269254,\n",
       "        0.31387225, -0.18205106])"
      ]
     },
     "execution_count": 83,
     "metadata": {},
     "output_type": "execute_result"
    }
   ],
   "source": [
    "predicted_val_y = classifier.predict(val_X)\n",
    "predicted_val_y"
   ]
  },
  {
   "cell_type": "code",
   "execution_count": 84,
   "metadata": {},
   "outputs": [],
   "source": [
    "n_examples = val_X.shape[0]\n",
    "\n",
    "# same as J(theta), but using the already predicted y, instead of h(theta)\n",
    "sklearn_val_loss = 0.5 * (1 / n_examples) * np.sum((predicted_val_y - val_y)**2)"
   ]
  },
  {
   "cell_type": "code",
   "execution_count": 85,
   "metadata": {},
   "outputs": [
    {
     "name": "stdout",
     "output_type": "stream",
     "text": [
      "sklearn's SGDRegressor loss for the validation set:\n"
     ]
    },
    {
     "data": {
      "text/plain": [
       "0.4157141288290981"
      ]
     },
     "execution_count": 85,
     "metadata": {},
     "output_type": "execute_result"
    }
   ],
   "source": [
    "print(\"sklearn's SGDRegressor loss for the validation set:\")\n",
    "sklearn_val_loss"
   ]
  },
  {
   "cell_type": "markdown",
   "metadata": {},
   "source": [
    "## 9. Make the model more complex"
   ]
  },
  {
   "cell_type": "markdown",
   "metadata": {},
   "source": [
    "### 9.1 Map time related features to sine and cosine values\n",
    "\n",
    "This way we can encode their cyclical nature: \n",
    "\n",
    "$x_{sin} = sin(\\dfrac{2 \\pi x}{max(x)})$\n",
    "\n",
    "$x_{cos} = cos(\\dfrac{2 \\pi x}{max(x)})$"
   ]
  },
  {
   "cell_type": "code",
   "execution_count": 86,
   "metadata": {},
   "outputs": [],
   "source": [
    "# NOTE: we must pass 'train_stats' since that's what we used for all sets\n",
    "def unnormalize_time_features(df, stats):\n",
    "    unnormalized_df = df.copy()\n",
    "    for col in [\"hour\", \"weekday\", \"weekofyear\"]:\n",
    "        mean = stats[col][\"mean\"]\n",
    "        std = stats[col][\"std\"]\n",
    "        unnormalized_df[col] = unnormalized_df[col].apply(lambda x: (x * std) + mean)\n",
    "    return unnormalized_df"
   ]
  },
  {
   "cell_type": "code",
   "execution_count": 87,
   "metadata": {},
   "outputs": [],
   "source": [
    "def mapped_sine_cosine(df, stats):\n",
    "    mapped_df = df.copy()\n",
    "    for col in [\"hour\", \"weekday\", \"weekofyear\"]:\n",
    "        max_x = stats[col][\"max\"]\n",
    "        mapped_df.insert(0, f\"{col}_sin\", mapped_df[col].apply(lambda x: np.sin(2 * np.pi * x / max_x)))\n",
    "        mapped_df.insert(0, f\"{col}_cos\", mapped_df[col].apply(lambda x: np.cos(2 * np.pi * x / max_x)))\n",
    "    mapped_df.drop(columns=[\"hour\", \"weekday\", \"weekofyear\"])\n",
    "    return mapped_df"
   ]
  },
  {
   "cell_type": "code",
   "execution_count": 88,
   "metadata": {},
   "outputs": [],
   "source": [
    "# FIXME"
   ]
  }
 ],
 "metadata": {
  "kernelspec": {
   "display_name": "Python 3",
   "language": "python",
   "name": "python3"
  },
  "language_info": {
   "codemirror_mode": {
    "name": "ipython",
    "version": 3
   },
   "file_extension": ".py",
   "mimetype": "text/x-python",
   "name": "python",
   "nbconvert_exporter": "python",
   "pygments_lexer": "ipython3",
   "version": "3.7.1"
  }
 },
 "nbformat": 4,
 "nbformat_minor": 2
}
