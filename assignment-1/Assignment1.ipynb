{
 "cells": [
  {
   "cell_type": "markdown",
   "metadata": {},
   "source": [
    "## Importing libs and loading the dataset"
   ]
  },
  {
   "cell_type": "code",
   "execution_count": 1,
   "metadata": {},
   "outputs": [],
   "source": [
    "import numpy as np\n",
    "import pandas as pd\n",
    "import seaborn as sns\n",
    "import matplotlib.pyplot as plt"
   ]
  },
  {
   "cell_type": "code",
   "execution_count": 2,
   "metadata": {},
   "outputs": [],
   "source": [
    "%matplotlib inline\n",
    "sns.set() # apply the seaborn defaults to plotted figures (e.g. theme, scaling, color palette), instead of matplotlib's"
   ]
  },
  {
   "cell_type": "code",
   "execution_count": 7,
   "metadata": {
    "scrolled": true
   },
   "outputs": [
    {
     "data": {
      "text/plain": [
       "(48204, 9)"
      ]
     },
     "execution_count": 7,
     "metadata": {},
     "output_type": "execute_result"
    }
   ],
   "source": [
    "dataset_csv_path = \"Metro_Interstate_Traffic_Volume.csv\" # 8 attributes of 48,204 examples (plus the target column)\n",
    "\n",
    "# loading the dataset with pandas (instead of numpy or csv) since there are different datatypes\n",
    "dataset_csv = pd.read_csv(dataset_csv_path, delimiter=',')\n",
    "dataset_csv.shape"
   ]
  },
  {
   "cell_type": "markdown",
   "metadata": {},
   "source": [
    "## Dataset attributes\n",
    "- 1: **holiday**: US National holidays plus regional holiday, Minnesota State Fair\n",
    "- 2: **temp**: average temp in kelvin\n",
    "- 3: **rain 1h**: amount in mm of rain that occurred in the hour\n",
    "- 4: **snow 1h**: amount in mm of snow that occurred in the hour\n",
    "- 5: **clouds all**: percentage of cloud cover\n",
    "- 6: **weather main**: short textual description of the current weather\n",
    "- 7: **weather description**: longer textual description of the current weather\n",
    "- 8: **date time**: hour of the data collected in local CST time\n",
    "- target: **traffic volume**: traffic volume"
   ]
  },
  {
   "cell_type": "code",
   "execution_count": 8,
   "metadata": {},
   "outputs": [
    {
     "data": {
      "text/plain": [
       "holiday                 object\n",
       "temp                   float64\n",
       "rain_1h                float64\n",
       "snow_1h                float64\n",
       "clouds_all               int64\n",
       "weather_main            object\n",
       "weather_description     object\n",
       "date_time               object\n",
       "traffic_volume           int64\n",
       "dtype: object"
      ]
     },
     "execution_count": 8,
     "metadata": {},
     "output_type": "execute_result"
    }
   ],
   "source": [
    "dataset_csv.dtypes"
   ]
  },
  {
   "cell_type": "markdown",
   "metadata": {},
   "source": [
    "## 0. Visualize the data"
   ]
  },
  {
   "cell_type": "code",
   "execution_count": 12,
   "metadata": {},
   "outputs": [
    {
     "data": {
      "text/html": [
       "<div>\n",
       "<style scoped>\n",
       "    .dataframe tbody tr th:only-of-type {\n",
       "        vertical-align: middle;\n",
       "    }\n",
       "\n",
       "    .dataframe tbody tr th {\n",
       "        vertical-align: top;\n",
       "    }\n",
       "\n",
       "    .dataframe thead th {\n",
       "        text-align: right;\n",
       "    }\n",
       "</style>\n",
       "<table border=\"1\" class=\"dataframe\">\n",
       "  <thead>\n",
       "    <tr style=\"text-align: right;\">\n",
       "      <th></th>\n",
       "      <th>holiday</th>\n",
       "      <th>temp</th>\n",
       "      <th>rain_1h</th>\n",
       "      <th>snow_1h</th>\n",
       "      <th>clouds_all</th>\n",
       "      <th>weather_main</th>\n",
       "      <th>weather_description</th>\n",
       "      <th>date_time</th>\n",
       "      <th>traffic_volume</th>\n",
       "    </tr>\n",
       "  </thead>\n",
       "  <tbody>\n",
       "    <tr>\n",
       "      <th>min</th>\n",
       "      <td>Christmas Day</td>\n",
       "      <td>0.000000</td>\n",
       "      <td>0.000000</td>\n",
       "      <td>0.000000</td>\n",
       "      <td>0.000000</td>\n",
       "      <td>Clear</td>\n",
       "      <td>SQUALLS</td>\n",
       "      <td>2012-10-02 09:00:00</td>\n",
       "      <td>0.000000</td>\n",
       "    </tr>\n",
       "    <tr>\n",
       "      <th>max</th>\n",
       "      <td>Washingtons Birthday</td>\n",
       "      <td>310.070000</td>\n",
       "      <td>9831.300000</td>\n",
       "      <td>0.510000</td>\n",
       "      <td>100.000000</td>\n",
       "      <td>Thunderstorm</td>\n",
       "      <td>very heavy rain</td>\n",
       "      <td>2018-09-30 23:00:00</td>\n",
       "      <td>7280.000000</td>\n",
       "    </tr>\n",
       "    <tr>\n",
       "      <th>median</th>\n",
       "      <td>NaN</td>\n",
       "      <td>282.450000</td>\n",
       "      <td>0.000000</td>\n",
       "      <td>0.000000</td>\n",
       "      <td>64.000000</td>\n",
       "      <td>NaN</td>\n",
       "      <td>NaN</td>\n",
       "      <td>NaN</td>\n",
       "      <td>3380.000000</td>\n",
       "    </tr>\n",
       "    <tr>\n",
       "      <th>mean</th>\n",
       "      <td>NaN</td>\n",
       "      <td>281.205870</td>\n",
       "      <td>0.334264</td>\n",
       "      <td>0.000222</td>\n",
       "      <td>49.362231</td>\n",
       "      <td>NaN</td>\n",
       "      <td>NaN</td>\n",
       "      <td>NaN</td>\n",
       "      <td>3259.818355</td>\n",
       "    </tr>\n",
       "    <tr>\n",
       "      <th>std</th>\n",
       "      <td>NaN</td>\n",
       "      <td>13.338232</td>\n",
       "      <td>44.789133</td>\n",
       "      <td>0.008168</td>\n",
       "      <td>39.015750</td>\n",
       "      <td>NaN</td>\n",
       "      <td>NaN</td>\n",
       "      <td>NaN</td>\n",
       "      <td>1986.860670</td>\n",
       "    </tr>\n",
       "  </tbody>\n",
       "</table>\n",
       "</div>"
      ],
      "text/plain": [
       "                     holiday        temp      rain_1h   snow_1h  clouds_all  \\\n",
       "min            Christmas Day    0.000000     0.000000  0.000000    0.000000   \n",
       "max     Washingtons Birthday  310.070000  9831.300000  0.510000  100.000000   \n",
       "median                   NaN  282.450000     0.000000  0.000000   64.000000   \n",
       "mean                     NaN  281.205870     0.334264  0.000222   49.362231   \n",
       "std                      NaN   13.338232    44.789133  0.008168   39.015750   \n",
       "\n",
       "        weather_main weather_description            date_time  traffic_volume  \n",
       "min            Clear             SQUALLS  2012-10-02 09:00:00        0.000000  \n",
       "max     Thunderstorm     very heavy rain  2018-09-30 23:00:00     7280.000000  \n",
       "median           NaN                 NaN                  NaN     3380.000000  \n",
       "mean             NaN                 NaN                  NaN     3259.818355  \n",
       "std              NaN                 NaN                  NaN     1986.860670  "
      ]
     },
     "execution_count": 12,
     "metadata": {},
     "output_type": "execute_result"
    }
   ],
   "source": [
    "dataset_csv.agg([\"min\", \"max\", \"median\", \"mean\", \"std\"])"
   ]
  },
  {
   "cell_type": "code",
   "execution_count": 14,
   "metadata": {},
   "outputs": [
    {
     "data": {
      "text/html": [
       "<div>\n",
       "<style scoped>\n",
       "    .dataframe tbody tr th:only-of-type {\n",
       "        vertical-align: middle;\n",
       "    }\n",
       "\n",
       "    .dataframe tbody tr th {\n",
       "        vertical-align: top;\n",
       "    }\n",
       "\n",
       "    .dataframe thead th {\n",
       "        text-align: right;\n",
       "    }\n",
       "</style>\n",
       "<table border=\"1\" class=\"dataframe\">\n",
       "  <thead>\n",
       "    <tr style=\"text-align: right;\">\n",
       "      <th></th>\n",
       "      <th>size</th>\n",
       "      <th>temp_celsius</th>\n",
       "      <th>temp</th>\n",
       "      <th>traffic_volume</th>\n",
       "    </tr>\n",
       "    <tr>\n",
       "      <th>weather_main</th>\n",
       "      <th></th>\n",
       "      <th></th>\n",
       "      <th></th>\n",
       "      <th></th>\n",
       "    </tr>\n",
       "  </thead>\n",
       "  <tbody>\n",
       "    <tr>\n",
       "      <th>Clouds</th>\n",
       "      <td>15164</td>\n",
       "      <td>8.316101</td>\n",
       "      <td>281.466101</td>\n",
       "      <td>3618.449749</td>\n",
       "    </tr>\n",
       "    <tr>\n",
       "      <th>Haze</th>\n",
       "      <td>1360</td>\n",
       "      <td>2.668581</td>\n",
       "      <td>275.818581</td>\n",
       "      <td>3502.101471</td>\n",
       "    </tr>\n",
       "    <tr>\n",
       "      <th>Rain</th>\n",
       "      <td>5672</td>\n",
       "      <td>13.829586</td>\n",
       "      <td>286.979586</td>\n",
       "      <td>3317.905501</td>\n",
       "    </tr>\n",
       "    <tr>\n",
       "      <th>Drizzle</th>\n",
       "      <td>1821</td>\n",
       "      <td>10.645431</td>\n",
       "      <td>283.795431</td>\n",
       "      <td>3290.727073</td>\n",
       "    </tr>\n",
       "    <tr>\n",
       "      <th>Smoke</th>\n",
       "      <td>20</td>\n",
       "      <td>17.777500</td>\n",
       "      <td>290.927500</td>\n",
       "      <td>3237.650000</td>\n",
       "    </tr>\n",
       "    <tr>\n",
       "      <th>Clear</th>\n",
       "      <td>13391</td>\n",
       "      <td>8.339971</td>\n",
       "      <td>281.489971</td>\n",
       "      <td>3055.908819</td>\n",
       "    </tr>\n",
       "    <tr>\n",
       "      <th>Snow</th>\n",
       "      <td>2876</td>\n",
       "      <td>-5.194812</td>\n",
       "      <td>267.955188</td>\n",
       "      <td>3016.844228</td>\n",
       "    </tr>\n",
       "    <tr>\n",
       "      <th>Thunderstorm</th>\n",
       "      <td>1034</td>\n",
       "      <td>19.566431</td>\n",
       "      <td>292.716431</td>\n",
       "      <td>3001.620890</td>\n",
       "    </tr>\n",
       "    <tr>\n",
       "      <th>Mist</th>\n",
       "      <td>5950</td>\n",
       "      <td>6.326892</td>\n",
       "      <td>279.476892</td>\n",
       "      <td>2932.956639</td>\n",
       "    </tr>\n",
       "    <tr>\n",
       "      <th>Fog</th>\n",
       "      <td>912</td>\n",
       "      <td>6.265713</td>\n",
       "      <td>279.415713</td>\n",
       "      <td>2703.720395</td>\n",
       "    </tr>\n",
       "    <tr>\n",
       "      <th>Squall</th>\n",
       "      <td>4</td>\n",
       "      <td>19.237500</td>\n",
       "      <td>292.387500</td>\n",
       "      <td>2061.750000</td>\n",
       "    </tr>\n",
       "  </tbody>\n",
       "</table>\n",
       "</div>"
      ],
      "text/plain": [
       "               size  temp_celsius        temp  traffic_volume\n",
       "weather_main                                                 \n",
       "Clouds        15164      8.316101  281.466101     3618.449749\n",
       "Haze           1360      2.668581  275.818581     3502.101471\n",
       "Rain           5672     13.829586  286.979586     3317.905501\n",
       "Drizzle        1821     10.645431  283.795431     3290.727073\n",
       "Smoke            20     17.777500  290.927500     3237.650000\n",
       "Clear         13391      8.339971  281.489971     3055.908819\n",
       "Snow           2876     -5.194812  267.955188     3016.844228\n",
       "Thunderstorm   1034     19.566431  292.716431     3001.620890\n",
       "Mist           5950      6.326892  279.476892     2932.956639\n",
       "Fog             912      6.265713  279.415713     2703.720395\n",
       "Squall            4     19.237500  292.387500     2061.750000"
      ]
     },
     "execution_count": 14,
     "metadata": {},
     "output_type": "execute_result"
    }
   ],
   "source": [
    "mean_values = dataset_csv.groupby(\"weather_main\")[[\"temp\", \"traffic_volume\"]].mean()\n",
    "mean_values[\"temp_celsius\"] = mean_values[\"temp\"].apply(lambda temp_K: temp_K - 273.15)\n",
    "mean_values[\"size\"] = dataset_csv.groupby(\"weather_main\").size() # amount of entries in each group\n",
    "\n",
    "# order by the weather conditions which have the largest mean traffic volume\n",
    "mean_values[[\"size\", \"temp_celsius\", \"temp\", \"traffic_volume\"]].sort_values(by=\"traffic_volume\", ascending=False)"
   ]
  },
  {
   "cell_type": "code",
   "execution_count": 16,
   "metadata": {},
   "outputs": [
    {
     "data": {
      "text/plain": [
       "rain_1h\n",
       "0.00       44737\n",
       "0.25         948\n",
       "0.26           2\n",
       "0.27           5\n",
       "0.28          23\n",
       "           ...  \n",
       "28.70          2\n",
       "31.75          1\n",
       "44.45          1\n",
       "55.63          1\n",
       "9831.30        1\n",
       "Length: 372, dtype: int64"
      ]
     },
     "execution_count": 16,
     "metadata": {},
     "output_type": "execute_result"
    }
   ],
   "source": [
    "# 44737 / 48204 ~= 93.81% of entries have no rain (3467 have)\n",
    "dataset_csv.groupby(\"rain_1h\").size()"
   ]
  },
  {
   "cell_type": "code",
   "execution_count": 17,
   "metadata": {
    "scrolled": true
   },
   "outputs": [
    {
     "data": {
      "text/plain": [
       "snow_1h\n",
       "0.00    48141\n",
       "0.05       14\n",
       "0.06       12\n",
       "0.08        2\n",
       "0.10        6\n",
       "0.13        6\n",
       "0.17        3\n",
       "0.21        1\n",
       "0.25        6\n",
       "0.32        5\n",
       "0.44        2\n",
       "0.51        6\n",
       "dtype: int64"
      ]
     },
     "execution_count": 17,
     "metadata": {},
     "output_type": "execute_result"
    }
   ],
   "source": [
    "# 48141 / 48204 ~= 99.87% of entries have no snow (only 63 have)\n",
    "dataset_csv.groupby(\"snow_1h\").size()"
   ]
  },
  {
   "cell_type": "markdown",
   "metadata": {},
   "source": [
    "## 1. Clean the dataset"
   ]
  },
  {
   "cell_type": "code",
   "execution_count": 28,
   "metadata": {},
   "outputs": [],
   "source": [
    "# we'll copy our dataset to the DataFrame object 'data' to clean it and\n",
    "# save it as a new .csv file later (splitting it into trainning/validation and test)\n",
    "data = dataset_csv.copy()"
   ]
  },
  {
   "cell_type": "markdown",
   "metadata": {},
   "source": [
    "### 1.1. Removing invalid data"
   ]
  },
  {
   "cell_type": "code",
   "execution_count": 29,
   "metadata": {},
   "outputs": [
    {
     "name": "stdout",
     "output_type": "stream",
     "text": [
      "(48204, 9) - (10, 9) => (48194, 9)\n"
     ]
    }
   ],
   "source": [
    "# removing entries with 0 Kelvin temperature\n",
    "print(f\"{data.shape} - {data.query('temp == 0.0').shape} => \", end='')\n",
    "\n",
    "data = data.query(\"temp > 0.0\")\n",
    "print(data.shape) # removes 10 invalid samples"
   ]
  },
  {
   "cell_type": "code",
   "execution_count": 30,
   "metadata": {},
   "outputs": [
    {
     "data": {
      "text/html": [
       "<div>\n",
       "<style scoped>\n",
       "    .dataframe tbody tr th:only-of-type {\n",
       "        vertical-align: middle;\n",
       "    }\n",
       "\n",
       "    .dataframe tbody tr th {\n",
       "        vertical-align: top;\n",
       "    }\n",
       "\n",
       "    .dataframe thead th {\n",
       "        text-align: right;\n",
       "    }\n",
       "</style>\n",
       "<table border=\"1\" class=\"dataframe\">\n",
       "  <thead>\n",
       "    <tr style=\"text-align: right;\">\n",
       "      <th></th>\n",
       "      <th>holiday</th>\n",
       "      <th>temp</th>\n",
       "      <th>rain_1h</th>\n",
       "      <th>snow_1h</th>\n",
       "      <th>clouds_all</th>\n",
       "      <th>weather_main</th>\n",
       "      <th>weather_description</th>\n",
       "      <th>date_time</th>\n",
       "      <th>traffic_volume</th>\n",
       "    </tr>\n",
       "  </thead>\n",
       "  <tbody>\n",
       "    <tr>\n",
       "      <th>24872</th>\n",
       "      <td>None</td>\n",
       "      <td>302.11</td>\n",
       "      <td>9831.3</td>\n",
       "      <td>0.0</td>\n",
       "      <td>75</td>\n",
       "      <td>Rain</td>\n",
       "      <td>very heavy rain</td>\n",
       "      <td>2016-07-11 17:00:00</td>\n",
       "      <td>5535</td>\n",
       "    </tr>\n",
       "  </tbody>\n",
       "</table>\n",
       "</div>"
      ],
      "text/plain": [
       "      holiday    temp  rain_1h  snow_1h  clouds_all weather_main  \\\n",
       "24872    None  302.11   9831.3      0.0          75         Rain   \n",
       "\n",
       "      weather_description            date_time  traffic_volume  \n",
       "24872     very heavy rain  2016-07-11 17:00:00            5535  "
      ]
     },
     "execution_count": 30,
     "metadata": {},
     "output_type": "execute_result"
    }
   ],
   "source": [
    "# the max value of rain_1h is invalid (>1000mm), so we'll drop it\n",
    "data.query(\"rain_1h > 0.0\").sort_values(by=\"rain_1h\", ascending=False).head(n=1)"
   ]
  },
  {
   "cell_type": "code",
   "execution_count": 31,
   "metadata": {},
   "outputs": [],
   "source": [
    "data.drop(index=24872, inplace=True) # removes the row where rain_1h == 9831.30"
   ]
  },
  {
   "cell_type": "code",
   "execution_count": 35,
   "metadata": {},
   "outputs": [
    {
     "data": {
      "text/plain": [
       "(48193, 9)"
      ]
     },
     "execution_count": 35,
     "metadata": {},
     "output_type": "execute_result"
    }
   ],
   "source": [
    "data.shape"
   ]
  },
  {
   "cell_type": "markdown",
   "metadata": {},
   "source": [
    "### 1.2. Saving the clean dataset\n",
    "\n",
    "Note that we removed values from the whole dataset, and only then we'll split it into test, train and validation.\n",
    "\n",
    "However, the values we removed (0 Kelvin temperature and over 1000mm of rain in an hour) are clearly invalid, so even if we're dealing with test (never seen) data, we could confidently remove entries like these (besides that, only 11 rows were actually removed)."
   ]
  },
  {
   "cell_type": "code",
   "execution_count": 37,
   "metadata": {},
   "outputs": [],
   "source": [
    "data[\"date_time\"] = pd.to_datetime(data[\"date_time\"], format=\"%Y-%m-%d %H:%M:%S\")\n",
    "data.set_index(\"date_time\", inplace=True)"
   ]
  },
  {
   "cell_type": "code",
   "execution_count": 38,
   "metadata": {},
   "outputs": [],
   "source": [
    "data.to_csv(\"clean.csv\")"
   ]
  },
  {
   "cell_type": "markdown",
   "metadata": {},
   "source": [
    "## 2. Split the dataset into train/validation and test\n",
    "\n",
    "- test: 10%\n",
    "- train & validation: 90%\n",
    "    - train: 80%\n",
    "    - validation: 10%"
   ]
  },
  {
   "cell_type": "code",
   "execution_count": 151,
   "metadata": {},
   "outputs": [],
   "source": [
    "# random seed for splitting the data deterministically\n",
    "RANDOM_SEED = 886"
   ]
  },
  {
   "cell_type": "code",
   "execution_count": 183,
   "metadata": {},
   "outputs": [
    {
     "name": "stdout",
     "output_type": "stream",
     "text": [
      "total: (48193, 8)\n",
      "\n",
      "train: (38554, 8)\n",
      "validation: (4819, 8)\n",
      "test: (4820, 8)\n"
     ]
    }
   ],
   "source": [
    "from sklearn.model_selection import train_test_split\n",
    "\n",
    "print(f\"total: {data.shape}\\n\")\n",
    "\n",
    "train_data, test_validation_data = train_test_split(data, train_size=0.8, shuffle=True, random_state=RANDOM_SEED)\n",
    "print(f\"train: {train_data.shape}\") # 80%\n",
    "\n",
    "validation_data, test_data = train_test_split(test_validation_data, test_size=0.5, shuffle=True, random_state=RANDOM_SEED)\n",
    "print(f\"validation: {validation_data.shape}\") # 10% of total\n",
    "print(f\"test: {test_data.shape}\") # 10% of total"
   ]
  },
  {
   "cell_type": "code",
   "execution_count": 184,
   "metadata": {
    "scrolled": false
   },
   "outputs": [
    {
     "name": "stdout",
     "output_type": "stream",
     "text": [
      "Train: \n",
      "                      traffic_volume\n",
      "date_time                          \n",
      "2012-10-02 09:00:00            5545\n",
      "2012-10-02 10:00:00            4516\n",
      "2012-10-02 11:00:00            4767\n",
      "2012-10-02 12:00:00            5026\n",
      "\n",
      "Validation: \n",
      "                      traffic_volume\n",
      "date_time                          \n",
      "2012-10-02 16:00:00            6015\n",
      "2012-10-03 20:00:00            2898\n",
      "2012-10-04 09:00:00            5309\n",
      "2012-10-04 10:00:00            4603\n",
      "\n",
      "Test: \n",
      "                      traffic_volume\n",
      "date_time                          \n",
      "2012-10-03 15:00:00            5692\n",
      "2012-10-03 23:00:00            1015\n",
      "2012-10-04 03:00:00             367\n",
      "2012-10-04 07:00:00            6990\n"
     ]
    }
   ],
   "source": [
    "# visualize the first values of each set\n",
    "print(\"Train: \\n\", train_data[[\"traffic_volume\"]].sort_values(\"date_time\").head(n=4))\n",
    "print(\"\\nValidation: \\n\", validation_data[[\"traffic_volume\"]].sort_values(\"date_time\").head(n=4))\n",
    "print(\"\\nTest: \\n\", test_data[[\"traffic_volume\"]].sort_values(\"date_time\").head(n=4))"
   ]
  },
  {
   "cell_type": "markdown",
   "metadata": {},
   "source": [
    "## 3. Transform features"
   ]
  },
  {
   "cell_type": "markdown",
   "metadata": {},
   "source": [
    "### 3.1. Turn 'date_time' into 'hour', 'weekday' and 'weekofyear'"
   ]
  },
  {
   "cell_type": "code",
   "execution_count": 185,
   "metadata": {},
   "outputs": [],
   "source": [
    "def transformed_date_time(df):\n",
    "    transformed_df = df.copy()\n",
    "    transformed_df.insert(0, \"hour\", pd.DatetimeIndex(transformed_df.index).hour)\n",
    "    transformed_df.insert(1, \"weekday\", pd.DatetimeIndex(transformed_df.index).weekday)\n",
    "    transformed_df.insert(2, \"weekofyear\", pd.DatetimeIndex(transformed_df.index).weekofyear)\n",
    "    return transformed_df"
   ]
  },
  {
   "cell_type": "markdown",
   "metadata": {},
   "source": [
    "### 3.2. Dropping 'snow_1h' and 'weather_description' columns\n",
    "They both seem redundant if we consider the 'weather_main' values."
   ]
  },
  {
   "cell_type": "code",
   "execution_count": 186,
   "metadata": {},
   "outputs": [],
   "source": [
    "def dropped_snow_1h_weather_description(df):\n",
    "    return df.drop(columns=[\"snow_1h\", \"weather_description\"])"
   ]
  },
  {
   "cell_type": "markdown",
   "metadata": {},
   "source": [
    "### 3.3. Adding holiday value to the whole day (not just at 00:00:00)"
   ]
  },
  {
   "cell_type": "code",
   "execution_count": 187,
   "metadata": {},
   "outputs": [],
   "source": [
    "def transformed_holiday(df):\n",
    "    transformed_df = df.copy()\n",
    "    transformed_df[\"date_time\"] = transformed_df.index\n",
    "    \n",
    "    holidays = transformed_df[transformed_df.holiday != \"None\"]\n",
    "    holiday_names = [row[\"holiday\"] for index, row in holidays.iterrows()]\n",
    "    holiday_dates = holidays[\"date_time\"].dt.normalize()\n",
    "    \n",
    "    # add holiday name to holiday days on hours other than 00:00:00\n",
    "    for holiday_name, holiday_date in zip(holiday_names, holiday_dates):\n",
    "        transformed_df.loc[(transformed_df[\"date_time\"].dt.normalize() == holiday_date), \"holiday\"] = holiday_name\n",
    "    \n",
    "    return transformed_df.drop(columns=[\"date_time\"])    "
   ]
  },
  {
   "cell_type": "markdown",
   "metadata": {},
   "source": [
    "### 3.5. Apply changes to the split sets"
   ]
  },
  {
   "cell_type": "code",
   "execution_count": 188,
   "metadata": {},
   "outputs": [],
   "source": [
    "def transformed(dataset, transformations=[transformed_date_time, dropped_snow_1h_weather_description, transformed_holiday]):\n",
    "    for transform in transformations:\n",
    "        dataset = transform(dataset)\n",
    "    return dataset"
   ]
  },
  {
   "cell_type": "code",
   "execution_count": 189,
   "metadata": {},
   "outputs": [],
   "source": [
    "train_data = transformed(train_data)\n",
    "validation_data = transformed(validation_data)\n",
    "\n",
    "test_data = transformed(test_data)"
   ]
  },
  {
   "cell_type": "markdown",
   "metadata": {},
   "source": [
    "### 3.6. Transform categorical features\n",
    "\n",
    "Instead of turning a categorical feature with $n$ possible values into an $n$-D vector, with entries having only one non-zero — _hot_ — element, we'll drop one dimension (i.e. not use one of the values), creating an $(n-1)$-D vector to avoid the [Dummy Variable Trap](https://www.algosome.com/articles/dummy-variable-trap-regression.html)."
   ]
  },
  {
   "cell_type": "code",
   "execution_count": 190,
   "metadata": {
    "scrolled": true
   },
   "outputs": [
    {
     "name": "stdout",
     "output_type": "stream",
     "text": [
      "['None' 'Columbus Day' 'Veterans Day' 'Thanksgiving Day' 'Christmas Day'\n",
      " 'New Years Day' 'Washingtons Birthday' 'Memorial Day' 'Independence Day'\n",
      " 'State Fair' 'Labor Day' 'Martin Luther King Jr Day'] \n",
      "\n",
      "['Clouds' 'Clear' 'Rain' 'Drizzle' 'Mist' 'Haze' 'Fog' 'Thunderstorm'\n",
      " 'Snow' 'Squall' 'Smoke']\n"
     ]
    }
   ],
   "source": [
    "# categorical attributes: \"holiday\", \"weather_main\"\n",
    "print(data[\"holiday\"].unique(), '\\n')\n",
    "print(data[\"weather_main\"].unique())"
   ]
  },
  {
   "cell_type": "code",
   "execution_count": 191,
   "metadata": {},
   "outputs": [],
   "source": [
    "# dummy encoding, n-D: \n",
    "#   pd.get_dummies(df, prefix=\"weather\", columns=[\"weather_main\"])\n",
    "\n",
    "# one-hot encoding, (n-1)-D:\n",
    "#   pd.get_dummies(df, prefix=\"weather\", columns=[\"weather_main\"], drop_first=True)\n",
    "\n",
    "def encoded_weather_main(df):\n",
    "    encoded_df = df.copy()\n",
    "    weather_encoding = pd.get_dummies(encoded_df[\"weather_main\"], drop_first=True) # drops Clear weather\n",
    "    encoded_df = pd.concat([encoded_df, weather_encoding], axis=1)\n",
    "    encoded_df.drop(columns=[\"weather_main\"], inplace=True)\n",
    "    return encoded_df"
   ]
  },
  {
   "cell_type": "code",
   "execution_count": 192,
   "metadata": {},
   "outputs": [],
   "source": [
    "# we'll make 'holiday' a binary value\n",
    "def encoded_holiday(df):\n",
    "    encoded_df = df.copy()\n",
    "    # obs.: comparing the value to 0 prevents accidents when running this twice\n",
    "    encoded_df[\"holiday\"] = encoded_df[\"holiday\"].apply(lambda h: 0 if (h == \"None\" or h == 0) else 1)\n",
    "    return encoded_df"
   ]
  },
  {
   "cell_type": "code",
   "execution_count": 193,
   "metadata": {},
   "outputs": [],
   "source": [
    "# trasformed categorical features\n",
    "def encoded(dataset, encodings=[encoded_weather_main, encoded_holiday]):\n",
    "    for encode in encodings:\n",
    "        dataset = encode(dataset)\n",
    "    return dataset"
   ]
  },
  {
   "cell_type": "code",
   "execution_count": 194,
   "metadata": {},
   "outputs": [],
   "source": [
    "train_data = encoded(train_data)\n",
    "validation_data = encoded(validation_data)\n",
    "\n",
    "test_data = encoded(test_data)"
   ]
  },
  {
   "cell_type": "code",
   "execution_count": 195,
   "metadata": {},
   "outputs": [],
   "source": [
    "# make 'traffic_volume' the last column\n",
    "columns_order = lambda df: [col for col in df.columns.values if col != \"traffic_volume\"] + [\"traffic_volume\"]\n",
    "\n",
    "train_data = train_data[columns_order(train_data)]\n",
    "validation_data = validation_data[columns_order(validation_data)]\n",
    "\n",
    "test_data = test_data[columns_order(test_data)]"
   ]
  },
  {
   "cell_type": "markdown",
   "metadata": {},
   "source": [
    "## 4. Normalize values\n",
    "\n",
    "It's important we **normalize our trainning data** and save the mapping we made to it so we can use the same values once we deal with the validation and test sets (i.e. we don't want to be normalizing the test and validation sets based on their own values)."
   ]
  },
  {
   "cell_type": "code",
   "execution_count": 199,
   "metadata": {},
   "outputs": [],
   "source": [
    "# NOTE: we have to change this list if new columns are added\n",
    "attrs_to_normalize = [\"traffic_volume\", \"hour\", \"weekday\", \"weekofyear\", \"temp\", \"rain_1h\", \"clouds_all\"]\n",
    "def get_stats(df, columns, operations=['min', 'max', 'median', 'mean', 'std']):\n",
    "    return df[columns].agg(operations)"
   ]
  },
  {
   "cell_type": "markdown",
   "metadata": {},
   "source": [
    "Z-score normalization: $ x \\leftarrow \\dfrac{x - \\mu}{\\sigma}$ (makes the mean 0 and the standard deviation 1)"
   ]
  },
  {
   "cell_type": "code",
   "execution_count": 200,
   "metadata": {},
   "outputs": [],
   "source": [
    "# mu = mean, sigma = stddev\n",
    "def z_score(x, mu, sigma):\n",
    "    return (x - mu) / sigma\n",
    "\n",
    "def normalized(dataset, stats):\n",
    "    normalized_dataset = dataset.copy()\n",
    "    for col in stats:\n",
    "        col_mean = stats.loc[\"mean\", col]\n",
    "        col_stddev = stats.loc[\"std\", col]\n",
    "        normalized_dataset.loc[:, col] = dataset.loc[:, col].apply(lambda x: z_score(x, mu=col_mean, sigma=col_stddev))\n",
    "    return normalized_dataset"
   ]
  },
  {
   "cell_type": "code",
   "execution_count": 201,
   "metadata": {},
   "outputs": [],
   "source": [
    "# NOTE: we must use 'train_stats' when normalizing 'validation_data' and 'test_data' aswell\n",
    "train_stats = get_stats(train_data, columns=attrs_to_normalize).copy()"
   ]
  },
  {
   "cell_type": "code",
   "execution_count": 202,
   "metadata": {},
   "outputs": [
    {
     "data": {
      "text/html": [
       "<div>\n",
       "<style scoped>\n",
       "    .dataframe tbody tr th:only-of-type {\n",
       "        vertical-align: middle;\n",
       "    }\n",
       "\n",
       "    .dataframe tbody tr th {\n",
       "        vertical-align: top;\n",
       "    }\n",
       "\n",
       "    .dataframe thead th {\n",
       "        text-align: right;\n",
       "    }\n",
       "</style>\n",
       "<table border=\"1\" class=\"dataframe\">\n",
       "  <thead>\n",
       "    <tr style=\"text-align: right;\">\n",
       "      <th></th>\n",
       "      <th>traffic_volume</th>\n",
       "      <th>hour</th>\n",
       "      <th>weekday</th>\n",
       "      <th>weekofyear</th>\n",
       "      <th>temp</th>\n",
       "      <th>rain_1h</th>\n",
       "      <th>clouds_all</th>\n",
       "    </tr>\n",
       "  </thead>\n",
       "  <tbody>\n",
       "    <tr>\n",
       "      <th>min</th>\n",
       "      <td>0.000000</td>\n",
       "      <td>0.000000</td>\n",
       "      <td>0.000000</td>\n",
       "      <td>1.000000</td>\n",
       "      <td>243.390000</td>\n",
       "      <td>0.000000</td>\n",
       "      <td>0.000000</td>\n",
       "    </tr>\n",
       "    <tr>\n",
       "      <th>max</th>\n",
       "      <td>7280.000000</td>\n",
       "      <td>23.000000</td>\n",
       "      <td>6.000000</td>\n",
       "      <td>53.000000</td>\n",
       "      <td>310.070000</td>\n",
       "      <td>55.630000</td>\n",
       "      <td>100.000000</td>\n",
       "    </tr>\n",
       "    <tr>\n",
       "      <th>median</th>\n",
       "      <td>3370.000000</td>\n",
       "      <td>11.000000</td>\n",
       "      <td>3.000000</td>\n",
       "      <td>27.000000</td>\n",
       "      <td>282.465000</td>\n",
       "      <td>0.000000</td>\n",
       "      <td>64.000000</td>\n",
       "    </tr>\n",
       "    <tr>\n",
       "      <th>mean</th>\n",
       "      <td>3252.085594</td>\n",
       "      <td>11.372750</td>\n",
       "      <td>2.993230</td>\n",
       "      <td>26.467863</td>\n",
       "      <td>281.246050</td>\n",
       "      <td>0.131921</td>\n",
       "      <td>49.442289</td>\n",
       "    </tr>\n",
       "    <tr>\n",
       "      <th>std</th>\n",
       "      <td>1987.407287</td>\n",
       "      <td>6.944758</td>\n",
       "      <td>2.004335</td>\n",
       "      <td>14.850605</td>\n",
       "      <td>12.728783</td>\n",
       "      <td>1.025035</td>\n",
       "      <td>38.990004</td>\n",
       "    </tr>\n",
       "  </tbody>\n",
       "</table>\n",
       "</div>"
      ],
      "text/plain": [
       "        traffic_volume       hour   weekday  weekofyear        temp  \\\n",
       "min           0.000000   0.000000  0.000000    1.000000  243.390000   \n",
       "max        7280.000000  23.000000  6.000000   53.000000  310.070000   \n",
       "median     3370.000000  11.000000  3.000000   27.000000  282.465000   \n",
       "mean       3252.085594  11.372750  2.993230   26.467863  281.246050   \n",
       "std        1987.407287   6.944758  2.004335   14.850605   12.728783   \n",
       "\n",
       "          rain_1h  clouds_all  \n",
       "min      0.000000    0.000000  \n",
       "max     55.630000  100.000000  \n",
       "median   0.000000   64.000000  \n",
       "mean     0.131921   49.442289  \n",
       "std      1.025035   38.990004  "
      ]
     },
     "execution_count": 202,
     "metadata": {},
     "output_type": "execute_result"
    }
   ],
   "source": [
    "train_stats"
   ]
  },
  {
   "cell_type": "code",
   "execution_count": 203,
   "metadata": {},
   "outputs": [],
   "source": [
    "train_data = normalized(train_data, stats=train_stats)\n",
    "validation_data = normalized(validation_data, stats=train_stats)\n",
    "test_data = normalized(test_data, stats=train_stats)"
   ]
  },
  {
   "cell_type": "code",
   "execution_count": 204,
   "metadata": {},
   "outputs": [
    {
     "data": {
      "text/html": [
       "<div>\n",
       "<style scoped>\n",
       "    .dataframe tbody tr th:only-of-type {\n",
       "        vertical-align: middle;\n",
       "    }\n",
       "\n",
       "    .dataframe tbody tr th {\n",
       "        vertical-align: top;\n",
       "    }\n",
       "\n",
       "    .dataframe thead th {\n",
       "        text-align: right;\n",
       "    }\n",
       "</style>\n",
       "<table border=\"1\" class=\"dataframe\">\n",
       "  <thead>\n",
       "    <tr style=\"text-align: right;\">\n",
       "      <th></th>\n",
       "      <th>traffic_volume</th>\n",
       "      <th>hour</th>\n",
       "      <th>weekday</th>\n",
       "      <th>weekofyear</th>\n",
       "      <th>temp</th>\n",
       "      <th>rain_1h</th>\n",
       "      <th>clouds_all</th>\n",
       "    </tr>\n",
       "  </thead>\n",
       "  <tbody>\n",
       "    <tr>\n",
       "      <th>min</th>\n",
       "      <td>-1.636346e+00</td>\n",
       "      <td>-1.637602e+00</td>\n",
       "      <td>-1.493378e+00</td>\n",
       "      <td>-1.714938e+00</td>\n",
       "      <td>-2.974051e+00</td>\n",
       "      <td>-1.286994e-01</td>\n",
       "      <td>-1.268076e+00</td>\n",
       "    </tr>\n",
       "    <tr>\n",
       "      <th>max</th>\n",
       "      <td>2.026718e+00</td>\n",
       "      <td>1.674248e+00</td>\n",
       "      <td>1.500133e+00</td>\n",
       "      <td>1.786603e+00</td>\n",
       "      <td>2.264470e+00</td>\n",
       "      <td>5.414260e+01</td>\n",
       "      <td>1.296684e+00</td>\n",
       "    </tr>\n",
       "    <tr>\n",
       "      <th>median</th>\n",
       "      <td>5.933077e-02</td>\n",
       "      <td>-5.367356e-02</td>\n",
       "      <td>3.377542e-03</td>\n",
       "      <td>3.583266e-02</td>\n",
       "      <td>9.576331e-02</td>\n",
       "      <td>-1.286994e-01</td>\n",
       "      <td>3.733704e-01</td>\n",
       "    </tr>\n",
       "    <tr>\n",
       "      <th>mean</th>\n",
       "      <td>5.667165e-17</td>\n",
       "      <td>2.543313e-17</td>\n",
       "      <td>-3.953193e-17</td>\n",
       "      <td>-5.897538e-18</td>\n",
       "      <td>9.187258e-17</td>\n",
       "      <td>4.791750e-18</td>\n",
       "      <td>3.133067e-18</td>\n",
       "    </tr>\n",
       "    <tr>\n",
       "      <th>std</th>\n",
       "      <td>1.000000e+00</td>\n",
       "      <td>1.000000e+00</td>\n",
       "      <td>1.000000e+00</td>\n",
       "      <td>1.000000e+00</td>\n",
       "      <td>1.000000e+00</td>\n",
       "      <td>1.000000e+00</td>\n",
       "      <td>1.000000e+00</td>\n",
       "    </tr>\n",
       "  </tbody>\n",
       "</table>\n",
       "</div>"
      ],
      "text/plain": [
       "        traffic_volume          hour       weekday    weekofyear  \\\n",
       "min      -1.636346e+00 -1.637602e+00 -1.493378e+00 -1.714938e+00   \n",
       "max       2.026718e+00  1.674248e+00  1.500133e+00  1.786603e+00   \n",
       "median    5.933077e-02 -5.367356e-02  3.377542e-03  3.583266e-02   \n",
       "mean      5.667165e-17  2.543313e-17 -3.953193e-17 -5.897538e-18   \n",
       "std       1.000000e+00  1.000000e+00  1.000000e+00  1.000000e+00   \n",
       "\n",
       "                temp       rain_1h    clouds_all  \n",
       "min    -2.974051e+00 -1.286994e-01 -1.268076e+00  \n",
       "max     2.264470e+00  5.414260e+01  1.296684e+00  \n",
       "median  9.576331e-02 -1.286994e-01  3.733704e-01  \n",
       "mean    9.187258e-17  4.791750e-18  3.133067e-18  \n",
       "std     1.000000e+00  1.000000e+00  1.000000e+00  "
      ]
     },
     "execution_count": 204,
     "metadata": {},
     "output_type": "execute_result"
    }
   ],
   "source": [
    "# we should now see mean~=0 and std~=1 for all attributes\n",
    "get_stats(train_data, columns=attrs_to_normalize)"
   ]
  },
  {
   "cell_type": "code",
   "execution_count": 205,
   "metadata": {
    "scrolled": true
   },
   "outputs": [
    {
     "data": {
      "text/html": [
       "<div>\n",
       "<style scoped>\n",
       "    .dataframe tbody tr th:only-of-type {\n",
       "        vertical-align: middle;\n",
       "    }\n",
       "\n",
       "    .dataframe tbody tr th {\n",
       "        vertical-align: top;\n",
       "    }\n",
       "\n",
       "    .dataframe thead th {\n",
       "        text-align: right;\n",
       "    }\n",
       "</style>\n",
       "<table border=\"1\" class=\"dataframe\">\n",
       "  <thead>\n",
       "    <tr style=\"text-align: right;\">\n",
       "      <th></th>\n",
       "      <th>traffic_volume</th>\n",
       "      <th>hour</th>\n",
       "      <th>weekday</th>\n",
       "      <th>weekofyear</th>\n",
       "      <th>temp</th>\n",
       "      <th>rain_1h</th>\n",
       "      <th>clouds_all</th>\n",
       "    </tr>\n",
       "  </thead>\n",
       "  <tbody>\n",
       "    <tr>\n",
       "      <th>min</th>\n",
       "      <td>-1.634836</td>\n",
       "      <td>-1.637602</td>\n",
       "      <td>-1.493378</td>\n",
       "      <td>-1.714938</td>\n",
       "      <td>-2.908845</td>\n",
       "      <td>-0.128699</td>\n",
       "      <td>-1.268076</td>\n",
       "    </tr>\n",
       "    <tr>\n",
       "      <th>max</th>\n",
       "      <td>1.906964</td>\n",
       "      <td>1.674248</td>\n",
       "      <td>1.500133</td>\n",
       "      <td>1.786603</td>\n",
       "      <td>2.170196</td>\n",
       "      <td>24.572889</td>\n",
       "      <td>1.296684</td>\n",
       "    </tr>\n",
       "    <tr>\n",
       "      <th>median</th>\n",
       "      <td>0.129271</td>\n",
       "      <td>0.090320</td>\n",
       "      <td>0.003378</td>\n",
       "      <td>0.035833</td>\n",
       "      <td>0.115797</td>\n",
       "      <td>-0.128699</td>\n",
       "      <td>0.373370</td>\n",
       "    </tr>\n",
       "    <tr>\n",
       "      <th>mean</th>\n",
       "      <td>0.031358</td>\n",
       "      <td>0.021147</td>\n",
       "      <td>0.001514</td>\n",
       "      <td>0.024347</td>\n",
       "      <td>0.013055</td>\n",
       "      <td>0.003504</td>\n",
       "      <td>-0.008086</td>\n",
       "    </tr>\n",
       "    <tr>\n",
       "      <th>std</th>\n",
       "      <td>0.994448</td>\n",
       "      <td>0.985955</td>\n",
       "      <td>1.007676</td>\n",
       "      <td>0.997670</td>\n",
       "      <td>0.995840</td>\n",
       "      <td>0.901125</td>\n",
       "      <td>1.003678</td>\n",
       "    </tr>\n",
       "  </tbody>\n",
       "</table>\n",
       "</div>"
      ],
      "text/plain": [
       "        traffic_volume      hour   weekday  weekofyear      temp    rain_1h  \\\n",
       "min          -1.634836 -1.637602 -1.493378   -1.714938 -2.908845  -0.128699   \n",
       "max           1.906964  1.674248  1.500133    1.786603  2.170196  24.572889   \n",
       "median        0.129271  0.090320  0.003378    0.035833  0.115797  -0.128699   \n",
       "mean          0.031358  0.021147  0.001514    0.024347  0.013055   0.003504   \n",
       "std           0.994448  0.985955  1.007676    0.997670  0.995840   0.901125   \n",
       "\n",
       "        clouds_all  \n",
       "min      -1.268076  \n",
       "max       1.296684  \n",
       "median    0.373370  \n",
       "mean     -0.008086  \n",
       "std       1.003678  "
      ]
     },
     "execution_count": 205,
     "metadata": {},
     "output_type": "execute_result"
    }
   ],
   "source": [
    "# we should now see mean close to 0 and std close to 1\n",
    "get_stats(validation_data, columns=attrs_to_normalize)"
   ]
  },
  {
   "cell_type": "code",
   "execution_count": 206,
   "metadata": {},
   "outputs": [
    {
     "data": {
      "text/html": [
       "<div>\n",
       "<style scoped>\n",
       "    .dataframe tbody tr th:only-of-type {\n",
       "        vertical-align: middle;\n",
       "    }\n",
       "\n",
       "    .dataframe tbody tr th {\n",
       "        vertical-align: top;\n",
       "    }\n",
       "\n",
       "    .dataframe thead th {\n",
       "        text-align: right;\n",
       "    }\n",
       "</style>\n",
       "<table border=\"1\" class=\"dataframe\">\n",
       "  <thead>\n",
       "    <tr style=\"text-align: right;\">\n",
       "      <th></th>\n",
       "      <th>traffic_volume</th>\n",
       "      <th>hour</th>\n",
       "      <th>weekday</th>\n",
       "      <th>weekofyear</th>\n",
       "      <th>temp</th>\n",
       "      <th>rain_1h</th>\n",
       "      <th>clouds_all</th>\n",
       "    </tr>\n",
       "  </thead>\n",
       "  <tbody>\n",
       "    <tr>\n",
       "      <th>min</th>\n",
       "      <td>-1.635843</td>\n",
       "      <td>-1.637602</td>\n",
       "      <td>-1.493378</td>\n",
       "      <td>-1.714938</td>\n",
       "      <td>-2.861707</td>\n",
       "      <td>-0.128699</td>\n",
       "      <td>-1.268076</td>\n",
       "    </tr>\n",
       "    <tr>\n",
       "      <th>max</th>\n",
       "      <td>2.016655</td>\n",
       "      <td>1.674248</td>\n",
       "      <td>1.500133</td>\n",
       "      <td>1.786603</td>\n",
       "      <td>2.004430</td>\n",
       "      <td>24.709470</td>\n",
       "      <td>1.296684</td>\n",
       "    </tr>\n",
       "    <tr>\n",
       "      <th>median</th>\n",
       "      <td>0.043984</td>\n",
       "      <td>-0.053674</td>\n",
       "      <td>0.003378</td>\n",
       "      <td>0.035833</td>\n",
       "      <td>0.068620</td>\n",
       "      <td>-0.128699</td>\n",
       "      <td>0.373370</td>\n",
       "    </tr>\n",
       "    <tr>\n",
       "      <th>mean</th>\n",
       "      <td>0.009341</td>\n",
       "      <td>0.017158</td>\n",
       "      <td>-0.044651</td>\n",
       "      <td>-0.008174</td>\n",
       "      <td>0.000880</td>\n",
       "      <td>-0.018913</td>\n",
       "      <td>-0.009955</td>\n",
       "    </tr>\n",
       "    <tr>\n",
       "      <th>std</th>\n",
       "      <td>1.002002</td>\n",
       "      <td>1.007484</td>\n",
       "      <td>0.999010</td>\n",
       "      <td>0.995686</td>\n",
       "      <td>0.988977</td>\n",
       "      <td>0.878543</td>\n",
       "      <td>1.002495</td>\n",
       "    </tr>\n",
       "  </tbody>\n",
       "</table>\n",
       "</div>"
      ],
      "text/plain": [
       "        traffic_volume      hour   weekday  weekofyear      temp    rain_1h  \\\n",
       "min          -1.635843 -1.637602 -1.493378   -1.714938 -2.861707  -0.128699   \n",
       "max           2.016655  1.674248  1.500133    1.786603  2.004430  24.709470   \n",
       "median        0.043984 -0.053674  0.003378    0.035833  0.068620  -0.128699   \n",
       "mean          0.009341  0.017158 -0.044651   -0.008174  0.000880  -0.018913   \n",
       "std           1.002002  1.007484  0.999010    0.995686  0.988977   0.878543   \n",
       "\n",
       "        clouds_all  \n",
       "min      -1.268076  \n",
       "max       1.296684  \n",
       "median    0.373370  \n",
       "mean     -0.009955  \n",
       "std       1.002495  "
      ]
     },
     "execution_count": 206,
     "metadata": {},
     "output_type": "execute_result"
    }
   ],
   "source": [
    "# we should now see mean close to 0 and std close to 1\n",
    "get_stats(test_data, columns=attrs_to_normalize)"
   ]
  },
  {
   "cell_type": "markdown",
   "metadata": {},
   "source": [
    "## 5. Save the split data, normalized with values from the training set"
   ]
  },
  {
   "cell_type": "code",
   "execution_count": 207,
   "metadata": {},
   "outputs": [],
   "source": [
    "train_data.to_csv(\"train_80.csv\")\n",
    "validation_data.to_csv(\"validation_10.csv\")\n",
    "\n",
    "test_data.to_csv(\"test_10.csv\") # and now.. don't touch it anymore!"
   ]
  },
  {
   "cell_type": "code",
   "execution_count": null,
   "metadata": {},
   "outputs": [],
   "source": []
  }
 ],
 "metadata": {
  "kernelspec": {
   "display_name": "Python 3",
   "language": "python",
   "name": "python3"
  },
  "language_info": {
   "codemirror_mode": {
    "name": "ipython",
    "version": 3
   },
   "file_extension": ".py",
   "mimetype": "text/x-python",
   "name": "python",
   "nbconvert_exporter": "python",
   "pygments_lexer": "ipython3",
   "version": "3.7.4"
  }
 },
 "nbformat": 4,
 "nbformat_minor": 2
}
