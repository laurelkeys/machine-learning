{
 "cells": [
  {
   "cell_type": "markdown",
   "metadata": {},
   "source": [
    "## Importing libs and loading the dataset"
   ]
  },
  {
   "cell_type": "code",
   "execution_count": 1,
   "metadata": {},
   "outputs": [],
   "source": [
    "import numpy as np\n",
    "import pandas as pd\n",
    "import seaborn as sns\n",
    "import matplotlib.pyplot as plt"
   ]
  },
  {
   "cell_type": "code",
   "execution_count": 2,
   "metadata": {},
   "outputs": [],
   "source": [
    "%matplotlib inline\n",
    "sns.set() # apply the seaborn defaults to plotted figures (e.g. theme, scaling, color palette), instead of matplotlib's"
   ]
  },
  {
   "cell_type": "code",
   "execution_count": 3,
   "metadata": {
    "scrolled": true
   },
   "outputs": [
    {
     "data": {
      "text/plain": [
       "(48204, 9)"
      ]
     },
     "execution_count": 3,
     "metadata": {},
     "output_type": "execute_result"
    }
   ],
   "source": [
    "dataset_csv_path = \"Metro_Interstate_Traffic_Volume.csv\" # 8 attributes of 48,204 examples (plus the target column)\n",
    "\n",
    "# loading the dataset with pandas (instead of numpy or csv) since there are different datatypes\n",
    "dataset_csv = pd.read_csv(dataset_csv_path, delimiter=',')\n",
    "dataset_csv.shape"
   ]
  },
  {
   "cell_type": "markdown",
   "metadata": {},
   "source": [
    "## Dataset attributes\n",
    "- 1: **holiday**: US National holidays plus regional holiday, Minnesota State Fair\n",
    "- 2: **temp**: average temp in kelvin\n",
    "- 3: **rain 1h**: amount in mm of rain that occurred in the hour\n",
    "- 4: **snow 1h**: amount in mm of snow that occurred in the hour\n",
    "- 5: **clouds all**: percentage of cloud cover\n",
    "- 6: **weather main**: short textual description of the current weather\n",
    "- 7: **weather description**: longer textual description of the current weather\n",
    "- 8: **date time**: hour of the data collected in local CST time\n",
    "- target: **traffic volume**: traffic volume"
   ]
  },
  {
   "cell_type": "code",
   "execution_count": 4,
   "metadata": {},
   "outputs": [
    {
     "data": {
      "text/plain": [
       "holiday                 object\n",
       "temp                   float64\n",
       "rain_1h                float64\n",
       "snow_1h                float64\n",
       "clouds_all               int64\n",
       "weather_main            object\n",
       "weather_description     object\n",
       "date_time               object\n",
       "traffic_volume           int64\n",
       "dtype: object"
      ]
     },
     "execution_count": 4,
     "metadata": {},
     "output_type": "execute_result"
    }
   ],
   "source": [
    "dataset_csv.dtypes"
   ]
  },
  {
   "cell_type": "markdown",
   "metadata": {},
   "source": [
    "## 0. Visualize the data"
   ]
  },
  {
   "cell_type": "code",
   "execution_count": 5,
   "metadata": {},
   "outputs": [
    {
     "data": {
      "text/html": [
       "<div>\n",
       "<style scoped>\n",
       "    .dataframe tbody tr th:only-of-type {\n",
       "        vertical-align: middle;\n",
       "    }\n",
       "\n",
       "    .dataframe tbody tr th {\n",
       "        vertical-align: top;\n",
       "    }\n",
       "\n",
       "    .dataframe thead th {\n",
       "        text-align: right;\n",
       "    }\n",
       "</style>\n",
       "<table border=\"1\" class=\"dataframe\">\n",
       "  <thead>\n",
       "    <tr style=\"text-align: right;\">\n",
       "      <th></th>\n",
       "      <th>holiday</th>\n",
       "      <th>temp</th>\n",
       "      <th>rain_1h</th>\n",
       "      <th>snow_1h</th>\n",
       "      <th>clouds_all</th>\n",
       "      <th>weather_main</th>\n",
       "      <th>weather_description</th>\n",
       "      <th>date_time</th>\n",
       "      <th>traffic_volume</th>\n",
       "    </tr>\n",
       "  </thead>\n",
       "  <tbody>\n",
       "    <tr>\n",
       "      <th>min</th>\n",
       "      <td>Christmas Day</td>\n",
       "      <td>0.000000</td>\n",
       "      <td>0.000000</td>\n",
       "      <td>0.000000</td>\n",
       "      <td>0.000000</td>\n",
       "      <td>Clear</td>\n",
       "      <td>SQUALLS</td>\n",
       "      <td>2012-10-02 09:00:00</td>\n",
       "      <td>0.000000</td>\n",
       "    </tr>\n",
       "    <tr>\n",
       "      <th>max</th>\n",
       "      <td>Washingtons Birthday</td>\n",
       "      <td>310.070000</td>\n",
       "      <td>9831.300000</td>\n",
       "      <td>0.510000</td>\n",
       "      <td>100.000000</td>\n",
       "      <td>Thunderstorm</td>\n",
       "      <td>very heavy rain</td>\n",
       "      <td>2018-09-30 23:00:00</td>\n",
       "      <td>7280.000000</td>\n",
       "    </tr>\n",
       "    <tr>\n",
       "      <th>median</th>\n",
       "      <td>NaN</td>\n",
       "      <td>282.450000</td>\n",
       "      <td>0.000000</td>\n",
       "      <td>0.000000</td>\n",
       "      <td>64.000000</td>\n",
       "      <td>NaN</td>\n",
       "      <td>NaN</td>\n",
       "      <td>NaN</td>\n",
       "      <td>3380.000000</td>\n",
       "    </tr>\n",
       "    <tr>\n",
       "      <th>mean</th>\n",
       "      <td>NaN</td>\n",
       "      <td>281.205870</td>\n",
       "      <td>0.334264</td>\n",
       "      <td>0.000222</td>\n",
       "      <td>49.362231</td>\n",
       "      <td>NaN</td>\n",
       "      <td>NaN</td>\n",
       "      <td>NaN</td>\n",
       "      <td>3259.818355</td>\n",
       "    </tr>\n",
       "    <tr>\n",
       "      <th>std</th>\n",
       "      <td>NaN</td>\n",
       "      <td>13.338232</td>\n",
       "      <td>44.789133</td>\n",
       "      <td>0.008168</td>\n",
       "      <td>39.015750</td>\n",
       "      <td>NaN</td>\n",
       "      <td>NaN</td>\n",
       "      <td>NaN</td>\n",
       "      <td>1986.860670</td>\n",
       "    </tr>\n",
       "  </tbody>\n",
       "</table>\n",
       "</div>"
      ],
      "text/plain": [
       "                     holiday        temp      rain_1h   snow_1h  clouds_all  \\\n",
       "min            Christmas Day    0.000000     0.000000  0.000000    0.000000   \n",
       "max     Washingtons Birthday  310.070000  9831.300000  0.510000  100.000000   \n",
       "median                   NaN  282.450000     0.000000  0.000000   64.000000   \n",
       "mean                     NaN  281.205870     0.334264  0.000222   49.362231   \n",
       "std                      NaN   13.338232    44.789133  0.008168   39.015750   \n",
       "\n",
       "        weather_main weather_description            date_time  traffic_volume  \n",
       "min            Clear             SQUALLS  2012-10-02 09:00:00        0.000000  \n",
       "max     Thunderstorm     very heavy rain  2018-09-30 23:00:00     7280.000000  \n",
       "median           NaN                 NaN                  NaN     3380.000000  \n",
       "mean             NaN                 NaN                  NaN     3259.818355  \n",
       "std              NaN                 NaN                  NaN     1986.860670  "
      ]
     },
     "execution_count": 5,
     "metadata": {},
     "output_type": "execute_result"
    }
   ],
   "source": [
    "dataset_csv.agg([\"min\", \"max\", \"median\", \"mean\", \"std\"])"
   ]
  },
  {
   "cell_type": "code",
   "execution_count": 6,
   "metadata": {},
   "outputs": [
    {
     "data": {
      "text/html": [
       "<div>\n",
       "<style scoped>\n",
       "    .dataframe tbody tr th:only-of-type {\n",
       "        vertical-align: middle;\n",
       "    }\n",
       "\n",
       "    .dataframe tbody tr th {\n",
       "        vertical-align: top;\n",
       "    }\n",
       "\n",
       "    .dataframe thead th {\n",
       "        text-align: right;\n",
       "    }\n",
       "</style>\n",
       "<table border=\"1\" class=\"dataframe\">\n",
       "  <thead>\n",
       "    <tr style=\"text-align: right;\">\n",
       "      <th></th>\n",
       "      <th>size</th>\n",
       "      <th>temp_celsius</th>\n",
       "      <th>temp</th>\n",
       "      <th>traffic_volume</th>\n",
       "    </tr>\n",
       "    <tr>\n",
       "      <th>weather_main</th>\n",
       "      <th></th>\n",
       "      <th></th>\n",
       "      <th></th>\n",
       "      <th></th>\n",
       "    </tr>\n",
       "  </thead>\n",
       "  <tbody>\n",
       "    <tr>\n",
       "      <th>Clouds</th>\n",
       "      <td>15164</td>\n",
       "      <td>8.316101</td>\n",
       "      <td>281.466101</td>\n",
       "      <td>3618.449749</td>\n",
       "    </tr>\n",
       "    <tr>\n",
       "      <th>Haze</th>\n",
       "      <td>1360</td>\n",
       "      <td>2.668581</td>\n",
       "      <td>275.818581</td>\n",
       "      <td>3502.101471</td>\n",
       "    </tr>\n",
       "    <tr>\n",
       "      <th>Rain</th>\n",
       "      <td>5672</td>\n",
       "      <td>13.829586</td>\n",
       "      <td>286.979586</td>\n",
       "      <td>3317.905501</td>\n",
       "    </tr>\n",
       "    <tr>\n",
       "      <th>Drizzle</th>\n",
       "      <td>1821</td>\n",
       "      <td>10.645431</td>\n",
       "      <td>283.795431</td>\n",
       "      <td>3290.727073</td>\n",
       "    </tr>\n",
       "    <tr>\n",
       "      <th>Smoke</th>\n",
       "      <td>20</td>\n",
       "      <td>17.777500</td>\n",
       "      <td>290.927500</td>\n",
       "      <td>3237.650000</td>\n",
       "    </tr>\n",
       "    <tr>\n",
       "      <th>Clear</th>\n",
       "      <td>13391</td>\n",
       "      <td>8.339971</td>\n",
       "      <td>281.489971</td>\n",
       "      <td>3055.908819</td>\n",
       "    </tr>\n",
       "    <tr>\n",
       "      <th>Snow</th>\n",
       "      <td>2876</td>\n",
       "      <td>-5.194812</td>\n",
       "      <td>267.955188</td>\n",
       "      <td>3016.844228</td>\n",
       "    </tr>\n",
       "    <tr>\n",
       "      <th>Thunderstorm</th>\n",
       "      <td>1034</td>\n",
       "      <td>19.566431</td>\n",
       "      <td>292.716431</td>\n",
       "      <td>3001.620890</td>\n",
       "    </tr>\n",
       "    <tr>\n",
       "      <th>Mist</th>\n",
       "      <td>5950</td>\n",
       "      <td>6.326892</td>\n",
       "      <td>279.476892</td>\n",
       "      <td>2932.956639</td>\n",
       "    </tr>\n",
       "    <tr>\n",
       "      <th>Fog</th>\n",
       "      <td>912</td>\n",
       "      <td>6.265713</td>\n",
       "      <td>279.415713</td>\n",
       "      <td>2703.720395</td>\n",
       "    </tr>\n",
       "    <tr>\n",
       "      <th>Squall</th>\n",
       "      <td>4</td>\n",
       "      <td>19.237500</td>\n",
       "      <td>292.387500</td>\n",
       "      <td>2061.750000</td>\n",
       "    </tr>\n",
       "  </tbody>\n",
       "</table>\n",
       "</div>"
      ],
      "text/plain": [
       "               size  temp_celsius        temp  traffic_volume\n",
       "weather_main                                                 \n",
       "Clouds        15164      8.316101  281.466101     3618.449749\n",
       "Haze           1360      2.668581  275.818581     3502.101471\n",
       "Rain           5672     13.829586  286.979586     3317.905501\n",
       "Drizzle        1821     10.645431  283.795431     3290.727073\n",
       "Smoke            20     17.777500  290.927500     3237.650000\n",
       "Clear         13391      8.339971  281.489971     3055.908819\n",
       "Snow           2876     -5.194812  267.955188     3016.844228\n",
       "Thunderstorm   1034     19.566431  292.716431     3001.620890\n",
       "Mist           5950      6.326892  279.476892     2932.956639\n",
       "Fog             912      6.265713  279.415713     2703.720395\n",
       "Squall            4     19.237500  292.387500     2061.750000"
      ]
     },
     "execution_count": 6,
     "metadata": {},
     "output_type": "execute_result"
    }
   ],
   "source": [
    "mean_values = dataset_csv.groupby(\"weather_main\")[[\"temp\", \"traffic_volume\"]].mean()\n",
    "mean_values[\"temp_celsius\"] = mean_values[\"temp\"].apply(lambda temp_K: temp_K - 273.15)\n",
    "mean_values[\"size\"] = dataset_csv.groupby(\"weather_main\").size() # amount of entries in each group\n",
    "\n",
    "# order by the weather conditions which have the largest mean traffic volume\n",
    "mean_values[[\"size\", \"temp_celsius\", \"temp\", \"traffic_volume\"]].sort_values(by=\"traffic_volume\", ascending=False)"
   ]
  },
  {
   "cell_type": "code",
   "execution_count": 7,
   "metadata": {},
   "outputs": [
    {
     "data": {
      "text/plain": [
       "rain_1h\n",
       "0.00       44737\n",
       "0.25         948\n",
       "0.26           2\n",
       "0.27           5\n",
       "0.28          23\n",
       "           ...  \n",
       "28.70          2\n",
       "31.75          1\n",
       "44.45          1\n",
       "55.63          1\n",
       "9831.30        1\n",
       "Length: 372, dtype: int64"
      ]
     },
     "execution_count": 7,
     "metadata": {},
     "output_type": "execute_result"
    }
   ],
   "source": [
    "# 44737 / 48204 ~= 93.81% of entries have no rain (3467 have)\n",
    "dataset_csv.groupby(\"rain_1h\").size()"
   ]
  },
  {
   "cell_type": "code",
   "execution_count": 8,
   "metadata": {
    "scrolled": true
   },
   "outputs": [
    {
     "data": {
      "text/plain": [
       "snow_1h\n",
       "0.00    48141\n",
       "0.05       14\n",
       "0.06       12\n",
       "0.08        2\n",
       "0.10        6\n",
       "0.13        6\n",
       "0.17        3\n",
       "0.21        1\n",
       "0.25        6\n",
       "0.32        5\n",
       "0.44        2\n",
       "0.51        6\n",
       "dtype: int64"
      ]
     },
     "execution_count": 8,
     "metadata": {},
     "output_type": "execute_result"
    }
   ],
   "source": [
    "# 48141 / 48204 ~= 99.87% of entries have no snow (only 63 have)\n",
    "dataset_csv.groupby(\"snow_1h\").size()"
   ]
  },
  {
   "cell_type": "markdown",
   "metadata": {},
   "source": [
    "## 1. Clean the dataset"
   ]
  },
  {
   "cell_type": "code",
   "execution_count": 9,
   "metadata": {},
   "outputs": [],
   "source": [
    "# we'll copy our dataset to the DataFrame object 'data' to clean it and\n",
    "# save it as a new .csv file later (splitting it into trainning/validation and test)\n",
    "data = dataset_csv.copy()"
   ]
  },
  {
   "cell_type": "markdown",
   "metadata": {},
   "source": [
    "### 1.1. Removing invalid data"
   ]
  },
  {
   "cell_type": "code",
   "execution_count": 10,
   "metadata": {},
   "outputs": [
    {
     "name": "stdout",
     "output_type": "stream",
     "text": [
      "(48204, 9) - (10, 9) => (48194, 9)\n"
     ]
    }
   ],
   "source": [
    "# removing entries with 0 Kelvin temperature\n",
    "print(f\"{data.shape} - {data.query('temp == 0.0').shape} => \", end='')\n",
    "\n",
    "data = data.query(\"temp > 0.0\")\n",
    "print(data.shape) # removes 10 invalid samples"
   ]
  },
  {
   "cell_type": "code",
   "execution_count": 11,
   "metadata": {},
   "outputs": [
    {
     "data": {
      "text/html": [
       "<div>\n",
       "<style scoped>\n",
       "    .dataframe tbody tr th:only-of-type {\n",
       "        vertical-align: middle;\n",
       "    }\n",
       "\n",
       "    .dataframe tbody tr th {\n",
       "        vertical-align: top;\n",
       "    }\n",
       "\n",
       "    .dataframe thead th {\n",
       "        text-align: right;\n",
       "    }\n",
       "</style>\n",
       "<table border=\"1\" class=\"dataframe\">\n",
       "  <thead>\n",
       "    <tr style=\"text-align: right;\">\n",
       "      <th></th>\n",
       "      <th>holiday</th>\n",
       "      <th>temp</th>\n",
       "      <th>rain_1h</th>\n",
       "      <th>snow_1h</th>\n",
       "      <th>clouds_all</th>\n",
       "      <th>weather_main</th>\n",
       "      <th>weather_description</th>\n",
       "      <th>date_time</th>\n",
       "      <th>traffic_volume</th>\n",
       "    </tr>\n",
       "  </thead>\n",
       "  <tbody>\n",
       "    <tr>\n",
       "      <th>24872</th>\n",
       "      <td>None</td>\n",
       "      <td>302.11</td>\n",
       "      <td>9831.3</td>\n",
       "      <td>0.0</td>\n",
       "      <td>75</td>\n",
       "      <td>Rain</td>\n",
       "      <td>very heavy rain</td>\n",
       "      <td>2016-07-11 17:00:00</td>\n",
       "      <td>5535</td>\n",
       "    </tr>\n",
       "  </tbody>\n",
       "</table>\n",
       "</div>"
      ],
      "text/plain": [
       "      holiday    temp  rain_1h  snow_1h  clouds_all weather_main  \\\n",
       "24872    None  302.11   9831.3      0.0          75         Rain   \n",
       "\n",
       "      weather_description            date_time  traffic_volume  \n",
       "24872     very heavy rain  2016-07-11 17:00:00            5535  "
      ]
     },
     "execution_count": 11,
     "metadata": {},
     "output_type": "execute_result"
    }
   ],
   "source": [
    "# the max value of rain_1h is invalid (>1000mm), so we'll drop it\n",
    "data.query(\"rain_1h > 0.0\").sort_values(by=\"rain_1h\", ascending=False).head(n=1)"
   ]
  },
  {
   "cell_type": "code",
   "execution_count": 12,
   "metadata": {},
   "outputs": [],
   "source": [
    "data.drop(index=24872, inplace=True) # removes the row where rain_1h == 9831.30"
   ]
  },
  {
   "cell_type": "code",
   "execution_count": 13,
   "metadata": {},
   "outputs": [
    {
     "data": {
      "text/plain": [
       "(48193, 9)"
      ]
     },
     "execution_count": 13,
     "metadata": {},
     "output_type": "execute_result"
    }
   ],
   "source": [
    "data.shape"
   ]
  },
  {
   "cell_type": "markdown",
   "metadata": {},
   "source": [
    "### 1.2. Saving the clean dataset\n",
    "\n",
    "Note that we removed values from the whole dataset, and only then we'll split it into test, train and validation.\n",
    "\n",
    "However, the values we removed (0 Kelvin temperature and over 1000mm of rain in an hour) are clearly invalid, so even if we're dealing with test (never seen) data, we could confidently remove entries like these (besides that, only 11 rows were actually removed)."
   ]
  },
  {
   "cell_type": "code",
   "execution_count": 14,
   "metadata": {},
   "outputs": [],
   "source": [
    "data[\"date_time\"] = pd.to_datetime(data[\"date_time\"], format=\"%Y-%m-%d %H:%M:%S\")\n",
    "data.set_index(\"date_time\", inplace=True)"
   ]
  },
  {
   "cell_type": "code",
   "execution_count": 15,
   "metadata": {},
   "outputs": [],
   "source": [
    "data.to_csv(\"clean.csv\")"
   ]
  },
  {
   "cell_type": "markdown",
   "metadata": {},
   "source": [
    "## 2. Split the dataset into train/validation and test\n",
    "\n",
    "- test: 15%\n",
    "- train & validation: 85%\n",
    "    - train: 70%\n",
    "    - validation: 15%"
   ]
  },
  {
   "cell_type": "code",
   "execution_count": 16,
   "metadata": {},
   "outputs": [],
   "source": [
    "# random seed for splitting the data deterministically\n",
    "RANDOM_SEED = 886"
   ]
  },
  {
   "cell_type": "code",
   "execution_count": 17,
   "metadata": {},
   "outputs": [
    {
     "name": "stdout",
     "output_type": "stream",
     "text": [
      "total: (48193, 8)\n",
      "\n",
      "train: (33735, 8)\n",
      "validation: (7229, 8)\n",
      "test: (7229, 8)\n"
     ]
    }
   ],
   "source": [
    "from sklearn.model_selection import train_test_split\n",
    "\n",
    "print(f\"total: {data.shape}\\n\")\n",
    "\n",
    "train_data, test_validation_data = train_test_split(data, train_size=0.7, shuffle=True, random_state=RANDOM_SEED)\n",
    "print(f\"train: {train_data.shape}\") # 70%\n",
    "\n",
    "validation_data, test_data = train_test_split(test_validation_data, test_size=0.5, shuffle=True, random_state=RANDOM_SEED)\n",
    "print(f\"validation: {validation_data.shape}\") # 15% of total\n",
    "print(f\"test: {test_data.shape}\") # 15% of total"
   ]
  },
  {
   "cell_type": "code",
   "execution_count": 18,
   "metadata": {
    "scrolled": false
   },
   "outputs": [
    {
     "name": "stdout",
     "output_type": "stream",
     "text": [
      "Train: \n",
      "                      traffic_volume\n",
      "date_time                          \n",
      "2012-10-02 09:00:00            5545\n",
      "2012-10-02 10:00:00            4516\n",
      "2012-10-02 11:00:00            4767\n",
      "2012-10-02 12:00:00            5026\n",
      "\n",
      "Validation: \n",
      "                      traffic_volume\n",
      "date_time                          \n",
      "2012-10-03 06:00:00            5673\n",
      "2012-10-03 20:00:00            2898\n",
      "2012-10-04 02:00:00             312\n",
      "2012-10-04 13:00:00            5178\n",
      "\n",
      "Test: \n",
      "                      traffic_volume\n",
      "date_time                          \n",
      "2012-10-02 16:00:00            6015\n",
      "2012-10-03 15:00:00            5692\n",
      "2012-10-03 23:00:00            1015\n",
      "2012-10-04 03:00:00             367\n"
     ]
    }
   ],
   "source": [
    "# visualize the first values of each set\n",
    "print(\"Train: \\n\", train_data[[\"traffic_volume\"]].sort_values(\"date_time\").head(n=4))\n",
    "print(\"\\nValidation: \\n\", validation_data[[\"traffic_volume\"]].sort_values(\"date_time\").head(n=4))\n",
    "print(\"\\nTest: \\n\", test_data[[\"traffic_volume\"]].sort_values(\"date_time\").head(n=4))"
   ]
  },
  {
   "cell_type": "markdown",
   "metadata": {},
   "source": [
    "## 3. Feature engineering"
   ]
  },
  {
   "cell_type": "markdown",
   "metadata": {},
   "source": [
    "### 3.1. Turn 'date_time' into 'hour', 'weekday' and 'weekofyear'"
   ]
  },
  {
   "cell_type": "code",
   "execution_count": 19,
   "metadata": {},
   "outputs": [],
   "source": [
    "def transformed_date_time(df):\n",
    "    transformed_df = df.copy()\n",
    "    transformed_df.insert(0, \"hour\", pd.DatetimeIndex(transformed_df.index).hour)\n",
    "    transformed_df.insert(1, \"weekday\", pd.DatetimeIndex(transformed_df.index).weekday)\n",
    "    transformed_df.insert(2, \"weekofyear\", pd.DatetimeIndex(transformed_df.index).weekofyear)\n",
    "    return transformed_df"
   ]
  },
  {
   "cell_type": "markdown",
   "metadata": {},
   "source": [
    "### 3.2. Dropping 'snow_1h' and 'weather_description' columns\n",
    "They both seem redundant if we consider the 'weather_main' values."
   ]
  },
  {
   "cell_type": "code",
   "execution_count": 20,
   "metadata": {},
   "outputs": [],
   "source": [
    "def dropped_snow_1h_weather_description(df):\n",
    "    return df.drop(columns=[\"snow_1h\", \"weather_description\"])"
   ]
  },
  {
   "cell_type": "markdown",
   "metadata": {},
   "source": [
    "### 3.3. Adding holiday value to the whole day (not just at 00:00:00)"
   ]
  },
  {
   "cell_type": "code",
   "execution_count": 21,
   "metadata": {},
   "outputs": [],
   "source": [
    "def transformed_holiday(df):\n",
    "    transformed_df = df.copy()\n",
    "    transformed_df[\"date_time\"] = transformed_df.index\n",
    "    \n",
    "    holidays = transformed_df[transformed_df.holiday != \"None\"]\n",
    "    holiday_names = [row[\"holiday\"] for index, row in holidays.iterrows()]\n",
    "    holiday_dates = holidays[\"date_time\"].dt.normalize()\n",
    "    \n",
    "    # add holiday name to holiday days on hours other than 00:00:00\n",
    "    for holiday_name, holiday_date in zip(holiday_names, holiday_dates):\n",
    "        transformed_df.loc[(transformed_df[\"date_time\"].dt.normalize() == holiday_date), \"holiday\"] = holiday_name\n",
    "    \n",
    "    return transformed_df.drop(columns=[\"date_time\"])    "
   ]
  },
  {
   "cell_type": "markdown",
   "metadata": {},
   "source": [
    "### 3.5. Apply changes to the split sets"
   ]
  },
  {
   "cell_type": "code",
   "execution_count": 22,
   "metadata": {},
   "outputs": [],
   "source": [
    "def transformed(dataset, transformations=[transformed_date_time, dropped_snow_1h_weather_description, transformed_holiday]):\n",
    "    for transform in transformations:\n",
    "        dataset = transform(dataset)\n",
    "    return dataset"
   ]
  },
  {
   "cell_type": "code",
   "execution_count": 23,
   "metadata": {},
   "outputs": [],
   "source": [
    "train_data = transformed(train_data)\n",
    "validation_data = transformed(validation_data)\n",
    "\n",
    "test_data = transformed(test_data)"
   ]
  },
  {
   "cell_type": "markdown",
   "metadata": {},
   "source": [
    "### 3.6. Transform categorical features\n",
    "\n",
    "Instead of turning a categorical feature with $n$ possible values into an $n$-D vector, with entries having only one non-zero — _hot_ — element, we'll drop one dimension (i.e. not use one of the values), creating an $(n-1)$-D vector to avoid the [Dummy Variable Trap](https://www.algosome.com/articles/dummy-variable-trap-regression.html)."
   ]
  },
  {
   "cell_type": "code",
   "execution_count": 24,
   "metadata": {
    "scrolled": true
   },
   "outputs": [
    {
     "name": "stdout",
     "output_type": "stream",
     "text": [
      "['None' 'Columbus Day' 'Veterans Day' 'Thanksgiving Day' 'Christmas Day'\n",
      " 'New Years Day' 'Washingtons Birthday' 'Memorial Day' 'Independence Day'\n",
      " 'State Fair' 'Labor Day' 'Martin Luther King Jr Day'] \n",
      "\n",
      "['Clouds' 'Clear' 'Rain' 'Drizzle' 'Mist' 'Haze' 'Fog' 'Thunderstorm'\n",
      " 'Snow' 'Squall' 'Smoke']\n"
     ]
    }
   ],
   "source": [
    "# categorical attributes: \"holiday\", \"weather_main\"\n",
    "print(data[\"holiday\"].unique(), '\\n')\n",
    "print(data[\"weather_main\"].unique())"
   ]
  },
  {
   "cell_type": "code",
   "execution_count": 25,
   "metadata": {},
   "outputs": [],
   "source": [
    "# dummy encoding, n-D: \n",
    "#   pd.get_dummies(df, prefix=\"weather\", columns=[\"weather_main\"])\n",
    "\n",
    "# one-hot encoding, (n-1)-D:\n",
    "#   pd.get_dummies(df, prefix=\"weather\", columns=[\"weather_main\"], drop_first=True)\n",
    "\n",
    "def encoded_weather_main(df):\n",
    "    encoded_df = df.copy()\n",
    "    weather_encoding = pd.get_dummies(encoded_df[\"weather_main\"], drop_first=True) # drops Clear weather\n",
    "    encoded_df = pd.concat([encoded_df, weather_encoding], axis=1)\n",
    "    encoded_df.drop(columns=[\"weather_main\"], inplace=True)\n",
    "    return encoded_df"
   ]
  },
  {
   "cell_type": "code",
   "execution_count": 26,
   "metadata": {},
   "outputs": [],
   "source": [
    "# we'll make 'holiday' a binary value\n",
    "def encoded_holiday(df):\n",
    "    encoded_df = df.copy()\n",
    "    # obs.: comparing the value to 0 prevents accidents when running this twice\n",
    "    encoded_df[\"holiday\"] = encoded_df[\"holiday\"].apply(lambda h: 0 if (h == \"None\" or h == 0) else 1)\n",
    "    return encoded_df"
   ]
  },
  {
   "cell_type": "code",
   "execution_count": 27,
   "metadata": {},
   "outputs": [],
   "source": [
    "# trasformed categorical features\n",
    "def encoded(dataset, encodings=[encoded_weather_main, encoded_holiday]):\n",
    "    for encode in encodings:\n",
    "        dataset = encode(dataset)\n",
    "    return dataset"
   ]
  },
  {
   "cell_type": "code",
   "execution_count": 28,
   "metadata": {},
   "outputs": [],
   "source": [
    "train_data = encoded(train_data)\n",
    "validation_data = encoded(validation_data)\n",
    "\n",
    "test_data = encoded(test_data)"
   ]
  },
  {
   "cell_type": "markdown",
   "metadata": {},
   "source": [
    "### 3.7. Reorder columns"
   ]
  },
  {
   "cell_type": "code",
   "execution_count": 29,
   "metadata": {},
   "outputs": [],
   "source": [
    "columns_set = set(train_data.columns).union(set(validation_data.columns).union(set(test_data.columns)))\n",
    "for col in columns_set:\n",
    "    if col not in train_data:\n",
    "        train_data[col] = 0\n",
    "    if col not in validation_data:\n",
    "        validation_data[col] = 0\n",
    "    if col not in test_data:\n",
    "        test_data[col] = 0"
   ]
  },
  {
   "cell_type": "code",
   "execution_count": 30,
   "metadata": {},
   "outputs": [],
   "source": [
    "column_order = ['holiday','temp','rain_1h','clouds_all','hour','weekday', 'weekofyear', \n",
    "                'Clouds','Mist','Rain','Snow','Drizzle','Haze','Thunderstorm','Fog','Smoke','Squall','traffic_volume']\n",
    "for col in columns_set:\n",
    "    if col not in column_order:\n",
    "        print(f\"missing '{col}'\")"
   ]
  },
  {
   "cell_type": "code",
   "execution_count": 31,
   "metadata": {},
   "outputs": [],
   "source": [
    "# make 'traffic_volume' the last column\n",
    "if column_order[-1] != \"traffic_volume\":\n",
    "    print(\"'traffic_volume' should be the last column!\")"
   ]
  },
  {
   "cell_type": "code",
   "execution_count": 32,
   "metadata": {},
   "outputs": [],
   "source": [
    "train_data = train_data[column_order]\n",
    "validation_data = validation_data[column_order]\n",
    "test_data = test_data[column_order]"
   ]
  },
  {
   "cell_type": "markdown",
   "metadata": {},
   "source": [
    "## 4. Normalize values\n",
    "\n",
    "It's important we **normalize our trainning data** and save the mapping we made to it so we can use the same values once we deal with the validation and test sets (i.e. we don't want to be normalizing the test and validation sets based on their own values)."
   ]
  },
  {
   "cell_type": "code",
   "execution_count": 33,
   "metadata": {},
   "outputs": [],
   "source": [
    "# NOTE: we have to change this list if new columns are added\n",
    "attrs_to_normalize = [\"traffic_volume\", \"hour\", \"weekday\", \"weekofyear\", \"temp\", \"rain_1h\", \"clouds_all\"]\n",
    "def get_stats(df, columns, operations=['min', 'max', 'median', 'mean', 'std']):\n",
    "    return df[columns].agg(operations)"
   ]
  },
  {
   "cell_type": "markdown",
   "metadata": {},
   "source": [
    "Z-score normalization: $ x \\leftarrow \\dfrac{x - \\mu}{\\sigma}$ (makes the mean 0 and the standard deviation 1)"
   ]
  },
  {
   "cell_type": "code",
   "execution_count": 34,
   "metadata": {},
   "outputs": [],
   "source": [
    "# mu = mean, sigma = stddev\n",
    "def z_score(x, mu, sigma):\n",
    "    return (x - mu) / sigma\n",
    "\n",
    "def normalized(dataset, stats):\n",
    "    normalized_dataset = dataset.copy()\n",
    "    for col in stats:\n",
    "        col_mean = stats.loc[\"mean\", col]\n",
    "        col_stddev = stats.loc[\"std\", col]\n",
    "        normalized_dataset.loc[:, col] = dataset.loc[:, col].apply(lambda x: z_score(x, mu=col_mean, sigma=col_stddev))\n",
    "    return normalized_dataset"
   ]
  },
  {
   "cell_type": "code",
   "execution_count": 35,
   "metadata": {},
   "outputs": [],
   "source": [
    "# NOTE: we must use 'train_stats' when normalizing 'validation_data' and 'test_data' aswell\n",
    "train_stats = get_stats(train_data, columns=attrs_to_normalize).copy()"
   ]
  },
  {
   "cell_type": "code",
   "execution_count": 36,
   "metadata": {},
   "outputs": [
    {
     "data": {
      "text/html": [
       "<div>\n",
       "<style scoped>\n",
       "    .dataframe tbody tr th:only-of-type {\n",
       "        vertical-align: middle;\n",
       "    }\n",
       "\n",
       "    .dataframe tbody tr th {\n",
       "        vertical-align: top;\n",
       "    }\n",
       "\n",
       "    .dataframe thead th {\n",
       "        text-align: right;\n",
       "    }\n",
       "</style>\n",
       "<table border=\"1\" class=\"dataframe\">\n",
       "  <thead>\n",
       "    <tr style=\"text-align: right;\">\n",
       "      <th></th>\n",
       "      <th>traffic_volume</th>\n",
       "      <th>hour</th>\n",
       "      <th>weekday</th>\n",
       "      <th>weekofyear</th>\n",
       "      <th>temp</th>\n",
       "      <th>rain_1h</th>\n",
       "      <th>clouds_all</th>\n",
       "    </tr>\n",
       "  </thead>\n",
       "  <tbody>\n",
       "    <tr>\n",
       "      <th>min</th>\n",
       "      <td>0.000000</td>\n",
       "      <td>0.000000</td>\n",
       "      <td>0.000000</td>\n",
       "      <td>1.000000</td>\n",
       "      <td>243.390000</td>\n",
       "      <td>0.000000</td>\n",
       "      <td>0.000000</td>\n",
       "    </tr>\n",
       "    <tr>\n",
       "      <th>max</th>\n",
       "      <td>7280.000000</td>\n",
       "      <td>23.000000</td>\n",
       "      <td>6.000000</td>\n",
       "      <td>53.000000</td>\n",
       "      <td>310.070000</td>\n",
       "      <td>55.630000</td>\n",
       "      <td>100.000000</td>\n",
       "    </tr>\n",
       "    <tr>\n",
       "      <th>median</th>\n",
       "      <td>3366.000000</td>\n",
       "      <td>11.000000</td>\n",
       "      <td>3.000000</td>\n",
       "      <td>27.000000</td>\n",
       "      <td>282.430000</td>\n",
       "      <td>0.000000</td>\n",
       "      <td>64.000000</td>\n",
       "    </tr>\n",
       "    <tr>\n",
       "      <th>mean</th>\n",
       "      <td>3251.242389</td>\n",
       "      <td>11.391226</td>\n",
       "      <td>2.995613</td>\n",
       "      <td>26.463021</td>\n",
       "      <td>281.228648</td>\n",
       "      <td>0.132290</td>\n",
       "      <td>49.376938</td>\n",
       "    </tr>\n",
       "    <tr>\n",
       "      <th>std</th>\n",
       "      <td>1989.056584</td>\n",
       "      <td>6.953915</td>\n",
       "      <td>2.002928</td>\n",
       "      <td>14.845134</td>\n",
       "      <td>12.728744</td>\n",
       "      <td>1.020928</td>\n",
       "      <td>38.984011</td>\n",
       "    </tr>\n",
       "  </tbody>\n",
       "</table>\n",
       "</div>"
      ],
      "text/plain": [
       "        traffic_volume       hour   weekday  weekofyear        temp  \\\n",
       "min           0.000000   0.000000  0.000000    1.000000  243.390000   \n",
       "max        7280.000000  23.000000  6.000000   53.000000  310.070000   \n",
       "median     3366.000000  11.000000  3.000000   27.000000  282.430000   \n",
       "mean       3251.242389  11.391226  2.995613   26.463021  281.228648   \n",
       "std        1989.056584   6.953915  2.002928   14.845134   12.728744   \n",
       "\n",
       "          rain_1h  clouds_all  \n",
       "min      0.000000    0.000000  \n",
       "max     55.630000  100.000000  \n",
       "median   0.000000   64.000000  \n",
       "mean     0.132290   49.376938  \n",
       "std      1.020928   38.984011  "
      ]
     },
     "execution_count": 36,
     "metadata": {},
     "output_type": "execute_result"
    }
   ],
   "source": [
    "train_stats"
   ]
  },
  {
   "cell_type": "code",
   "execution_count": 37,
   "metadata": {},
   "outputs": [],
   "source": [
    "train_data = normalized(train_data, stats=train_stats)\n",
    "validation_data = normalized(validation_data, stats=train_stats)\n",
    "test_data = normalized(test_data, stats=train_stats)"
   ]
  },
  {
   "cell_type": "code",
   "execution_count": 38,
   "metadata": {},
   "outputs": [
    {
     "data": {
      "text/html": [
       "<div>\n",
       "<style scoped>\n",
       "    .dataframe tbody tr th:only-of-type {\n",
       "        vertical-align: middle;\n",
       "    }\n",
       "\n",
       "    .dataframe tbody tr th {\n",
       "        vertical-align: top;\n",
       "    }\n",
       "\n",
       "    .dataframe thead th {\n",
       "        text-align: right;\n",
       "    }\n",
       "</style>\n",
       "<table border=\"1\" class=\"dataframe\">\n",
       "  <thead>\n",
       "    <tr style=\"text-align: right;\">\n",
       "      <th></th>\n",
       "      <th>traffic_volume</th>\n",
       "      <th>hour</th>\n",
       "      <th>weekday</th>\n",
       "      <th>weekofyear</th>\n",
       "      <th>temp</th>\n",
       "      <th>rain_1h</th>\n",
       "      <th>clouds_all</th>\n",
       "    </tr>\n",
       "  </thead>\n",
       "  <tbody>\n",
       "    <tr>\n",
       "      <th>min</th>\n",
       "      <td>-1.634565e+00</td>\n",
       "      <td>-1.638103e+00</td>\n",
       "      <td>-1.495617e+00</td>\n",
       "      <td>-1.715244e+00</td>\n",
       "      <td>-2.972693e+00</td>\n",
       "      <td>-1.295778e-01</td>\n",
       "      <td>-1.266595e+00</td>\n",
       "    </tr>\n",
       "    <tr>\n",
       "      <th>max</th>\n",
       "      <td>2.025462e+00</td>\n",
       "      <td>1.669387e+00</td>\n",
       "      <td>1.499998e+00</td>\n",
       "      <td>1.787588e+00</td>\n",
       "      <td>2.265844e+00</td>\n",
       "      <td>5.436004e+01</td>\n",
       "      <td>1.298560e+00</td>\n",
       "    </tr>\n",
       "    <tr>\n",
       "      <th>median</th>\n",
       "      <td>5.769449e-02</td>\n",
       "      <td>-5.625978e-02</td>\n",
       "      <td>2.190361e-03</td>\n",
       "      <td>3.617208e-02</td>\n",
       "      <td>9.438103e-02</td>\n",
       "      <td>-1.295778e-01</td>\n",
       "      <td>3.751041e-01</td>\n",
       "    </tr>\n",
       "    <tr>\n",
       "      <th>mean</th>\n",
       "      <td>5.771119e-17</td>\n",
       "      <td>7.645680e-17</td>\n",
       "      <td>-4.307277e-17</td>\n",
       "      <td>-6.671540e-17</td>\n",
       "      <td>-1.195085e-15</td>\n",
       "      <td>-5.686869e-18</td>\n",
       "      <td>4.201965e-17</td>\n",
       "    </tr>\n",
       "    <tr>\n",
       "      <th>std</th>\n",
       "      <td>1.000000e+00</td>\n",
       "      <td>1.000000e+00</td>\n",
       "      <td>1.000000e+00</td>\n",
       "      <td>1.000000e+00</td>\n",
       "      <td>1.000000e+00</td>\n",
       "      <td>1.000000e+00</td>\n",
       "      <td>1.000000e+00</td>\n",
       "    </tr>\n",
       "  </tbody>\n",
       "</table>\n",
       "</div>"
      ],
      "text/plain": [
       "        traffic_volume          hour       weekday    weekofyear  \\\n",
       "min      -1.634565e+00 -1.638103e+00 -1.495617e+00 -1.715244e+00   \n",
       "max       2.025462e+00  1.669387e+00  1.499998e+00  1.787588e+00   \n",
       "median    5.769449e-02 -5.625978e-02  2.190361e-03  3.617208e-02   \n",
       "mean      5.771119e-17  7.645680e-17 -4.307277e-17 -6.671540e-17   \n",
       "std       1.000000e+00  1.000000e+00  1.000000e+00  1.000000e+00   \n",
       "\n",
       "                temp       rain_1h    clouds_all  \n",
       "min    -2.972693e+00 -1.295778e-01 -1.266595e+00  \n",
       "max     2.265844e+00  5.436004e+01  1.298560e+00  \n",
       "median  9.438103e-02 -1.295778e-01  3.751041e-01  \n",
       "mean   -1.195085e-15 -5.686869e-18  4.201965e-17  \n",
       "std     1.000000e+00  1.000000e+00  1.000000e+00  "
      ]
     },
     "execution_count": 38,
     "metadata": {},
     "output_type": "execute_result"
    }
   ],
   "source": [
    "# we should now see mean~=0 and std~=1 for all attributes\n",
    "get_stats(train_data, columns=attrs_to_normalize)"
   ]
  },
  {
   "cell_type": "code",
   "execution_count": 39,
   "metadata": {
    "scrolled": true
   },
   "outputs": [
    {
     "data": {
      "text/html": [
       "<div>\n",
       "<style scoped>\n",
       "    .dataframe tbody tr th:only-of-type {\n",
       "        vertical-align: middle;\n",
       "    }\n",
       "\n",
       "    .dataframe tbody tr th {\n",
       "        vertical-align: top;\n",
       "    }\n",
       "\n",
       "    .dataframe thead th {\n",
       "        text-align: right;\n",
       "    }\n",
       "</style>\n",
       "<table border=\"1\" class=\"dataframe\">\n",
       "  <thead>\n",
       "    <tr style=\"text-align: right;\">\n",
       "      <th></th>\n",
       "      <th>traffic_volume</th>\n",
       "      <th>hour</th>\n",
       "      <th>weekday</th>\n",
       "      <th>weekofyear</th>\n",
       "      <th>temp</th>\n",
       "      <th>rain_1h</th>\n",
       "      <th>clouds_all</th>\n",
       "    </tr>\n",
       "  </thead>\n",
       "  <tbody>\n",
       "    <tr>\n",
       "      <th>min</th>\n",
       "      <td>-1.633560</td>\n",
       "      <td>-1.638103</td>\n",
       "      <td>-1.495617</td>\n",
       "      <td>-1.715244</td>\n",
       "      <td>-2.860349</td>\n",
       "      <td>-0.129578</td>\n",
       "      <td>-1.266595</td>\n",
       "    </tr>\n",
       "    <tr>\n",
       "      <th>max</th>\n",
       "      <td>1.938486</td>\n",
       "      <td>1.669387</td>\n",
       "      <td>1.499998</td>\n",
       "      <td>1.787588</td>\n",
       "      <td>2.122075</td>\n",
       "      <td>26.875255</td>\n",
       "      <td>1.298560</td>\n",
       "    </tr>\n",
       "    <tr>\n",
       "      <th>median</th>\n",
       "      <td>0.112997</td>\n",
       "      <td>0.087544</td>\n",
       "      <td>0.002190</td>\n",
       "      <td>0.036172</td>\n",
       "      <td>0.136019</td>\n",
       "      <td>-0.129578</td>\n",
       "      <td>0.375104</td>\n",
       "    </tr>\n",
       "    <tr>\n",
       "      <th>mean</th>\n",
       "      <td>0.029171</td>\n",
       "      <td>0.021998</td>\n",
       "      <td>0.000118</td>\n",
       "      <td>0.004667</td>\n",
       "      <td>0.025249</td>\n",
       "      <td>0.006330</td>\n",
       "      <td>-0.015872</td>\n",
       "    </tr>\n",
       "    <tr>\n",
       "      <th>std</th>\n",
       "      <td>0.992987</td>\n",
       "      <td>0.991468</td>\n",
       "      <td>1.005900</td>\n",
       "      <td>0.991426</td>\n",
       "      <td>0.997541</td>\n",
       "      <td>0.999506</td>\n",
       "      <td>1.004030</td>\n",
       "    </tr>\n",
       "  </tbody>\n",
       "</table>\n",
       "</div>"
      ],
      "text/plain": [
       "        traffic_volume      hour   weekday  weekofyear      temp    rain_1h  \\\n",
       "min          -1.633560 -1.638103 -1.495617   -1.715244 -2.860349  -0.129578   \n",
       "max           1.938486  1.669387  1.499998    1.787588  2.122075  26.875255   \n",
       "median        0.112997  0.087544  0.002190    0.036172  0.136019  -0.129578   \n",
       "mean          0.029171  0.021998  0.000118    0.004667  0.025249   0.006330   \n",
       "std           0.992987  0.991468  1.005900    0.991426  0.997541   0.999506   \n",
       "\n",
       "        clouds_all  \n",
       "min      -1.266595  \n",
       "max       1.298560  \n",
       "median    0.375104  \n",
       "mean     -0.015872  \n",
       "std       1.004030  "
      ]
     },
     "execution_count": 39,
     "metadata": {},
     "output_type": "execute_result"
    }
   ],
   "source": [
    "# we should now see mean close to 0 and std close to 1\n",
    "get_stats(validation_data, columns=attrs_to_normalize)"
   ]
  },
  {
   "cell_type": "code",
   "execution_count": 40,
   "metadata": {},
   "outputs": [
    {
     "data": {
      "text/html": [
       "<div>\n",
       "<style scoped>\n",
       "    .dataframe tbody tr th:only-of-type {\n",
       "        vertical-align: middle;\n",
       "    }\n",
       "\n",
       "    .dataframe tbody tr th {\n",
       "        vertical-align: top;\n",
       "    }\n",
       "\n",
       "    .dataframe thead th {\n",
       "        text-align: right;\n",
       "    }\n",
       "</style>\n",
       "<table border=\"1\" class=\"dataframe\">\n",
       "  <thead>\n",
       "    <tr style=\"text-align: right;\">\n",
       "      <th></th>\n",
       "      <th>traffic_volume</th>\n",
       "      <th>hour</th>\n",
       "      <th>weekday</th>\n",
       "      <th>weekofyear</th>\n",
       "      <th>temp</th>\n",
       "      <th>rain_1h</th>\n",
       "      <th>clouds_all</th>\n",
       "    </tr>\n",
       "  </thead>\n",
       "  <tbody>\n",
       "    <tr>\n",
       "      <th>min</th>\n",
       "      <td>-1.634062</td>\n",
       "      <td>-1.638103</td>\n",
       "      <td>-1.495617</td>\n",
       "      <td>-1.715244</td>\n",
       "      <td>-2.907486</td>\n",
       "      <td>-0.129578</td>\n",
       "      <td>-1.266595</td>\n",
       "    </tr>\n",
       "    <tr>\n",
       "      <th>max</th>\n",
       "      <td>2.015407</td>\n",
       "      <td>1.669387</td>\n",
       "      <td>1.499998</td>\n",
       "      <td>1.787588</td>\n",
       "      <td>2.171570</td>\n",
       "      <td>27.982091</td>\n",
       "      <td>1.298560</td>\n",
       "    </tr>\n",
       "    <tr>\n",
       "      <th>median</th>\n",
       "      <td>0.048645</td>\n",
       "      <td>-0.056260</td>\n",
       "      <td>0.002190</td>\n",
       "      <td>0.036172</td>\n",
       "      <td>0.065313</td>\n",
       "      <td>-0.129578</td>\n",
       "      <td>0.375104</td>\n",
       "    </tr>\n",
       "    <tr>\n",
       "      <th>mean</th>\n",
       "      <td>0.000765</td>\n",
       "      <td>-0.014207</td>\n",
       "      <td>-0.036831</td>\n",
       "      <td>0.008292</td>\n",
       "      <td>-0.006845</td>\n",
       "      <td>-0.019050</td>\n",
       "      <td>0.015017</td>\n",
       "    </tr>\n",
       "    <tr>\n",
       "      <th>std</th>\n",
       "      <td>0.999054</td>\n",
       "      <td>0.995294</td>\n",
       "      <td>1.003273</td>\n",
       "      <td>1.006727</td>\n",
       "      <td>0.992102</td>\n",
       "      <td>0.880304</td>\n",
       "      <td>1.000914</td>\n",
       "    </tr>\n",
       "  </tbody>\n",
       "</table>\n",
       "</div>"
      ],
      "text/plain": [
       "        traffic_volume      hour   weekday  weekofyear      temp    rain_1h  \\\n",
       "min          -1.634062 -1.638103 -1.495617   -1.715244 -2.907486  -0.129578   \n",
       "max           2.015407  1.669387  1.499998    1.787588  2.171570  27.982091   \n",
       "median        0.048645 -0.056260  0.002190    0.036172  0.065313  -0.129578   \n",
       "mean          0.000765 -0.014207 -0.036831    0.008292 -0.006845  -0.019050   \n",
       "std           0.999054  0.995294  1.003273    1.006727  0.992102   0.880304   \n",
       "\n",
       "        clouds_all  \n",
       "min      -1.266595  \n",
       "max       1.298560  \n",
       "median    0.375104  \n",
       "mean      0.015017  \n",
       "std       1.000914  "
      ]
     },
     "execution_count": 40,
     "metadata": {},
     "output_type": "execute_result"
    }
   ],
   "source": [
    "# we should now see mean close to 0 and std close to 1\n",
    "get_stats(test_data, columns=attrs_to_normalize)"
   ]
  },
  {
   "cell_type": "markdown",
   "metadata": {},
   "source": [
    "## 5. Save the split data, normalized with values from the training set"
   ]
  },
  {
   "cell_type": "code",
   "execution_count": 41,
   "metadata": {},
   "outputs": [],
   "source": [
    "train_data.to_csv(\"train_70.csv\")\n",
    "validation_data.to_csv(\"validation_15.csv\")\n",
    "\n",
    "test_data.to_csv(\"test_15.csv\") # and now.. don't touch it anymore!"
   ]
  },
  {
   "cell_type": "code",
   "execution_count": 42,
   "metadata": {
    "scrolled": true
   },
   "outputs": [],
   "source": [
    "# train_data.head(n=4)"
   ]
  },
  {
   "cell_type": "code",
   "execution_count": 43,
   "metadata": {
    "scrolled": true
   },
   "outputs": [],
   "source": [
    "# validation_data.head(n=4)"
   ]
  },
  {
   "cell_type": "code",
   "execution_count": 44,
   "metadata": {},
   "outputs": [],
   "source": [
    "# test_data.head(n=4)"
   ]
  },
  {
   "cell_type": "code",
   "execution_count": 45,
   "metadata": {},
   "outputs": [
    {
     "name": "stdout",
     "output_type": "stream",
     "text": [
      "                     traffic_volume\n",
      "date_time                          \n",
      "2012-10-02 09:00:00        1.153189\n",
      "2012-10-02 10:00:00        0.635858\n",
      "2012-10-02 11:00:00        0.762049\n",
      "2012-10-02 12:00:00        0.892261 \n",
      "\n",
      "                     traffic_volume\n",
      "date_time                          \n",
      "2012-10-03 06:00:00        1.217541\n",
      "2012-10-03 20:00:00       -0.177593\n",
      "2012-10-04 02:00:00       -1.477707\n",
      "2012-10-04 13:00:00        0.968679 \n",
      "\n",
      "                     traffic_volume\n",
      "date_time                          \n",
      "2012-10-02 16:00:00        1.389482\n",
      "2012-10-03 15:00:00        1.227093\n",
      "2012-10-03 23:00:00       -1.124273\n",
      "2012-10-04 03:00:00       -1.450055\n"
     ]
    }
   ],
   "source": [
    "print(train_data.sort_values(by=\"date_time\")[[\"traffic_volume\"]].head(n=4), '\\n')\n",
    "print(validation_data.sort_values(by=\"date_time\")[[\"traffic_volume\"]].head(n=4), '\\n')\n",
    "print(test_data.sort_values(by=\"date_time\")[[\"traffic_volume\"]].head(n=4))"
   ]
  },
  {
   "cell_type": "markdown",
   "metadata": {},
   "source": [
    "## 6. Perform Linear Regression"
   ]
  },
  {
   "cell_type": "code",
   "execution_count": 46,
   "metadata": {},
   "outputs": [],
   "source": [
    "import warnings"
   ]
  },
  {
   "cell_type": "markdown",
   "metadata": {},
   "source": [
    "### Hypothesis: \n",
    "$h_{\\theta}(x) = \\theta^T x = \\theta_0 + \\theta_1 x_1 + ... + \\theta_n x_n$, where:\n",
    "\n",
    "- $x = (x_0, x_1, ..., x_n)$, with $x_0 = 1$ and the values from $1$ to $n$ are taken from rows of our dataset.\n",
    "- $\\theta = (\\theta_0, \\theta_1, ..., \\theta_n)$ are the parameters.\n",
    "\n",
    "### Cost function: \n",
    "$J(\\theta) = \\dfrac{1}{2m} \\sum\\limits_{i=1}^m (h_{\\theta}(x^{(i)}) - y^{(i)})^2 \\; \\Longrightarrow \\; \n",
    "\\dfrac{\\partial J(\\theta)}{\\partial \\theta_j} = \\dfrac{1}{m} \\sum\\limits_{i=1}^m (\\,(h_{\\theta}(x^{(i)}) - y^{(i)}) \\, x_j^{(i)}\\,)$, where:\n",
    "\n",
    "- $m$ is the number of examples.\n",
    "- $n$ is the number of features.\n",
    "- $x^{(i)} = (1, x_1^{(i)}, ..., x_n^{(i)})$ are the features of the $i^{th}$ training example ($\\forall{i},\\,x_0^{(i)} = 1$).\n",
    "- $x_j^{(i)}$ is the value of feature $j$ of the $i^{th}$ training example.\n",
    "- $y = (y^{(1)}, ..., y^{(m)})$ are the target values.\n",
    "- $y^{(i)}$ is the target value for the $i^{th}$ training example."
   ]
  },
  {
   "cell_type": "code",
   "execution_count": 47,
   "metadata": {},
   "outputs": [],
   "source": [
    "# theta is an array of 'params' of shape=(n_features, 1)\n",
    "# -> (n+1) x 1\n",
    "\n",
    "# X is a matrix of 'data', with each line being an 'example', of shape=(n_examples, n_features)\n",
    "# -> m x (n+1)\n",
    "\n",
    "# y is an array of 'target' values for each example of shape=(n_examples, 1)\n",
    "# -> m x 1\n",
    "\n",
    "''' Returns a scalar, corresponding to the value of J(theta). '''\n",
    "def loss_function(theta, X, y):\n",
    "    assert(X.shape[0] == y.shape[0]), f\"X.shape[0] != y.shape[0] for shapes: {X.shape} of X, and {y.shape} of y\"\n",
    "    assert(X.shape[1] == theta.shape[0]), f\"X.shape[1] != theta.shape[0] for shapes: {X.shape} of X, and {theta.shape} of theta\"\n",
    "    \n",
    "    m = X.shape[0] # number of examples\n",
    "    \n",
    "    #loss = X.dot(theta) # estimate of y (h_theta(X))\n",
    "    #loss = loss - y     # error between estimate and real y values (h_theta(X) - y)\n",
    "    #loss = loss**2      # squared error of each element (h_theta(X) - y)**2\n",
    "    #loss = 0.5 * (1 / m) * loss.sum()\n",
    "\n",
    "    return 0.5 * (1 / m) * np.sum((X.dot(theta) - y)**2)"
   ]
  },
  {
   "cell_type": "code",
   "execution_count": 48,
   "metadata": {},
   "outputs": [],
   "source": [
    "''' Returns a (n+1) x 1 array with the gradient values for each theta_j. '''\n",
    "def eval_gradient(theta, X, y):\n",
    "    assert(X.shape[0] == y.shape[0]), f\"X.shape[0] != y.shape[0] for shapes: {X.shape} of X, and {y.shape} of y\"\n",
    "    assert(X.shape[1] == theta.shape[0]), f\"X.shape[1] != theta.shape[0] for shapes: {X.shape} of X, and {theta.shape} of theta\"\n",
    "    \n",
    "    m = X.shape[0]\n",
    "    \n",
    "    #loss_partial_theta = X.dot(theta) # h_theta(X) = X • theta\n",
    "    #loss_partial_theta = loss_partial_theta - y # h_theta(X) - y\n",
    "    #loss_partial_theta = X.T.dot(loss_partial_theta) # X_transposed • (h_theta(X) - y)\n",
    "    #loss_partial_theta = (1 / m) * loss_partial_theta\n",
    "    \n",
    "    # gradient for every theta (an array with each j-th element being the partial derivative of J with respect to theta_j)\n",
    "    return (1 / m) * np.dot(X.T, X.dot(theta) - y)"
   ]
  },
  {
   "cell_type": "markdown",
   "metadata": {},
   "source": [
    "### Gradient descent: \n",
    "Given the learning rate $\\alpha$:\n",
    "\n",
    "**repeat {** $\\theta_j := \\theta_j - \\alpha \\dfrac{\\partial J(\\theta)}{\\partial \\theta_j}$ \n",
    "**}** (simultaneously update for $j = 0, 1, ..., n$)\n",
    "\n",
    "If we consider a matrix $\\mathbb{X}$, with each row $i$ equal to $x^{(i)}$ transposed ($1 \\leq i \\leq m$), we have:\n",
    "$\\theta := \\theta - \\alpha (\\,\\frac{1}{m} \\mathbb{X}^T (\\mathbb{X} \\theta - y)\\,)$"
   ]
  },
  {
   "cell_type": "code",
   "execution_count": 49,
   "metadata": {},
   "outputs": [],
   "source": [
    "np.random.seed(RANDOM_SEED) # use for reproducibility"
   ]
  },
  {
   "cell_type": "markdown",
   "metadata": {},
   "source": [
    "### 6.1. Perform one epoch of gradient descent:"
   ]
  },
  {
   "cell_type": "code",
   "execution_count": 50,
   "metadata": {},
   "outputs": [],
   "source": [
    "''' Returns a (n+1) x 1 array with the updated values for each parameter theta_j. \n",
    "\n",
    "    Assumes that 'X' is a matrix with shape=(n_examples, n_features), with a first column of 1's, and that\n",
    "    'y' is an array of shape=(n_examples, 1) with the corresponding target values for each row of 'X'.\n",
    "    \n",
    "    n_examples = m\n",
    "    n_features = n+1 (x_0 = 1 for every row i in [1, m], i.e. X[i, 0] = 1)\n",
    "'''\n",
    "def stochastic_GD_step(theta, X, y, learning_rate):\n",
    "    X, y = shuffled_X_y(X, y, seed=RANDOM_SEED)\n",
    "    for sample_X, sample_y in zip(X, y):\n",
    "        theta_grad = eval_gradient(theta, sample_X.reshape(1, -1), sample_y)\n",
    "        theta = theta - learning_rate * theta_grad\n",
    "    return theta"
   ]
  },
  {
   "cell_type": "code",
   "execution_count": 51,
   "metadata": {},
   "outputs": [],
   "source": [
    "def shuffled_X_y(X, y, seed):\n",
    "    assert(X.shape[0] == y.shape[0]), f\"X.shape[0] != y.shape[0] for shapes: {X.shape} of X, and {y.shape} of y\"\n",
    "    m = y.shape[0]\n",
    "    p = np.random.permutation(m)\n",
    "    return X[p], y[p]"
   ]
  },
  {
   "cell_type": "code",
   "execution_count": 52,
   "metadata": {},
   "outputs": [],
   "source": [
    "''' Returns a (n+1) x 1 array with the updated values for each parameter theta_j. \n",
    "\n",
    "    If batch_size is specified, acts as a Mini Batch GD, otherwise, it works like Vanilla GD.\n",
    "\n",
    "    Assumes that 'X' is a matrix with shape=(n_examples, n_features), with a first column of 1's, and that\n",
    "    'y' is an array of shape=(n_examples, 1) with the corresponding target values for each row of 'X'.\n",
    "    \n",
    "    n_examples = m\n",
    "    n_features = n+1 (x_0 = 1 for every row i in [1, m], i.e. X[i, 0] = 1)\n",
    "'''\n",
    "def batch_GD_step(theta, X, y, learning_rate, batch_size=None):\n",
    "    if not batch_size:\n",
    "        # vanilla\n",
    "        theta_grad = eval_gradient(theta, X, y)\n",
    "        theta = theta - learning_rate * theta_grad\n",
    "    else:\n",
    "        # mini batch\n",
    "        X, y = shuffled_X_y(X, y, seed=RANDOM_SEED)\n",
    "        for batch_X, batch_y in get_batches(X, y, batch_size):\n",
    "            theta_grad = eval_gradient(theta, batch_X, batch_y)\n",
    "            theta = theta - learning_rate * theta_grad\n",
    "    return theta"
   ]
  },
  {
   "cell_type": "code",
   "execution_count": 53,
   "metadata": {},
   "outputs": [],
   "source": [
    "def get_batches(X, y, batch_size):\n",
    "    assert(X.shape[0] == y.shape[0]), f\"X.shape[0] != y.shape[0] for shapes: {X.shape} of X, and {y.shape} of y\"\n",
    "    m = y.shape[0]\n",
    "    n_of_batches = m // batch_size\n",
    "    try:\n",
    "        return zip(np.split(X, n_of_batches), np.split(y, n_of_batches))\n",
    "    except:\n",
    "        warnings.warn(f\"batch_size={batch_size} does not result in an equal division for shapes: \" +\n",
    "                      f\"{X.shape} of X, and {y.shape} of y. The last batch will have size {m % batch_size}\")\n",
    "        return zip(np.array_split(X, n_of_batches), np.array_split(y, n_of_batches))"
   ]
  },
  {
   "cell_type": "markdown",
   "metadata": {},
   "source": [
    "### 6.2. Run gradient descent for a specified number of epochs:"
   ]
  },
  {
   "cell_type": "code",
   "execution_count": 54,
   "metadata": {},
   "outputs": [],
   "source": [
    "def __gradient_descent(theta, train_X_y, validation_X_y, learning_rate, n_epochs, \n",
    "                       GD_step_func, batch_size_kwarg_if_mini_batch=None):\n",
    "    if batch_size_kwarg_if_mini_batch == None:\n",
    "        batch_size_kwarg_if_mini_batch = {}\n",
    "        \n",
    "    X, y = train_X_y\n",
    "    val_X, val_y = validation_X_y\n",
    "    \n",
    "    loss = loss_function(theta, X, y)\n",
    "    val_loss = loss_function(theta, val_X, val_y)\n",
    "    \n",
    "    # stores the best values for minimizing J(theta) on the validation set\n",
    "    best_params = theta.copy()\n",
    "    best_val_loss = val_loss\n",
    "    \n",
    "    # save the loss values for plotting\n",
    "    plot_dict = { \n",
    "        \"best_val_loss\": best_val_loss, \n",
    "        \"best_val_loss_epoch\": 0, \n",
    "        \"loss\": [loss], # training set\n",
    "        \"val_loss\": [val_loss] # validation set\n",
    "    }\n",
    "    \n",
    "    for epoch in range(n_epochs):\n",
    "        theta = GD_step_func(theta, X, y, learning_rate, **batch_size_kwarg_if_mini_batch)\n",
    "    \n",
    "        loss = loss_function(theta, X, y)\n",
    "        plot_dict[\"loss\"].append(loss) # training set\n",
    "        \n",
    "        val_loss = loss_function(theta, val_X, val_y)\n",
    "        plot_dict[\"val_loss\"].append(val_loss) # validation set\n",
    "        \n",
    "        # update the best loss and store the current parameters if val_loss < best_val_loss\n",
    "        if val_loss < best_val_loss:\n",
    "            best_val_loss = val_loss\n",
    "            best_params = theta.copy()\n",
    "            plot_dict[\"best_val_loss_epoch\"] = epoch + 1\n",
    "        \n",
    "        print(f\"({epoch + 1} / {n_epochs}) training: {loss:.4f} | validation: {val_loss:.4f}\", end='\\r')\n",
    "        \n",
    "    plot_dict[\"best_val_loss\"] = best_val_loss\n",
    "    return best_params, plot_dict"
   ]
  },
  {
   "cell_type": "markdown",
   "metadata": {},
   "source": [
    "### 6.3. Compute $\\mathbb{X}$ and $y$\n",
    "\n",
    "Let's add our datasets' features to $\\mathbb{X}$ (plus $x_0 = 1$) and it's target values to $y$, so we can train our model."
   ]
  },
  {
   "cell_type": "code",
   "execution_count": 55,
   "metadata": {},
   "outputs": [],
   "source": [
    "# NOTE: assumes target values are in the last column of 'dataset'\n",
    "def split_X_y(dataset):\n",
    "    dataset = dataset.to_numpy(copy=True)\n",
    "    m = dataset.shape[0] # number of examples\n",
    "    X = np.c_[np.ones(shape=(m, 1)), dataset[:, :-1]] # add a column of x_0's equal to 1\n",
    "    y = dataset[:, -1:]\n",
    "    return X, y"
   ]
  },
  {
   "cell_type": "code",
   "execution_count": 56,
   "metadata": {},
   "outputs": [],
   "source": [
    "if train_data.columns[-1] != 'traffic_volume':\n",
    "    print(\"'traffic_volume' should be the last column on the training set!\")\n",
    "if validation_data.columns[-1] != 'traffic_volume':\n",
    "    print(\"'traffic_volume' should be the last column on the validation set!\")\n",
    "if test_data.columns[-1] != 'traffic_volume':\n",
    "    print(\"'traffic_volume' should be the last column on the test set!\")"
   ]
  },
  {
   "cell_type": "code",
   "execution_count": 57,
   "metadata": {},
   "outputs": [],
   "source": [
    "train_X_y = split_X_y(train_data)\n",
    "validation_X_y = split_X_y(validation_data)"
   ]
  },
  {
   "cell_type": "code",
   "execution_count": 58,
   "metadata": {},
   "outputs": [],
   "source": [
    "# # check if the values are correct\n",
    "# X, y = train_X_y\n",
    "# for i in range(4):\n",
    "#     print(f\"dataset: {train_data.iloc[i].values}\\n\") # should be equal to np.append(X[i, 1:], y[i])\n",
    "#     print(f\"check:   {np.append(X[i, 1:], y[i])}\\n\")\n",
    "#     #print(f\"X: {X[i]}\\n\")\n",
    "#     #print(f\"y: {y[i]}\\n\\n\")"
   ]
  },
  {
   "cell_type": "markdown",
   "metadata": {},
   "source": [
    "### 6.4. Run our implementation"
   ]
  },
  {
   "cell_type": "code",
   "execution_count": 59,
   "metadata": {},
   "outputs": [],
   "source": [
    "''' Returns the initial theta (n+1) x 1 array. '''\n",
    "def init_params(n_features):\n",
    "    return np.zeros(shape=(n_features, 1))"
   ]
  },
  {
   "cell_type": "code",
   "execution_count": 60,
   "metadata": {},
   "outputs": [],
   "source": [
    "def train(params, train_X_y, validation_X_y, learning_rate, n_epochs, batch_size=None, GD_flavor=\"vanilla\"):\n",
    "    if GD_flavor == \"vanilla\":        \n",
    "        best_params, plot_dict = __gradient_descent(params, train_X_y, validation_X_y, learning_rate, n_epochs, \n",
    "                                                    GD_step_func=batch_GD_step)\n",
    "\n",
    "    elif GD_flavor == \"mini batch\":\n",
    "        if batch_size == None:\n",
    "            warnings.warn(\"You should specify batch_size when using GD_flavor='mini batch'.\")\n",
    "        best_params, plot_dict = __gradient_descent(params, train_X_y, validation_X_y, learning_rate, n_epochs, \n",
    "                                                    GD_step_func=batch_GD_step, \n",
    "                                                    batch_size_kwarg_if_mini_batch={ \"batch_size\": batch_size })\n",
    "        plot_dict[\"batch_size\"] = batch_size\n",
    "\n",
    "    elif GD_flavor == \"stochastic\":\n",
    "        best_params, plot_dict = __gradient_descent(params, train_X_y, validation_X_y, learning_rate, n_epochs, \n",
    "                                                    GD_step_func=stochastic_GD_step)\n",
    "\n",
    "    else:\n",
    "        raise ValueError(\"GD_flavor must be one of the following values: 'vanilla', 'stochastic', or 'mini batch'.\")\n",
    "        \n",
    "    plot_dict[\"learning_rate\"] = learning_rate\n",
    "    plot_dict[\"n_epochs\"]      = n_epochs\n",
    "    plot_dict[\"flavor\"]        = GD_flavor\n",
    "    \n",
    "    return best_params, plot_dict"
   ]
  },
  {
   "cell_type": "code",
   "execution_count": 61,
   "metadata": {},
   "outputs": [
    {
     "name": "stdout",
     "output_type": "stream",
     "text": [
      "Training set:\n",
      "n_features: 18\n",
      "n_examples: 33735\n",
      "\n",
      "Validation set:\n",
      "val_n_features: 18\n",
      "val_n_examples: 7229\n"
     ]
    }
   ],
   "source": [
    "X, y = train_X_y\n",
    "n_examples, n_features = X.shape # m x (n+1)\n",
    "print(\"Training set:\")\n",
    "print(f\"n_features: {n_features}\")\n",
    "print(f\"n_examples: {n_examples}\")\n",
    "\n",
    "val_X, val_y = validation_X_y\n",
    "val_n_examples, val_n_features = val_X.shape # m x (n+1)\n",
    "print(\"\\nValidation set:\")\n",
    "print(f\"val_n_features: {val_n_features}\")\n",
    "print(f\"val_n_examples: {val_n_examples}\")"
   ]
  },
  {
   "cell_type": "code",
   "execution_count": 62,
   "metadata": {},
   "outputs": [],
   "source": [
    "def run_GD(learning_rate, n_epochs, GD_flavor, batch_size=None, \n",
    "           __params=None, __train_X_y=train_X_y, __validation_X_y=validation_X_y):\n",
    "    if __params == None:\n",
    "        assert(__train_X_y[0].shape[1] == __validation_X_y[0].shape[1])\n",
    "        __n_features = __train_X_y[0].shape[1]\n",
    "        __params = init_params(__n_features)\n",
    "        \n",
    "    best_params, plot_dict = train(__params, \n",
    "                                   __train_X_y, __validation_X_y, \n",
    "                                   learning_rate, n_epochs,  \n",
    "                                   batch_size, GD_flavor)\n",
    "    \n",
    "    print(\"\\n\\nBest validation loss: {best_val_loss:.6f} (at epoch {best_val_loss_epoch})\".format(\n",
    "        best_val_loss=plot_dict['best_val_loss'], \n",
    "        best_val_loss_epoch=plot_dict['best_val_loss_epoch']))\n",
    "    \n",
    "    return best_params, plot_dict"
   ]
  },
  {
   "cell_type": "code",
   "execution_count": 63,
   "metadata": {},
   "outputs": [],
   "source": [
    "def plot_GD_run(params, plot_dict):\n",
    "    plot_title = \"{flavor} GD\\n({n_epochs} epochs with α = {learning_rate}\".format(\n",
    "        flavor=plot_dict['flavor'], \n",
    "        n_epochs=plot_dict['n_epochs'], \n",
    "        learning_rate=plot_dict['learning_rate'])\n",
    "    plot_title += \")\" if 'batch_size' not in plot_dict else \" and {batch_size} batch size)\".format(\n",
    "        batch_size=plot_dict['batch_size'])\n",
    "\n",
    "    # leave only \"loss\" and \"val_loss\" for plotting\n",
    "    loss_data = pd.DataFrame({k: v for k, v in plot_dict.items() if (k == \"loss\" or k == \"val_loss\")})\n",
    "\n",
    "    lineplot = sns.lineplot(data=loss_data)\n",
    "    lineplot.set_title(plot_title)\n",
    "    lineplot.set_xlabel(\"epoch\")\n",
    "    lineplot.set_ylabel(\"J(θ)\")"
   ]
  },
  {
   "cell_type": "markdown",
   "metadata": {},
   "source": [
    "### 6.4.1 Learning rate of 0.0005"
   ]
  },
  {
   "cell_type": "markdown",
   "metadata": {},
   "source": [
    "#### Vanilla Gradient Descent"
   ]
  },
  {
   "cell_type": "code",
   "execution_count": 64,
   "metadata": {},
   "outputs": [
    {
     "name": "stdout",
     "output_type": "stream",
     "text": [
      "(10000 / 10000) training: 0.4162 | validation: 0.4190\n",
      "\n",
      "Best validation loss: 0.418970 (at epoch 10000)\n"
     ]
    }
   ],
   "source": [
    "vanilla_run = run_GD(learning_rate=0.0005, n_epochs=10000, GD_flavor=\"vanilla\")"
   ]
  },
  {
   "cell_type": "code",
   "execution_count": 65,
   "metadata": {},
   "outputs": [
    {
     "data": {
      "image/png": "[encoded data removed]",
      "text/plain": [
       "<Figure size 432x288 with 1 Axes>"
      ]
     },
     "metadata": {},
     "output_type": "display_data"
    }
   ],
   "source": [
    "plot_GD_run(*vanilla_run)"
   ]
  },
  {
   "cell_type": "markdown",
   "metadata": {},
   "source": [
    "#### Mini Batch Gradient Descent"
   ]
  },
  {
   "cell_type": "code",
   "execution_count": 66,
   "metadata": {},
   "outputs": [
    {
     "name": "stdout",
     "output_type": "stream",
     "text": [
      "(1000 / 1000) training: 0.4136 | validation: 0.4173\n",
      "\n",
      "Best validation loss: 0.417261 (at epoch 998)\n"
     ]
    }
   ],
   "source": [
    "mini_batch_run = run_GD(learning_rate=0.0005, n_epochs=1000, GD_flavor=\"mini batch\", batch_size=173) # 195 batches"
   ]
  },
  {
   "cell_type": "code",
   "execution_count": 67,
   "metadata": {
    "scrolled": true
   },
   "outputs": [
    {
     "data": {
      "image/png": "[encoded data removed]",
      "text/plain": [
       "<Figure size 432x288 with 1 Axes>"
      ]
     },
     "metadata": {},
     "output_type": "display_data"
    }
   ],
   "source": [
    "plot_GD_run(*mini_batch_run)"
   ]
  },
  {
   "cell_type": "markdown",
   "metadata": {},
   "source": [
    "#### Stochastic Gradient Descent"
   ]
  },
  {
   "cell_type": "code",
   "execution_count": 68,
   "metadata": {},
   "outputs": [
    {
     "name": "stdout",
     "output_type": "stream",
     "text": [
      "(100 / 100) training: 0.4139 | validation: 0.4175\n",
      "\n",
      "Best validation loss: 0.416476 (at epoch 76)\n"
     ]
    }
   ],
   "source": [
    "stochastic_run = run_GD(learning_rate=0.0005, n_epochs=100, GD_flavor=\"stochastic\")"
   ]
  },
  {
   "cell_type": "code",
   "execution_count": 69,
   "metadata": {
    "scrolled": true
   },
   "outputs": [
    {
     "data": {
      "image/png": "[encoded data removed]",
      "text/plain": [
       "<Figure size 432x288 with 1 Axes>"
      ]
     },
     "metadata": {},
     "output_type": "display_data"
    }
   ],
   "source": [
    "plot_GD_run(*stochastic_run)"
   ]
  },
  {
   "cell_type": "markdown",
   "metadata": {},
   "source": [
    "### 6.4.3 Verify the $R^2$ score"
   ]
  },
  {
   "cell_type": "code",
   "execution_count": 70,
   "metadata": {},
   "outputs": [],
   "source": [
    "def r2_score(y_true, y_pred):\n",
    "    y_true_mean = y_true.mean()\n",
    "    # residual sum of squares\n",
    "    u = ((y_true - y_pred) ** 2).sum()\n",
    "    # total sum of squares\n",
    "    v = ((y_true - y_true_mean) ** 2).sum()\n",
    "    return (1 - u/v) # coefficient of determination R^2 of the prediction"
   ]
  },
  {
   "cell_type": "code",
   "execution_count": 71,
   "metadata": {},
   "outputs": [],
   "source": [
    "def print_r2_score(GD_run, X, y):\n",
    "    best_params, plot_dict = GD_run\n",
    "    y_pred = X.dot(best_params) # h(theta)\n",
    "    r2 = r2_score(y, y_pred)\n",
    "    print(f\"{plot_dict['flavor']} R^2 score: {r2}\")"
   ]
  },
  {
   "cell_type": "code",
   "execution_count": 72,
   "metadata": {},
   "outputs": [
    {
     "name": "stdout",
     "output_type": "stream",
     "text": [
      "vanilla R^2 score: 0.15006417777615322\n",
      "mini batch R^2 score: 0.15353121821055937\n",
      "stochastic R^2 score: 0.15512339581418855\n"
     ]
    }
   ],
   "source": [
    "# R^2 score on the validation set\n",
    "print_r2_score(vanilla_run, val_X, val_y)\n",
    "print_r2_score(mini_batch_run, val_X, val_y)\n",
    "print_r2_score(stochastic_run, val_X, val_y)"
   ]
  },
  {
   "cell_type": "markdown",
   "metadata": {},
   "source": [
    "### 6.4.2 Higher learning rates"
   ]
  },
  {
   "cell_type": "markdown",
   "metadata": {},
   "source": [
    "#### Vanilla Gradient Descent"
   ]
  },
  {
   "cell_type": "code",
   "execution_count": 73,
   "metadata": {
    "scrolled": false
   },
   "outputs": [
    {
     "name": "stdout",
     "output_type": "stream",
     "text": [
      "(1 / 10000) training: 0.4187 | validation: 0.4217\r",
      "(2 / 10000) training: 0.4171 | validation: 0.4193\r",
      "(3 / 10000) training: 0.4166 | validation: 0.4193\r",
      "(4 / 10000) training: 0.4163 | validation: 0.4191\r",
      "(5 / 10000) training: 0.4161 | validation: 0.4190\r",
      "(6 / 10000) training: 0.4160 | validation: 0.4189\r",
      "(7 / 10000) training: 0.4158 | validation: 0.4189\r",
      "(8 / 10000) training: 0.4157 | validation: 0.4188\r",
      "(9 / 10000) training: 0.4156 | validation: 0.4188\r",
      "(10 / 10000) training: 0.4155 | validation: 0.4187\r",
      "(11 / 10000) training: 0.4154 | validation: 0.4187\r",
      "(12 / 10000) training: 0.4154 | validation: 0.4186\r",
      "(13 / 10000) training: 0.4153 | validation: 0.4186\r",
      "(14 / 10000) training: 0.4152 | validation: 0.4185\r",
      "(15 / 10000) training: 0.4152 | validation: 0.4185\r",
      "(16 / 10000) training: 0.4151 | validation: 0.4185\r",
      "(17 / 10000) training: 0.4150 | validation: 0.4184\r",
      "(18 / 10000) training: 0.4150 | validation: 0.4184\r",
      "(19 / 10000) training: 0.4149 | validation: 0.4183\r",
      "(20 / 10000) training: 0.4149 | validation: 0.4183\r",
      "(21 / 10000) training: 0.4148 | validation: 0.4183\r",
      "(22 / 10000) training: 0.4148 | validation: 0.4182\r",
      "(23 / 10000) training: 0.4147 | validation: 0.4182\r",
      "(24 / 10000) training: 0.4147 | validation: 0.4182\r",
      "(25 / 10000) training: 0.4146 | validation: 0.4181\r",
      "(26 / 10000) training: 0.4146 | validation: 0.4181\r",
      "(27 / 10000) training: 0.4145 | validation: 0.4181\r",
      "(28 / 10000) training: 0.4145 | validation: 0.4181\r",
      "(29 / 10000) training: 0.4145 | validation: 0.4180\r",
      "(30 / 10000) training: 0.4144 | validation: 0.4180\r",
      "(31 / 10000) training: 0.4144 | validation: 0.4180\r",
      "(32 / 10000) training: 0.4144 | validation: 0.4179\r",
      "(33 / 10000) training: 0.4143 | validation: 0.4179\r",
      "(34 / 10000) training: 0.4143 | validation: 0.4179\r",
      "(35 / 10000) training: 0.4143 | validation: 0.4179\r",
      "(36 / 10000) training: 0.4142 | validation: 0.4179\r",
      "(37 / 10000) training: 0.4142 | validation: 0.4178\r",
      "(38 / 10000) training: 0.4142 | validation: 0.4178\r",
      "(39 / 10000) training: 0.4142 | validation: 0.4178\r",
      "(40 / 10000) training: 0.4141 | validation: 0.4178\r",
      "(41 / 10000) training: 0.4141 | validation: 0.4178\r",
      "(42 / 10000) training: 0.4141 | validation: 0.4177\r",
      "(43 / 10000) training: 0.4141 | validation: 0.4177\r",
      "(44 / 10000) training: 0.4141 | validation: 0.4177\r",
      "(45 / 10000) training: 0.4140 | validation: 0.4177\r",
      "(46 / 10000) training: 0.4140 | validation: 0.4177\r",
      "(47 / 10000) training: 0.4140 | validation: 0.4177\r",
      "(48 / 10000) training: 0.4140 | validation: 0.4176\r",
      "(49 / 10000) training: 0.4140 | validation: 0.4176\r",
      "(50 / 10000) training: 0.4140 | validation: 0.4176\r",
      "(51 / 10000) training: 0.4139 | validation: 0.4176\r",
      "(52 / 10000) training: 0.4139 | validation: 0.4176\r",
      "(53 / 10000) training: 0.4139 | validation: 0.4176\r",
      "(54 / 10000) training: 0.4139 | validation: 0.4176\r",
      "(55 / 10000) training: 0.4139 | validation: 0.4175\r",
      "(56 / 10000) training: 0.4139 | validation: 0.4175\r",
      "(57 / 10000) training: 0.4139 | validation: 0.4175\r",
      "(58 / 10000) training: 0.4139 | validation: 0.4175\r",
      "(59 / 10000) training: 0.4138 | validation: 0.4175\r",
      "(60 / 10000) training: 0.4138 | validation: 0.4175\r",
      "(61 / 10000) training: 0.4138 | validation: 0.4175\r",
      "(62 / 10000) training: 0.4138 | validation: 0.4175\r",
      "(63 / 10000) training: 0.4138 | validation: 0.4175\r",
      "(64 / 10000) training: 0.4138 | validation: 0.4175\r",
      "(65 / 10000) training: 0.4138 | validation: 0.4174\r",
      "(66 / 10000) training: 0.4138 | validation: 0.4174\r",
      "(67 / 10000) training: 0.4138 | validation: 0.4174\r",
      "(68 / 10000) training: 0.4138 | validation: 0.4174\r",
      "(69 / 10000) training: 0.4138 | validation: 0.4174\r",
      "(70 / 10000) training: 0.4137 | validation: 0.4174\r",
      "(71 / 10000) training: 0.4137 | validation: 0.4174\r",
      "(72 / 10000) training: 0.4137 | validation: 0.4174\r",
      "(73 / 10000) training: 0.4137 | validation: 0.4174\r",
      "(74 / 10000) training: 0.4137 | validation: 0.4174\r",
      "(75 / 10000) training: 0.4137 | validation: 0.4174\r",
      "(76 / 10000) training: 0.4137 | validation: 0.4174\r",
      "(77 / 10000) training: 0.4137 | validation: 0.4174\r",
      "(78 / 10000) training: 0.4137 | validation: 0.4173\r",
      "(79 / 10000) training: 0.4137 | validation: 0.4173\r",
      "(80 / 10000) training: 0.4137 | validation: 0.4173\r",
      "(81 / 10000) training: 0.4137 | validation: 0.4173\r",
      "(82 / 10000) training: 0.4137 | validation: 0.4173\r",
      "(83 / 10000) training: 0.4137 | validation: 0.4173\r",
      "(84 / 10000) training: 0.4137 | validation: 0.4173\r",
      "(85 / 10000) training: 0.4137 | validation: 0.4173\r",
      "(86 / 10000) training: 0.4137 | validation: 0.4173\r",
      "(87 / 10000) training: 0.4137 | validation: 0.4173\r",
      "(88 / 10000) training: 0.4137 | validation: 0.4173\r",
      "(89 / 10000) training: 0.4137 | validation: 0.4173\r",
      "(90 / 10000) training: 0.4137 | validation: 0.4173\r",
      "(91 / 10000) training: 0.4136 | validation: 0.4173\r",
      "(92 / 10000) training: 0.4136 | validation: 0.4173\r",
      "(93 / 10000) training: 0.4136 | validation: 0.4173\r",
      "(94 / 10000) training: 0.4136 | validation: 0.4173\r",
      "(95 / 10000) training: 0.4136 | validation: 0.4173\r",
      "(96 / 10000) training: 0.4136 | validation: 0.4173\r",
      "(97 / 10000) training: 0.4136 | validation: 0.4173\r",
      "(98 / 10000) training: 0.4136 | validation: 0.4173\r",
      "(99 / 10000) training: 0.4136 | validation: 0.4173\r",
      "(100 / 10000) training: 0.4136 | validation: 0.4172\r",
      "(101 / 10000) training: 0.4136 | validation: 0.4172\r",
      "(102 / 10000) training: 0.4136 | validation: 0.4172\r",
      "(103 / 10000) training: 0.4136 | validation: 0.4172\r",
      "(104 / 10000) training: 0.4136 | validation: 0.4172\r",
      "(105 / 10000) training: 0.4136 | validation: 0.4172\r",
      "(106 / 10000) training: 0.4136 | validation: 0.4172\r",
      "(107 / 10000) training: 0.4136 | validation: 0.4172\r",
      "(108 / 10000) training: 0.4136 | validation: 0.4172\r",
      "(109 / 10000) training: 0.4136 | validation: 0.4172\r",
      "(110 / 10000) training: 0.4136 | validation: 0.4172\r",
      "(111 / 10000) training: 0.4136 | validation: 0.4172\r",
      "(112 / 10000) training: 0.4136 | validation: 0.4172\r",
      "(113 / 10000) training: 0.4136 | validation: 0.4172\r",
      "(114 / 10000) training: 0.4136 | validation: 0.4172\r",
      "(115 / 10000) training: 0.4136 | validation: 0.4172\r",
      "(116 / 10000) training: 0.4136 | validation: 0.4172\r",
      "(117 / 10000) training: 0.4136 | validation: 0.4172\r",
      "(118 / 10000) training: 0.4136 | validation: 0.4172\r",
      "(119 / 10000) training: 0.4136 | validation: 0.4172\r",
      "(120 / 10000) training: 0.4136 | validation: 0.4172\r",
      "(121 / 10000) training: 0.4136 | validation: 0.4172\r",
      "(122 / 10000) training: 0.4136 | validation: 0.4172\r",
      "(123 / 10000) training: 0.4136 | validation: 0.4172\r",
      "(124 / 10000) training: 0.4136 | validation: 0.4172\r",
      "(125 / 10000) training: 0.4136 | validation: 0.4172\r",
      "(126 / 10000) training: 0.4136 | validation: 0.4172\r",
      "(127 / 10000) training: 0.4136 | validation: 0.4172\r",
      "(128 / 10000) training: 0.4136 | validation: 0.4172\r",
      "(129 / 10000) training: 0.4136 | validation: 0.4172\r",
      "(130 / 10000) training: 0.4136 | validation: 0.4172\r",
      "(131 / 10000) training: 0.4136 | validation: 0.4172\r",
      "(132 / 10000) training: 0.4136 | validation: 0.4172\r",
      "(133 / 10000) training: 0.4136 | validation: 0.4172\r",
      "(134 / 10000) training: 0.4136 | validation: 0.4172\r",
      "(135 / 10000) training: 0.4136 | validation: 0.4172\r",
      "(136 / 10000) training: 0.4136 | validation: 0.4172\r",
      "(137 / 10000) training: 0.4136 | validation: 0.4172\r",
      "(138 / 10000) training: 0.4136 | validation: 0.4172\r",
      "(139 / 10000) training: 0.4136 | validation: 0.4172\r",
      "(140 / 10000) training: 0.4136 | validation: 0.4172\r",
      "(141 / 10000) training: 0.4136 | validation: 0.4172\r",
      "(142 / 10000) training: 0.4136 | validation: 0.4172\r",
      "(143 / 10000) training: 0.4136 | validation: 0.4172\r",
      "(144 / 10000) training: 0.4136 | validation: 0.4172\r",
      "(145 / 10000) training: 0.4136 | validation: 0.4172\r",
      "(146 / 10000) training: 0.4136 | validation: 0.4172\r",
      "(147 / 10000) training: 0.4136 | validation: 0.4172\r",
      "(148 / 10000) training: 0.4136 | validation: 0.4172\r",
      "(149 / 10000) training: 0.4136 | validation: 0.4171\r",
      "(150 / 10000) training: 0.4136 | validation: 0.4171\r",
      "(151 / 10000) training: 0.4136 | validation: 0.4171\r",
      "(152 / 10000) training: 0.4136 | validation: 0.4171\r",
      "(153 / 10000) training: 0.4136 | validation: 0.4171\r",
      "(154 / 10000) training: 0.4136 | validation: 0.4171\r",
      "(155 / 10000) training: 0.4136 | validation: 0.4171\r",
      "(156 / 10000) training: 0.4136 | validation: 0.4171\r",
      "(157 / 10000) training: 0.4136 | validation: 0.4171\r",
      "(158 / 10000) training: 0.4136 | validation: 0.4171\r",
      "(159 / 10000) training: 0.4136 | validation: 0.4171\r",
      "(160 / 10000) training: 0.4136 | validation: 0.4171\r",
      "(161 / 10000) training: 0.4136 | validation: 0.4171\r",
      "(162 / 10000) training: 0.4136 | validation: 0.4171"
     ]
    },
    {
     "name": "stdout",
     "output_type": "stream",
     "text": [
      "(10000 / 10000) training: 0.4136 | validation: 0.4171\n",
      "\n",
      "Best validation loss: 0.417098 (at epoch 431)\n"
     ]
    },
    {
     "data": {
      "image/png": "[encoded data removed]",
      "text/plain": [
       "<Figure size 432x288 with 1 Axes>"
      ]
     },
     "metadata": {},
     "output_type": "display_data"
    }
   ],
   "source": [
    "GD_run = run_GD(learning_rate=1, n_epochs=10000, GD_flavor=\"vanilla\")\n",
    "plot_GD_run(*GD_run)"
   ]
  },
  {
   "cell_type": "markdown",
   "metadata": {},
   "source": [
    "#### Mini Batch Gradient Descent"
   ]
  },
  {
   "cell_type": "code",
   "execution_count": 74,
   "metadata": {},
   "outputs": [
    {
     "name": "stdout",
     "output_type": "stream",
     "text": [
      "(1000 / 1000) training: 0.4175 | validation: 0.4224\n",
      "\n",
      "Best validation loss: 0.416893 (at epoch 324)\n"
     ]
    },
    {
     "data": {
      "image/png": "[encoded data removed]",
      "text/plain": [
       "<Figure size 432x288 with 1 Axes>"
      ]
     },
     "metadata": {},
     "output_type": "display_data"
    }
   ],
   "source": [
    "# Unstable learning rate\n",
    "GD_run = run_GD(learning_rate=0.5, n_epochs=1000, GD_flavor=\"mini batch\", batch_size=173)\n",
    "plot_GD_run(*GD_run)"
   ]
  },
  {
   "cell_type": "code",
   "execution_count": 75,
   "metadata": {},
   "outputs": [
    {
     "name": "stdout",
     "output_type": "stream",
     "text": [
      "(1000 / 1000) training: 0.4140 | validation: 0.4178\n",
      "\n",
      "Best validation loss: 0.416300 (at epoch 321)\n"
     ]
    },
    {
     "data": {
      "image/png": "[encoded data removed]",
      "text/plain": [
       "<Figure size 432x288 with 1 Axes>"
      ]
     },
     "metadata": {},
     "output_type": "display_data"
    }
   ],
   "source": [
    "# Usable learning rate\n",
    "GD_run = run_GD(learning_rate=0.1, n_epochs=1000, GD_flavor=\"mini batch\", batch_size=173)\n",
    "plot_GD_run(*GD_run)"
   ]
  },
  {
   "cell_type": "markdown",
   "metadata": {},
   "source": [
    "#### Stochastic Gradient Descent"
   ]
  },
  {
   "cell_type": "code",
   "execution_count": 76,
   "metadata": {},
   "outputs": [
    {
     "name": "stdout",
     "output_type": "stream",
     "text": [
      "(50 / 50) training: 108517577281104649126314965121498017737087790450999296.0000 | validation: 76960169461663779192572751087413981064057350246105088.000006.0000\n",
      "\n",
      "Best validation loss: 0.493369 (at epoch 0)\n"
     ]
    },
    {
     "data": {
      "image/png": "[encoded data removed]",
      "text/plain": [
       "<Figure size 432x288 with 1 Axes>"
      ]
     },
     "metadata": {},
     "output_type": "display_data"
    }
   ],
   "source": [
    "# Exploding learning rate\n",
    "GD_run = run_GD(learning_rate=0.05, n_epochs=50, GD_flavor=\"stochastic\")\n",
    "plot_GD_run(*GD_run)"
   ]
  },
  {
   "cell_type": "code",
   "execution_count": 77,
   "metadata": {},
   "outputs": [
    {
     "name": "stdout",
     "output_type": "stream",
     "text": [
      "(100 / 100) training: 0.4411 | validation: 0.4436\n",
      "\n",
      "Best validation loss: 0.420611 (at epoch 48)\n"
     ]
    },
    {
     "data": {
      "image/png": "[encoded data removed]",
      "text/plain": [
       "<Figure size 432x288 with 1 Axes>"
      ]
     },
     "metadata": {},
     "output_type": "display_data"
    }
   ],
   "source": [
    "# Too high of a learning rate\n",
    "GD_run = run_GD(learning_rate=0.01, n_epochs=100, GD_flavor=\"stochastic\")\n",
    "plot_GD_run(*GD_run)"
   ]
  },
  {
   "cell_type": "code",
   "execution_count": 78,
   "metadata": {},
   "outputs": [
    {
     "name": "stdout",
     "output_type": "stream",
     "text": [
      "(100 / 100) training: 0.4254 | validation: 0.4287\n",
      "\n",
      "Best validation loss: 0.418027 (at epoch 45)\n"
     ]
    },
    {
     "data": {
      "image/png": "[encoded data removed]",
      "text/plain": [
       "<Figure size 432x288 with 1 Axes>"
      ]
     },
     "metadata": {},
     "output_type": "display_data"
    }
   ],
   "source": [
    "# Unstable learning rate\n",
    "GD_run = run_GD(learning_rate=0.005, n_epochs=100, GD_flavor=\"stochastic\")\n",
    "plot_GD_run(*GD_run)"
   ]
  },
  {
   "cell_type": "code",
   "execution_count": 79,
   "metadata": {
    "scrolled": false
   },
   "outputs": [
    {
     "name": "stdout",
     "output_type": "stream",
     "text": [
      "(100 / 100) training: 0.4146 | validation: 0.4171\n",
      "\n",
      "Best validation loss: 0.416452 (at epoch 77)\n"
     ]
    },
    {
     "data": {
      "image/png": "[encoded data removed]",
      "text/plain": [
       "<Figure size 432x288 with 1 Axes>"
      ]
     },
     "metadata": {},
     "output_type": "display_data"
    }
   ],
   "source": [
    "# Usable learning rate\n",
    "GD_run = run_GD(learning_rate=0.001, n_epochs=100, GD_flavor=\"stochastic\")\n",
    "plot_GD_run(*GD_run)"
   ]
  },
  {
   "cell_type": "markdown",
   "metadata": {},
   "source": [
    "## 7. Normal equation: $\\theta = (\\mathbb{X}^T \\mathbb{X})^{-1} \\mathbb{X}^T y$"
   ]
  },
  {
   "cell_type": "code",
   "execution_count": 80,
   "metadata": {},
   "outputs": [],
   "source": [
    "''' Returns a (n+1) x 1 array with the parameter values theta_j that minimize J(theta). '''\n",
    "def normal_equation(X, y):\n",
    "    # minimizes the sum of the square differences\n",
    "    return np.linalg.pinv(X).dot(y) # np.linalg.inv(X.T.dot(X)).dot(X.T.dot(y))"
   ]
  },
  {
   "cell_type": "code",
   "execution_count": 81,
   "metadata": {},
   "outputs": [
    {
     "name": "stdout",
     "output_type": "stream",
     "text": [
      "Best possible parameter values for the training set:\n"
     ]
    },
    {
     "data": {
      "text/plain": [
       "array([[-0.02606628],\n",
       "       [-0.46906469],\n",
       "       [ 0.11508585],\n",
       "       [-0.01978614],\n",
       "       [ 0.04385937],\n",
       "       [ 0.33097164],\n",
       "       [-0.15033774],\n",
       "       [-0.02173649],\n",
       "       [ 0.14561169],\n",
       "       [-0.05355202],\n",
       "       [-0.02114997],\n",
       "       [ 0.0028129 ],\n",
       "       [-0.02029161],\n",
       "       [ 0.17379079],\n",
       "       [-0.17643669],\n",
       "       [-0.07198446],\n",
       "       [-0.06923632],\n",
       "       [-0.51497449]])"
      ]
     },
     "execution_count": 81,
     "metadata": {},
     "output_type": "execute_result"
    }
   ],
   "source": [
    "best_theta = normal_equation(*train_X_y)\n",
    "print(\"Best possible parameter values for the training set:\")\n",
    "best_theta"
   ]
  },
  {
   "cell_type": "code",
   "execution_count": 82,
   "metadata": {},
   "outputs": [
    {
     "name": "stdout",
     "output_type": "stream",
     "text": [
      "Best possible loss for the trainning set:\n"
     ]
    },
    {
     "data": {
      "text/plain": [
       "0.4135600568057268"
      ]
     },
     "execution_count": 82,
     "metadata": {},
     "output_type": "execute_result"
    }
   ],
   "source": [
    "print(\"Best possible loss for the trainning set:\")\n",
    "loss_function(best_theta, *train_X_y)"
   ]
  },
  {
   "cell_type": "code",
   "execution_count": 83,
   "metadata": {},
   "outputs": [
    {
     "name": "stdout",
     "output_type": "stream",
     "text": [
      "Loss for the validation set:\n"
     ]
    },
    {
     "data": {
      "text/plain": [
       "0.41710319092672454"
      ]
     },
     "execution_count": 83,
     "metadata": {},
     "output_type": "execute_result"
    }
   ],
   "source": [
    "print(\"Loss for the validation set:\")\n",
    "loss_function(best_theta, *validation_X_y)"
   ]
  },
  {
   "cell_type": "code",
   "execution_count": 84,
   "metadata": {},
   "outputs": [
    {
     "data": {
      "text/plain": [
       "0.15385176457664318"
      ]
     },
     "execution_count": 84,
     "metadata": {},
     "output_type": "execute_result"
    }
   ],
   "source": [
    "val_X, val_y = validation_X_y\n",
    "r2_score(y_true=val_y, y_pred=val_X.dot(best_theta))"
   ]
  },
  {
   "cell_type": "markdown",
   "metadata": {},
   "source": [
    "## 8. scikit-learn's SGDRegressor"
   ]
  },
  {
   "cell_type": "code",
   "execution_count": 85,
   "metadata": {},
   "outputs": [],
   "source": [
    "from sklearn import linear_model\n",
    "\n",
    "# ref.: https://scikit-learn.org/stable/modules/generated/sklearn.linear_model.SGDRegressor.html"
   ]
  },
  {
   "cell_type": "code",
   "execution_count": 86,
   "metadata": {},
   "outputs": [],
   "source": [
    "X, y = train_X_y\n",
    "y = y.reshape(-1) # (n_samples, 1) -> (n_samples, )\n",
    "\n",
    "val_X, val_y = validation_X_y\n",
    "val_y = val_y.reshape(-1) # (n_samples, 1) -> (n_samples, )"
   ]
  },
  {
   "cell_type": "code",
   "execution_count": 87,
   "metadata": {},
   "outputs": [],
   "source": [
    "# we set the parameters to mimic our implementation as best as we can\n",
    "classifier = linear_model.SGDRegressor(\n",
    "    loss=\"squared_loss\", \n",
    "    penalty=\"none\",           # regularization term\n",
    "    max_iter=1000, \n",
    "    tol=None,                 # stopping criterion (if not None, stops when loss > best_loss - tol for n_iter_no_change epochs)\n",
    "    learning_rate=\"constant\", # uses eta0\n",
    "    eta0=0.0005, \n",
    "    early_stopping=False)"
   ]
  },
  {
   "cell_type": "code",
   "execution_count": 88,
   "metadata": {},
   "outputs": [
    {
     "data": {
      "text/plain": [
       "SGDRegressor(alpha=0.0001, average=False, early_stopping=False, epsilon=0.1,\n",
       "             eta0=0.0005, fit_intercept=True, l1_ratio=0.15,\n",
       "             learning_rate='constant', loss='squared_loss', max_iter=1000,\n",
       "             n_iter_no_change=5, penalty='none', power_t=0.25,\n",
       "             random_state=None, shuffle=True, tol=None, validation_fraction=0.1,\n",
       "             verbose=0, warm_start=False)"
      ]
     },
     "execution_count": 88,
     "metadata": {},
     "output_type": "execute_result"
    }
   ],
   "source": [
    "classifier.fit(X, y) # fits the linear model with the training set"
   ]
  },
  {
   "cell_type": "code",
   "execution_count": 89,
   "metadata": {},
   "outputs": [
    {
     "data": {
      "text/plain": [
       "array([-0.02870181, -0.4699662 ,  0.09787318, -0.01393283,  0.05158981,\n",
       "        0.34577238, -0.14847653, -0.01846246,  0.14493935, -0.04371819,\n",
       "       -0.03814164,  0.00303347, -0.0212956 ,  0.17163386, -0.17836702,\n",
       "       -0.06908148, -0.06904536, -0.44530517])"
      ]
     },
     "execution_count": 89,
     "metadata": {},
     "output_type": "execute_result"
    }
   ],
   "source": [
    "classifier.coef_ # weights assigned to the features"
   ]
  },
  {
   "cell_type": "code",
   "execution_count": 90,
   "metadata": {},
   "outputs": [
    {
     "data": {
      "text/plain": [
       "array([ 0.44511089,  0.61173319, -0.68398741, ...,  0.53058356,\n",
       "        0.25757255, -0.6434564 ])"
      ]
     },
     "execution_count": 90,
     "metadata": {},
     "output_type": "execute_result"
    }
   ],
   "source": [
    "predicted_val_y = classifier.predict(val_X)\n",
    "predicted_val_y"
   ]
  },
  {
   "cell_type": "code",
   "execution_count": 91,
   "metadata": {},
   "outputs": [],
   "source": [
    "n_examples = val_X.shape[0]\n",
    "\n",
    "# same as J(theta), but using the already predicted y, instead of h(theta)\n",
    "sklearn_val_loss = 0.5 * (1 / n_examples) * np.sum((predicted_val_y - val_y)**2)"
   ]
  },
  {
   "cell_type": "code",
   "execution_count": 92,
   "metadata": {},
   "outputs": [
    {
     "name": "stdout",
     "output_type": "stream",
     "text": [
      "sklearn's SGDRegressor loss for the validation set:\n"
     ]
    },
    {
     "data": {
      "text/plain": [
       "0.4182243204055409"
      ]
     },
     "execution_count": 92,
     "metadata": {},
     "output_type": "execute_result"
    }
   ],
   "source": [
    "print(\"sklearn's SGDRegressor loss for the validation set:\")\n",
    "sklearn_val_loss"
   ]
  },
  {
   "cell_type": "code",
   "execution_count": 93,
   "metadata": {},
   "outputs": [
    {
     "name": "stdout",
     "output_type": "stream",
     "text": [
      "R^2 score:\n",
      "- training set:    0.17119140372059982\n",
      "- validation set:  0.15157740717344548\n"
     ]
    }
   ],
   "source": [
    "# R^2 score\n",
    "print(\"R^2 score:\")\n",
    "print(\"- training set:   \", classifier.score(*train_X_y))\n",
    "print(\"- validation set: \", classifier.score(*validation_X_y))"
   ]
  },
  {
   "cell_type": "markdown",
   "metadata": {},
   "source": [
    "## 9. Make the model more complex"
   ]
  },
  {
   "cell_type": "markdown",
   "metadata": {},
   "source": [
    "### 9.1. Map time related features to sine and cosine values\n",
    "\n",
    "This way we can encode their cyclical nature: \n",
    "\n",
    "$x_{sin} = sin(\\dfrac{2 \\pi x}{max(x)})$\n",
    "\n",
    "$x_{cos} = cos(\\dfrac{2 \\pi x}{max(x)})$"
   ]
  },
  {
   "cell_type": "code",
   "execution_count": 94,
   "metadata": {},
   "outputs": [],
   "source": [
    "# NOTE: we must pass 'train_stats' since that's what we used for all sets\n",
    "def unnormalize_time_features(df, stats=train_stats):\n",
    "    unnormalized_df = df.copy()\n",
    "    for col in [\"hour\", \"weekday\", \"weekofyear\"]:\n",
    "        mean = stats[col][\"mean\"]\n",
    "        std = stats[col][\"std\"]\n",
    "        unnormalized_df[col] = unnormalized_df[col].apply(lambda x: (x * std) + mean)\n",
    "    return unnormalized_df"
   ]
  },
  {
   "cell_type": "code",
   "execution_count": 95,
   "metadata": {},
   "outputs": [],
   "source": [
    "def mapped_sine_cosine(df, stats=train_stats):\n",
    "    mapped_df = df.copy()\n",
    "    for col in [\"hour\", \"weekday\", \"weekofyear\"]:\n",
    "        max_x = stats[col][\"max\"]\n",
    "        mapped_df.insert(0, f\"{col}_sin\", mapped_df[col].apply(lambda x: np.sin(2 * np.pi * x / max_x)))\n",
    "        mapped_df.insert(0, f\"{col}_cos\", mapped_df[col].apply(lambda x: np.cos(2 * np.pi * x / max_x)))\n",
    "    return mapped_df.drop(columns=[\"hour\", \"weekday\", \"weekofyear\"])"
   ]
  },
  {
   "cell_type": "code",
   "execution_count": 96,
   "metadata": {},
   "outputs": [],
   "source": [
    "mapped_time_features = [\"weekofyear_cos\", \"weekofyear_sin\", \"weekday_cos\", \"weekday_sin\", \"hour_cos\", \"hour_sin\"]"
   ]
  },
  {
   "cell_type": "code",
   "execution_count": 97,
   "metadata": {},
   "outputs": [],
   "source": [
    "train_data_v2 = mapped_sine_cosine(unnormalize_time_features(train_data))\n",
    "validation_data_v2 = mapped_sine_cosine(unnormalize_time_features(validation_data))\n",
    "\n",
    "test_data_v2 = mapped_sine_cosine(unnormalize_time_features(test_data))"
   ]
  },
  {
   "cell_type": "markdown",
   "metadata": {},
   "source": [
    "### 9.2. Run the new model"
   ]
  },
  {
   "cell_type": "code",
   "execution_count": 98,
   "metadata": {},
   "outputs": [],
   "source": [
    "if train_data_v2.columns[-1] != 'traffic_volume':\n",
    "    print(\"'traffic_volume' should be the last column on the training set!\")\n",
    "if validation_data_v2.columns[-1] != 'traffic_volume':\n",
    "    print(\"'traffic_volume' should be the last column on the validation set!\")\n",
    "if test_data_v2.columns[-1] != 'traffic_volume':\n",
    "    print(\"'traffic_volume' should be the last column on the test set!\")"
   ]
  },
  {
   "cell_type": "code",
   "execution_count": 99,
   "metadata": {},
   "outputs": [],
   "source": [
    "train_v2_X_y = split_X_y(train_data_v2)\n",
    "validation_v2_X_y = split_X_y(validation_data_v2)"
   ]
  },
  {
   "cell_type": "code",
   "execution_count": 100,
   "metadata": {},
   "outputs": [
    {
     "name": "stdout",
     "output_type": "stream",
     "text": [
      "Training set:\n",
      "n_features_v2: 21\n",
      "n_examples_v2: 33735\n",
      "\n",
      "Validation set:\n",
      "val_n_features_v2: 21\n",
      "val_n_examples_v2: 7229\n"
     ]
    }
   ],
   "source": [
    "X_v2, y_v2 = train_v2_X_y\n",
    "n_examples_v2, n_features_v2 = X_v2.shape # m x (n+1)\n",
    "print(\"Training set:\")\n",
    "print(f\"n_features_v2: {n_features_v2}\")\n",
    "print(f\"n_examples_v2: {n_examples_v2}\")\n",
    "\n",
    "val_X_v2, val_y_v2 = validation_v2_X_y\n",
    "val_n_examples_v2, val_n_features_v2 = val_X_v2.shape # m x (n+1)\n",
    "print(\"\\nValidation set:\")\n",
    "print(f\"val_n_features_v2: {val_n_features_v2}\")\n",
    "print(f\"val_n_examples_v2: {val_n_examples_v2}\")"
   ]
  },
  {
   "cell_type": "markdown",
   "metadata": {},
   "source": [
    "### 9.2.1 Learning rate of 0.0005"
   ]
  },
  {
   "cell_type": "markdown",
   "metadata": {},
   "source": [
    "#### Vanilla GD"
   ]
  },
  {
   "cell_type": "code",
   "execution_count": 101,
   "metadata": {
    "scrolled": false
   },
   "outputs": [
    {
     "name": "stdout",
     "output_type": "stream",
     "text": [
      "(10000 / 10000) training: 0.1681 | validation: 0.1741\n",
      "\n",
      "Best validation loss: 0.174052 (at epoch 10000)\n"
     ]
    },
    {
     "data": {
      "image/png": "[encoded data removed]",
      "text/plain": [
       "<Figure size 432x288 with 1 Axes>"
      ]
     },
     "metadata": {},
     "output_type": "display_data"
    }
   ],
   "source": [
    "vanilla_run_v2 = run_GD(learning_rate=0.0005, n_epochs=10000, GD_flavor=\"vanilla\", \n",
    "                        __train_X_y=train_v2_X_y, __validation_X_y=validation_v2_X_y)\n",
    "plot_GD_run(*vanilla_run_v2)"
   ]
  },
  {
   "cell_type": "markdown",
   "metadata": {},
   "source": [
    "#### Mini Batch GD"
   ]
  },
  {
   "cell_type": "code",
   "execution_count": 102,
   "metadata": {
    "scrolled": false
   },
   "outputs": [
    {
     "name": "stdout",
     "output_type": "stream",
     "text": [
      "(1000 / 1000) training: 0.1646 | validation: 0.1718\n",
      "\n",
      "Best validation loss: 0.171826 (at epoch 974)\n"
     ]
    },
    {
     "data": {
      "image/png": "[encoded data removed]",
      "text/plain": [
       "<Figure size 432x288 with 1 Axes>"
      ]
     },
     "metadata": {},
     "output_type": "display_data"
    }
   ],
   "source": [
    "mini_batch_run_v2 = run_GD(learning_rate=0.0005, n_epochs=1000, GD_flavor=\"mini batch\", batch_size=173, \n",
    "                           __train_X_y=train_v2_X_y, __validation_X_y=validation_v2_X_y)\n",
    "plot_GD_run(*mini_batch_run_v2)"
   ]
  },
  {
   "cell_type": "markdown",
   "metadata": {},
   "source": [
    "#### Stochastic GD"
   ]
  },
  {
   "cell_type": "code",
   "execution_count": 103,
   "metadata": {},
   "outputs": [
    {
     "name": "stdout",
     "output_type": "stream",
     "text": [
      "(100 / 100) training: 0.1650 | validation: 0.1726\n",
      "\n",
      "Best validation loss: 0.171593 (at epoch 38)\n"
     ]
    },
    {
     "data": {
      "image/png": "[encoded data removed]",
      "text/plain": [
       "<Figure size 432x288 with 1 Axes>"
      ]
     },
     "metadata": {},
     "output_type": "display_data"
    }
   ],
   "source": [
    "stochastic_run_v2 = run_GD(learning_rate=0.0005, n_epochs=100, GD_flavor=\"stochastic\", \n",
    "                           __train_X_y=train_v2_X_y, __validation_X_y=validation_v2_X_y)\n",
    "plot_GD_run(*stochastic_run_v2)"
   ]
  },
  {
   "cell_type": "code",
   "execution_count": 104,
   "metadata": {
    "scrolled": true
   },
   "outputs": [
    {
     "name": "stdout",
     "output_type": "stream",
     "text": [
      "True\n",
      "True\n"
     ]
    }
   ],
   "source": [
    "# check that the target values are the same (we only changed the features used for prediction)\n",
    "print(all(train_X_y[1] == train_v2_X_y[1]))\n",
    "print(all(validation_X_y[1] == validation_v2_X_y[1]))"
   ]
  },
  {
   "cell_type": "markdown",
   "metadata": {},
   "source": [
    "#### $R^2$ scores"
   ]
  },
  {
   "cell_type": "code",
   "execution_count": 105,
   "metadata": {},
   "outputs": [
    {
     "name": "stdout",
     "output_type": "stream",
     "text": [
      "vanilla R^2 score: 0.6469134151400782\n",
      "mini batch R^2 score: 0.6514282163817807\n",
      "stochastic R^2 score: 0.6519017306155804\n"
     ]
    }
   ],
   "source": [
    "# R^2 score on the validation set\n",
    "print_r2_score(vanilla_run_v2, *validation_v2_X_y)\n",
    "print_r2_score(mini_batch_run_v2, *validation_v2_X_y)\n",
    "print_r2_score(stochastic_run_v2, *validation_v2_X_y)"
   ]
  },
  {
   "cell_type": "markdown",
   "metadata": {},
   "source": [
    "### 9.3. Save this more complex model (with sine and cosine encodings)"
   ]
  },
  {
   "cell_type": "code",
   "execution_count": 106,
   "metadata": {},
   "outputs": [],
   "source": [
    "train_data_v2.to_csv(\"train_v2_70.csv\")\n",
    "validation_data_v2.to_csv(\"validation_v2_15.csv\")\n",
    "\n",
    "test_data_v2.to_csv(\"test_v2_15.csv\")"
   ]
  },
  {
   "cell_type": "markdown",
   "metadata": {},
   "source": [
    "### 9.4. Run SGDRegressor on the new model"
   ]
  },
  {
   "cell_type": "code",
   "execution_count": 107,
   "metadata": {},
   "outputs": [],
   "source": [
    "X_v2, y_v2 = train_v2_X_y\n",
    "y_v2 = y_v2.reshape(-1) # (n_samples, 1) -> (n_samples, )\n",
    "\n",
    "val_X_v2, val_y_v2 = validation_v2_X_y\n",
    "val_y_v2 = val_y_v2.reshape(-1) # (n_samples, 1) -> (n_samples, )"
   ]
  },
  {
   "cell_type": "code",
   "execution_count": 108,
   "metadata": {},
   "outputs": [],
   "source": [
    "# we set the parameters to mimic our implementation as best as we can\n",
    "classifier_v2 = linear_model.SGDRegressor(\n",
    "    loss=\"squared_loss\", \n",
    "    penalty=\"none\",           # regularization term\n",
    "    max_iter=1000, \n",
    "    tol=None,                 # stopping criterion (if not None, stops when loss > best_loss - tol for n_iter_no_change epochs)\n",
    "    learning_rate=\"constant\", # uses eta0\n",
    "    eta0=0.0005, \n",
    "    early_stopping=False)"
   ]
  },
  {
   "cell_type": "code",
   "execution_count": 109,
   "metadata": {},
   "outputs": [
    {
     "data": {
      "text/plain": [
       "SGDRegressor(alpha=0.0001, average=False, early_stopping=False, epsilon=0.1,\n",
       "             eta0=0.0005, fit_intercept=True, l1_ratio=0.15,\n",
       "             learning_rate='constant', loss='squared_loss', max_iter=1000,\n",
       "             n_iter_no_change=5, penalty='none', power_t=0.25,\n",
       "             random_state=None, shuffle=True, tol=None, validation_fraction=0.1,\n",
       "             verbose=0, warm_start=False)"
      ]
     },
     "execution_count": 109,
     "metadata": {},
     "output_type": "execute_result"
    }
   ],
   "source": [
    "classifier_v2.fit(X_v2, y_v2) # fits the linear model with the training set"
   ]
  },
  {
   "cell_type": "code",
   "execution_count": 110,
   "metadata": {},
   "outputs": [
    {
     "data": {
      "text/plain": [
       "array([ 0.03477551, -0.026879  ,  0.00719605, -0.21562364,  0.09757234,\n",
       "       -1.01834076, -0.48443001, -0.28382788,  0.01518942, -0.00496556,\n",
       "       -0.017973  ,  0.0716248 ,  0.04491296,  0.04548551, -0.02351857,\n",
       "        0.0641345 , -0.04154305,  0.01982195,  0.05292173, -0.02611346,\n",
       "       -0.28087674])"
      ]
     },
     "execution_count": 110,
     "metadata": {},
     "output_type": "execute_result"
    }
   ],
   "source": [
    "classifier_v2.coef_ # weights assigned to the features"
   ]
  },
  {
   "cell_type": "code",
   "execution_count": 111,
   "metadata": {},
   "outputs": [
    {
     "data": {
      "text/plain": [
       "array([ 0.7657284 , -0.53029779, -1.16995112, ...,  0.24730215,\n",
       "       -1.11806793, -1.132497  ])"
      ]
     },
     "execution_count": 111,
     "metadata": {},
     "output_type": "execute_result"
    }
   ],
   "source": [
    "predicted_val_y_v2 = classifier_v2.predict(val_X_v2)\n",
    "predicted_val_y_v2"
   ]
  },
  {
   "cell_type": "code",
   "execution_count": 112,
   "metadata": {},
   "outputs": [],
   "source": [
    "n_examples_v2 = val_X_v2.shape[0]\n",
    "\n",
    "# same as J(theta), but using the already predicted y, instead of h(theta)\n",
    "sklearn_val_loss_v2 = 0.5 * (1 / n_examples_v2) * np.sum((predicted_val_y_v2 - val_y_v2)**2)"
   ]
  },
  {
   "cell_type": "code",
   "execution_count": 113,
   "metadata": {},
   "outputs": [
    {
     "name": "stdout",
     "output_type": "stream",
     "text": [
      "sklearn's SGDRegressor loss for the validation set on the new model:\n"
     ]
    },
    {
     "data": {
      "text/plain": [
       "0.1720134383422773"
      ]
     },
     "execution_count": 113,
     "metadata": {},
     "output_type": "execute_result"
    }
   ],
   "source": [
    "print(\"sklearn's SGDRegressor loss for the validation set on the new model:\")\n",
    "sklearn_val_loss_v2"
   ]
  },
  {
   "cell_type": "code",
   "execution_count": 114,
   "metadata": {},
   "outputs": [
    {
     "name": "stdout",
     "output_type": "stream",
     "text": [
      "R^2 score:\n",
      "- training set:    0.6702827457666541\n",
      "- validation set:  0.6510483005439488\n"
     ]
    }
   ],
   "source": [
    "# R^2 score\n",
    "print(\"R^2 score:\")\n",
    "print(\"- training set:   \", classifier_v2.score(*train_v2_X_y))\n",
    "print(\"- validation set: \", classifier_v2.score(*validation_v2_X_y))"
   ]
  },
  {
   "cell_type": "markdown",
   "metadata": {},
   "source": [
    "### 9.4. Use the Normal Equation"
   ]
  },
  {
   "cell_type": "code",
   "execution_count": 115,
   "metadata": {
    "scrolled": false
   },
   "outputs": [
    {
     "name": "stdout",
     "output_type": "stream",
     "text": [
      "Best possible loss for the trainning set: 0.16457694647371757\n",
      "Loss for the validation set: 0.17182998690898327\n"
     ]
    }
   ],
   "source": [
    "# Best possible parameter values for the training set\n",
    "best_theta_v2 = normal_equation(*train_v2_X_y)\n",
    "\n",
    "print(\"Best possible loss for the trainning set:\", loss_function(best_theta_v2, *train_v2_X_y))\n",
    "\n",
    "print(\"Loss for the validation set:\", loss_function(best_theta_v2, *validation_v2_X_y))"
   ]
  },
  {
   "cell_type": "code",
   "execution_count": 116,
   "metadata": {},
   "outputs": [
    {
     "data": {
      "text/plain": [
       "0.6514204557082925"
      ]
     },
     "execution_count": 116,
     "metadata": {},
     "output_type": "execute_result"
    }
   ],
   "source": [
    "val_X_v2, val_y_v2 = validation_v2_X_y\n",
    "r2_score(y_true=val_y_v2, y_pred=val_X_v2.dot(best_theta_v2))"
   ]
  },
  {
   "cell_type": "markdown",
   "metadata": {},
   "source": [
    "## 10. Test set\n",
    "\n",
    "We'll run the test set on our _v2_ Model with Stochastic GD, since that's how we got the lowest $J(\\theta)$ value on the validation set, and the higher $R^2$ score:"
   ]
  },
  {
   "cell_type": "code",
   "execution_count": 118,
   "metadata": {},
   "outputs": [],
   "source": [
    "test_v2_X_y = split_X_y(test_data_v2)"
   ]
  },
  {
   "cell_type": "code",
   "execution_count": 119,
   "metadata": {},
   "outputs": [
    {
     "name": "stdout",
     "output_type": "stream",
     "text": [
      "\n",
      "Test set:\n",
      "test_n_features_v2: 21\n",
      "test_n_examples_v2: 7229\n"
     ]
    }
   ],
   "source": [
    "test_X_v2, test_y_v2 = test_v2_X_y\n",
    "test_n_examples_v2, test_n_features_v2 = test_X_v2.shape # m x (n+1)\n",
    "print(\"\\nTest set:\")\n",
    "print(f\"test_n_features_v2: {test_n_features_v2}\")\n",
    "print(f\"test_n_examples_v2: {test_n_examples_v2}\")"
   ]
  },
  {
   "cell_type": "code",
   "execution_count": 122,
   "metadata": {},
   "outputs": [
    {
     "data": {
      "text/plain": [
       "array([[ 0.05977061],\n",
       "       [-0.02396817],\n",
       "       [ 0.00556838],\n",
       "       [-0.20705159],\n",
       "       [ 0.10392372],\n",
       "       [-1.00442046],\n",
       "       [-0.47717198],\n",
       "       [-0.28309105],\n",
       "       [ 0.01146796],\n",
       "       [-0.01251936],\n",
       "       [-0.02118798],\n",
       "       [ 0.0669213 ],\n",
       "       [ 0.04793839],\n",
       "       [ 0.04537381],\n",
       "       [-0.02161598],\n",
       "       [ 0.06411863],\n",
       "       [-0.04180705],\n",
       "       [ 0.02001178],\n",
       "       [ 0.05302866],\n",
       "       [-0.00640931],\n",
       "       [-0.02395159]])"
      ]
     },
     "execution_count": 122,
     "metadata": {},
     "output_type": "execute_result"
    }
   ],
   "source": [
    "params, _ = stochastic_run_v2\n",
    "params"
   ]
  },
  {
   "cell_type": "code",
   "execution_count": 123,
   "metadata": {},
   "outputs": [
    {
     "name": "stdout",
     "output_type": "stream",
     "text": [
      "Loss on the test set: 0.170845626637394\n"
     ]
    }
   ],
   "source": [
    "print(\"Loss on the test set:\", loss_function(params, *test_v2_X_y))"
   ]
  },
  {
   "cell_type": "code",
   "execution_count": 124,
   "metadata": {},
   "outputs": [
    {
     "data": {
      "text/plain": [
       "0.6576138758943619"
      ]
     },
     "execution_count": 124,
     "metadata": {},
     "output_type": "execute_result"
    }
   ],
   "source": [
    "r2_score(y_true=test_y_v2, y_pred=test_X_v2.dot(params))"
   ]
  }
 ],
 "metadata": {
  "kernelspec": {
   "display_name": "Python 3",
   "language": "python",
   "name": "python3"
  },
  "language_info": {
   "codemirror_mode": {
    "name": "ipython",
    "version": 3
   },
   "file_extension": ".py",
   "mimetype": "text/x-python",
   "name": "python",
   "nbconvert_exporter": "python",
   "pygments_lexer": "ipython3",
   "version": "3.6.8"
  }
 },
 "nbformat": 4,
 "nbformat_minor": 2
}
