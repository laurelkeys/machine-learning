{
 "cells": [
  {
   "cell_type": "markdown",
   "metadata": {},
   "source": [
    "## Importing libs and loading the dataset"
   ]
  },
  {
   "cell_type": "code",
   "execution_count": 1,
   "metadata": {},
   "outputs": [],
   "source": [
    "import numpy as np\n",
    "import pandas as pd\n",
    "import seaborn as sns\n",
    "import matplotlib.pyplot as plt\n",
    "\n",
    "# obs.: Notebook shortcuts: https://www.dataquest.io/blog/jupyter-notebook-tips-tricks-shortcuts/\n",
    "#       pandas' Cheat Sheet: https://github.com/pandas-dev/pandas/blob/master/doc/cheatsheet/Pandas_Cheat_Sheet.pdf"
   ]
  },
  {
   "cell_type": "code",
   "execution_count": 2,
   "metadata": {},
   "outputs": [],
   "source": [
    "%matplotlib inline\n",
    "sns.set() # apply the seaborn defaults to plotted figures (e.g. theme, scaling, color palette), instead of matplotlib's"
   ]
  },
  {
   "cell_type": "code",
   "execution_count": 47,
   "metadata": {},
   "outputs": [
    {
     "data": {
      "text/plain": [
       "holiday                 object\n",
       "temp                   float64\n",
       "rain_1h                float64\n",
       "snow_1h                float64\n",
       "clouds_all               int64\n",
       "weather_main            object\n",
       "weather_description     object\n",
       "date_time               object\n",
       "traffic_volume           int64\n",
       "dtype: object"
      ]
     },
     "execution_count": 47,
     "metadata": {},
     "output_type": "execute_result"
    }
   ],
   "source": [
    "dataset_csv_path = \"Metro_Interstate_Traffic_Volume.csv\" # 8 attributes of 48,204 examples\n",
    "\n",
    "# loading the dataset with pandas (instead of numpy or csv) since there are different datatypes\n",
    "dataset_csv = pd.read_csv(dataset_csv_path, delimiter=',')\n",
    "dataset_csv.dtypes"
   ]
  },
  {
   "cell_type": "markdown",
   "metadata": {},
   "source": [
    "_(You may skip to section **0.** after running the three cells above)_"
   ]
  },
  {
   "cell_type": "markdown",
   "metadata": {},
   "source": [
    "## Dataset attributes\n",
    "1: **holiday**: US National holidays plus regional holiday, Minnesota State Fair\\\n",
    "2: **temp**: average temp in kelvin\\\n",
    "3: **rain 1h**: amount in mm of rain that occurred in the hour\\\n",
    "4: **snow 1h**: amount in mm of snow that occurred in the hour\\\n",
    "5: **clouds all**: percentage of cloud cover\\\n",
    "6: **weather main**: short textual description of the current weather\\\n",
    "7: **weather description**: longer textual description of the current weather\\\n",
    "8: **date time**: hour of the data collected in local CST time\\\n",
    "target: **traffic volume**: traffic volume"
   ]
  },
  {
   "cell_type": "code",
   "execution_count": 9,
   "metadata": {
    "scrolled": false
   },
   "outputs": [
    {
     "data": {
      "text/html": [
       "<div>\n",
       "<style scoped>\n",
       "    .dataframe tbody tr th:only-of-type {\n",
       "        vertical-align: middle;\n",
       "    }\n",
       "\n",
       "    .dataframe tbody tr th {\n",
       "        vertical-align: top;\n",
       "    }\n",
       "\n",
       "    .dataframe thead th {\n",
       "        text-align: right;\n",
       "    }\n",
       "</style>\n",
       "<table border=\"1\" class=\"dataframe\">\n",
       "  <thead>\n",
       "    <tr style=\"text-align: right;\">\n",
       "      <th></th>\n",
       "      <th>holiday</th>\n",
       "      <th>temp</th>\n",
       "      <th>rain_1h</th>\n",
       "      <th>snow_1h</th>\n",
       "      <th>clouds_all</th>\n",
       "      <th>weather_main</th>\n",
       "      <th>weather_description</th>\n",
       "      <th>date_time</th>\n",
       "      <th>traffic_volume</th>\n",
       "    </tr>\n",
       "  </thead>\n",
       "  <tbody>\n",
       "    <tr>\n",
       "      <th>0</th>\n",
       "      <td>None</td>\n",
       "      <td>288.28</td>\n",
       "      <td>0.0</td>\n",
       "      <td>0.0</td>\n",
       "      <td>40</td>\n",
       "      <td>Clouds</td>\n",
       "      <td>scattered clouds</td>\n",
       "      <td>2012-10-02 09:00:00</td>\n",
       "      <td>5545</td>\n",
       "    </tr>\n",
       "    <tr>\n",
       "      <th>1</th>\n",
       "      <td>None</td>\n",
       "      <td>289.36</td>\n",
       "      <td>0.0</td>\n",
       "      <td>0.0</td>\n",
       "      <td>75</td>\n",
       "      <td>Clouds</td>\n",
       "      <td>broken clouds</td>\n",
       "      <td>2012-10-02 10:00:00</td>\n",
       "      <td>4516</td>\n",
       "    </tr>\n",
       "    <tr>\n",
       "      <th>2</th>\n",
       "      <td>None</td>\n",
       "      <td>289.58</td>\n",
       "      <td>0.0</td>\n",
       "      <td>0.0</td>\n",
       "      <td>90</td>\n",
       "      <td>Clouds</td>\n",
       "      <td>overcast clouds</td>\n",
       "      <td>2012-10-02 11:00:00</td>\n",
       "      <td>4767</td>\n",
       "    </tr>\n",
       "    <tr>\n",
       "      <th>3</th>\n",
       "      <td>None</td>\n",
       "      <td>290.13</td>\n",
       "      <td>0.0</td>\n",
       "      <td>0.0</td>\n",
       "      <td>90</td>\n",
       "      <td>Clouds</td>\n",
       "      <td>overcast clouds</td>\n",
       "      <td>2012-10-02 12:00:00</td>\n",
       "      <td>5026</td>\n",
       "    </tr>\n",
       "    <tr>\n",
       "      <th>4</th>\n",
       "      <td>None</td>\n",
       "      <td>291.14</td>\n",
       "      <td>0.0</td>\n",
       "      <td>0.0</td>\n",
       "      <td>75</td>\n",
       "      <td>Clouds</td>\n",
       "      <td>broken clouds</td>\n",
       "      <td>2012-10-02 13:00:00</td>\n",
       "      <td>4918</td>\n",
       "    </tr>\n",
       "    <tr>\n",
       "      <th>5</th>\n",
       "      <td>None</td>\n",
       "      <td>291.72</td>\n",
       "      <td>0.0</td>\n",
       "      <td>0.0</td>\n",
       "      <td>1</td>\n",
       "      <td>Clear</td>\n",
       "      <td>sky is clear</td>\n",
       "      <td>2012-10-02 14:00:00</td>\n",
       "      <td>5181</td>\n",
       "    </tr>\n",
       "    <tr>\n",
       "      <th>6</th>\n",
       "      <td>None</td>\n",
       "      <td>293.17</td>\n",
       "      <td>0.0</td>\n",
       "      <td>0.0</td>\n",
       "      <td>1</td>\n",
       "      <td>Clear</td>\n",
       "      <td>sky is clear</td>\n",
       "      <td>2012-10-02 15:00:00</td>\n",
       "      <td>5584</td>\n",
       "    </tr>\n",
       "    <tr>\n",
       "      <th>7</th>\n",
       "      <td>None</td>\n",
       "      <td>293.86</td>\n",
       "      <td>0.0</td>\n",
       "      <td>0.0</td>\n",
       "      <td>1</td>\n",
       "      <td>Clear</td>\n",
       "      <td>sky is clear</td>\n",
       "      <td>2012-10-02 16:00:00</td>\n",
       "      <td>6015</td>\n",
       "    </tr>\n",
       "    <tr>\n",
       "      <th>8</th>\n",
       "      <td>None</td>\n",
       "      <td>294.14</td>\n",
       "      <td>0.0</td>\n",
       "      <td>0.0</td>\n",
       "      <td>20</td>\n",
       "      <td>Clouds</td>\n",
       "      <td>few clouds</td>\n",
       "      <td>2012-10-02 17:00:00</td>\n",
       "      <td>5791</td>\n",
       "    </tr>\n",
       "    <tr>\n",
       "      <th>9</th>\n",
       "      <td>None</td>\n",
       "      <td>293.10</td>\n",
       "      <td>0.0</td>\n",
       "      <td>0.0</td>\n",
       "      <td>20</td>\n",
       "      <td>Clouds</td>\n",
       "      <td>few clouds</td>\n",
       "      <td>2012-10-02 18:00:00</td>\n",
       "      <td>4770</td>\n",
       "    </tr>\n",
       "  </tbody>\n",
       "</table>\n",
       "</div>"
      ],
      "text/plain": [
       "  holiday    temp  rain_1h  snow_1h  clouds_all weather_main  \\\n",
       "0    None  288.28      0.0      0.0          40       Clouds   \n",
       "1    None  289.36      0.0      0.0          75       Clouds   \n",
       "2    None  289.58      0.0      0.0          90       Clouds   \n",
       "3    None  290.13      0.0      0.0          90       Clouds   \n",
       "4    None  291.14      0.0      0.0          75       Clouds   \n",
       "5    None  291.72      0.0      0.0           1        Clear   \n",
       "6    None  293.17      0.0      0.0           1        Clear   \n",
       "7    None  293.86      0.0      0.0           1        Clear   \n",
       "8    None  294.14      0.0      0.0          20       Clouds   \n",
       "9    None  293.10      0.0      0.0          20       Clouds   \n",
       "\n",
       "  weather_description            date_time  traffic_volume  \n",
       "0    scattered clouds  2012-10-02 09:00:00            5545  \n",
       "1       broken clouds  2012-10-02 10:00:00            4516  \n",
       "2     overcast clouds  2012-10-02 11:00:00            4767  \n",
       "3     overcast clouds  2012-10-02 12:00:00            5026  \n",
       "4       broken clouds  2012-10-02 13:00:00            4918  \n",
       "5        sky is clear  2012-10-02 14:00:00            5181  \n",
       "6        sky is clear  2012-10-02 15:00:00            5584  \n",
       "7        sky is clear  2012-10-02 16:00:00            6015  \n",
       "8          few clouds  2012-10-02 17:00:00            5791  \n",
       "9          few clouds  2012-10-02 18:00:00            4770  "
      ]
     },
     "execution_count": 9,
     "metadata": {},
     "output_type": "execute_result"
    }
   ],
   "source": [
    "dataset_csv.head(n=10) # peeks into the resulting pandas.DataFrame"
   ]
  },
  {
   "cell_type": "markdown",
   "metadata": {},
   "source": [
    "## Visualizing the data"
   ]
  },
  {
   "cell_type": "code",
   "execution_count": 13,
   "metadata": {},
   "outputs": [
    {
     "data": {
      "text/plain": [
       "0        2012-10-02 09:00:00\n",
       "1        2012-10-02 10:00:00\n",
       "2        2012-10-02 11:00:00\n",
       "3        2012-10-02 12:00:00\n",
       "4        2012-10-02 13:00:00\n",
       "                ...         \n",
       "48199    2018-09-30 19:00:00\n",
       "48200    2018-09-30 20:00:00\n",
       "48201    2018-09-30 21:00:00\n",
       "48202    2018-09-30 22:00:00\n",
       "48203    2018-09-30 23:00:00\n",
       "Name: date_time, Length: 48204, dtype: object"
      ]
     },
     "execution_count": 13,
     "metadata": {},
     "output_type": "execute_result"
    }
   ],
   "source": [
    "# obs.: the two following notations are valid, and both return a pandas.Series object\n",
    "# dataset_csv.date_time\n",
    "dataset_csv[\"date_time\"]"
   ]
  },
  {
   "cell_type": "code",
   "execution_count": 4,
   "metadata": {
    "scrolled": true
   },
   "outputs": [
    {
     "name": "stdout",
     "output_type": "stream",
     "text": [
      "0        2012-10-02 09:00:00\n",
      "1        2012-10-02 10:00:00\n",
      "2        2012-10-02 11:00:00\n",
      "3        2012-10-02 12:00:00\n",
      "4        2012-10-02 13:00:00\n",
      "                ...         \n",
      "48199    2018-09-30 19:00:00\n",
      "48200    2018-09-30 20:00:00\n",
      "48201    2018-09-30 21:00:00\n",
      "48202    2018-09-30 22:00:00\n",
      "48203    2018-09-30 23:00:00\n",
      "Name: date_time, Length: 48204, dtype: object\n",
      "\n",
      "Time span: 2189 days, 14:00:00\n"
     ]
    }
   ],
   "source": [
    "from datetime import datetime\n",
    "def date_time_dif(str1, str2):\n",
    "    str_format = \"%Y-%m-%d %H:%M:%S\"\n",
    "    dt1 = datetime.strptime(str1, str_format)\n",
    "    dt2 = datetime.strptime(str2, str_format)\n",
    "    return (dt1 - dt2)\n",
    "\n",
    "time_span = date_time_dif(dataset_csv.date_time.iloc[-1], dataset_csv.date_time.iloc[0])\n",
    "\n",
    "print(dataset_csv[\"date_time\"])\n",
    "print(\"\\nTime span: \" + str(time_span))"
   ]
  },
  {
   "cell_type": "code",
   "execution_count": 5,
   "metadata": {},
   "outputs": [
    {
     "name": "stdout",
     "output_type": "stream",
     "text": [
      "min: 0, max: 7280, mean: 3259.82\n"
     ]
    }
   ],
   "source": [
    "traffic_volume = dataset_csv[\"traffic_volume\"]\n",
    "min_vol = traffic_volume.min()\n",
    "max_vol = traffic_volume.max()\n",
    "print(f\"min: {min_vol}, max: {max_vol}, mean: {traffic_volume.mean():.2f}\")"
   ]
  },
  {
   "cell_type": "code",
   "execution_count": 6,
   "metadata": {},
   "outputs": [
    {
     "data": {
      "text/html": [
       "<div>\n",
       "<style scoped>\n",
       "    .dataframe tbody tr th:only-of-type {\n",
       "        vertical-align: middle;\n",
       "    }\n",
       "\n",
       "    .dataframe tbody tr th {\n",
       "        vertical-align: top;\n",
       "    }\n",
       "\n",
       "    .dataframe thead th {\n",
       "        text-align: right;\n",
       "    }\n",
       "</style>\n",
       "<table border=\"1\" class=\"dataframe\">\n",
       "  <thead>\n",
       "    <tr style=\"text-align: right;\">\n",
       "      <th></th>\n",
       "      <th>holiday</th>\n",
       "      <th>temp</th>\n",
       "      <th>rain_1h</th>\n",
       "      <th>snow_1h</th>\n",
       "      <th>clouds_all</th>\n",
       "      <th>weather_main</th>\n",
       "      <th>weather_description</th>\n",
       "      <th>date_time</th>\n",
       "      <th>traffic_volume</th>\n",
       "    </tr>\n",
       "  </thead>\n",
       "  <tbody>\n",
       "    <tr>\n",
       "      <th>25186</th>\n",
       "      <td>None</td>\n",
       "      <td>296.68</td>\n",
       "      <td>0.0</td>\n",
       "      <td>0.0</td>\n",
       "      <td>40</td>\n",
       "      <td>Rain</td>\n",
       "      <td>light rain</td>\n",
       "      <td>2016-07-23 18:00:00</td>\n",
       "      <td>0</td>\n",
       "    </tr>\n",
       "    <tr>\n",
       "      <th>25191</th>\n",
       "      <td>None</td>\n",
       "      <td>295.90</td>\n",
       "      <td>0.0</td>\n",
       "      <td>0.0</td>\n",
       "      <td>90</td>\n",
       "      <td>Haze</td>\n",
       "      <td>haze</td>\n",
       "      <td>2016-07-23 23:00:00</td>\n",
       "      <td>0</td>\n",
       "    </tr>\n",
       "  </tbody>\n",
       "</table>\n",
       "</div>"
      ],
      "text/plain": [
       "      holiday    temp  rain_1h  snow_1h  clouds_all weather_main  \\\n",
       "25186    None  296.68      0.0      0.0          40         Rain   \n",
       "25191    None  295.90      0.0      0.0          90         Haze   \n",
       "\n",
       "      weather_description            date_time  traffic_volume  \n",
       "25186          light rain  2016-07-23 18:00:00               0  \n",
       "25191                haze  2016-07-23 23:00:00               0  "
      ]
     },
     "execution_count": 6,
     "metadata": {},
     "output_type": "execute_result"
    }
   ],
   "source": [
    "dataset_csv.query(f\"traffic_volume == {min_vol}\") # obs.: same as dataset_csv[dataset_csv[\"traffic_volume\"] == min_vol]"
   ]
  },
  {
   "cell_type": "code",
   "execution_count": 9,
   "metadata": {},
   "outputs": [
    {
     "data": {
      "text/html": [
       "<div>\n",
       "<style scoped>\n",
       "    .dataframe tbody tr th:only-of-type {\n",
       "        vertical-align: middle;\n",
       "    }\n",
       "\n",
       "    .dataframe tbody tr th {\n",
       "        vertical-align: top;\n",
       "    }\n",
       "\n",
       "    .dataframe thead th {\n",
       "        text-align: right;\n",
       "    }\n",
       "</style>\n",
       "<table border=\"1\" class=\"dataframe\">\n",
       "  <thead>\n",
       "    <tr style=\"text-align: right;\">\n",
       "      <th></th>\n",
       "      <th>index</th>\n",
       "      <th>temp</th>\n",
       "      <th>rain_1h</th>\n",
       "      <th>snow_1h</th>\n",
       "      <th>weather_main</th>\n",
       "      <th>date_time</th>\n",
       "      <th>traffic_volume</th>\n",
       "    </tr>\n",
       "  </thead>\n",
       "  <tbody>\n",
       "    <tr>\n",
       "      <th>0</th>\n",
       "      <td>25183</td>\n",
       "      <td>295.22</td>\n",
       "      <td>10.67</td>\n",
       "      <td>0.0</td>\n",
       "      <td>Mist</td>\n",
       "      <td>2016-07-23 16:00:00</td>\n",
       "      <td>7</td>\n",
       "    </tr>\n",
       "    <tr>\n",
       "      <th>1</th>\n",
       "      <td>25184</td>\n",
       "      <td>295.54</td>\n",
       "      <td>0.51</td>\n",
       "      <td>0.0</td>\n",
       "      <td>Rain</td>\n",
       "      <td>2016-07-23 17:00:00</td>\n",
       "      <td>5</td>\n",
       "    </tr>\n",
       "    <tr>\n",
       "      <th>2</th>\n",
       "      <td>25185</td>\n",
       "      <td>295.54</td>\n",
       "      <td>0.51</td>\n",
       "      <td>0.0</td>\n",
       "      <td>Mist</td>\n",
       "      <td>2016-07-23 17:00:00</td>\n",
       "      <td>5</td>\n",
       "    </tr>\n",
       "    <tr>\n",
       "      <th>3</th>\n",
       "      <td>25186</td>\n",
       "      <td>296.68</td>\n",
       "      <td>0.00</td>\n",
       "      <td>0.0</td>\n",
       "      <td>Rain</td>\n",
       "      <td>2016-07-23 18:00:00</td>\n",
       "      <td>0</td>\n",
       "    </tr>\n",
       "    <tr>\n",
       "      <th>4</th>\n",
       "      <td>25187</td>\n",
       "      <td>297.48</td>\n",
       "      <td>0.00</td>\n",
       "      <td>0.0</td>\n",
       "      <td>Clouds</td>\n",
       "      <td>2016-07-23 19:00:00</td>\n",
       "      <td>1</td>\n",
       "    </tr>\n",
       "    <tr>\n",
       "      <th>5</th>\n",
       "      <td>25188</td>\n",
       "      <td>297.21</td>\n",
       "      <td>0.00</td>\n",
       "      <td>0.0</td>\n",
       "      <td>Clouds</td>\n",
       "      <td>2016-07-23 20:00:00</td>\n",
       "      <td>5</td>\n",
       "    </tr>\n",
       "    <tr>\n",
       "      <th>6</th>\n",
       "      <td>25189</td>\n",
       "      <td>296.47</td>\n",
       "      <td>0.00</td>\n",
       "      <td>0.0</td>\n",
       "      <td>Clouds</td>\n",
       "      <td>2016-07-23 21:00:00</td>\n",
       "      <td>2</td>\n",
       "    </tr>\n",
       "    <tr>\n",
       "      <th>7</th>\n",
       "      <td>25190</td>\n",
       "      <td>295.96</td>\n",
       "      <td>0.00</td>\n",
       "      <td>0.0</td>\n",
       "      <td>Clouds</td>\n",
       "      <td>2016-07-23 22:00:00</td>\n",
       "      <td>1</td>\n",
       "    </tr>\n",
       "    <tr>\n",
       "      <th>8</th>\n",
       "      <td>25191</td>\n",
       "      <td>295.90</td>\n",
       "      <td>0.00</td>\n",
       "      <td>0.0</td>\n",
       "      <td>Haze</td>\n",
       "      <td>2016-07-23 23:00:00</td>\n",
       "      <td>0</td>\n",
       "    </tr>\n",
       "    <tr>\n",
       "      <th>9</th>\n",
       "      <td>25192</td>\n",
       "      <td>295.96</td>\n",
       "      <td>0.00</td>\n",
       "      <td>0.0</td>\n",
       "      <td>Clouds</td>\n",
       "      <td>2016-07-24 00:00:00</td>\n",
       "      <td>6</td>\n",
       "    </tr>\n",
       "    <tr>\n",
       "      <th>10</th>\n",
       "      <td>25193</td>\n",
       "      <td>296.10</td>\n",
       "      <td>0.00</td>\n",
       "      <td>0.0</td>\n",
       "      <td>Clouds</td>\n",
       "      <td>2016-07-24 01:00:00</td>\n",
       "      <td>8</td>\n",
       "    </tr>\n",
       "    <tr>\n",
       "      <th>11</th>\n",
       "      <td>25194</td>\n",
       "      <td>296.50</td>\n",
       "      <td>0.00</td>\n",
       "      <td>0.0</td>\n",
       "      <td>Thunderstorm</td>\n",
       "      <td>2016-07-24 02:00:00</td>\n",
       "      <td>5</td>\n",
       "    </tr>\n",
       "  </tbody>\n",
       "</table>\n",
       "</div>"
      ],
      "text/plain": [
       "    index    temp  rain_1h  snow_1h  weather_main            date_time  \\\n",
       "0   25183  295.22    10.67      0.0          Mist  2016-07-23 16:00:00   \n",
       "1   25184  295.54     0.51      0.0          Rain  2016-07-23 17:00:00   \n",
       "2   25185  295.54     0.51      0.0          Mist  2016-07-23 17:00:00   \n",
       "3   25186  296.68     0.00      0.0          Rain  2016-07-23 18:00:00   \n",
       "4   25187  297.48     0.00      0.0        Clouds  2016-07-23 19:00:00   \n",
       "5   25188  297.21     0.00      0.0        Clouds  2016-07-23 20:00:00   \n",
       "6   25189  296.47     0.00      0.0        Clouds  2016-07-23 21:00:00   \n",
       "7   25190  295.96     0.00      0.0        Clouds  2016-07-23 22:00:00   \n",
       "8   25191  295.90     0.00      0.0          Haze  2016-07-23 23:00:00   \n",
       "9   25192  295.96     0.00      0.0        Clouds  2016-07-24 00:00:00   \n",
       "10  25193  296.10     0.00      0.0        Clouds  2016-07-24 01:00:00   \n",
       "11  25194  296.50     0.00      0.0  Thunderstorm  2016-07-24 02:00:00   \n",
       "\n",
       "    traffic_volume  \n",
       "0                7  \n",
       "1                5  \n",
       "2                5  \n",
       "3                0  \n",
       "4                1  \n",
       "5                5  \n",
       "6                2  \n",
       "7                1  \n",
       "8                0  \n",
       "9                6  \n",
       "10               8  \n",
       "11               5  "
      ]
     },
     "execution_count": 9,
     "metadata": {},
     "output_type": "execute_result"
    }
   ],
   "source": [
    "# see values around the entries of min traffic volume\n",
    "display_columns = dataset_csv.columns[~dataset_csv.columns.isin([\"holiday\", \"clouds_all\", \"weather_description\"])]\n",
    "dataset_csv.iloc[25186 - 3 : 25191 + 4][display_columns].reset_index() # obs.: the original index is in the \"index\" column"
   ]
  },
  {
   "cell_type": "code",
   "execution_count": 8,
   "metadata": {},
   "outputs": [
    {
     "data": {
      "text/html": [
       "<div>\n",
       "<style scoped>\n",
       "    .dataframe tbody tr th:only-of-type {\n",
       "        vertical-align: middle;\n",
       "    }\n",
       "\n",
       "    .dataframe tbody tr th {\n",
       "        vertical-align: top;\n",
       "    }\n",
       "\n",
       "    .dataframe thead th {\n",
       "        text-align: right;\n",
       "    }\n",
       "</style>\n",
       "<table border=\"1\" class=\"dataframe\">\n",
       "  <thead>\n",
       "    <tr style=\"text-align: right;\">\n",
       "      <th></th>\n",
       "      <th>temp</th>\n",
       "      <th>traffic_volume</th>\n",
       "      <th>temp_celsius</th>\n",
       "      <th>size</th>\n",
       "    </tr>\n",
       "    <tr>\n",
       "      <th>weather_main</th>\n",
       "      <th></th>\n",
       "      <th></th>\n",
       "      <th></th>\n",
       "      <th></th>\n",
       "    </tr>\n",
       "  </thead>\n",
       "  <tbody>\n",
       "    <tr>\n",
       "      <th>Clouds</th>\n",
       "      <td>281.466101</td>\n",
       "      <td>3618.449749</td>\n",
       "      <td>8.316101</td>\n",
       "      <td>15164</td>\n",
       "    </tr>\n",
       "    <tr>\n",
       "      <th>Haze</th>\n",
       "      <td>275.818581</td>\n",
       "      <td>3502.101471</td>\n",
       "      <td>2.668581</td>\n",
       "      <td>1360</td>\n",
       "    </tr>\n",
       "    <tr>\n",
       "      <th>Rain</th>\n",
       "      <td>286.979586</td>\n",
       "      <td>3317.905501</td>\n",
       "      <td>13.829586</td>\n",
       "      <td>5672</td>\n",
       "    </tr>\n",
       "    <tr>\n",
       "      <th>Drizzle</th>\n",
       "      <td>283.795431</td>\n",
       "      <td>3290.727073</td>\n",
       "      <td>10.645431</td>\n",
       "      <td>1821</td>\n",
       "    </tr>\n",
       "    <tr>\n",
       "      <th>Smoke</th>\n",
       "      <td>290.927500</td>\n",
       "      <td>3237.650000</td>\n",
       "      <td>17.777500</td>\n",
       "      <td>20</td>\n",
       "    </tr>\n",
       "    <tr>\n",
       "      <th>Clear</th>\n",
       "      <td>281.489971</td>\n",
       "      <td>3055.908819</td>\n",
       "      <td>8.339971</td>\n",
       "      <td>13391</td>\n",
       "    </tr>\n",
       "    <tr>\n",
       "      <th>Snow</th>\n",
       "      <td>267.955188</td>\n",
       "      <td>3016.844228</td>\n",
       "      <td>-5.194812</td>\n",
       "      <td>2876</td>\n",
       "    </tr>\n",
       "    <tr>\n",
       "      <th>Thunderstorm</th>\n",
       "      <td>292.716431</td>\n",
       "      <td>3001.620890</td>\n",
       "      <td>19.566431</td>\n",
       "      <td>1034</td>\n",
       "    </tr>\n",
       "    <tr>\n",
       "      <th>Mist</th>\n",
       "      <td>279.476892</td>\n",
       "      <td>2932.956639</td>\n",
       "      <td>6.326892</td>\n",
       "      <td>5950</td>\n",
       "    </tr>\n",
       "    <tr>\n",
       "      <th>Fog</th>\n",
       "      <td>279.415713</td>\n",
       "      <td>2703.720395</td>\n",
       "      <td>6.265713</td>\n",
       "      <td>912</td>\n",
       "    </tr>\n",
       "    <tr>\n",
       "      <th>Squall</th>\n",
       "      <td>292.387500</td>\n",
       "      <td>2061.750000</td>\n",
       "      <td>19.237500</td>\n",
       "      <td>4</td>\n",
       "    </tr>\n",
       "  </tbody>\n",
       "</table>\n",
       "</div>"
      ],
      "text/plain": [
       "                    temp  traffic_volume  temp_celsius   size\n",
       "weather_main                                                 \n",
       "Clouds        281.466101     3618.449749      8.316101  15164\n",
       "Haze          275.818581     3502.101471      2.668581   1360\n",
       "Rain          286.979586     3317.905501     13.829586   5672\n",
       "Drizzle       283.795431     3290.727073     10.645431   1821\n",
       "Smoke         290.927500     3237.650000     17.777500     20\n",
       "Clear         281.489971     3055.908819      8.339971  13391\n",
       "Snow          267.955188     3016.844228     -5.194812   2876\n",
       "Thunderstorm  292.716431     3001.620890     19.566431   1034\n",
       "Mist          279.476892     2932.956639      6.326892   5950\n",
       "Fog           279.415713     2703.720395      6.265713    912\n",
       "Squall        292.387500     2061.750000     19.237500      4"
      ]
     },
     "execution_count": 8,
     "metadata": {},
     "output_type": "execute_result"
    }
   ],
   "source": [
    "mean_values = dataset_csv.groupby(\"weather_main\")[[\"temp\", \"traffic_volume\"]].mean()\n",
    "mean_values[\"temp_celsius\"] = mean_values[\"temp\"].apply(lambda temp_K: temp_K - 273.15)\n",
    "mean_values[\"size\"] = dataset_csv.groupby(\"weather_main\").size() # amount of entries in each group\n",
    "\n",
    "# order by the weather conditions which have the largest mean traffic volume\n",
    "mean_values.sort_values(by=\"traffic_volume\", ascending=False)"
   ]
  },
  {
   "cell_type": "code",
   "execution_count": 7,
   "metadata": {},
   "outputs": [
    {
     "data": {
      "text/plain": [
       "temp               281.205870\n",
       "rain_1h              0.334264\n",
       "snow_1h              0.000222\n",
       "clouds_all          49.362231\n",
       "traffic_volume    3259.818355\n",
       "dtype: float64"
      ]
     },
     "execution_count": 7,
     "metadata": {},
     "output_type": "execute_result"
    }
   ],
   "source": [
    "dataset_csv.mean()"
   ]
  },
  {
   "cell_type": "code",
   "execution_count": 5,
   "metadata": {},
   "outputs": [
    {
     "data": {
      "text/plain": [
       "temp               282.45\n",
       "rain_1h              0.00\n",
       "snow_1h              0.00\n",
       "clouds_all          64.00\n",
       "traffic_volume    3380.00\n",
       "dtype: float64"
      ]
     },
     "execution_count": 5,
     "metadata": {},
     "output_type": "execute_result"
    }
   ],
   "source": [
    "dataset_csv.median()"
   ]
  },
  {
   "cell_type": "code",
   "execution_count": 23,
   "metadata": {},
   "outputs": [
    {
     "data": {
      "text/plain": [
       "rain_1h\n",
       "0.00       44737\n",
       "0.25         948\n",
       "0.26           2\n",
       "0.27           5\n",
       "0.28          23\n",
       "           ...  \n",
       "28.70          2\n",
       "31.75          1\n",
       "44.45          1\n",
       "55.63          1\n",
       "9831.30        1\n",
       "Length: 372, dtype: int64"
      ]
     },
     "execution_count": 23,
     "metadata": {},
     "output_type": "execute_result"
    }
   ],
   "source": [
    "# 44737 / 48204 ~= 93.81% of entries have no rain (3467 have)\n",
    "dataset_csv.groupby(\"rain_1h\").size()"
   ]
  },
  {
   "cell_type": "code",
   "execution_count": 24,
   "metadata": {},
   "outputs": [
    {
     "data": {
      "text/plain": [
       "snow_1h\n",
       "0.00    48141\n",
       "0.05       14\n",
       "0.06       12\n",
       "0.08        2\n",
       "0.10        6\n",
       "0.13        6\n",
       "0.17        3\n",
       "0.21        1\n",
       "0.25        6\n",
       "0.32        5\n",
       "0.44        2\n",
       "0.51        6\n",
       "dtype: int64"
      ]
     },
     "execution_count": 24,
     "metadata": {},
     "output_type": "execute_result"
    }
   ],
   "source": [
    "# 48141 / 48204 ~= 99.87% of entries have no snow (only 63 have)\n",
    "dataset_csv.groupby(\"snow_1h\").size()"
   ]
  },
  {
   "cell_type": "code",
   "execution_count": 58,
   "metadata": {},
   "outputs": [
    {
     "data": {
      "text/html": [
       "<div>\n",
       "<style scoped>\n",
       "    .dataframe tbody tr th:only-of-type {\n",
       "        vertical-align: middle;\n",
       "    }\n",
       "\n",
       "    .dataframe tbody tr th {\n",
       "        vertical-align: top;\n",
       "    }\n",
       "\n",
       "    .dataframe thead th {\n",
       "        text-align: right;\n",
       "    }\n",
       "</style>\n",
       "<table border=\"1\" class=\"dataframe\">\n",
       "  <thead>\n",
       "    <tr style=\"text-align: right;\">\n",
       "      <th></th>\n",
       "      <th>weather_description</th>\n",
       "    </tr>\n",
       "    <tr>\n",
       "      <th>weather_main</th>\n",
       "      <th></th>\n",
       "    </tr>\n",
       "  </thead>\n",
       "  <tbody>\n",
       "    <tr>\n",
       "      <th>Squall</th>\n",
       "      <td>4</td>\n",
       "    </tr>\n",
       "    <tr>\n",
       "      <th>Smoke</th>\n",
       "      <td>20</td>\n",
       "    </tr>\n",
       "    <tr>\n",
       "      <th>Fog</th>\n",
       "      <td>912</td>\n",
       "    </tr>\n",
       "    <tr>\n",
       "      <th>Thunderstorm</th>\n",
       "      <td>1034</td>\n",
       "    </tr>\n",
       "    <tr>\n",
       "      <th>Haze</th>\n",
       "      <td>1360</td>\n",
       "    </tr>\n",
       "    <tr>\n",
       "      <th>Drizzle</th>\n",
       "      <td>1821</td>\n",
       "    </tr>\n",
       "    <tr>\n",
       "      <th>Snow</th>\n",
       "      <td>2876</td>\n",
       "    </tr>\n",
       "    <tr>\n",
       "      <th>Rain</th>\n",
       "      <td>5672</td>\n",
       "    </tr>\n",
       "    <tr>\n",
       "      <th>Mist</th>\n",
       "      <td>5950</td>\n",
       "    </tr>\n",
       "    <tr>\n",
       "      <th>Clear</th>\n",
       "      <td>13391</td>\n",
       "    </tr>\n",
       "    <tr>\n",
       "      <th>Clouds</th>\n",
       "      <td>15164</td>\n",
       "    </tr>\n",
       "  </tbody>\n",
       "</table>\n",
       "</div>"
      ],
      "text/plain": [
       "              weather_description\n",
       "weather_main                     \n",
       "Squall                          4\n",
       "Smoke                          20\n",
       "Fog                           912\n",
       "Thunderstorm                 1034\n",
       "Haze                         1360\n",
       "Drizzle                      1821\n",
       "Snow                         2876\n",
       "Rain                         5672\n",
       "Mist                         5950\n",
       "Clear                       13391\n",
       "Clouds                      15164"
      ]
     },
     "execution_count": 58,
     "metadata": {},
     "output_type": "execute_result"
    }
   ],
   "source": [
    "# uncomment to see the most common descriptions for each weather_main\n",
    "# weather_data = dataset_csv[[\"weather_main\", \"weather_description\"]].groupby(\"weather_description\").describe()\n",
    "# weather_data.sort_values(by=[('weather_main', 'top')])\n",
    "# weather_data.sort_values(by=[('weather_main', 'count')], ascending=False)\n",
    "\n",
    "# shows the amount of entries with each weather_main value\n",
    "dataset_csv[[\"weather_main\", \"weather_description\"]].groupby(\"weather_main\").count().sort_values(by=\"weather_description\")"
   ]
  },
  {
   "cell_type": "code",
   "execution_count": 77,
   "metadata": {},
   "outputs": [
    {
     "data": {
      "text/plain": [
       "0       2012-10-02 09:00:00\n",
       "1       2012-10-02 10:00:00\n",
       "2       2012-10-02 11:00:00\n",
       "3       2012-10-02 12:00:00\n",
       "4       2012-10-02 13:00:00\n",
       "                ...        \n",
       "48199   2018-09-30 19:00:00\n",
       "48200   2018-09-30 20:00:00\n",
       "48201   2018-09-30 21:00:00\n",
       "48202   2018-09-30 22:00:00\n",
       "48203   2018-09-30 23:00:00\n",
       "Name: date_time, Length: 48204, dtype: datetime64[ns]"
      ]
     },
     "execution_count": 77,
     "metadata": {},
     "output_type": "execute_result"
    }
   ],
   "source": [
    "# obs.: values are in CST time\n",
    "pd.to_datetime(dataset_csv[\"date_time\"], format=\"%Y-%m-%d %H:%M:%S\")"
   ]
  },
  {
   "cell_type": "code",
   "execution_count": 110,
   "metadata": {},
   "outputs": [],
   "source": [
    "df = dataset_csv.copy()\n",
    "df[\"date_time\"] = pd.to_datetime(df[\"date_time\"], format=\"%Y-%m-%d %H:%M:%S\")\n",
    "df.set_index(\"date_time\", inplace=True) # changes are made to df, instead of returning a modified copy"
   ]
  },
  {
   "cell_type": "code",
   "execution_count": 112,
   "metadata": {},
   "outputs": [
    {
     "data": {
      "text/html": [
       "<div>\n",
       "<style scoped>\n",
       "    .dataframe tbody tr th:only-of-type {\n",
       "        vertical-align: middle;\n",
       "    }\n",
       "\n",
       "    .dataframe tbody tr th {\n",
       "        vertical-align: top;\n",
       "    }\n",
       "\n",
       "    .dataframe thead th {\n",
       "        text-align: right;\n",
       "    }\n",
       "</style>\n",
       "<table border=\"1\" class=\"dataframe\">\n",
       "  <thead>\n",
       "    <tr style=\"text-align: right;\">\n",
       "      <th></th>\n",
       "      <th>holiday</th>\n",
       "      <th>temp</th>\n",
       "      <th>rain_1h</th>\n",
       "      <th>snow_1h</th>\n",
       "      <th>clouds_all</th>\n",
       "      <th>weather_main</th>\n",
       "      <th>weather_description</th>\n",
       "      <th>traffic_volume</th>\n",
       "    </tr>\n",
       "    <tr>\n",
       "      <th>date_time</th>\n",
       "      <th></th>\n",
       "      <th></th>\n",
       "      <th></th>\n",
       "      <th></th>\n",
       "      <th></th>\n",
       "      <th></th>\n",
       "      <th></th>\n",
       "      <th></th>\n",
       "    </tr>\n",
       "  </thead>\n",
       "  <tbody>\n",
       "    <tr>\n",
       "      <th>2012-10-02 09:00:00</th>\n",
       "      <td>None</td>\n",
       "      <td>288.28</td>\n",
       "      <td>0.0</td>\n",
       "      <td>0.0</td>\n",
       "      <td>40</td>\n",
       "      <td>Clouds</td>\n",
       "      <td>scattered clouds</td>\n",
       "      <td>5545</td>\n",
       "    </tr>\n",
       "    <tr>\n",
       "      <th>2012-10-02 10:00:00</th>\n",
       "      <td>None</td>\n",
       "      <td>289.36</td>\n",
       "      <td>0.0</td>\n",
       "      <td>0.0</td>\n",
       "      <td>75</td>\n",
       "      <td>Clouds</td>\n",
       "      <td>broken clouds</td>\n",
       "      <td>4516</td>\n",
       "    </tr>\n",
       "    <tr>\n",
       "      <th>2012-10-02 11:00:00</th>\n",
       "      <td>None</td>\n",
       "      <td>289.58</td>\n",
       "      <td>0.0</td>\n",
       "      <td>0.0</td>\n",
       "      <td>90</td>\n",
       "      <td>Clouds</td>\n",
       "      <td>overcast clouds</td>\n",
       "      <td>4767</td>\n",
       "    </tr>\n",
       "    <tr>\n",
       "      <th>2012-10-02 12:00:00</th>\n",
       "      <td>None</td>\n",
       "      <td>290.13</td>\n",
       "      <td>0.0</td>\n",
       "      <td>0.0</td>\n",
       "      <td>90</td>\n",
       "      <td>Clouds</td>\n",
       "      <td>overcast clouds</td>\n",
       "      <td>5026</td>\n",
       "    </tr>\n",
       "    <tr>\n",
       "      <th>2012-10-02 13:00:00</th>\n",
       "      <td>None</td>\n",
       "      <td>291.14</td>\n",
       "      <td>0.0</td>\n",
       "      <td>0.0</td>\n",
       "      <td>75</td>\n",
       "      <td>Clouds</td>\n",
       "      <td>broken clouds</td>\n",
       "      <td>4918</td>\n",
       "    </tr>\n",
       "  </tbody>\n",
       "</table>\n",
       "</div>"
      ],
      "text/plain": [
       "                    holiday    temp  rain_1h  snow_1h  clouds_all  \\\n",
       "date_time                                                           \n",
       "2012-10-02 09:00:00    None  288.28      0.0      0.0          40   \n",
       "2012-10-02 10:00:00    None  289.36      0.0      0.0          75   \n",
       "2012-10-02 11:00:00    None  289.58      0.0      0.0          90   \n",
       "2012-10-02 12:00:00    None  290.13      0.0      0.0          90   \n",
       "2012-10-02 13:00:00    None  291.14      0.0      0.0          75   \n",
       "\n",
       "                    weather_main weather_description  traffic_volume  \n",
       "date_time                                                             \n",
       "2012-10-02 09:00:00       Clouds    scattered clouds            5545  \n",
       "2012-10-02 10:00:00       Clouds       broken clouds            4516  \n",
       "2012-10-02 11:00:00       Clouds     overcast clouds            4767  \n",
       "2012-10-02 12:00:00       Clouds     overcast clouds            5026  \n",
       "2012-10-02 13:00:00       Clouds       broken clouds            4918  "
      ]
     },
     "execution_count": 112,
     "metadata": {},
     "output_type": "execute_result"
    }
   ],
   "source": [
    "df.head()"
   ]
  },
  {
   "cell_type": "markdown",
   "metadata": {},
   "source": [
    "## Visualizing the dataset with [seaborn](https://seaborn.pydata.org/)"
   ]
  },
  {
   "cell_type": "code",
   "execution_count": 4,
   "metadata": {},
   "outputs": [],
   "source": [
    "# attributes:\n",
    "# - \"holiday\",              object\n",
    "# - \"temp\",                float64\n",
    "# - \"rain_1h\",             float64\n",
    "# - \"snow_1h\",             float64\n",
    "# - \"clouds_all\",            int64\n",
    "# - \"weather_main\",         object\n",
    "# - \"weather_description\",  object\n",
    "# - \"date_time\",            object\n",
    "\n",
    "# target:\n",
    "# - \"traffic_volume\",        int64"
   ]
  },
  {
   "cell_type": "code",
   "execution_count": 134,
   "metadata": {},
   "outputs": [
    {
     "data": {
      "text/plain": [
       "<seaborn.axisgrid.FacetGrid at 0x21cab0bc1c8>"
      ]
     },
     "execution_count": 134,
     "metadata": {},
     "output_type": "execute_result"
    },
    {
     "data": {
      "image/png": "[encoded data removed]",
      "text/plain": [
       "<Figure size 432x432 with 3 Axes>"
      ]
     },
     "metadata": {},
     "output_type": "display_data"
    },
    {
     "data": {
      "image/png": "[encoded data removed]",
      "text/plain": [
       "<Figure size 469.1x360 with 1 Axes>"
      ]
     },
     "metadata": {},
     "output_type": "display_data"
    }
   ],
   "source": [
    "# NOTE: some entries have an invalid temp value of 0 Kelvin\n",
    "sns.jointplot(x=\"temp\", y=\"traffic_volume\", data=dataset_csv)\n",
    "sns.relplot(x=\"temp\", y=\"traffic_volume\", hue=\"weather_main\", size=\"clouds_all\", data=dataset_csv[dataset_csv.temp > 0.0])"
   ]
  },
  {
   "cell_type": "code",
   "execution_count": 136,
   "metadata": {},
   "outputs": [
    {
     "data": {
      "text/plain": [
       "<seaborn.axisgrid.FacetGrid at 0x21cad5559c8>"
      ]
     },
     "execution_count": 136,
     "metadata": {},
     "output_type": "execute_result"
    },
    {
     "data": {
      "image/png": "[encoded data removed]",
      "text/plain": [
       "<Figure size 432x432 with 3 Axes>"
      ]
     },
     "metadata": {},
     "output_type": "display_data"
    },
    {
     "data": {
      "image/png": "[encoded data removed]",
      "text/plain": [
       "<Figure size 469.1x360 with 1 Axes>"
      ]
     },
     "metadata": {},
     "output_type": "display_data"
    }
   ],
   "source": [
    "sns.jointplot(x=\"clouds_all\", y=\"traffic_volume\", data=dataset_csv)\n",
    "sns.relplot(x=\"clouds_all\", y=\"traffic_volume\", hue=\"weather_main\", size=\"temp\", data=dataset_csv[dataset_csv.temp > 0.0])"
   ]
  },
  {
   "cell_type": "markdown",
   "metadata": {},
   "source": [
    "## 0. Data cleaning"
   ]
  },
  {
   "cell_type": "code",
   "execution_count": 48,
   "metadata": {},
   "outputs": [],
   "source": [
    "# we'll copy our dataset to the DataFrame object 'data' to clean it and\n",
    "# save it as a new .csv file later (splitting it into trainning/validation and test)\n",
    "data = dataset_csv.copy()"
   ]
  },
  {
   "cell_type": "markdown",
   "metadata": {},
   "source": [
    "### 0.0. Removing invalid data"
   ]
  },
  {
   "cell_type": "code",
   "execution_count": 49,
   "metadata": {},
   "outputs": [
    {
     "name": "stdout",
     "output_type": "stream",
     "text": [
      "(48204, 9) - (10, 9) => (48194, 9)\n"
     ]
    }
   ],
   "source": [
    "# removing entries with 0 Kelvin temperature\n",
    "print(f\"{data.shape} - {data.query('temp == 0.0').shape} => \", end='')\n",
    "\n",
    "data = data.query(\"temp > 0.0\")\n",
    "print(data.shape) # removes 10 invalid examples"
   ]
  },
  {
   "cell_type": "code",
   "execution_count": 50,
   "metadata": {
    "scrolled": true
   },
   "outputs": [
    {
     "name": "stdout",
     "output_type": "stream",
     "text": [
      "min: 0.0, max: 9831.3, median: 0.0\n"
     ]
    },
    {
     "data": {
      "text/html": [
       "<div>\n",
       "<style scoped>\n",
       "    .dataframe tbody tr th:only-of-type {\n",
       "        vertical-align: middle;\n",
       "    }\n",
       "\n",
       "    .dataframe tbody tr th {\n",
       "        vertical-align: top;\n",
       "    }\n",
       "\n",
       "    .dataframe thead th {\n",
       "        text-align: right;\n",
       "    }\n",
       "</style>\n",
       "<table border=\"1\" class=\"dataframe\">\n",
       "  <thead>\n",
       "    <tr style=\"text-align: right;\">\n",
       "      <th></th>\n",
       "      <th>holiday</th>\n",
       "      <th>temp</th>\n",
       "      <th>rain_1h</th>\n",
       "      <th>snow_1h</th>\n",
       "      <th>clouds_all</th>\n",
       "      <th>weather_main</th>\n",
       "      <th>weather_description</th>\n",
       "      <th>date_time</th>\n",
       "      <th>traffic_volume</th>\n",
       "    </tr>\n",
       "  </thead>\n",
       "  <tbody>\n",
       "    <tr>\n",
       "      <th>24872</th>\n",
       "      <td>None</td>\n",
       "      <td>302.11</td>\n",
       "      <td>9831.30</td>\n",
       "      <td>0.0</td>\n",
       "      <td>75</td>\n",
       "      <td>Rain</td>\n",
       "      <td>very heavy rain</td>\n",
       "      <td>2016-07-11 17:00:00</td>\n",
       "      <td>5535</td>\n",
       "    </tr>\n",
       "    <tr>\n",
       "      <th>8247</th>\n",
       "      <td>None</td>\n",
       "      <td>289.10</td>\n",
       "      <td>55.63</td>\n",
       "      <td>0.0</td>\n",
       "      <td>68</td>\n",
       "      <td>Rain</td>\n",
       "      <td>very heavy rain</td>\n",
       "      <td>2013-08-07 02:00:00</td>\n",
       "      <td>315</td>\n",
       "    </tr>\n",
       "    <tr>\n",
       "      <th>7179</th>\n",
       "      <td>None</td>\n",
       "      <td>295.82</td>\n",
       "      <td>44.45</td>\n",
       "      <td>0.0</td>\n",
       "      <td>76</td>\n",
       "      <td>Rain</td>\n",
       "      <td>very heavy rain</td>\n",
       "      <td>2013-06-24 11:00:00</td>\n",
       "      <td>4802</td>\n",
       "    </tr>\n",
       "    <tr>\n",
       "      <th>25779</th>\n",
       "      <td>None</td>\n",
       "      <td>297.71</td>\n",
       "      <td>31.75</td>\n",
       "      <td>0.0</td>\n",
       "      <td>0</td>\n",
       "      <td>Rain</td>\n",
       "      <td>very heavy rain</td>\n",
       "      <td>2016-08-16 17:00:00</td>\n",
       "      <td>4913</td>\n",
       "    </tr>\n",
       "    <tr>\n",
       "      <th>10806</th>\n",
       "      <td>None</td>\n",
       "      <td>264.50</td>\n",
       "      <td>28.70</td>\n",
       "      <td>0.0</td>\n",
       "      <td>64</td>\n",
       "      <td>Rain</td>\n",
       "      <td>very heavy rain</td>\n",
       "      <td>2013-12-19 23:00:00</td>\n",
       "      <td>1190</td>\n",
       "    </tr>\n",
       "  </tbody>\n",
       "</table>\n",
       "</div>"
      ],
      "text/plain": [
       "      holiday    temp  rain_1h  snow_1h  clouds_all weather_main  \\\n",
       "24872    None  302.11  9831.30      0.0          75         Rain   \n",
       "8247     None  289.10    55.63      0.0          68         Rain   \n",
       "7179     None  295.82    44.45      0.0          76         Rain   \n",
       "25779    None  297.71    31.75      0.0           0         Rain   \n",
       "10806    None  264.50    28.70      0.0          64         Rain   \n",
       "\n",
       "      weather_description            date_time  traffic_volume  \n",
       "24872     very heavy rain  2016-07-11 17:00:00            5535  \n",
       "8247      very heavy rain  2013-08-07 02:00:00             315  \n",
       "7179      very heavy rain  2013-06-24 11:00:00            4802  \n",
       "25779     very heavy rain  2016-08-16 17:00:00            4913  \n",
       "10806     very heavy rain  2013-12-19 23:00:00            1190  "
      ]
     },
     "execution_count": 50,
     "metadata": {},
     "output_type": "execute_result"
    }
   ],
   "source": [
    "# the max rain_1h value looks invalid, so we'll drop it\n",
    "print(f\"min: {data.rain_1h.min()}, max: {data.rain_1h.max()}, median: {data.rain_1h.median()}\")\n",
    "data.query(\"rain_1h > 0.0\").sort_values(by=\"rain_1h\", ascending=False).head()"
   ]
  },
  {
   "cell_type": "code",
   "execution_count": 51,
   "metadata": {
    "scrolled": true
   },
   "outputs": [
    {
     "data": {
      "text/html": [
       "<div>\n",
       "<style scoped>\n",
       "    .dataframe tbody tr th:only-of-type {\n",
       "        vertical-align: middle;\n",
       "    }\n",
       "\n",
       "    .dataframe tbody tr th {\n",
       "        vertical-align: top;\n",
       "    }\n",
       "\n",
       "    .dataframe thead th {\n",
       "        text-align: right;\n",
       "    }\n",
       "</style>\n",
       "<table border=\"1\" class=\"dataframe\">\n",
       "  <thead>\n",
       "    <tr style=\"text-align: right;\">\n",
       "      <th></th>\n",
       "      <th>holiday</th>\n",
       "      <th>temp</th>\n",
       "      <th>rain_1h</th>\n",
       "      <th>snow_1h</th>\n",
       "      <th>clouds_all</th>\n",
       "      <th>weather_main</th>\n",
       "      <th>weather_description</th>\n",
       "      <th>date_time</th>\n",
       "      <th>traffic_volume</th>\n",
       "    </tr>\n",
       "  </thead>\n",
       "  <tbody>\n",
       "    <tr>\n",
       "      <th>8247</th>\n",
       "      <td>None</td>\n",
       "      <td>289.10</td>\n",
       "      <td>55.63</td>\n",
       "      <td>0.0</td>\n",
       "      <td>68</td>\n",
       "      <td>Rain</td>\n",
       "      <td>very heavy rain</td>\n",
       "      <td>2013-08-07 02:00:00</td>\n",
       "      <td>315</td>\n",
       "    </tr>\n",
       "    <tr>\n",
       "      <th>7179</th>\n",
       "      <td>None</td>\n",
       "      <td>295.82</td>\n",
       "      <td>44.45</td>\n",
       "      <td>0.0</td>\n",
       "      <td>76</td>\n",
       "      <td>Rain</td>\n",
       "      <td>very heavy rain</td>\n",
       "      <td>2013-06-24 11:00:00</td>\n",
       "      <td>4802</td>\n",
       "    </tr>\n",
       "    <tr>\n",
       "      <th>25779</th>\n",
       "      <td>None</td>\n",
       "      <td>297.71</td>\n",
       "      <td>31.75</td>\n",
       "      <td>0.0</td>\n",
       "      <td>0</td>\n",
       "      <td>Rain</td>\n",
       "      <td>very heavy rain</td>\n",
       "      <td>2016-08-16 17:00:00</td>\n",
       "      <td>4913</td>\n",
       "    </tr>\n",
       "    <tr>\n",
       "      <th>10806</th>\n",
       "      <td>None</td>\n",
       "      <td>264.50</td>\n",
       "      <td>28.70</td>\n",
       "      <td>0.0</td>\n",
       "      <td>64</td>\n",
       "      <td>Rain</td>\n",
       "      <td>very heavy rain</td>\n",
       "      <td>2013-12-19 23:00:00</td>\n",
       "      <td>1190</td>\n",
       "    </tr>\n",
       "    <tr>\n",
       "      <th>10807</th>\n",
       "      <td>None</td>\n",
       "      <td>264.50</td>\n",
       "      <td>28.70</td>\n",
       "      <td>0.0</td>\n",
       "      <td>64</td>\n",
       "      <td>Snow</td>\n",
       "      <td>light snow</td>\n",
       "      <td>2013-12-19 23:00:00</td>\n",
       "      <td>1190</td>\n",
       "    </tr>\n",
       "  </tbody>\n",
       "</table>\n",
       "</div>"
      ],
      "text/plain": [
       "      holiday    temp  rain_1h  snow_1h  clouds_all weather_main  \\\n",
       "8247     None  289.10    55.63      0.0          68         Rain   \n",
       "7179     None  295.82    44.45      0.0          76         Rain   \n",
       "25779    None  297.71    31.75      0.0           0         Rain   \n",
       "10806    None  264.50    28.70      0.0          64         Rain   \n",
       "10807    None  264.50    28.70      0.0          64         Snow   \n",
       "\n",
       "      weather_description            date_time  traffic_volume  \n",
       "8247      very heavy rain  2013-08-07 02:00:00             315  \n",
       "7179      very heavy rain  2013-06-24 11:00:00            4802  \n",
       "25779     very heavy rain  2016-08-16 17:00:00            4913  \n",
       "10806     very heavy rain  2013-12-19 23:00:00            1190  \n",
       "10807          light snow  2013-12-19 23:00:00            1190  "
      ]
     },
     "execution_count": 51,
     "metadata": {},
     "output_type": "execute_result"
    }
   ],
   "source": [
    "data.drop(index=24872, inplace=True)\n",
    "data.query(\"rain_1h > 0.0\").sort_values(by=\"rain_1h\", ascending=False).head()"
   ]
  },
  {
   "cell_type": "markdown",
   "metadata": {},
   "source": [
    "Note that we removed values from the whole dataset, and only now we'll split it into train/validation and test.\n",
    "\n",
    "However, the values we removed (0 Kelvin temperature and over 1000mm of rain in an hour) are clearly invalid, so even if we were dealing with test (never seen) data, we could confidently remove entries like these."
   ]
  },
  {
   "cell_type": "markdown",
   "metadata": {},
   "source": [
    "### 0.1. Splitting the dataset into train/validation and test"
   ]
  },
  {
   "cell_type": "code",
   "execution_count": 52,
   "metadata": {},
   "outputs": [],
   "source": [
    "# FIXME should we split the dataset now?\n",
    "#       and move the following changes to a function, so we can run it on the \"untouched\" test data later (?)"
   ]
  },
  {
   "cell_type": "markdown",
   "metadata": {},
   "source": [
    "### 0.2. Adding an 'hour' column"
   ]
  },
  {
   "cell_type": "code",
   "execution_count": 53,
   "metadata": {},
   "outputs": [],
   "source": [
    "data[\"date_time\"] = pd.to_datetime(data[\"date_time\"], format=\"%Y-%m-%d %H:%M:%S\")\n",
    "# data.set_index(\"date_time\", inplace=True)\n",
    "data[\"hour\"] = pd.DatetimeIndex(data[\"date_time\"]).hour"
   ]
  },
  {
   "cell_type": "code",
   "execution_count": 54,
   "metadata": {},
   "outputs": [],
   "source": [
    "hour_mean = data[[\"hour\", \"temp\", \"traffic_volume\"]].groupby(\"hour\").mean()"
   ]
  },
  {
   "cell_type": "code",
   "execution_count": 55,
   "metadata": {},
   "outputs": [
    {
     "data": {
      "image/png": "[encoded data removed]",
      "text/plain": [
       "<Figure size 432x288 with 2 Axes>"
      ]
     },
     "metadata": {},
     "output_type": "display_data"
    }
   ],
   "source": [
    "# plot how the temp and traffic volume varies, on avg, with the hour\n",
    "ax1 = hour_mean.plot(y=\"temp\", legend=False)\n",
    "ax2 = ax1.twinx()\n",
    "hour_mean.plot(y=\"traffic_volume\", ax=ax2, legend=False, color=\"r\")\n",
    "ax1.figure.legend()\n",
    "plt.show()"
   ]
  },
  {
   "cell_type": "markdown",
   "metadata": {},
   "source": [
    "### 0.3. Adding holiday value to the whole day (not just at 00:00:00)"
   ]
  },
  {
   "cell_type": "code",
   "execution_count": 56,
   "metadata": {
    "scrolled": false
   },
   "outputs": [
    {
     "data": {
      "text/plain": [
       "(61, 4)"
      ]
     },
     "execution_count": 56,
     "metadata": {},
     "output_type": "execute_result"
    }
   ],
   "source": [
    "# NOTE: the holiday field is only annotated on the 0th hour of the day\n",
    "holidays = data[data.holiday != \"None\"][[\"holiday\", \"date_time\", \"hour\", \"traffic_volume\"]]\n",
    "holidays.shape # there are 61 holidays in the data (i.e. 61 / 2189 ~= 2.79% of days)"
   ]
  },
  {
   "cell_type": "code",
   "execution_count": 57,
   "metadata": {},
   "outputs": [
    {
     "data": {
      "text/plain": [
       "holiday           11\n",
       "date_time         53\n",
       "hour               1\n",
       "traffic_volume    53\n",
       "dtype: int64"
      ]
     },
     "execution_count": 57,
     "metadata": {},
     "output_type": "execute_result"
    }
   ],
   "source": [
    "holidays.nunique() # NOTE: there seems to be \"duplicate\" entries\n",
    "                   # e.g.: holidays[holidays[\"holiday\"] == \"Martin Luther King Jr Day\"].query(\"date_time == '2018-01-15'\"))"
   ]
  },
  {
   "cell_type": "code",
   "execution_count": 58,
   "metadata": {},
   "outputs": [
    {
     "data": {
      "text/plain": [
       "126     2012-10-08\n",
       "1123    2012-11-12\n",
       "1370    2012-11-22\n",
       "2360    2012-12-25\n",
       "2559    2013-01-01\n",
       "           ...    \n",
       "44441   2018-05-28\n",
       "45547   2018-07-04\n",
       "46936   2018-08-23\n",
       "47330   2018-09-03\n",
       "47331   2018-09-03\n",
       "Name: date_time, Length: 61, dtype: datetime64[ns]"
      ]
     },
     "execution_count": 58,
     "metadata": {},
     "output_type": "execute_result"
    }
   ],
   "source": [
    "holiday_dates = holidays[\"date_time\"].dt.normalize()\n",
    "holiday_dates"
   ]
  },
  {
   "cell_type": "code",
   "execution_count": 59,
   "metadata": {},
   "outputs": [
    {
     "data": {
      "text/html": [
       "<div>\n",
       "<style scoped>\n",
       "    .dataframe tbody tr th:only-of-type {\n",
       "        vertical-align: middle;\n",
       "    }\n",
       "\n",
       "    .dataframe tbody tr th {\n",
       "        vertical-align: top;\n",
       "    }\n",
       "\n",
       "    .dataframe thead th {\n",
       "        text-align: right;\n",
       "    }\n",
       "</style>\n",
       "<table border=\"1\" class=\"dataframe\">\n",
       "  <thead>\n",
       "    <tr style=\"text-align: right;\">\n",
       "      <th></th>\n",
       "      <th>holiday</th>\n",
       "      <th>temp</th>\n",
       "      <th>rain_1h</th>\n",
       "      <th>snow_1h</th>\n",
       "      <th>clouds_all</th>\n",
       "      <th>weather_main</th>\n",
       "      <th>weather_description</th>\n",
       "      <th>date_time</th>\n",
       "      <th>traffic_volume</th>\n",
       "      <th>hour</th>\n",
       "    </tr>\n",
       "  </thead>\n",
       "  <tbody>\n",
       "    <tr>\n",
       "      <th>126</th>\n",
       "      <td>Columbus Day</td>\n",
       "      <td>273.08</td>\n",
       "      <td>0.0</td>\n",
       "      <td>0.0</td>\n",
       "      <td>20</td>\n",
       "      <td>Clouds</td>\n",
       "      <td>few clouds</td>\n",
       "      <td>2012-10-08 00:00:00</td>\n",
       "      <td>455</td>\n",
       "      <td>0</td>\n",
       "    </tr>\n",
       "    <tr>\n",
       "      <th>127</th>\n",
       "      <td>None</td>\n",
       "      <td>272.62</td>\n",
       "      <td>0.0</td>\n",
       "      <td>0.0</td>\n",
       "      <td>20</td>\n",
       "      <td>Clouds</td>\n",
       "      <td>few clouds</td>\n",
       "      <td>2012-10-08 01:00:00</td>\n",
       "      <td>336</td>\n",
       "      <td>1</td>\n",
       "    </tr>\n",
       "    <tr>\n",
       "      <th>128</th>\n",
       "      <td>None</td>\n",
       "      <td>271.78</td>\n",
       "      <td>0.0</td>\n",
       "      <td>0.0</td>\n",
       "      <td>1</td>\n",
       "      <td>Clear</td>\n",
       "      <td>sky is clear</td>\n",
       "      <td>2012-10-08 02:00:00</td>\n",
       "      <td>265</td>\n",
       "      <td>2</td>\n",
       "    </tr>\n",
       "    <tr>\n",
       "      <th>129</th>\n",
       "      <td>None</td>\n",
       "      <td>271.05</td>\n",
       "      <td>0.0</td>\n",
       "      <td>0.0</td>\n",
       "      <td>1</td>\n",
       "      <td>Clear</td>\n",
       "      <td>sky is clear</td>\n",
       "      <td>2012-10-08 03:00:00</td>\n",
       "      <td>314</td>\n",
       "      <td>3</td>\n",
       "    </tr>\n",
       "    <tr>\n",
       "      <th>130</th>\n",
       "      <td>None</td>\n",
       "      <td>270.63</td>\n",
       "      <td>0.0</td>\n",
       "      <td>0.0</td>\n",
       "      <td>1</td>\n",
       "      <td>Clear</td>\n",
       "      <td>sky is clear</td>\n",
       "      <td>2012-10-08 04:00:00</td>\n",
       "      <td>779</td>\n",
       "      <td>4</td>\n",
       "    </tr>\n",
       "  </tbody>\n",
       "</table>\n",
       "</div>"
      ],
      "text/plain": [
       "          holiday    temp  rain_1h  snow_1h  clouds_all weather_main  \\\n",
       "126  Columbus Day  273.08      0.0      0.0          20       Clouds   \n",
       "127          None  272.62      0.0      0.0          20       Clouds   \n",
       "128          None  271.78      0.0      0.0           1        Clear   \n",
       "129          None  271.05      0.0      0.0           1        Clear   \n",
       "130          None  270.63      0.0      0.0           1        Clear   \n",
       "\n",
       "    weather_description           date_time  traffic_volume  hour  \n",
       "126          few clouds 2012-10-08 00:00:00             455     0  \n",
       "127          few clouds 2012-10-08 01:00:00             336     1  \n",
       "128        sky is clear 2012-10-08 02:00:00             265     2  \n",
       "129        sky is clear 2012-10-08 03:00:00             314     3  \n",
       "130        sky is clear 2012-10-08 04:00:00             779     4  "
      ]
     },
     "execution_count": 59,
     "metadata": {},
     "output_type": "execute_result"
    }
   ],
   "source": [
    "# obs.: since we have 48194 examples in 'data' and 2.79% of days are holidays, we should\n",
    "#       obtain around 0.028 * 48194 ~= 1350 entries where data.holiday != \"None\"\n",
    "\n",
    "data.loc[(data['date_time'].dt.normalize().isin(holiday_dates))].head()"
   ]
  },
  {
   "cell_type": "code",
   "execution_count": 60,
   "metadata": {},
   "outputs": [
    {
     "name": "stdout",
     "output_type": "stream",
     "text": [
      "# of holidays: 61\n",
      "# of dataset examples on holidays: (1409, 10)\n"
     ]
    }
   ],
   "source": [
    "holiday_names = [row[\"holiday\"] for index, row in holidays.iterrows()]\n",
    "print(f\"# of holidays: {len(holiday_names)}\")\n",
    "\n",
    "# add holiday name to holiday days on hours other than 00:00:00\n",
    "for holiday_name, holiday_date in zip(holiday_names, holiday_dates):\n",
    "    data.loc[(data['date_time'].dt.normalize() == holiday_date), \"holiday\"] = holiday_name\n",
    "\n",
    "print(f\"# of dataset examples on holidays: {data[data.holiday != 'None'].shape}\")"
   ]
  },
  {
   "cell_type": "code",
   "execution_count": 61,
   "metadata": {
    "scrolled": true
   },
   "outputs": [
    {
     "data": {
      "text/html": [
       "<div>\n",
       "<style scoped>\n",
       "    .dataframe tbody tr th:only-of-type {\n",
       "        vertical-align: middle;\n",
       "    }\n",
       "\n",
       "    .dataframe tbody tr th {\n",
       "        vertical-align: top;\n",
       "    }\n",
       "\n",
       "    .dataframe thead th {\n",
       "        text-align: right;\n",
       "    }\n",
       "</style>\n",
       "<table border=\"1\" class=\"dataframe\">\n",
       "  <thead>\n",
       "    <tr style=\"text-align: right;\">\n",
       "      <th></th>\n",
       "      <th>holiday</th>\n",
       "      <th>temp</th>\n",
       "      <th>rain_1h</th>\n",
       "      <th>snow_1h</th>\n",
       "      <th>clouds_all</th>\n",
       "      <th>weather_main</th>\n",
       "      <th>weather_description</th>\n",
       "      <th>date_time</th>\n",
       "      <th>traffic_volume</th>\n",
       "      <th>hour</th>\n",
       "    </tr>\n",
       "  </thead>\n",
       "  <tbody>\n",
       "    <tr>\n",
       "      <th>126</th>\n",
       "      <td>Columbus Day</td>\n",
       "      <td>273.08</td>\n",
       "      <td>0.0</td>\n",
       "      <td>0.0</td>\n",
       "      <td>20</td>\n",
       "      <td>Clouds</td>\n",
       "      <td>few clouds</td>\n",
       "      <td>2012-10-08 00:00:00</td>\n",
       "      <td>455</td>\n",
       "      <td>0</td>\n",
       "    </tr>\n",
       "    <tr>\n",
       "      <th>127</th>\n",
       "      <td>Columbus Day</td>\n",
       "      <td>272.62</td>\n",
       "      <td>0.0</td>\n",
       "      <td>0.0</td>\n",
       "      <td>20</td>\n",
       "      <td>Clouds</td>\n",
       "      <td>few clouds</td>\n",
       "      <td>2012-10-08 01:00:00</td>\n",
       "      <td>336</td>\n",
       "      <td>1</td>\n",
       "    </tr>\n",
       "    <tr>\n",
       "      <th>128</th>\n",
       "      <td>Columbus Day</td>\n",
       "      <td>271.78</td>\n",
       "      <td>0.0</td>\n",
       "      <td>0.0</td>\n",
       "      <td>1</td>\n",
       "      <td>Clear</td>\n",
       "      <td>sky is clear</td>\n",
       "      <td>2012-10-08 02:00:00</td>\n",
       "      <td>265</td>\n",
       "      <td>2</td>\n",
       "    </tr>\n",
       "    <tr>\n",
       "      <th>129</th>\n",
       "      <td>Columbus Day</td>\n",
       "      <td>271.05</td>\n",
       "      <td>0.0</td>\n",
       "      <td>0.0</td>\n",
       "      <td>1</td>\n",
       "      <td>Clear</td>\n",
       "      <td>sky is clear</td>\n",
       "      <td>2012-10-08 03:00:00</td>\n",
       "      <td>314</td>\n",
       "      <td>3</td>\n",
       "    </tr>\n",
       "    <tr>\n",
       "      <th>130</th>\n",
       "      <td>Columbus Day</td>\n",
       "      <td>270.63</td>\n",
       "      <td>0.0</td>\n",
       "      <td>0.0</td>\n",
       "      <td>1</td>\n",
       "      <td>Clear</td>\n",
       "      <td>sky is clear</td>\n",
       "      <td>2012-10-08 04:00:00</td>\n",
       "      <td>779</td>\n",
       "      <td>4</td>\n",
       "    </tr>\n",
       "  </tbody>\n",
       "</table>\n",
       "</div>"
      ],
      "text/plain": [
       "          holiday    temp  rain_1h  snow_1h  clouds_all weather_main  \\\n",
       "126  Columbus Day  273.08      0.0      0.0          20       Clouds   \n",
       "127  Columbus Day  272.62      0.0      0.0          20       Clouds   \n",
       "128  Columbus Day  271.78      0.0      0.0           1        Clear   \n",
       "129  Columbus Day  271.05      0.0      0.0           1        Clear   \n",
       "130  Columbus Day  270.63      0.0      0.0           1        Clear   \n",
       "\n",
       "    weather_description           date_time  traffic_volume  hour  \n",
       "126          few clouds 2012-10-08 00:00:00             455     0  \n",
       "127          few clouds 2012-10-08 01:00:00             336     1  \n",
       "128        sky is clear 2012-10-08 02:00:00             265     2  \n",
       "129        sky is clear 2012-10-08 03:00:00             314     3  \n",
       "130        sky is clear 2012-10-08 04:00:00             779     4  "
      ]
     },
     "execution_count": 61,
     "metadata": {},
     "output_type": "execute_result"
    }
   ],
   "source": [
    "data[data.holiday != \"None\"].head()"
   ]
  },
  {
   "cell_type": "markdown",
   "metadata": {},
   "source": [
    "### 0.4. Dropping 'snow_1h' and 'weather_description' columns\n",
    "They both seem redundant if we consider the 'weather_main' values."
   ]
  },
  {
   "cell_type": "code",
   "execution_count": 62,
   "metadata": {},
   "outputs": [],
   "source": [
    "data.drop(columns=[\"snow_1h\", \"weather_description\"], inplace=True)"
   ]
  },
  {
   "cell_type": "code",
   "execution_count": 63,
   "metadata": {
    "scrolled": false
   },
   "outputs": [
    {
     "data": {
      "text/html": [
       "<div>\n",
       "<style scoped>\n",
       "    .dataframe tbody tr th:only-of-type {\n",
       "        vertical-align: middle;\n",
       "    }\n",
       "\n",
       "    .dataframe tbody tr th {\n",
       "        vertical-align: top;\n",
       "    }\n",
       "\n",
       "    .dataframe thead th {\n",
       "        text-align: right;\n",
       "    }\n",
       "</style>\n",
       "<table border=\"1\" class=\"dataframe\">\n",
       "  <thead>\n",
       "    <tr style=\"text-align: right;\">\n",
       "      <th></th>\n",
       "      <th>holiday</th>\n",
       "      <th>temp</th>\n",
       "      <th>rain_1h</th>\n",
       "      <th>clouds_all</th>\n",
       "      <th>weather_main</th>\n",
       "      <th>date_time</th>\n",
       "      <th>traffic_volume</th>\n",
       "      <th>hour</th>\n",
       "    </tr>\n",
       "  </thead>\n",
       "  <tbody>\n",
       "    <tr>\n",
       "      <th>0</th>\n",
       "      <td>None</td>\n",
       "      <td>288.28</td>\n",
       "      <td>0.0</td>\n",
       "      <td>40</td>\n",
       "      <td>Clouds</td>\n",
       "      <td>2012-10-02 09:00:00</td>\n",
       "      <td>5545</td>\n",
       "      <td>9</td>\n",
       "    </tr>\n",
       "    <tr>\n",
       "      <th>1</th>\n",
       "      <td>None</td>\n",
       "      <td>289.36</td>\n",
       "      <td>0.0</td>\n",
       "      <td>75</td>\n",
       "      <td>Clouds</td>\n",
       "      <td>2012-10-02 10:00:00</td>\n",
       "      <td>4516</td>\n",
       "      <td>10</td>\n",
       "    </tr>\n",
       "    <tr>\n",
       "      <th>2</th>\n",
       "      <td>None</td>\n",
       "      <td>289.58</td>\n",
       "      <td>0.0</td>\n",
       "      <td>90</td>\n",
       "      <td>Clouds</td>\n",
       "      <td>2012-10-02 11:00:00</td>\n",
       "      <td>4767</td>\n",
       "      <td>11</td>\n",
       "    </tr>\n",
       "    <tr>\n",
       "      <th>3</th>\n",
       "      <td>None</td>\n",
       "      <td>290.13</td>\n",
       "      <td>0.0</td>\n",
       "      <td>90</td>\n",
       "      <td>Clouds</td>\n",
       "      <td>2012-10-02 12:00:00</td>\n",
       "      <td>5026</td>\n",
       "      <td>12</td>\n",
       "    </tr>\n",
       "    <tr>\n",
       "      <th>4</th>\n",
       "      <td>None</td>\n",
       "      <td>291.14</td>\n",
       "      <td>0.0</td>\n",
       "      <td>75</td>\n",
       "      <td>Clouds</td>\n",
       "      <td>2012-10-02 13:00:00</td>\n",
       "      <td>4918</td>\n",
       "      <td>13</td>\n",
       "    </tr>\n",
       "  </tbody>\n",
       "</table>\n",
       "</div>"
      ],
      "text/plain": [
       "  holiday    temp  rain_1h  clouds_all weather_main           date_time  \\\n",
       "0    None  288.28      0.0          40       Clouds 2012-10-02 09:00:00   \n",
       "1    None  289.36      0.0          75       Clouds 2012-10-02 10:00:00   \n",
       "2    None  289.58      0.0          90       Clouds 2012-10-02 11:00:00   \n",
       "3    None  290.13      0.0          90       Clouds 2012-10-02 12:00:00   \n",
       "4    None  291.14      0.0          75       Clouds 2012-10-02 13:00:00   \n",
       "\n",
       "   traffic_volume  hour  \n",
       "0            5545     9  \n",
       "1            4516    10  \n",
       "2            4767    11  \n",
       "3            5026    12  \n",
       "4            4918    13  "
      ]
     },
     "execution_count": 63,
     "metadata": {},
     "output_type": "execute_result"
    }
   ],
   "source": [
    "data.head()"
   ]
  },
  {
   "cell_type": "markdown",
   "metadata": {},
   "source": [
    "### 0.5. Save the clean dataset"
   ]
  },
  {
   "cell_type": "code",
   "execution_count": 64,
   "metadata": {},
   "outputs": [
    {
     "name": "stdout",
     "output_type": "stream",
     "text": [
      "(48193, 8)\n"
     ]
    },
    {
     "data": {
      "text/plain": [
       "holiday              12\n",
       "temp               5842\n",
       "rain_1h             371\n",
       "clouds_all           60\n",
       "weather_main         11\n",
       "date_time         40564\n",
       "traffic_volume     6704\n",
       "hour                 24\n",
       "dtype: int64"
      ]
     },
     "execution_count": 64,
     "metadata": {},
     "output_type": "execute_result"
    }
   ],
   "source": [
    "print(data.shape)\n",
    "data.nunique()\n",
    "# we have 40565 unique datetimes out of 48194, so it seems that there are \n",
    "# \"duplicate\" entries when there's more than one weather condition at the \n",
    "# same time, e.g. it's snowing and raining"
   ]
  },
  {
   "cell_type": "code",
   "execution_count": 65,
   "metadata": {
    "scrolled": true
   },
   "outputs": [
    {
     "data": {
      "text/html": [
       "<div>\n",
       "<style scoped>\n",
       "    .dataframe tbody tr th:only-of-type {\n",
       "        vertical-align: middle;\n",
       "    }\n",
       "\n",
       "    .dataframe tbody tr th {\n",
       "        vertical-align: top;\n",
       "    }\n",
       "\n",
       "    .dataframe thead th {\n",
       "        text-align: right;\n",
       "    }\n",
       "</style>\n",
       "<table border=\"1\" class=\"dataframe\">\n",
       "  <thead>\n",
       "    <tr style=\"text-align: right;\">\n",
       "      <th></th>\n",
       "      <th>hour</th>\n",
       "      <th>holiday</th>\n",
       "      <th>temp</th>\n",
       "      <th>rain_1h</th>\n",
       "      <th>clouds_all</th>\n",
       "      <th>weather_main</th>\n",
       "      <th>traffic_volume</th>\n",
       "    </tr>\n",
       "    <tr>\n",
       "      <th>date_time</th>\n",
       "      <th></th>\n",
       "      <th></th>\n",
       "      <th></th>\n",
       "      <th></th>\n",
       "      <th></th>\n",
       "      <th></th>\n",
       "      <th></th>\n",
       "    </tr>\n",
       "  </thead>\n",
       "  <tbody>\n",
       "    <tr>\n",
       "      <th>2012-10-02 09:00:00</th>\n",
       "      <td>9</td>\n",
       "      <td>None</td>\n",
       "      <td>288.28</td>\n",
       "      <td>0.0</td>\n",
       "      <td>40</td>\n",
       "      <td>Clouds</td>\n",
       "      <td>5545</td>\n",
       "    </tr>\n",
       "    <tr>\n",
       "      <th>2012-10-02 10:00:00</th>\n",
       "      <td>10</td>\n",
       "      <td>None</td>\n",
       "      <td>289.36</td>\n",
       "      <td>0.0</td>\n",
       "      <td>75</td>\n",
       "      <td>Clouds</td>\n",
       "      <td>4516</td>\n",
       "    </tr>\n",
       "    <tr>\n",
       "      <th>2012-10-02 11:00:00</th>\n",
       "      <td>11</td>\n",
       "      <td>None</td>\n",
       "      <td>289.58</td>\n",
       "      <td>0.0</td>\n",
       "      <td>90</td>\n",
       "      <td>Clouds</td>\n",
       "      <td>4767</td>\n",
       "    </tr>\n",
       "    <tr>\n",
       "      <th>2012-10-02 12:00:00</th>\n",
       "      <td>12</td>\n",
       "      <td>None</td>\n",
       "      <td>290.13</td>\n",
       "      <td>0.0</td>\n",
       "      <td>90</td>\n",
       "      <td>Clouds</td>\n",
       "      <td>5026</td>\n",
       "    </tr>\n",
       "    <tr>\n",
       "      <th>2012-10-02 13:00:00</th>\n",
       "      <td>13</td>\n",
       "      <td>None</td>\n",
       "      <td>291.14</td>\n",
       "      <td>0.0</td>\n",
       "      <td>75</td>\n",
       "      <td>Clouds</td>\n",
       "      <td>4918</td>\n",
       "    </tr>\n",
       "  </tbody>\n",
       "</table>\n",
       "</div>"
      ],
      "text/plain": [
       "                     hour holiday    temp  rain_1h  clouds_all weather_main  \\\n",
       "date_time                                                                     \n",
       "2012-10-02 09:00:00     9    None  288.28      0.0          40       Clouds   \n",
       "2012-10-02 10:00:00    10    None  289.36      0.0          75       Clouds   \n",
       "2012-10-02 11:00:00    11    None  289.58      0.0          90       Clouds   \n",
       "2012-10-02 12:00:00    12    None  290.13      0.0          90       Clouds   \n",
       "2012-10-02 13:00:00    13    None  291.14      0.0          75       Clouds   \n",
       "\n",
       "                     traffic_volume  \n",
       "date_time                            \n",
       "2012-10-02 09:00:00            5545  \n",
       "2012-10-02 10:00:00            4516  \n",
       "2012-10-02 11:00:00            4767  \n",
       "2012-10-02 12:00:00            5026  \n",
       "2012-10-02 13:00:00            4918  "
      ]
     },
     "execution_count": 65,
     "metadata": {},
     "output_type": "execute_result"
    }
   ],
   "source": [
    "# make 'date_time' the index and move 'hour' to the first column\n",
    "data = data.set_index(\"date_time\")\n",
    "data = data[[\"hour\", \"holiday\", \"temp\", \"rain_1h\", \"clouds_all\", \"weather_main\", \"traffic_volume\"]]\n",
    "data.head()"
   ]
  },
  {
   "cell_type": "code",
   "execution_count": 66,
   "metadata": {},
   "outputs": [],
   "source": [
    "data.to_csv(\"clean_dataset.csv\")"
   ]
  },
  {
   "cell_type": "markdown",
   "metadata": {},
   "source": [
    "### 0.6. Transform categorical features"
   ]
  },
  {
   "cell_type": "code",
   "execution_count": 67,
   "metadata": {},
   "outputs": [],
   "source": [
    "# NOTE: since we'll be changing some values below, we'll make a copy of 'data' so that\n",
    "#       we can rerun this cell in case we mess something up while testing the changes\n",
    "df = data.copy()"
   ]
  },
  {
   "cell_type": "markdown",
   "metadata": {},
   "source": [
    "Instead of turning a categorical feature with $n$ possible values into an $n$-D vector, with entries having only one non-zero — _hot_ — element, we'll drop one dimension (i.e. not use one of the values), creating an $(n-1)$-D vector to avoid the [Dummy Variable Trap](https://www.algosome.com/articles/dummy-variable-trap-regression.html)."
   ]
  },
  {
   "cell_type": "code",
   "execution_count": 68,
   "metadata": {
    "scrolled": false
   },
   "outputs": [
    {
     "data": {
      "text/plain": [
       "array(['Clouds', 'Clear', 'Rain', 'Drizzle', 'Mist', 'Haze', 'Fog',\n",
       "       'Thunderstorm', 'Snow', 'Squall', 'Smoke'], dtype=object)"
      ]
     },
     "execution_count": 68,
     "metadata": {},
     "output_type": "execute_result"
    }
   ],
   "source": [
    "# categorical attributes: \"holiday\", \"weather_main\"\n",
    "df[\"weather_main\"].unique()"
   ]
  },
  {
   "cell_type": "code",
   "execution_count": 69,
   "metadata": {},
   "outputs": [
    {
     "data": {
      "text/plain": [
       "weather_main\n",
       "Clouds          15164\n",
       "Clear           13381\n",
       "Mist             5950\n",
       "Rain             5671\n",
       "Snow             2876\n",
       "Drizzle          1821\n",
       "Haze             1360\n",
       "Thunderstorm     1034\n",
       "Fog               912\n",
       "Smoke              20\n",
       "Squall              4\n",
       "dtype: int64"
      ]
     },
     "execution_count": 69,
     "metadata": {},
     "output_type": "execute_result"
    }
   ],
   "source": [
    "# see the most common weather conditions\n",
    "df.groupby(\"weather_main\").size().sort_values(ascending=False)"
   ]
  },
  {
   "cell_type": "code",
   "execution_count": 70,
   "metadata": {
    "scrolled": true
   },
   "outputs": [],
   "source": [
    "# dummy encoding, n-D: \n",
    "#   pd.get_dummies(df, prefix=\"weather\", columns=[\"weather_main\"])\n",
    "\n",
    "# one-hot encoding, (n-1)-D:\n",
    "#   pd.get_dummies(df, prefix=\"weather\", columns=[\"weather_main\"], drop_first=True) # drops Clear weather\n",
    "\n",
    "weather_encoding = pd.get_dummies(df[\"weather_main\"], drop_first=True) # drops Clear weather\n",
    "\n",
    "df = pd.concat([df, weather_encoding], axis=1)"
   ]
  },
  {
   "cell_type": "code",
   "execution_count": 71,
   "metadata": {},
   "outputs": [],
   "source": [
    "# we can now safely drop the 'weather_main' column\n",
    "df.drop(columns=[\"weather_main\"], inplace=True)"
   ]
  },
  {
   "cell_type": "code",
   "execution_count": 72,
   "metadata": {},
   "outputs": [
    {
     "name": "stdout",
     "output_type": "stream",
     "text": [
      "Index(['hour', 'holiday', 'temp', 'rain_1h', 'clouds_all', 'traffic_volume',\n",
      "       'Clouds', 'Drizzle', 'Fog', 'Haze', 'Mist', 'Rain', 'Smoke', 'Snow',\n",
      "       'Squall', 'Thunderstorm'],\n",
      "      dtype='object')\n"
     ]
    },
    {
     "data": {
      "text/html": [
       "<div>\n",
       "<style scoped>\n",
       "    .dataframe tbody tr th:only-of-type {\n",
       "        vertical-align: middle;\n",
       "    }\n",
       "\n",
       "    .dataframe tbody tr th {\n",
       "        vertical-align: top;\n",
       "    }\n",
       "\n",
       "    .dataframe thead th {\n",
       "        text-align: right;\n",
       "    }\n",
       "</style>\n",
       "<table border=\"1\" class=\"dataframe\">\n",
       "  <thead>\n",
       "    <tr style=\"text-align: right;\">\n",
       "      <th></th>\n",
       "      <th>hour</th>\n",
       "      <th>holiday</th>\n",
       "      <th>temp</th>\n",
       "      <th>rain_1h</th>\n",
       "      <th>clouds_all</th>\n",
       "      <th>traffic_volume</th>\n",
       "      <th>Clouds</th>\n",
       "      <th>Drizzle</th>\n",
       "      <th>Fog</th>\n",
       "      <th>Haze</th>\n",
       "      <th>Mist</th>\n",
       "      <th>Rain</th>\n",
       "      <th>Smoke</th>\n",
       "      <th>Snow</th>\n",
       "      <th>Squall</th>\n",
       "      <th>Thunderstorm</th>\n",
       "    </tr>\n",
       "    <tr>\n",
       "      <th>date_time</th>\n",
       "      <th></th>\n",
       "      <th></th>\n",
       "      <th></th>\n",
       "      <th></th>\n",
       "      <th></th>\n",
       "      <th></th>\n",
       "      <th></th>\n",
       "      <th></th>\n",
       "      <th></th>\n",
       "      <th></th>\n",
       "      <th></th>\n",
       "      <th></th>\n",
       "      <th></th>\n",
       "      <th></th>\n",
       "      <th></th>\n",
       "      <th></th>\n",
       "    </tr>\n",
       "  </thead>\n",
       "  <tbody>\n",
       "    <tr>\n",
       "      <th>2012-10-02 09:00:00</th>\n",
       "      <td>9</td>\n",
       "      <td>None</td>\n",
       "      <td>288.28</td>\n",
       "      <td>0.0</td>\n",
       "      <td>40</td>\n",
       "      <td>5545</td>\n",
       "      <td>1</td>\n",
       "      <td>0</td>\n",
       "      <td>0</td>\n",
       "      <td>0</td>\n",
       "      <td>0</td>\n",
       "      <td>0</td>\n",
       "      <td>0</td>\n",
       "      <td>0</td>\n",
       "      <td>0</td>\n",
       "      <td>0</td>\n",
       "    </tr>\n",
       "    <tr>\n",
       "      <th>2012-10-02 10:00:00</th>\n",
       "      <td>10</td>\n",
       "      <td>None</td>\n",
       "      <td>289.36</td>\n",
       "      <td>0.0</td>\n",
       "      <td>75</td>\n",
       "      <td>4516</td>\n",
       "      <td>1</td>\n",
       "      <td>0</td>\n",
       "      <td>0</td>\n",
       "      <td>0</td>\n",
       "      <td>0</td>\n",
       "      <td>0</td>\n",
       "      <td>0</td>\n",
       "      <td>0</td>\n",
       "      <td>0</td>\n",
       "      <td>0</td>\n",
       "    </tr>\n",
       "    <tr>\n",
       "      <th>2012-10-02 11:00:00</th>\n",
       "      <td>11</td>\n",
       "      <td>None</td>\n",
       "      <td>289.58</td>\n",
       "      <td>0.0</td>\n",
       "      <td>90</td>\n",
       "      <td>4767</td>\n",
       "      <td>1</td>\n",
       "      <td>0</td>\n",
       "      <td>0</td>\n",
       "      <td>0</td>\n",
       "      <td>0</td>\n",
       "      <td>0</td>\n",
       "      <td>0</td>\n",
       "      <td>0</td>\n",
       "      <td>0</td>\n",
       "      <td>0</td>\n",
       "    </tr>\n",
       "    <tr>\n",
       "      <th>2012-10-02 12:00:00</th>\n",
       "      <td>12</td>\n",
       "      <td>None</td>\n",
       "      <td>290.13</td>\n",
       "      <td>0.0</td>\n",
       "      <td>90</td>\n",
       "      <td>5026</td>\n",
       "      <td>1</td>\n",
       "      <td>0</td>\n",
       "      <td>0</td>\n",
       "      <td>0</td>\n",
       "      <td>0</td>\n",
       "      <td>0</td>\n",
       "      <td>0</td>\n",
       "      <td>0</td>\n",
       "      <td>0</td>\n",
       "      <td>0</td>\n",
       "    </tr>\n",
       "    <tr>\n",
       "      <th>2012-10-02 13:00:00</th>\n",
       "      <td>13</td>\n",
       "      <td>None</td>\n",
       "      <td>291.14</td>\n",
       "      <td>0.0</td>\n",
       "      <td>75</td>\n",
       "      <td>4918</td>\n",
       "      <td>1</td>\n",
       "      <td>0</td>\n",
       "      <td>0</td>\n",
       "      <td>0</td>\n",
       "      <td>0</td>\n",
       "      <td>0</td>\n",
       "      <td>0</td>\n",
       "      <td>0</td>\n",
       "      <td>0</td>\n",
       "      <td>0</td>\n",
       "    </tr>\n",
       "  </tbody>\n",
       "</table>\n",
       "</div>"
      ],
      "text/plain": [
       "                     hour holiday    temp  rain_1h  clouds_all  \\\n",
       "date_time                                                        \n",
       "2012-10-02 09:00:00     9    None  288.28      0.0          40   \n",
       "2012-10-02 10:00:00    10    None  289.36      0.0          75   \n",
       "2012-10-02 11:00:00    11    None  289.58      0.0          90   \n",
       "2012-10-02 12:00:00    12    None  290.13      0.0          90   \n",
       "2012-10-02 13:00:00    13    None  291.14      0.0          75   \n",
       "\n",
       "                     traffic_volume  Clouds  Drizzle  Fog  Haze  Mist  Rain  \\\n",
       "date_time                                                                     \n",
       "2012-10-02 09:00:00            5545       1        0    0     0     0     0   \n",
       "2012-10-02 10:00:00            4516       1        0    0     0     0     0   \n",
       "2012-10-02 11:00:00            4767       1        0    0     0     0     0   \n",
       "2012-10-02 12:00:00            5026       1        0    0     0     0     0   \n",
       "2012-10-02 13:00:00            4918       1        0    0     0     0     0   \n",
       "\n",
       "                     Smoke  Snow  Squall  Thunderstorm  \n",
       "date_time                                               \n",
       "2012-10-02 09:00:00      0     0       0             0  \n",
       "2012-10-02 10:00:00      0     0       0             0  \n",
       "2012-10-02 11:00:00      0     0       0             0  \n",
       "2012-10-02 12:00:00      0     0       0             0  \n",
       "2012-10-02 13:00:00      0     0       0             0  "
      ]
     },
     "execution_count": 72,
     "metadata": {},
     "output_type": "execute_result"
    }
   ],
   "source": [
    "print(df.columns)\n",
    "df.head()"
   ]
  },
  {
   "cell_type": "code",
   "execution_count": 73,
   "metadata": {},
   "outputs": [],
   "source": [
    "# obs.: comparing the value to 0 prevents accidents when running this cell twice\n",
    "df[\"holiday\"] = df[\"holiday\"].apply(lambda h: 0 if (h == \"None\" or h == 0) else 1)"
   ]
  },
  {
   "cell_type": "code",
   "execution_count": 74,
   "metadata": {},
   "outputs": [
    {
     "data": {
      "text/plain": [
       "(1409, 16)"
      ]
     },
     "execution_count": 74,
     "metadata": {},
     "output_type": "execute_result"
    }
   ],
   "source": [
    "df[df[\"holiday\"] == 1].shape # just checking to see if we still have 1409 examples on holidays and... we're good!"
   ]
  },
  {
   "cell_type": "code",
   "execution_count": 75,
   "metadata": {},
   "outputs": [
    {
     "data": {
      "text/html": [
       "<div>\n",
       "<style scoped>\n",
       "    .dataframe tbody tr th:only-of-type {\n",
       "        vertical-align: middle;\n",
       "    }\n",
       "\n",
       "    .dataframe tbody tr th {\n",
       "        vertical-align: top;\n",
       "    }\n",
       "\n",
       "    .dataframe thead th {\n",
       "        text-align: right;\n",
       "    }\n",
       "</style>\n",
       "<table border=\"1\" class=\"dataframe\">\n",
       "  <thead>\n",
       "    <tr style=\"text-align: right;\">\n",
       "      <th></th>\n",
       "      <th>hour</th>\n",
       "      <th>holiday</th>\n",
       "      <th>temp</th>\n",
       "      <th>rain_1h</th>\n",
       "      <th>clouds_all</th>\n",
       "      <th>traffic_volume</th>\n",
       "      <th>Clouds</th>\n",
       "      <th>Drizzle</th>\n",
       "      <th>Fog</th>\n",
       "      <th>Haze</th>\n",
       "      <th>Mist</th>\n",
       "      <th>Rain</th>\n",
       "      <th>Smoke</th>\n",
       "      <th>Snow</th>\n",
       "      <th>Squall</th>\n",
       "      <th>Thunderstorm</th>\n",
       "    </tr>\n",
       "    <tr>\n",
       "      <th>date_time</th>\n",
       "      <th></th>\n",
       "      <th></th>\n",
       "      <th></th>\n",
       "      <th></th>\n",
       "      <th></th>\n",
       "      <th></th>\n",
       "      <th></th>\n",
       "      <th></th>\n",
       "      <th></th>\n",
       "      <th></th>\n",
       "      <th></th>\n",
       "      <th></th>\n",
       "      <th></th>\n",
       "      <th></th>\n",
       "      <th></th>\n",
       "      <th></th>\n",
       "    </tr>\n",
       "  </thead>\n",
       "  <tbody>\n",
       "    <tr>\n",
       "      <th>2012-10-02 09:00:00</th>\n",
       "      <td>9</td>\n",
       "      <td>0</td>\n",
       "      <td>288.28</td>\n",
       "      <td>0.0</td>\n",
       "      <td>40</td>\n",
       "      <td>5545</td>\n",
       "      <td>1</td>\n",
       "      <td>0</td>\n",
       "      <td>0</td>\n",
       "      <td>0</td>\n",
       "      <td>0</td>\n",
       "      <td>0</td>\n",
       "      <td>0</td>\n",
       "      <td>0</td>\n",
       "      <td>0</td>\n",
       "      <td>0</td>\n",
       "    </tr>\n",
       "    <tr>\n",
       "      <th>2012-10-02 10:00:00</th>\n",
       "      <td>10</td>\n",
       "      <td>0</td>\n",
       "      <td>289.36</td>\n",
       "      <td>0.0</td>\n",
       "      <td>75</td>\n",
       "      <td>4516</td>\n",
       "      <td>1</td>\n",
       "      <td>0</td>\n",
       "      <td>0</td>\n",
       "      <td>0</td>\n",
       "      <td>0</td>\n",
       "      <td>0</td>\n",
       "      <td>0</td>\n",
       "      <td>0</td>\n",
       "      <td>0</td>\n",
       "      <td>0</td>\n",
       "    </tr>\n",
       "    <tr>\n",
       "      <th>2012-10-02 11:00:00</th>\n",
       "      <td>11</td>\n",
       "      <td>0</td>\n",
       "      <td>289.58</td>\n",
       "      <td>0.0</td>\n",
       "      <td>90</td>\n",
       "      <td>4767</td>\n",
       "      <td>1</td>\n",
       "      <td>0</td>\n",
       "      <td>0</td>\n",
       "      <td>0</td>\n",
       "      <td>0</td>\n",
       "      <td>0</td>\n",
       "      <td>0</td>\n",
       "      <td>0</td>\n",
       "      <td>0</td>\n",
       "      <td>0</td>\n",
       "    </tr>\n",
       "    <tr>\n",
       "      <th>2012-10-02 12:00:00</th>\n",
       "      <td>12</td>\n",
       "      <td>0</td>\n",
       "      <td>290.13</td>\n",
       "      <td>0.0</td>\n",
       "      <td>90</td>\n",
       "      <td>5026</td>\n",
       "      <td>1</td>\n",
       "      <td>0</td>\n",
       "      <td>0</td>\n",
       "      <td>0</td>\n",
       "      <td>0</td>\n",
       "      <td>0</td>\n",
       "      <td>0</td>\n",
       "      <td>0</td>\n",
       "      <td>0</td>\n",
       "      <td>0</td>\n",
       "    </tr>\n",
       "    <tr>\n",
       "      <th>2012-10-02 13:00:00</th>\n",
       "      <td>13</td>\n",
       "      <td>0</td>\n",
       "      <td>291.14</td>\n",
       "      <td>0.0</td>\n",
       "      <td>75</td>\n",
       "      <td>4918</td>\n",
       "      <td>1</td>\n",
       "      <td>0</td>\n",
       "      <td>0</td>\n",
       "      <td>0</td>\n",
       "      <td>0</td>\n",
       "      <td>0</td>\n",
       "      <td>0</td>\n",
       "      <td>0</td>\n",
       "      <td>0</td>\n",
       "      <td>0</td>\n",
       "    </tr>\n",
       "  </tbody>\n",
       "</table>\n",
       "</div>"
      ],
      "text/plain": [
       "                     hour  holiday    temp  rain_1h  clouds_all  \\\n",
       "date_time                                                         \n",
       "2012-10-02 09:00:00     9        0  288.28      0.0          40   \n",
       "2012-10-02 10:00:00    10        0  289.36      0.0          75   \n",
       "2012-10-02 11:00:00    11        0  289.58      0.0          90   \n",
       "2012-10-02 12:00:00    12        0  290.13      0.0          90   \n",
       "2012-10-02 13:00:00    13        0  291.14      0.0          75   \n",
       "\n",
       "                     traffic_volume  Clouds  Drizzle  Fog  Haze  Mist  Rain  \\\n",
       "date_time                                                                     \n",
       "2012-10-02 09:00:00            5545       1        0    0     0     0     0   \n",
       "2012-10-02 10:00:00            4516       1        0    0     0     0     0   \n",
       "2012-10-02 11:00:00            4767       1        0    0     0     0     0   \n",
       "2012-10-02 12:00:00            5026       1        0    0     0     0     0   \n",
       "2012-10-02 13:00:00            4918       1        0    0     0     0     0   \n",
       "\n",
       "                     Smoke  Snow  Squall  Thunderstorm  \n",
       "date_time                                               \n",
       "2012-10-02 09:00:00      0     0       0             0  \n",
       "2012-10-02 10:00:00      0     0       0             0  \n",
       "2012-10-02 11:00:00      0     0       0             0  \n",
       "2012-10-02 12:00:00      0     0       0             0  \n",
       "2012-10-02 13:00:00      0     0       0             0  "
      ]
     },
     "execution_count": 75,
     "metadata": {},
     "output_type": "execute_result"
    }
   ],
   "source": [
    "df.head()"
   ]
  },
  {
   "cell_type": "markdown",
   "metadata": {},
   "source": [
    "### 0.7. Split 'date_time' into 'weekday' and 'weekofyear'"
   ]
  },
  {
   "cell_type": "code",
   "execution_count": 76,
   "metadata": {
    "scrolled": false
   },
   "outputs": [
    {
     "data": {
      "text/html": [
       "<div>\n",
       "<style scoped>\n",
       "    .dataframe tbody tr th:only-of-type {\n",
       "        vertical-align: middle;\n",
       "    }\n",
       "\n",
       "    .dataframe tbody tr th {\n",
       "        vertical-align: top;\n",
       "    }\n",
       "\n",
       "    .dataframe thead th {\n",
       "        text-align: right;\n",
       "    }\n",
       "</style>\n",
       "<table border=\"1\" class=\"dataframe\">\n",
       "  <thead>\n",
       "    <tr style=\"text-align: right;\">\n",
       "      <th></th>\n",
       "      <th>hour</th>\n",
       "      <th>weekday</th>\n",
       "      <th>weekofyear</th>\n",
       "      <th>holiday</th>\n",
       "      <th>temp</th>\n",
       "      <th>rain_1h</th>\n",
       "      <th>clouds_all</th>\n",
       "      <th>traffic_volume</th>\n",
       "      <th>Clouds</th>\n",
       "      <th>Drizzle</th>\n",
       "      <th>Fog</th>\n",
       "      <th>Haze</th>\n",
       "      <th>Mist</th>\n",
       "      <th>Rain</th>\n",
       "      <th>Smoke</th>\n",
       "      <th>Snow</th>\n",
       "      <th>Squall</th>\n",
       "      <th>Thunderstorm</th>\n",
       "    </tr>\n",
       "    <tr>\n",
       "      <th>date_time</th>\n",
       "      <th></th>\n",
       "      <th></th>\n",
       "      <th></th>\n",
       "      <th></th>\n",
       "      <th></th>\n",
       "      <th></th>\n",
       "      <th></th>\n",
       "      <th></th>\n",
       "      <th></th>\n",
       "      <th></th>\n",
       "      <th></th>\n",
       "      <th></th>\n",
       "      <th></th>\n",
       "      <th></th>\n",
       "      <th></th>\n",
       "      <th></th>\n",
       "      <th></th>\n",
       "      <th></th>\n",
       "    </tr>\n",
       "  </thead>\n",
       "  <tbody>\n",
       "    <tr>\n",
       "      <th>2012-10-02 09:00:00</th>\n",
       "      <td>9</td>\n",
       "      <td>1</td>\n",
       "      <td>40</td>\n",
       "      <td>0</td>\n",
       "      <td>288.28</td>\n",
       "      <td>0.0</td>\n",
       "      <td>40</td>\n",
       "      <td>5545</td>\n",
       "      <td>1</td>\n",
       "      <td>0</td>\n",
       "      <td>0</td>\n",
       "      <td>0</td>\n",
       "      <td>0</td>\n",
       "      <td>0</td>\n",
       "      <td>0</td>\n",
       "      <td>0</td>\n",
       "      <td>0</td>\n",
       "      <td>0</td>\n",
       "    </tr>\n",
       "    <tr>\n",
       "      <th>2012-10-02 10:00:00</th>\n",
       "      <td>10</td>\n",
       "      <td>1</td>\n",
       "      <td>40</td>\n",
       "      <td>0</td>\n",
       "      <td>289.36</td>\n",
       "      <td>0.0</td>\n",
       "      <td>75</td>\n",
       "      <td>4516</td>\n",
       "      <td>1</td>\n",
       "      <td>0</td>\n",
       "      <td>0</td>\n",
       "      <td>0</td>\n",
       "      <td>0</td>\n",
       "      <td>0</td>\n",
       "      <td>0</td>\n",
       "      <td>0</td>\n",
       "      <td>0</td>\n",
       "      <td>0</td>\n",
       "    </tr>\n",
       "    <tr>\n",
       "      <th>2012-10-02 11:00:00</th>\n",
       "      <td>11</td>\n",
       "      <td>1</td>\n",
       "      <td>40</td>\n",
       "      <td>0</td>\n",
       "      <td>289.58</td>\n",
       "      <td>0.0</td>\n",
       "      <td>90</td>\n",
       "      <td>4767</td>\n",
       "      <td>1</td>\n",
       "      <td>0</td>\n",
       "      <td>0</td>\n",
       "      <td>0</td>\n",
       "      <td>0</td>\n",
       "      <td>0</td>\n",
       "      <td>0</td>\n",
       "      <td>0</td>\n",
       "      <td>0</td>\n",
       "      <td>0</td>\n",
       "    </tr>\n",
       "    <tr>\n",
       "      <th>2012-10-02 12:00:00</th>\n",
       "      <td>12</td>\n",
       "      <td>1</td>\n",
       "      <td>40</td>\n",
       "      <td>0</td>\n",
       "      <td>290.13</td>\n",
       "      <td>0.0</td>\n",
       "      <td>90</td>\n",
       "      <td>5026</td>\n",
       "      <td>1</td>\n",
       "      <td>0</td>\n",
       "      <td>0</td>\n",
       "      <td>0</td>\n",
       "      <td>0</td>\n",
       "      <td>0</td>\n",
       "      <td>0</td>\n",
       "      <td>0</td>\n",
       "      <td>0</td>\n",
       "      <td>0</td>\n",
       "    </tr>\n",
       "    <tr>\n",
       "      <th>2012-10-02 13:00:00</th>\n",
       "      <td>13</td>\n",
       "      <td>1</td>\n",
       "      <td>40</td>\n",
       "      <td>0</td>\n",
       "      <td>291.14</td>\n",
       "      <td>0.0</td>\n",
       "      <td>75</td>\n",
       "      <td>4918</td>\n",
       "      <td>1</td>\n",
       "      <td>0</td>\n",
       "      <td>0</td>\n",
       "      <td>0</td>\n",
       "      <td>0</td>\n",
       "      <td>0</td>\n",
       "      <td>0</td>\n",
       "      <td>0</td>\n",
       "      <td>0</td>\n",
       "      <td>0</td>\n",
       "    </tr>\n",
       "  </tbody>\n",
       "</table>\n",
       "</div>"
      ],
      "text/plain": [
       "                     hour  weekday  weekofyear  holiday    temp  rain_1h  \\\n",
       "date_time                                                                  \n",
       "2012-10-02 09:00:00     9        1          40        0  288.28      0.0   \n",
       "2012-10-02 10:00:00    10        1          40        0  289.36      0.0   \n",
       "2012-10-02 11:00:00    11        1          40        0  289.58      0.0   \n",
       "2012-10-02 12:00:00    12        1          40        0  290.13      0.0   \n",
       "2012-10-02 13:00:00    13        1          40        0  291.14      0.0   \n",
       "\n",
       "                     clouds_all  traffic_volume  Clouds  Drizzle  Fog  Haze  \\\n",
       "date_time                                                                     \n",
       "2012-10-02 09:00:00          40            5545       1        0    0     0   \n",
       "2012-10-02 10:00:00          75            4516       1        0    0     0   \n",
       "2012-10-02 11:00:00          90            4767       1        0    0     0   \n",
       "2012-10-02 12:00:00          90            5026       1        0    0     0   \n",
       "2012-10-02 13:00:00          75            4918       1        0    0     0   \n",
       "\n",
       "                     Mist  Rain  Smoke  Snow  Squall  Thunderstorm  \n",
       "date_time                                                           \n",
       "2012-10-02 09:00:00     0     0      0     0       0             0  \n",
       "2012-10-02 10:00:00     0     0      0     0       0             0  \n",
       "2012-10-02 11:00:00     0     0      0     0       0             0  \n",
       "2012-10-02 12:00:00     0     0      0     0       0             0  \n",
       "2012-10-02 13:00:00     0     0      0     0       0             0  "
      ]
     },
     "execution_count": 76,
     "metadata": {},
     "output_type": "execute_result"
    }
   ],
   "source": [
    "# NOTE: by not using the 'date_time' column we're only losing the year information from the original dataset, \n",
    "#       since we have 'hour', 'weekday' and 'weekofyear'\n",
    "df.insert(1, \"weekday\", pd.DatetimeIndex(df.index).weekday)\n",
    "df.insert(2, \"weekofyear\", pd.DatetimeIndex(df.index).weekofyear)\n",
    "df.head()"
   ]
  },
  {
   "cell_type": "code",
   "execution_count": 77,
   "metadata": {},
   "outputs": [],
   "source": [
    "# FIXME turn 'hour' values into sin(hour) and cos(hour)"
   ]
  },
  {
   "cell_type": "markdown",
   "metadata": {},
   "source": [
    "## 1. $(0.25 pts)$ Split the data for providing your results and avoid overfitting.\n",
    "Keep in mind that friends don’t let friends use testing data for training :-)."
   ]
  },
  {
   "cell_type": "code",
   "execution_count": 78,
   "metadata": {},
   "outputs": [],
   "source": [
    "# FIXME shoudl we use the \"untouched\" data and only then make changes to it? (e.g. adding columns, one-hot encoding, etc.)\n",
    "data = df"
   ]
  },
  {
   "cell_type": "code",
   "execution_count": 79,
   "metadata": {},
   "outputs": [],
   "source": [
    "# random seed for splitting the data deterministically\n",
    "RANDOM_SEED = 886"
   ]
  },
  {
   "cell_type": "code",
   "execution_count": 80,
   "metadata": {
    "scrolled": true
   },
   "outputs": [
    {
     "name": "stdout",
     "output_type": "stream",
     "text": [
      "total: (48193, 18)\n",
      "(28915, 18)\n",
      "(19278, 18)\n",
      "(9639, 18)\n",
      "(9639, 18)\n"
     ]
    }
   ],
   "source": [
    "# we'll split the dataset we've just cleaned into 60:20:20:\n",
    "# - test: 20%\n",
    "# - train & validation: 80%\n",
    "#   - train: 60%\n",
    "#   - validation: 20%\n",
    "\n",
    "from sklearn.model_selection import train_test_split\n",
    "\n",
    "print(f\"total: {data.shape}\")\n",
    "\n",
    "train_data, test_validation_data = train_test_split(data, train_size=0.6, test_size=0.4, random_state=RANDOM_SEED)\n",
    "print(train_data.shape) # 60%\n",
    "print(test_validation_data.shape) # 40%\n",
    "\n",
    "# now we split test and validation\n",
    "test_data, validation_data = train_test_split(test_validation_data, train_size=0.5, test_size=0.5, random_state=RANDOM_SEED)\n",
    "print(test_data.shape) # 20% of total\n",
    "print(validation_data.shape) # 20% of total"
   ]
  },
  {
   "cell_type": "code",
   "execution_count": 81,
   "metadata": {
    "scrolled": false
   },
   "outputs": [
    {
     "name": "stdout",
     "output_type": "stream",
     "text": [
      "                     holiday    temp  rain_1h  clouds_all  traffic_volume\n",
      "date_time                                                                \n",
      "2012-10-02 10:00:00        0  289.36      0.0          75            4516\n",
      "2012-10-02 12:00:00        0  290.13      0.0          90            5026\n",
      "2012-10-02 14:00:00        0  291.72      0.0           1            5181\n",
      "2012-10-02 15:00:00        0  293.17      0.0           1            5584\n",
      "2012-10-02 17:00:00        0  294.14      0.0          20            5791\n",
      "                     holiday    temp  rain_1h  clouds_all  traffic_volume\n",
      "date_time                                                                \n",
      "2012-10-02 09:00:00        0  288.28      0.0          40            5545\n",
      "2012-10-02 13:00:00        0  291.14      0.0          75            4918\n",
      "2012-10-02 16:00:00        0  293.86      0.0           1            6015\n",
      "2012-10-03 15:00:00        0  295.17      0.0           1            5692\n",
      "2012-10-03 23:00:00        0  285.26      0.0           1            1015\n",
      "                     holiday    temp  rain_1h  clouds_all  traffic_volume\n",
      "date_time                                                                \n",
      "2012-10-02 11:00:00        0  289.58      0.0          90            4767\n",
      "2012-10-03 06:00:00        0  278.23      0.0           1            5673\n",
      "2012-10-03 09:00:00        0  282.48      0.0           1            5471\n",
      "2012-10-03 14:00:00        0  294.31      0.0           1            5337\n",
      "2012-10-03 16:00:00        0  295.13      0.0           1            6137\n"
     ]
    }
   ],
   "source": [
    "# visualize the first values of each set\n",
    "def columns_not_to_show(dataframe, columns):\n",
    "    return dataframe.columns[~dataframe.columns.isin(columns)]\n",
    "\n",
    "dont_show = ([\"Clouds\", \"Drizzle\", \"Fog\", \"Haze\", \"Mist\", \"Rain\", \"Smoke\", \"Snow\", \"Squall\", \"Thunderstorm\"] + \n",
    "             [\"hour\", \"weekday\", \"weekofyear\"])\n",
    "\n",
    "print(train_data[columns_not_to_show(train_data, columns=dont_show)]\n",
    "      .sort_values(\"date_time\").head())\n",
    "print(validation_data[columns_not_to_show(validation_data, columns=dont_show)]\n",
    "      .sort_values(\"date_time\").head())\n",
    "\n",
    "print(test_data[columns_not_to_show(test_data, columns=dont_show)]\n",
    "      .sort_values(\"date_time\").head())"
   ]
  },
  {
   "cell_type": "code",
   "execution_count": 38,
   "metadata": {},
   "outputs": [],
   "source": [
    "# obs.: from now on, instead of the entire dataset ('data'), we'll use: 'train_data', 'validation_data', and 'test_data'\n",
    "data = None\n",
    "df = None"
   ]
  },
  {
   "cell_type": "markdown",
   "metadata": {},
   "source": [
    "### Normalize values\n",
    "\n",
    "It's important we **normalize our trainning data** and save the transformation we made to it so we can use the same values once we deal with validation and test (i.e. we don't want to be normalizing the test and validation sets based on their own values)."
   ]
  },
  {
   "cell_type": "code",
   "execution_count": 82,
   "metadata": {
    "scrolled": false
   },
   "outputs": [],
   "source": [
    "# NOTE: should we normalize 'traffic_volume', since it's our target?\n",
    "attrs_to_normalize = [\"traffic_volume\", \"temp\", \"rain_1h\", \"clouds_all\", \"hour\", \"weekday\", \"weekofyear\"]\n",
    "def get_stats(dataframe, columns, operations=['min', 'max', 'mean', 'median', 'std']):\n",
    "    return dataframe[columns].agg(operations)"
   ]
  },
  {
   "cell_type": "markdown",
   "metadata": {},
   "source": [
    "Z-score normalization: $ x \\leftarrow \\dfrac{x - \\mu}{\\sigma}$ (makes the mean 0 and the standard deviation 1)"
   ]
  },
  {
   "cell_type": "code",
   "execution_count": 89,
   "metadata": {},
   "outputs": [],
   "source": [
    "# mu = mean, sigma = stddev\n",
    "def z_score(x, mu, sigma):\n",
    "    return (x - mu) / sigma\n",
    "\n",
    "def normalize(dataset, stats):\n",
    "    for col in stats:\n",
    "        col_mean = stats.loc[\"mean\", col]\n",
    "        col_stddev = stats.loc[\"std\", col]\n",
    "        dataset.loc[:, col] = dataset.loc[:, col].apply(lambda x: z_score(x, mu=col_mean, sigma=col_stddev))\n"
   ]
  },
  {
   "cell_type": "code",
   "execution_count": 90,
   "metadata": {
    "scrolled": false
   },
   "outputs": [],
   "source": [
    "# NOTE: we must use 'train_stats' when normalizing 'validation_data' and 'test_data' aswell\n",
    "train_stats = get_stats(train_data, columns=attrs_to_normalize).copy()"
   ]
  },
  {
   "cell_type": "code",
   "execution_count": 91,
   "metadata": {},
   "outputs": [
    {
     "data": {
      "text/html": [
       "<div>\n",
       "<style scoped>\n",
       "    .dataframe tbody tr th:only-of-type {\n",
       "        vertical-align: middle;\n",
       "    }\n",
       "\n",
       "    .dataframe tbody tr th {\n",
       "        vertical-align: top;\n",
       "    }\n",
       "\n",
       "    .dataframe thead th {\n",
       "        text-align: right;\n",
       "    }\n",
       "</style>\n",
       "<table border=\"1\" class=\"dataframe\">\n",
       "  <thead>\n",
       "    <tr style=\"text-align: right;\">\n",
       "      <th></th>\n",
       "      <th>traffic_volume</th>\n",
       "      <th>temp</th>\n",
       "      <th>rain_1h</th>\n",
       "      <th>clouds_all</th>\n",
       "      <th>hour</th>\n",
       "      <th>weekday</th>\n",
       "      <th>weekofyear</th>\n",
       "    </tr>\n",
       "  </thead>\n",
       "  <tbody>\n",
       "    <tr>\n",
       "      <th>min</th>\n",
       "      <td>0.000000</td>\n",
       "      <td>243.620000</td>\n",
       "      <td>0.000000</td>\n",
       "      <td>0.000000</td>\n",
       "      <td>0.000000</td>\n",
       "      <td>0.000000</td>\n",
       "      <td>1.000000</td>\n",
       "    </tr>\n",
       "    <tr>\n",
       "      <th>max</th>\n",
       "      <td>7260.000000</td>\n",
       "      <td>310.070000</td>\n",
       "      <td>31.750000</td>\n",
       "      <td>100.000000</td>\n",
       "      <td>23.000000</td>\n",
       "      <td>6.000000</td>\n",
       "      <td>53.000000</td>\n",
       "    </tr>\n",
       "    <tr>\n",
       "      <th>mean</th>\n",
       "      <td>3251.698876</td>\n",
       "      <td>281.311355</td>\n",
       "      <td>0.131097</td>\n",
       "      <td>49.469929</td>\n",
       "      <td>11.366592</td>\n",
       "      <td>2.992426</td>\n",
       "      <td>26.529483</td>\n",
       "    </tr>\n",
       "    <tr>\n",
       "      <th>median</th>\n",
       "      <td>3382.000000</td>\n",
       "      <td>282.610000</td>\n",
       "      <td>0.000000</td>\n",
       "      <td>64.000000</td>\n",
       "      <td>11.000000</td>\n",
       "      <td>3.000000</td>\n",
       "      <td>27.000000</td>\n",
       "    </tr>\n",
       "    <tr>\n",
       "      <th>std</th>\n",
       "      <td>1989.789863</td>\n",
       "      <td>12.718151</td>\n",
       "      <td>0.962435</td>\n",
       "      <td>38.981579</td>\n",
       "      <td>6.947451</td>\n",
       "      <td>2.002828</td>\n",
       "      <td>14.805137</td>\n",
       "    </tr>\n",
       "  </tbody>\n",
       "</table>\n",
       "</div>"
      ],
      "text/plain": [
       "        traffic_volume        temp    rain_1h  clouds_all       hour  \\\n",
       "min           0.000000  243.620000   0.000000    0.000000   0.000000   \n",
       "max        7260.000000  310.070000  31.750000  100.000000  23.000000   \n",
       "mean       3251.698876  281.311355   0.131097   49.469929  11.366592   \n",
       "median     3382.000000  282.610000   0.000000   64.000000  11.000000   \n",
       "std        1989.789863   12.718151   0.962435   38.981579   6.947451   \n",
       "\n",
       "         weekday  weekofyear  \n",
       "min     0.000000    1.000000  \n",
       "max     6.000000   53.000000  \n",
       "mean    2.992426   26.529483  \n",
       "median  3.000000   27.000000  \n",
       "std     2.002828   14.805137  "
      ]
     },
     "execution_count": 91,
     "metadata": {},
     "output_type": "execute_result"
    }
   ],
   "source": [
    "train_stats"
   ]
  },
  {
   "cell_type": "code",
   "execution_count": 92,
   "metadata": {},
   "outputs": [],
   "source": [
    "normalize(train_data, train_stats)\n",
    "normalize(validation_data, train_stats)\n",
    "normalize(test_data, train_stats)"
   ]
  },
  {
   "cell_type": "code",
   "execution_count": 93,
   "metadata": {},
   "outputs": [
    {
     "data": {
      "text/html": [
       "<div>\n",
       "<style scoped>\n",
       "    .dataframe tbody tr th:only-of-type {\n",
       "        vertical-align: middle;\n",
       "    }\n",
       "\n",
       "    .dataframe tbody tr th {\n",
       "        vertical-align: top;\n",
       "    }\n",
       "\n",
       "    .dataframe thead th {\n",
       "        text-align: right;\n",
       "    }\n",
       "</style>\n",
       "<table border=\"1\" class=\"dataframe\">\n",
       "  <thead>\n",
       "    <tr style=\"text-align: right;\">\n",
       "      <th></th>\n",
       "      <th>traffic_volume</th>\n",
       "      <th>temp</th>\n",
       "      <th>rain_1h</th>\n",
       "      <th>clouds_all</th>\n",
       "      <th>hour</th>\n",
       "      <th>weekday</th>\n",
       "      <th>weekofyear</th>\n",
       "    </tr>\n",
       "  </thead>\n",
       "  <tbody>\n",
       "    <tr>\n",
       "      <th>min</th>\n",
       "      <td>-1.634192e+00</td>\n",
       "      <td>-2.963588e+00</td>\n",
       "      <td>-1.362139e-01</td>\n",
       "      <td>-1.269059e+00</td>\n",
       "      <td>-1.636081e+00</td>\n",
       "      <td>-1.494100e+00</td>\n",
       "      <td>-1.724367e+00</td>\n",
       "    </tr>\n",
       "    <tr>\n",
       "      <th>max</th>\n",
       "      <td>2.014434e+00</td>\n",
       "      <td>2.261228e+00</td>\n",
       "      <td>3.285302e+01</td>\n",
       "      <td>1.296255e+00</td>\n",
       "      <td>1.674486e+00</td>\n",
       "      <td>1.501663e+00</td>\n",
       "      <td>1.787928e+00</td>\n",
       "    </tr>\n",
       "    <tr>\n",
       "      <th>mean</th>\n",
       "      <td>-5.639618e-17</td>\n",
       "      <td>1.445168e-15</td>\n",
       "      <td>-1.326969e-17</td>\n",
       "      <td>-3.587731e-17</td>\n",
       "      <td>9.669672e-17</td>\n",
       "      <td>6.905153e-17</td>\n",
       "      <td>8.649872e-17</td>\n",
       "    </tr>\n",
       "    <tr>\n",
       "      <th>median</th>\n",
       "      <td>6.548487e-02</td>\n",
       "      <td>1.021096e-01</td>\n",
       "      <td>-1.362139e-01</td>\n",
       "      <td>3.727420e-01</td>\n",
       "      <td>-5.276637e-02</td>\n",
       "      <td>3.781614e-03</td>\n",
       "      <td>3.178066e-02</td>\n",
       "    </tr>\n",
       "    <tr>\n",
       "      <th>std</th>\n",
       "      <td>1.000000e+00</td>\n",
       "      <td>1.000000e+00</td>\n",
       "      <td>1.000000e+00</td>\n",
       "      <td>1.000000e+00</td>\n",
       "      <td>1.000000e+00</td>\n",
       "      <td>1.000000e+00</td>\n",
       "      <td>1.000000e+00</td>\n",
       "    </tr>\n",
       "  </tbody>\n",
       "</table>\n",
       "</div>"
      ],
      "text/plain": [
       "        traffic_volume          temp       rain_1h    clouds_all  \\\n",
       "min      -1.634192e+00 -2.963588e+00 -1.362139e-01 -1.269059e+00   \n",
       "max       2.014434e+00  2.261228e+00  3.285302e+01  1.296255e+00   \n",
       "mean     -5.639618e-17  1.445168e-15 -1.326969e-17 -3.587731e-17   \n",
       "median    6.548487e-02  1.021096e-01 -1.362139e-01  3.727420e-01   \n",
       "std       1.000000e+00  1.000000e+00  1.000000e+00  1.000000e+00   \n",
       "\n",
       "                hour       weekday    weekofyear  \n",
       "min    -1.636081e+00 -1.494100e+00 -1.724367e+00  \n",
       "max     1.674486e+00  1.501663e+00  1.787928e+00  \n",
       "mean    9.669672e-17  6.905153e-17  8.649872e-17  \n",
       "median -5.276637e-02  3.781614e-03  3.178066e-02  \n",
       "std     1.000000e+00  1.000000e+00  1.000000e+00  "
      ]
     },
     "execution_count": 93,
     "metadata": {},
     "output_type": "execute_result"
    }
   ],
   "source": [
    "# we should now see mean~=0 and std~=1 for all attributes\n",
    "get_stats(train_data, columns=attrs_to_normalize)"
   ]
  },
  {
   "cell_type": "code",
   "execution_count": 94,
   "metadata": {
    "scrolled": true
   },
   "outputs": [
    {
     "data": {
      "text/html": [
       "<div>\n",
       "<style scoped>\n",
       "    .dataframe tbody tr th:only-of-type {\n",
       "        vertical-align: middle;\n",
       "    }\n",
       "\n",
       "    .dataframe tbody tr th {\n",
       "        vertical-align: top;\n",
       "    }\n",
       "\n",
       "    .dataframe thead th {\n",
       "        text-align: right;\n",
       "    }\n",
       "</style>\n",
       "<table border=\"1\" class=\"dataframe\">\n",
       "  <thead>\n",
       "    <tr style=\"text-align: right;\">\n",
       "      <th></th>\n",
       "      <th>traffic_volume</th>\n",
       "      <th>temp</th>\n",
       "      <th>rain_1h</th>\n",
       "      <th>clouds_all</th>\n",
       "      <th>hour</th>\n",
       "      <th>weekday</th>\n",
       "      <th>weekofyear</th>\n",
       "    </tr>\n",
       "  </thead>\n",
       "  <tbody>\n",
       "    <tr>\n",
       "      <th>min</th>\n",
       "      <td>-1.633187</td>\n",
       "      <td>-2.916411</td>\n",
       "      <td>-0.136214</td>\n",
       "      <td>-1.269059</td>\n",
       "      <td>-1.636081</td>\n",
       "      <td>-1.494100</td>\n",
       "      <td>-1.724367</td>\n",
       "    </tr>\n",
       "    <tr>\n",
       "      <th>max</th>\n",
       "      <td>2.024486</td>\n",
       "      <td>2.166875</td>\n",
       "      <td>28.509871</td>\n",
       "      <td>1.296255</td>\n",
       "      <td>1.674486</td>\n",
       "      <td>1.501663</td>\n",
       "      <td>1.787928</td>\n",
       "    </tr>\n",
       "    <tr>\n",
       "      <th>mean</th>\n",
       "      <td>-0.002413</td>\n",
       "      <td>-0.004492</td>\n",
       "      <td>-0.003558</td>\n",
       "      <td>-0.001274</td>\n",
       "      <td>0.003695</td>\n",
       "      <td>-0.020409</td>\n",
       "      <td>-0.005134</td>\n",
       "    </tr>\n",
       "    <tr>\n",
       "      <th>median</th>\n",
       "      <td>0.039854</td>\n",
       "      <td>0.087957</td>\n",
       "      <td>-0.136214</td>\n",
       "      <td>0.372742</td>\n",
       "      <td>-0.052766</td>\n",
       "      <td>0.003782</td>\n",
       "      <td>0.031781</td>\n",
       "    </tr>\n",
       "    <tr>\n",
       "      <th>std</th>\n",
       "      <td>0.999531</td>\n",
       "      <td>0.991586</td>\n",
       "      <td>0.984716</td>\n",
       "      <td>1.003229</td>\n",
       "      <td>1.004600</td>\n",
       "      <td>1.002367</td>\n",
       "      <td>1.004213</td>\n",
       "    </tr>\n",
       "  </tbody>\n",
       "</table>\n",
       "</div>"
      ],
      "text/plain": [
       "        traffic_volume      temp    rain_1h  clouds_all      hour   weekday  \\\n",
       "min          -1.633187 -2.916411  -0.136214   -1.269059 -1.636081 -1.494100   \n",
       "max           2.024486  2.166875  28.509871    1.296255  1.674486  1.501663   \n",
       "mean         -0.002413 -0.004492  -0.003558   -0.001274  0.003695 -0.020409   \n",
       "median        0.039854  0.087957  -0.136214    0.372742 -0.052766  0.003782   \n",
       "std           0.999531  0.991586   0.984716    1.003229  1.004600  1.002367   \n",
       "\n",
       "        weekofyear  \n",
       "min      -1.724367  \n",
       "max       1.787928  \n",
       "mean     -0.005134  \n",
       "median    0.031781  \n",
       "std       1.004213  "
      ]
     },
     "execution_count": 94,
     "metadata": {},
     "output_type": "execute_result"
    }
   ],
   "source": [
    "# we should now see mean close to 0 and std close to 1\n",
    "get_stats(validation_data, columns=attrs_to_normalize)"
   ]
  },
  {
   "cell_type": "code",
   "execution_count": 95,
   "metadata": {},
   "outputs": [
    {
     "data": {
      "text/html": [
       "<div>\n",
       "<style scoped>\n",
       "    .dataframe tbody tr th:only-of-type {\n",
       "        vertical-align: middle;\n",
       "    }\n",
       "\n",
       "    .dataframe tbody tr th {\n",
       "        vertical-align: top;\n",
       "    }\n",
       "\n",
       "    .dataframe thead th {\n",
       "        text-align: right;\n",
       "    }\n",
       "</style>\n",
       "<table border=\"1\" class=\"dataframe\">\n",
       "  <thead>\n",
       "    <tr style=\"text-align: right;\">\n",
       "      <th></th>\n",
       "      <th>traffic_volume</th>\n",
       "      <th>temp</th>\n",
       "      <th>rain_1h</th>\n",
       "      <th>clouds_all</th>\n",
       "      <th>hour</th>\n",
       "      <th>weekday</th>\n",
       "      <th>weekofyear</th>\n",
       "    </tr>\n",
       "  </thead>\n",
       "  <tbody>\n",
       "    <tr>\n",
       "      <th>min</th>\n",
       "      <td>-1.633690</td>\n",
       "      <td>-2.981672</td>\n",
       "      <td>-0.136214</td>\n",
       "      <td>-1.269059</td>\n",
       "      <td>-1.636081</td>\n",
       "      <td>-1.494100</td>\n",
       "      <td>-1.724367</td>\n",
       "    </tr>\n",
       "    <tr>\n",
       "      <th>max</th>\n",
       "      <td>2.004886</td>\n",
       "      <td>2.117340</td>\n",
       "      <td>57.665081</td>\n",
       "      <td>1.296255</td>\n",
       "      <td>1.674486</td>\n",
       "      <td>1.501663</td>\n",
       "      <td>1.787928</td>\n",
       "    </tr>\n",
       "    <tr>\n",
       "      <th>mean</th>\n",
       "      <td>0.023709</td>\n",
       "      <td>-0.014208</td>\n",
       "      <td>-0.000366</td>\n",
       "      <td>-0.011294</td>\n",
       "      <td>0.019882</td>\n",
       "      <td>0.000829</td>\n",
       "      <td>-0.007566</td>\n",
       "    </tr>\n",
       "    <tr>\n",
       "      <th>median</th>\n",
       "      <td>0.094131</td>\n",
       "      <td>0.047070</td>\n",
       "      <td>-0.136214</td>\n",
       "      <td>0.372742</td>\n",
       "      <td>-0.052766</td>\n",
       "      <td>0.003782</td>\n",
       "      <td>0.031781</td>\n",
       "    </tr>\n",
       "    <tr>\n",
       "      <th>std</th>\n",
       "      <td>0.992685</td>\n",
       "      <td>1.004940</td>\n",
       "      <td>1.210833</td>\n",
       "      <td>1.000922</td>\n",
       "      <td>0.990190</td>\n",
       "      <td>1.005025</td>\n",
       "      <td>1.007924</td>\n",
       "    </tr>\n",
       "  </tbody>\n",
       "</table>\n",
       "</div>"
      ],
      "text/plain": [
       "        traffic_volume      temp    rain_1h  clouds_all      hour   weekday  \\\n",
       "min          -1.633690 -2.981672  -0.136214   -1.269059 -1.636081 -1.494100   \n",
       "max           2.004886  2.117340  57.665081    1.296255  1.674486  1.501663   \n",
       "mean          0.023709 -0.014208  -0.000366   -0.011294  0.019882  0.000829   \n",
       "median        0.094131  0.047070  -0.136214    0.372742 -0.052766  0.003782   \n",
       "std           0.992685  1.004940   1.210833    1.000922  0.990190  1.005025   \n",
       "\n",
       "        weekofyear  \n",
       "min      -1.724367  \n",
       "max       1.787928  \n",
       "mean     -0.007566  \n",
       "median    0.031781  \n",
       "std       1.007924  "
      ]
     },
     "execution_count": 95,
     "metadata": {},
     "output_type": "execute_result"
    }
   ],
   "source": [
    "# we should now see mean close to 0 and std close to 1\n",
    "get_stats(test_data, columns=attrs_to_normalize)"
   ]
  },
  {
   "cell_type": "markdown",
   "metadata": {},
   "source": [
    "### Save the split data, normalized with the train set values of mean and stddev"
   ]
  },
  {
   "cell_type": "code",
   "execution_count": 96,
   "metadata": {},
   "outputs": [],
   "source": [
    "train_data.to_csv(\"train_dataset.csv\")\n",
    "validation_data.to_csv(\"validation_dataset.csv\")\n",
    "\n",
    "test_data.to_csv(\"test_dataset.csv\") # and now don't touch it anymore"
   ]
  },
  {
   "cell_type": "markdown",
   "metadata": {},
   "source": [
    "## 2. $(3 pts)$ Perform Linear Regression.\n",
    "**You should implement your solution** and compare it with [sklearn.linear model.SGDRegressor](https://scikit-learn.org/stable/modules/generated/sklearn.linear_model.SGDRegressor.html) (“linear model fitted by minimizing a regularized empirical loss with [SGD](https://scikit-learn.org/stable/modules/sgd.html)”). What are the conclusions?"
   ]
  },
  {
   "cell_type": "code",
   "execution_count": null,
   "metadata": {},
   "outputs": [],
   "source": []
  },
  {
   "cell_type": "markdown",
   "metadata": {},
   "source": [
    "### Hypothesis: \n",
    "$h_{\\theta}(x) = \\theta^T x = \\theta_0 + \\theta_1 x_1 + ... + \\theta_n x_n$, where:\n",
    "\n",
    "- $x = (x_0, x_1, ..., x_n)$, with $x_0 = 1$ and the values from $1$ to $n$ are taken from rows of our dataset.\n",
    "- $\\theta = (\\theta_0, \\theta_1, ..., \\theta_n)$ are the parameters.\n",
    "\n",
    "### Cost function: \n",
    "$J(\\theta) = \\dfrac{1}{2m} \\sum\\limits_{i=1}^m (h_{\\theta}(x^{(i)}) - y^{(i)})^2 \\; \\Longrightarrow \\; \n",
    "\\dfrac{\\partial J(\\theta)}{\\partial \\theta_j} = \\dfrac{1}{m} \\sum\\limits_{i=1}^m (\\,(h_{\\theta}(x^{(i)}) - y^{(i)}) \\, x_j^{(i)}\\,)$, where:\n",
    "\n",
    "- $m$ is the number of examples.\n",
    "- $n$ is the number of features.\n",
    "- $x^{(i)} = (1, x_1^{(i)}, ..., x_n^{(i)})$ are the features of the $i^{th}$ training example ($\\forall{i},\\,x_0^{(i)} = 1$).\n",
    "- $x_j^{(i)}$ is the value of feature $j$ of the $i^{th}$ training example.\n",
    "- $y = (y^{(1)}, ..., y^{(m)})$ are the target values.\n",
    "- $y^{(i)}$ is the target value for the $i^{th}$ training example."
   ]
  },
  {
   "cell_type": "code",
   "execution_count": 97,
   "metadata": {},
   "outputs": [],
   "source": [
    "# theta is an array of 'params' of shape=(n_features, 1)\n",
    "# -> (n+1) x 1\n",
    "\n",
    "# X is a matrix of 'data', with each line being an 'example', of shape=(n_examples, n_features)\n",
    "# -> m x (n+1)\n",
    "\n",
    "# y is an array of 'target' values for each example of shape=(n_examples, 1)\n",
    "# -> m x 1\n",
    "\n",
    "''' Returns a scalar, corresponding to the value of J(theta). '''\n",
    "def loss_function(theta, X, y):\n",
    "    assert(X.shape[0] == y.shape[0])\n",
    "    assert(X.shape[1] == theta.shape[0])\n",
    "    m = X.shape[0] # number of examples\n",
    "    \n",
    "    loss = X.dot(theta) # estimate of y (h_theta(X))\n",
    "    loss = loss - y     # error between estimate and real y values (h_theta(X) - y)\n",
    "    loss = loss**2      # squared error of each element (h_theta(X) - y)**2\n",
    "    \n",
    "    # J(theta) = 1 / (2m) * sum((h_theta(X) - y)**2)\n",
    "    return 0.5 * (1 / m) * loss.sum()\n",
    "\n",
    "    #return 0.5 * (1 / m) * np.sum((X.dot(theta) - y)**2)\n"
   ]
  },
  {
   "cell_type": "code",
   "execution_count": 98,
   "metadata": {},
   "outputs": [],
   "source": [
    "''' Returns a (n+1) x 1 array with the gradient values for each theta_j. '''\n",
    "def eval_gradient(theta, X, y):\n",
    "    assert(X.shape[0] == y.shape[0])\n",
    "    assert(X.shape[1] == theta.shape[0])\n",
    "    m = X.shape[0]\n",
    "    \n",
    "    # h_theta(X) = X • theta\n",
    "    loss_partial_theta = X.dot(theta)\n",
    "    \n",
    "    # h_theta(X) - y\n",
    "    loss_partial_theta = loss_partial_theta - y\n",
    "    \n",
    "    # X_transposed • (h_theta(X) - y)\n",
    "    loss_partial_theta = X.T.dot(loss_partial_theta)\n",
    "    \n",
    "    # gradient for every theta (an array with each j-th element being the partial derivative of J with respect to theta_j)\n",
    "    return (1 / m) * loss_partial_theta\n",
    "\n",
    "    #return (1 / m) * np.dot(X.T, X.dot(theta) - y)\n"
   ]
  },
  {
   "cell_type": "markdown",
   "metadata": {},
   "source": [
    "### Gradient descent: \n",
    "Given the learning rate $\\alpha$:\n",
    "\n",
    "**repeat {** $\\theta_j := \\theta_j - \\alpha \\dfrac{\\partial J(\\theta)}{\\partial \\theta_j}$ \n",
    "**}** (simultaneously update for $j = 0, 1, ..., n$)\n",
    "\n",
    "If we consider a matrix $\\mathbb{X}$, with each row $i$ equal to $x^{(i)}$ transposed ($1 \\leq i \\leq m$), we have:\n",
    "$\\theta := \\theta - \\alpha (\\,\\frac{1}{m} \\mathbb{X}^T (\\mathbb{X} \\theta - y)\\,)$"
   ]
  },
  {
   "cell_type": "code",
   "execution_count": 99,
   "metadata": {},
   "outputs": [],
   "source": [
    "np.random.seed(RANDOM_SEED) # use for reproducibility"
   ]
  },
  {
   "cell_type": "code",
   "execution_count": 102,
   "metadata": {},
   "outputs": [],
   "source": [
    "''' Returns a (n+1) x 1 array with the updated values for each parameter theta_j. \n",
    "\n",
    "    If batch_size is specified, acts as a Mini Batch GD, otherwise, it works like Vanilla GD.\n",
    "\n",
    "    Assumes that 'X' is a matrix with shape=(n_examples, n_features), with a first column of 1's, and that\n",
    "    'y' is an array of shape=(n_examples, 1) with the corresponding target values for each row of 'X'.\n",
    "    \n",
    "    n_examples = m\n",
    "    n_features = n+1 (x_0 = 1 for every row i in [1, m], i.e. X[i, 0] = 1)\n",
    "'''\n",
    "def batch_GD_step(theta, X, y, learning_rate, batch_size=None):\n",
    "    if not batch_size:\n",
    "        # vanilla\n",
    "        theta_grad = eval_gradient(theta, X, y)\n",
    "        theta = theta - learning_rate * theta_grad\n",
    "    else:\n",
    "        # mini batch\n",
    "        X, y = shuffled_X_y(X, y, seed=RANDOM_SEED)\n",
    "        for batch_X, batch_y in get_batches(X, y, batch_size):\n",
    "            theta_grad = eval_gradient(theta, batch_X, batch_y)\n",
    "            theta = theta - learning_rate * theta_grad\n",
    "    return theta"
   ]
  },
  {
   "cell_type": "code",
   "execution_count": 103,
   "metadata": {},
   "outputs": [],
   "source": [
    "''' Returns a (n+1) x 1 array with the updated values for each parameter theta_j. \n",
    "\n",
    "    Assumes that 'X' is a matrix with shape=(n_examples, n_features), with a first column of 1's, and that\n",
    "    'y' is an array of shape=(n_examples, 1) with the corresponding target values for each row of 'X'.\n",
    "    \n",
    "    n_examples = m\n",
    "    n_features = n+1 (x_0 = 1 for every row i in [1, m], i.e. X[i, 0] = 1)\n",
    "'''\n",
    "def stochastic_GD_step(theta, X, y, learning_rate):\n",
    "    X, y = shuffled_X_y(X, y, seed=RANDOM_SEED)\n",
    "    for sample_X, sample_y in zip(X, y):\n",
    "        theta_grad = eval_gradient(theta, sample_X, sample_y)\n",
    "        theta = theta - learning_rate * theta_grad\n",
    "    return theta"
   ]
  },
  {
   "cell_type": "code",
   "execution_count": 104,
   "metadata": {},
   "outputs": [],
   "source": [
    "def vanilla_GD(theta, train_X_y, validation_X_y, learning_rate, n_epochs):\n",
    "    X, y = train_X_y\n",
    "    val_X, val_y = validation_X_y\n",
    "    \n",
    "    loss = loss_function(theta, X, y)\n",
    "    val_loss = loss_function(theta, val_X, val_y)\n",
    "    \n",
    "    # stores the best values for minimizing J(theta) on the validation set\n",
    "    best_params = theta.copy()\n",
    "    best_val_loss = val_loss\n",
    "    \n",
    "    # save the loss values for plotting\n",
    "    plot_dict = { \n",
    "        \"loss\": [loss], # training set\n",
    "        \"val_loss\": [val_loss] # validation set\n",
    "    }\n",
    "    \n",
    "    for epoch in n_epochs:\n",
    "        theta = batch_GD_step(theta, X, y, learning_rate)\n",
    "    \n",
    "        loss = loss_function(theta, X, y)\n",
    "        plot_dict[\"loss\"].append(loss) # training set\n",
    "        \n",
    "        val_loss = loss_function(theta, val_X, val_y)\n",
    "        plot_dict[\"val_loss\"].append(val_loss) # validation set\n",
    "        \n",
    "        # update the best loss and store the current parameters if val_loss < best_val_loss\n",
    "        if val_loss < best_val_loss:\n",
    "            best_val_loss = val_loss\n",
    "            best_params = theta.copy()\n",
    "        \n",
    "        print(f\"[{epoch}] loss: {loss:.4f} | validation loss: {val_loss:.4f}\", end='\\r')\n",
    "        \n",
    "    return best_params, plot_dict\n",
    "    "
   ]
  },
  {
   "cell_type": "markdown",
   "metadata": {},
   "source": [
    "### Compute X and y\n",
    "Let's add our datasets' features to $\\mathbb{X}$ (plus $x_0 = 1$) and it's target values to $y$, so we can train our model.\n",
    "\n",
    "For this, we'll make the target value 'traffic_volume' column the last one in the dataset so we can easily split the data."
   ]
  },
  {
   "cell_type": "code",
   "execution_count": 170,
   "metadata": {
    "scrolled": true
   },
   "outputs": [],
   "source": [
    "columns = [col for col in train_data.columns.values if col != \"traffic_volume\"]\n",
    "\n",
    "train_data = train_data[columns + [\"traffic_volume\"]]\n",
    "validation_data = validation_data[columns + [\"traffic_volume\"]]\n",
    "\n",
    "test_data = test_data[columns + [\"traffic_volume\"]]"
   ]
  },
  {
   "cell_type": "code",
   "execution_count": 173,
   "metadata": {},
   "outputs": [],
   "source": [
    "# NOTE: assumes target values are in the last column of 'dataset'\n",
    "def split_X_y(dataset):\n",
    "    dataset = dataset.to_numpy(copy=True)\n",
    "    m = dataset.shape[0] # number of examples\n",
    "    X = np.c_[np.ones(shape=(m, 1)), dataset[:, :-1]] # add a column of x_0's equal to 1\n",
    "    y = dataset[:, -1:]\n",
    "    return X, y"
   ]
  },
  {
   "cell_type": "code",
   "execution_count": 176,
   "metadata": {},
   "outputs": [],
   "source": [
    "X, y = split_X_y(train_data)"
   ]
  },
  {
   "cell_type": "code",
   "execution_count": 197,
   "metadata": {
    "scrolled": false
   },
   "outputs": [],
   "source": [
    "# # check if the values are correct\n",
    "# for i in range(2):\n",
    "#     print(f\"dataset: {train_data.iloc[i].values}\\n\") # should be equal to np.append(X[i, 1:], y[i])\n",
    "#     print(f\"check:   {np.append(X[i, 1:], y[i])}\\n\")\n",
    "#     print(f\"X: {X[i]}\\n\")\n",
    "#     print(f\"y: {y[i]}\\n\\n\")"
   ]
  },
  {
   "cell_type": "markdown",
   "metadata": {},
   "source": [
    "### Normal equation: $\\theta = (\\mathbb{X}^T \\mathbb{X})^{-1} \\mathbb{X}^T y$"
   ]
  },
  {
   "cell_type": "code",
   "execution_count": 79,
   "metadata": {},
   "outputs": [],
   "source": [
    "# NOTE: assumes the same structure to 'data' as described above\n",
    "\n",
    "''' Returns a (n+1) x 1 array with the parameter values theta_j that minimize J(theta). '''\n",
    "def normal_equation(data):\n",
    "    X = data[:, :-1]\n",
    "    y = data[:, -1:]\n",
    "    # minimizes the sum of the square differences\n",
    "    return numpy.linalg.inv(X.T.dot(X)).dot(X.T.dot(y))\n",
    "    "
   ]
  },
  {
   "cell_type": "markdown",
   "metadata": {},
   "source": [
    "### scikit-learn SGD Regressor"
   ]
  },
  {
   "cell_type": "code",
   "execution_count": null,
   "metadata": {},
   "outputs": [],
   "source": []
  },
  {
   "cell_type": "markdown",
   "metadata": {},
   "source": [
    "## 3. $(0.75 pts)$ Plot the cost function $vs.$ number of iterations in the training set and analyze the model complexity.\n",
    "What are the conclusions? What are the actions after such analyses?"
   ]
  },
  {
   "cell_type": "code",
   "execution_count": null,
   "metadata": {},
   "outputs": [],
   "source": []
  },
  {
   "cell_type": "markdown",
   "metadata": {},
   "source": [
    "## 4. $(1 pts)$ Use different Gradient Descent (GD) learning rates when optimizing. Compare the GD-based solutions with Normal Equation.\n",
    "**You should implement your solutions**. What are the conclusions?"
   ]
  },
  {
   "cell_type": "code",
   "execution_count": null,
   "metadata": {},
   "outputs": [],
   "source": []
  },
  {
   "cell_type": "markdown",
   "metadata": {},
   "source": [
    "## 5. $(4 pts)$ Prepare a 4-page (max.) report with all your findings.\n",
    "It is UP TO YOU to convince the reader that you are proficient on linear regression and the choices it entails.\n",
    "\n",
    "## 6. $(1 pts)$ You should provide a single Jupyter notebook with your solution (in Python 3 code)."
   ]
  }
 ],
 "metadata": {
  "kernelspec": {
   "display_name": "Python 3",
   "language": "python",
   "name": "python3"
  },
  "language_info": {
   "codemirror_mode": {
    "name": "ipython",
    "version": 3
   },
   "file_extension": ".py",
   "mimetype": "text/x-python",
   "name": "python",
   "nbconvert_exporter": "python",
   "pygments_lexer": "ipython3",
   "version": "3.7.4"
  }
 },
 "nbformat": 4,
 "nbformat_minor": 2
}
